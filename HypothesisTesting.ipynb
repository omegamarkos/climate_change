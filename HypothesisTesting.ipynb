{
 "cells": [
  {
   "cell_type": "markdown",
   "metadata": {},
   "source": [
    "# Hypothesis Testing \n",
    "###### Effect of climate change on crop production \n",
    "\n"
   ]
  },
  {
   "cell_type": "code",
   "execution_count": 179,
   "metadata": {},
   "outputs": [],
   "source": [
    "import pandas as pd\n",
    "import numpy as np\n",
    "import seaborn as sns \n",
    "import matplotlib.pyplot as plt\n",
    "%matplotlib inline\n",
    "# Suppress warnings from pandas\n",
    "import warnings\n",
    "warnings.filterwarnings('ignore')\n",
    "from sklearn.model_selection import train_test_split, cross_val_score\n",
    "from sklearn.linear_model import LogisticRegression\n",
    "from sklearn.ensemble import RandomForestClassifier\n",
    "from sklearn.tree import DecisionTreeClassifier, export_graphviz\n",
    "from sklearn import metrics\n",
    "from sklearn.metrics import precision_score ,recall_score, f1_score\n",
    "from sklearn.metrics import accuracy_score"
   ]
  },
  {
   "cell_type": "code",
   "execution_count": 2,
   "metadata": {
    "scrolled": true
   },
   "outputs": [],
   "source": [
    "from plotly.offline import iplot, init_notebook_mode,download_plotlyjs\n",
    "import plotly.graph_objects as go\n",
    "import plotly.express as px"
   ]
  },
  {
   "cell_type": "code",
   "execution_count": 3,
   "metadata": {},
   "outputs": [],
   "source": [
    "#use this code to be able to display all the output in the cell instead of only displaying the out put for the last one. see the next cell.\n",
    "from IPython.core.interactiveshell import InteractiveShell  \n",
    "InteractiveShell.ast_node_interactivity = \"all\""
   ]
  },
  {
   "cell_type": "markdown",
   "metadata": {},
   "source": [
    "# Load data set:"
   ]
  },
  {
   "cell_type": "code",
   "execution_count": null,
   "metadata": {},
   "outputs": [],
   "source": [
    "df_prod=pd.read_csv('FAOSTAT_crop_production.csv') # Total yearly crop production in tonnes by country\n",
    "df_reg =pd.read_csv('regional_code.csv') #  regions for the country data \n",
    "df_crop =pd.read_csv('FAOSTAT_data_main_crop_yield.csv') # crop yield per hectare\n",
    "df_temp = pd.read_csv('global_temp_change.csv')"
   ]
  },
  {
   "cell_type": "code",
   "execution_count": 5,
   "metadata": {},
   "outputs": [
    {
     "data": {
      "text/html": [
       "<div>\n",
       "<style scoped>\n",
       "    .dataframe tbody tr th:only-of-type {\n",
       "        vertical-align: middle;\n",
       "    }\n",
       "\n",
       "    .dataframe tbody tr th {\n",
       "        vertical-align: top;\n",
       "    }\n",
       "\n",
       "    .dataframe thead th {\n",
       "        text-align: right;\n",
       "    }\n",
       "</style>\n",
       "<table border=\"1\" class=\"dataframe\">\n",
       "  <thead>\n",
       "    <tr style=\"text-align: right;\">\n",
       "      <th></th>\n",
       "      <th>Domain Code</th>\n",
       "      <th>Domain</th>\n",
       "      <th>Area Code</th>\n",
       "      <th>Area</th>\n",
       "      <th>Element Code</th>\n",
       "      <th>Element</th>\n",
       "      <th>Item Code</th>\n",
       "      <th>Item</th>\n",
       "      <th>Year Code</th>\n",
       "      <th>Year</th>\n",
       "      <th>Unit</th>\n",
       "      <th>Value</th>\n",
       "      <th>Flag</th>\n",
       "      <th>Flag Description</th>\n",
       "    </tr>\n",
       "  </thead>\n",
       "  <tbody>\n",
       "    <tr>\n",
       "      <th>0</th>\n",
       "      <td>QC</td>\n",
       "      <td>Crops</td>\n",
       "      <td>2</td>\n",
       "      <td>Afghanistan</td>\n",
       "      <td>5419</td>\n",
       "      <td>Yield</td>\n",
       "      <td>44</td>\n",
       "      <td>Barley</td>\n",
       "      <td>1961</td>\n",
       "      <td>1961</td>\n",
       "      <td>hg/ha</td>\n",
       "      <td>10800.0</td>\n",
       "      <td>Fc</td>\n",
       "      <td>Calculated data</td>\n",
       "    </tr>\n",
       "    <tr>\n",
       "      <th>1</th>\n",
       "      <td>QC</td>\n",
       "      <td>Crops</td>\n",
       "      <td>2</td>\n",
       "      <td>Afghanistan</td>\n",
       "      <td>5419</td>\n",
       "      <td>Yield</td>\n",
       "      <td>44</td>\n",
       "      <td>Barley</td>\n",
       "      <td>1962</td>\n",
       "      <td>1962</td>\n",
       "      <td>hg/ha</td>\n",
       "      <td>10800.0</td>\n",
       "      <td>Fc</td>\n",
       "      <td>Calculated data</td>\n",
       "    </tr>\n",
       "    <tr>\n",
       "      <th>2</th>\n",
       "      <td>QC</td>\n",
       "      <td>Crops</td>\n",
       "      <td>2</td>\n",
       "      <td>Afghanistan</td>\n",
       "      <td>5419</td>\n",
       "      <td>Yield</td>\n",
       "      <td>44</td>\n",
       "      <td>Barley</td>\n",
       "      <td>1963</td>\n",
       "      <td>1963</td>\n",
       "      <td>hg/ha</td>\n",
       "      <td>10800.0</td>\n",
       "      <td>Fc</td>\n",
       "      <td>Calculated data</td>\n",
       "    </tr>\n",
       "    <tr>\n",
       "      <th>3</th>\n",
       "      <td>QC</td>\n",
       "      <td>Crops</td>\n",
       "      <td>2</td>\n",
       "      <td>Afghanistan</td>\n",
       "      <td>5419</td>\n",
       "      <td>Yield</td>\n",
       "      <td>44</td>\n",
       "      <td>Barley</td>\n",
       "      <td>1964</td>\n",
       "      <td>1964</td>\n",
       "      <td>hg/ha</td>\n",
       "      <td>10857.0</td>\n",
       "      <td>Fc</td>\n",
       "      <td>Calculated data</td>\n",
       "    </tr>\n",
       "    <tr>\n",
       "      <th>4</th>\n",
       "      <td>QC</td>\n",
       "      <td>Crops</td>\n",
       "      <td>2</td>\n",
       "      <td>Afghanistan</td>\n",
       "      <td>5419</td>\n",
       "      <td>Yield</td>\n",
       "      <td>44</td>\n",
       "      <td>Barley</td>\n",
       "      <td>1965</td>\n",
       "      <td>1965</td>\n",
       "      <td>hg/ha</td>\n",
       "      <td>10857.0</td>\n",
       "      <td>Fc</td>\n",
       "      <td>Calculated data</td>\n",
       "    </tr>\n",
       "  </tbody>\n",
       "</table>\n",
       "</div>"
      ],
      "text/plain": [
       "  Domain Code Domain  Area Code         Area  Element Code Element  Item Code  \\\n",
       "0          QC  Crops          2  Afghanistan          5419   Yield         44   \n",
       "1          QC  Crops          2  Afghanistan          5419   Yield         44   \n",
       "2          QC  Crops          2  Afghanistan          5419   Yield         44   \n",
       "3          QC  Crops          2  Afghanistan          5419   Yield         44   \n",
       "4          QC  Crops          2  Afghanistan          5419   Yield         44   \n",
       "\n",
       "     Item  Year Code  Year   Unit    Value Flag Flag Description  \n",
       "0  Barley       1961  1961  hg/ha  10800.0   Fc  Calculated data  \n",
       "1  Barley       1962  1962  hg/ha  10800.0   Fc  Calculated data  \n",
       "2  Barley       1963  1963  hg/ha  10800.0   Fc  Calculated data  \n",
       "3  Barley       1964  1964  hg/ha  10857.0   Fc  Calculated data  \n",
       "4  Barley       1965  1965  hg/ha  10857.0   Fc  Calculated data  "
      ]
     },
     "execution_count": 5,
     "metadata": {},
     "output_type": "execute_result"
    }
   ],
   "source": [
    "df_crop.head()"
   ]
  },
  {
   "cell_type": "code",
   "execution_count": 6,
   "metadata": {},
   "outputs": [
    {
     "data": {
      "text/html": [
       "<meta charset=\"UTF-8\">\n",
       "\n",
       "<style>\n",
       "\n",
       "        .variablerow {\n",
       "            border: 1px solid #e1e1e8;\n",
       "            border-top: hidden;\n",
       "            padding-top: 2em;\n",
       "            padding-bottom: 2em;\n",
       "            padding-left: 1em;\n",
       "            padding-right: 1em;\n",
       "        }\n",
       "\n",
       "        .headerrow {\n",
       "            border: 1px solid #e1e1e8;\n",
       "            background-color: #f5f5f5;\n",
       "            padding: 2em;\n",
       "        }\n",
       "        .namecol {\n",
       "            margin-top: -1em;\n",
       "            overflow-x: auto;\n",
       "        }\n",
       "\n",
       "        .dl-horizontal dt {\n",
       "            text-align: left;\n",
       "            padding-right: 1em;\n",
       "            white-space: normal;\n",
       "        }\n",
       "\n",
       "        .dl-horizontal dd {\n",
       "            margin-left: 0;\n",
       "        }\n",
       "\n",
       "        .ignore {\n",
       "            opacity: 0.4;\n",
       "        }\n",
       "\n",
       "        .container.pandas-profiling {\n",
       "            max-width:975px;\n",
       "        }\n",
       "\n",
       "        .col-md-12 {\n",
       "            padding-left: 2em;\n",
       "        }\n",
       "\n",
       "        .indent {\n",
       "            margin-left: 1em;\n",
       "        }\n",
       "\n",
       "        .center-img {\n",
       "            margin-left: auto !important;\n",
       "            margin-right: auto !important;\n",
       "            display: block;\n",
       "        }\n",
       "\n",
       "        /* Table example_values */\n",
       "            table.example_values {\n",
       "                border: 0;\n",
       "            }\n",
       "\n",
       "            .example_values th {\n",
       "                border: 0;\n",
       "                padding: 0 ;\n",
       "                color: #555;\n",
       "                font-weight: 600;\n",
       "            }\n",
       "\n",
       "            .example_values tr, .example_values td{\n",
       "                border: 0;\n",
       "                padding: 0;\n",
       "                color: #555;\n",
       "            }\n",
       "\n",
       "        /* STATS */\n",
       "            table.stats {\n",
       "                border: 0;\n",
       "            }\n",
       "\n",
       "            .stats th {\n",
       "                border: 0;\n",
       "                padding: 0 2em 0 0;\n",
       "                color: #555;\n",
       "                font-weight: 600;\n",
       "            }\n",
       "\n",
       "            .stats tr {\n",
       "                border: 0;\n",
       "            }\n",
       "\n",
       "            .stats td{\n",
       "                color: #555;\n",
       "                padding: 1px;\n",
       "                border: 0;\n",
       "            }\n",
       "\n",
       "\n",
       "        /* Sample table */\n",
       "            table.sample {\n",
       "                border: 0;\n",
       "                margin-bottom: 2em;\n",
       "                margin-left:1em;\n",
       "            }\n",
       "            .sample tr {\n",
       "                border:0;\n",
       "            }\n",
       "            .sample td, .sample th{\n",
       "                padding: 0.5em;\n",
       "                white-space: nowrap;\n",
       "                border: none;\n",
       "\n",
       "            }\n",
       "\n",
       "            .sample thead {\n",
       "                border-top: 0;\n",
       "                border-bottom: 2px solid #ddd;\n",
       "            }\n",
       "\n",
       "            .sample td {\n",
       "                width:100%;\n",
       "            }\n",
       "\n",
       "\n",
       "        /* There is no good solution available to make the divs equal height and then center ... */\n",
       "            .histogram {\n",
       "                margin-top: 3em;\n",
       "            }\n",
       "        /* Freq table */\n",
       "\n",
       "            table.freq {\n",
       "                margin-bottom: 2em;\n",
       "                border: 0;\n",
       "            }\n",
       "            table.freq th, table.freq tr, table.freq td {\n",
       "                border: 0;\n",
       "                padding: 0;\n",
       "            }\n",
       "\n",
       "            .freq thead {\n",
       "                font-weight: 600;\n",
       "                white-space: nowrap;\n",
       "                overflow: hidden;\n",
       "                text-overflow: ellipsis;\n",
       "\n",
       "            }\n",
       "\n",
       "            td.fillremaining{\n",
       "                width:auto;\n",
       "                max-width: none;\n",
       "            }\n",
       "\n",
       "            td.number, th.number {\n",
       "                text-align:right ;\n",
       "            }\n",
       "\n",
       "        /* Freq mini */\n",
       "            .freq.mini td{\n",
       "                width: 50%;\n",
       "                padding: 1px;\n",
       "                font-size: 12px;\n",
       "\n",
       "            }\n",
       "            table.freq.mini {\n",
       "                 width:100%;\n",
       "            }\n",
       "            .freq.mini th {\n",
       "                overflow: hidden;\n",
       "                text-overflow: ellipsis;\n",
       "                white-space: nowrap;\n",
       "                max-width: 5em;\n",
       "                font-weight: 400;\n",
       "                text-align:right;\n",
       "                padding-right: 0.5em;\n",
       "            }\n",
       "\n",
       "            .missing {\n",
       "                color: #a94442;\n",
       "            }\n",
       "            .alert, .alert > th, .alert > td {\n",
       "                color: #a94442;\n",
       "            }\n",
       "\n",
       "\n",
       "        /* Bars in tables */\n",
       "            .freq .bar{\n",
       "                float: left;\n",
       "                width: 0;\n",
       "                height: 100%;\n",
       "                line-height: 20px;\n",
       "                color: #fff;\n",
       "                text-align: center;\n",
       "                background-color: #337ab7;\n",
       "                border-radius: 3px;\n",
       "                margin-right: 4px;\n",
       "            }\n",
       "            .other .bar {\n",
       "                background-color: #999;\n",
       "            }\n",
       "            .missing .bar{\n",
       "                background-color: #a94442;\n",
       "            }\n",
       "            .tooltip-inner {\n",
       "                width: 100%;\n",
       "                white-space: nowrap;\n",
       "                text-align:left;\n",
       "            }\n",
       "\n",
       "            .extrapadding{\n",
       "                padding: 2em;\n",
       "            }\n",
       "\n",
       "            .pp-anchor{\n",
       "\n",
       "            }\n",
       "\n",
       "</style>\n",
       "\n",
       "<div class=\"container pandas-profiling\">\n",
       "    <div class=\"row headerrow highlight\">\n",
       "        <h1>Overview</h1>\n",
       "    </div>\n",
       "    <div class=\"row variablerow\">\n",
       "    <div class=\"col-md-6 namecol\">\n",
       "        <p class=\"h4\">Dataset info</p>\n",
       "        <table class=\"stats\" style=\"margin-left: 1em;\">\n",
       "            <tbody>\n",
       "            <tr>\n",
       "                <th>Number of variables</th>\n",
       "                <td>14 </td>\n",
       "            </tr>\n",
       "            <tr>\n",
       "                <th>Number of observations</th>\n",
       "                <td>37322 </td>\n",
       "            </tr>\n",
       "            <tr>\n",
       "                <th>Total Missing (%)</th>\n",
       "                <td>0.0% </td>\n",
       "            </tr>\n",
       "            <tr>\n",
       "                <th>Total size in memory</th>\n",
       "                <td>4.0 MiB </td>\n",
       "            </tr>\n",
       "            <tr>\n",
       "                <th>Average record size in memory</th>\n",
       "                <td>112.0 B </td>\n",
       "            </tr>\n",
       "            </tbody>\n",
       "        </table>\n",
       "    </div>\n",
       "    <div class=\"col-md-6 namecol\">\n",
       "        <p class=\"h4\">Variables types</p>\n",
       "        <table class=\"stats\" style=\"margin-left: 1em;\">\n",
       "            <tbody>\n",
       "            <tr>\n",
       "                <th>Numeric</th>\n",
       "                <td>4 </td>\n",
       "            </tr>\n",
       "            <tr>\n",
       "                <th>Categorical</th>\n",
       "                <td>4 </td>\n",
       "            </tr>\n",
       "            <tr>\n",
       "                <th>Boolean</th>\n",
       "                <td>0 </td>\n",
       "            </tr>\n",
       "            <tr>\n",
       "                <th>Date</th>\n",
       "                <td>0 </td>\n",
       "            </tr>\n",
       "            <tr>\n",
       "                <th>Text (Unique)</th>\n",
       "                <td>0 </td>\n",
       "            </tr>\n",
       "            <tr>\n",
       "                <th>Rejected</th>\n",
       "                <td>6 </td>\n",
       "            </tr>\n",
       "            <tr>\n",
       "                <th>Unsupported</th>\n",
       "                <td>0 </td>\n",
       "            </tr>\n",
       "            </tbody>\n",
       "        </table>\n",
       "    </div>\n",
       "    <div class=\"col-md-12\" style=\"padding-left: 1em;\">\n",
       "        \n",
       "        <p class=\"h4\">Warnings</p>\n",
       "        <ul class=\"list-unstyled\"><li><a href=\"#pp_var_Area\"><code>Area</code></a> has a high cardinality: 197 distinct values  <span class=\"label label-warning\">Warning</span></li><li><a href=\"#pp_var_Domain\"><code>Domain</code></a> has constant value Crops <span class=\"label label-primary\">Rejected</span></li><li><a href=\"#pp_var_Domain Code\"><code>Domain Code</code></a> has constant value QC <span class=\"label label-primary\">Rejected</span></li><li><a href=\"#pp_var_Element\"><code>Element</code></a> has constant value Yield <span class=\"label label-primary\">Rejected</span></li><li><a href=\"#pp_var_Element Code\"><code>Element Code</code></a> has constant value 5419 <span class=\"label label-primary\">Rejected</span></li><li><a href=\"#pp_var_Unit\"><code>Unit</code></a> has constant value hg/ha <span class=\"label label-primary\">Rejected</span></li><li><a href=\"#pp_var_Year\"><code>Year</code></a> is highly correlated with <a href=\"#pp_var_Year Code\"><code>Year Code</code></a> (ρ = 1) <span class=\"label label-primary\">Rejected</span></li> </ul>\n",
       "    </div>\n",
       "</div>\n",
       "    <div class=\"row headerrow highlight\">\n",
       "        <h1>Variables</h1>\n",
       "    </div>\n",
       "    <div class=\"row variablerow\">\n",
       "    <div class=\"col-md-3 namecol\">\n",
       "        <p class=\"h4 pp-anchor\" id=\"pp_var_Area\">Area<br/>\n",
       "            <small>Categorical</small>\n",
       "        </p>\n",
       "    </div><div class=\"col-md-3\">\n",
       "    <table class=\"stats \">\n",
       "        <tr class=\"alert\">\n",
       "            <th>Distinct count</th>\n",
       "            <td>197</td>\n",
       "        </tr>\n",
       "        <tr>\n",
       "            <th>Unique (%)</th>\n",
       "            <td>0.5%</td>\n",
       "        </tr>\n",
       "        <tr class=\"ignore\">\n",
       "            <th>Missing (%)</th>\n",
       "            <td>0.0%</td>\n",
       "        </tr>\n",
       "        <tr class=\"ignore\">\n",
       "            <th>Missing (n)</th>\n",
       "            <td>0</td>\n",
       "        </tr>\n",
       "    </table>\n",
       "</div>\n",
       "<div class=\"col-md-6 collapse in\" id=\"minifreqtable6736018146190691444\">\n",
       "    <table class=\"mini freq\">\n",
       "        <tr class=\"\">\n",
       "    <th>Argentina</th>\n",
       "    <td>\n",
       "        <div class=\"bar\" style=\"width:1%\" data-toggle=\"tooltip\" data-placement=\"right\" data-html=\"true\"\n",
       "             data-delay=500 title=\"Percentage: 0.9%\">\n",
       "            &nbsp;\n",
       "        </div>\n",
       "        348\n",
       "    </td>\n",
       "</tr><tr class=\"\">\n",
       "    <th>Australia</th>\n",
       "    <td>\n",
       "        <div class=\"bar\" style=\"width:1%\" data-toggle=\"tooltip\" data-placement=\"right\" data-html=\"true\"\n",
       "             data-delay=500 title=\"Percentage: 0.9%\">\n",
       "            &nbsp;\n",
       "        </div>\n",
       "        348\n",
       "    </td>\n",
       "</tr><tr class=\"\">\n",
       "    <th>South Africa</th>\n",
       "    <td>\n",
       "        <div class=\"bar\" style=\"width:1%\" data-toggle=\"tooltip\" data-placement=\"right\" data-html=\"true\"\n",
       "             data-delay=500 title=\"Percentage: 0.9%\">\n",
       "            &nbsp;\n",
       "        </div>\n",
       "        348\n",
       "    </td>\n",
       "</tr><tr class=\"other\">\n",
       "    <th>Other values (194)</th>\n",
       "    <td>\n",
       "        <div class=\"bar\" style=\"width:100%\" data-toggle=\"tooltip\" data-placement=\"right\" data-html=\"true\"\n",
       "             data-delay=500 title=\"Percentage: 97.2%\">\n",
       "            36278\n",
       "        </div>\n",
       "        \n",
       "    </td>\n",
       "</tr>\n",
       "    </table>\n",
       "</div>\n",
       "<div class=\"col-md-12 text-right\">\n",
       "    <a role=\"button\" data-toggle=\"collapse\" data-target=\"#freqtable6736018146190691444, #minifreqtable6736018146190691444\"\n",
       "       aria-expanded=\"true\" aria-controls=\"collapseExample\">\n",
       "        Toggle details\n",
       "    </a>\n",
       "</div>\n",
       "<div class=\"col-md-12 extrapadding collapse\" id=\"freqtable6736018146190691444\">\n",
       "    \n",
       "<table class=\"freq table table-hover\">\n",
       "    <thead>\n",
       "    <tr>\n",
       "        <td class=\"fillremaining\">Value</td>\n",
       "        <td class=\"number\">Count</td>\n",
       "        <td class=\"number\">Frequency (%)</td>\n",
       "        <td style=\"min-width:200px\">&nbsp;</td>\n",
       "    </tr>\n",
       "    </thead>\n",
       "    <tr class=\"\">\n",
       "        <td class=\"fillremaining\">Argentina</td>\n",
       "        <td class=\"number\">348</td>\n",
       "        <td class=\"number\">0.9%</td>\n",
       "        <td>\n",
       "            <div class=\"bar\" style=\"width:2%\">&nbsp;</div>\n",
       "        </td>\n",
       "</tr><tr class=\"\">\n",
       "        <td class=\"fillremaining\">Australia</td>\n",
       "        <td class=\"number\">348</td>\n",
       "        <td class=\"number\">0.9%</td>\n",
       "        <td>\n",
       "            <div class=\"bar\" style=\"width:2%\">&nbsp;</div>\n",
       "        </td>\n",
       "</tr><tr class=\"\">\n",
       "        <td class=\"fillremaining\">South Africa</td>\n",
       "        <td class=\"number\">348</td>\n",
       "        <td class=\"number\">0.9%</td>\n",
       "        <td>\n",
       "            <div class=\"bar\" style=\"width:2%\">&nbsp;</div>\n",
       "        </td>\n",
       "</tr><tr class=\"\">\n",
       "        <td class=\"fillremaining\">Kenya</td>\n",
       "        <td class=\"number\">348</td>\n",
       "        <td class=\"number\">0.9%</td>\n",
       "        <td>\n",
       "            <div class=\"bar\" style=\"width:2%\">&nbsp;</div>\n",
       "        </td>\n",
       "</tr><tr class=\"\">\n",
       "        <td class=\"fillremaining\">Zimbabwe</td>\n",
       "        <td class=\"number\">348</td>\n",
       "        <td class=\"number\">0.9%</td>\n",
       "        <td>\n",
       "            <div class=\"bar\" style=\"width:2%\">&nbsp;</div>\n",
       "        </td>\n",
       "</tr><tr class=\"\">\n",
       "        <td class=\"fillremaining\">Iraq</td>\n",
       "        <td class=\"number\">348</td>\n",
       "        <td class=\"number\">0.9%</td>\n",
       "        <td>\n",
       "            <div class=\"bar\" style=\"width:2%\">&nbsp;</div>\n",
       "        </td>\n",
       "</tr><tr class=\"\">\n",
       "        <td class=\"fillremaining\">United States of America</td>\n",
       "        <td class=\"number\">348</td>\n",
       "        <td class=\"number\">0.9%</td>\n",
       "        <td>\n",
       "            <div class=\"bar\" style=\"width:2%\">&nbsp;</div>\n",
       "        </td>\n",
       "</tr><tr class=\"\">\n",
       "        <td class=\"fillremaining\">United Republic of Tanzania</td>\n",
       "        <td class=\"number\">348</td>\n",
       "        <td class=\"number\">0.9%</td>\n",
       "        <td>\n",
       "            <div class=\"bar\" style=\"width:2%\">&nbsp;</div>\n",
       "        </td>\n",
       "</tr><tr class=\"\">\n",
       "        <td class=\"fillremaining\">Bangladesh</td>\n",
       "        <td class=\"number\">348</td>\n",
       "        <td class=\"number\">0.9%</td>\n",
       "        <td>\n",
       "            <div class=\"bar\" style=\"width:2%\">&nbsp;</div>\n",
       "        </td>\n",
       "</tr><tr class=\"\">\n",
       "        <td class=\"fillremaining\">India</td>\n",
       "        <td class=\"number\">348</td>\n",
       "        <td class=\"number\">0.9%</td>\n",
       "        <td>\n",
       "            <div class=\"bar\" style=\"width:2%\">&nbsp;</div>\n",
       "        </td>\n",
       "</tr><tr class=\"other\">\n",
       "        <td class=\"fillremaining\">Other values (187)</td>\n",
       "        <td class=\"number\">33842</td>\n",
       "        <td class=\"number\">90.7%</td>\n",
       "        <td>\n",
       "            <div class=\"bar\" style=\"width:100%\">&nbsp;</div>\n",
       "        </td>\n",
       "</tr>\n",
       "</table>\n",
       "</div>\n",
       "</div><div class=\"row variablerow\">\n",
       "    <div class=\"col-md-3 namecol\">\n",
       "        <p class=\"h4 pp-anchor\" id=\"pp_var_Area Code\">Area Code<br/>\n",
       "            <small>Numeric</small>\n",
       "        </p>\n",
       "    </div><div class=\"col-md-6\">\n",
       "    <div class=\"row\">\n",
       "        <div class=\"col-sm-6\">\n",
       "            <table class=\"stats \">\n",
       "                <tr>\n",
       "                    <th>Distinct count</th>\n",
       "                    <td>197</td>\n",
       "                </tr>\n",
       "                <tr>\n",
       "                    <th>Unique (%)</th>\n",
       "                    <td>0.5%</td>\n",
       "                </tr>\n",
       "                <tr class=\"ignore\">\n",
       "                    <th>Missing (%)</th>\n",
       "                    <td>0.0%</td>\n",
       "                </tr>\n",
       "                <tr class=\"ignore\">\n",
       "                    <th>Missing (n)</th>\n",
       "                    <td>0</td>\n",
       "                </tr>\n",
       "                <tr class=\"ignore\">\n",
       "                    <th>Infinite (%)</th>\n",
       "                    <td>0.0%</td>\n",
       "                </tr>\n",
       "                <tr class=\"ignore\">\n",
       "                    <th>Infinite (n)</th>\n",
       "                    <td>0</td>\n",
       "                </tr>\n",
       "            </table>\n",
       "\n",
       "        </div>\n",
       "        <div class=\"col-sm-6\">\n",
       "            <table class=\"stats \">\n",
       "\n",
       "                <tr>\n",
       "                    <th>Mean</th>\n",
       "                    <td>128.63</td>\n",
       "                </tr>\n",
       "                <tr>\n",
       "                    <th>Minimum</th>\n",
       "                    <td>1</td>\n",
       "                </tr>\n",
       "                <tr>\n",
       "                    <th>Maximum</th>\n",
       "                    <td>351</td>\n",
       "                </tr>\n",
       "                <tr class=\"ignore\">\n",
       "                    <th>Zeros (%)</th>\n",
       "                    <td>0.0%</td>\n",
       "                </tr>\n",
       "            </table>\n",
       "        </div>\n",
       "    </div>\n",
       "</div>\n",
       "<div class=\"col-md-3 collapse in\" id=\"minihistogram5462218468724442381\">\n",
       "    <img src=\"data:image/png;base64,iVBORw0KGgoAAAANSUhEUgAAAMgAAABLCAYAAAA1fMjoAAAABHNCSVQICAgIfAhkiAAAAAlwSFlzAAAPYQAAD2EBqD%2BnaQAAADl0RVh0U29mdHdhcmUAbWF0cGxvdGxpYiB2ZXJzaW9uIDMuMC4yLCBodHRwOi8vbWF0cGxvdGxpYi5vcmcvOIA7rQAAAd9JREFUeJzt3DGO00AYhuHfK9okfRQfAolDcCA6akqOQs8huEWiHMAWBQUxxRIa4FN2pYyT%2BHnKONLY0ryZcSy5m6ZpqsYOh0P1fd96WO7cfr%2Bv3W7XdMw3TUf7bbVaVdXzBa/X6zlOgTsyDEP1ff9n3rQ0SyBd11VV1Xq9vqtA3n38%2BqLvf/v0/kpnskznedPSU/MR4Y4IBIJZtljJS7cxVbe7lXmka1kqKwgEAoHg5rZYr2Erw7U8RCBL5%2B/n67HFgsAKcmNes13keqwgECx2BfFLzSWsIBAIBAKBQCAQCAQCgUAgEAgEAoFAIBAIBAKBQCAQCAQCgUAgEAgEAoFAIBAIBAKBQCAQCAQCgUAgEAgEi30v1pJ52fflrCAQCAQCgUAgEAgEAoFAIBAIBAKBwINCruYRHkhaQSCYZQWZpqmqqoZh%2BOvYzx/fW58OF3j74UuTcf41J86fnedNS7MEMo5jVVX1fT/H8Nywzef/HxvHsTabTbuTqapumiHL0%2BlUx%2BOxVqtVdV3XenjuzDRNNY5jbbfbenpqe1cwSyBwL9ykQyAQCAQCgUAgEAgEAoFAIBAIBAKBQCAQCAQCgUAgEAgEAoFAIBAIBAKBQCAQCAQCgUAgEAgEAoFAIBD8AvnBVp/1fHPFAAAAAElFTkSuQmCC\">\n",
       "\n",
       "</div>\n",
       "<div class=\"col-md-12 text-right\">\n",
       "    <a role=\"button\" data-toggle=\"collapse\" data-target=\"#descriptives5462218468724442381,#minihistogram5462218468724442381\"\n",
       "       aria-expanded=\"false\" aria-controls=\"collapseExample\">\n",
       "        Toggle details\n",
       "    </a>\n",
       "</div>\n",
       "<div class=\"row collapse col-md-12\" id=\"descriptives5462218468724442381\">\n",
       "    <ul class=\"nav nav-tabs\" role=\"tablist\">\n",
       "        <li role=\"presentation\" class=\"active\"><a href=\"#quantiles5462218468724442381\"\n",
       "                                                  aria-controls=\"quantiles5462218468724442381\" role=\"tab\"\n",
       "                                                  data-toggle=\"tab\">Statistics</a></li>\n",
       "        <li role=\"presentation\"><a href=\"#histogram5462218468724442381\" aria-controls=\"histogram5462218468724442381\"\n",
       "                                   role=\"tab\" data-toggle=\"tab\">Histogram</a></li>\n",
       "        <li role=\"presentation\"><a href=\"#common5462218468724442381\" aria-controls=\"common5462218468724442381\"\n",
       "                                   role=\"tab\" data-toggle=\"tab\">Common Values</a></li>\n",
       "        <li role=\"presentation\"><a href=\"#extreme5462218468724442381\" aria-controls=\"extreme5462218468724442381\"\n",
       "                                   role=\"tab\" data-toggle=\"tab\">Extreme Values</a></li>\n",
       "\n",
       "    </ul>\n",
       "\n",
       "    <div class=\"tab-content\">\n",
       "        <div role=\"tabpanel\" class=\"tab-pane active row\" id=\"quantiles5462218468724442381\">\n",
       "            <div class=\"col-md-4 col-md-offset-1\">\n",
       "                <p class=\"h4\">Quantile statistics</p>\n",
       "                <table class=\"stats indent\">\n",
       "                    <tr>\n",
       "                        <th>Minimum</th>\n",
       "                        <td>1</td>\n",
       "                    </tr>\n",
       "                    <tr>\n",
       "                        <th>5-th percentile</th>\n",
       "                        <td>10</td>\n",
       "                    </tr>\n",
       "                    <tr>\n",
       "                        <th>Q1</th>\n",
       "                        <td>60</td>\n",
       "                    </tr>\n",
       "                    <tr>\n",
       "                        <th>Median</th>\n",
       "                        <td>129</td>\n",
       "                    </tr>\n",
       "                    <tr>\n",
       "                        <th>Q3</th>\n",
       "                        <td>194</td>\n",
       "                    </tr>\n",
       "                    <tr>\n",
       "                        <th>95-th percentile</th>\n",
       "                        <td>238</td>\n",
       "                    </tr>\n",
       "                    <tr>\n",
       "                        <th>Maximum</th>\n",
       "                        <td>351</td>\n",
       "                    </tr>\n",
       "                    <tr>\n",
       "                        <th>Range</th>\n",
       "                        <td>350</td>\n",
       "                    </tr>\n",
       "                    <tr>\n",
       "                        <th>Interquartile range</th>\n",
       "                        <td>134</td>\n",
       "                    </tr>\n",
       "                </table>\n",
       "            </div>\n",
       "            <div class=\"col-md-4 col-md-offset-2\">\n",
       "                <p class=\"h4\">Descriptive statistics</p>\n",
       "                <table class=\"stats indent\">\n",
       "                    <tr>\n",
       "                        <th>Standard deviation</th>\n",
       "                        <td>76.352</td>\n",
       "                    </tr>\n",
       "                    <tr>\n",
       "                        <th>Coef of variation</th>\n",
       "                        <td>0.59358</td>\n",
       "                    </tr>\n",
       "                    <tr>\n",
       "                        <th>Kurtosis</th>\n",
       "                        <td>-0.7286</td>\n",
       "                    </tr>\n",
       "                    <tr>\n",
       "                        <th>Mean</th>\n",
       "                        <td>128.63</td>\n",
       "                    </tr>\n",
       "                    <tr>\n",
       "                        <th>MAD</th>\n",
       "                        <td>64.613</td>\n",
       "                    </tr>\n",
       "                    <tr class=\"\">\n",
       "                        <th>Skewness</th>\n",
       "                        <td>0.14709</td>\n",
       "                    </tr>\n",
       "                    <tr>\n",
       "                        <th>Sum</th>\n",
       "                        <td>4800706</td>\n",
       "                    </tr>\n",
       "                    <tr>\n",
       "                        <th>Variance</th>\n",
       "                        <td>5829.6</td>\n",
       "                    </tr>\n",
       "                    <tr>\n",
       "                        <th>Memory size</th>\n",
       "                        <td>291.7 KiB</td>\n",
       "                    </tr>\n",
       "                </table>\n",
       "            </div>\n",
       "        </div>\n",
       "        <div role=\"tabpanel\" class=\"tab-pane col-md-8 col-md-offset-2\" id=\"histogram5462218468724442381\">\n",
       "            <img src=\"data:image/png;base64,iVBORw0KGgoAAAANSUhEUgAAAlgAAAGQCAYAAAByNR6YAAAABHNCSVQICAgIfAhkiAAAAAlwSFlzAAAPYQAAD2EBqD%2BnaQAAADl0RVh0U29mdHdhcmUAbWF0cGxvdGxpYiB2ZXJzaW9uIDMuMC4yLCBodHRwOi8vbWF0cGxvdGxpYi5vcmcvOIA7rQAAIABJREFUeJzt3X10FPXd//9XJMmCabKGm2SzQDFaRTBIa%2BIFgSKIkoBE9KKt2mAkrc0llZvGwFcFTivaCl6KeIditVqtVaMeTA8eMRKtBrmScBOJEqRKK0qQhIANG6CwCeHz%2B8OT%2BbkmSNRPMm54Ps7Zc7Izn5l9v3cW8/Izk9kIY4wRAAAArDnF7QIAAAC6GwIWAACAZQQsAAAAywhYAAAAlhGwAAAALCNgAQAAWEbAAgAAsIyABQAAYBkBCwAAwDICFgAAgGUELAAAAMsIWAAAAJYRsAAAACwjYAEAAFhGwAIAALCMgAUAAGAZAQsAAMAyAhYAAIBlBCwAAADLCFgAAACWEbAAAAAsI2ABAABYRsACAACwjIAFAABgGQELAADAMgIWAACAZQQsAAAAywhYAAAAlhGwAAAALCNgAQAAWEbAAgAAsIyABQAAYBkBCwAAwDICFgAAgGUELAAAAMvCOmB9%2Bumnuuaaa9SnTx%2Bdeuqp%2BuEPf6jKykpnvTFGixYtkt/vV69evTRu3Dht3bo1ZB8NDQ3KycmR1%2BuV1%2BtVTk6O9u/fHzJmy5YtGjt2rHr16qX%2B/fvr9ttvlzGmS3oEAADhJ2wDVkNDg0aPHq2oqCi9%2Buqrev/993XPPffotNNOc8bcddddWrZsmZYvX66NGzfK5/NpwoQJOnDggDMmOztbVVVVKi4uVnFxsaqqqpSTk%2BOsb2xs1IQJE%2BT3%2B7Vx40Y9%2BOCDWrp0qZYtW9al/QIAgPARYcJ0KuaWW27R//3f/%2Bntt99ud70xRn6/X/n5%2Bbr55pslScFgUImJifrf//1fXX/99dq2bZuGDh2qiooKjRgxQpJUUVGh9PR0/eMf/9DgwYO1YsUKzZ8/X3v27JHH45Ek3XnnnXrwwQe1a9cuRUREdE3DAAAgbES6XcA3tWrVKmVmZupnP/uZSktL1b9/f91www3Ky8uTJO3YsUN1dXXKyMhwtvF4PBo7dqzKysp0/fXXq7y8XF6v1wlXkjRy5Eh5vV6VlZVp8ODBKi8v19ixY51wJUmZmZmaP3%2B%2BPv74YyUnJ5%2Bw1mPHjmn37t2KjY0lkAEA0EWMMTpw4ID8fr9OOaVrT9qFbcD66KOPtGLFChUUFGjBggXasGGD5syZI4/Ho2uvvVZ1dXWSpMTExJDtEhMT9cknn0iS6urqlJCQ0GbfCQkJzvZ1dXU6/fTT2%2ByjdV17ASsYDCoYDDrPP/30Uw0dOvSbNwsAAL6xmpoaDRgwoEtfM2wD1rFjx5SWlqbFixdLkn70ox9p69atWrFiha699lpn3JdnjIwxIcvam1E60ZjWs6rHm41asmSJbrvttjbLa2pqFBcXd6LWAACABY2NjRo4cKBiY2O7/LXDNmAlJSW1mRUaMmSIVq5cKUny%2BXySPp9lSkpKcsbU19c7M1A%2Bn0979uxps%2B%2B9e/eGjGmdzfriPqS2s2Ot5s%2Bfr4KCAud56wGOi4sjYAEA0MXcuDwnbP%2BKcPTo0frggw9Cln344YcaNGiQJCk5OVk%2Bn08lJSXO%2BqamJpWWlmrUqFGSpPT0dAUCAW3YsMEZs379egUCgZAxa9euVVNTkzNmzZo18vv9bU4dtvJ4PE6YIlQBAHDyCduAdeONN6qiokKLFy/WP//5Tz377LN69NFHNXPmTEmfp9X8/HwtXrxYRUVFqq6uVm5urk499VRlZ2dL%2BnzGa%2BLEicrLy1NFRYUqKiqUl5enrKwsDR48WNLnt3HweDzKzc1VdXW1ioqKtHjxYhUUFHDBOgAAaJ8JYy%2B//LJJSUkxHo/HnHPOOebRRx8NWX/s2DFz6623Gp/PZzwej7nwwgvNli1bQsZ89tlnZtq0aSY2NtbExsaaadOmmYaGhpAx7733nhkzZozxeDzG5/OZRYsWmWPHjnW4zkAgYCSZQCDwzZsFAABfi5u/f8P2PljhpLGxUV6vV4FAgNOFAAB0ETd//4btKUIAAIDvKgIWAACAZQQsAAAAywhYAAAAlhGwAAAALCNgAQAAWEbAAgAAsIyABQAAYFnYftkzgFBpC4vdLqHDNt0x0e0SAKBTMYMFAABgGQELAADAMgIWAACAZQQsAAAAywhYAAAAlhGwAAAALCNgAQAAWEbAAgAAsIyABQAAYBkBCwAAwDICFgAAgGUELAAAAMsIWAAAAJYRsAAAACwjYAEAAFhGwAIAALAs0u0C8O2kLSx2u4QO23THRLdLAACgSzCDBQAAYBkBCwAAwDJOEQLocuF0alvi9DaAr48ZLAAAAMsIWAAAAJYRsAAAACwjYAEAAFhGwAIAALCMgAUAAGAZAQsAAMAyAhYAAIBlBCwAAADLCFgAAACWEbAAAAAsI2ABAABYRsACAACwLGwD1qJFixQRERHy8Pl8znpjjBYtWiS/369evXpp3Lhx2rp1a8g%2BGhoalJOTI6/XK6/Xq5ycHO3fvz9kzJYtWzR27Fj16tVL/fv31%2B233y5jTJf0CAAAwlPYBixJOvfcc1VbW%2Bs8tmzZ4qy76667tGzZMi1fvlwbN26Uz%2BfThAkTdODAAWdMdna2qqqqVFxcrOLiYlVVVSknJ8dZ39jYqAkTJsjv92vjxo168MEHtXTpUi1btqxL%2BwQAAOEl0u0Cvo3IyMiQWatWxhjdd999WrhwoaZOnSpJeuqpp5SYmKhnn31W119/vbZt26bi4mJVVFRoxIgRkqTHHntM6enp%2BuCDDzR48GA988wzOnLkiJ588kl5PB6lpKToww8/1LJly1RQUKCIiIgu7RcAAISHsJ7B2r59u/x%2Bv5KTk3X11Vfro48%2BkiTt2LFDdXV1ysjIcMZ6PB6NHTtWZWVlkqTy8nJ5vV4nXEnSyJEj5fV6Q8aMHTtWHo/HGZOZmandu3fr448/7oIOAQBAOArbgDVixAj95S9/0WuvvabHHntMdXV1GjVqlD777DPV1dVJkhITE0O2SUxMdNbV1dUpISGhzX4TEhJCxrS3j9Z1xxMMBtXY2BjyAAAAJ4%2BwPUU4adIk5%2Bdhw4YpPT1dZ555pp566imNHDlSktqcwjPGhCxr7xTfica0XuD%2BVacHlyxZottuu%2B1rdHNySFtY7HYJX8umOya6XQIAIEyF7QzWl8XExGjYsGHavn27c13Wl2eZ6uvrnRkon8%2BnPXv2tNnP3r17Q8a0tw%2Bp7ezYF82fP1%2BBQMB51NTUfPPGAABA2Ok2ASsYDGrbtm1KSkpScnKyfD6fSkpKnPVNTU0qLS3VqFGjJEnp6ekKBALasGGDM2b9%2BvUKBAIhY9auXaumpiZnzJo1a%2BT3%2B3X66acftxaPx6O4uLiQBwAAOHmEbcCaN2%2BeSktLtWPHDq1fv14//elP1djYqOnTpysiIkL5%2BflavHixioqKVF1drdzcXJ166qnKzs6WJA0ZMkQTJ05UXl6eKioqVFFRoby8PGVlZWnw4MGSPr%2BNg8fjUW5urqqrq1VUVKTFixfzF4QAAOArhe01WLt27dLPf/5z7du3T/369dPIkSNVUVGhQYMGSZJuuukmHT58WDfccIMaGho0YsQIrVmzRrGxsc4%2BnnnmGc2ZM8f5a8MpU6Zo%2BfLlznqv16uSkhLNnDlTaWlpio%2BPV0FBgQoKCrq2WQAAEFYiDLcl73SNjY3yer0KBALWTxeG24Xj4STcLnLns9B5wu2zAOBznfn790TC9hQhAADAdxUBCwAAwLKwvQYLANC%2BcDpdzOlXdFfMYAEAAFhGwAIAALCMgAUAAGAZAQsAAMAyAhYAAIBlBCwAAADLCFgAAACWcR8sADiBcLqvFIDvBmawAAAALCNgAQAAWEbAAgAAsIyABQAAYBkBCwAAwDICFgAAgGUELAAAAMsIWAAAAJYRsAAAACwjYAEAAFhGwAIAALCMgAUAAGAZX/YMHAdf8AsA%2BKaYwQIAALCMgAUAAGAZAQsAAMAyAhYAAIBlBCwAAADLCFgAAACWEbAAAAAsI2ABAABYRsACAACwjIAFAABgGQELAADAMgIWAACAZQQsAAAAywhYAAAAlhGwAAAALCNgAQAAWEbAAgAAsIyABQAAYBkBCwAAwLJuE7CWLFmiiIgI5efnO8uCwaBmz56tvn37KiYmRlOmTNGuXbtCttu5c6cuu%2BwyxcTEqG/fvpozZ46amppCxpSWlio1NVU9e/bUGWecoUceeaRLegIAAOGpWwSsjRs36tFHH9V5550Xsjw/P19FRUUqLCzUunXrdPDgQWVlZamlpUWS1NLSosmTJ%2BvQoUNat26dCgsLtXLlSs2dO9fZx44dO3TppZdqzJgx2rx5sxYsWKA5c%2BZo5cqVXdojAAAIH5FuF/BtHTx4UNOmTdNjjz2mP/zhD87yQCCgxx9/XE8//bQuueQSSdJf//pXDRw4UK%2B//royMzO1Zs0avf/%2B%2B6qpqZHf75ck3XPPPcrNzdUdd9yhuLg4PfLII/r%2B97%2Bv%2B%2B67T5I0ZMgQbdq0SUuXLtVPfvKTrm8YAAB854X9DNbMmTM1efJkJ0S1qqysVHNzszIyMpxlfr9fKSkpKisrkySVl5crJSXFCVeSlJmZqWAwqMrKSmfMF/fROmbTpk1qbm5ut6ZgMKjGxsaQBwAAOHmEdcAqLCxUZWWllixZ0mZdXV2doqOjFR8fH7I8MTFRdXV1zpjExMSQ9fHx8YqOjv7KMYmJiTp69Kj27dvXbl1LliyR1%2Bt1HgMHDvzGPQIAgPATtgGrpqZGv/nNb/TMM8%2BoZ8%2BeHd7OGKOIiAjn%2BRd/7ugYY8xxt5Wk%2BfPnKxAIOI%2BampoO1wcAAMJf2AasyspK1dfXKzU1VZGRkYqMjFRpaakeeOABRUZGKjExUU1NTWpoaAjZrr6%2B3pmR8vl8zkxVq4aGBjU3N3/lmPr6ekVGRqpPnz7t1ubxeBQXFxfyAAAAJ4%2BwDVgXX3yxtmzZoqqqKueRlpamadOmOT9HRUWppKTE2aa2tlbV1dUaNWqUJCk9PV3V1dWqra11xqxZs0Yej0epqanOmC/uo3VM6/4BAAC%2BLGz/ijA2NlYpKSkhy2JiYtSnTx9n%2BXXXXae5c%2BeqT58%2B6t27t%2BbNm6dhw4Y5F8RnZGRo6NChysnJ0d13361///vfmjdvnvLy8pxZpxkzZmj58uUqKChQXl6eysvL9fjjj%2Bu5557r2oYBAEDYCNuA1RH33nuvIiMjdeWVV%2Brw4cO6%2BOKL9eSTT6pHjx6SpB49euiVV17RDTfcoNGjR6tXr17Kzs7W0qVLnX0kJydr9erVuvHGG/XQQw/J7/frgQce4BYNAADguCJM6xXb6DSNjY3yer0KBALWr8dKW1hsdX8A0JU23THR7RLQjXXm798TCdtrsAAAAL6rCFgAAACWEbAAAAAsI2ABAABYRsACAACwjIAFAABgGQELAADAMgIWAACAZQQsAAAAywhYAAAAlhGwAAAALCNgAQAAWOZKwPrrX/%2BqI0eOuPHSAAAAnc6VgFVQUCCfz6frr79eGzZscKMEAACATuNKwNq9e7eeeOIJ1dbW6sc//rHOPfdc3XPPPdq7d68b5QAAAFjlSsCKjIzU1KlTtWrVKu3cuVPTp0/XE088oQEDBmjq1Kl65ZVXZIxxozQAAIBvzfWL3H0%2Bny6%2B%2BGKNGzdOERER2rRpk7Kzs3XWWWfp7bffdrs8AACAr821gLVv3z7dd999Gj58uEaPHq36%2Bnr97W9/0yeffKJPP/1UWVlZuvbaa90qDwAA4BuLdONF//u//1urV69WcnKyfvWrX2n69Onq16%2Bfs/573/uebrrpJj3wwANulAcAAPCtuBKw4uLi9Prrr2vMmDHHHZOUlKTt27d3YVUAAAB2uBKwnnrqqROOiYiI0JlnntkF1QAAANjlyjVYN954o5YvX95m%2BUMPPaS5c%2Be6UBEAAIA9rgSsF198USNHjmyzPD09Xc8//7wLFQEAANjjSsDat2%2Bf4uPj2yyPi4vTvn37XKgIAADAHlcC1plnnqnXXnutzfLXXntNycnJLlQEAABgjysXuefn5ys/P1%2BfffaZxo8fL0l64403dNddd2np0qVulAQAAGCNKwErLy9PR44c0eLFi3XrrbdKkgYMGKAHHnhAv/zlL90oCQAAwBpXApYkzZ49W7Nnz1Ztba169eql0047za1SAAAArHItYLVKSkpyuwQAAACrXLnIfe/evfrFL36h73//%2B%2BrZs6eio6NDHgAAAOHMlRms3Nxc/etf/9L/%2B3//T0lJSYqIiHCjDAAAgE7hSsBau3at1q5dqx/96EduvDwAAECncuUU4YABA5i1AgAA3ZYrAevee%2B/V/PnztWvXLjdeHgAAoFO5coowJydHBw4c0KBBgxQXF6eoqKiQ9fX19W6UBQAAYIUrAevOO%2B9042UBAAC6hCsB67rrrnPjZQEAALqEK9dgSdLHH3%2BsRYsWKScnxzkluGbNGm3bts2tkgAAAKxwJWC9/fbbOvfcc1VaWqoXXnhBBw8elCS98847%2Bt3vfudGSQAAANa4ErBuvvlmLVq0SG%2B%2B%2BWbIndvHjx%2BviooKN0oCAACwxpWA9d577%2BmnP/1pm%2BUJCQnau3evCxUBAADY40rAOu2001RXV9dmeVVVlfr37%2B9CRQAAAPa4ErCuvvpq3XLLLdq7d69zR/f169dr3rx5uuaaazq0jxUrVui8885TXFyc4uLilJ6erldffdVZHwwGNXv2bPXt21cxMTGaMmVKmxub7ty5U5dddpliYmLUt29fzZkzR01NTSFjSktLlZqaqp49e%2BqMM87QI4888i27BwAA3Z0rAWvx4sXy%2BXxKSkrSwYMHNXToUI0aNUoXXHCBfvvb33ZoHwMGDNCdd96pTZs2adOmTRo/frwuv/xybd26VZKUn5%2BvoqIiFRYWat26dTp48KCysrLU0tIiSWppadHkyZN16NAhrVu3ToWFhVq5cqXmzp3rvMaOHTt06aWXasyYMdq8ebMWLFigOXPmaOXKlfbfFAAA0G1EGGOMWy/%2B4Ycf6p133tGxY8d0/vnn65xzzvlW%2B%2Bvdu7fuvvtu/fSnP1W/fv309NNP66qrrpIk7d69WwMHDtTq1auVmZmpV199VVlZWaqpqZHf75ckFRYWKjc3V/X19YqLi9PNN9%2BsVatWhdw6YsaMGXr33XdVXl7e4boaGxvl9XoVCAQUFxf3rXr8srSFxVb3BwBdadMdE90uAd1YZ/7%2BPRFXbjTa6uyzz9bZZ5/9rffT0tKiF198UYcOHVJ6eroqKyvV3NysjIwMZ4zf71dKSorKysqUmZmp8vJypaSkOOFKkjIzMxUMBlVZWamLLrpI5eXlIftoHfP444%2Brubm5zVf8tAoGgwoGg87zxsbGb90jAAAIH64ErP/5n//5yvWPPvpoh/azZcsWpaen68iRI/re976noqIiDR06VFVVVYqOjlZ8fHzI%2BMTEROfi%2Brq6OiUmJoasj4%2BPV3R09FeOSUxM1NGjR7Vv3z4lJSW1W9eSJUt02223dagHAADQ/bgSsGpra0OeNzc3a%2BvWrTpw4IAuvPDCDu9n8ODBqqqq0v79%2B7Vy5UpNnz5dpaWlxx1vjHEuqpcU8nNHx7SeUW1v21bz589XQUGB87yxsVEDBw48cUMAAKBbcCVgvfzyy22WHT16VL/%2B9a81ZMiQDu8nOjpaP/jBDyRJaWlp2rhxo%2B6//35dddVVampqUkNDQ8gsVn19vUaNGiVJ8vl8Wr9%2Bfcj%2BGhoa1Nzc7Mxa%2BXy%2BNreTqK%2BvV2RkpPr06XPcujwejzweT4f7AAAA3Ytr30X4ZZGRkZo3b57uvvvub7wPY4yCwaBSU1MVFRWlkpISZ11tba2qq6udgJWenq7q6uqQ2bQ1a9bI4/EoNTXVGfPFfbSOSUtLO%2B71VwAAAK5e5P5lH330kZqbmzs0dsGCBZo0aZIGDhyoAwcOqLCwUG%2B99ZaKi4vl9Xp13XXXae7cuerTp4969%2B6tefPmadiwYbrkkkskSRkZGRo6dKhycnJ0991369///rfmzZunvLw85y8NZsyYoeXLl6ugoEB5eXkqLy/X448/rueee67T3gMAABD%2BXAlYN910U8hzY4xqa2u1atUqTZs2rUP72LNnj3JyclRbWyuv16vzzjtPxcXFmjBhgiTp3nvvVWRkpK688kodPnxYF198sZ588kn16NFDktSjRw%2B98soruuGGGzR69Gj16tVL2dnZWrp0qfMaycnJWr16tW688UY99NBD8vv9euCBB/STn/zE0jsBAAC6I1fugzVmzJiQ56eccor69eun8ePHKy8vr9udfuM%2BWADQPu6Dhc500t0H6%2B2333bjZQEAALrEd%2BYidwAAgO7ClRmsCy644CvvI/VFGzZs6ORqAAAA7HIlYF100UX64x//qLPPPlvp6emSpIqKCn3wwQe6/vrruYcUAAAIa64ErP3792vmzJlavHhxyPKFCxdqz549%2BtOf/uRGWQAAAFa4cg3WCy%2B8oF/84hdtlufm5urFF190oSIAAAB7XAlYHo9HZWVlbZaXlZVxehAAAIQ9V04RzpkzRzNmzNDmzZs1cuRISZ9fg/XYY49pwYIFbpQEAABgjSsBa%2BHChUpOTtb999%2BvJ554QpI0ZMgQPfbYY8rOznajJAAAAGtc%2By7C7OxswhQAAOiWXLvRaGNjo5588kn97ne/U0NDgyTp3XffVW1trVslAQAAWOHKDFZ1dbUuueQSnXrqqaqpqVFubq7i4%2BP1wgsvaNeuXXrqqafcKAsAAMAKV2awbrzxRmVnZ%2Btf//qXevbs6SyfPHmy1q5d60ZJAAAA1rgyg7Vx40atWLGizdfl9O/fn1OEAAAg7LkygxUdHa2DBw%2B2Wb59%2B3b17dvXhYoAAADscSVgTZkyRb///e919OhRSVJERIQ%2B/fRT3XLLLZo6daobJQEAAFjjSsC65557tHv3bvl8Ph0%2BfFjjx4/XGWecoZ49e7b5fkIAAIBw48o1WF6vV2VlZSopKdE777yjY8eO6fzzz1dmZmab67IAAADCTZcHrObmZl166aV6%2BOGHlZGRoYyMjK4uAQAAoFN1%2BSnCqKgobd68mZkqAADQbblyDdY111yjP//5z268NAAAQKdz7bsIly9frtdff11paWmKiYkJWXfXXXe5VBUAAMC350rAqqys1HnnnSdJeu%2B990LWceoQAACEuy4NWB999JGSk5P19ttvd%2BXLAgAAdKkuvQbrrLPO0t69e53nV111lfbs2dOVJQAAAHS6Lg1YxpiQ56tXr9ahQ4e6sgQAAIBO58pfEQIAAHRnXRqwIiIi2lzEzkXtAACgu%2BnSi9yNMcrNzZXH45EkHTlyRDNmzGhzm4aXXnqpK8sCAACwqksD1vTp00OeX3PNNV358gAAAF2iSwMWd28HAAAnAy5yBwAAsIyABQAAYBkBCwAAwDICFgAAgGUELAAAAMsIWAAAAJYRsAAAACwjYAEAAFhGwAIAALCMgAUAAGAZAQsAAMCysA1YS5Ys0QUXXKDY2FglJCToiiuu0AcffBAyJhgMavbs2erbt69iYmI0ZcoU7dq1K2TMzp07ddlllykmJkZ9%2B/bVnDlz1NTUFDKmtLRUqamp6tmzp8444ww98sgjnd4fAAAIX2EbsEpLSzVz5kxVVFSopKRER48eVUZGhg4dOuSMyc/PV1FRkQoLC7Vu3TodPHhQWVlZamlpkSS1tLRo8uTJOnTokNatW6fCwkKtXLlSc%2BfOdfaxY8cOXXrppRozZow2b96sBQsWaM6cOVq5cmWX9wwAAMJDhDHGuF2EDXv37lVCQoJKS0t14YUXKhAIqF%2B/fnr66ad11VVXSZJ2796tgQMHavXq1crMzNSrr76qrKws1dTUyO/3S5IKCwuVm5ur%2Bvp6xcXF6eabb9aqVau0bds257VmzJihd999V%2BXl5R2qrbGxUV6vV4FAQHFxcVb7TltYbHV/ANCVNt0x0e0S0I115u/fEwnbGawvCwQCkqTevXtLkiorK9Xc3KyMjAxnjN/vV0pKisrKyiRJ5eXlSklJccKVJGVmZioYDKqystIZ88V9tI7ZtGmTmpubO7UnAAAQniLdLsAGY4wKCgr04x//WCkpKZKkuro6RUdHKz4%2BPmRsYmKi6urqnDGJiYkh6%2BPj4xUdHf2VYxITE3X06FHt27dPSUlJbeoJBoMKBoPO88bGxm/fJAAACBvdYgZr1qxZeu%2B99/Tcc8%2BdcKwxRhEREc7zL/7c0TGtZ1Xb21b6/AJ8r9frPAYOHNihPgAAQPcQ9gFr9uzZWrVqld58800NGDDAWe7z%2BdTU1KSGhoaQ8fX19c6MlM/nc2aqWjU0NKi5ufkrx9TX1ysyMlJ9%2BvRpt6b58%2BcrEAg4j5qamm/dJwAACB9hG7CMMZo1a5Zeeukl/f3vf1dycnLI%2BtTUVEVFRamkpMRZVltbq%2Brqao0aNUqSlJ6erurqatXW1jpj1qxZI4/Ho9TUVGfMF/fROiYtLU1RUVHt1ubxeBQXFxfyAAAAJ4%2BwDVgzZ87UX//6Vz377LOKjY1VXV2d6urqdPjwYUmS1%2BvVddddp7lz5%2BqNN97Q5s2bdc0112jYsGG65JJLJEkZGRkaOnSocnJytHnzZr3xxhuaN2%2Be8vLynFA0Y8YMffLJJyooKNC2bdv0xBNP6PHHH9e8efNc6x0AAHy3hW3AWrFihQKBgMaNG6ekpCTn8fzzzztj7r33Xl1xxRW68sorNXr0aJ166ql6%2BeWX1aNHD0lSjx499Morr6hnz54aPXq0rrzySl1xxRVaunSps4/k5GStXr1ab731ln74wx/q97//vR544AH95Cc/6fKeAQBAeOg298H6LuM%2BWADQPu6Dhc7EfbAAAAC6EQIWAACAZQQsAAAAywhYAAAAlhGwAAAALCNgAQAAWEbAAgAAsIyABQAAYBkBCwAAwDICFgAAgGUELAAAAMsIWAAAAJYRsAAAACwjYAEAAFhGwAIAALCMgAUAAGAZAQsAAMAyAhYAAIBWZuYrAAARAUlEQVRlBCwAAADLCFgAAACWEbAAAAAsI2ABAABYRsACAACwjIAFAABgGQELAADAski3CwAAnLzSFha7XcLXsumOiW6XgDDBDBYAAIBlBCwAAADLCFgAAACWEbAAAAAsI2ABAABYRsACAACwjIAFAABgGQELAADAMgIWAACAZQQsAAAAywhYAAAAlhGwAAAALCNgAQAAWEbAAgAAsIyABQAAYBkBCwAAwLKwDlhr167VZZddJr/fr4iICP3tb38LWW%2BM0aJFi%2BT3%2B9WrVy%2BNGzdOW7duDRnT0NCgnJwceb1eeb1e5eTkaP/%2B/SFjtmzZorFjx6pXr17q37%2B/br/9dhljOr0/AAAQnsI6YB06dEjDhw/X8uXL211/1113admyZVq%2BfLk2btwon8%2BnCRMm6MCBA86Y7OxsVVVVqbi4WMXFxaqqqlJOTo6zvrGxURMmTJDf79fGjRv14IMPaunSpVq2bFmn9wcAAMJTpNsFfBuTJk3SpEmT2l1njNF9992nhQsXaurUqZKkp556SomJiXr22Wd1/fXXa9u2bSouLlZFRYVGjBghSXrssceUnp6uDz74QIMHD9YzzzyjI0eO6Mknn5TH41FKSoo%2B/PBDLVu2TAUFBYqIiOiyfgEAQHgI6xmsr7Jjxw7V1dUpIyPDWebxeDR27FiVlZVJksrLy%2BX1ep1wJUkjR46U1%2BsNGTN27Fh5PB5nTGZmpnbv3q2PP/64a5oBAABhpdsGrLq6OklSYmJiyPLExERnXV1dnRISEtpsm5CQEDKmvX188TW%2BLBgMqrGxMeQBAABOHt02YLX68ik8Y0zIsvZO8Z1oTOsF7sc7PbhkyRLnonmv16uBAwd%2B4/oBAED46bYBy%2BfzSWo7y1RfX%2B/MQPl8Pu3Zs6fNtnv37g0Z094%2BpLazY63mz5%2BvQCDgPGpqar5dMwAAIKx024CVnJwsn8%2BnkpISZ1lTU5NKS0s1atQoSVJ6eroCgYA2bNjgjFm/fr0CgUDImLVr16qpqckZs2bNGvn9fp1%2B%2BuntvrbH41FcXFzIAwAAnDzCOmAdPHhQVVVVqqqqkvT5he1VVVXauXOnIiIilJ%2Bfr8WLF6uoqEjV1dXKzc3VqaeequzsbEnSkCFDNHHiROXl5amiokIVFRXKy8tTVlaWBg8eLOnz2zh4PB7l5uaqurpaRUVFWrx4MX9BCAAAjiusb9OwadMmXXTRRc7zgoICSdL06dP15JNP6qabbtLhw4d1ww03qKGhQSNGjNCaNWsUGxvrbPPMM89ozpw5zl8bTpkyJeS%2BWl6vVyUlJZo5c6bS0tIUHx%2BvgoIC57UAAAC%2BLMJwS/JO19jYKK/Xq0AgYP10YdrCYqv7AwAc36Y7JrpdAr6Gzvz9eyJhfYoQAADgu4iABQAAYBkBCwAAwDICFgAAgGUELAAAAMsIWAAAAJYRsAAAACwjYAEAAFhGwAIAALCMgAUAAGAZAQsAAMAyAhYAAIBlBCwAAADLCFgAAACWEbAAAAAsI2ABAABYRsACAACwjIAFAABgGQELAADAMgIWAACAZQQsAAAAywhYAAAAlhGwAAAALCNgAQAAWEbAAgAAsIyABQAAYBkBCwAAwDICFgAAgGWRbhcAAAA6R9rCYrdL6LBNd0x0uwSrmMECAACwjIAFAABgGQELAADAMgIWAACAZQQsAAAAywhYAAAAlhGwAAAALCNgAQAAWEbAAgAAsIyABQAAYBkBCwAAwDICFgAAgGUELAAAAMsIWAAAAJZFul1AuHj44Yd19913q7a2Vueee67uu%2B8%2BjRkzxu2yAABdKG1hsdslIEwwg9UBzz//vPLz87Vw4UJt3rxZY8aM0aRJk7Rz5063SwMAAN9BBKwOWLZsma677jr96le/0pAhQ3Tfffdp4MCBWrFihdulAQCA7yBOEZ5AU1OTKisrdcstt4Qsz8jIUFlZWbvbBINBBYNB53kgEJAkNTY2Wq%2BvJXjI%2Bj4BAOhqnfE7snWfxhjr%2Bz4RAtYJ7Nu3Ty0tLUpMTAxZnpiYqLq6una3WbJkiW677bY2ywcOHNgpNQIAEO6893Tevg8cOCCv19t5L9AOAlYHRUREhDw3xrRZ1mr%2B/PkqKChwnh87dkz//ve/1adPn%2BNu83U1NjZq4MCBqqmpUVxcnJV9hgP6Prn6lk7e3un75OpbOnl778y%2BjTE6cOCA/H6/1f12BAHrBPr27asePXq0ma2qr69vM6vVyuPxyOPxhCw77bTTOqW%2BuLi4k%2BofYiv6PvmcrL3T98nnZO29s/ru6pmrVlzkfgLR0dFKTU1VSUlJyPKSkhKNGjXKpaoAAMB3GTNYHVBQUKCcnBylpaUpPT1djz76qHbu3KkZM2a4XRoAAPgO6rFo0aJFbhfxXZeSkqI%2Bffpo8eLFWrp0qQ4fPqynn35aw4cPd7WuHj16aNy4cYqMPLlyMn2fXH1LJ2/v9H1y9S2dvL13x74jjBt/uwgAANCNcQ0WAACAZQQsAAAAywhYAAAAlhGwAAAALCNghaGHH35YycnJ6tmzp1JTU/X222%2B7XZJVixYtUkRERMjD5/M5640xWrRokfx%2Bv3r16qVx48Zp69atLlb8za1du1aXXXaZ/H6/IiIi9Le//S1kfUd6bWhoUE5Ojrxer7xer3JycrR///6ubONrO1Hfubm5bT4DI0eODBkTDAY1e/Zs9e3bVzExMZoyZYp27drVlW18bUuWLNEFF1yg2NhYJSQk6IorrtAHH3wQMqYjfe3cuVOXXXaZYmJi1LdvX82ZM0dNTU1d2crX0pG%2Bx40b1%2BaYX3311SFjwvGzvmLFCp133nnOTTTT09P16quvOuu74/GWTtx3dz3eX0TACjPPP/%2B88vPztXDhQm3evFljxozRpEmTtHPnTrdLs%2Brcc89VbW2t89iyZYuz7q677tKyZcu0fPlybdy4UT6fTxMmTNCBAwdcrPibOXTokIYPH67ly5e3u74jvWZnZ6uqqkrFxcUqLi5WVVWVcnJyuqqFb%2BREfUvSxIkTQz4Dq1evDlmfn5%2BvoqIiFRYWat26dTp48KCysrLU0tLS2eV/Y6WlpZo5c6YqKipUUlKio0ePKiMjQ4cO/f9f2n6ivlpaWjR58mQdOnRI69atU2FhoVauXKm5c%2Be61dYJdaRvScrLyws55n/84x9D1ofjZ33AgAG68847tWnTJm3atEnjx4/X5Zdf7vyPUnc83tKJ%2B5a65/EOYRBW/uu//svMmDEjZNk555xjbrnlFpcqsu/WW281w4cPb3fdsWPHjM/nM3feeaez7MiRI8br9ZpHHnmkq0rsFJJMUVGR87wjvb7//vtGkqmoqHDGlJeXG0nmH//4R9cV/y18uW9jjJk%2Bfbq5/PLLj7vN/v37TVRUlCksLHSWffrpp%2BaUU04xxcXFnVarbfX19UaSKS0tNcZ0rK/Vq1ebU045xXz66afOmOeee854PB4TCAS6toFv6Mt9G2PM2LFjzW9%2B85vjbtMdPuut4uPjzZ/%2B9KeT5ni3au3bmJPjeDODFUaamppUWVmpjIyMkOUZGRkqKytzqarOsX37dvn9fiUnJ%2Bvqq6/WRx99JEnasWOH6urqQt4Dj8ejsWPHdrv3oCO9lpeXy%2Bv1asSIEc6YkSNHyuv1hv378dZbbykhIUFnn3228vLyVF9f76yrrKxUc3NzyHvj9/uVkpISVn0HAgFJUu/evSV1rK/y8nKlpKSEfHltZmamgsGgKisru7D6b%2B7Lfbd65pln1LdvX5177rmaN29eyExtd/ist7S0qLCwUIcOHVJ6evpJc7y/3Her7n68u88tU08C%2B/btU0tLS5svmU5MTGzzZdThbMSIEfrLX/6is88%2BW3v27NEf/vAHjRo1Slu3bnX6bO89%2BOSTT9wot9N0pNe6ujolJCS02TYhISGsPxOTJk3Sz372Mw0aNEg7duzQb3/7W40fP16VlZXyeDyqq6tTdHS04uPjQ7YLp38LxhgVFBToxz/%2BsVJSUiSpQ33V1dW1%2BUzEx8crOjo6LHpvr29JmjZtmpKTk%2BXz%2BVRdXa358%2Bfr3Xffdb4HNpw/61u2bFF6erqOHDmi733veyoqKtLQoUNVVVXVrY/38fqWuvfxbkXACkMREREhz40xbZaFs0mTJjk/Dxs2TOnp6TrzzDP11FNPORc6d/f34ItO1Gt7fYf7%2B3HVVVc5P6ekpCgtLU2DBg3SK6%2B8oqlTpx53u3Dqe9asWXrvvfe0bt26E47tTsf8eH3n5eU5P6ekpOiss85SWlqa3nnnHZ1//vmSwrfvwYMHq6qqSvv379fKlSs1ffp0lZaWHnd8dznex%2Bt76NCh3fp4t%2BIUYRjp27evevTo0Sa919fXt/k/nO4kJiZGw4YN0/bt252/JjwZ3oOO9Orz%2BbRnz5422%2B7du7dbvR9JSUkaNGiQtm/fLunzvpuamtTQ0BAyLlw%2BB7Nnz9aqVav05ptvasCAAc7yjvTl8/nafCYaGhrU3Nz8ne/9eH235/zzz1dUVFTIMQ/Xz3p0dLR%2B8IMfKC0tTUuWLNHw4cN1//33d/vjfby%2B29OdjncrAlYYiY6OVmpqqjOF2qqkpESjRo1yqarOFwwGtW3bNiUlJTlTyl98D5qamlRaWtrt3oOO9Jqenq5AIKANGzY4Y9avX69AINCt3o/PPvtMNTU1SkpKkiSlpqYqKioq5L2pra1VdXX1d7pvY4xmzZqll156SX//%2B9%2BVnJwcsr4jfaWnp6u6ulq1tbXOmDVr1sjj8Sg1NbVrGvmaTtR3e7Zu3arm5mbnmHenz7oxRsFgsNse7%2BNp7bs93fJ4d/ll9fhWCgsLTVRUlHn88cfN%2B%2B%2B/b/Lz801MTIz5%2BOOP3S7Nmrlz55q33nrLfPTRR6aiosJkZWWZ2NhYp8c777zTeL1e89JLL5ktW7aYn//85yYpKck0Nja6XPnXd%2BDAAbN582azefNmI8ksW7bMbN682XzyySfGmI71OnHiRHPeeeeZ8vJyU15eboYNG2aysrLcaqlDvqrvAwcOmLlz55qysjKzY8cO8%2Babb5r09HTTv3//kL5nzJhhBgwYYF5//XXzzjvvmPHjx5vhw4ebo0ePutjZV/v1r39tvF6veeutt0xtba3z%2BM9//uOMOVFfR48eNSkpKebiiy8277zzjnn99dfNgAEDzKxZs9xq64RO1Pc///lPc9ttt5mNGzeaHTt2mFdeecWcc8455kc/%2BlHI8QzHz/r8%2BfPN2rVrzY4dO8x7771nFixYYE455RSzZs0aY0z3PN7GfHXf3fl4fxEBKww99NBDZtCgQSY6Otqcf/75IX/q3B1cddVVJikpyURFRRm/32%2BmTp1qtm7d6qw/duyYufXWW43P5zMej8dceOGFZsuWLS5W/M29%2BeabRlKbx/Tp040xHev1s88%2BM9OmTTOxsbEmNjbWTJs2zTQ0NLjQTcd9Vd//%2Bc9/TEZGhunXr5%2BJiooy3//%2B98306dPNzp07Q/Zx%2BPBhM2vWLNO7d2/Tq1cvk5WV1WbMd017PUsyf/7zn50xHenrk08%2BMZMnTza9evUyvXv3NrNmzTJHjhzp4m467kR979y501x44YWmd%2B/eJjo62px55plmzpw55rPPPgvZTzh%2B1n/5y186/73u16%2Bfufjii51wZUz3PN7GfHXf3fl4f1GEMcZ03XwZAABA98c1WAAAAJYRsAAAACwjYAEAAFhGwAIAALCMgAUAAGAZAQsAAMAyAhYAAIBlBCwAAADLCFgAAACWEbAAAAAsI2ABAABYRsACAACwjIAFAABgGQELAADAMgIWAACAZQQsAAAAywhYAAAAlhGwAAAALPv/ALHVSMS9NrVAAAAAAElFTkSuQmCC\"/>\n",
       "        </div>\n",
       "        <div role=\"tabpanel\" class=\"tab-pane col-md-12\" id=\"common5462218468724442381\">\n",
       "            \n",
       "<table class=\"freq table table-hover\">\n",
       "    <thead>\n",
       "    <tr>\n",
       "        <td class=\"fillremaining\">Value</td>\n",
       "        <td class=\"number\">Count</td>\n",
       "        <td class=\"number\">Frequency (%)</td>\n",
       "        <td style=\"min-width:200px\">&nbsp;</td>\n",
       "    </tr>\n",
       "    </thead>\n",
       "    <tr class=\"\">\n",
       "        <td class=\"fillremaining\">351</td>\n",
       "        <td class=\"number\">348</td>\n",
       "        <td class=\"number\">0.9%</td>\n",
       "        <td>\n",
       "            <div class=\"bar\" style=\"width:2%\">&nbsp;</div>\n",
       "        </td>\n",
       "</tr><tr class=\"\">\n",
       "        <td class=\"fillremaining\">103</td>\n",
       "        <td class=\"number\">348</td>\n",
       "        <td class=\"number\">0.9%</td>\n",
       "        <td>\n",
       "            <div class=\"bar\" style=\"width:2%\">&nbsp;</div>\n",
       "        </td>\n",
       "</tr><tr class=\"\">\n",
       "        <td class=\"fillremaining\">117</td>\n",
       "        <td class=\"number\">348</td>\n",
       "        <td class=\"number\">0.9%</td>\n",
       "        <td>\n",
       "            <div class=\"bar\" style=\"width:2%\">&nbsp;</div>\n",
       "        </td>\n",
       "</tr><tr class=\"\">\n",
       "        <td class=\"fillremaining\">215</td>\n",
       "        <td class=\"number\">348</td>\n",
       "        <td class=\"number\">0.9%</td>\n",
       "        <td>\n",
       "            <div class=\"bar\" style=\"width:2%\">&nbsp;</div>\n",
       "        </td>\n",
       "</tr><tr class=\"\">\n",
       "        <td class=\"fillremaining\">116</td>\n",
       "        <td class=\"number\">348</td>\n",
       "        <td class=\"number\">0.9%</td>\n",
       "        <td>\n",
       "            <div class=\"bar\" style=\"width:2%\">&nbsp;</div>\n",
       "        </td>\n",
       "</tr><tr class=\"\">\n",
       "        <td class=\"fillremaining\">114</td>\n",
       "        <td class=\"number\">348</td>\n",
       "        <td class=\"number\">0.9%</td>\n",
       "        <td>\n",
       "            <div class=\"bar\" style=\"width:2%\">&nbsp;</div>\n",
       "        </td>\n",
       "</tr><tr class=\"\">\n",
       "        <td class=\"fillremaining\">16</td>\n",
       "        <td class=\"number\">348</td>\n",
       "        <td class=\"number\">0.9%</td>\n",
       "        <td>\n",
       "            <div class=\"bar\" style=\"width:2%\">&nbsp;</div>\n",
       "        </td>\n",
       "</tr><tr class=\"\">\n",
       "        <td class=\"fillremaining\">143</td>\n",
       "        <td class=\"number\">348</td>\n",
       "        <td class=\"number\">0.9%</td>\n",
       "        <td>\n",
       "            <div class=\"bar\" style=\"width:2%\">&nbsp;</div>\n",
       "        </td>\n",
       "</tr><tr class=\"\">\n",
       "        <td class=\"fillremaining\">203</td>\n",
       "        <td class=\"number\">348</td>\n",
       "        <td class=\"number\">0.9%</td>\n",
       "        <td>\n",
       "            <div class=\"bar\" style=\"width:2%\">&nbsp;</div>\n",
       "        </td>\n",
       "</tr><tr class=\"\">\n",
       "        <td class=\"fillremaining\">202</td>\n",
       "        <td class=\"number\">348</td>\n",
       "        <td class=\"number\">0.9%</td>\n",
       "        <td>\n",
       "            <div class=\"bar\" style=\"width:2%\">&nbsp;</div>\n",
       "        </td>\n",
       "</tr><tr class=\"other\">\n",
       "        <td class=\"fillremaining\">Other values (187)</td>\n",
       "        <td class=\"number\">33842</td>\n",
       "        <td class=\"number\">90.7%</td>\n",
       "        <td>\n",
       "            <div class=\"bar\" style=\"width:100%\">&nbsp;</div>\n",
       "        </td>\n",
       "</tr>\n",
       "</table>\n",
       "        </div>\n",
       "        <div role=\"tabpanel\" class=\"tab-pane col-md-12\"  id=\"extreme5462218468724442381\">\n",
       "            <p class=\"h4\">Minimum 5 values</p>\n",
       "            \n",
       "<table class=\"freq table table-hover\">\n",
       "    <thead>\n",
       "    <tr>\n",
       "        <td class=\"fillremaining\">Value</td>\n",
       "        <td class=\"number\">Count</td>\n",
       "        <td class=\"number\">Frequency (%)</td>\n",
       "        <td style=\"min-width:200px\">&nbsp;</td>\n",
       "    </tr>\n",
       "    </thead>\n",
       "    <tr class=\"\">\n",
       "        <td class=\"fillremaining\">1</td>\n",
       "        <td class=\"number\">81</td>\n",
       "        <td class=\"number\">0.2%</td>\n",
       "        <td>\n",
       "            <div class=\"bar\" style=\"width:28%\">&nbsp;</div>\n",
       "        </td>\n",
       "</tr><tr class=\"\">\n",
       "        <td class=\"fillremaining\">2</td>\n",
       "        <td class=\"number\">290</td>\n",
       "        <td class=\"number\">0.8%</td>\n",
       "        <td>\n",
       "            <div class=\"bar\" style=\"width:100%\">&nbsp;</div>\n",
       "        </td>\n",
       "</tr><tr class=\"\">\n",
       "        <td class=\"fillremaining\">3</td>\n",
       "        <td class=\"number\">239</td>\n",
       "        <td class=\"number\">0.6%</td>\n",
       "        <td>\n",
       "            <div class=\"bar\" style=\"width:82%\">&nbsp;</div>\n",
       "        </td>\n",
       "</tr><tr class=\"\">\n",
       "        <td class=\"fillremaining\">4</td>\n",
       "        <td class=\"number\">289</td>\n",
       "        <td class=\"number\">0.8%</td>\n",
       "        <td>\n",
       "            <div class=\"bar\" style=\"width:99%\">&nbsp;</div>\n",
       "        </td>\n",
       "</tr><tr class=\"\">\n",
       "        <td class=\"fillremaining\">7</td>\n",
       "        <td class=\"number\">251</td>\n",
       "        <td class=\"number\">0.7%</td>\n",
       "        <td>\n",
       "            <div class=\"bar\" style=\"width:86%\">&nbsp;</div>\n",
       "        </td>\n",
       "</tr>\n",
       "</table>\n",
       "            <p class=\"h4\">Maximum 5 values</p>\n",
       "            \n",
       "<table class=\"freq table table-hover\">\n",
       "    <thead>\n",
       "    <tr>\n",
       "        <td class=\"fillremaining\">Value</td>\n",
       "        <td class=\"number\">Count</td>\n",
       "        <td class=\"number\">Frequency (%)</td>\n",
       "        <td style=\"min-width:200px\">&nbsp;</td>\n",
       "    </tr>\n",
       "    </thead>\n",
       "    <tr class=\"\">\n",
       "        <td class=\"fillremaining\">273</td>\n",
       "        <td class=\"number\">39</td>\n",
       "        <td class=\"number\">0.1%</td>\n",
       "        <td>\n",
       "            <div class=\"bar\" style=\"width:12%\">&nbsp;</div>\n",
       "        </td>\n",
       "</tr><tr class=\"\">\n",
       "        <td class=\"fillremaining\">276</td>\n",
       "        <td class=\"number\">35</td>\n",
       "        <td class=\"number\">0.1%</td>\n",
       "        <td>\n",
       "            <div class=\"bar\" style=\"width:10%\">&nbsp;</div>\n",
       "        </td>\n",
       "</tr><tr class=\"\">\n",
       "        <td class=\"fillremaining\">277</td>\n",
       "        <td class=\"number\">21</td>\n",
       "        <td class=\"number\">0.1%</td>\n",
       "        <td>\n",
       "            <div class=\"bar\" style=\"width:6%\">&nbsp;</div>\n",
       "        </td>\n",
       "</tr><tr class=\"\">\n",
       "        <td class=\"fillremaining\">299</td>\n",
       "        <td class=\"number\">75</td>\n",
       "        <td class=\"number\">0.2%</td>\n",
       "        <td>\n",
       "            <div class=\"bar\" style=\"width:22%\">&nbsp;</div>\n",
       "        </td>\n",
       "</tr><tr class=\"\">\n",
       "        <td class=\"fillremaining\">351</td>\n",
       "        <td class=\"number\">348</td>\n",
       "        <td class=\"number\">0.9%</td>\n",
       "        <td>\n",
       "            <div class=\"bar\" style=\"width:100%\">&nbsp;</div>\n",
       "        </td>\n",
       "</tr>\n",
       "</table>\n",
       "        </div>\n",
       "    </div>\n",
       "</div>\n",
       "</div><div class=\"row variablerow ignore\">\n",
       "    <div class=\"col-md-3 namecol\">\n",
       "        <p class=\"h4 pp-anchor\" id=\"pp_var_Domain\"><s>Domain</s><br/>\n",
       "            <small>Constant</small>\n",
       "        </p>\n",
       "    </div><div class=\"col-md-3\">\n",
       "    <p><em>This variable is constant and should be ignored for analysis</em></p>\n",
       "</div>\n",
       "<div class=\"col-md-6\">\n",
       "    <table class=\"stats \">\n",
       "        <tr>\n",
       "            <th>Constant value</th>\n",
       "            <td>Crops</td>\n",
       "        </tr>\n",
       "    </table>\n",
       "</div>\n",
       "</div><div class=\"row variablerow ignore\">\n",
       "    <div class=\"col-md-3 namecol\">\n",
       "        <p class=\"h4 pp-anchor\" id=\"pp_var_Domain Code\"><s>Domain Code</s><br/>\n",
       "            <small>Constant</small>\n",
       "        </p>\n",
       "    </div><div class=\"col-md-3\">\n",
       "    <p><em>This variable is constant and should be ignored for analysis</em></p>\n",
       "</div>\n",
       "<div class=\"col-md-6\">\n",
       "    <table class=\"stats \">\n",
       "        <tr>\n",
       "            <th>Constant value</th>\n",
       "            <td>QC</td>\n",
       "        </tr>\n",
       "    </table>\n",
       "</div>\n",
       "</div><div class=\"row variablerow ignore\">\n",
       "    <div class=\"col-md-3 namecol\">\n",
       "        <p class=\"h4 pp-anchor\" id=\"pp_var_Element\"><s>Element</s><br/>\n",
       "            <small>Constant</small>\n",
       "        </p>\n",
       "    </div><div class=\"col-md-3\">\n",
       "    <p><em>This variable is constant and should be ignored for analysis</em></p>\n",
       "</div>\n",
       "<div class=\"col-md-6\">\n",
       "    <table class=\"stats \">\n",
       "        <tr>\n",
       "            <th>Constant value</th>\n",
       "            <td>Yield</td>\n",
       "        </tr>\n",
       "    </table>\n",
       "</div>\n",
       "</div><div class=\"row variablerow ignore\">\n",
       "    <div class=\"col-md-3 namecol\">\n",
       "        <p class=\"h4 pp-anchor\" id=\"pp_var_Element Code\"><s>Element Code</s><br/>\n",
       "            <small>Constant</small>\n",
       "        </p>\n",
       "    </div><div class=\"col-md-3\">\n",
       "    <p><em>This variable is constant and should be ignored for analysis</em></p>\n",
       "</div>\n",
       "<div class=\"col-md-6\">\n",
       "    <table class=\"stats \">\n",
       "        <tr>\n",
       "            <th>Constant value</th>\n",
       "            <td>5419</td>\n",
       "        </tr>\n",
       "    </table>\n",
       "</div>\n",
       "</div><div class=\"row variablerow\">\n",
       "    <div class=\"col-md-3 namecol\">\n",
       "        <p class=\"h4 pp-anchor\" id=\"pp_var_Flag\">Flag<br/>\n",
       "            <small>Categorical</small>\n",
       "        </p>\n",
       "    </div><div class=\"col-md-3\">\n",
       "    <table class=\"stats \">\n",
       "        <tr class=\"\">\n",
       "            <th>Distinct count</th>\n",
       "            <td>2</td>\n",
       "        </tr>\n",
       "        <tr>\n",
       "            <th>Unique (%)</th>\n",
       "            <td>0.0%</td>\n",
       "        </tr>\n",
       "        <tr class=\"ignore\">\n",
       "            <th>Missing (%)</th>\n",
       "            <td>0.0%</td>\n",
       "        </tr>\n",
       "        <tr class=\"ignore\">\n",
       "            <th>Missing (n)</th>\n",
       "            <td>6</td>\n",
       "        </tr>\n",
       "    </table>\n",
       "</div>\n",
       "<div class=\"col-md-6 collapse in\" id=\"minifreqtable-4032732987208318225\">\n",
       "    <table class=\"mini freq\">\n",
       "        <tr class=\"\">\n",
       "    <th>Fc</th>\n",
       "    <td>\n",
       "        <div class=\"bar\" style=\"width:100%\" data-toggle=\"tooltip\" data-placement=\"right\" data-html=\"true\"\n",
       "             data-delay=500 title=\"Percentage: 100.0%\">\n",
       "            37316\n",
       "        </div>\n",
       "        \n",
       "    </td>\n",
       "</tr><tr class=\"missing\">\n",
       "    <th>(Missing)</th>\n",
       "    <td>\n",
       "        <div class=\"bar\" style=\"width:1%\" data-toggle=\"tooltip\" data-placement=\"right\" data-html=\"true\"\n",
       "             data-delay=500 title=\"Percentage: 0.0%\">\n",
       "            &nbsp;\n",
       "        </div>\n",
       "        6\n",
       "    </td>\n",
       "</tr>\n",
       "    </table>\n",
       "</div>\n",
       "<div class=\"col-md-12 text-right\">\n",
       "    <a role=\"button\" data-toggle=\"collapse\" data-target=\"#freqtable-4032732987208318225, #minifreqtable-4032732987208318225\"\n",
       "       aria-expanded=\"true\" aria-controls=\"collapseExample\">\n",
       "        Toggle details\n",
       "    </a>\n",
       "</div>\n",
       "<div class=\"col-md-12 extrapadding collapse\" id=\"freqtable-4032732987208318225\">\n",
       "    \n",
       "<table class=\"freq table table-hover\">\n",
       "    <thead>\n",
       "    <tr>\n",
       "        <td class=\"fillremaining\">Value</td>\n",
       "        <td class=\"number\">Count</td>\n",
       "        <td class=\"number\">Frequency (%)</td>\n",
       "        <td style=\"min-width:200px\">&nbsp;</td>\n",
       "    </tr>\n",
       "    </thead>\n",
       "    <tr class=\"\">\n",
       "        <td class=\"fillremaining\">Fc</td>\n",
       "        <td class=\"number\">37316</td>\n",
       "        <td class=\"number\">100.0%</td>\n",
       "        <td>\n",
       "            <div class=\"bar\" style=\"width:100%\">&nbsp;</div>\n",
       "        </td>\n",
       "</tr><tr class=\"missing\">\n",
       "        <td class=\"fillremaining\">(Missing)</td>\n",
       "        <td class=\"number\">6</td>\n",
       "        <td class=\"number\">0.0%</td>\n",
       "        <td>\n",
       "            <div class=\"bar\" style=\"width:1%\">&nbsp;</div>\n",
       "        </td>\n",
       "</tr>\n",
       "</table>\n",
       "</div>\n",
       "</div><div class=\"row variablerow\">\n",
       "    <div class=\"col-md-3 namecol\">\n",
       "        <p class=\"h4 pp-anchor\" id=\"pp_var_Flag Description\">Flag Description<br/>\n",
       "            <small>Categorical</small>\n",
       "        </p>\n",
       "    </div><div class=\"col-md-3\">\n",
       "    <table class=\"stats \">\n",
       "        <tr class=\"\">\n",
       "            <th>Distinct count</th>\n",
       "            <td>2</td>\n",
       "        </tr>\n",
       "        <tr>\n",
       "            <th>Unique (%)</th>\n",
       "            <td>0.0%</td>\n",
       "        </tr>\n",
       "        <tr class=\"ignore\">\n",
       "            <th>Missing (%)</th>\n",
       "            <td>0.0%</td>\n",
       "        </tr>\n",
       "        <tr class=\"ignore\">\n",
       "            <th>Missing (n)</th>\n",
       "            <td>6</td>\n",
       "        </tr>\n",
       "    </table>\n",
       "</div>\n",
       "<div class=\"col-md-6 collapse in\" id=\"minifreqtable128423447605210753\">\n",
       "    <table class=\"mini freq\">\n",
       "        <tr class=\"\">\n",
       "    <th>Calculated data</th>\n",
       "    <td>\n",
       "        <div class=\"bar\" style=\"width:100%\" data-toggle=\"tooltip\" data-placement=\"right\" data-html=\"true\"\n",
       "             data-delay=500 title=\"Percentage: 100.0%\">\n",
       "            37316\n",
       "        </div>\n",
       "        \n",
       "    </td>\n",
       "</tr><tr class=\"missing\">\n",
       "    <th>(Missing)</th>\n",
       "    <td>\n",
       "        <div class=\"bar\" style=\"width:1%\" data-toggle=\"tooltip\" data-placement=\"right\" data-html=\"true\"\n",
       "             data-delay=500 title=\"Percentage: 0.0%\">\n",
       "            &nbsp;\n",
       "        </div>\n",
       "        6\n",
       "    </td>\n",
       "</tr>\n",
       "    </table>\n",
       "</div>\n",
       "<div class=\"col-md-12 text-right\">\n",
       "    <a role=\"button\" data-toggle=\"collapse\" data-target=\"#freqtable128423447605210753, #minifreqtable128423447605210753\"\n",
       "       aria-expanded=\"true\" aria-controls=\"collapseExample\">\n",
       "        Toggle details\n",
       "    </a>\n",
       "</div>\n",
       "<div class=\"col-md-12 extrapadding collapse\" id=\"freqtable128423447605210753\">\n",
       "    \n",
       "<table class=\"freq table table-hover\">\n",
       "    <thead>\n",
       "    <tr>\n",
       "        <td class=\"fillremaining\">Value</td>\n",
       "        <td class=\"number\">Count</td>\n",
       "        <td class=\"number\">Frequency (%)</td>\n",
       "        <td style=\"min-width:200px\">&nbsp;</td>\n",
       "    </tr>\n",
       "    </thead>\n",
       "    <tr class=\"\">\n",
       "        <td class=\"fillremaining\">Calculated data</td>\n",
       "        <td class=\"number\">37316</td>\n",
       "        <td class=\"number\">100.0%</td>\n",
       "        <td>\n",
       "            <div class=\"bar\" style=\"width:100%\">&nbsp;</div>\n",
       "        </td>\n",
       "</tr><tr class=\"missing\">\n",
       "        <td class=\"fillremaining\">(Missing)</td>\n",
       "        <td class=\"number\">6</td>\n",
       "        <td class=\"number\">0.0%</td>\n",
       "        <td>\n",
       "            <div class=\"bar\" style=\"width:1%\">&nbsp;</div>\n",
       "        </td>\n",
       "</tr>\n",
       "</table>\n",
       "</div>\n",
       "</div><div class=\"row variablerow\">\n",
       "    <div class=\"col-md-3 namecol\">\n",
       "        <p class=\"h4 pp-anchor\" id=\"pp_var_Item\">Item<br/>\n",
       "            <small>Categorical</small>\n",
       "        </p>\n",
       "    </div><div class=\"col-md-3\">\n",
       "    <table class=\"stats \">\n",
       "        <tr class=\"\">\n",
       "            <th>Distinct count</th>\n",
       "            <td>6</td>\n",
       "        </tr>\n",
       "        <tr>\n",
       "            <th>Unique (%)</th>\n",
       "            <td>0.0%</td>\n",
       "        </tr>\n",
       "        <tr class=\"ignore\">\n",
       "            <th>Missing (%)</th>\n",
       "            <td>0.0%</td>\n",
       "        </tr>\n",
       "        <tr class=\"ignore\">\n",
       "            <th>Missing (n)</th>\n",
       "            <td>0</td>\n",
       "        </tr>\n",
       "    </table>\n",
       "</div>\n",
       "<div class=\"col-md-6 collapse in\" id=\"minifreqtable-3695412436249120151\">\n",
       "    <table class=\"mini freq\">\n",
       "        <tr class=\"\">\n",
       "    <th>Maize</th>\n",
       "    <td>\n",
       "        <div class=\"bar\" style=\"width:59%\" data-toggle=\"tooltip\" data-placement=\"right\" data-html=\"true\"\n",
       "             data-delay=500 title=\"Percentage: 24.0%\">\n",
       "            8969\n",
       "        </div>\n",
       "        \n",
       "    </td>\n",
       "</tr><tr class=\"\">\n",
       "    <th>Rice, paddy</th>\n",
       "    <td>\n",
       "        <div class=\"bar\" style=\"width:44%\" data-toggle=\"tooltip\" data-placement=\"right\" data-html=\"true\"\n",
       "             data-delay=500 title=\"Percentage: 18.0%\">\n",
       "            6714\n",
       "        </div>\n",
       "        \n",
       "    </td>\n",
       "</tr><tr class=\"\">\n",
       "    <th>Wheat</th>\n",
       "    <td>\n",
       "        <div class=\"bar\" style=\"width:42%\" data-toggle=\"tooltip\" data-placement=\"right\" data-html=\"true\"\n",
       "             data-delay=500 title=\"Percentage: 17.1%\">\n",
       "            6400\n",
       "        </div>\n",
       "        \n",
       "    </td>\n",
       "</tr><tr class=\"other\">\n",
       "    <th>Other values (3)</th>\n",
       "    <td>\n",
       "        <div class=\"bar\" style=\"width:100%\" data-toggle=\"tooltip\" data-placement=\"right\" data-html=\"true\"\n",
       "             data-delay=500 title=\"Percentage: 40.8%\">\n",
       "            15239\n",
       "        </div>\n",
       "        \n",
       "    </td>\n",
       "</tr>\n",
       "    </table>\n",
       "</div>\n",
       "<div class=\"col-md-12 text-right\">\n",
       "    <a role=\"button\" data-toggle=\"collapse\" data-target=\"#freqtable-3695412436249120151, #minifreqtable-3695412436249120151\"\n",
       "       aria-expanded=\"true\" aria-controls=\"collapseExample\">\n",
       "        Toggle details\n",
       "    </a>\n",
       "</div>\n",
       "<div class=\"col-md-12 extrapadding collapse\" id=\"freqtable-3695412436249120151\">\n",
       "    \n",
       "<table class=\"freq table table-hover\">\n",
       "    <thead>\n",
       "    <tr>\n",
       "        <td class=\"fillremaining\">Value</td>\n",
       "        <td class=\"number\">Count</td>\n",
       "        <td class=\"number\">Frequency (%)</td>\n",
       "        <td style=\"min-width:200px\">&nbsp;</td>\n",
       "    </tr>\n",
       "    </thead>\n",
       "    <tr class=\"\">\n",
       "        <td class=\"fillremaining\">Maize</td>\n",
       "        <td class=\"number\">8969</td>\n",
       "        <td class=\"number\">24.0%</td>\n",
       "        <td>\n",
       "            <div class=\"bar\" style=\"width:100%\">&nbsp;</div>\n",
       "        </td>\n",
       "</tr><tr class=\"\">\n",
       "        <td class=\"fillremaining\">Rice, paddy</td>\n",
       "        <td class=\"number\">6714</td>\n",
       "        <td class=\"number\">18.0%</td>\n",
       "        <td>\n",
       "            <div class=\"bar\" style=\"width:75%\">&nbsp;</div>\n",
       "        </td>\n",
       "</tr><tr class=\"\">\n",
       "        <td class=\"fillremaining\">Wheat</td>\n",
       "        <td class=\"number\">6400</td>\n",
       "        <td class=\"number\">17.1%</td>\n",
       "        <td>\n",
       "            <div class=\"bar\" style=\"width:71%\">&nbsp;</div>\n",
       "        </td>\n",
       "</tr><tr class=\"\">\n",
       "        <td class=\"fillremaining\">Sorghum</td>\n",
       "        <td class=\"number\">5741</td>\n",
       "        <td class=\"number\">15.4%</td>\n",
       "        <td>\n",
       "            <div class=\"bar\" style=\"width:64%\">&nbsp;</div>\n",
       "        </td>\n",
       "</tr><tr class=\"\">\n",
       "        <td class=\"fillremaining\">Barley</td>\n",
       "        <td class=\"number\">5170</td>\n",
       "        <td class=\"number\">13.9%</td>\n",
       "        <td>\n",
       "            <div class=\"bar\" style=\"width:58%\">&nbsp;</div>\n",
       "        </td>\n",
       "</tr><tr class=\"\">\n",
       "        <td class=\"fillremaining\">Millet</td>\n",
       "        <td class=\"number\">4328</td>\n",
       "        <td class=\"number\">11.6%</td>\n",
       "        <td>\n",
       "            <div class=\"bar\" style=\"width:48%\">&nbsp;</div>\n",
       "        </td>\n",
       "</tr>\n",
       "</table>\n",
       "</div>\n",
       "</div><div class=\"row variablerow\">\n",
       "    <div class=\"col-md-3 namecol\">\n",
       "        <p class=\"h4 pp-anchor\" id=\"pp_var_Item Code\">Item Code<br/>\n",
       "            <small>Numeric</small>\n",
       "        </p>\n",
       "    </div><div class=\"col-md-6\">\n",
       "    <div class=\"row\">\n",
       "        <div class=\"col-sm-6\">\n",
       "            <table class=\"stats \">\n",
       "                <tr>\n",
       "                    <th>Distinct count</th>\n",
       "                    <td>6</td>\n",
       "                </tr>\n",
       "                <tr>\n",
       "                    <th>Unique (%)</th>\n",
       "                    <td>0.0%</td>\n",
       "                </tr>\n",
       "                <tr class=\"ignore\">\n",
       "                    <th>Missing (%)</th>\n",
       "                    <td>0.0%</td>\n",
       "                </tr>\n",
       "                <tr class=\"ignore\">\n",
       "                    <th>Missing (n)</th>\n",
       "                    <td>0</td>\n",
       "                </tr>\n",
       "                <tr class=\"ignore\">\n",
       "                    <th>Infinite (%)</th>\n",
       "                    <td>0.0%</td>\n",
       "                </tr>\n",
       "                <tr class=\"ignore\">\n",
       "                    <th>Infinite (n)</th>\n",
       "                    <td>0</td>\n",
       "                </tr>\n",
       "            </table>\n",
       "\n",
       "        </div>\n",
       "        <div class=\"col-sm-6\">\n",
       "            <table class=\"stats \">\n",
       "\n",
       "                <tr>\n",
       "                    <th>Mean</th>\n",
       "                    <td>48.91</td>\n",
       "                </tr>\n",
       "                <tr>\n",
       "                    <th>Minimum</th>\n",
       "                    <td>15</td>\n",
       "                </tr>\n",
       "                <tr>\n",
       "                    <th>Maximum</th>\n",
       "                    <td>83</td>\n",
       "                </tr>\n",
       "                <tr class=\"ignore\">\n",
       "                    <th>Zeros (%)</th>\n",
       "                    <td>0.0%</td>\n",
       "                </tr>\n",
       "            </table>\n",
       "        </div>\n",
       "    </div>\n",
       "</div>\n",
       "<div class=\"col-md-3 collapse in\" id=\"minihistogram-7122769974484771101\">\n",
       "    <img src=\"data:image/png;base64,iVBORw0KGgoAAAANSUhEUgAAAMgAAABLCAYAAAA1fMjoAAAABHNCSVQICAgIfAhkiAAAAAlwSFlzAAAPYQAAD2EBqD%2BnaQAAADl0RVh0U29mdHdhcmUAbWF0cGxvdGxpYiB2ZXJzaW9uIDMuMC4yLCBodHRwOi8vbWF0cGxvdGxpYi5vcmcvOIA7rQAAAcJJREFUeJzt3EGq01AYhuE/xWmygJLswkW4J8fuyUW4i5QuIMWBAxsHWkGufnBLPbkpzzNsKH8O5CU9oW23rutajZ1Op5qmqfVYdm6e5xrHsenMd02n/dL3fVX9XPAwDFucAjuyLEtN0/T7umlpk0C6rquqqmEYBPLE3n/8/Or3fPn04Z/HbtdNS4fmE2FHBAKBQCAQCASbbNJ5rNduhtNGmD%2B5g0AgEAgEAoFAIBAIBAKBQCAQCAQCgUAgEAie4qsmj/7dAdy8uUDuudjhf/ERCwKBQCAQCAQCgUAgeHNPsZ6Jx8/75w4CgUAgEAgEAoFAIBAIBAKBQCAQCAQCgUAgEAgEAoFAIBAIBAKBQCAQCAQCgUAgEAgEAoFAIBAIBIJN/vZnXdeqqlqW5cWx79%2B%2BNjmHv81%2BtHvWcs95vXZOi7VXPW79t9du101L3brB1NPpVNM0tR7Lzs3zXOM4Np25SSDX67XO53P1fV9d17Uez86s61qXy6WOx2MdDm13BZsEAnthkw6BQCAQCAQCgUAgEAgEAoFAIBAIBAKBQCAQCAQCgUAgEAgEAoFAIBAIBAKBQCAQCAQCgUAgEAgEAoFA8AOtP19KYAcnHQAAAABJRU5ErkJggg%3D%3D\">\n",
       "\n",
       "</div>\n",
       "<div class=\"col-md-12 text-right\">\n",
       "    <a role=\"button\" data-toggle=\"collapse\" data-target=\"#descriptives-7122769974484771101,#minihistogram-7122769974484771101\"\n",
       "       aria-expanded=\"false\" aria-controls=\"collapseExample\">\n",
       "        Toggle details\n",
       "    </a>\n",
       "</div>\n",
       "<div class=\"row collapse col-md-12\" id=\"descriptives-7122769974484771101\">\n",
       "    <ul class=\"nav nav-tabs\" role=\"tablist\">\n",
       "        <li role=\"presentation\" class=\"active\"><a href=\"#quantiles-7122769974484771101\"\n",
       "                                                  aria-controls=\"quantiles-7122769974484771101\" role=\"tab\"\n",
       "                                                  data-toggle=\"tab\">Statistics</a></li>\n",
       "        <li role=\"presentation\"><a href=\"#histogram-7122769974484771101\" aria-controls=\"histogram-7122769974484771101\"\n",
       "                                   role=\"tab\" data-toggle=\"tab\">Histogram</a></li>\n",
       "        <li role=\"presentation\"><a href=\"#common-7122769974484771101\" aria-controls=\"common-7122769974484771101\"\n",
       "                                   role=\"tab\" data-toggle=\"tab\">Common Values</a></li>\n",
       "        <li role=\"presentation\"><a href=\"#extreme-7122769974484771101\" aria-controls=\"extreme-7122769974484771101\"\n",
       "                                   role=\"tab\" data-toggle=\"tab\">Extreme Values</a></li>\n",
       "\n",
       "    </ul>\n",
       "\n",
       "    <div class=\"tab-content\">\n",
       "        <div role=\"tabpanel\" class=\"tab-pane active row\" id=\"quantiles-7122769974484771101\">\n",
       "            <div class=\"col-md-4 col-md-offset-1\">\n",
       "                <p class=\"h4\">Quantile statistics</p>\n",
       "                <table class=\"stats indent\">\n",
       "                    <tr>\n",
       "                        <th>Minimum</th>\n",
       "                        <td>15</td>\n",
       "                    </tr>\n",
       "                    <tr>\n",
       "                        <th>5-th percentile</th>\n",
       "                        <td>15</td>\n",
       "                    </tr>\n",
       "                    <tr>\n",
       "                        <th>Q1</th>\n",
       "                        <td>27</td>\n",
       "                    </tr>\n",
       "                    <tr>\n",
       "                        <th>Median</th>\n",
       "                        <td>56</td>\n",
       "                    </tr>\n",
       "                    <tr>\n",
       "                        <th>Q3</th>\n",
       "                        <td>79</td>\n",
       "                    </tr>\n",
       "                    <tr>\n",
       "                        <th>95-th percentile</th>\n",
       "                        <td>83</td>\n",
       "                    </tr>\n",
       "                    <tr>\n",
       "                        <th>Maximum</th>\n",
       "                        <td>83</td>\n",
       "                    </tr>\n",
       "                    <tr>\n",
       "                        <th>Range</th>\n",
       "                        <td>68</td>\n",
       "                    </tr>\n",
       "                    <tr>\n",
       "                        <th>Interquartile range</th>\n",
       "                        <td>52</td>\n",
       "                    </tr>\n",
       "                </table>\n",
       "            </div>\n",
       "            <div class=\"col-md-4 col-md-offset-2\">\n",
       "                <p class=\"h4\">Descriptive statistics</p>\n",
       "                <table class=\"stats indent\">\n",
       "                    <tr>\n",
       "                        <th>Standard deviation</th>\n",
       "                        <td>24.14</td>\n",
       "                    </tr>\n",
       "                    <tr>\n",
       "                        <th>Coef of variation</th>\n",
       "                        <td>0.49355</td>\n",
       "                    </tr>\n",
       "                    <tr>\n",
       "                        <th>Kurtosis</th>\n",
       "                        <td>-1.3164</td>\n",
       "                    </tr>\n",
       "                    <tr>\n",
       "                        <th>Mean</th>\n",
       "                        <td>48.91</td>\n",
       "                    </tr>\n",
       "                    <tr>\n",
       "                        <th>MAD</th>\n",
       "                        <td>20.874</td>\n",
       "                    </tr>\n",
       "                    <tr class=\"\">\n",
       "                        <th>Skewness</th>\n",
       "                        <td>0.052831</td>\n",
       "                    </tr>\n",
       "                    <tr>\n",
       "                        <th>Sum</th>\n",
       "                        <td>1825437</td>\n",
       "                    </tr>\n",
       "                    <tr>\n",
       "                        <th>Variance</th>\n",
       "                        <td>582.73</td>\n",
       "                    </tr>\n",
       "                    <tr>\n",
       "                        <th>Memory size</th>\n",
       "                        <td>291.7 KiB</td>\n",
       "                    </tr>\n",
       "                </table>\n",
       "            </div>\n",
       "        </div>\n",
       "        <div role=\"tabpanel\" class=\"tab-pane col-md-8 col-md-offset-2\" id=\"histogram-7122769974484771101\">\n",
       "            <img src=\"data:image/png;base64,iVBORw0KGgoAAAANSUhEUgAAAlgAAAGQCAYAAAByNR6YAAAABHNCSVQICAgIfAhkiAAAAAlwSFlzAAAPYQAAD2EBqD%2BnaQAAADl0RVh0U29mdHdhcmUAbWF0cGxvdGxpYiB2ZXJzaW9uIDMuMC4yLCBodHRwOi8vbWF0cGxvdGxpYi5vcmcvOIA7rQAAIABJREFUeJzt3X9UVVX%2B//HXjR8XNLiRBpermNinTMOskZahFvZDsDQ/jTPTD5JkKj46mopomtkPpxLK1Bx1Rj85Zk5qWsto2S8Cm8L8KP5AKTFHm1ETFUQnBC0FlfP9w8X5dkXNmo1w4flY667F3ed9z9773Dv5mn3OPddhWZYlAAAAGHNJQw8AAACgqSFgAQAAGEbAAgAAMIyABQAAYBgBCwAAwDACFgAAgGEELAAAAMMIWAAAAIYRsAAAAAwjYAEAABhGwAIAADCMgAUAAGAYAQsAAMAwAhYAAIBhBCwAAADDCFgAAACGEbAAAAAMI2ABAAAYRsACAAAwjIAFAABgGAELAADAMAIWAACAYQQsAAAAwwhYAAAAhhGwAAAADCNgAQAAGEbAAgAAMIyABQAAYBgBCwAAwDACFgAAgGEELAAAAMMIWAAAAIYRsAAAAAwjYAEAABhGwAIAADCMgAUAAGAYAQsAAMAwAhYAAIBh/g09gOagpqZG%2B/fvV0hIiBwOR0MPBwCAZsGyLB05ckQej0eXXHJx15QIWBfB/v37FRUV1dDDAACgWSouLlbbtm0vap8ErIsgJCRE0uk3ODQ0tIFHAwBA81BZWamoqCj73%2BGLiYB1EdSeFgwNDSVgAQBwkTXE5Tlc5A4AAGAYAQsAAMAwAhYAAIBhBCwAAADDCFgAAACGEbAAAAAMI2ABAAAYRsACAAAwjIAFAABgGAELAADAsEYbsFatWqV77rlHHo9HDodD7733ntd2y7I0adIkeTweBQcHq3fv3tq6datXTXl5uZKTk%2BVyueRyuZScnKzDhw971WzZskXx8fEKDg5WmzZt9Pzzz8uyLK%2Ba5cuXq3PnznI6nercubOysrLqZ9IAAKBJaLQB6/vvv1fXrl01e/bss26fMmWKpk%2BfrtmzZ2vDhg1yu93q06ePjhw5YtckJSWpsLBQ2dnZys7OVmFhoZKTk%2B3tlZWV6tOnjzwejzZs2KBZs2Zp6tSpmj59ul2zdu1a3X///UpOTtaXX36p5ORk3XfffVq3bl39TR4AAPg0h3Xmck0j5HA4lJWVpXvvvVfS6dUrj8ejtLQ0jR8/XpJUVVWliIgIvfzyyxoyZIi2bdumzp07Kz8/X927d5ck5efnKy4uTv/4xz/UsWNHzZkzRxMmTNCBAwfkdDolSS%2B99JJmzZqlvXv3yuFw6P7771dlZaU%2B/vhjezx9%2B/ZVWFiY3nrrrQsaf2VlpVwulyoqKvixZwDARRM7Mbuhh3DBNk7ua3yfDfnvb6NdwTqfXbt2qbS0VAkJCXab0%2BlUfHy81qxZI%2Bn0ypPL5bLDlSTdfPPNcrlcXjXx8fF2uJKkxMRE7d%2B/X7t377ZrftxPbU3tPs6mqqpKlZWVXg8AANB8%2BGTAKi0tlSRFRER4tUdERNjbSktLFR4eXue14eHhXjVn28eP%2BzhXTe32s8nMzLSv%2B3K5XIqKivo50wMAAD7OJwNWLYfD4fXcsiyvtjO3X0hN7RnTn6o5275rTZgwQRUVFfajuLj4AmYDAACaCv%2BGHsAv4Xa7JZ1eXYqMjLTby8rK7NUmt9utAwcO1HntwYMHvWrOXIkqKyuTpJ%2BsOXNV68ecTqfXaUcAANC8%2BOQKVnR0tNxut3Jzc%2B226upq5eXlqUePHpKkuLg4VVRUaP369XbNunXrVFFR4VWzatUqVVdX2zU5OTnyeDxq3769XfPjfmpravcBAABwpkYbsI4eParCwkIVFhZKOn1he2Fhofbs2SOHw6G0tDRlZGQoKytLRUVFSklJUYsWLZSUlCRJ6tSpk/r27avU1FTl5%2BcrPz9fqamp6t%2B/vzp27Cjp9G0cnE6nUlJSVFRUpKysLGVkZCg9Pd0%2BBThq1Cjl5OTo5Zdf1j/%2B8Q%2B9/PLLWrlypdLS0hrmwAAAgEav0Z4i3Lhxo2677Tb7eXp6uiRp8ODBeuONNzRu3DgdO3ZMw4YNU3l5ubp3766cnByFhITYr1m8eLFGjhxpfwtwwIABXvfVcrlcys3N1fDhwxUbG6uwsDClp6fbfUlSjx49tHTpUj399NN65plndNVVV2nZsmVe304EAAD4MZ%2B4D5av4z5YAICGwH2wuA8WAABAk0HAAgAAMIyABQAAYBgBCwAAwDACFgAAgGEELAAAAMMIWAAAAIYRsAAAAAwjYAEAABhGwAIAADCMgAUAAGAYAQsAAMAwAhYAAIBhBCwAAADDCFgAAACGEbAAAAAMI2ABAAAYRsACAAAwjIAFAABgGAELAADAMAIWAACAYQQsAAAAwwhYAAAAhhGwAAAADCNgAQAAGObf0AMAAJgVOzG7oYdwwTZO7tvQQwDqBStYAAAAhhGwAAAADCNgAQAAGEbAAgAAMIyABQAAYBgBCwAAwDACFgAAgGEELAAAAMMIWAAAAIYRsAAAAAwjYAEAABhGwAIAADCMgAUAAGAYAQsAAMAwAhYAAIBhBCwAAADDCFgAAACGEbAAAAAMI2ABAAAYRsACAAAwjIAFAABgGAELAADAMAIWAACAYT4bsE6ePKmnn35a0dHRCg4OVocOHfT888%2BrpqbGrrEsS5MmTZLH41FwcLB69%2B6trVu3eu2nvLxcycnJcrlccrlcSk5O1uHDh71qtmzZovj4eAUHB6tNmzZ6/vnnZVnWRZknAADwPT4bsF5%2B%2BWXNnTtXs2fP1rZt2zRlyhS98sormjVrll0zZcoUTZ8%2BXbNnz9aGDRvkdrvVp08fHTlyxK5JSkpSYWGhsrOzlZ2drcLCQiUnJ9vbKysr1adPH3k8Hm3YsEGzZs3S1KlTNX369Is6XwAA4Dv8G3oAv9TatWv13//93%2BrXr58kqX379nrrrbe0ceNGSadXr2bMmKGJEydq4MCBkqSFCxcqIiJCS5Ys0ZAhQ7Rt2zZlZ2crPz9f3bt3lyTNmzdPcXFx2r59uzp27KjFixfr%2BPHjeuONN%2BR0OhUTE6MdO3Zo%2BvTpSk9Pl8PhaJgDAAAAGi2fXcHq1auXPv30U%2B3YsUOS9OWXX2r16tW6%2B%2B67JUm7du1SaWmpEhIS7Nc4nU7Fx8drzZo1kk6HNJfLZYcrSbr55pvlcrm8auLj4%2BV0Ou2axMRE7d%2B/X7t3767vaQIAAB/ksytY48ePV0VFha699lr5%2Bfnp1KlTmjx5sh588EFJUmlpqSQpIiLC63URERH69ttv7Zrw8PA6%2Bw4PD7dfX1paqvbt29fZR%2B226OjoOq%2BvqqpSVVWV/byysvIXzhIAAPgin13BWrZsmRYtWqQlS5Zo06ZNWrhwoaZOnaqFCxd61Z15Cs%2ByLK%2B2s53i%2B6ma2gvcz3V6MDMz075o3uVyKSoq6udNDgAA%2BDSfDVhPPPGEnnzyST3wwAPq0qWLkpOTNXr0aGVmZkqS3G63pP%2B/klWrrKzMXoFyu906cOBAnX0fPHjQq%2BZs%2B5Dqro7VmjBhgioqKuxHcXHxfzBTAADga3w2YP3www%2B65BLv4fv5%2Bdm3aYiOjpbb7VZubq69vbq6Wnl5eerRo4ckKS4uThUVFVq/fr1ds27dOlVUVHjVrFq1StXV1XZNTk6OPB5PnVOHtZxOp0JDQ70eAACg%2BfDZgHXPPfdo8uTJ%2BvDDD7V7925lZWVp%2BvTp%2BvWvfy3p9Om7tLQ0ZWRkKCsrS0VFRUpJSVGLFi2UlJQkSerUqZP69u2r1NRU5efnKz8/X6mpqerfv786duwo6fRtHJxOp1JSUlRUVKSsrCxlZGTwDUIAAHBOPnuR%2B6xZs/TMM89o2LBhKisrk8fj0ZAhQ/Tss8/aNePGjdOxY8c0bNgwlZeXq3v37srJyVFISIhds3jxYo0cOdL%2BtuGAAQM0e/Zse7vL5VJubq6GDx%2Bu2NhYhYWFKT09Xenp6RdvsgAAwKc4LG5JXu8qKyvlcrlUUVHB6UIA9S52YnZDD%2BGCbZzct6GH0KQ1989CQ/7767OnCAEAABorAhYAAIBhBCwAAADDCFgAAACGEbAAAAAMI2ABAAAYRsACAAAwjIAFAABgGAELAADAMAIWAACAYQQsAAAAwwhYAAAAhhGwAAAADCNgAQAAGEbAAgAAMIyABQAAYBgBCwAAwDACFgAAgGEELAAAAMMIWAAAAIYRsAAAAAwjYAEAABhGwAIAADCMgAUAAGAYAQsAAMAwAhYAAIBhBCwAAADDCFgAAACGEbAAAAAMI2ABAAAYRsACAAAwjIAFAABgGAELAADAMP%2BGHgCaj9iJ2Q09hJ9l4%2BS%2BDT0EAICPYgULAADAMAIWAACAYQQsAAAAwwhYAAAAhhGwAAAADCNgAQAAGEbAAgAAMIyABQAAYJjxG40uWrRIv/3tbxUUFGR61zgLX7t5JwAAzYHxFaz09HS53W4NGTJE69evN717AACARs94wNq/f79ef/11lZSUqFevXrruuus0bdo0HTx40HRXAAAAjZLxgOXv76%2BBAwdqxYoV2rNnjwYPHqzXX39dbdu21cCBA/Xhhx/KsizT3QIAADQa9XqRu9vt1h133KHevXvL4XBo48aNSkpK0tVXX60vvviiPrsGAABoMPUSsA4dOqQZM2aoa9eu6tmzp8rKyvTee%2B/p22%2B/1b59%2B9S/f389/PDD9dE1AABAgzP%2BLcJf//rX%2BuijjxQdHa3HHntMgwcP1hVXXGFvv/TSSzVu3DjNnDnTdNcAAACNgvGAFRoaqpUrV%2BqWW245Z01kZKS%2B%2BeYb010DAAA0CsZPES5cuPC84UqSHA6Hrrrqqv%2B4r3379mnQoEFq1aqVWrRooRtuuEEFBQX2dsuyNGnSJHk8HgUHB6t3797aunWr1z7Ky8uVnJwsl8sll8ul5ORkHT582Ktmy5Ytio%2BPV3BwsNq0aaPnn3%2BeC/UBAMA5GQ9Yo0eP1uzZs%2Bu0//nPf9aYMWOM9VNeXq6ePXsqICBAH3/8sb7%2B%2BmtNmzZNl112mV0zZcoUTZ8%2BXbNnz9aGDRvkdrvVp08fHTlyxK5JSkpSYWGhsrOzlZ2drcLCQiUnJ9vbKysr1adPH3k8Hm3YsEGzZs3S1KlTNX36dGNzAQAATYvxU4TvvPOO3nvvvTrtcXFxyszM1LRp04z08/LLLysqKkoLFiyw29q3b2//bVmWZsyYoYkTJ2rgwIGSTq%2BuRUREaMmSJRoyZIi2bdum7Oxs5efnq3v37pKkefPmKS4uTtu3b1fHjh21ePFiHT9%2BXG%2B88YacTqdiYmK0Y8cOTZ8%2BXenp6XI4HEbmAwAAmg7jK1iHDh1SWFhYnfbQ0FAdOnTIWD8rVqxQbGysfve73yk8PFw33nij5s2bZ2/ftWuXSktLlZCQYLc5nU7Fx8drzZo1kqS1a9fK5XLZ4UqSbr75ZrlcLq%2Ba%2BPh4OZ1OuyYxMVH79%2B/X7t27zzq2qqoqVVZWej0AAEDzYTxgXXXVVfrkk0/qtH/yySeKjo421s/OnTs1Z84cXX311frkk080dOhQjRw5Un/7298kSaWlpZKkiIgIr9dFRETY20pLSxUeHl5n3%2BHh4V41Z9vHj/s4U2Zmpn1Nl8vlUlRU1H8wUwAA4GuMnyJMS0tTWlqa/v3vf%2Bv222%2BXJH366aeaMmWKpk6daqyfmpoaxcbGKiMjQ5J04403auvWrZozZ47XPbbOPIVnWZZX29lO8f1UTe0F7uc6PThhwgSlp6fbzysrKwlZAAA0I8YDVmpqqo4fP66MjAw999xzkqS2bdtq5syZeuSRR4z1ExkZqc6dO3u1derUScuXL5d0%2Bi7y0ulVpsjISLumrKzMXoFyu906cOBAnX0fPHjQq%2BbMlaqysjJJdVfHajmdTq9TigAAoHmplzu5jxgxQiUlJdq3b5%2B%2B%2B%2B477dmzx2i4kqSePXtq%2B/btXm07duzQlVdeKUmKjo6W2%2B1Wbm6uvb26ulp5eXnq0aOHpNMX3ldUVGj9%2BvV2zbp161RRUeFVs2rVKlVXV9s1OTk58ng8XhfVAwAA1KrX3yKMjIz0um2CSaNHj1Z%2Bfr4yMjL0z3/%2BU0uWLNFrr72m4cOHSzp9%2Bi4tLU0ZGRnKyspSUVGRUlJS1KJFCyUlJUk6veLVt29fpaamKj8/X/n5%2BUpNTVX//v3VsWNHSadv4%2BB0OpWSkqKioiJlZWUpIyODbxACAIBzMh6wDh48qN///vdq166dgoKCFBgY6PUw5aabblJWVpbeeustxcTE6IUXXtCMGTP00EMP2TXjxo1TWlqahg0bptjYWO3bt085OTkKCQmxaxYvXqwuXbooISFBCQkJuv766/Xmm2/a210ul3Jzc7V3717FxsZq2LBhSk9P97rGCgAA4MeMX4OVkpKif/3rX3riiScUGRlZr6s8/fv3V//%2B/c%2B53eFwaNKkSZo0adI5ay6//HItWrTovP106dJFq1at%2BqXDBAAAzYzxgLVq1SqtWrVKN954o%2BldAwAA%2BATjpwjbtm3LtUkAAKBZMx6wXn31VU2YMEF79%2B41vWsAAACfYPwUYXJyso4cOaIrr7xSoaGhCggI8Npeew8pAACApsp4wHrppZdM7xIAAMCnGA9Yjz76qOldAgAA%2BJR6udHo7t27NWnSJCUnJ9unBHNycrRt27b66A4AAKBRMR6wvvjiC1133XXKy8vT22%2B/raNHj0qSNm3apGeffdZ0dwAAAI2O8YA1fvx4TZo0SZ999pnXndtvv/125efnm%2B4OAACg0TEesL766iv99re/rdMeHh6ugwcPmu4OAACg0TEesC677DKVlpbWaS8sLFSbNm1MdwcAANDoGA9YDzzwgJ588kkdPHjQvqP7unXrNHbsWA0aNMh0dwAAAI2O8YCVkZEht9utyMhIHT16VJ07d1aPHj1000036ZlnnjHdHQAAQKNj/D5YgYGBWrZsmXbs2KFNmzappqZGv/rVr3Tttdea7goAAKBRMh6wal1zzTW65ppr6mv3AAAAjZbxgPU///M/593%2B2muvme4SAACgUTEesEpKSryenzhxQlu3btWRI0d06623mu4OAACg0TEesN5///06bSdPntQf/vAHderUyXR3AAAAjU69/Bbhmfz9/TV27Fi98sorF6M7AACABlVvF7mfaefOnTpx4sTF6g5AIxY7Mbuhh/CzbJzct6GHAMDHGA9Y48aN83puWZZKSkq0YsUKPfTQQ6a7AwAAaHSMB6y1a9d6Pb/kkkt0xRVX6KWXXlJqaqrp7gAAABod4wHriy%2B%2BML1LAAAAn3JRLnIHAABoToyvYN100032jzz/lPXr15vuHgAAoMEZD1i33Xab/vd//1fXXHON4uLiJEn5%2Bfnavn27hgwZIqfTabpLAACARsV4wDp8%2BLCGDx%2BujIwMr/aJEyfqwIED%2Butf/2q6SwAAgEbF%2BDVYb7/9tn7/%2B9/XaU9JSdE777xjujsAAIBGx3jAcjqdWrNmTZ32NWvWcHoQAAA0C8ZPEY4cOVJDhw7V5s2bdfPNN0s6fQ3WvHnz9NRTT5nuDgAAoNExHrAmTpyo6Oho/elPf9Lrr78uSerUqZPmzZunpKQk090BAAA0OvXyW4RJSUmEKQAA0GzVy41GKysr9cYbb%2BjZZ59VeXm5JOnLL79USUlJfXQHAADQqBhfwSoqKtKdd96pFi1aqLi4WCkpKQoLC9Pbb7%2BtvXv3auHChaa7BAAAaFSMr2CNHj1aSUlJ%2Bte//qWgoCC7vV%2B/flq1apXp7gAAABod4ytYGzZs0Jw5c%2Br8XE6bNm04RQgAAJoF4ytYgYGBOnr0aJ32b775Rq1btzbdHQAAQKNjPGANGDBAL7zwgk6ePClJcjgc2rdvn5588kkNHDjQdHcAAACNjvGANW3aNO3fv19ut1vHjh3T7bffrg4dOigoKKjO7xMCAAA0RcavwXK5XFqzZo1yc3O1adMm1dTU6Fe/%2BpUSExPrXJcFAADQFBkNWCdOnNDdd9%2Btv/zlL0pISFBCQoLJ3QMAAPgEo6cIAwICtHnzZlaqAABAs2b8GqxBgwZpwYIFpncLAADgM%2Brltwhnz56tlStXKjY2Vi1btvTaNmXKlProEgAAoNEwHrAKCgp0/fXXS5K%2B%2Buorr22cOgQAAM2BsYC1c%2BdORUdH64svvjC1SwAAAJ9k7Bqsq6%2B%2BWgcPHrSf33///Tpw4ICp3QMAAPgMYwHLsiyv5x999JG%2B//57U7sHAADwGca/RQgAANDcGQtYDoejzkXsF/Oi9szMTDkcDqWlpdltVVVVGjFihFq3bq2WLVtqwIAB2rt3r9fr9uzZo3vuuUctW7ZU69atNXLkSFVXV3vV5OXlqVu3bgoKClKHDh00d%2B7cizInAADgm4xd5G5ZllJSUuR0OiVJx48f19ChQ%2BvcpuHdd9811aVtw4YNeu211%2BxvL9ZKS0vT%2B%2B%2B/r6VLl6pVq1YaM2aM%2Bvfvr4KCAvn5%2BenUqVPq16%2BfrrjiCq1evVr//ve/NXjwYFmWpVmzZkmSdu3apbvvvlupqalatGiR/u///k/Dhg3TFVdcod/85jfG5wIAAHyfsYA1ePBgr%2BeDBg0ytevzOnr0qB566CHNmzdPL774ot1eUVGh%2BfPn680339Sdd94pSVq0aJGioqK0cuVKJSYmKicnR19//bWKi4vl8Xgknf6x6pSUFE2ePFmhoaGaO3eu2rVrpxkzZkiSOnXqpI0bN2rq1KkELAAAcFbGAlZD3b19%2BPDh6tevn%2B68806vgFVQUKATJ054/R6ix%2BNRTEyM1qxZo8TERK1du1YxMTF2uJKkxMREVVVVqaCgQLfddpvWrl1b5zcVExMTNX/%2BfJ04cUIBAQH1P0kAAOBT6uVO7hfL0qVLVVBQoI0bN9bZVlpaqsDAQIWFhXm1R0REqLS01K6JiIjw2h4WFqbAwMDz1kREROjkyZM6dOiQIiMj6/RdVVWlqqoq%2B3llZeUvmyAAAPBJPvstwuLiYo0aNUqLFy9WUFDQBb/Osiyvi%2B/PdiH%2BT9XU3pLiXBfxZ2ZmyuVy2Y%2BoqKgLHh8AAPB9PhuwCgoKVFZWpm7dusnf31/%2B/v7Ky8vTzJkz5e/vr4iICFVXV6u8vNzrdWVlZfaKlNvttleqapWXl%2BvEiRPnrSkrK5O/v79atWp11rFNmDBBFRUV9qO4uNjUtAEAgA/w2YB1xx13aMuWLSosLLQfsbGxeuihh%2By/AwIClJuba7%2BmpKRERUVF6tGjhyQpLi5ORUVFKikpsWtycnLkdDrVrVs3u%2BbH%2B6itqd3/2TidToWGhno9AABA8%2BGz12CFhIQoJibGq61ly5Zq1aqV3f7oo49qzJgxatWqlS6//HKNHTtWXbp0sb9VmJCQoM6dOys5OVmvvPKKvvvuO40dO1apqal2KBo6dKhmz56t9PR0paamau3atZo/f77eeuutizthAADgM3w2YF2IV199Vf7%2B/rrvvvt07Ngx3XHHHXrjjTfk5%2BcnSfLz89OHH36oYcOGqWfPngoODlZSUpKmTp1q7yM6OlofffSRRo8erT//%2Bc/yeDyaOXMmt2gAAADn1KQC1ueff%2B71PCgoSLNmzbJvGno27dq10wcffHDe/cbHx2vTpk0mhggAAJoBn70GCwAAoLEiYAEAABhGwAIAADCMgAUAAGAYAQsAAMAwAhYAAIBhBCwAAADDCFgAAACGEbAAAAAMI2ABAAAYRsACAAAwjIAFAABgGAELAADAMAIWAACAYQQsAAAAwwhYAAAAhhGwAAAADCNgAQAAGEbAAgAAMIyABQAAYBgBCwAAwDACFgAAgGEELAAAAMMIWAAAAIYRsAAAAAwjYAEAABhGwAIAADCMgAUAAGAYAQsAAMAwAhYAAIBhBCwAAADDCFgAAACGEbAAAAAMI2ABAAAYRsACAAAwjIAFAABgGAELAADAMAIWAACAYQQsAAAAwwhYAAAAhhGwAAAADCNgAQAAGEbAAgAAMIyABQAAYBgBCwAAwDACFgAAgGEELAAAAMMIWAAAAIYRsAAAAAwjYAEAABjmswErMzNTN910k0JCQhQeHq57771X27dv96qpqqrSiBEj1Lp1a7Vs2VIDBgzQ3r17vWr27Nmje%2B65Ry1btlTr1q01cuRIVVdXe9Xk5eWpW7duCgoKUocOHTR37tx6nx8AAPBdPhuw8vLyNHz4cOXn5ys3N1cnT55UQkKCvv/%2Be7smLS1NWVlZWrp0qVavXq2jR4%2Bqf//%2BOnXqlCTp1KlT6tevn77//nutXr1aS5cu1fLlyzVmzBh7H7t27dLdd9%2BtW265RZs3b9ZTTz2lkSNHavny5Rd9zgAAwDf4N/QAfqns7Gyv5wsWLFB4eLgKCgp06623qqKiQvPnz9ebb76pO%2B%2B8U5K0aNEiRUVFaeXKlUpMTFROTo6%2B/vprFRcXy%2BPxSJKmTZumlJQUTZ48WaGhoZo7d67atWunGTNmSJI6deqkjRs3aurUqfrNb35zcScNAAB8gs%2BuYJ2poqJCknT55ZdLkgoKCnTixAklJCTYNR6PRzExMVqzZo0kae3atYqJibHDlSQlJiaqqqpKBQUFds2P91Fbs3HjRp04ceKsY6mqqlJlZaXXAwAANB9NImBZlqX09HT16tVLMTExkqTS0lIFBgYqLCzMqzYiIkKlpaV2TUREhNf2sLAwBQYGnrcmIiJCJ0%2Be1KFDh846nszMTLlcLvsRFRVlZJ4AAMA3NImA9fjjj%2Burr77SW2%2B99ZO1lmXJ4XDYz3/894XWWJZ1ztdK0oQJE1RRUWE/iouLL2geAACgafD5gDVixAitWLFCn332mdq2bWu3u91uVVdXq7y83Ku%2BrKzMXpFyu932SlWt8vJynThx4rw1ZWVl8vf3V6tWrc46JqfTqdDQUK8HAABoPnw2YFmWpccff1zvvvuu/v73vys6Otpre7du3RQQEKDc3Fy7raSkREVFRerRo4ckKS4uTkVFRSopKbFrcnJy5HQ61a1bN7vmx/uorYmNjVVAQEB9TQ8AAPgwnw1Yw4cP16JFi7RkyRKFhISotLRUpaWlOnbsmCTJ5XLp0Ucyi0HVAAAMyklEQVQf1ZgxY/Tpp59q8%2BbNGjRokLp06WJ/qzAhIUGdO3dWcnKyNm/erE8//VRjx45Vamqqveo0dOhQffvtt0pPT9e2bdv0%2Buuva/78%2BRo7dmyDzR0AADRuPhuw5syZo4qKCvXu3VuRkZH2Y9myZXbNq6%2B%2BqnvvvVf33XefevbsqRYtWuj999%2BXn5%2BfJMnPz08ffvihgoKC1LNnT91333269957NXXqVHsf0dHR%2Buijj/T555/rhhtu0AsvvKCZM2dyiwYAAHBOPnsfrNoLzc8nKChIs2bN0qxZs85Z065dO33wwQfn3U98fLw2bdr0s8cIAACaJ59dwQIAAGisCFgAAACGEbAAAAAMI2ABAAAYRsACAAAwjIAFAABgGAELAADAMAIWAACAYQQsAAAAwwhYAAAAhhGwAAAADCNgAQAAGEbAAgAAMIyABQAAYBgBCwAAwDACFgAAgGEELAAAAMMIWAAAAIYRsAAAAAwjYAEAABhGwAIAADCMgAUAAGAYAQsAAMAwAhYAAIBhBCwAAADDCFgAAACGEbAAAAAMI2ABAAAYRsACAAAwjIAFAABgGAELAADAMAIWAACAYQQsAAAAwwhYAAAAhhGwAAAADCNgAQAAGEbAAgAAMIyABQAAYBgBCwAAwDACFgAAgGEELAAAAMMIWAAAAIYRsAAAAAwjYAEAABhGwAIAADCMgAUAAGAYAQsAAMAwAhYAAIBhBCwAAADDCFgAAACGEbAu0F/%2B8hdFR0crKChI3bp10xdffNHQQwIAAI0UAesCLFu2TGlpaZo4caI2b96sW265RXfddZf27NnT0EMDAACNEAHrAkyfPl2PPvqoHnvsMXXq1EkzZsxQVFSU5syZ09BDAwAAjZB/Qw%2BgsauurlZBQYGefPJJr/aEhAStWbPmrK%2BpqqpSVVWV/byiokKSVFlZaXx8p6q%2BN75PnFYf7xdO87XPra99Fnzp%2BPrasfU1zf2zULtPy7KM7/unELB%2BwqFDh3Tq1ClFRER4tUdERKi0tPSsr8nMzNQf//jHOu1RUVH1MkbUD9e0hh4BGgs%2BC/WHY4ta9flZOHLkiFwuV/11cBYErAvkcDi8nluWVaet1oQJE5Senm4/r6mp0XfffadWrVqd8zW%2BqLKyUlFRUSouLlZoaGhDD%2BeiY/7MvznPX%2BIYMP/GP3/LsnTkyBF5PJ6L3jcB6ye0bt1afn5%2BdVarysrK6qxq1XI6nXI6nV5tl112Wb2NsaGFhoY22v9xXQzMn/k35/lLHAPm37jnf7FXrmpxkftPCAwMVLdu3ZSbm%2BvVnpubqx49ejTQqAAAQGPGCtYFSE9PV3JysmJjYxUXF6fXXntNe/bs0dChQxt6aAAAoBHymzRp0qSGHkRjFxMTo1atWikjI0NTp07VsWPH9Oabb6pr164NPbQG5%2Bfnp969e8vfv3lmdebP/Jvz/CWOAfNv3vM/H4fVEN9dBAAAaMK4BgsAAMAwAhYAAIBhBCwAAADDCFgAAACGEbBwXpmZmbrpppsUEhKi8PBw3Xvvvdq%2BfbtXTVVVlUaMGKHWrVurZcuWGjBggPbu3dtAIzZrzpw5uv766%2B0b6cXFxenjjz%2B2tzfluZ9NZmamHA6H0tLS7LamfgwmTZokh8Ph9XC73fZ2y7I0adIkeTweBQcHq3fv3tq6dWsDjti8ffv2adCgQWrVqpVatGihG264QQUFBfb2pnwM2rdvX%2Bf9dzgcGj58uKSm//k/efKknn76aUVHRys4OFgdOnTQ888/r5qaGrumKb///xELOI/ExERrwYIFVlFRkVVYWGj169fPateunXX06FG7ZujQoVabNm2s3Nxca9OmTdZtt91mde3a1Tp58mQDjtyMFStWWB9%2B%2BKG1fft2a/v27dZTTz1lBQQEWEVFRZZlNe25n2n9%2BvVW%2B/btreuvv94aNWqU3d7Uj8Fzzz1nXXfddVZJSYn9KCsrs7e/9NJLVkhIiLV8%2BXJry5Yt1v33329FRkZalZWVDThqc7777jvryiuvtFJSUqx169ZZu3btslauXGn985//tGua8jEoKyvzeu9zc3MtSdZnn31mWVbT//y/%2BOKLVqtWrawPPvjA2rVrl/XOO%2B9Yl156qTVjxgy7pim///8JAhZ%2BlrKyMkuSlZeXZ1mWZR0%2BfNgKCAiwli5datfs27fPuuSSS6zs7OyGGma9CgsLs/761782q7kfOXLEuvrqq63c3FwrPj7eDljN4Rg899xzVteuXc%2B6raamxnK73dZLL71ktx0/ftxyuVzW3LlzL9YQ69X48eOtXr16nXN7czgGPzZq1CjrqquusmpqaprF579fv37WI4884tU2cOBAa9CgQZZlNb/3/%2BfgFCF%2BloqKCknS5ZdfLkkqKCjQiRMnlJCQYNd4PB7FxMRozZo1DTLG%2BnLq1CktXbpU33//veLi4prV3IcPH65%2B/frpzjvv9GpvLsfgm2%2B%2BkcfjUXR0tB544AHt3LlTkrRr1y6VlpZ6zd/pdCo%2BPr7JzH/FihWKjY3V7373O4WHh%2BvGG2/UvHnz7O3N4RjUqq6u1qJFi/TII4/I4XA0i89/r1699Omnn2rHjh2SpC%2B//FKrV6/W3XffLal5vf8/F7dexQWzLEvp6enq1auXYmJiJEmlpaUKDAxUWFiYV21ERESdH8j2VVu2bFFcXJyOHz%2BuSy%2B9VFlZWercubMKCwub/NwlaenSpSooKNDGjRvrbGsO73/37t31t7/9Tddcc40OHDigF198UT169NDWrVvtOZ75w%2B8RERH69ttvG2K4xu3cuVNz5sxRenq6nnrqKa1fv14jR46U0%2BnUww8/3CyOQa333ntPhw8fVkpKiqTm8fkfP368KioqdO2118rPz0%2BnTp3S5MmT9eCDD0pSs3r/fy4CFi7Y448/rq%2B%2B%2BkqrV6/%2ByVrLsuRwOC7CqOpfx44dVVhYqMOHD2v58uUaPHiw8vLyzlnflOZeXFysUaNGKScnR0FBQRf8uqZ0DO666y777y5duiguLk5XXXWVFi5cqJtvvlmS6sy1Kc2/pqZGsbGxysjIkCTdeOON2rp1q%2BbMmaOHH37YrmvKx6DW/Pnzddddd8nj8Zy3rinNfdmyZVq0aJGWLFmi6667ToWFhUpLS5PH49HgwYPtuubw/v9cnCLEBRkxYoRWrFihzz77TG3btrXb3W63qqurVV5e7lVfVlZW5//R%2BKrAwED913/9l2JjY5WZmamuXbvqT3/6U7OYe0FBgcrKytStWzf5%2B/vL399feXl5mjlzpvz9/RUREdHkj8GZWrZsqS5duuibb76xv0145mpFU5p/ZGSkOnfu7NXWqVMn7dmzR5KaxTGQpG%2B//VYrV67UY489Zrc1h/8GPPHEE3ryySf1wAMPqEuXLkpOTtbo0aOVmZkpqfm8/78EAQvnZVmWHn/8cb377rv6%2B9//rujoaK/t3bp1U0BAgHJzc%2B22kpISFRUVqUePHhd7uBeFZVmqqqpqFnO/4447tGXLFhUWFtqP2NhYPfTQQ/bfTf0YnKmqqkrbtm1TZGSkoqOj5Xa7veZfXV2tvLy8JjP/nj171rk1y44dO3TllVdKUrM4BpK0YMEChYeHq1%2B/fnZbc/hvwA8//KBLLvGOCn5%2BfvZtGprL%2B/%2BLNNTV9fANf/jDHyyXy2V9/vnnXl9V/uGHH%2ByaoUOHWm3btrVWrlxpbdq0ybr99tubzNeUJ0yYYK1atcratWuX9dVXX1lPPfWUdckll1g5OTmWZTXtuZ/Lj79FaFlN/xiMGTPG%2Bvzzz62dO3da%2Bfn5Vv/%2B/a2QkBBr9%2B7dlmWd/oq6y%2BWy3n33XWvLli3Wgw8%2B2KS%2Bor5%2B/XrL39/fmjx5svXNN99Yixcvtlq0aGEtWrTIrmnqx%2BDUqVNWu3btrPHjx9fZ1tQ//4MHD7batGlj36bh3XfftVq3bm2NGzfOrmnq7/8vRcDCeUk662PBggV2zbFjx6zHH3/cuvzyy63g4GCrf//%2B1p49expu0AY98sgj1pVXXmkFBgZaV1xxhXXHHXfY4cqymvbcz%2BXMgNXUj0HtPX0CAgIsj8djDRw40Nq6dau9vaamxnruuecst9ttOZ1O69Zbb7W2bNnSgCM27/3337diYmIsp9NpXXvttdZrr73mtb2pH4NPPvnEkmRt3769zram/vmvrKy0Ro0aZbVr184KCgqyOnToYE2cONGqqqqya5r6%2B/9LOSzLshpwAQ0AAKDJ4RosAAAAwwhYAAAAhhGwAAAADCNgAQAAGEbAAgAAMIyABQAAYBgBCwAAwDACFgAAgGEELAAAAMMIWAAAAIYRsAAAAAwjYAEAABhGwAIAADCMgAUAAGAYAQsAAMAwAhYAAIBhBCwAAADDCFgAAACG/T9YHBg/RyWMcAAAAABJRU5ErkJggg%3D%3D\"/>\n",
       "        </div>\n",
       "        <div role=\"tabpanel\" class=\"tab-pane col-md-12\" id=\"common-7122769974484771101\">\n",
       "            \n",
       "<table class=\"freq table table-hover\">\n",
       "    <thead>\n",
       "    <tr>\n",
       "        <td class=\"fillremaining\">Value</td>\n",
       "        <td class=\"number\">Count</td>\n",
       "        <td class=\"number\">Frequency (%)</td>\n",
       "        <td style=\"min-width:200px\">&nbsp;</td>\n",
       "    </tr>\n",
       "    </thead>\n",
       "    <tr class=\"\">\n",
       "        <td class=\"fillremaining\">56</td>\n",
       "        <td class=\"number\">8969</td>\n",
       "        <td class=\"number\">24.0%</td>\n",
       "        <td>\n",
       "            <div class=\"bar\" style=\"width:100%\">&nbsp;</div>\n",
       "        </td>\n",
       "</tr><tr class=\"\">\n",
       "        <td class=\"fillremaining\">27</td>\n",
       "        <td class=\"number\">6714</td>\n",
       "        <td class=\"number\">18.0%</td>\n",
       "        <td>\n",
       "            <div class=\"bar\" style=\"width:75%\">&nbsp;</div>\n",
       "        </td>\n",
       "</tr><tr class=\"\">\n",
       "        <td class=\"fillremaining\">15</td>\n",
       "        <td class=\"number\">6400</td>\n",
       "        <td class=\"number\">17.1%</td>\n",
       "        <td>\n",
       "            <div class=\"bar\" style=\"width:71%\">&nbsp;</div>\n",
       "        </td>\n",
       "</tr><tr class=\"\">\n",
       "        <td class=\"fillremaining\">83</td>\n",
       "        <td class=\"number\">5741</td>\n",
       "        <td class=\"number\">15.4%</td>\n",
       "        <td>\n",
       "            <div class=\"bar\" style=\"width:64%\">&nbsp;</div>\n",
       "        </td>\n",
       "</tr><tr class=\"\">\n",
       "        <td class=\"fillremaining\">44</td>\n",
       "        <td class=\"number\">5170</td>\n",
       "        <td class=\"number\">13.9%</td>\n",
       "        <td>\n",
       "            <div class=\"bar\" style=\"width:58%\">&nbsp;</div>\n",
       "        </td>\n",
       "</tr><tr class=\"\">\n",
       "        <td class=\"fillremaining\">79</td>\n",
       "        <td class=\"number\">4328</td>\n",
       "        <td class=\"number\">11.6%</td>\n",
       "        <td>\n",
       "            <div class=\"bar\" style=\"width:48%\">&nbsp;</div>\n",
       "        </td>\n",
       "</tr>\n",
       "</table>\n",
       "        </div>\n",
       "        <div role=\"tabpanel\" class=\"tab-pane col-md-12\"  id=\"extreme-7122769974484771101\">\n",
       "            <p class=\"h4\">Minimum 5 values</p>\n",
       "            \n",
       "<table class=\"freq table table-hover\">\n",
       "    <thead>\n",
       "    <tr>\n",
       "        <td class=\"fillremaining\">Value</td>\n",
       "        <td class=\"number\">Count</td>\n",
       "        <td class=\"number\">Frequency (%)</td>\n",
       "        <td style=\"min-width:200px\">&nbsp;</td>\n",
       "    </tr>\n",
       "    </thead>\n",
       "    <tr class=\"\">\n",
       "        <td class=\"fillremaining\">15</td>\n",
       "        <td class=\"number\">6400</td>\n",
       "        <td class=\"number\">17.1%</td>\n",
       "        <td>\n",
       "            <div class=\"bar\" style=\"width:71%\">&nbsp;</div>\n",
       "        </td>\n",
       "</tr><tr class=\"\">\n",
       "        <td class=\"fillremaining\">27</td>\n",
       "        <td class=\"number\">6714</td>\n",
       "        <td class=\"number\">18.0%</td>\n",
       "        <td>\n",
       "            <div class=\"bar\" style=\"width:75%\">&nbsp;</div>\n",
       "        </td>\n",
       "</tr><tr class=\"\">\n",
       "        <td class=\"fillremaining\">44</td>\n",
       "        <td class=\"number\">5170</td>\n",
       "        <td class=\"number\">13.9%</td>\n",
       "        <td>\n",
       "            <div class=\"bar\" style=\"width:58%\">&nbsp;</div>\n",
       "        </td>\n",
       "</tr><tr class=\"\">\n",
       "        <td class=\"fillremaining\">56</td>\n",
       "        <td class=\"number\">8969</td>\n",
       "        <td class=\"number\">24.0%</td>\n",
       "        <td>\n",
       "            <div class=\"bar\" style=\"width:100%\">&nbsp;</div>\n",
       "        </td>\n",
       "</tr><tr class=\"\">\n",
       "        <td class=\"fillremaining\">79</td>\n",
       "        <td class=\"number\">4328</td>\n",
       "        <td class=\"number\">11.6%</td>\n",
       "        <td>\n",
       "            <div class=\"bar\" style=\"width:48%\">&nbsp;</div>\n",
       "        </td>\n",
       "</tr>\n",
       "</table>\n",
       "            <p class=\"h4\">Maximum 5 values</p>\n",
       "            \n",
       "<table class=\"freq table table-hover\">\n",
       "    <thead>\n",
       "    <tr>\n",
       "        <td class=\"fillremaining\">Value</td>\n",
       "        <td class=\"number\">Count</td>\n",
       "        <td class=\"number\">Frequency (%)</td>\n",
       "        <td style=\"min-width:200px\">&nbsp;</td>\n",
       "    </tr>\n",
       "    </thead>\n",
       "    <tr class=\"\">\n",
       "        <td class=\"fillremaining\">27</td>\n",
       "        <td class=\"number\">6714</td>\n",
       "        <td class=\"number\">18.0%</td>\n",
       "        <td>\n",
       "            <div class=\"bar\" style=\"width:75%\">&nbsp;</div>\n",
       "        </td>\n",
       "</tr><tr class=\"\">\n",
       "        <td class=\"fillremaining\">44</td>\n",
       "        <td class=\"number\">5170</td>\n",
       "        <td class=\"number\">13.9%</td>\n",
       "        <td>\n",
       "            <div class=\"bar\" style=\"width:58%\">&nbsp;</div>\n",
       "        </td>\n",
       "</tr><tr class=\"\">\n",
       "        <td class=\"fillremaining\">56</td>\n",
       "        <td class=\"number\">8969</td>\n",
       "        <td class=\"number\">24.0%</td>\n",
       "        <td>\n",
       "            <div class=\"bar\" style=\"width:100%\">&nbsp;</div>\n",
       "        </td>\n",
       "</tr><tr class=\"\">\n",
       "        <td class=\"fillremaining\">79</td>\n",
       "        <td class=\"number\">4328</td>\n",
       "        <td class=\"number\">11.6%</td>\n",
       "        <td>\n",
       "            <div class=\"bar\" style=\"width:48%\">&nbsp;</div>\n",
       "        </td>\n",
       "</tr><tr class=\"\">\n",
       "        <td class=\"fillremaining\">83</td>\n",
       "        <td class=\"number\">5741</td>\n",
       "        <td class=\"number\">15.4%</td>\n",
       "        <td>\n",
       "            <div class=\"bar\" style=\"width:64%\">&nbsp;</div>\n",
       "        </td>\n",
       "</tr>\n",
       "</table>\n",
       "        </div>\n",
       "    </div>\n",
       "</div>\n",
       "</div><div class=\"row variablerow ignore\">\n",
       "    <div class=\"col-md-3 namecol\">\n",
       "        <p class=\"h4 pp-anchor\" id=\"pp_var_Unit\"><s>Unit</s><br/>\n",
       "            <small>Constant</small>\n",
       "        </p>\n",
       "    </div><div class=\"col-md-3\">\n",
       "    <p><em>This variable is constant and should be ignored for analysis</em></p>\n",
       "</div>\n",
       "<div class=\"col-md-6\">\n",
       "    <table class=\"stats \">\n",
       "        <tr>\n",
       "            <th>Constant value</th>\n",
       "            <td>hg/ha</td>\n",
       "        </tr>\n",
       "    </table>\n",
       "</div>\n",
       "</div><div class=\"row variablerow\">\n",
       "    <div class=\"col-md-3 namecol\">\n",
       "        <p class=\"h4 pp-anchor\" id=\"pp_var_Value\">Value<br/>\n",
       "            <small>Numeric</small>\n",
       "        </p>\n",
       "    </div><div class=\"col-md-6\">\n",
       "    <div class=\"row\">\n",
       "        <div class=\"col-sm-6\">\n",
       "            <table class=\"stats \">\n",
       "                <tr>\n",
       "                    <th>Distinct count</th>\n",
       "                    <td>23596</td>\n",
       "                </tr>\n",
       "                <tr>\n",
       "                    <th>Unique (%)</th>\n",
       "                    <td>63.2%</td>\n",
       "                </tr>\n",
       "                <tr class=\"ignore\">\n",
       "                    <th>Missing (%)</th>\n",
       "                    <td>0.0%</td>\n",
       "                </tr>\n",
       "                <tr class=\"ignore\">\n",
       "                    <th>Missing (n)</th>\n",
       "                    <td>6</td>\n",
       "                </tr>\n",
       "                <tr class=\"ignore\">\n",
       "                    <th>Infinite (%)</th>\n",
       "                    <td>0.0%</td>\n",
       "                </tr>\n",
       "                <tr class=\"ignore\">\n",
       "                    <th>Infinite (n)</th>\n",
       "                    <td>0</td>\n",
       "                </tr>\n",
       "            </table>\n",
       "\n",
       "        </div>\n",
       "        <div class=\"col-sm-6\">\n",
       "            <table class=\"stats \">\n",
       "\n",
       "                <tr>\n",
       "                    <th>Mean</th>\n",
       "                    <td>24207</td>\n",
       "                </tr>\n",
       "                <tr>\n",
       "                    <th>Minimum</th>\n",
       "                    <td>0</td>\n",
       "                </tr>\n",
       "                <tr>\n",
       "                    <th>Maximum</th>\n",
       "                    <td>367620</td>\n",
       "                </tr>\n",
       "                <tr class=\"ignore\">\n",
       "                    <th>Zeros (%)</th>\n",
       "                    <td>0.0%</td>\n",
       "                </tr>\n",
       "            </table>\n",
       "        </div>\n",
       "    </div>\n",
       "</div>\n",
       "<div class=\"col-md-3 collapse in\" id=\"minihistogram9094629639293828572\">\n",
       "    <img src=\"data:image/png;base64,iVBORw0KGgoAAAANSUhEUgAAAMgAAABLCAYAAAA1fMjoAAAABHNCSVQICAgIfAhkiAAAAAlwSFlzAAAPYQAAD2EBqD%2BnaQAAADl0RVh0U29mdHdhcmUAbWF0cGxvdGxpYiB2ZXJzaW9uIDMuMC4yLCBodHRwOi8vbWF0cGxvdGxpYi5vcmcvOIA7rQAAAbBJREFUeJzt3TGO01AUhtHraFo7fRTvgkWwJ2pK9sMi2EWiLMAWBQV5FBCaQb9mRjPPBM5pI%2BXeRO%2BTlbjw0Fpr1dn5fK55nnuP5c6dTqc6Ho9dZz50nfbLOI5V9fMDT9O0xQrckWVZap7n3%2Bemp00CGYahqqqmaXoUyLsPn5/9fl8%2Bvn%2BVvfi73c5NT7vuE%2BGOCAQCgUAgEAgEAoFAIBAIBAKBQCAQCAQCgUAgEAgEAoFAIBAIBAKBQCAQCAQCgUAgEAgEAoFAIBAIBAKBQCAQCAQCgUAgEAgEAoFAIBAIBAKBQCAQCAQCgUAgEAg2eYjna/PgT96KKwgEAoFAIBAIBAKBQCAQCAQCwT9xH%2BQl3DvhKTYJpLVWVVXLsjx67fu3r73XebI/7cvbu33vt3PT0yaBrOtaVVXzPG8x/sX2n7be4P%2B2rmvt9/uuM4e2QZbX67Uul0uN41jDMPQez51prdW6rnU4HGq36/uzeZNA4F74FwsCgUAgEAgEAoFAIBAIBAKBQCAQCAQCgUAgEAgEAoFAIBAIBAKBQCAQCAQCgUAgEAgEAoFAIBAIBAKB4Ad5CUZ1rKZ%2BZwAAAABJRU5ErkJggg%3D%3D\">\n",
       "\n",
       "</div>\n",
       "<div class=\"col-md-12 text-right\">\n",
       "    <a role=\"button\" data-toggle=\"collapse\" data-target=\"#descriptives9094629639293828572,#minihistogram9094629639293828572\"\n",
       "       aria-expanded=\"false\" aria-controls=\"collapseExample\">\n",
       "        Toggle details\n",
       "    </a>\n",
       "</div>\n",
       "<div class=\"row collapse col-md-12\" id=\"descriptives9094629639293828572\">\n",
       "    <ul class=\"nav nav-tabs\" role=\"tablist\">\n",
       "        <li role=\"presentation\" class=\"active\"><a href=\"#quantiles9094629639293828572\"\n",
       "                                                  aria-controls=\"quantiles9094629639293828572\" role=\"tab\"\n",
       "                                                  data-toggle=\"tab\">Statistics</a></li>\n",
       "        <li role=\"presentation\"><a href=\"#histogram9094629639293828572\" aria-controls=\"histogram9094629639293828572\"\n",
       "                                   role=\"tab\" data-toggle=\"tab\">Histogram</a></li>\n",
       "        <li role=\"presentation\"><a href=\"#common9094629639293828572\" aria-controls=\"common9094629639293828572\"\n",
       "                                   role=\"tab\" data-toggle=\"tab\">Common Values</a></li>\n",
       "        <li role=\"presentation\"><a href=\"#extreme9094629639293828572\" aria-controls=\"extreme9094629639293828572\"\n",
       "                                   role=\"tab\" data-toggle=\"tab\">Extreme Values</a></li>\n",
       "\n",
       "    </ul>\n",
       "\n",
       "    <div class=\"tab-content\">\n",
       "        <div role=\"tabpanel\" class=\"tab-pane active row\" id=\"quantiles9094629639293828572\">\n",
       "            <div class=\"col-md-4 col-md-offset-1\">\n",
       "                <p class=\"h4\">Quantile statistics</p>\n",
       "                <table class=\"stats indent\">\n",
       "                    <tr>\n",
       "                        <th>Minimum</th>\n",
       "                        <td>0</td>\n",
       "                    </tr>\n",
       "                    <tr>\n",
       "                        <th>5-th percentile</th>\n",
       "                        <td>4981.5</td>\n",
       "                    </tr>\n",
       "                    <tr>\n",
       "                        <th>Q1</th>\n",
       "                        <td>10000</td>\n",
       "                    </tr>\n",
       "                    <tr>\n",
       "                        <th>Median</th>\n",
       "                        <td>17143</td>\n",
       "                    </tr>\n",
       "                    <tr>\n",
       "                        <th>Q3</th>\n",
       "                        <td>31453</td>\n",
       "                    </tr>\n",
       "                    <tr>\n",
       "                        <th>95-th percentile</th>\n",
       "                        <td>64484</td>\n",
       "                    </tr>\n",
       "                    <tr>\n",
       "                        <th>Maximum</th>\n",
       "                        <td>367620</td>\n",
       "                    </tr>\n",
       "                    <tr>\n",
       "                        <th>Range</th>\n",
       "                        <td>367620</td>\n",
       "                    </tr>\n",
       "                    <tr>\n",
       "                        <th>Interquartile range</th>\n",
       "                        <td>21453</td>\n",
       "                    </tr>\n",
       "                </table>\n",
       "            </div>\n",
       "            <div class=\"col-md-4 col-md-offset-2\">\n",
       "                <p class=\"h4\">Descriptive statistics</p>\n",
       "                <table class=\"stats indent\">\n",
       "                    <tr>\n",
       "                        <th>Standard deviation</th>\n",
       "                        <td>22917</td>\n",
       "                    </tr>\n",
       "                    <tr>\n",
       "                        <th>Coef of variation</th>\n",
       "                        <td>0.9467</td>\n",
       "                    </tr>\n",
       "                    <tr>\n",
       "                        <th>Kurtosis</th>\n",
       "                        <td>29.002</td>\n",
       "                    </tr>\n",
       "                    <tr>\n",
       "                        <th>Mean</th>\n",
       "                        <td>24207</td>\n",
       "                    </tr>\n",
       "                    <tr>\n",
       "                        <th>MAD</th>\n",
       "                        <td>15381</td>\n",
       "                    </tr>\n",
       "                    <tr class=\"\">\n",
       "                        <th>Skewness</th>\n",
       "                        <td>3.7772</td>\n",
       "                    </tr>\n",
       "                    <tr>\n",
       "                        <th>Sum</th>\n",
       "                        <td>903310000</td>\n",
       "                    </tr>\n",
       "                    <tr>\n",
       "                        <th>Variance</th>\n",
       "                        <td>525170000</td>\n",
       "                    </tr>\n",
       "                    <tr>\n",
       "                        <th>Memory size</th>\n",
       "                        <td>291.7 KiB</td>\n",
       "                    </tr>\n",
       "                </table>\n",
       "            </div>\n",
       "        </div>\n",
       "        <div role=\"tabpanel\" class=\"tab-pane col-md-8 col-md-offset-2\" id=\"histogram9094629639293828572\">\n",
       "            <img src=\"data:image/png;base64,iVBORw0KGgoAAAANSUhEUgAAAlgAAAGQCAYAAAByNR6YAAAABHNCSVQICAgIfAhkiAAAAAlwSFlzAAAPYQAAD2EBqD%2BnaQAAADl0RVh0U29mdHdhcmUAbWF0cGxvdGxpYiB2ZXJzaW9uIDMuMC4yLCBodHRwOi8vbWF0cGxvdGxpYi5vcmcvOIA7rQAAIABJREFUeJzt3X9c1vW9//EnKVySgyuU%2BHEpGbVSCfUkNMUyzQq01DXb0tk4etY4sfyRoavU0zJ3EivnWpp2aq1aK3E7RMdzNANXoh7AHygpas4tDU0QNbxQp4D2/v7R4fP1Ekw238gFPu632%2Bd28/p8Xtf7x%2BeCG0/f1%2Bf6XAHGGCMAAABYc0VLDwAAAKCtIWABAABYRsACAACwjIAFAABgGQELAADAMgIWAACAZQQsAAAAywhYAAAAlhGwAAAALCNgAQAAWEbAAgAAsIyABQAAYBkBCwAAwDICFgAAgGUELAAAAMsIWAAAAJYRsAAAACwjYAEAAFhGwAIAALCMgAUAAGAZAQsAAMAyAhYAAIBlBCwAAADLCFgAAACWEbAAAAAsI2ABAABYRsACAACwjIAFAABgGQELAADAMgIWAACAZQQsAAAAywhYAAAAlhGwAAAALCNgAQAAWEbAAgAAsIyABQAAYBkBCwAAwDICFgAAgGXtW3oAl4OvvvpKBw4cUEhIiAICAlp6OAAAXBaMMTp27Jg8Ho%2BuuOLSrikRsC6BAwcOKCYmpqWHAQDAZWnfvn3q2rXrJe2TgHUJhISESPr6BQ4NDW3h0QAAcHmorq5WTEyM83f4UiJgXQL1bwuGhoYSsAAAuMRa4vIcLnIHAACwjIAFAABgGQELAADAMgIWAACAZQQsAAAAywhYAAAAlhGwAAAALCNgAQAAWOa3AWvx4sXq3bu3c3POpKQkffDBB87xmpoaTZo0SeHh4erYsaNGjhyp/fv3%2B7RRVlamESNGqGPHjgoPD9fkyZNVW1vrU5Ofn6%2BEhAR16NBB1113nV555ZUGY1m0aJFiY2PVoUMHJSQkaO3atc0zaQAA0Cb4bcDq2rWr5s6dq02bNmnTpk0aMmSIvvvd72r79u2SpClTpignJ0dZWVlat26djh8/ruHDh%2BvMmTOSpDNnzujee%2B/ViRMntG7dOmVlZSk7O1tTp051%2BtizZ4/uueceDRw4UFu2bNGMGTM0efJkZWdnOzVLly7VlClTNHPmTG3ZskUDBw7UsGHDVFZWdmlPCAAAaD1MKxIWFmZ%2B85vfmKNHj5rAwECTlZXlHPviiy/MFVdcYVauXGmMMWbFihXmiiuuMF988YVTs2TJEuNyuYzX6zXGGPP444%2BbHj16%2BPTx8MMPm/79%2BzuPv/Od75j09HSfmh49epgnn3yyyeP2er1GktMvAABofi3599dvV7DOdubMGWVlZenEiRNKSkpScXGx6urqlJyc7NR4PB7Fx8eroKBAklRYWKj4%2BHh5PB6nJiUlRTU1NSouLnZqzm6jvmbTpk2qq6tTbW2tiouLG9QkJyc7/QAAAJzLr7/sedu2bUpKStKpU6f0rW99Szk5OYqLi1NJSYmCgoIUFhbmUx8ZGamKigpJUkVFhSIjI32Oh4WFKSgo6BtrIiMjdfr0aR0%2BfFjGGJ05c6bRmvo2GlNTU6OamhrncXV19d8/%2BSZKnLmy2dq2bdOzQ1t6CAAAXBJ%2BvYLVvXt3lZSUqKioSD/96U81btw47dix47z1xhifb8xu7NuzL1RjjGmwv7Gab/pm7szMTLndbmeLiYk5by0AAGh7/DpgBQUF6dvf/rYSExOVmZmpPn366Ne//rWioqJUW1urqqoqn/rKykpntSkqKqrBKlNVVZXq6uq%2BsaayslLt27dX586dFR4ernbt2jVac%2B6q1tmmT58ur9frbPv27fuHzwEAAGh9/DpgncsYo5qaGiUkJCgwMFB5eXnOsfLycpWWlmrAgAGSpKSkJJWWlqq8vNypyc3NlcvlUkJCglNzdhv1NYmJiQoMDFRQUJASEhIa1OTl5Tn9NMblcjm3l6jfAADA5cNvr8GaMWOGhg0bppiYGB07dkxZWVlavXq1Vq5cKbfbrYceekhTp05V586d1alTJ02bNk29evXSXXfdJenrC9Hj4uKUmpqqF154QV9%2B%2BaWmTZumtLQ0J/Ckp6dr4cKFysjIUFpamgoLC/X6669ryZIlzjgyMjKUmpqqxMREJSUl6dVXX1VZWZnS09Nb5LwAAAD/57cB6%2BDBg0pNTVV5ebncbrd69%2B6tlStX6u6775Yk/epXv1L79u31wAMP6OTJk7rzzjv15ptvql27dpKkdu3aafny5XrkkUd06623Kjg4WGPHjtW8efOcPmJjY7VixQo99thjevnll%2BXxePTSSy/p/vvvd2pGjx6tI0eOaPbs2SovL1d8fLxWrFihbt26XdoTAgAAWo0AU39VN5pNdXW13G63vF6v9bcL%2BRQhAACNa86/vxfSqq7BAgAAaA0IWAAAAJYRsAAAACwjYAEAAFhGwAIAALCMgAUAAGAZAQsAAMAyAhYAAIBlBCwAAADLCFgAAACWEbAAAAAsI2ABAABYRsACAACwjIAFAABgGQELAADAMgIWAACAZQQsAAAAywhYAAAAlhGwAAAALCNgAQAAWEbAAgAAsIyABQAAYBkBCwAAwDICFgAAgGUELAAAAMsIWAAAAJYRsAAAACwjYAEAAFhGwAIAALCMgAUAAGAZAQsAAMAyAhYAAIBlBCwAAADLCFgAAACWEbAAAAAsI2ABAABYRsACAACwjIAFAABgGQELAADAMgIWAACAZX4ZsDIzM3XLLbcoJCREERERuu%2B%2B%2B7Rr1y6fmsGDBysgIMBnGzNmjE9NVVWVUlNT5Xa75Xa7lZqaqqNHj/rUbNu2TYMGDVJwcLC6dOmi2bNnyxjjU5Odna24uDi5XC7FxcUpJyeneSYOAADaBL8MWPn5%2BZowYYKKioqUl5en06dPKzk5WSdOnPCpS0tLU3l5ubP9x3/8h8/xsWPHqqSkRCtXrtTKlStVUlKi1NRU53h1dbXuvvtueTwebdy4UQsWLNC8efM0f/58p6awsFCjR49WamqqPvnkE6WmpuqBBx7Q%2BvXrm/ckAACAVivAnLtc44cOHTqkiIgI5efn6/bbb5f09QrWP/3TP%2BnFF19s9Dk7d%2B5UXFycioqK1K9fP0lSUVGRkpKS9Omnn6p79%2B5avHixpk%2BfroMHD8rlckmS5s6dqwULFmj//v0KCAjQ6NGjVV1drQ8%2B%2BMBpe%2BjQoQoLC9OSJUuaNP7q6mq53W55vV6FhoZezKloIHHmSqvtNadNzw5t6SEAAC4jzfn390L8cgXrXF6vV5LUqVMnn/3vvPOOwsPDddNNN2natGk6duyYc6ywsFBut9sJV5LUv39/ud1uFRQUODWDBg1ywpUkpaSk6MCBA9q7d69Tk5yc7NNvSkqK00ZjampqVF1d7bMBAIDLR/uWHsCFGGOUkZGh2267TfHx8c7%2BBx98ULGxsYqKilJpaammT5%2BuTz75RHl5eZKkiooKRURENGgvIiJCFRUVTs21117rczwyMtI5Fhsbq4qKCmff2TX1bTQmMzNTzzzzzD80XwAA0Pr5fcCaOHGitm7dqnXr1vnsT0tLc/4dHx%2BvG264QYmJidq8ebP69u0rSQoICGjQnjHGZ/%2B5NfXvmF6oprG2602fPl0ZGRnO4%2BrqasXExJy3HgAAtC1%2BHbAmTZqkZcuWac2aNerates31vbt21eBgYHavXu3%2Bvbtq6ioKB08eLBB3aFDh5wVqaioqAYrUZWVlZJ0wZpzV7XO5nK5fN52BAAAlxe/vAbLGKOJEyfqvffe00cffaTY2NgLPmf79u2qq6tTdHS0JCkpKUler1cbNmxwatavXy%2Bv16sBAwY4NWvWrFFtba1Tk5ubK4/H47x1mJSU5LzteHZNfRsAAADn8suANWHCBP3%2B97/Xu%2B%2B%2Bq5CQEFVUVKiiokInT56UJP31r3/V7NmztWnTJu3du1crVqzQD37wA91888269dZbJUk9e/bU0KFDlZaWpqKiIhUVFSktLU3Dhw9X9%2B7dJX19GweXy6Xx48ertLRUOTk5mjNnjjIyMpy3AB999FHl5ubqueee06effqrnnntOq1at0pQpU1rm5AAAAL/nlwFr8eLF8nq9Gjx4sKKjo51t6dKlkqSgoCD96U9/UkpKirp3767JkycrOTlZq1atUrt27Zx23nnnHfXq1UvJyclKTk5W79699fbbbzvH3W638vLytH//fiUmJuqRRx5RRkaGz/VTAwYMUFZWlt544w317t1bb775ppYuXerz6UQAAICztYr7YLV23Afra9wHCwBwKXEfLAAAgDaEgAUAAGAZAQsAAMAyAhYAAIBlBCwAAADLCFgAAACWEbAAAAAsI2ABAABYRsACAACwjIAFAABgGQELAADAMgIWAACAZQQsAAAAywhYAAAAlhGwAAAALCNgAQAAWEbAAgAAsIyABQAAYBkBCwAAwDICFgAAgGUELAAAAMsIWAAAAJYRsAAAACwjYAEAAFhGwAIAALCMgAUAAGAZAQsAAMAyAhYAAIBlBCwAAADLCFgAAACWEbAAAAAsI2ABAABYRsACAACwjIAFAABgGQELAADAMgIWAACAZQQsAAAAywhYAAAAlhGwAAAALCNgAQAAWOa3ASszM1O33HKLQkJCFBERofvuu0%2B7du3yqampqdGkSZMUHh6ujh07auTIkdq/f79PTVlZmUaMGKGOHTsqPDxckydPVm1trU9Nfn6%2BEhIS1KFDB1133XV65ZVXGoxn0aJFio2NVYcOHZSQkKC1a9fanzQAAGgT/DZg5efna8KECSoqKlJeXp5Onz6t5ORknThxwqmZMmWKcnJylJWVpXXr1un48eMaPny4zpw5I0k6c%2BaM7r33Xp04cULr1q1TVlaWsrOzNXXqVKeNPXv26J577tHAgQO1ZcsWzZgxQ5MnT1Z2drZTs3TpUk2ZMkUzZ87Uli1bNHDgQA0bNkxlZWWX7oQAAIBWI8AYY1p6EE1x6NAhRUREKD8/X7fffru8Xq%2Buvvpqvf322xo9erQk6cCBA4qJidGKFSuUkpKiDz74QMOHD9e%2Bffvk8XgkSVlZWRo/frwqKysVGhqqJ554QsuWLdPOnTudvtLT0/XJJ5%2BosLBQktSvXz/17dtXixcvdmp69uyp%2B%2B67T5mZmRcce3V1tdxut7xer0JDQ22eFiXOXGm1vea06dmhLT0EAMBlpDn//l6I365gncvr9UqSOnXqJEkqLi5WXV2dkpOTnRqPx6P4%2BHgVFBRIkgoLCxUfH%2B%2BEK0lKSUlRTU2NiouLnZqz26iv2bRpk%2Brq6lRbW6vi4uIGNcnJyU4/56qpqVF1dbXPBgAALh%2BtImAZY5SRkaHbbrtN8fHxkqSKigoFBQUpLCzMpzYyMlIVFRVOTWRkpM/xsLAwBQUFfWNNZGSkTp8%2BrcOHD%2Bvw4cM6c%2BZMozX1bZwrMzNTbrfb2WJiYv7xyQMAgFanVQSsiRMnauvWrVqyZMkFa40xCggIcB6f/e%2Bm1tS/a3qhmsbalqTp06fL6/U62759%2By44bgAA0Hb4fcCaNGmSli1bpo8//lhdu3Z19kdFRam2tlZVVVU%2B9ZWVlc5qU1RUVINVpqqqKtXV1X1jTWVlpdq3b6/OnTsrPDxc7dq1a7Tm3FWtei6XS6GhoT4bAAC4fPhtwDLGaOLEiXrvvff00UcfKTY21ud4QkKCAgMDlZeX5%2BwrLy9XaWmpBgwYIElKSkpSaWmpysvLnZrc3Fy5XC4lJCQ4NWe3UV%2BTmJiowMBABQUFKSEhoUFNXl6e0w8AAMDZ2rf0AM5nwoQJevfdd/Vf//VfCgkJcVaQ3G63goOD5Xa79dBDD2nq1Knq3LmzOnXqpGnTpqlXr1666667JH19IXpcXJxSU1P1wgsv6Msvv9S0adOUlpbmrCqlp6dr4cKFysjIUFpamgoLC/X666/7vB2ZkZGh1NRUJSYmKikpSa%2B%2B%2BqrKysqUnp5%2B6U8MAADwe34bsOpviTB48GCf/W%2B88YbGjx8vSfrVr36l9u3b64EHHtDJkyd155136s0331S7du0kSe3atdPy5cv1yCOP6NZbb1VwcLDGjh2refPmOe3FxsZqxYoVeuyxx/Tyyy/L4/HopZde0v333%2B/UjB49WkeOHNHs2bNVXl6u%2BPh4rVixQt26dWvekwAAAFqlVnMfrNaM%2B2B9jftgAQAuJe6DBQAA0IYQsAAAACyzHrB%2B//vf69SpU7abBQAAaDWsB6yMjAxFRUXp4Ycf1oYNG2w3DwAA4PesB6wDBw7ot7/9rcrLy3Xbbbfppptu0i9/%2BUsdOnTIdlcAAAB%2ByXrAat%2B%2BvUaNGqVly5aprKxM48aN029/%2B1t17dpVo0aN0vLly8UHFwEAQFvWrBe5R0VF6c4779TgwYMVEBCgTZs2aezYsbrhhhu0du3a5uwaAACgxTRLwDp8%2BLBefPFF9enTR7feeqsqKyv1/vvv6/PPP9cXX3yh4cOH65//%2BZ%2Bbo2sAAIAWZ/1O7t/73ve0YsUKxcbG6ic/%2BYnGjRunq6%2B%2B2jn%2BrW99S48//rheeukl210DAAD4BesBKzQ0VKtWrdLAgQPPWxMdHa3du3fb7hoAAMAvWA9Yb7311gVrAgICdP3119vuGgAAwC9Yvwbrscce08KFCxvsf/nllzV16lTb3QEAAPgd6wHrj3/8o/r3799gf1JSkpYuXWq7OwAAAL9jPWAdPnxYYWFhDfaHhobq8OHDtrsDAADwO9YD1vXXX68PP/ywwf4PP/xQsbGxtrsDAADwO9Yvcp8yZYqmTJmiI0eOaMiQIZKkP/3pT3r%2B%2Bec1b948290BAAD4HesBKy0tTadOndKcOXP09NNPS5K6du2ql156ST/%2B8Y9tdwcAAOB3rAcsSZo0aZImTZqk8vJyBQcH66qrrmqObgAAAPxSswSsetHR0c3ZPAAAgF%2ByfpH7oUOH9C//8i%2B65ppr1KFDBwUFBflsAAAAbZ31Fazx48frr3/9q372s58pOjpaAQEBtrsAAADwa9YD1po1a7RmzRrdfPPNtpsGAABoFay/Rdi1a1dWrQAAwGXNesD61a9%2BpenTp2v//v22mwYAAGgVrL9FmJqaqmPHjqlbt24KDQ1VYGCgz/HKykrbXQIAAPgV6wFr7ty5tpsEAABoVawHrIceesh2kwAAAK2K9WuwJGnv3r2aNWuWUlNTnbcEc3NztXPnzuboDgAAwK9YD1hr167VTTfdpPz8fP3hD3/Q8ePHJUmbN2/Wz3/%2Bc9vdAQAA%2BB3rAeuJJ57QrFmz9PHHH/vcuX3IkCEqKiqy3R0AAIDfsR6wtm7dqu9///sN9kdEROjQoUO2uwMAAPA71gPWVVddpYqKigb7S0pK1KVLF9vdAQAA%2BB3rAWvMmDF68skndejQIeeO7uvXr9e0adP0ox/9yHZ3AAAAfsd6wJozZ46ioqIUHR2t48ePKy4uTgMGDNAtt9yip556ynZ3AAAAfsf6fbCCgoK0dOlS/fnPf9bmzZv11VdfqW/fvurRo4ftrgAAAPyS9YBV78Ybb9SNN97YXM0DAAD4LesB61//9V%2B/8firr75qu0sAAAC/Yj1glZeX%2Bzyuq6vT9u3bdezYMd1%2B%2B%2B22uwMAAPA71gPWf//3fzfYd/r0af30pz9Vz549bXcHAADgd5rluwjP1b59e02bNk0vvPBCk5%2BzZs0ajRgxQh6PRwEBAXr//fd9jo8fP14BAQE%2BW//%2B/X1qampqNGnSJIWHh6tjx44aOXKk9u/f71NTVlamESNGqGPHjgoPD9fkyZNVW1vrU5Ofn6%2BEhAR16NBB1113nV555ZW/8wwAAIDLySUJWJL02Wefqa6ursn1J06cUJ8%2BfbRw4cLz1gwdOlTl5eXOtmLFCp/jU6ZMUU5OjrKysrRu3TodP35cw4cP15kzZyRJZ86c0b333qsTJ05o3bp1ysrKUnZ2tqZOneq0sWfPHt1zzz0aOHCgtmzZohkzZmjy5MnKzs7%2BO88AAAC4XFh/i/Dxxx/3eWyMUXl5uZYtW6YHH3ywye0MGzZMw4YN%2B8Yal8ulqKioRo95vV69/vrrevvtt3XXXXdJkn7/%2B98rJiZGq1atUkpKinJzc7Vjxw7t27dPHo9HkvTLX/5S48eP17PPPqvQ0FC98soruuaaa/Tiiy9Kknr27KlNmzZp3rx5uv/%2B%2B5s8HwAAcPmwvoJVWFjos23YsEGnTp3S3Llz9dJLL1nta/Xq1YqIiNCNN96otLQ0VVZWOseKi4tVV1en5ORkZ5/H41F8fLwKCgqcscbHxzvhSpJSUlJUU1Oj4uJip%2BbsNuprNm3a9HetyAEAgMuH9RWstWvX2m6yUcOGDdMPfvADdevWTXv27NFTTz2lIUOGqLi4WC6XSxUVFQoKClJYWJjP8yIjI53vSqyoqFBkZKTP8bCwMAUFBX1jTWRkpE6fPq3Dhw8rOjq6wdhqampUU1PjPK6urrYyZwAA0Do0241Gm9vo0aOdf8fHxysxMVHdunXT8uXLNWrUqPM%2BzxjjfEeiJJ9/N7XGGHPe50pSZmamnnnmmaZNBAAAtDnWA9Ytt9xy3uBxrg0bNljrNzo6Wt26ddPu3bslSVFRUaqtrVVVVZXPKlZlZaUGDBjg1Kxfv96nnaqqKtXV1TmrVlFRUc5q1tlttG/fXp07d250LNOnT1dGRobzuLq6WjExMRc/SQAA0CpYvwbrjjvu0K5du2SMUf/%2B/Z1bJ%2BzatUuDBw9WSkqKs9l05MgR7du3z3nLLiEhQYGBgcrLy3NqysvLVVpa6gSspKQklZaW%2BtwcNTc3Vy6XSwkJCU7N2W3U1yQmJiowMLDRsbhcLoWGhvpsAADg8mF9Bevo0aOaMGGC5syZ47N/5syZOnjwoH7zm980qZ3jx4/rL3/5i/N4z549KikpUadOndSpUyfNmjVL999/v6Kjo7V3717NmDFD4eHh%2Bt73vidJcrvdeuihhzR16lR17txZnTp10rRp09SrVy/nU4XJycmKi4tTamqqXnjhBX355ZeaNm2a0tLSnFCUnp6uhQsXKiMjQ2lpaSosLNTrr7%2BuJUuW2DhdAACgDQow9RcUWXLVVVdp48aNuuGGG3z27969W4mJifJ6vU1qZ/Xq1brjjjsa7B83bpwWL16s%2B%2B67T1u2bNHRo0cVHR2tO%2B64Q7/4xS983oo7deqUfvazn%2Bndd9/VyZMndeedd2rRokU%2BNWVlZXrkkUf00UcfKTg4WGPHjtW8efPkcrmcmvz8fD322GPavn27PB6PnnjiCaWnpzf5nFRXV8vtdsvr9VpfzUqcudJqe81p07NDW3oIAIDLSHP%2B/b0Q6ytYLpdLBQUFDQJWQUGBT2i5kMGDB%2Bubst%2BHH354wTY6dOigBQsWaMGCBeetueaaa/Q///M/39jOoEGDtHnz5gv2BwAAIDVDwJo8ebLS09O1ZcsW5/qroqIivfbaa5oxY4bt7gAAAPyO9YA1c%2BZMxcbG6te//rV%2B%2B9vfSvr67uevvfaaxo4da7s7AAAAv9Ms98EaO3YsYQoAAFy2muXLnqurq/Xmm2/q5z//uaqqqiRJn3zyic/tEAAAANoq6ytYpaWluuuuu3TllVdq3759Gj9%2BvMLCwvSHP/xB%2B/fv11tvvWW7SwAAAL9ifQXrscce09ixY/XXv/5VHTp0cPbfe%2B%2B9WrNmje3uAAAA/I71FayNGzdq8eLFDb4up0uXLrxFCAAALgvWV7CCgoJ0/PjxBvt3796t8PBw290BAAD4HesBa%2BTIkfrFL36h06dPS5ICAgL0xRdf6Mknn9SoUaNsdwcAAOB3rAesX/7ylzpw4ICioqJ08uRJDRkyRNddd506dOjQ4PsJAQAA2iLr12C53W4VFBQoLy9Pmzdv1ldffaW%2BffsqJSWlwXVZAAAAbZHVgFVXV6d77rlHixYtUnJyspKTk202DwAA0CpYfYswMDBQW7ZsYaUKAABc1qxfg/WjH/1Ib7zxhu1mAQAAWo1m%2BS7ChQsXatWqVUpMTFTHjh19jj3//PPN0SUAAIDfsB6wiouL1bt3b0nS1q1bfY7x1iEAALgcWAtYn332mWJjY7V27VpbTQIAALRK1q7BuuGGG3To0CHn8ejRo3Xw4EFbzQMAALQa1gKWMcbn8YoVK3TixAlbzQMAALQa1j9FCAAAcLmzFrACAgIaXMTORe0AAOByZO0id2OMxo8fL5fLJUk6deqU0tPTG9ym4b333rPVJQAAgF%2ByFrDGjRvn8/hHP/qRraYBAABaFWsBi7u3AwAAfI2L3AEAACwjYAEAAFhGwAIAALCMgAUAAGAZAQsAAMAyAhYAAIBlBCwAAADLCFgAAACWEbAAAAAsI2ABAABYRsACAACwjIAFAABgGQELAADAMgIWAACAZQQsAAAAywhYAAAAlvltwFqzZo1GjBghj8ejgIAAvf/%2B%2Bz7HjTGaNWuWPB6PgoODNXjwYG3fvt2npqqqSqmpqXK73XK73UpNTdXRo0d9arZt26ZBgwYpODhYXbp00ezZs2WM8anJzs5WXFycXC6X4uLilJOT0zyTBgAAbYLfBqwTJ06oT58%2BWrhwYaPHn3/%2Bec2fP18LFy7Uxo0bFRUVpbvvvlvHjh1zasaOHauSkhKtXLlSK1euVElJiVJTU53j1dXVuvvuu%2BXxeLRx40YtWLBA8%2BbN0/z5852awsJCjR49Wqmpqfrkk0%2BUmpqqBx54QOvXr2%2B%2ByQMAgFYtwJy7XOOHAgIClJOTo/vuu0/S16tXHo9HU6ZM0RNPPCFJqqmpUWRkpJ577jk9/PDD2rlzp%2BLi4lRUVKR%2B/fpJkoqKipSUlKRPP/1U3bt31%2BLFizV9%2BnQdPHhQLpdLkjR37lwtWLBA%2B/fvV0BAgEaPHq3q6mp98MEHzniGDh2qsLAwLVmypEnjr66ultvtltfrVWhoqM1To8SZK62215w2PTu0pYcAALiMNOff3wvx2xWsb7Jnzx5VVFQoOTnZ2edyuTRo0CAVFBRI%2Bnrlye12O%2BFKkvr37y%2B32%2B1TM2jQICdcSVJKSooOHDigvXv3OjVn91NfU98GAADAuVplwKqoqJAkRUZG%2Buy8%2BbKZAAAVnUlEQVSPjIx0jlVUVCgiIqLBcyMiInxqGmvj7D7OV1N/vDE1NTWqrq722QAAwOWjVQasegEBAT6PjTE%2B%2B8493pSa%2BndML1TTWNv1MjMznQvr3W63YmJimjAbAADQVrTKgBUVFSVJDVaRKisrndWmqKgoHTx4sMFzDx065FPTWBuSLlhz7qrW2aZPny6v1%2Bts%2B/bt%2B3umBwAAWrlWGbBiY2MVFRWlvLw8Z19tba3y8/M1YMAASVJSUpK8Xq82bNjg1Kxfv15er9enZs2aNaqtrXVqcnNz5fF4dO211zo1Z/dTX1PfRmNcLpdCQ0N9NgAAcPnw24B1/PhxlZSUqKSkRNLXF7aXlJSorKxMAQEBmjJliubMmaOcnByVlpZq/PjxuvLKKzV27FhJUs%2BePTV06FClpaWpqKhIRUVFSktL0/Dhw9W9e3dJX9/GweVyafz48SotLVVOTo7mzJmjjIwM5y3ARx99VLm5uXruuef06aef6rnnntOqVas0ZcqUljkxAADA77Vv6QGcz6ZNm3THHXc4jzMyMiRJ48aN05tvvqnHH39cJ0%2Be1COPPKKqqir169dPubm5CgkJcZ7zzjvvaPLkyc6nAEeOHOlzXy232628vDxNmDBBiYmJCgsLU0ZGhtOXJA0YMEBZWVn6t3/7Nz311FO6/vrrtXTpUp9PJwIAAJytVdwHq7XjPlhf4z5YAIBLiftgAQAAtCEELAAAAMsIWAAAAJYRsAAAACwjYAEAAFhGwAIAALCMgAUAAGAZAQsAAMAyAhYAAIBlBCwAAADLCFgAAACWEbAAAAAsI2ABAABYRsACAACwjIAFAABgGQELAADAMgIWAACAZQQsAAAAywhYAAAAlhGwAAAALCNgAQAAWEbAAgAAsIyABQAAYBkBCwAAwDICFgAAgGUELAAAAMsIWAAAAJYRsAAAACwjYAEAAFhGwAIAALCMgAUAAGAZAQsAAMAyAhYAAIBl7Vt6ALh8JM5c2dJD%2BLtsenZoSw8BANBKsYIFAABgGQELAADAMgIWAACAZQQsAAAAywhYAAAAlhGwAAAALGu1AWvWrFkKCAjw2aKiopzjxhjNmjVLHo9HwcHBGjx4sLZv3%2B7TRlVVlVJTU%2BV2u%2BV2u5WamqqjR4/61Gzbtk2DBg1ScHCwunTpotmzZ8sYc0nmCAAAWqdWG7Ak6aabblJ5ebmzbdu2zTn2/PPPa/78%2BVq4cKE2btyoqKgo3X333Tp27JhTM3bsWJWUlGjlypVauXKlSkpKlJqa6hyvrq7W3XffLY/Ho40bN2rBggWaN2%2Be5s%2Bff0nnCQAAWpdWfaPR9u3b%2B6xa1TPG6MUXX9TMmTM1atQoSdJbb72lyMhIvfvuu3r44Ye1c%2BdOrVy5UkVFRerXr58k6bXXXlNSUpJ27dql7t2765133tGpU6f05ptvyuVyKT4%2BXn/%2B8581f/58ZWRkKCAg4JLOFwAAtA6tegVr9%2B7d8ng8io2N1ZgxY/TZZ59Jkvbs2aOKigolJyc7tS6XS4MGDVJBQYEkqbCwUG632wlXktS/f3%2B53W6fmkGDBsnlcjk1KSkpOnDggPbu3XvecdXU1Ki6utpnAwAAl49WG7D69eun3/3ud/rwww/12muvqaKiQgMGDNCRI0dUUVEhSYqMjPR5TmRkpHOsoqJCERERDdqNiIjwqWmsjfpj55OZmelc1%2BV2uxUTE/OPTxQAALQ6rTZgDRs2TPfff7969eqlu%2B66S8uXL5f09VuB9c59C88Y47Ovsbf4LlRTf4H7N709OH36dHm9Xmfbt2/f3zEzAADQ2rXagHWujh07qlevXtq9e7dzXda5q0yVlZXOClRUVJQOHjzYoJ1Dhw751DTWhtRwdexsLpdLoaGhPhsAALh8tJmAVVNTo507dyo6OlqxsbGKiopSXl6ec7y2tlb5%2BfkaMGCAJCkpKUler1cbNmxwatavXy%2Bv1%2BtTs2bNGtXW1jo1ubm58ng8uvbaay/NxAAAQKvTagPWtGnTlJ%2Bfrz179mj9%2BvX6/ve/r%2Brqao0bN04BAQGaMmWK5syZo5ycHJWWlmr8%2BPG68sorNXbsWElSz549NXToUKWlpamoqEhFRUVKS0vT8OHD1b17d0lf38bB5XJp/PjxKi0tVU5OjubMmcMnCAEAwDdqtbdp2L9/v374wx/q8OHDuvrqq9W/f38VFRWpW7dukqTHH39cJ0%2Be1COPPKKqqir169dPubm5CgkJcdp45513NHnyZOfThiNHjtTChQud4263W3l5eZowYYISExMVFhamjIwMZWRkXNrJAgCAViXAcFvyZlddXS232y2v12v9eqzEmSuttof/b9OzQ1t6CACAi9Ccf38vpNW%2BRQgAAOCvCFgAAACWEbAAAAAsI2ABAABYRsACAACwjIAFAABgGQELAADAMgIWAACAZQQsAAAAywhYAAAAlhGwAAAALCNgAQAAWEbAAgAAsIyABQAAYBkBCwAAwDICFgAAgGUELAAAAMsIWAAAAJYRsAAAACwjYAEAAFhGwAIAALCMgAUAAGAZAQsAAMAyAhYAAIBlBCwAAADLCFgAAACWEbAAAAAsI2ABAABYRsACAACwjIAFAABgGQELAADAMgIWAACAZQQsAAAAywhYAAAAlhGwAAAALGvf0gMA/FXizJUtPYS/y6Znh7b0EAAA/4cVLAAAAMsIWAAAAJYRsAAAACwjYAEAAFhGwGqiRYsWKTY2Vh06dFBCQoLWrl3b0kMCAAB%2BioDVBEuXLtWUKVM0c%2BZMbdmyRQMHDtSwYcNUVlbW0kMDAAB%2BiIDVBPPnz9dDDz2kn/zkJ%2BrZs6defPFFxcTEaPHixS09NAAA4Ie4D9YF1NbWqri4WE8%2B%2BaTP/uTkZBUUFDT6nJqaGtXU1DiPvV6vJKm6utr6%2BM7UnLDeJlqnm6dlt/QQmiz/53e39BD%2BLoNm57X0EP4ure38As2l/u%2BuMeaS903AuoDDhw/rzJkzioyM9NkfGRmpioqKRp%2BTmZmpZ555psH%2BmJiYZhkj0Nq4f9nSI2jbOL%2BAr2PHjsntdl/SPglYTRQQEODz2BjTYF%2B96dOnKyMjw3n81Vdf6csvv1Tnzp3P%2B5x/RHV1tWJiYrRv3z6FhoZaa9cfXU5zlS6v%2BTLXtutymi9z9U/GGB07dkwej%2BeS903AuoDw8HC1a9euwWpVZWVlg1Wtei6XSy6Xy2ffVVdd1WxjDA0N9fsfclsup7lKl9d8mWvbdTnNl7n6n0u9clWPi9wvICgoSAkJCcrL870GIy8vTwMGDGihUQEAAH/GClYTZGRkKDU1VYmJiUpKStKrr76qsrIypaent/TQAACAH2o3a9asWS09CH8XHx%2Bvzp07a86cOZo3b55Onjypt99%2BW3369Gnpoaldu3YaPHiw2rdv%2B1n5cpqrdHnNl7m2XZfTfJkrzhZgWuKziwAAAG0Y12ABAABYRsACAACwjIAFAABgGQELAADAMgJWK7Vo0SLFxsaqQ4cOSkhI0Nq1a1t6SD5mzZqlgIAAny0qKso5bozRrFmz5PF4FBwcrMGDB2v79u0%2BbVRVVSk1NVVut1tut1upqak6evSoT822bds0aNAgBQcHq0uXLpo9e3aD75zKzs5WXFycXC6X4uLilJOTc9HzW7NmjUaMGCGPx6OAgAC9//77Psf9aX5NGcvFzHX8%2BPENXuv%2B/fv71NTU1GjSpEkKDw9Xx44dNXLkSO3fv9%2BnpqysTCNGjFDHjh0VHh6uyZMnq7a21qcmPz9fCQkJ6tChg6677jq98sorDcZ7Mb8bmZmZuuWWWxQSEqKIiAjdd9992rVrl9/OpSljuZi5Dh48uMFrO2bMGJ%2Ba1vJzvHjxYvXu3du5OWZSUpI%2B%2BOAD53hbeV2bMte29Lr6NYNWJysrywQGBprXXnvN7Nixwzz66KOmY8eO5vPPP2/poTmefvppc9NNN5ny8nJnq6ysdI7PnTvXhISEmOzsbLNt2zYzevRoEx0dbaqrq52aoUOHmvj4eFNQUGAKCgpMfHy8GT58uHPc6/WayMhIM2bMGLNt2zaTnZ1tQkJCzLx585yagoIC065dOzNnzhyzc%2BdOM2fOHNO%2BfXtTVFR0UfNbsWKFmTlzpsnOzjaSTE5Ojs9xf5pfU8ZyMXMdN26cGTp0qM9rfeTIEZ%2Ba9PR006VLF5OXl2c2b95s7rjjDtOnTx9z%2BvRpY4wxp0%2BfNvHx8eaOO%2B4wmzdvNnl5ecbj8ZiJEyc6bXz22WfmyiuvNI8%2B%2BqjZsWOHee2110xgYKD5z//8T6fmYn83UlJSzBtvvGFKS0tNSUmJuffee80111xjjh8/7pdzudBYLnaugwYNMmlpaT6v7dGjR33aaS0/x8uWLTPLly83u3btMrt27TIzZswwgYGBprS0tEnnsrW8rk2Za1t6Xf0ZAasV%2Bs53vmPS09N99vXo0cM8%2BeSTLTSihp5%2B%2BmnTp0%2BfRo999dVXJioqysydO9fZd%2BrUKeN2u80rr7xijDFmx44dRpLPL2JhYaGRZD799FNjjDGLFi0ybrfbnDp1yqnJzMw0Ho/HfPXVV8YYYx544AEzdOhQn/5TUlLMmDFj7EzUmAahw5/m15SxXMxcjfk6YH33u98973OOHj1qAgMDTVZWlrPviy%2B%2BMFdccYVZuXKlMebrEHfFFVeYL774wqlZsmSJcblcxuv1GmOMefzxx02PHj182n744YdN//79nce2fzcqKyuNJJOfn%2B93c2nKWC5mrsZ8/Yf40UcfPe9zWuvPcb2wsDDzm9/8pk2/rufO1Zi2/7r6C94ibGVqa2tVXFys5ORkn/3JyckqKChooVE1bvfu3fJ4PIqNjdWYMWP02WefSZL27NmjiooKnzm4XC4NGjTImUNhYaHcbrf69evn1PTv319ut9unZtCgQT7f%2B5iSkqIDBw5o7969Ts255yolJaVZz5U/za8pY7Fh9erVioiI0I033qi0tDRVVlY6x4qLi1VXV%2BczBo/Ho/j4eJ%2B5xsfH%2B3wha0pKimpqalRcXPyNc920aZPq6uqa5XfD6/VKkjp16uR3c2nKWC5mrvXeeecdhYeH66abbtK0adN07Ngx51hr/Tk%2Bc%2BaMsrKydOLECSUlJbXp1/XcudZri6%2Brv%2BEWrK3M4cOHdebMmQZfNB0ZGdngC6lbUr9%2B/fS73/1ON954ow4ePKh///d/14ABA7R9%2B3ZnnI3N4fPPP5ckVVRUKCIiokG7ERERzvMrKip07bXXNmij/lhsbKwqKiou%2Bbnyp/k1ZSwXa9iwYfrBD36gbt26ac%2BePXrqqac0ZMgQFRcXy%2BVyqaKiQkFBQQoLC/vGcZ47xrCwMAUFBX1jTWRkpE6fPq3Dhw/LGGP1d8MYo4yMDN12222Kj493xuAvc2nKWC5mrpL04IMPKjY2VlFRUSotLdX06dP1ySefON/N2tp%2Bjrdt26akpCSdOnVK3/rWt5STk6O4uDiVlJS0udf1fHOV2t7r6q8IWK1UQECAz2NjTIN9LWnYsGHOv3v16qWkpCRdf/31euutt5wLoC80h8bmc6Ea838XWF6o5lKcK3%2BaX3Oeg9GjRzv/jo%2BPV2Jiorp166bly5dr1KhR532e7fPR2LlprI2mmjhxorZu3ap169ZdsNaf5vKPzPd8c01LS3P%2BHR8frxtuuEGJiYnavHmz%2Bvbt2%2BgYGxuDv/wcd%2B/eXSUlJTp69Kiys7M1btw45efnn7e%2BNb%2Bu55trXFxcm3td/RVvEbYy4eHhateuXYP/yVRWVjb4X4A/6dixo3r16qXdu3c7nyb8pjlERUXp4MGDDdo5dOiQT01jbUi6YE1znit/ml9TxmJbdHS0unXrpt27dztjqK2tVVVV1TeO89wxVlVVqa6u7oJzbd%2B%2BvTp37mz1d2PSpElatmyZPv74Y3Xt2tXZ709zacpYLmaujenbt68CAwN9XtvW9HMcFBSkb3/720pMTFRmZqb69OmjX//6123ydT3fXBvT2l9Xf0XAamWCgoKUkJDgLOXWy8vL04ABA1poVBdWU1OjnTt3Kjo62lmaPnsOtbW1ys/Pd%2BaQlJQkr9erDRs2ODXr16%2BX1%2Bv1qVmzZo3Px6Rzc3Pl8XicpeukpKQG5yo3N7dZz5U/za8pY7HtyJEj2rdvn6KjoyVJCQkJCgwM9BlDeXm5SktLfeZaWlqq8vJyn3m4XC4lJCR841wTExMVGBho5XfDGKOJEyfqvffe00cffaTY2Fif4/40l6aM5WLm2pjt27errq7OeW1b%2B8%2BxMUY1NTVt6nW90Fwb09ZeV7/RPNfOoznVf8z39ddfNzt27DBTpkwxHTt2NHv37m3poTmmTp1qVq9ebT777DNTVFRkhg8fbkJCQpwxzp0717jdbvPee%2B%2BZbdu2mR/%2B8IeN3sagd%2B/eprCw0BQWFppevXr5fEz46NGjJjIy0vzwhz8027ZtM%2B%2B9954JDQ31%2BZjw//7v/5p27dqZuXPnmp07d5q5c%2BdauU3DsWPHzJYtW8yWLVuMJDN//nyzZcsW56PW/jS/pozlH53rsWPHzNSpU01BQYHZs2eP%2Bfjjj01SUpLp0qWLT/vp6emma9euZtWqVWbz5s1myJAhjX4E/s477zSbN282q1atMl27dm30I/CPPfaY2bFjh3n99dfP%2BxH4f/R346c//alxu91m9erVPh9h/9vf/uaXc7nQWC5mrn/5y1/MM888YzZu3Gj27Nljli9fbnr06GFuvvlmn/Zby8/x9OnTzZo1a8yePXvM1q1bzYwZM8wVV1xhcnNz29TreqG5trXX1Z8RsFqpl19%2B2XTr1s0EBQWZvn37%2Bny02h/U38skMDDQeDweM2rUKLN9%2B3bn%2BFdffWWefvppExUVZVwul7n99tvNtm3bfNo4cuSIefDBB01ISIgJCQkxDz74oKmqqvKp2bp1qxk4cKBxuVwmKirKzJo1y/mIcL0//vGPpnv37iYwMND06NHDZGdnX/T8Pv74YyOpwTZu3Di/m19TxvKPzvVvf/ubSU5ONldffbUJDAw011xzjRk3bpwpKyvzaePkyZNm4sSJplOnTiY4ONgMHz68Qc3nn39u7r33XhMcHGw6depkJk6c6PMRcGOMWb16tbn55ptNUFCQufbaa83ixYsbjPdifjcam6ck88Ybb/jlXJoyln90rmVlZeb22283nTp1MkFBQeb66683kydPbnCPs9byc/zjH//YOZdXX321ufPOO51wZUzbeV0vNNe29rr6swBjzrntKgAAAC4K12ABAABYRsACAACwjIAFAABgGQELAADAMgIWAACAZQQsAAAAywhYAAAAlhGwAAAALCNgAQAAWEbAAgAAsIyABQAAYBkBCwAAwDICFgAAgGUELAAAAMsIWAAAAJYRsAAAACwjYAEAAFhGwAIAALDs/wGPrVP3x3NNfwAAAABJRU5ErkJggg%3D%3D\"/>\n",
       "        </div>\n",
       "        <div role=\"tabpanel\" class=\"tab-pane col-md-12\" id=\"common9094629639293828572\">\n",
       "            \n",
       "<table class=\"freq table table-hover\">\n",
       "    <thead>\n",
       "    <tr>\n",
       "        <td class=\"fillremaining\">Value</td>\n",
       "        <td class=\"number\">Count</td>\n",
       "        <td class=\"number\">Frequency (%)</td>\n",
       "        <td style=\"min-width:200px\">&nbsp;</td>\n",
       "    </tr>\n",
       "    </thead>\n",
       "    <tr class=\"\">\n",
       "        <td class=\"fillremaining\">10000.0</td>\n",
       "        <td class=\"number\">442</td>\n",
       "        <td class=\"number\">1.2%</td>\n",
       "        <td>\n",
       "            <div class=\"bar\" style=\"width:2%\">&nbsp;</div>\n",
       "        </td>\n",
       "</tr><tr class=\"\">\n",
       "        <td class=\"fillremaining\">20000.0</td>\n",
       "        <td class=\"number\">250</td>\n",
       "        <td class=\"number\">0.7%</td>\n",
       "        <td>\n",
       "            <div class=\"bar\" style=\"width:1%\">&nbsp;</div>\n",
       "        </td>\n",
       "</tr><tr class=\"\">\n",
       "        <td class=\"fillremaining\">25000.0</td>\n",
       "        <td class=\"number\">144</td>\n",
       "        <td class=\"number\">0.4%</td>\n",
       "        <td>\n",
       "            <div class=\"bar\" style=\"width:1%\">&nbsp;</div>\n",
       "        </td>\n",
       "</tr><tr class=\"\">\n",
       "        <td class=\"fillremaining\">15000.0</td>\n",
       "        <td class=\"number\">123</td>\n",
       "        <td class=\"number\">0.3%</td>\n",
       "        <td>\n",
       "            <div class=\"bar\" style=\"width:1%\">&nbsp;</div>\n",
       "        </td>\n",
       "</tr><tr class=\"\">\n",
       "        <td class=\"fillremaining\">30000.0</td>\n",
       "        <td class=\"number\">119</td>\n",
       "        <td class=\"number\">0.3%</td>\n",
       "        <td>\n",
       "            <div class=\"bar\" style=\"width:1%\">&nbsp;</div>\n",
       "        </td>\n",
       "</tr><tr class=\"\">\n",
       "        <td class=\"fillremaining\">12500.0</td>\n",
       "        <td class=\"number\">95</td>\n",
       "        <td class=\"number\">0.3%</td>\n",
       "        <td>\n",
       "            <div class=\"bar\" style=\"width:1%\">&nbsp;</div>\n",
       "        </td>\n",
       "</tr><tr class=\"\">\n",
       "        <td class=\"fillremaining\">5000.0</td>\n",
       "        <td class=\"number\">90</td>\n",
       "        <td class=\"number\">0.2%</td>\n",
       "        <td>\n",
       "            <div class=\"bar\" style=\"width:1%\">&nbsp;</div>\n",
       "        </td>\n",
       "</tr><tr class=\"\">\n",
       "        <td class=\"fillremaining\">6667.0</td>\n",
       "        <td class=\"number\">90</td>\n",
       "        <td class=\"number\">0.2%</td>\n",
       "        <td>\n",
       "            <div class=\"bar\" style=\"width:1%\">&nbsp;</div>\n",
       "        </td>\n",
       "</tr><tr class=\"\">\n",
       "        <td class=\"fillremaining\">8000.0</td>\n",
       "        <td class=\"number\">90</td>\n",
       "        <td class=\"number\">0.2%</td>\n",
       "        <td>\n",
       "            <div class=\"bar\" style=\"width:1%\">&nbsp;</div>\n",
       "        </td>\n",
       "</tr><tr class=\"\">\n",
       "        <td class=\"fillremaining\">13333.0</td>\n",
       "        <td class=\"number\">83</td>\n",
       "        <td class=\"number\">0.2%</td>\n",
       "        <td>\n",
       "            <div class=\"bar\" style=\"width:1%\">&nbsp;</div>\n",
       "        </td>\n",
       "</tr><tr class=\"other\">\n",
       "        <td class=\"fillremaining\">Other values (23585)</td>\n",
       "        <td class=\"number\">35790</td>\n",
       "        <td class=\"number\">95.9%</td>\n",
       "        <td>\n",
       "            <div class=\"bar\" style=\"width:100%\">&nbsp;</div>\n",
       "        </td>\n",
       "</tr>\n",
       "</table>\n",
       "        </div>\n",
       "        <div role=\"tabpanel\" class=\"tab-pane col-md-12\"  id=\"extreme9094629639293828572\">\n",
       "            <p class=\"h4\">Minimum 5 values</p>\n",
       "            \n",
       "<table class=\"freq table table-hover\">\n",
       "    <thead>\n",
       "    <tr>\n",
       "        <td class=\"fillremaining\">Value</td>\n",
       "        <td class=\"number\">Count</td>\n",
       "        <td class=\"number\">Frequency (%)</td>\n",
       "        <td style=\"min-width:200px\">&nbsp;</td>\n",
       "    </tr>\n",
       "    </thead>\n",
       "    <tr class=\"\">\n",
       "        <td class=\"fillremaining\">0.0</td>\n",
       "        <td class=\"number\">8</td>\n",
       "        <td class=\"number\">0.0%</td>\n",
       "        <td>\n",
       "            <div class=\"bar\" style=\"width:100%\">&nbsp;</div>\n",
       "        </td>\n",
       "</tr><tr class=\"\">\n",
       "        <td class=\"fillremaining\">200.0</td>\n",
       "        <td class=\"number\">1</td>\n",
       "        <td class=\"number\">0.0%</td>\n",
       "        <td>\n",
       "            <div class=\"bar\" style=\"width:13%\">&nbsp;</div>\n",
       "        </td>\n",
       "</tr><tr class=\"\">\n",
       "        <td class=\"fillremaining\">343.0</td>\n",
       "        <td class=\"number\">1</td>\n",
       "        <td class=\"number\">0.0%</td>\n",
       "        <td>\n",
       "            <div class=\"bar\" style=\"width:13%\">&nbsp;</div>\n",
       "        </td>\n",
       "</tr><tr class=\"\">\n",
       "        <td class=\"fillremaining\">353.0</td>\n",
       "        <td class=\"number\">1</td>\n",
       "        <td class=\"number\">0.0%</td>\n",
       "        <td>\n",
       "            <div class=\"bar\" style=\"width:13%\">&nbsp;</div>\n",
       "        </td>\n",
       "</tr><tr class=\"\">\n",
       "        <td class=\"fillremaining\">364.0</td>\n",
       "        <td class=\"number\">1</td>\n",
       "        <td class=\"number\">0.0%</td>\n",
       "        <td>\n",
       "            <div class=\"bar\" style=\"width:13%\">&nbsp;</div>\n",
       "        </td>\n",
       "</tr>\n",
       "</table>\n",
       "            <p class=\"h4\">Maximum 5 values</p>\n",
       "            \n",
       "<table class=\"freq table table-hover\">\n",
       "    <thead>\n",
       "    <tr>\n",
       "        <td class=\"fillremaining\">Value</td>\n",
       "        <td class=\"number\">Count</td>\n",
       "        <td class=\"number\">Frequency (%)</td>\n",
       "        <td style=\"min-width:200px\">&nbsp;</td>\n",
       "    </tr>\n",
       "    </thead>\n",
       "    <tr class=\"\">\n",
       "        <td class=\"fillremaining\">340977.0</td>\n",
       "        <td class=\"number\">1</td>\n",
       "        <td class=\"number\">0.0%</td>\n",
       "        <td>\n",
       "            <div class=\"bar\" style=\"width:100%\">&nbsp;</div>\n",
       "        </td>\n",
       "</tr><tr class=\"\">\n",
       "        <td class=\"fillremaining\">348767.0</td>\n",
       "        <td class=\"number\">1</td>\n",
       "        <td class=\"number\">0.0%</td>\n",
       "        <td>\n",
       "            <div class=\"bar\" style=\"width:100%\">&nbsp;</div>\n",
       "        </td>\n",
       "</tr><tr class=\"\">\n",
       "        <td class=\"fillremaining\">352913.0</td>\n",
       "        <td class=\"number\">1</td>\n",
       "        <td class=\"number\">0.0%</td>\n",
       "        <td>\n",
       "            <div class=\"bar\" style=\"width:100%\">&nbsp;</div>\n",
       "        </td>\n",
       "</tr><tr class=\"\">\n",
       "        <td class=\"fillremaining\">357202.0</td>\n",
       "        <td class=\"number\">1</td>\n",
       "        <td class=\"number\">0.0%</td>\n",
       "        <td>\n",
       "            <div class=\"bar\" style=\"width:100%\">&nbsp;</div>\n",
       "        </td>\n",
       "</tr><tr class=\"\">\n",
       "        <td class=\"fillremaining\">367619.0</td>\n",
       "        <td class=\"number\">1</td>\n",
       "        <td class=\"number\">0.0%</td>\n",
       "        <td>\n",
       "            <div class=\"bar\" style=\"width:100%\">&nbsp;</div>\n",
       "        </td>\n",
       "</tr>\n",
       "</table>\n",
       "        </div>\n",
       "    </div>\n",
       "</div>\n",
       "</div><div class=\"row variablerow ignore\">\n",
       "    <div class=\"col-md-3 namecol\">\n",
       "        <p class=\"h4 pp-anchor\" id=\"pp_var_Year\"><s>Year</s><br/>\n",
       "            <small>Highly correlated</small>\n",
       "        </p>\n",
       "    </div><div class=\"col-md-3\">\n",
       "    <p><em>This variable is highly correlated with <a href=\"#pp_var_Year Code\"><code>Year Code</code></a> and should be ignored for analysis</em></p>\n",
       "</div>\n",
       "<div class=\"col-md-6\">\n",
       "    <table class=\"stats \">\n",
       "        <tr>\n",
       "            <th>Correlation</th>\n",
       "            <td>1</td>\n",
       "        </tr>\n",
       "    </table>\n",
       "</div>\n",
       "</div><div class=\"row variablerow\">\n",
       "    <div class=\"col-md-3 namecol\">\n",
       "        <p class=\"h4 pp-anchor\" id=\"pp_var_Year Code\">Year Code<br/>\n",
       "            <small>Numeric</small>\n",
       "        </p>\n",
       "    </div><div class=\"col-md-6\">\n",
       "    <div class=\"row\">\n",
       "        <div class=\"col-sm-6\">\n",
       "            <table class=\"stats \">\n",
       "                <tr>\n",
       "                    <th>Distinct count</th>\n",
       "                    <td>58</td>\n",
       "                </tr>\n",
       "                <tr>\n",
       "                    <th>Unique (%)</th>\n",
       "                    <td>0.2%</td>\n",
       "                </tr>\n",
       "                <tr class=\"ignore\">\n",
       "                    <th>Missing (%)</th>\n",
       "                    <td>0.0%</td>\n",
       "                </tr>\n",
       "                <tr class=\"ignore\">\n",
       "                    <th>Missing (n)</th>\n",
       "                    <td>0</td>\n",
       "                </tr>\n",
       "                <tr class=\"ignore\">\n",
       "                    <th>Infinite (%)</th>\n",
       "                    <td>0.0%</td>\n",
       "                </tr>\n",
       "                <tr class=\"ignore\">\n",
       "                    <th>Infinite (n)</th>\n",
       "                    <td>0</td>\n",
       "                </tr>\n",
       "            </table>\n",
       "\n",
       "        </div>\n",
       "        <div class=\"col-sm-6\">\n",
       "            <table class=\"stats \">\n",
       "\n",
       "                <tr>\n",
       "                    <th>Mean</th>\n",
       "                    <td>1990.8</td>\n",
       "                </tr>\n",
       "                <tr>\n",
       "                    <th>Minimum</th>\n",
       "                    <td>1961</td>\n",
       "                </tr>\n",
       "                <tr>\n",
       "                    <th>Maximum</th>\n",
       "                    <td>2018</td>\n",
       "                </tr>\n",
       "                <tr class=\"ignore\">\n",
       "                    <th>Zeros (%)</th>\n",
       "                    <td>0.0%</td>\n",
       "                </tr>\n",
       "            </table>\n",
       "        </div>\n",
       "    </div>\n",
       "</div>\n",
       "<div class=\"col-md-3 collapse in\" id=\"minihistogram-6041302824185516646\">\n",
       "    <img src=\"data:image/png;base64,iVBORw0KGgoAAAANSUhEUgAAAMgAAABLCAYAAAA1fMjoAAAABHNCSVQICAgIfAhkiAAAAAlwSFlzAAAPYQAAD2EBqD%2BnaQAAADl0RVh0U29mdHdhcmUAbWF0cGxvdGxpYiB2ZXJzaW9uIDMuMC4yLCBodHRwOi8vbWF0cGxvdGxpYi5vcmcvOIA7rQAAAcdJREFUeJzt3T2u00AYhtHPEa2dPop3wSLYEzUl%2B2ER7CJRFmCLgoKYAnIbuK8UfsbOveeUsaKZWPPI42nSLcuyVGPn87nGcWw9LA/udDrV8XhsOuabpqP91Pd9Vf34wcMwrDEFHsg0TTWO49O6aWmVQLquq6qqYRgE8oK9ff/p7u98/vDu2Wu3ddPSKoGwrj9ZuK/Vbu0JwJYJBAJbrI351/t2/o4nCAQCgUAgELyId5BWx5b37vUdpz6%2BzQViUd3PPft/bLEgEAgEAoFAIBAIBILNnWJtmdOi18cTBAKBQCAQCAQCgUAgEAgEAoFAIBAIBAKBQCAQCAQCgUAgEAgEAoFAIBAIBAKBQCAQCAQCgUAgEAgEAoFAIBAIBAKBQCAQCAQCgUAgEAgEq/z9wbIsVVU1TdMv1759/dJ6OmzI79bE7bPbumlplUDmea6qqnEc1xieDdt/fP7aPM%2B13%2B/bTaaqumWFLK/Xa10ul%2Br7vrquaz08D2ZZlprnuQ6HQ%2B12bd8KVgkEHoWXdAgEAoFAIBAIBAKBQCAQCAQCgUAgEAgEAoFAIBAIBAKBQCAQCAQCgUAgEAgEAoFAIBAIBAKBQCAQCASC79JtTX7S8QOuAAAAAElFTkSuQmCC\">\n",
       "\n",
       "</div>\n",
       "<div class=\"col-md-12 text-right\">\n",
       "    <a role=\"button\" data-toggle=\"collapse\" data-target=\"#descriptives-6041302824185516646,#minihistogram-6041302824185516646\"\n",
       "       aria-expanded=\"false\" aria-controls=\"collapseExample\">\n",
       "        Toggle details\n",
       "    </a>\n",
       "</div>\n",
       "<div class=\"row collapse col-md-12\" id=\"descriptives-6041302824185516646\">\n",
       "    <ul class=\"nav nav-tabs\" role=\"tablist\">\n",
       "        <li role=\"presentation\" class=\"active\"><a href=\"#quantiles-6041302824185516646\"\n",
       "                                                  aria-controls=\"quantiles-6041302824185516646\" role=\"tab\"\n",
       "                                                  data-toggle=\"tab\">Statistics</a></li>\n",
       "        <li role=\"presentation\"><a href=\"#histogram-6041302824185516646\" aria-controls=\"histogram-6041302824185516646\"\n",
       "                                   role=\"tab\" data-toggle=\"tab\">Histogram</a></li>\n",
       "        <li role=\"presentation\"><a href=\"#common-6041302824185516646\" aria-controls=\"common-6041302824185516646\"\n",
       "                                   role=\"tab\" data-toggle=\"tab\">Common Values</a></li>\n",
       "        <li role=\"presentation\"><a href=\"#extreme-6041302824185516646\" aria-controls=\"extreme-6041302824185516646\"\n",
       "                                   role=\"tab\" data-toggle=\"tab\">Extreme Values</a></li>\n",
       "\n",
       "    </ul>\n",
       "\n",
       "    <div class=\"tab-content\">\n",
       "        <div role=\"tabpanel\" class=\"tab-pane active row\" id=\"quantiles-6041302824185516646\">\n",
       "            <div class=\"col-md-4 col-md-offset-1\">\n",
       "                <p class=\"h4\">Quantile statistics</p>\n",
       "                <table class=\"stats indent\">\n",
       "                    <tr>\n",
       "                        <th>Minimum</th>\n",
       "                        <td>1961</td>\n",
       "                    </tr>\n",
       "                    <tr>\n",
       "                        <th>5-th percentile</th>\n",
       "                        <td>1964</td>\n",
       "                    </tr>\n",
       "                    <tr>\n",
       "                        <th>Q1</th>\n",
       "                        <td>1976</td>\n",
       "                    </tr>\n",
       "                    <tr>\n",
       "                        <th>Median</th>\n",
       "                        <td>1992</td>\n",
       "                    </tr>\n",
       "                    <tr>\n",
       "                        <th>Q3</th>\n",
       "                        <td>2005</td>\n",
       "                    </tr>\n",
       "                    <tr>\n",
       "                        <th>95-th percentile</th>\n",
       "                        <td>2016</td>\n",
       "                    </tr>\n",
       "                    <tr>\n",
       "                        <th>Maximum</th>\n",
       "                        <td>2018</td>\n",
       "                    </tr>\n",
       "                    <tr>\n",
       "                        <th>Range</th>\n",
       "                        <td>57</td>\n",
       "                    </tr>\n",
       "                    <tr>\n",
       "                        <th>Interquartile range</th>\n",
       "                        <td>29</td>\n",
       "                    </tr>\n",
       "                </table>\n",
       "            </div>\n",
       "            <div class=\"col-md-4 col-md-offset-2\">\n",
       "                <p class=\"h4\">Descriptive statistics</p>\n",
       "                <table class=\"stats indent\">\n",
       "                    <tr>\n",
       "                        <th>Standard deviation</th>\n",
       "                        <td>16.759</td>\n",
       "                    </tr>\n",
       "                    <tr>\n",
       "                        <th>Coef of variation</th>\n",
       "                        <td>0.0084181</td>\n",
       "                    </tr>\n",
       "                    <tr>\n",
       "                        <th>Kurtosis</th>\n",
       "                        <td>-1.1944</td>\n",
       "                    </tr>\n",
       "                    <tr>\n",
       "                        <th>Mean</th>\n",
       "                        <td>1990.8</td>\n",
       "                    </tr>\n",
       "                    <tr>\n",
       "                        <th>MAD</th>\n",
       "                        <td>14.522</td>\n",
       "                    </tr>\n",
       "                    <tr class=\"\">\n",
       "                        <th>Skewness</th>\n",
       "                        <td>-0.111</td>\n",
       "                    </tr>\n",
       "                    <tr>\n",
       "                        <th>Sum</th>\n",
       "                        <td>74301704</td>\n",
       "                    </tr>\n",
       "                    <tr>\n",
       "                        <th>Variance</th>\n",
       "                        <td>280.87</td>\n",
       "                    </tr>\n",
       "                    <tr>\n",
       "                        <th>Memory size</th>\n",
       "                        <td>291.7 KiB</td>\n",
       "                    </tr>\n",
       "                </table>\n",
       "            </div>\n",
       "        </div>\n",
       "        <div role=\"tabpanel\" class=\"tab-pane col-md-8 col-md-offset-2\" id=\"histogram-6041302824185516646\">\n",
       "            <img src=\"data:image/png;base64,iVBORw0KGgoAAAANSUhEUgAAAlgAAAGQCAYAAAByNR6YAAAABHNCSVQICAgIfAhkiAAAAAlwSFlzAAAPYQAAD2EBqD%2BnaQAAADl0RVh0U29mdHdhcmUAbWF0cGxvdGxpYiB2ZXJzaW9uIDMuMC4yLCBodHRwOi8vbWF0cGxvdGxpYi5vcmcvOIA7rQAAIABJREFUeJzt3XtYVdWi/vEXBRZKsgRBcAWZtbtopLugp7DclhZqXmq798mzNbaUmyRvIVpm9ivb56Q9ZXbZVp7adjnd6GJ23E9GYhfUI5oQlFjHzCwwQXRHCyXl5vj90WGdVmhhDtYU/H6eZz6Pa8yxxhxjNFe8z5hzzRVkjDECAACANZ2c7gAAAEBHQ8ACAACwjIAFAABgGQELAADAMgIWAACAZQQsAAAAywhYAAAAlhGwAAAALCNgAQAAWEbAAgAAsIyABQAAYBkBCwAAwDICFgAAgGUELAAAAMsIWAAAAJYRsAAAACwjYAEAAFhGwAIAALCMgAUAAGAZAQsAAMAyAhYAAIBlBCwAAADLCFgAAACWEbAAAAAsI2ABAABYRsACAACwjIAFAABgGQELAADAMgIWAACAZQQsAAAAywhYAAAAlhGwAAAALCNgAQAAWEbAAgAAsIyABQAAYBkBCwAAwDICFgAAgGUELAAAAMuCne7AyeDw4cPavXu3unXrpqCgIKe7AwDAScEYo/3798vj8ahTp8CuKRGwAmD37t1KSEhwuhsAAJyUysvLFR8fH9BjErACoFu3bpJ%2B%2BA8cERHhcG8AADg51NTUKCEhwfd3OJAIWAHQfFkwIiKCgAUAQIA5cXsON7kDAABYRsACAACwjIAFAABgGQELAADAMgIWAACAZQQsAAAAywhYAAAAlhGwAAAALCNgAQAAWEbAAgAAsIyABQAAYBkBCwAAwDJ%2B7BkAgA4qeV6u011otcJ7hzvdBatYwQIAALCMgAUAAGAZAQsAAMAy7sECAKCV2tM9TXAWK1gAAACWEbAAAAAsI2ABAABYxj1YAADHcE8TOipWsAAAACwjYAEAAFhGwAIAALCMgAUAAGAZAQsAAMAyAhYAAIBlBCwAAADLCFgAAACWdZiAtXDhQgUFBSkrK8tXVldXp%2BnTpys6Olrh4eEaM2aMdu3a5fe%2BsrIyjR49WuHh4YqOjtaMGTNUX1/vVyc/P19JSUkKCwvTGWecoaVLlwZkTAAAoH3qEAFr8%2BbNevLJJ9W/f3%2B/8qysLK1YsUI5OTlav369Dhw4oFGjRqmpqUmS1NTUpJEjR6q2tlbr169XTk6Oli9frlmzZvna2Llzp66%2B%2BmoNGjRIxcXFuuOOOzRjxgwtX748oGMEAADtR7v/qZwDBw5owoQJeuqpp/Tv//7vvnKv16tly5bp%2Beef15VXXilJeuGFF5SQkKA1a9Zo2LBhWr16tT799FOVl5fL4/FIkh588EGlp6fr3nvvVUREhJYuXarTTjtNDz/8sCSpb9%2B%2BKiws1KJFi/SHP/wh8AMGAAAnvHa/gjV16lSNHDnSF6KaFRUVqaGhQampqb4yj8ejxMREbdiwQZJUUFCgxMREX7iSpGHDhqmurk5FRUW%2BOj9uo7lOYWGhGhoa2mpYAACgHWvXK1g5OTkqKipSYWFhi32VlZUKDQ1VZGSkX3lsbKwqKyt9dWJjY/32R0ZGKjQ09GfrxMbGqrGxUfv27VOvXr1aHLuurk51dXW%2B1zU1Nb9ugAAAoF1qtytY5eXluuWWW/Tiiy8qLCys1e8zxigoKMj3%2Bsf/bm0dY8xR3yv9cMO92%2B32bQkJCa3uHwAAaP/abcAqKipSVVWVkpKSFBwcrODgYOXn5%2BvRRx9VcHCwYmNjVV9fr%2Brqar/3VVVV%2BVak4uLifCtVzaqrq9XQ0PCzdaqqqhQcHKwePXocsW9z586V1%2Bv1beXl5baGDQAA2oF2G7CGDh2qLVu2qKSkxLclJydrwoQJvn%2BHhIQoLy/P956KigqVlpZq4MCBkqSUlBSVlpaqoqLCV2f16tVyuVxKSkry1flxG811mts/EpfLpYiICL8NAACcPNrtPVjdunVTYmKiX1l4eLh69OjhK580aZJmzZqlHj16KCoqSrNnz9b555/vuyE%2BNTVV/fr1U1pamh544AF9%2B%2B23mj17tjIyMnyhKDMzU0uWLFF2drYyMjJUUFCgZcuW6eWXXw7sgAEAQLvRbgNWazz00EMKDg7Wddddp4MHD2ro0KF69tln1blzZ0lS586d9dZbb2nKlCm69NJL1aVLF40fP16LFi3ytdGnTx%2BtWrVKM2fO1GOPPSaPx6NHH32URzQAJ5HkeblOd%2BGYFN473OkuACe9INN8xzbaTE1Njdxut7xeL5cLgXaIgNV22tvcou20xXnr5N/fdnsPFgAAwImKgAUAAGAZAQsAAMAyAhYAAIBlBCwAAADLCFgAAACWEbAAAAAsI2ABAABYRsACAACwjIAFAABgGQELAADAMgIWAACAZQQsAAAAywhYAAAAlhGwAAAALCNgAQAAWEbAAgAAsIyABQAAYBkBCwAAwDICFgAAgGUELAAAAMsIWAAAAJYRsAAAACwLdroDAE4%2ByfNyne4CALQpAhZwFO0tBBTeO9zpLgAA/heXCAEAACxjBQsB095WhAAA%2BLVYwQIAALCMgAUAAGAZlwjbOS67AQBw4mEFCwAAwDJWsACgg2FlG3AeK1gAAACWEbAAAAAsI2ABAABYRsACAACwjIAFAABgGQELAADAMgIWAACAZQQsAAAAywhYAAAAlhGwAAAALCNgAQAAWEbAAgAAsIyABQAAYBkBCwAAwDICFgAAgGUELAAAAMsIWAAAAJYRsAAAACwjYAEAAFhGwAIAALCMgAUAAGAZAQsAAMAyAhYAAIBlBCwAAADLCFgAAACWEbAAAAAsI2ABAABYRsACAACwrN0GrCeeeEL9%2B/dXRESEIiIilJKSorffftu3v66uTtOnT1d0dLTCw8M1ZswY7dq1y6%2BNsrIyjR49WuHh4YqOjtaMGTNUX1/vVyc/P19JSUkKCwvTGWecoaVLlwZkfAAAoP1qtwErPj5e9913nwoLC1VYWKghQ4bommuu0datWyVJWVlZWrFihXJycrR%2B/XodOHBAo0aNUlNTkySpqalJI0eOVG1trdavX6%2BcnBwtX75cs2bN8h1j586duvrqqzVo0CAVFxfrjjvu0IwZM7R8%2BXJHxgwAANqHIGOMcboTtkRFRemBBx7QH//4R8XExOj555/XuHHjJEm7d%2B9WQkKCVq1apWHDhuntt9/WqFGjVF5eLo/HI0nKyclRenq6qqqqFBERoTlz5mjlypX67LPPfMfIzMzUxx9/rIKCglb3q6amRm63W16vVxEREVbHnDwv12p7aL8K7x3udBdajfMWwE%2B1xf/D2vLv7y9ptytYP9bU1KScnBzV1tYqJSVFRUVFamhoUGpqqq%2BOx%2BNRYmKiNmzYIEkqKChQYmKiL1xJ0rBhw1RXV6eioiJfnR%2B30VynsLBQDQ0NR%2B1PXV2dampq/DYAAHDyaNcBa8uWLTrllFPkcrmUmZmpFStWqF%2B/fqqsrFRoaKgiIyP96sfGxqqyslKSVFlZqdjYWL/9kZGRCg0N/dk6sbGxamxs1L59%2B47ar4ULF8rtdvu2hIQEG8MFAADtRLsOWOecc45KSkq0ceNG3XzzzZo4caI%2B/fTTo9Y3xigoKMj3%2Bsf/bm2d5iuqR3pvs7lz58rr9fq28vLyVo8JAAC0f8FOd%2BB4hIaG6je/%2BY0kKTk5WZs3b9YjjzyicePGqb6%2BXtXV1X6rWFVVVRo4cKAkKS4uTps2bfJrr7q6Wg0NDb5Vq7i4ON9q1o/bCA4OVo8ePY7aL5fLJZfLZWWMQGtxXxMAnDja9QrWTxljVFdXp6SkJIWEhCgvL8%2B3r6KiQqWlpb6AlZKSotLSUlVUVPjqrF69Wi6XS0lJSb46P26juU5ycrJCQkICMCIAANAetdsVrDvuuEMjRoxQQkKC9u/fr5ycHH3wwQfKzc2V2%2B3WpEmTNGvWLPXo0UNRUVGaPXu2zj//fF155ZWSpNTUVPXr109paWl64IEH9O2332r27NnKyMjwfdMgMzNTS5YsUXZ2tjIyMlRQUKBly5bp5ZdfdnLoAADgBNduA9aePXuUlpamiooKud1u9e/fX7m5ubrqqqskSQ899JCCg4N13XXX6eDBgxo6dKieffZZde7cWZLUuXNnvfXWW5oyZYouvfRSdenSRePHj9eiRYt8x%2BjTp49WrVqlmTNn6rHHHpPH49Gjjz6qP/zhD46MGQAAtA8d6jlYJyqegwUAwM/jOVgAAAD4WQQsAAAAywhYAAAAlhGwAAAALCNgAQAAWEbAAgAAsIyABQAAYBkBCwAAwDICFgAAgGUELAAAAMsIWAAAAJYRsAAAACxzJGC98MILOnTokBOHBgAAaHOOBKzs7GzFxcVp8uTJ%2BvDDD53oAgAAQJtxJGDt3r1bTz/9tCoqKnTZZZfpvPPO04MPPqi9e/c60R0AAACrHAlYwcHBGjt2rFauXKmysjJNnDhRTz/9tOLj4zV27Fi99dZbMsY40TUAAIDj5vhN7nFxcRo6dKguv/xyBQUFqbCwUOPHj9dZZ52ldevWOd09AACAY%2BZYwNq3b58efvhhDRgwQJdeeqmqqqr05ptv6uuvv9Y333yjUaNG6c9//rNT3QMAAPjVgp046O9//3utWrVKffr00V/%2B8hdNnDhRMTExvv2nnHKKbrvtNj366KNOdA8AAOC4OBKwIiIitGbNGg0aNOiodXr16qXt27cHsFcAAAB2OBKwnnvuuV%2BsExQUpDPPPDMAvQEAALDLkXuwZs6cqSVLlrQof%2ByxxzRr1iwHegQAAGCPIwHrtdde0yWXXNKiPCUlRa%2B88ooDPQIAALDHkYC1b98%2BRUZGtiiPiIjQvn37HOgRAACAPY4ErDPPPFPvvPNOi/J33nlHffr0caBHAAAA9jhyk3tWVpaysrL0z3/%2BU0OGDJEkvfvuu7r//vu1aNEiJ7oEAABgjSMBKyMjQ4cOHdKCBQt09913S5Li4%2BP16KOP6sYbb3SiSwAAANY4ErAkafr06Zo%2BfboqKirUpUsXde/e3amuAAAAWOVYwGrWq1cvp7sAAABglSM3ue/du1c33HCDTjvtNIWFhSk0NNRvAwAAaM8cWcFKT0/Xjh07dOutt6pXr14KCgpyohsAAABtwpGAtXbtWq1du1YXXHCBE4cHAABoU45cIoyPj2fVCgAAdFiOBKyHHnpIc%2BfO1a5du5w4PAAAQJty5BJhWlqa9u/fr969eysiIkIhISF%2B%2B6uqqpzoFgAAgBWOBKz77rvPicMCAAAEhCMBa9KkSU4cFgAAICAcuQdLkr766ivNnz9faWlpvkuCq1ev1meffeZUlwAAAKxwJGCtW7dO5513nvLz8/Xqq6/qwIEDkqSPPvpId911lxNdAgAAsMaRgDVnzhzNnz9f77//vt%2BT24cMGaKNGzc60SUAAABrHAlYn3zyif74xz%2B2KO/Zs6f27t3rQI8AAADscSRgde/eXZWVlS3KS0pKdOqppzrQIwAAAHscCVj/%2Bq//qttvv1179%2B71PdF906ZNmj17tq6//nonugQAAGCNIwFrwYIFiouLU69evXTgwAH169dPAwcO1EUXXaT/9//%2BnxNdAgAAsMaR52CFhobqlVde0eeff66PPvpIhw8f1oUXXqhzzz3Xie4AAABY5UjAanb22Wfr7LPPdrILAAAA1jkSsG666aaf3f/kk08GqCcAAAD2ORKwKioq/F43NDRo69at2r9/v373u9850SUAAABrHAlY//jHP1qUNTY26uabb1bfvn0d6BEAAIA9jv0W4U8FBwdr9uzZeuCBB5zuCgAAwHE5YQKWJH355ZdqaGhwuhsAAADHxZFLhLfddpvfa2OMKioqtHLlSk2YMMGJLgEAAFjjSMAqKCjwe92pUyfFxMTovvvuU0ZGhhNdAgAAsMaRgLVu3TonDgsAABAQJ9Q9WAAAAB2BIytYF110ke9Hnn/Jhx9%2B2Ma9AQAAsMuRgHXFFVfoP/7jP3T22WcrJSVFkrRx40Zt27ZNkydPlsvlcqJbAAAAVjgSsL777jtNnTpVCxYs8CufN2%2Be9uzZo7///e9OdAsAAMAKR%2B7BevXVV3XDDTe0KE9PT9drr73mQI8AAADscSRguVwubdiwoUX5hg0buDwIAADaPUcC1owZM5SZmamsrCzl5OQoJydHWVlZmjJlim655ZZWtbFw4UJddNFF6tatm3r27Klrr71W27Zt86tTV1en6dOnKzo6WuHh4RozZox27drlV6esrEyjR49WeHi4oqOjNWPGDNXX1/vVyc/PV1JSksLCwnTGGWdo6dKlxzcBAACgQ3MkYM2bN0/Lli1TQUGBbrrpJt10000qKCjQU089pXnz5rWqjfz8fE2dOlUbN25UXl6eGhsblZqaqtraWl%2BdrKwsrVixQjk5OVq/fr0OHDigUaNGqampSZLU1NSkkSNHqra2VuvXr1dOTo6WL1%2BuWbNm%2BdrYuXOnrr76ag0aNEjFxcW64447NGPGDC1fvtzupAAAgA4jyBhjnO6EDXv37lXPnj2Vn5%2Bv3/3ud/J6vYqJidHzzz%2BvcePGSZJ2796thIQErVq1SsOGDdPbb7%2BtUaNGqby8XB6PR5KUk5Oj9PR0VVVVKSIiQnPmzNHKlSv12Wef%2BY6VmZmpjz/%2BuMUT6Y%2BmpqZGbrdbXq9XERERVsedPC/XansAADih8N7h1ttsy7%2B/v8SxB43W1NTo2Wef1V133aXq6mpJ0scff6yKiopf1Z7X65UkRUVFSZKKiorU0NCg1NRUXx2Px6PExETf/V8FBQVKTEz0hStJGjZsmOrq6lRUVOSr8%2BM2musUFhYe9Yep6%2BrqVFNT47cBAICThyOPaSgtLdWVV16prl27qry8XOnp6YqMjNSrr76qXbt26bnnnjum9owxys7O1mWXXabExERJUmVlpUJDQxUZGelXNzY2VpWVlb46sbGxfvsjIyMVGhr6s3ViY2PV2Nioffv2qVevXi36s3DhQt1zzz3HNAYAANBxOLKCNXPmTI0fP147duxQWFiYr3zkyJFau3btMbc3bdo0ffLJJ3r55Zd/sa4xxu8p8kd6ovwv1Wm%2Bqnq0p9HPnTtXXq/Xt5WXl7dqHAAAoGNwJGBt3rxZU6ZMaRFQTj311GO%2BRDh9%2BnStXLlS77//vuLj433lcXFxqq%2Bv911%2BbFZVVeVbkYqLi/OtVDWrrq5WQ0PDz9apqqpScHCwevToccQ%2BuVwuRURE%2BG0AAODk4UjACg0N1YEDB1qUb9%2B%2BXdHR0a1qwxijadOm6Y033tB7772nPn36%2BO1PSkpSSEiI8vLyfGUVFRUqLS3VwIEDJUkpKSkqLS31C3WrV6%2BWy%2BVSUlKSr86P22iuk5ycrJCQkNYNGAAAnFQcCVhjxozRv/3bv6mxsVHSD5favvnmG91%2B%2B%2B0aO3Zsq9qYOnWqXnjhBb300kvq1q2bKisrVVlZqYMHD0qS3G63Jk2apFmzZundd99VcXGxrr/%2Bep1//vm68sorJUmpqanq16%2Bf0tLSVFxcrHfffVezZ89WRkaGb9UpMzNTX3/9tbKzs/XZZ5/p6aef1rJlyzR79uw2mBkAANAROPKYBq/Xq%2BHDh2v79u367rvvlJCQoN27d%2Buiiy5Sbm6uTjnllF9s42j3Pz3zzDNKT0%2BXJB06dEi33nqrXnrpJR08eFBDhw7V448/roSEBF/9srIyTZkyRe%2B99566dOmi8ePHa9GiRX5PlM/Pz9fMmTO1detWeTwezZkzR5mZma0eL49pAADg53W0xzQ49hwsY4zy8vL00Ucf6fDhw7rwwgs1bNiwowan9oyABQDAz%2BtoASvgj2loaGjQ1Vdfrccff1ypqaktnjEFAADQ3gX8HqyQkBAVFxd3yJUqAAAAyaGb3K%2B//no988wzThwaAACgzTnyJHdJWrJkidasWaPk5GSFh4f77bv//vsd6hUAAMDxcyRgFRUVqX///pKkTz75xG8flw4BAEB7F9CA9eWXX6pPnz5at25dIA8LAAAQUAG9B%2Buss87S3r17fa/HjRunPXv2BLILAAAAbS6gAeunj9xatWqVamtrA9kFAACANufItwgBAAA6soAGrKCgoBY3sXNTOwAA6GgCepO7MUbp6em%2B3/k7dOiQMjMzWzym4Y033ghktwAAAKwKaMCaOHGi3%2Bvrr78%2BkIcHAAAIiIAGLJ7eDgAATgbc5A4AAGAZAQsAAMAyAhYAAIBlBCwAAADLCFgAAACWEbAAAAAsI2ABAABYRsACAACwjIAFAABgGQELAADAMgIWAACAZQQsAAAAywhYAAAAlhGwAAAALCNgAQAAWEbAAgAAsIyABQAAYBkBCwAAwDICFgAAgGUELAAAAMsIWAAAAJYRsAAAACwjYAEAAFhGwAIAALCMgAUAAGAZAQsAAMAyAhYAAIBlBCwAAADLCFgAAACWEbAAAAAsI2ABAABYRsACAACwjIAFAABgGQELAADAMgIWAACAZQQsAAAAywhYAAAAlhGwAAAALCNgAQAAWEbAAgAAsIyABQAAYBkBCwAAwDICFgAAgGUELAAAAMsIWAAAAJYRsAAAACwjYAEAAFjWrgPW2rVrNXr0aHk8HgUFBenNN9/022%2BM0fz58%2BXxeNSlSxddfvnl2rp1q1%2Bd6upqpaWlye12y%2B12Ky0tTd99951fnS1btmjw4MHq0qWLTj31VP31r3%2BVMabNxwcAANqndh2wamtrNWDAAC1ZsuSI%2B%2B%2B//34tXrxYS5Ys0ebNmxUXF6errrpK%2B/fv99UZP368SkpKlJubq9zcXJWUlCgtLc23v6amRldddZU8Ho82b96sv/3tb1q0aJEWL17c5uMDAADtU7DTHTgeI0aM0IgRI464zxijhx9%2BWPPmzdPYsWMlSc8995xiY2P10ksvafLkyfrss8%2BUm5urjRs36uKLL5YkPfXUU0pJSdG2bdt0zjnn6MUXX9ShQ4f07LPPyuVyKTExUZ9//rkWL16s7OxsBQUFBWy8AACgfWjXK1g/Z%2BfOnaqsrFRqaqqvzOVyafDgwdqwYYMkqaCgQG632xeuJOmSSy6R2%2B32qzN48GC5XC5fnWHDhmn37t366quvjnjsuro61dTU%2BG0AAODk0WEDVmVlpSQpNjbWrzw2Nta3r7KyUj179mzx3p49e/rVOVIbPz7GTy1cuNB3T5fb7VZCQsLxDQYAALQrHTZgNfvpJTxjjF/ZkS7x/VKd5hvcj3Z5cO7cufJ6vb6tvLz8V/cfAAC0P%2B36HqyfExcXJ%2BmHVaZevXr5yquqqnwrUHFxcdqzZ0%2BL9%2B7du9evzk9XqqqqqiS1XB1r5nK5/C4pAgCAk0uHXcHq06eP4uLilJeX5yurr69Xfn6%2BBg4cKElKSUmR1%2BvVhx9%2B6KuzadMmeb1evzpr165VfX29r87q1avl8Xh0%2BumnB2YwAACgXWnXAevAgQMqKSlRSUmJpB9ubC8pKVFZWZmCgoKUlZWlBQsWaMWKFSotLVV6erq6du2q8ePHS5L69u2r4cOHKyMjQxs3btTGjRuVkZGhUaNG6ZxzzpH0w2McXC6X0tPTVVpaqhUrVmjBggV8gxAAABxVu75EWFhYqCuuuML3Ojs7W5I0ceJEPfvss7rtttt08OBBTZkyRdXV1br44ou1evVqdevWzfeeF198UTNmzPB923DMmDF%2Bz9Vyu93Ky8vT1KlTlZycrMjISGVnZ/uOBQAA8FNBhkeSt7mamhq53W55vV5FRERYbTt5Xq7V9gAAcELhvcOtt9mWf39/Sbu%2BRAgAAHAiImABAABYRsACAACwjIAFAABgGQELAADAMgIWAACAZQQsAAAAywhYAAAAlhGwAAAALCNgAQAAWEbAAgAAsIyABQAAYBkBCwAAwDICFgAAgGUELAAAAMsIWAAAAJYRsAAAACwjYAEAAFhGwAIAALCMgAUAAGAZAQsAAMAyAhYAAIBlBCwAAADLCFgAAACWEbAAAAAsI2ABAABYRsACAACwjIAFAABgGQELAADAMgIWAACAZQQsAAAAywhYAAAAlhGwAAAALCNgAQAAWEbAAgAAsIyABQAAYBkBCwAAwDICFgAAgGUELAAAAMsIWAAAAJYRsAAAACwjYAEAAFhGwAIAALCMgAUAAGAZAQsAAMAyAhYAAIBlBCwAAADLCFgAAACWEbAAAAAsI2ABAABYRsACAACwjIAFAABgGQELAADAMgIWAACAZQQsAAAAywhYAAAAlhGwAAAALCNgAQAAWEbAAgAAsIyABQAAYBkBq5Uef/xx9enTR2FhYUpKStK6deuc7hIAADhBEbBa4ZVXXlFWVpbmzZun4uJiDRo0SCNGjFBZWZnTXQMAACcgAlYrLF68WJMmTdJf/vIX9e3bVw8//LASEhL0xBNPON01AABwAgp2ugMnuvr6ehUVFen222/3K09NTdWGDRuO%2BJ66ujrV1dX5Xnu9XklSTU2N9f411dVabxMAgEBri7%2BRzW0aY6y3/UsIWL9g3759ampqUmxsrF95bGysKisrj/iehQsX6p577mlRnpCQ0CZ9BACgvXM/2HZt79%2B/X263u%2B0OcAQErFYKCgrye22MaVHWbO7cucrOzva9Pnz4sL799lv16NHjqO85kpqaGiUkJKi8vFwRERG/ruMnGebs2DBfx445OzbM17Fjzo7Nz82XMUb79%2B%2BXx%2BMJeL8IWL8gOjpanTt3brFaVVVV1WJVq5nL5ZLL5fIr6969%2B6/uQ0REBB%2ByY8ScHRvm69gxZ8eG%2BTp2zNmxOdp8BXrlqhk3uf%2BC0NBQJSUlKS8vz688Ly9PAwcOdKhXAADgRMYKVitkZ2crLS1NycnJSklJ0ZNPPqmysjJlZmY63TUAAHAC6jx//vz5TnfiRJeYmKgePXpowYIFWrRokQ4ePKjnn39eAwYMaPNjd%2B7cWZdffrmCg8nCrcWcHRvm69gxZ8eG%2BTp2zNmxORHnK8g48d1FAACADox7sAAAACwjYAEAAFhGwAIAALCMgAUAAGAZAauNrV27VqNHj5bH41FQUJDefPNNv/179uxRenq6PB6PunbtquHDh2vcg3xUAAAMDklEQVT79u0t2ikoKNCQIUMUHh6u7t276/LLL9fBgwd9%2B6urq5WWlia32y232620tDR99913bT6%2BtnC8c/bVV18pKCjoiNtrr73mq1dWVqbRo0crPDxc0dHRmjFjhurr6wM2TltsnGOVlZVKS0tTXFycwsPDdeGFF%2Br111/3q8M55j9nO3bs0O9//3vFxMQoIiJC1113nfbs2eNXp6PM2cKFC3XRRRepW7du6tmzp6699lpt27bNr05dXZ2mT5%2Bu6OhohYeHa8yYMdq1a5dfndZ85vLz85WUlKSwsDCdccYZWrp0aZuPzzZb83XLLbcoKSlJLpdLv/3tb494rC1btmjw4MHq0qWLTj31VP31r3915Hf3jpeNOfv444/1pz/9SQkJCerSpYv69u2rRx55pMWxAnWOEbDaWG1trQYMGKAlS5a02GeM0bXXXqsvv/xS//Vf/6Xi4mL17t1bV155pWpr/%2B9HnAsKCjR8%2BHClpqbqww8/1ObNmzVt2jR16vR///nGjx%2BvkpIS5ebmKjc3VyUlJUpLSwvIGG073jlLSEhQRUWF33bPPfcoPDxcI0aMkCQ1NTVp5MiRqq2t1fr165WTk6Ply5dr1qxZAR2rDTbOsbS0NG3btk0rV67Uli1bNHbsWI0bN07FxcW%2BOpxj/zdntbW1Sk1NVVBQkN577z3993//t%2Brr6zV69GgdPnzY11ZHmbP8/HxNnTpVGzduVF5enhobG5Wamup3DmVlZWnFihXKycnR%2BvXrdeDAAY0aNUpNTU2SWveZ27lzp66%2B%2BmoNGjRIxcXFuuOOOzRjxgwtX7484GM%2BHjbmS/rhXLzxxhs1bty4Ix6npqZGV111lTwejzZv3qy//e1vWrRokRYvXtzmY7TNxpwVFRUpJiZGL7zwgrZu3ap58%2BZp7ty5fp/zgJ5jBgEjyaxYscL3etu2bUaSKS0t9ZU1NjaaqKgo89RTT/nKLr74YnPnnXcetd1PP/3USDIbN270lRUUFBhJ5n/%2B538sjyKwfu2c/dRvf/tbc%2BONN/per1q1ynTq1Ml88803vrKXX37ZuFwu4/V6LY8icH7tfIWHh5v//M//9GsrKirK/P3vfzfGcI79dM7eeecd06lTJ79z5dtvvzWSTF5enjGmY89ZVVWVkWTy8/ONMcZ89913JiQkxOTk5PjqfPPNN6ZTp04mNzfXGNO6z9xtt91mzj33XL9jTZ482VxyySVtPaQ29Wvm68fuvvtuM2DAgBbljz/%2BuHG73ebQoUO%2BsoULFxqPx2MOHz7cBiMJnOOds2ZTpkwxV1xxhe91IM8xVrAcVFdXJ0kKCwvzlXXu3FmhoaFav369pB9%2B83DTpk3q2bOnBg4cqNjYWA0ePNi3X/phhcvtduviiy/2lV1yySVyu93asGFDgEYTGK2Zs58qKipSSUmJJk2a5CsrKChQYmKi3w%2BADhs2THV1dSoqKmqj3gdea%2Bfrsssu0yuvvKJvv/1Whw8fVk5Ojurq6nT55ZdL4hz76ZzV1dUpKCjI7zdHw8LC1KlTJ1%2BdjjxnXq9XkhQVFSXph89YQ0ODUlNTfXU8Ho8SExN9Y23NZ66goMCvjeY6hYWFamhoaNMxtaVfM1%2BtUVBQoMGDB/udh8OGDdPu3bv11Vdf2em8Q2zNmdfr9bUhBfYcI2A56Nxzz1Xv3r01d%2B5cVVdXq76%2BXvfdd58qKytVUVEhSfryyy8lSfPnz1dGRoZyc3N14YUXaujQob57QiorK9WzZ88W7ffs2bPFj1S3d62Zs59atmyZ%2Bvbt6/fbkZWVlS1%2BrDsyMlKhoaEdas5aO1%2BvvPKKGhsb1aNHD7lcLk2ePFkrVqzQmWeeKYlz7Kdzdskllyg8PFxz5szR999/r9raWt166606fPiwr05HnTNjjLKzs3XZZZcpMTFR0g9jDQ0NVWRkpF/d2NhY31hb85k7Up3Y2Fg1NjZq3759bTWkNvVr56s1jjZfzfvaK1tzVlBQoFdffVWTJ0/2lQXyHCNgOSgkJETLly/X559/rqioKHXt2lUffPCBRowYoc6dO0uS736OyZMn64YbbtAFF1yghx56SOecc46efvppX1tBQUEt2jfGHLG8PWvNnP3YwYMH9dJLL/mtXjU7GeastfN15513qrq6WmvWrFFhYaGys7P1L//yL9qyZYuvzskwX1Lr5iwmJkavvfaa/vGPf%2BiUU06R2%2B2W1%2BvVhRde6DevHXHOpk2bpk8%2B%2BUQvv/zyL9b96VhbMx8/rWP%2B94bt9jpnxzNfrdHR5kuyM2dbt27VNddco7vuuktXXXWV375AzdmJ86M9J6mkpCSVlJTI6/Wqvr5eMTExuvjii5WcnCxJ6tWrlySpX79%2Bfu/r27evysrKJElxcXEtvr0kSXv37m2R1DuCX5qzH3v99df1/fff689//rNfeVxcnDZt2uRXVl1drYaGhg43Z780Xzt27NCSJUtUWlqq8847T5I0YMAArVu3To899piWLl3KOXaEcyw1NVU7duzQvn37FBwcrO7duysuLk59%2BvSR1DE/l9OnT9fKlSu1du1axcfH%2B8rj4uJUX1%2Bv6upqvxWGqqoq38pxaz5zcXFxLVYjqqqqFBwcrB49erTVsNrM8cxXaxxtviSdlOdYs08//VRDhgxRRkaG7rzzTr99gTzHWME6QbjdbsXExGj79u0qLCzUNddcI0k6/fTT5fF4Wnxd9fPPP1fv3r0lSSkpKfJ6vfrwww99%2Bzdt2iSv13tMH9b25mhz9mPLli3TmDFjFBMT41eekpKi0tJSv8tkq1evlsvlUlJSUpv33QlHm6/vv/9ekvy%2BlSr9cN9R8woq59jRz7Ho6Gh1795d7733nqqqqjRmzBhJHWvOjDGaNm2a3njjDb333nu%2BENksKSlJISEhysvL85VVVFSotLTUN9bWfOZSUlL82miuk5ycrJCQkLYannU25qs1UlJStHbtWr9HXaxevVoej0enn376cY8jkGzN2datW3XFFVdo4sSJuvfee1scJ6DnmPXb5uFn//79pri42BQXFxtJZvHixaa4uNh8/fXXxhhjXn31VfP%2B%2B%2B%2BbHTt2mDfffNP07t3bjB071q%2BNhx56yERERJjXXnvNbN%2B%2B3dx5550mLCzMfPHFF746w4cPN/379zcFBQWmoKDAnH/%2B%2BWbUqFEBHastNubMGGO2b99ugoKCzNtvv91iX2Njo0lMTDRDhw41H330kVmzZo2Jj48306ZNa/Px2Xa881VfX29%2B85vfmEGDBplNmzaZL774wixatMgEBQWZt956y1ePc8z/HHv66adNQUGB%2BeKLL8zzzz9voqKiTHZ2tl%2BdjjJnN998s3G73eaDDz4wFRUVvu3777/31cnMzDTx8fFmzZo15qOPPjJDhgwxAwYMMI2NjcaY1n3mvvzyS9O1a1czc%2BZM8%2Bmnn5ply5aZkJAQ8/rrrwd8zMfDxnwZ88P/w4qLi83kyZPN2Wef7Ttn6%2BrqjDE/fLMuNjbW/OlPfzJbtmwxb7zxhomIiDCLFi0K%2BJiPl405Ky0tNTExMWbChAl%2BbVRVVfnaCOQ5RsBqY%2B%2B//76R1GKbOHGiMcaYRx55xMTHx5uQkBBz2mmnmTvvvNP34fmxhQsXmvj4eNO1a1eTkpJi1q1b57f/n//8p5kwYYLp1q2b6datm5kwYYKprq4OxBCtszVnc%2BfONfHx8aapqemIx/n666/NyJEjTZcuXUxUVJSZNm2a39ed2wsb8/X555%2BbsWPHmp49e5quXbua/v37t3hsA%2BeY/5zNmTPHxMbGmpCQEHPWWWeZBx98sMVX4zvKnB1priSZZ555xlfn4MGDZtq0aSYqKsp06dLFjBo1ypSVlfm105rP3AcffGAuuOACExoaak4//XTzxBNPBGKIVtmar8GDBx%2BxnZ07d/rqfPLJJ2bQoEHG5XKZuLg4M3/%2B/Hb5iAYbc3b33XcfsY3evXv7HStQ51jQ/w4MAAAAlnAPFgAAgGUELAAAAMsIWAAAAJYRsAAAACwjYAEAAFhGwAIAALCMgAUAAGAZAQsAAMAyAhYAAIBlBCwAAADLCFgAAACWEbAAAAAsI2ABAABYRsACAACwjIAFAABgGQELAADAMgIWAACAZQQsAAAAy/4/iZAQl/jLaPAAAAAASUVORK5CYII%3D\"/>\n",
       "        </div>\n",
       "        <div role=\"tabpanel\" class=\"tab-pane col-md-12\" id=\"common-6041302824185516646\">\n",
       "            \n",
       "<table class=\"freq table table-hover\">\n",
       "    <thead>\n",
       "    <tr>\n",
       "        <td class=\"fillremaining\">Value</td>\n",
       "        <td class=\"number\">Count</td>\n",
       "        <td class=\"number\">Frequency (%)</td>\n",
       "        <td style=\"min-width:200px\">&nbsp;</td>\n",
       "    </tr>\n",
       "    </thead>\n",
       "    <tr class=\"\">\n",
       "        <td class=\"fillremaining\">2016</td>\n",
       "        <td class=\"number\">718</td>\n",
       "        <td class=\"number\">1.9%</td>\n",
       "        <td>\n",
       "            <div class=\"bar\" style=\"width:3%\">&nbsp;</div>\n",
       "        </td>\n",
       "</tr><tr class=\"\">\n",
       "        <td class=\"fillremaining\">2015</td>\n",
       "        <td class=\"number\">717</td>\n",
       "        <td class=\"number\">1.9%</td>\n",
       "        <td>\n",
       "            <div class=\"bar\" style=\"width:3%\">&nbsp;</div>\n",
       "        </td>\n",
       "</tr><tr class=\"\">\n",
       "        <td class=\"fillremaining\">2017</td>\n",
       "        <td class=\"number\">717</td>\n",
       "        <td class=\"number\">1.9%</td>\n",
       "        <td>\n",
       "            <div class=\"bar\" style=\"width:3%\">&nbsp;</div>\n",
       "        </td>\n",
       "</tr><tr class=\"\">\n",
       "        <td class=\"fillremaining\">2018</td>\n",
       "        <td class=\"number\">717</td>\n",
       "        <td class=\"number\">1.9%</td>\n",
       "        <td>\n",
       "            <div class=\"bar\" style=\"width:3%\">&nbsp;</div>\n",
       "        </td>\n",
       "</tr><tr class=\"\">\n",
       "        <td class=\"fillremaining\">2013</td>\n",
       "        <td class=\"number\">716</td>\n",
       "        <td class=\"number\">1.9%</td>\n",
       "        <td>\n",
       "            <div class=\"bar\" style=\"width:3%\">&nbsp;</div>\n",
       "        </td>\n",
       "</tr><tr class=\"\">\n",
       "        <td class=\"fillremaining\">2014</td>\n",
       "        <td class=\"number\">715</td>\n",
       "        <td class=\"number\">1.9%</td>\n",
       "        <td>\n",
       "            <div class=\"bar\" style=\"width:3%\">&nbsp;</div>\n",
       "        </td>\n",
       "</tr><tr class=\"\">\n",
       "        <td class=\"fillremaining\">2012</td>\n",
       "        <td class=\"number\">715</td>\n",
       "        <td class=\"number\">1.9%</td>\n",
       "        <td>\n",
       "            <div class=\"bar\" style=\"width:3%\">&nbsp;</div>\n",
       "        </td>\n",
       "</tr><tr class=\"\">\n",
       "        <td class=\"fillremaining\">2011</td>\n",
       "        <td class=\"number\">710</td>\n",
       "        <td class=\"number\">1.9%</td>\n",
       "        <td>\n",
       "            <div class=\"bar\" style=\"width:3%\">&nbsp;</div>\n",
       "        </td>\n",
       "</tr><tr class=\"\">\n",
       "        <td class=\"fillremaining\">2010</td>\n",
       "        <td class=\"number\">709</td>\n",
       "        <td class=\"number\">1.9%</td>\n",
       "        <td>\n",
       "            <div class=\"bar\" style=\"width:3%\">&nbsp;</div>\n",
       "        </td>\n",
       "</tr><tr class=\"\">\n",
       "        <td class=\"fillremaining\">2008</td>\n",
       "        <td class=\"number\">707</td>\n",
       "        <td class=\"number\">1.9%</td>\n",
       "        <td>\n",
       "            <div class=\"bar\" style=\"width:3%\">&nbsp;</div>\n",
       "        </td>\n",
       "</tr><tr class=\"other\">\n",
       "        <td class=\"fillremaining\">Other values (48)</td>\n",
       "        <td class=\"number\">30181</td>\n",
       "        <td class=\"number\">80.9%</td>\n",
       "        <td>\n",
       "            <div class=\"bar\" style=\"width:100%\">&nbsp;</div>\n",
       "        </td>\n",
       "</tr>\n",
       "</table>\n",
       "        </div>\n",
       "        <div role=\"tabpanel\" class=\"tab-pane col-md-12\"  id=\"extreme-6041302824185516646\">\n",
       "            <p class=\"h4\">Minimum 5 values</p>\n",
       "            \n",
       "<table class=\"freq table table-hover\">\n",
       "    <thead>\n",
       "    <tr>\n",
       "        <td class=\"fillremaining\">Value</td>\n",
       "        <td class=\"number\">Count</td>\n",
       "        <td class=\"number\">Frequency (%)</td>\n",
       "        <td style=\"min-width:200px\">&nbsp;</td>\n",
       "    </tr>\n",
       "    </thead>\n",
       "    <tr class=\"\">\n",
       "        <td class=\"fillremaining\">1961</td>\n",
       "        <td class=\"number\">582</td>\n",
       "        <td class=\"number\">1.6%</td>\n",
       "        <td>\n",
       "            <div class=\"bar\" style=\"width:99%\">&nbsp;</div>\n",
       "        </td>\n",
       "</tr><tr class=\"\">\n",
       "        <td class=\"fillremaining\">1962</td>\n",
       "        <td class=\"number\">582</td>\n",
       "        <td class=\"number\">1.6%</td>\n",
       "        <td>\n",
       "            <div class=\"bar\" style=\"width:99%\">&nbsp;</div>\n",
       "        </td>\n",
       "</tr><tr class=\"\">\n",
       "        <td class=\"fillremaining\">1963</td>\n",
       "        <td class=\"number\">582</td>\n",
       "        <td class=\"number\">1.6%</td>\n",
       "        <td>\n",
       "            <div class=\"bar\" style=\"width:99%\">&nbsp;</div>\n",
       "        </td>\n",
       "</tr><tr class=\"\">\n",
       "        <td class=\"fillremaining\">1964</td>\n",
       "        <td class=\"number\">583</td>\n",
       "        <td class=\"number\">1.6%</td>\n",
       "        <td>\n",
       "            <div class=\"bar\" style=\"width:100%\">&nbsp;</div>\n",
       "        </td>\n",
       "</tr><tr class=\"\">\n",
       "        <td class=\"fillremaining\">1965</td>\n",
       "        <td class=\"number\">583</td>\n",
       "        <td class=\"number\">1.6%</td>\n",
       "        <td>\n",
       "            <div class=\"bar\" style=\"width:100%\">&nbsp;</div>\n",
       "        </td>\n",
       "</tr>\n",
       "</table>\n",
       "            <p class=\"h4\">Maximum 5 values</p>\n",
       "            \n",
       "<table class=\"freq table table-hover\">\n",
       "    <thead>\n",
       "    <tr>\n",
       "        <td class=\"fillremaining\">Value</td>\n",
       "        <td class=\"number\">Count</td>\n",
       "        <td class=\"number\">Frequency (%)</td>\n",
       "        <td style=\"min-width:200px\">&nbsp;</td>\n",
       "    </tr>\n",
       "    </thead>\n",
       "    <tr class=\"\">\n",
       "        <td class=\"fillremaining\">2014</td>\n",
       "        <td class=\"number\">715</td>\n",
       "        <td class=\"number\">1.9%</td>\n",
       "        <td>\n",
       "            <div class=\"bar\" style=\"width:99%\">&nbsp;</div>\n",
       "        </td>\n",
       "</tr><tr class=\"\">\n",
       "        <td class=\"fillremaining\">2015</td>\n",
       "        <td class=\"number\">717</td>\n",
       "        <td class=\"number\">1.9%</td>\n",
       "        <td>\n",
       "            <div class=\"bar\" style=\"width:99%\">&nbsp;</div>\n",
       "        </td>\n",
       "</tr><tr class=\"\">\n",
       "        <td class=\"fillremaining\">2016</td>\n",
       "        <td class=\"number\">718</td>\n",
       "        <td class=\"number\">1.9%</td>\n",
       "        <td>\n",
       "            <div class=\"bar\" style=\"width:100%\">&nbsp;</div>\n",
       "        </td>\n",
       "</tr><tr class=\"\">\n",
       "        <td class=\"fillremaining\">2017</td>\n",
       "        <td class=\"number\">717</td>\n",
       "        <td class=\"number\">1.9%</td>\n",
       "        <td>\n",
       "            <div class=\"bar\" style=\"width:99%\">&nbsp;</div>\n",
       "        </td>\n",
       "</tr><tr class=\"\">\n",
       "        <td class=\"fillremaining\">2018</td>\n",
       "        <td class=\"number\">717</td>\n",
       "        <td class=\"number\">1.9%</td>\n",
       "        <td>\n",
       "            <div class=\"bar\" style=\"width:99%\">&nbsp;</div>\n",
       "        </td>\n",
       "</tr>\n",
       "</table>\n",
       "        </div>\n",
       "    </div>\n",
       "</div>\n",
       "</div>\n",
       "    <div class=\"row headerrow highlight\">\n",
       "        <h1>Correlations</h1>\n",
       "    </div>\n",
       "    <div class=\"row variablerow\">\n",
       "    <img src=\"data:image/png;base64,iVBORw0KGgoAAAANSUhEUgAAAogAAAI8CAYAAAByElrZAAAABHNCSVQICAgIfAhkiAAAAAlwSFlzAAAPYQAAD2EBqD%2BnaQAAADl0RVh0U29mdHdhcmUAbWF0cGxvdGxpYiB2ZXJzaW9uIDMuMC4yLCBodHRwOi8vbWF0cGxvdGxpYi5vcmcvOIA7rQAAIABJREFUeJzs3Xt8z/X///HbTnbCNtnMMWLjR4eNOYYy%2Biw5JllhTqEac4ioPonyoRQdHJMcIyYipPRJhfqWEeWUcsgsp81msZPtvb1/f%2BzjnVcbLW/zfnl3v14u78v2fr5Oj/fD296P9%2BP5er3fLlar1YqIiIiIyP%2B4OjoAERERETEXFYgiIiIiYqACUUREREQMVCCKiIiIiIEKRBERERExUIEoIiIiIgYqEEVERETEQAWiiIiIiBioQBQRERERA3dHByAizuu3336jbdu2V1zu4eFB2bJlqVmzJvfeey%2B9e/embNmyNzBCEREpjou%2Bak9ESsvlBWJoaGiR4i8vL4%2B0tDROnDgBQJUqVVi0aBG33nrrDY9VRET%2BoAJRRErN5QXikiVLaNq0abHrbd%2B%2BndjYWDIyMggPD2fFihU3MkwREfkTnYMoIg7XtGlTnnrqKQB2797Nvn37HByRiMg/mwpEETGF%2B%2B67z/b7jz/%2B6MBIREREF6mIiCmUK1fO9ntmZqZh2Y4dO3jvvffYtWsX6enplC9fnrCwMGJiYmjevHmx%2Bzt//jwrVqxgy5YtHD58mIyMDLy9valRowZt2rShT58%2B%2BPn5GbapW7cuAN988w2vvPIKmzdvxtXVlQYNGrBgwQLc3d358ccfWbRoEQcOHODUqVN4enpSq1Yt2rVrR8%2BePYu9yCYnJ4cVK1awceNGDh8%2BTF5eHpUqVaJFixYMGDCAmjVrGtbfvn07ffr04a677mLZsmW89957rF27lsTERDw8PGjQoAExMTG0a9fuWlItIvKXVCCKiCkkJibafg8ODrb9PnXqVObNmweAn58foaGhJCcns3nzZjZv3szAgQN5%2BumnDfs6duwY/fr149SpU7i7u1OjRg2qVq3KiRMn2L9/P/v37%2Bfjjz9m9erV%2BPr6FoklLi6O3bt3ExoaSlpaGoGBgbi7u/PZZ58xcuRILBYLAQEB1KlTh8zMTPbs2cOPP/7IunXrWLFihaFIPH36NP379%2Bfo0aMA1KxZE19fX44cOUJ8fDxr167llVde4YEHHigSR15eHoMGDeLbb78lICCA2rVr8%2Buvv/Ldd9/x3XffMWHCBB599FH7Ei8iUhyriEgpSUpKsoaGhlpDQ0Ot33333VXXHTNmjDU0NNTaoEEDa0pKitVqtVqXL19uDQ0NtUZERFg/%2Bugj27oFBQXWjz/%2B2BoWFmYNDQ21rly50rCv3r17W0NDQ609evSwnjlzxrDdmjVrrPXq1bOGhoZaly5datjuUqy33367NSEhwWq1Wq35%2BfnWc%2BfOWfPz86133323NTQ01Dpv3jyrxWKxbbdv3z5rs2bNrKGhoda5c%2Bfaxi0Wi7VLly7W0NBQa1RUlPWnn36yLbtw4YL13//%2Bt%2B0x//DDD7Zl3333nS2WsLAw67p162zLzp8/b%2B3bt681NDTU2qRJE2teXt5V8yoici10DqKIOExOTg4HDhxg/PjxrF27FoB%2B/fpRsWJFcnNzmTFjBgCTJ0%2Bmc%2BfOtu1cXFx44IEHbJ3DGTNmYLFYAEhNTeXQoUMATJw4kaCgIMN2Xbt2pUmTJgD8/PPPxcbVvn17GjduDICrqyv%2B/v6kpaWRkpICQI8ePXBzc7Ot36BBA0aOHEm7du3w9/e3jX/66af89NNPeHp6Mm/ePOrVq2dbVrZsWf7zn//QqlUr8vLyeOONN4qNZdiwYXTq1Ml2v1y5crbHnZ6ezq%2B//nqF7IqIXDtNMYvIDdGnT5%2B/XOfhhx9m%2BPDhQOHVzGfPnsXX1/eKH7bduXNnJk6cyJkzZzhw4AB33nknt9xyC9999x05OTl4eXkV2SY/P982BZyTk1Psfhs1alRkLCAgAD8/P37//XdGjx7Nk08%2ByV133YWra%2BH77B49etCjRw/DNl988QUAkZGRVK9evdhj9e/fn23btpGQkMCFCxcM52ICtGnTpsg2tWvXtv1%2B/vz5YvcrImIPFYgickP8%2BYOyXVxc8PT0xN/fn7p169KuXTvq1KljW36pC5iXl0evXr2uuF83NzcKCgo4evQod955p23cy8uLU6dO8eOPP3L8%2BHGSkpI4cuQIP/30E1lZWQAUFBQUu8/AwMBijzN69GjGjRvHli1b2LJlC35%2BfjRt2pS7776be%2B%2B913DuJGDr7jVo0OCK8V9alp%2BfT2JiIrfffrtheaVKlYpsc3nhm5%2Bff8V9i4hcKxWIInJDPP/881f8oOziXLhwAYDc3Fx27dr1l%2Btf3kk7evQor776Klu2bDEUgWXLliUiIoLk5GQOHjx4xX0V13mEwi7hrbfeysKFC/m///s/fv/9dz777DM%2B%2B%2BwzXFxcuPfee5kwYYKtUMzIyAAo0hW83OVF85%2Bv3obCryO8Gqu%2B60BESoEKRBExJW9vb6Cww/bhhx%2BWeLvU1FR69%2B5NamoqVapUoUePHtSvX5/bbruNatWq4eLiwqhRo65aIF5N06ZNadq0KTk5OezcuZMdO3awbds29u/fz5dffsmpU6dYu3YtLi4utiukLxW7xbm8sC3uimoREUdQgSgiplSrVi2g8CNrLBYL7u5F/1xZrVa2b99OcHAwVapUoUyZMqxevZrU1FT8/f1ZvXo1FSpUKLLdmTNn/nY8ubm5JCUlkZGRwV133YWXlxctW7akZcuWjBw5ko8//pinnnqKgwcP8vPPP1OvXj1uu%2B02Dhw4wP79%2B6%2B437179wKFU%2B41atT423GJiJQGXcUsIqbUuHFjypUrR2Zm5hU7iOvXr6dv3760b9%2Be06dPA4Xf/wxQpUqVYovDw4cP88MPPwB/7/y9rVu38sADDzB48GByc3OLLG/RooXt90v7vXSByRdffEFSUlKx%2B12yZAkAYWFhlC9fvsTxiIiUJhWIImJKPj4%2BDB48GIBJkyaxevVqw/mEn3/%2BOePHjwcKP5bmUvfttttuA%2BDgwYNs2rTJtr7VamXr1q0MHDiQvLw8ALKzs0scT%2BvWrQkICCA9PZ2xY8eSnp5uW5aZmcmUKVMAqFy5MiEhIQDcf//91K1bl4sXLzJo0CDDtHZGRgbjxo3j66%2B/xt3dndGjR5c8OSIipUxTzCJiWoMGDSIpKYmVK1fy3HPP8dprr1GtWjXOnDlDcnIyAA0bNuQ///mPbZvu3bvz/vvvk5iYyLBhw6hatSoBAQGcOnWK1NRUPDw8aNKkCQkJCX9rqrlMmTK89dZbPPbYY2zcuJHNmzdTo0YNXF1dSUpKIisrC29vb1555RXKlCkDgLu7O7Nnz2bQoEEcPXqULl26GL5J5dJH8bz44otERERc3%2BSJiNhBBaKImJaLiwsTJ04kKiqKFStW8MMPP9g%2BeDosLIyOHTsSHR1tK8ig8KrgVatWMW/ePL788kt%2B%2B%2B03zp49S3BwMPfeey99%2B/bFx8eHdu3acfDgQU6ePEmVKlVKFE/Tpk354IMPWLhwId9//z3Hjh3D3d2d4OBgWrZsyYABA4rsq1q1aqxevZrly5fz6aefcuTIEU6fPk3lypVp1aoVvXr1KvJdzCIijuZi1WckiIiIiMhldA6iiIiIiBioQBQRERERAxWIIiIiImKgAlFERETkBkpLS%2BO%2B%2B%2B5j%2B/btV1xny5YtdOrUibCwMNq3b8%2BXX35pWD5v3jxat25NWFgYMTExHD169LrGqAJRRERE5Ab5/vvviY6O5vjx41dc59ixY8TFxTF8%2BHB27txJXFwcI0aMsH0015o1a3jvvfeYP38%2B27dvp0GDBgwbNuy6fje7CkQRERGRG2DNmjWMHj2akSNH/uV6ERERtGvXDnd3dx544AEaN25MfHw8ACtXrqRnz56EhITg6enJqFGjOHny5FU7kn%2BXCkQRERGREkhOTmb//v2G26UP7S%2BJli1b8t///pcHHnjgqusdPnyY0NBQw1idOnVs38b05%2BUeHh7UrFnT8G1N9tIHZTsDFxdHR1CoVi04dAhCQuDXXx0dDSnJ5x0dgo2rqwsVKviSlpZJQYHjP3o00N/L0SH8wd0dLBZHR/GHYr5n2SFcXMDbG7KzQR9X%2Bwcz5sXdRC%2BlZcqY5zkM4OnpmOOW0uti/PTpzJw50zA2dOhQ4uLiSrR9YGBgidbLzMzE29vbMObl5UVWVlaJll8PJnpWy03P3x/c3Ap/ioGrqwsuLi64urqYokA0FbO8wTEbF5c/bmYphMxAebky5abURUdHExkZaRgradH3d3h7e5OTk2MYy8nJwdfXt0TLrwcViCIiIuJcXEvnDLqgoCCCgoJKZd%2BXCw0NZf/%2B/Yaxw4cPc/vttwMQEhLCoUOHaNOmDQB5eXkcO3asyLS0PXQOooiIiDgXV9fSud0gnTt3JiEhgY0bN2KxWNi4cSMJCQl06dIFgIceeoilS5dy8OBBLl68yLRp06hYsSIRERHXLQYViCIiIiIOFh4ezrp16wCoXbs2s2bNYu7cuTRu3JjZs2czY8YMatWqBUD37t3p168fQ4YMoVmzZhw4cIC5c%2Bfi4eFx3eJxsV7PD80RxzDLOVzh4bBrFzRsCLt3OzoaU12k4u7uSkCAL%2BfOZWKxFDg6HHNdpOLhAXl5jo7iD2Y5wd/V9Y%2BLMQoc/5wxDTPmxSwXqbi4/HGRille2h11kUppHffixdLZrwmpgygiIiIiBiZ52yMiIiJyndzA8wWdlQpEERERcS4qEO2mDIqIiIiIgTqIIiIi4lzUQbSbMigiIiIiBuogioiIiHNRB9FuKhBFRETEuahAtJsyKCIiIiIG6iCKiIiIc1EH0W7KoIiIiIgYqIMoIiIizkUdRLupQBQRERHnogLRbsqgiIiIiBiogygiIiLORR1EuymDIiIiImKgDqKIiIg4F3UQ7aYCUURERJyLCkS7KYMiIiIiYqAOooiIiDgXdRDtpgyKiIiIiIE6iCIiIuJc1EG0mwpEERERcS4qEO2mDIqIiIiIgTqIIiIi4lzUQbSb6TK4bNky6taty6JFi274sS9cuMC0adOIiooiPDycli1bMnr0aI4fP37N%2B/zwww%2BJjIy8jlGKiIiIlC5TFoiPPvooS5YswWKx3LDjpqWl0a1bNxITE3n77bfZtWsX69evx8/Pj%2BjoaE6cOHHDYhERERE7uLqWzu0fxFSP9ttvvyU1NZVnnnmGgoICNm3aZFsWGRnJCy%2B8wN13303Xrl0pKChg//79xMTE0LhxY/71r3%2BxaNEirFYrALm5uUyZMoX27dsTHh5O8%2BbNmThxom35n82YMQMvLy/eeOMNatWqhYuLCwEBAYwbN457772Xn3/%2BGYCcnBxeffVV7rnnHho3bkxMTAx79uyx7efIkSPExMQQHh5Op06dOHDggOE4V4tZRERErgMViHYz1TmI7733Hj169MDLy4uePXuyYMECOnToYFu%2BZ88ePvnkEwBSUlLo27cvI0eOZMGCBSQmJhIbG4uXlxePPPIIixcvZtu2bSxevJigoCB2795N7969adeuHc2bNy9y7C%2B%2B%2BIIePXrg5uZWZNnLL79s%2B33ChAkcOHCAJUuWULlyZZYvX06/fv3YsGEDgYGBPP7447Ru3Zp3332X48ePM2jQIFz/96Q6c%2BbMVWMuieTkZFJSUgxjgbVqEeTvX6LtS1W9esafDububp7/zG5uroafYmJmeRFwcfnjp1liMgMz5uVSTI52eW7MQM2Pm5ppCsQTJ06wbds2XnjhBQB69OjBrFmzSEhIoEmTJgBERUVRvnx5AOLj46lduza9evUCoE6dOjz22GMsXbqURx55hB49evDggw9yyy23kJycTE5ODr6%2Bvpw5c6bY46elpREYGHjVGC9evMiGDRuYNWsWt956KwB9%2B/Zl/fr1bNiwgbCwME6dOsWYMWPw9PQkJCSE/v37s3jxYgDWrVt31ZhLIj4%2BnpkzZxrGhg4fTtzw4SXa/oZ4/31HRwBAgKMDKEb58t6ODsGcPDwcHcEfzBQLgJeXoyMwJ%2BXlyszyHL540XHHNsubh5uYaQrE999/H4vFQpcuXWxjFouFBQsW2ArEoKAg27ITJ06wf/9%2BIiIibGMFBQW2DmB2djYvvfQSO3bsIDg4mPr162O1WikoKCj2%2BIGBgSQnJxe7LC0tDT8/P37//Xfy8vKoVq2aYXm1atX47bffqFy5MgEBAXhd9oerRo0aJY65JKKjo4tc9BLYqRP8rwh1qHr1CovDnj3h4EFHR8O5zdscHYKNm5sr5ct7c/58Nvn5xT8Hb6SAsmUcHcIfPDwgL8/RUfzhBp77fFUuLoVFUE6OOjGXM2Ne/sbf8FLl4vLH/yez5EZuWqYoEC9evMiqVauYNGkSLVq0sI3/8ssvDB48mCNHjgDgclnbPDg4mKZNmzJ//nzb2Llz58jMzATg%2Beefx8/Pj6%2B//hpPT08KCgpo3LjxFWOIjIzks88%2B48knnzQUbFarlYEDB3L77bczYcIEPD09SUpKonbt2rZ1jh8/TmRkJJUrVyYtLY3MzEx8fX0BOH36dIljLomgoCBDoQzAr7%2BWePsb4uBB2L3b0VFgsTi%2BEPuz/PwCU8Yll7nCm8gb7lIHxGo1T0xmYMa8mK1bZbWqQDTbv8lNyBQZXL9%2BPS4uLnTq1Ing4GDbrXXr1oSGhhb7kTedOnXihx9%2BYN26dVgsFpKTk3niiSd45ZVXAMjIyMDT0xNXV1cyMjJ49dVXycjIIO8KnYrY2Fh%2B//13nnrqKRITE4HCcwafe%2B45Tp8%2BzcCBA3F1deWhhx7i9ddfJzExkdzcXBYvXszhw4fp0KED4eHh1KpVi//85z9kZ2eTmJjIggULShyziIiIXAe6SMVupni077//Pp06dcKjmPMmoqOj%2Beijj0hNTTWMV61alXfffZf4%2BHhatGhBly5duO2222zF1vPPP8/Bgwdp0qQJ999/PxkZGbRq1Ypffvml2BgqVKjAqlWr8PPzo1%2B/foSHh9O9e3csFgvLly%2B3TRWPGTOGli1b0q9fP5o2bconn3zC/PnzqVWrFm5ubrzzzjskJyfTokULBg4cSNu2bUscs4iIiIgZuFj1GSs3P7NcsRYeDrt2QcOGpphiTkk%2B7%2BgQbNzdXQkI8OXcuUxTTDEH%2BpvoBH%2BznYOYm%2BvoCAq5uoK3N2Rnm2cq1QzMmBd3U5ytVfhaUKZM4XPYLC/tnp6OOW54eOns1wSvbTeKKTqIIiIiImIeJnnbIyIiInKd/MPOFywNKhBFRETEuahAtJsyKCIiIiIG6iCKiIiIc1EH0W4qEEVERMS5qEC0mzIoIiIiIgbqIIqIiIhzUQfRbioQRURERG6A1NRUxo0bR0JCAm5ubnTu3JmxY8fi/qcPWx84cCDff/%2B9YSwrK4vo6Gheeuklzp49y913342Pj49teUBAAF988cV1i1UFooiIiDgXk3YQR4wYQaVKldi2bRtnz57lySefZNGiRQwcONCw3rvvvmu4v2rVKmbOnMnQoUMB2Lt3L1WrVr2uBeGfmTODIiIiItfK1bV0bnZITEwkISGBp59%2BGm9vb6pXr05sbCzLli276nZHjx5l4sSJTJ06laCgIKCwQLz99tvtiuevqIMoIiIiUgLJycmkpKQYxgIDA22F29UcOnQIf39/KlWqZBurXbs2J0%2Be5Pz585QvX77Y7V588UW6du1KRESEbWzv3r38/vvvdOzYkbNnz3LHHXcwduxY6tSpc42PrCgViCIiIuJcSmmKOT4%2BnpkzZxrGhg4dSlxc3F9um5mZibe3t2Hs0v2srKxiC8SdO3fy448/MnXqVMN4%2BfLlqVOnDoMGDaJMmTK89dZb9O/fn40bN1KuXLm/%2B7CKpQJRREREpASio6OJjIw0jAUGBpZoWx8fH7Kzsw1jl%2B77%2BvoWu018fDzt27cvcoxp06YZ7j/77LOsXr2anTt30qZNmxLF81dUIIqIiIhzKaUOYlBQUImmk4sTEhJCeno6Z8%2BepWLFigAcOXKE4ODgYrt%2BFouFzZs3M2vWLMN4RkYGs2bNonfv3lStWhWA/Px8LBYLXl5e1xRbcXSRioiIiDgXE16kUrNmTRo1asTkyZPJyMggKSmJ2bNn071792LX//nnn7l48SINGzY0jJctW5b/%2B7//Y8qUKVy4cIHMzEwmTpxItWrVDOcp2ksFooiIiMgNMH36dCwWC23btqVHjx60atWK2NhYAMLDw1m3bp1t3aSkJPz8/PD09Cyyn9mzZ1NQUEC7du1o1aoVKSkpzJs3Dw8Pj%2BsWq4vVarVet72JY7i4ODqCQuHhsGsXNGwIu3c7OhpSks87OgQbd3dXAgJ8OXcuE4ulwNHhEOh//aYh7ObhAXl5jo7iD7m5jo6gkKsreHtDdjYUOP45YxpmzIu7Sc7WcnGBMmUKn8NmeWkvpri5IaKiSme/mzaVzn5NSB1EERERETEwydseERERkevEpN%2BkcjNRgSgiIiLORQWi3ZRBERERETFQB1FEREScizqIdlMGRURERMRAHUQRERFxLuog2k0FooiIiDgXFYh2UwZFRERExEAdRBEREXEu6iDaTRkUEREREQN1EJ2AWb5z2N3dlQDg3OZtpvi%2BYbmylPQcR4cAXPqOag/OZeTqOfMn7u4Q4A3ncgqUm8uYMy/m%2BP5ud3dXAsqU4VxmnilyExhYznEHVwfRbioQRURExLmoQLSbMigiIiIiBuogioiIiHNRB9FuyqCIiIiIGKiDKCIiIs5FHUS7qUAUERER56IC0W7KoIiIiIgYqIMoIiIizkUdRLspgyIiIiJioA6iiIiIOBd1EO2mAlFERESciwpEuymDIiIiImKgDqKIiIg4F3UQ7aYMioiIiIiBOogiIiLiXNRBtJsKRBEREXEuKhDtpgyKiIiIiIE6iCIiIuJc1EG0mwpEERERcS4qEO2mDIqIiIiIgTqIIiIi4lzUQbSbMigiIiIiBuogioiIiHNRB9FuKhBFRETEuahAtJsyKCIiIiIG6iCKiIiIc1EH0W7KoIiIiIgYqIMoIiIizkUdRLupQBQRERHnogLRbsqgiIiIiBj8YzqI%2Bfn5nDx5kurVqzs6FBERESlN6iDa7W9lMDIykjvuuIPw8PAit507d9rW%2BfDDD0slWHuMHDmStWvXXnWdPXv2MGzYMFq0aEHDhg1p3749c%2BfOxWKxXPNxY2JimDFjxjVvLyIiIs4hNTWV2NhYIiIiaNq0KZMmTbpijTFw4MAiNdfWrVuBwqbXlClTaNGiBeHh4Tz55JMkJydf11j/dgfxxRdfpFu3btc1iBvh3LlzV13%2B6aef8swzzzBq1CgmT56Mr68vP/30E2PGjOHAgQO89dZbNyhSERERsYtJO4gjRoygUqVKbNu2jbNnz/Lkk0%2ByaNEiBg4cWGTdffv2MX/%2BfJo0aVJk2Zw5c/jmm29YvXo15cqVY9y4cTz//PO888471y3WUs1gbm4ub731Fm3btqVJkyYMGjSIxMRE2/K6desSHx9PVFQUd911F0888QT79u3jkUceITw8nIceesiw/scff0ynTp1o1KgR3bp14%2Buvv7Yti4mJYdq0afTq1Yvw8HDat2/Pxo0bAfj3v//Nzp07mTt3Lk888USROC9evMj48eMZMmQIMTExlC1bFhcXF%2BrXr8/UqVOxWq2kp6cD8PPPPzNo0CCaNGlC69atmTBhAhcuXLDt64MPPqBt27aEh4czduxYsrOzbcusVitLliwhKiqKiIgIevbsyb59%2B65fwkVERKSwQCyNmx0SExNJSEjg6aefxtvbm%2BrVqxMbG8uyZcuKrJuUlMTvv/9O/fr1i93XBx98wKBBg6hcuTJly5bl3//%2BN1u3biUpKcmuGC9XqucgvvHGG3z33XcsWrSIoKAg5s2bx4ABA9i4cSOenp4ArF%2B/nvj4eHJzc%2BnQoQOxsbEsXLiQypUr89hjj/H222/z8ssvs2XLFsaPH8%2BcOXNo2LAhW7duJS4ujpUrVxISEgLAypUrWbhwIXXq1GHWrFm88MILtG3blkmTJnH8%2BHGaNGlCXFxckTh37dpFeno6HTt2LLKsXr16TJ8%2BHSjsQvbp04du3boxY8YMLly4wOjRoxkzZgxz5szh22%2B/5aWXXuKdd96hcePGrFy5krVr13LPPfcA8P7777Nw4ULmzJlD7dq1%2Beijj%2Bjfvz%2BffPIJFStWLFFOk5OTSUlJMYy5u/sQFBRU8n%2BYUuLm5mr4KX9QboqnvFyZclM85eXKlJvSV9xrcGBgYIlegw8dOoS/vz%2BVKlWyjdWuXZuTJ09y/vx5ypcvbxvfu3cvvr6%2BjBw5kr1791KxYkX69etH9%2B7duXDhAqdPnyY0NNS2fsWKFfHz8%2BPnn3%2B%2BbtdaXNMU8%2BTJkw1jlStXZv369YYxq9XKihUrmD59ui3YIUOGsHLlSr766iuioqIA6N27N/7%2B/gCEhIRQv359ateuDUCzZs34/vvvAVi6dCmPPvoojRs3BqBNmzZERkayYsUKxo0bB0BUVJSt2n7wwQd5%2B%2B23SU1NpUqVKld9TGlpaQB/WaRt3rwZDw8PRo8ejZubG15eXowbN44OHTqQkpLCunXr%2BNe//kXz5s0B6NmzJx988IFt%2B2XLlvH4449Tr149ALp3786qVatYt24dAwYMuOqxL4mPj2fmzJmGsSFDhjBs2LASbX8jlC/v7egQTEu5KZ7ycmXKTfGUlytTbii1KebiXoOHDh1abPPpzzIzM/H2Nv7bXLqflZVlKBBzc3MJCwtj5MiRhISEsH37duLi4vD19SU8PBwAHx8fw768vLzIzMy8psdVnL9dII4fP75E5yCmpaWRlZXF8OHDcb3sHyovL48TJ07Y7l8qDgHc3Nzw8/Oz3Xd1dcVqtQJw4sQJEhISWL58uW15fn4%2BzZo1s90PDAy0/e7uXvjQCgoK/jLWS9ulpKQUW0ympKQQGBhoKzbd3Nxsy6pVq2aL78yZMzRo0MCw7eWV/IkTJ5gyZQpTp061jVksFm6//fa/jPGS6OhoIiMjDWPu7j6cO3f9nhTXys3NlfIkFiSpAAAgAElEQVTlvTl/Ppv8/L/O%2Bz%2BJclM85eXKlJviKS9XZrbcBAT4OjqE66641%2BDLa4%2Br8fHxMZx2Btju%2B/oac9W1a1e6du1qu9%2ByZUu6du3KJ598QosWLQzbXpKTk1NkP/YotSnmgIAAPD09WbBgAWFhYbbxo0ePGtqrLi4uJdpfcHAwXbt2ZfDgwbaxkydP4uXlZXesYWFh%2BPv7s3HjxiInih48eJAuXbqwYsUKqlatysmTJ8nPz7cVicePHwcKnyDBwcFF5v9Pnz5tmwIPDg5m2LBhdOjQwbb8%2BPHjhiL5rwQFBRVpZaekXMBicfwfg0vy8wtMFY%2BZKDfFU16uTLkpnvJyZcoNpdZBLO41uKRCQkJIT0/n7NmzthnLI0eOEBwcTLly5Qzrrlq1Cl9fX9q3b28by83NxdPTEz8/PypVqsThw4dt08wpKSmkp6cbpp3tVWonKri6utK9e3emTZvG6dOnKSgoYM2aNXTs2NFw4UlJ9ejRgyVLlrBnzx6gcH6%2BW7dubNiwoUTblylTxnAxyZ%2BXPf/888ycOZNly5aRmZlJfn4%2BO3fuZPjw4URFRREeHm47l3Dq1Knk5OSQkpLCpEmTaNasGVWrVuWhhx7i888/58svv8RisbBmzRp%2B/PFHw2OYM2cOR44cAWDbtm106NCBHTt2/O18iIiIyBWY8CKVmjVr0qhRIyZPnkxGRgZJSUnMnj2b7t27F1k3IyODiRMncuDAAQoKCvjqq6/YsGED0dHRAHTr1o05c%2BaQlJRERkYGkydPpkmTJtSoUcOuGC93TVPMEydOLDIeGxvLoEGDDGNjx45lxowZ9OzZk/T0dKpXr8706dOveFXO1dx///1kZWXx3HPPcfLkSfz9/enXrx8xMTEl2r5r165MmDCBffv28f777xdZ3qlTJwICAliwYAEzZszg4sWLVK5cmYceeoj%2B/fsDUK5cORYuXMgrr7xiKxbbtm3LmDFjAGjUqBGvvvoqr7zyCiNHjqRZs2bcfffdtmP069cPq9VKbGwsycnJVKpUyXYhjYiIiDi36dOn89JLL9G2bVtcXV3p2rUrsbGxAISHh/Piiy/SuXNn%2BvbtS1ZWFkOHDiU1NZXq1aszZcoUIiIigMJrDywWC7169SIzM5OmTZvy5ptvXtdYXayXTvKTm1ZKSvGd0RvN3d2VgABfzp3L1PTGnyg3xVNerky5KZ7ycmVmy01gYLm/Xqm0vPxy6ez32WdLZ78mpGvhRURERMTgH/NdzCIiIvIPYdJvUrmZqEAUERER56IC0W7KoIiIiIgYqIMoIiIizkUdRLspgyIiIiJioA6iiIiIOBd1EO2mAlFERESciwpEuymDIiIiImKgDqKIiIg4F3UQ7aYMioiIiIiBOogiIiLiXNRBtJsKRBEREXEuKhDtpgyKiIiIiIE6iCIiIuJc1EG0mzIoIiIiIgbqIIqIiIhzUQfRbioQRURExLmoQLSbMigiIiIiBuogioiIiHNRB9FuyqCIiIiIGKiDKCIiIs5FHUS7qUAUERER56IC0W7KoIiIiIgYqIMoIiIizkUdRLupQBQRERHnogLRbsqgiIiIiBiogygiIiLORR1Eu6lAdAKB/l6ODsEgoGwZR4cAQEp6jqNDMK3AoPKODqFQeDjs2kVA21awe7ejoylUUODoCAwC/H0cHYIpmSkve/e5ODoEALy8ICAAzp71JccEf/5On4Y77nB0FHKtVCCKiIiIc1EH0W4qEEVERMS5qEC0mzIoIiIiIgbqIIqIiIhzUQfRbsqgiIiIiBiogygiIiLORR1Eu6lAFBEREeeiAtFuyqCIiIiIGKiDKCIiIs5FHUS7KYMiIiIiYqAOooiIiDgXdRDtpgJRREREnIsKRLspgyIiIiJioA6iiIiIOBd1EO2mAlFERETkBkhNTWXcuHEkJCTg5uZG586dGTt2LO7uRcux5cuXs2jRIpKTkwkKCqJPnz706tULgIKCAho1aoTVasXFxcW2zTfffIOPj891iVUFooiIiDgXk3YQR4wYQaVKldi2bRtnz57lySefZNGiRQwcONCw3ueff87rr7/OvHnzuOuuu/jhhx8YPHgwFStWJCoqisOHD5OXl8euXbsoU6ZMqcSqAlFEREScSykViMnJyaSkpBjGAgMDCQoK%2BsttExMTSUhIYOvWrXh7e1O9enViY2N57bXXihSIZ86cYdCgQYSFhQEQHh5O06ZN2bFjB1FRUezdu5e6deuWWnEIKhBFRERESiQ%2BPp6ZM2caxoYOHUpcXNxfbnvo0CH8/f2pVKmSbax27dqcPHmS8%2BfPU758edv4pankS1JTU9mxYwfPPvssAHv37uXixYs89NBDnDhxgtq1azNq1CgaNmxoz8MzUIEoIiIizqWUOojR0dFERkYaxgIDA0u0bWZmJt7e3oaxS/ezsrIMBeLlUlJSePzxx7n99tvp2LEjAF5eXtx5550MHz4cPz8/li1bxmOPPca6deuoXr36331YxVKBKCIiIlICQUFBJZpOLo6Pjw/Z2dmGsUv3fX19i93mhx9%2BYPjw4URERPDyyy/bLmZ55plnDOs99thjfPjhh2zZsoXevXtfU3x/Zs6zOEVERESulatr6dzsEBISQnp6OmfPnrWNHTlyhODgYMqVK1dk/VWrVtGvXz/69u3LtGnTDOcbvvHGGxw4cMCwfm5uLp6ennbFeDkViCIiIuJcTFgg1qxZk0aNGjF58mQyMjJISkpi9uzZdO/evci6mzZtYsKECcyYMYMBAwYUWf7LL78wadIkUlJSyM3NZebMmWRkZHDffffZFePlVCCKiIiI3ADTp0/HYrHQtm1bevToQatWrYiNjQUKr1Ret24dADNnziQ/P59hw4YRHh5uu73wwgsAvPzyy9SoUYMuXbrQtGlTEhISWLhwIf7%2B/tctVp2DKCIiIs7FpJ%2BDWLFiRaZPn17sst27d9t%2BX79%2B/VX34%2B/vz8svv3xdY/szc2ZQRERERBxGHUQRERFxLibtIN5MVCCKiIiIc1GBaDdlUEREREQM1EEUERER56IOot2UQRERERExMHUHMTk5mbJly%2BLj4%2BPoUERERORmoQ6i3UyVwZiYGGbMmAHA2bNniYqKIi0t7YYd/%2Buvv2bQoEE0a9aMRo0a0aVLF1asWGHXPiMjI/nwww%2BvU4QiIiLyl0z4TSo3G9M%2B2pycHLKysm7Y8RYtWsTIkSPp3LkzX331FTt27ODf//43s2bN4tVXX71hcYiIiIg4mikLxPz8fDp27AhAx44d2bhxIwAff/wxnTp1olGjRnTr1o2vv/7atk1MTAzTp0/n0UcfJSwsjM6dO7Nnzx5GjRpFw4YNiYyM5Kuvvir2eGfOnOG1117jxRdfpFOnTnh5eeHq6kqTJk14%2BeWXSU1NJS8vD4CdO3fSq1cvIiIiiIyM5M033yQ3NxcAq9XK22%2B/TcuWLYmIiGDKlCnk5%2BfbjpObm8tbb71F27ZtadKkCYMGDSIxMbE0UigiIvLPpQ6i3Ux5DqKbmxsbNmygbdu2bNiwgWrVqrFlyxbGjx/PnDlzaNiwIVu3biUuLo6VK1cSEhICQHx8PIsXL6ZGjRoMGDCAnj178uabb/LKK6/w%2BuuvM3HiRO69994ix9u6dStubm7Ffsl1y5YtadmyJQBHjx6lf//%2BjB49moULF3Lq1Cni4uLIyMjg%2BeefZ/Xq1SxevJh3332XkJAQZs6cyenTp237euONN/juu%2B9YtGgRQUFBzJs3jwEDBrBx40Y8PT1LlJvk5GRSUlIMY4EBAQQFBpY0vf8Y7u7m%2Bc/s5uZq%2BOlw4eGOjqBQvXrGnyI3IS8vR0dQ6NLLSAlfTkpdTo6jIxB7mLJALM7SpUt59NFHady4MQBt2rQhMjKSFStWMG7cOACioqKoU6cOABEREZw/f5527doB0Lp1axYuXFjsvs%2BdO4efnx8eHh5XjWH9%2BvXUrVuXvn37AnDrrbcyatQohg0bxnPPPcdHH31Ejx49aNCgAQDDhw9n5cqVQGF3ccWKFUyfPp3q1asDMGTIEFauXMlXX31FVFRUifIQHx/PzJkzDWNDhwwhbtiwEm1/Q/xFHm%2BUgABzxHG58uW9HR1CoV27HB2B0fvvOzoC83JxcXQE5mSivPyvR2EaNWo4OoJCe/c68OD/sG5fabhpCsQTJ06QkJDA8uXLbWP5%2Bfk0a9bMdt/f39/2u5ubG35%2Bfrb7rq6uWK3WYvcdGBhIeno6ubm5lClTxrCsoKCA9PR0KlSoQGpqqq24u6RatWrk5OSQmppKcnIylStXNsRQpUoVANLS0sjKymL48OG4XvbEzcvL48SJEyXOQ3R0NJGRkcb4AwLgf1PgDufhYZpYzmXkOjoEGzc3V8qX9%2Bb8%2BWzy8wscHQ4BbVs5OoRC9eoVFoc9e8LBg46OptD33zs6gj%2B4uMAV/m79o5ksL4cOm6NY9fQsLA6PH4eLFx0djYOpQLTbTVMgBgcH07VrVwYPHmwbO3nyJF6X9fZdrvEdZatWrbBarWzevJn27dsbln355ZfExcWxefNmqlatymeffWZYfvz4ccqUKYOfnx/BwcEkJSXZllmtVpKTkwEICAjA09OTBQsWEBYWZlvn6NGjVKpUqcSxBgUFERQUZBw0SUFmNhaL4wuxP8vPLzBHXLt3OzoCo4MHzReTSAmZbSr14kXzxSQ3H9OW2JfOycvIyACgR48eLFmyhD179gCwd%2B9eunXrxoYNG%2Bw%2BVsWKFRk2bBgTJkxgw4YNXLx4kby8PL766iuef/55%2BvbtS%2BXKlenQoQNHjhxh8eLF5Obmcvz4cV5//XU6depEmTJlePjhh1m5ciW7d%2B8mLy%2BPOXPm2M4XdHV1pXv37kybNo3Tp09TUFDAmjVr6Nixoy5UERERuZ50kYrdTNtBrFixIvfddx/R0dE888wzPProo2RlZfHcc89x8uRJ/P396devHzExMdfleIMHD6ZKlSosW7aMiRMnkpeXx6233sqIESOIjo4GCqeT3333XV5//XVmzJiBl5cXHTt2ZMSIEUDhFdfnzp1j5MiR/P7779x///3UrVvXdoyxY8cyY8YMevbsSXp6OtWrV2f69OnUr1//ujwGERER4R9XzJUGF%2BuVTsyTm4eZpphNdA5iSrp55ljc3V0JCPDl3LlMU0wxBwaVd3QIhcLDCy%2BYadjQPFPMBY7/97Ex2bl2pmGyvOzdZ45zEL28Ci%2BYOXTIPFPMd9zhoAMfOlQ6%2BzXbFUmlyLQdRBEREZFrog6i3ZRBERERETFQB1FEREScizqIdlOBKCIiIs5FBaLdlEERERERMVAHUURERJyLOoh2UwZFRERExEAdRBEREXEu6iDaTQWiiIiIOBcViHZTBkVERETEQB1EERERcS7qINpNGRQRERERA3UQRURExLmog2g3FYgiIiLiXFQg2k0ZFBEREREDdRBFRETEuaiDaDdlUEREREQM1EEUERER56IOot1UIIqIiIhzUYFoN2VQRERERAzUQRQRERHnog6i3ZRBERERETFQB1FEREScizqIdlOBKCIiIs5FBaLdlEERERERMVAHUURERJyLOoh2UwZFREREboDU1FRiY2OJiIigadOmTJo0CYvFUuy6W7ZsoVOnToSFhdG%2BfXu%2B/PJLw/J58%2BbRunVrwsLCiImJ4ejRo9c1VhWIIiIi4lxcXUvnZqcRI0bg4%2BPDtm3bWLVqFd9%2B%2By2LFi0qst6xY8eIi4tj%2BPDh7Ny5k7i4OEaMGMGZM2cAWLNmDe%2B99x7z589n%2B/btNGjQgGHDhmG1Wu2O8RIViCIiIuJcSqlATE5OZv/%2B/YZbcnJyiUJKTEwkISGBp59%2BGm9vb6pXr05sbCzLli0rsu6aNWuIiIigXbt2uLu788ADD9C4cWPi4%2BMBWLlyJT179iQkJARPT09GjRrFyZMn2b59%2B3VLoc5BdAa5uY6OoJCrK3h4gMUCBQWOjkauxmz/Pt9/7%2BgI/mCWc5fCw2HXLmjUCHbvdnQ05mHCvNzx%2BeeODqFQuXJAE0LOJcCFC46O5n/aOjqA6yo%2BPp6ZM2caxoYOHUpcXNxfbnvo0CH8/f2pVKmSbax27dqcPHmS8%2BfPU758edv44cOHCQ0NNWxfp04dDh48aFs%2BaNAg2zIPDw9q1qzJwYMHadas2TU9tj9TgSgiIiJOxYpLqew3OjqayMhIw1hgYGCJts3MzMTb29swdul%2BVlaWoUAsbl0vLy%2BysrJKtPx6UIEoIiIiUgJBQUEEBQVd07Y%2BPj5kZ2cbxi7d9/X1NYx7e3uTk5NjGMvJybGt91fLrweTzKWIiIiIXB8FBaVzs0dISAjp6emcPXvWNnbkyBGCg4MpV66cYd3Q0FAOHTpkGDt8%2BDAhISG2fV2%2BPC8vj2PHjhWZlraHCkQRERFxKmYsEGvWrEmjRo2YPHkyGRkZJCUlMXv2bLp3715k3c6dO5OQkMDGjRuxWCxs3LiRhIQEunTpAsBDDz3E0qVLOXjwIBcvXmTatGlUrFiRiIgI%2B4K8jApEERERkRtg%2BvTpWCwW2rZtS48ePWjVqhWxsbEAhIeHs27dOqDw4pVZs2Yxd%2B5cGjduzOzZs5kxYwa1atUCoHv37vTr148hQ4bQrFkzDhw4wNy5c/Hw8LhuseocRBEREXEqZvughksqVqzI9OnTi122%2B09X5bdq1YpWrVoVu66LiwsDBgxgwIAB1z3GS9RBFBEREREDdRBFRETEqZi1g3gzUYEoIiIiTkUFov00xSwiIiIiBuogioiIiFNRB9F%2BKhBFRETEqahAtJ%2BmmEVERETEQB1EERERcSrqINpPHUQRERERMVAHUURERJyKOoj2U4EoIiIiTkUFov00xSwiIiIiBuogioiIiFNRB9F%2B6iCKiIiIiIE6iCIiIuJU1EG0nwpEERERcSoqEO2nKWYRERERMVAHUURERJyKOoj2UwdRRERERAzUQRQRERGnog6i/VQgioiIiFNRgWg/TTGLiIiIiIE6iCIiIuJU1EG0nzqIIiIiImKgDqKIiIg4FXUQ7efwDuKECRO4%2B%2B67SU1NNYxbLBZ69OjB448/jtVqvSGxnD9/ntdee42oqCjCw8Np2bIlTz/9NElJSde8zw8%2B%2BID77rvvOkYpIiIiV1NQUDq3fxKHF4jPPvssFStW5NlnnzWMz5gxg7NnzzJlyhRcXFxKPY60tDS6du3Kb7/9xty5c9m1axfr1q3D19eX6OhoTp06VeoxiIiIiJiBwwtET09P3njjDXbs2MF7770HQEJCAosWLeLNN9/E398fgIyMDCZMmEDr1q1p3rw5o0aNMnQdP//8c6Kjo2nevDl33XUXMTExHD9%2BHCjs4j388MP069ePiIgINm7cWCSON998k3LlyvHGG29Qs2ZNXFxcqFChAuPHj6dVq1b88ssvAGRnZzNlyhTuueceGjduTExMDPv27bPt5/Dhw/Tu3Zvw8HA6d%2B7MTz/9ZDjO3r17iYmJoXHjxvzrX/9i8eLFN6xDKiIi8k%2BgDqL9THEO4m233cYLL7zAiy%2B%2BSEREBM888wxjxozhzjvvtK0zduxYcnNzWbt2LWXKlGHy5MkMGzaMZcuWceLECUaMGMGsWbO45557SEtLIzY2ljlz5vDyyy8DsGfPHl577TXeeecdCor5V/7iiy%2BIiYnB1dVYM7u4uDBlyhTb/XHjxnH48GGWLl1KpUqVWLp0Kf369WPDhg1UqFCBwYMHExkZyYIFC/j1118ZNGgQnp6eAJw%2BfZq%2BffsyZswYFi5cyNGjR4mNjcXHx4eHH364RLlKTk4mJSXFMBZYtixBQUElS3ZputTpdXEBV4e/98DdFM/uQm5uroafYmLh4Y6OoFC9esafUsiMeSlXztERFPLxMf50tAsXHB2B2ME0L6EPPvgg3377LY888gjt2rWjV69etmVnzpzh888/57///S8VKlQA4LnnnqNJkyYcPHiQ2267jY0bN1KjRg0yMjI4ffo0FSpU4MyZM7Z9eHl50alTpytOV6elpVGxYsWrxpidnc0nn3zC3LlzqV69OgADBgxg/fr1fPzxx9SvX5%2BUlBSefvppypQpQ926denXrx/Lly8HYO3atdSrV49HHnkEgNDQUPr378%2ByZctKXCDGx8czc%2BZMw9jQIUOIGzasRNvfEF5ejo4AgABvR0dQVPnyJgzKDG7AaSQltmuXoyMwev99R0dgTsrLld1%2Bu6MjKLR5s8MO/U/r9pUG0xSIAEOHDuWjjz5i%2BPDhhvETJ04A0K1bN8O4u7s7v/32G3Xr1mXdunXEx8fj5uZGaGgo58%2Bfx%2BuyQiUwMPCq5zIGBgYW6cxdkpaWhp%2BfH%2Bnp6VgsFltxeEm1atU4ceIEt9xyCxUqVLB1DAFq1KhheBx79uwhIiLCNlZQUECZMmWuGNefRUdHExkZaYy9bFnIzi7xPkqNi0thcZiTAyaYNj%2BXY56/EG5urpQv783589nk5zs%2BrgB/k3QYoPB5Y4Lni02jRo6OoFC9eoVFUM%2BecPCgo6MxDzPm5e23HR1BIR%2BfwuJw3z7IynJ0NA6lAtF%2BpioQL03v/nmaNzg4GIDPPvvM1kG0Wq0cOXKEGjVqsH79elasWMHy5cttxdv48eNJTEy07eOvLnRp06YNmzZtYvDgwYbjFxQU0L9/fxo2bMjzzz%2BPh4cHx48f59Zbb7Wtc/z4cerXr09wcDCpqalkZ2fj7V3YKTp9%2BrRtvUqVKnH33Xczd%2B5c21haWhrZf6O4CwoKKjqdnJlpjv8Nl/JmtZoiHovF8TH8WX5%2BgSnjksvs3u3oCIwOHjRfTGZgpryYbSo1K8t8MclN56Y4IapKlSq0bNmSSZMmkZ6eTl5eHrNmzeLhhx/mwoULXLhwAVdXVzw9PSkoKGDLli2sX7%2BevLy8Eh9j6NChnD17ltGjR9s%2B1ub06dM888wzpKam8thjj%2BHm5ka3bt2YNm0aSUlJ5ObmsmDBAo4dO0aHDh2IiIigWrVqTJ48mezsbH799VcWLlxoO0aXLl3YsWMHH3/8MRaLhTNnzvD444/z6quvXveciYiI/FPpIhX73RQFIsC0adPw9vamc%2BfONGvWjG%2B%2B%2BYb58%2Bdzyy230L17d5o0acIDDzxA8%2BbNmTt3Ln369OHo0aMlLhIrVqzIqlWr8PX1pU%2BfPoSHh9vOC1y%2BfDnVqlUDCj%2BWp3nz5vTp04emTZvy3//%2Bl/nz51OjRg3c3d2ZN28eJ06coEWLFjzxxBO0a9fOdozq1aszb948li1bRosWLejatSshISFMmjTp%2BidMRERE5Bq5WPUZKze/zExHR1DI1RW8vQvPhzTBW62ULMfHcIm7uysBAb6cO5dpiinmwIplHR3CH8x2DqIJrsAHCq%2Bm3rULGjY0z1SqGZgxL59/7ugICpUrB02aQEKCeaaY27Z1yGFL66lhlg85uBFMdQ6iiIiIiL1M0KO46ZnkrbKIiIiImIU6iCIiIuJU1EG0nzqIIiIiImKgDqKIiIg4FXUQ7acCUURERJyKCkT7aYpZRERERAzUQRQRERGnog6i/VQgioiIiDhYVlYWEydO5IsvvsBisdC2bVvGjx%2BPr69vsetv2rSJ2bNnk5SUhL%2B/P926dSM2NhbX/33Yf/v27Tl58qTtPsCqVauoXbt2ieJRgSgiIiJO5WbsIE6cOJFTp06xadMm8vPzGTFiBFOnTmX8%2BPFF1t23bx9jxozhzTff5J577uHXX39l0KBB%2BPj4MGDAADIyMvj111/ZvHkzVatWvaZ4dA6iiIiIOJWCgtK5JScns3//fsMtOTnZ7nizs7NZv349w4YNw9/fn1tuuYXRo0fz4Ycfkp2dXWT9EydO8Mgjj9CmTRtcXV2pXbs29913Hzt27AAKC0h/f/9rLg5BHUQRERGREomPj2fmzJmGsaFDhxIXF/eX2%2Bbk5HDmzJlil2VnZ5OXl0doaKhtrHbt2uTk5HDs2DH%2B3//7f4b1o6KiiIqKMuz7q6%2B%2BolOnTgDs3bsXb29vevfuzaFDh6hatSpxcXG0adOmxI9VBaKIiIg4ldKaYo6OjiYyMtIwFhgYWKJtf/zxR/r06VPssuHDhwPg4%2BNjG/P29gYgMzPzqvvNyMhg%2BPDheHl50a9fPwBcXFy44447eOqpp6hSpQqffvopcXFxLF26lLCwsBLFqwJRREREpASCgoIICgq6pm2bNm3Kzz//XOyyAwcO8NZbb5GdnW27KOXS1HLZsmWvuM%2BjR48ybNgwbrnlFpYsWWJbd%2BDAgYb1OnfuzIYNG9i0aVOJC0SdgygiIiJOpbTOQSwttWrVwsPDg8OHD9vGjhw5goeHBzVr1ix2my1btvDwww/TqlUr5s%2Bfj5%2Bfn23Z/Pnz%2Bfbbbw3r5%2Bbm4unpWeKYVCCKiIiIU7nZCkRvb2/at2/P1KlTSUtLIy0tjalTp9KxY0e8vLyKrP/DDz8wZMgQnn32WcaOHYu7u3FC%2BNSpU7z44oskJSVhsVhYtWoVu3fv5sEHHyxxTCoQRURERBxs/Pjx1KxZk06dOnH//fdTrVo1XnjhBdvyDh068PbbbwPw9ttvY7FYmDRpEuHh4bbbpanlMWPG0Lp1a3r27ElERAQrVqzgnXfe4dZbby1xPC5Wq9V6fR%2Bi3HB/cQLrDePqCt7ekJ1tig%2BhSslyfAyXuLu7EhDgy7lzmVgsjo8rsOKVz2m54VxcwEx/hlxN8r45PBx27YKGDWH3bkdHYx5mzMvnnzs6gkLlykGTJpCQABcuODqaQm3bOuSwmzaVzn4vu3DY6ekiFREREXEqJuhR3PRM8lZZRERERMxCHUQRERFxKuog2k8dRBERERExUAdRREREnIo6iPZTgSgiIiJORQWi/TTFLCIiIiIG6iCKiIiIU1EH0X7qIIqIiIiIgTqIIiIi4lTUQbSfCkQRERFxKioQ7acpZhERERExUAdRREREnIo6iPZTB1FEREREDNRBFBEREaeiDqL9VCCKiIcGtc8AACAASURBVIiIU1GBaD9NMYuIiIiIgTqIIiIi4lTUQbSfOogiIiIiYqAOooiIiDgVdRDtpwJRREREnIoKRPtpillEREREDNRBFBEREaeiDqL91EEUEREREQN1EEVERMSpqINoPxWIIiIi4lRUINpPU8wiIiIiYqAOooiIiDgVdRDtpw6iiIiIiBiogygiIiJORR1E%2B6lAFBEREaeiAtF%2BmmIWEZH/396dh0VZ7m8Av9kXF0ABldSfpiilprgRroniRiguLGoulVuJWGmiaWKikoqmgGmZSSoq7sIRyfVYecgVl0wU8aSIbDKoLIMMy%2B8Pck5vQCIjPq8z9%2Be6uIjnHYabJ8b5zvd532eIiCTYQSQiIiKtwg6i5thBJCIiIiIJdhCJiIhIq7CDqDkWiERERKRVWCBqjkvMRERERCTBDiIRERFpFXYQNccOIhERERFJsINIREREWoUdRM2xQCQiIiKtwgJRc1xiJiIiIiIJFogVWLhwIbp3746srCzJeFFREby8vDBlyhSUlpYKSkdERET/pKSkZj5qUn5%2BPubOnQsnJyd06tQJs2fPRl5eXqW3DwgIQNu2beHo6Kj%2BiIyMVB/fsGEDevXqhQ4dOmDs2LG4devWM%2BVhgViBuXPnwtraGnPnzpWMh4aG4v79%2B1i2bBn09PQEpSMiIqJ/8jIWiIGBgUhNTcWPP/6Iw4cPIzU1FcHBwZXe/sqVKwgMDER8fLz6w9vbGwCwb98%2BbNmyBRs3bsTp06fRpk0b%2BPn5PVNziwViBUxMTPDVV1/h7Nmz2LJlCwDgzJkzCA8Px%2BrVq2FpaYnc3FwsXLgQvXr1grOzM2bOnCnpOB49ehTe3t5wdnZG%2B/btMXbsWNy5cwcAsGvXLnh6emLChAno3LkzYmJihPyeREREJJ5SqUR0dDT8/PxgaWmJ%2BvXrY9asWdi7dy%2BUSmW52xcWFuLGjRto27Zthfe3c%2BdOjB49Gvb29jAxMcHMmTNx7949nD59usqZeJFKJV599VUsWLAAX3zxBTp37ow5c%2BZg9uzZeOONNwAA/v7%2BKCwsxP79%2B2FsbIylS5fCz88PERERSElJwUcffYS1a9eid%2B/eUCgU%2BPDDD7Fu3ToEBQUBAC5fvowVK1bg22%2B/RckzvCzJyMhAZmamZMymdm3Y2to%2Bv1%2B%2Bup50VfX0AH3xrz0MZfTXbWCgL/lMMuboKDpBGQcH6WcqI8d5qVNHdIIy5ubSz6Ll5Aj70TXV7avwOdjGpkrPwQUFBUhPT6/wmFKphEqlQqtWrdRjLVq0QEFBAf744w%2B89tprktsnJCSgqKgIISEhOH/%2BPOrUqYMRI0Zg4sSJ0NfXx82bNzFp0iT17Y2MjNCsWTMkJCTgzTffrNLvKqOnUPkZNmwY4uLi4OPjg379%2BmHMmDEAgPT0dBw9ehRHjhxBvXr1AACfffYZunbtioSEBLz66quIiYlB06ZNkZubi7S0NNSrV0/yh2Fqagp3d/dnXqqOjIxEWFiYZMx32jRM9/PT8Ld9jkxNRScAAFiZiU5QXt26MgwlB3I6ZePCBdEJpLZtE51Anjgvlaukq/TCHTsmOsFzV%2BFzsK8vpk%2Bf/tTvvXTpEsaNG1fhsRkzZgAAzP9S3JuZlT1fVHQeYk5ODrp27YqxY8di1apVuHbtGqZNmwZ9fX1MnDgReXl56u9/wtTUFPn5%2BU/N%2BQQLxKfw9fXFgQMH1P/zACAlJQUAMHz4cMltDQ0NcffuXbRu3RpRUVGIjIyEgYEBWrVqhUePHsH0L4WTjY1Ntc5j9Pb2houLi2TMpnZtoIIW9Aunp1dWHBYUADK4iCe7QD77HBgY6KNuXTM8eqREcbH4XFaWMukwAGV/NzL4e1Hr1El0gjIODmVF0OjRQEKC6DTyIcd5Wb9edIIy5uZlxeFvvwHPUAhoo5rqIFb4HGxjU6XvdXJywvXr1ys89vvvv2PNmjVQKpWoVasWAKiXlmvXrl3u9t27d0f37t3VX7/xxhsYP348YmJiMHHiRJiZmaGgoEDyPQUFBer7rgoWiE%2Bh/%2BdSqf5flkwbNmwIADh8%2BLC6g1haWoqkpCQ0bdoU0dHR2LFjB7Zv344mTZoAKLva6Pbt2%2Br7qO5FLra2tuVb2Xl58tj06ckclZbKIk9RkfgMf1dcXCLLXPQX8fGiE0glJMgvkxzIaV4ELqVWKD9ffplesJp6CqrwOfg5aN68OYyMjHDz5k20b98eAJCUlKReGv67o0eP4v79%2B/Dx8VGPFRYWqhtR9vb2SExMRJ8%2BfQAAKpUKf/zxh2QJ%2B2l4QlQ12NnZoUePHliyZAkePHgAlUqFtWvXwtPTEzk5OcjJyYG%2Bvj5MTExQUlKCkydPIjo6GiqVSnR0IiIikhkzMzMMGjQIwcHBUCgUUCgUCA4Oxttvvy1ZfXyitLQUQUFBiIuLQ2lpKeLj47F582b1VcwjRozA1q1bkZCQgMePH2PlypWwtrZG586dq5yJHcRqWrlyJYKDgzFkyBDk5eWhVatW2LhxI%2BrXr4%2BRI0ciPj4egwcPhoGBAVq0aIFx48YhMjKSRSIREVENk8Ei1jMLCAjAsmXL4O7uDpVKhb59%2B%2BLzzz9XH3dzc4O7uzumTp0KV1dXzJ07FwsXLkR6ejqsra0xffp0DB06FAAwcuRI5OTkYNq0aVAoFGjXrh2%2B%2BeYbGBkZVTmPXil3fH75/cNGmi%2BUvj5gZlZ2PqQMHp2Z%2BeIzPGFoqA8rq1rIzs6TxRKzjXX5c1qEkds5iDK4Ah9A2dXUFy4AHTvKZylVDuQ4L0ePik5Qpk4doGtX4MwZ%2BSwx9%2B0r5MfOm1cz97tkSc3crxyxg0hERERaRQY9ipceC0QiIiLSKiwQNSeTtRQiIiIikgt2EImIiEirsIOoOXYQiYiIiEiCHUQiIiLSKuwgao4FIhEREWkVFoia4xIzEREREUmwg0hERERahR1EzbGDSEREREQS7CASERGRVmEHUXMsEImIiEirsEDUHJeYiYiIiEiCHUQiIiLSKuwgao4dRCIiIiKSYAeRiIiItAo7iJpjgUhERERahQWi5rjETEREREQS7CASERGRVmEHUXPsIBIRERGRBDuIREREpFXYQdQcC0QiIiLSKiwQNcclZiIiIiKSYAeRiIiItAo7iJpjB5GIiIiIJNhBJCIiIq3CDqLmWCASERGRVmGBqDkuMRMRERGRBDuIREREpFXYQdQcC0RtYCiT/416emWfDQwAfTk0pwtFB5CtK7/piY4AADA1BeztgcSbeigoEJ2mTLujR0VHKFOnTtnn9euBnByxWeREjvPSr5/oBGUcHYELF4CpU4H4eNFpypSWik5A1SSTyoKIiIjo%2BWAHUXMsEImIiEirsEDUnBzWAYmIiIhIRthBJCIiIq3CDqLmWCASERGRVmGBqDkuMRMRERGRBDuIREREpFXYQdQcO4hEREREJMEOIhEREWkVdhA1xwKRiIiItAoLRM1xiZmIiIiIJNhBJCIiIq3CDqLm2EEkIiIiIgl2EImIiEirvIwdxPz8fAQGBuL48eMoKipC3759ERAQgFq1apW77YIFCxAdHS0ZKygoQLdu3bBx40aUlJSgU6dOKC0thZ6envo2p06dgrm5eZXysEAkIiIirfIyFoiBgYFITU3Fjz/%2BiOLiYnz00UcIDg5GQEBAudsuWrQIixYtUn/9yy%2B/YObMmZgzZw4A4ObNm1CpVLhw4QKMjY2rlYdLzEREREQCKZVKREdHw8/PD5aWlqhfvz5mzZqFvXv3QqlU/uP3KhQKzJo1C/PmzYO9vT0A4MqVK2jdunW1i0OAHUQiIiLSMjXVQczIyEBmZqZkzMbGBra2tk/93oKCAqSnp1d4TKlUQqVSoVWrVuqxFi1aoKCgAH/88Qdee%2B21Su83ODgYbdu2xZAhQ9RjV65cwePHjzFixAikpKSgRYsWmDlzJjp27PjUnE%2BwQCQiIiKqgsjISISFhUnGfH19MX369Kd%2B76VLlzBu3LgKj82YMQMAJOcHmpmZAQDy8vIqvc/k5GRERUVh165dknFTU1O88cYbmDFjBiwsLBAREYH3338fUVFRaNKkyVOzAiwQiYiISMvUVAfR29sbLi4ukjEbG5sqfa%2BTkxOuX79e4bHff/8da9asgVKpVF%2BU8mRpuXbt2pXe5549e%2BDo6Fiuw/jkXMQn3n//fezduxcnT57EO%2B%2B8U6W8LBCJiIhIq9RUgWhra1ul5eRn1bx5cxgZGeHmzZto3749ACApKQlGRkZo1qxZpd93%2BPBhvPfee%2BXGv/rqKwwYMACvv/66eqywsBAmJiZVzsSLVIiIiIgEMjMzw6BBgxAcHAyFQgGFQoHg4GC8/fbbMDU1rfB7srOzkZSUhC5dupQ7duPGDSxZsgSZmZkoLCxEWFgYcnNz4erqWuVMLBCJiIhIq5SU1MxHTQoICECzZs3g7u6OgQMHonHjxliwYIH6uJubG9avX6/%2B%2Bu7duwCABg0alLuvoKAgNG3aFEOHDoWTkxPOnDmDTZs2wdLSssp5uMRMREREJFjt2rURGBiIwMDACo8fPHhQ8nW7du0qPafR0tISQUFBGuVhgUhERERa5WXcKFtuWCASERGRVmGBqDmeg0hEREREEuwgEhERkVZhB1Fz7CASERERkQQ7iERERKRV2EHUHAtEIiIi0iosEDXHJWYiIiIiktDpAvG9996Dr69vhcd27tyJbt26obCwsNLvv337Nlq3bo20tLSaikhERETP6GV8JxW50ekCcezYsThx4gQyMzPLHdu%2BfTt8fHxgbGwsIBkRERGRODpdIPbu3Rt2dnbYt2%2BfZPzixYtITEyEj48PEhMTMXnyZPTu3RtvvPEG3NzccPLkyXL3VVRUhNatW%2BPcuXPqsV27dkneGPvKlSsYO3YsunTpgv79%2B%2BOHH35AaWlpzf2CREREOogdRM3p9EUq%2Bvr6GD16NLZt24ZJkyZBT08PQFn3cODAgbC1tcXYsWMxcOBAfP311ygpKcHy5cvxxRdf4Pjx48/0s9LS0jB%2B/HjMnj0bmzZtwq1bt/Dhhx/C3Nwcnp6eVb6fjIyMch1PGwsL2NraPlOeGvHn/Kk/C2ZoKJ/XPwYG%2BpLPopmaik5QxsRE%2BlkW6tQRnaCMubn0M5WR47w4OopOUMbBQfpZtPh4YT9a14q5mqDTBSIAjBw5EiEhIfj111/h7OyMBw8e4NChQ9i6dSsA4LvvvkODBg1QUlKClJQU1K1bFxkZGc/8c/bv3w8HBwf4%2BPgAAFq1aoV3330XERERz1QgRkZGIiwsTDLmO20apvv5PXOmGmNkJDoBAMBKhqcH1K1rJjoCAMDKSnQCqaZNRSf4q66iA0i1bSs6gTzJaV4uXBCdQGrbNtEJysikWUDVo/MFYp06dTBkyBDs2rULzs7O2LNnD15//XW88cYbAIDff/8dH3zwAe7fv48WLVrAysoKJdV4aZKSkoLLly%2Bjc%2BfO6rGSkpJnPsfR29sbLi4ukjEbCwvgHy6meWH09MqKQ5UKkMHSeXaeSnQENQMDfdSta4ZHj5QoLhb/0vb%2B/VqiIwAo6xw2bQrcuQM8fiw6TRn77DOiI5QxNy8rgn77DcjPF51GPuQ4L1Onik5QxsGhrDgcPRpISBCdRih2EDWn8wUiUHaxyrBhw5CdnY2dO3fC789uXGpqKj766COsX78evXv3BgDExMRUuLxsYGAAAFCp/leUZGdnq/%2B7QYMG6N69O7755hv1mEKhgFKpfKastra25ZeTHz%2BWRUGmVloqizxFRfL7F6K4uEQWuQoKRCeQevxYRplyckQnkMrPl18mOZDTvAhcSq1QQoL8MtFLRx4nRAnWsmVLdOrUCV9%2B%2BSWUSiX69%2B8PAMjLy0NJSQnM/zzXJTExEevWrUNxcXG5LqKenh6aN2%2BO2NhYFBUV4Y8//sCePXvUx4cOHYqzZ8/i4MGDKCoqQnp6OqZMmYLly5e/uF%2BUiIhIB/AiFc2xQPzTO%2B%2B8g/3792PUqFEw%2BvMcupYtW2LmzJn4%2BOOP0alTJ3z00UcYOXIkDAwMcOPGjXL38cUXX%2BDKlSvo0qULZs6ciZEjR6qPNWnSBBs2bEBERAS6desGDw8P2NvbY8mSJS/sdyQiItIFLBA1p1fKfVZefnI5eUtPDzA2LjsfUgZ/VpmPZHBe5p8MDfVhZVUL2dl5slhiTkuTx5W6pqaAvT2QmCifJeZ2GcdERyhTpw7QtStw5ox8llLlQI7z0q%2Bf6ARlHB3LLpjp2FE%2BS8yCngvs7WvmfhMTa%2BZ%2B5YjnIBIREZFW0bVuX03gEjMRERERSbCDSERERFqFHUTNsUAkIiIircICUXNcYiYiIiIiCXYQiYiISKuwg6g5dhCJiIiISIIdRCIiItIq7CBqjgUiERERaRUWiJrjEjMRERERSbCDSERERFqFHUTNsUAkIiIircICUXNcYiYiIiIiCXYQiYiISKuwg6g5dhCJiIiISIIdRCIiItIq7CBqjgUiERERaRUWiJrjEjMRERERSbCDSERERFqFHUTNsYNIRERERBLsIBIREZFWYQdRcywQiYiISKuwQNQcl5iJiIiISIIdRCIiItIq7CBqjh1EIiIiIpJggUhERERapaSkZj5eBKVSCW9vb%2Bzdu/cfb3fp0iV4enrC0dERLi4u2LVrl%2BT4vn374Orqig4dOmD48OGIj49/phwsEImIiEirvKwFYmJiIsaMGYOLFy/%2B4%2B0ePnyIyZMnw8PDA2fPnsWSJUsQFBSEy5cvAwBOnz6NwMBAfPnllzh79iyGDBmCDz74AEqlsspZWCASERERCRYXF4fx48dj2LBhsLOz%2B8fbHj58GJaWlhgzZgwMDQ3h7OwMd3d3REREAAB27doFNzc3dOrUCUZGRpgwYQKsrKwQExNT5Ty8SIWIiIi0Sk11%2BzIyMpCZmSkZs7Gxga2t7VO/t6CgAOnp6RUes7GxgYODA06cOAETExNs2rTpH%2B8rMTERrVq1koy1bNkSu3fvBgDcvHkTI0aMKHc8ISHhqTmfYIGoDUxMRCcAUPbAiYyMhLe3d5UeLDXNxkYe8wKUzU1o6PcymhvRCcqUzUvZ34y9vfh5KdNXdAAAfz6eQkNl8zcjF7Kcl9JS0QkA/GVuYmPlMzeC1NT/ktDQSISFhUnGfH19MX369Kd%2B76VLlzBu3LgKj61duxb9%2BvWrco68vDyYmZlJxkxNTZGfn1%2Bl41XBApGem8zMTISFhcHFxUXn/3H6O85NxTgvlePcVIzzUjnOTc3z9vaGi4uLZMymiq%2B4nZyccP369eeSw8zMDDk5OZKxgoIC1KpVS328oKCg3HErK6sq/wwWiERERERVYGtrK4viu1WrVjh16pRk7ObNm7C3twcA2NvbIzExsdzxXr16Vfln8CIVIiIiopeIq6sr7t%2B/j/DwcKhUKvz666%2BIjo5Wn3c4cuRIREdH49dff4VKpUJ4eDiysrLg6upa5Z/BApGIiIhI5tzc3LB%2B/XoAgJWVFb7//nvExsbCyckJ8%2BfPx/z58/Hmm28CAJydnREQEICFCxeia9euOHjwIDZs2ABLS8sq/zy90lKZnF1LLz25XaQiJ5ybinFeKse5qRjnpXKcG3qeWCASERERkQSXmImIiIhIggUiEREREUmwQCQiIiIiCRaIRERERCTBApGIiIiIJFggEhEREZEEC0QiIiIikmCBSEREREQSLBCJiIiISIIFIhERERFJsEAkjezcuRPu7u5wcnLCvXv34Ofnh7y8PNGxZEGhUCA8PBxLlixBbm4uTpw4ITqSLBQWFuLIkSMIDw%2BHUqlEQkKC6EiysWfPHgwbNgzdu3dHamoqPv74Y%2BTn54uOJdyhQ4dQWFgoOgaRTmGBSNUWHh6OjRs3YuzYsSguLkatWrWQkZGBoKAg0dGEu3r1KgYOHIjY2Fjs3r0b2dnZmDFjBvbs2SM6mlB37tzB4MGDsXjxYqxZswZpaWkYMWIEi2cAmzdvxjfffANPT088fvwYZmZmSElJ4eMJQEBAAPT09ETHkCW%2BqKCawgKRqm379u34%2Buuv4eXlBX19fVhYWCAkJIRP9gCCgoIwZ84c7NixA4aGhmjSpAnWrl2LjRs3io4m1JIlSzB8%2BHD8%2B9//hqGhIZo3b47FixcjJCREdDThIiIi8PXXX2P06NHQ19eHpaUlQkNDcfz4cdHRhGvTpg0OHz4sOobs8EUF1SQWiFRt2dnZaN68OQCgtLQUAFC/fn0UFRWJjCULN27cwNChQwFA3fno2bMn0tPTRcYS7uLFi5g4cSL09PTU8zJ06FAkJycLTiZednY2WrRoAeB/jydra2s%2BngDk5eVh1qxZcHR0RP/%2B/TFgwAD1hy7jiwqqSYaiA9DLy8HBAZGRkRg1apT6yT4mJgb29vaCk4lXr1493Lp1SzIXt27dgrW1tcBU4tWpUwf379%2BHnZ2deiwzMxMWFhYCU8lD69atsXv3bnh6eqofTz/%2B%2BCNatmwpOJl4np6e8PT0FB1DdviigmoSC0SqNn9/f0yYMAEHDhxAfn4%2BJk2ahIsXL%2BK7774THU240aNHY8qUKZg6dSqKiooQExODdevWwdvbW3Q0odzd3eHr64uZM2eipKQEly9fxooVK%2BDm5iY6mnCzZ8%2BWPJ6mTp2Kc%2BfOYcOGDaKjCVdZcVhcXPyCk8gLX1RQTdIrffKyg6ga0tPTERUVhXv37qFhw4Zwd3eXdId0WUREBLZt24aUlBQ0aNAA3t7emDBhAvT1dffMDpVKhVWrVmHHjh1QKpUwMTHByJEj4e/vD2NjY9HxhEtLS8P%2B/ftx7949NGjQAEOGDEGTJk1ExxIuOTkZ69atQ3p6urpTplKpcOvWLZw6dUpwOnGuXLmCCRMm4LXXXsPFixfRo0cP9YsKR0dH0fHoJccCkYiEUCgUsLKy4tWp9FTjxo2DSqVCvXr1kJWVBQcHB0RHR2P8%2BPHw8/MTHU8ovqigmsICkZ6Zi4vLU5/Ujx079oLSyEtYWNhTb%2BPr6/sCksjL/v37n3obDw%2BPF5BEfvr37//Ux9OPP/74gtLIk6OjI06cOIF79%2B4hJCQE69evx8mTJ7FhwwZs3bpVdDwircRzEOmZTZ8%2BHUDZXn/Hjh3Du%2B%2B%2Bi6ZNmyI1NRWbNm1C3759BScU5/Tp0wCAgoICXLlyBa%2B//joaN26M9PR0XLp0Cd27dxecUIwn29iUlJQgPT0dlpaWsLOzQ0ZGBjIzM%2BHg4KCzBeKkSZMAAAkJCTh69CgmTJiAJk2aIC0tDeHh4XB1dRWcUDwzMzNYWlrCyMgIN27cAAD06tULc%2BbMEZxMrH96caHrLypIcywQ6ZkNGzYMALBp0yZ899136qvoAKBbt26YPHky/P39RcUTasuWLQCAOXPmYPjw4Rg1apT62L59%2B3R2L7cn224sW7YMxsbGmDFjhvpczK%2B//hp3794VGU%2BoJxdgeHh44LvvvpNc%2Bd69e3d88MEHOvt4eqJp06b4%2Beef0bNnTxQVFSElJQXGxsY6f7XukxcXT2RnZ2PPnj3w8vISlIi0CZeYqdocHR1x5swZGBkZqccKCgrg7OyM%2BPh4gcnE69ixI86dOye5IKW4uBidO3fW6bnp2rUrTp06JfmbKSoqgpOTE86fPy8wmXiOjo44e/YsDA3/97qdj6cyR48exSeffIKDBw/iwIED6g3ou3btiuXLl4uOJyt//PEHPv30U%2BzatUt0FHrJ6e7llKSxtm3bYtmyZer3SFUqlQgMDESnTp0EJxOvXr16OHv2rGTsl19%2Bga2traBE8mBiYoKkpCTJ2G%2B//Ya6desKSiQfbdu2xYoVK9SPp8ePH2Pp0qXo2LGj4GTi9evXD7GxsWjUqBF8fX0xe/ZsTJ48GYsXLxYdTXaaNGmCW7duiY5BWoAdRKq2W7duYcqUKUhNTYWVlZX6nVW%2B/fZbNGrUSHQ8oXbt2oXAwEAMGDAAdnZ2SE5OxtGjR7Fs2TIMGjRIdDxh1q9fjy1btsDT01M9Lzt37oSfnx/GjBkjOp5QSUlJmDx5Mu7fv4969erh/v37aNKkCTZs2IBXXnlFdDxZuH79Ou7evYtevXohJycH9erVEx1JqAsXLki%2BVqlUiI2NxeXLl3X%2Bfd9JcywQSSNFRUWIj49Heno6GjZsiI4dO%2Br0Pn9/FRcXh6ioKGRkZKBhw4YYMWIEu0EAdu/ejaioKKSnp6NRo0bw9PTkRtl/UqlUOHfunHpuOnfuDAMDA9GxhFMoFPDz80N8fDyMjY2xe/dueHl54fvvv0f79u1FxxPGwcGh3Fjz5s2xaNEidOnSRUAi0iYsEEkjaWlpiI6ORkpKCmxsbODu7o6mTZuKjiUbWVlZ6rnR9a7q32VlZcHCwkJyzp2uS09PR0xMjPpvxs3NDY0bNxYdS7hZs2bB1NQUc%2BbMQZ8%2BfXD27FmEhYUhLi4OERERouMJ8/d3kuGLCXqeWCBStT3Zxf/VV19F48aNcefOHSQlJWHjxo06fx5ibm4u/P391VfvAoCzszNWr16t0%2BfbFRYWIjg4GLt27UJBQQGMjY0xZMgQfP755zr/TipXr15Vb3Hz5PF0%2B/ZtfP/99zr/rhjdu3fHkSNHYG5ujq5du%2BLMmTNQqVTo1q1buXN9dUF6evpTb9OgQYMXkIS0GV%2B6U7WtWLECM2bMwLhx49RjP/zwA4KDg7F9%2B3aBycRbuXIl8vLy8K9//QuNGzfG7du3sXTpUqxYsQKBgYGi4wmzbt06nD59GqtXr1YXQV999RVWr16N2bNni44n1PLly/Hhhx/i3XffVY99//33CA4O1ukuGQAYGhqisLAQ5ubm6rfay8/Ph7m5ueBkYvTu3bvS/Q9LS0uhp6eHa9euveBUpG3YQaRqc3JywqlTpyRLhCqVCm%2B%2B%2BabOb1ny1ltvYc%2BePahfv756LDMzE0OGDEFcXJzAZGL169cPmzZtkrwV2J07dzBmzBj8/PPPApOJx8dT5RYuXIjU6cBc5gAAE0JJREFU1FTMnz8fI0aMwOHDhxEYGAhzc3OdfMF1586dp96Gp/qQpng1AVWbmZkZUlNTJWOpqamwsLAQlEg%2BlEol6tSpIxmrW7cuSkpKBCWSh4cPH5Y7F7NRo0YoKCgQlEg%2BzMzMyi0dpqWl8fGEsnMQDQ0N4erqikePHsHZ2RmPHj3Cp59%2BKjqaEE2bNv3HD6VSKToiaQEWiFRtgwcPxvTp0/Hzzz/jv//9L06ePAk/Pz8MHjxYdDTh2rdvjzVr1qiXw0pLS7FmzRq0a9dOcDKxWrdujR07dkjGduzYgVatWglKJB%2BDBg3C9OnTERcXh%2BTkZJw6dQozZszAwIEDRUcTZurUqcjJyUHt2rWxdu1a/PTTT9i%2BfTuOHz%2BODRs26PT5vADw008/oV%2B/fmjXrh3atm2Ltm3b4rXXXsOIESNERyMtwCVmqrbHjx8jICAABw8ehEqlgomJCUaMGAF/f3%2BYmJiIjifU9evXMW7cOBgbG%2BOVV15BSkoK9PT0sGnTJslbE%2Bqac%2BfO4b333oODgwOaNGmCO3fu4ObNm9i4caPObwFUUFCA%2BfPnIzY2FkVFRTAyMsKwYcMwb948nX08eXl5ISsrCyEhIWjTpo3oOLLj7u4OJycnWFhY4MaNGxg0aBDWrVsHLy8vjB07VnQ8esmxQCSNFRYW4uHDh7C2tq70xGld9ODBAxw7dgxZWVl45ZVX0Lt3b9SuXVt0LOH%2B%2B9//Ijo6Gvfv30fjxo3h5ubGjaD/oqCgAA8ePICtra3O7ylaXFyMkJAQbN68Gf7%2B/vDx8REdSVbat2%2BPc%2BfOISUlBZ9//jm2bNmCxMREfPLJJ4iOjhYdj15yLBCpWlJTU3H9%2BnW89dZbAICSkhJ88cUXmDRpEvdtA/Do0SPJ8telS5d0ekPfJ4qLiyV7taWnp3M7DpTNw/Xr19GrVy8AZY%2BnJUuWYOLEidw/E8CZM2cwd%2B5cdOzYETNmzJAUznZ2dgKTifXWW2/hxIkTUKlUeOutt/Cf//wHANClSxed3P6Hni/dfnlK1ZKcnKy%2BkvCJhw8f4sqVK/Dx8UFycrLAdGIVFxfj448/xueff64eu3//Pry9vfHRRx%2BV29hWlwQHB2P%2B/PnqrxUKBVxcXLBixQqBqcRLTk7G8OHDcejQIfXYw4cPce7cOXh5eeHu3bsC08lD165dsXbtWhw5cgSurq7o27cvXFxc0LdvX9HRhGrdujVCQ0MBAPXr18cvv/yCc%2BfO6ewpCfR8sUCkZxYaGorBgwdj6dKl6jErKyvs3bsXPXv2RFhYmMB0Ym3cuBE3b97EtGnT1GPW1tbYv38/rl27hvDwcHHhBIqMjERUVBTc3d3VY1ZWVggJCcG%2Bffuwa9cugenECg0NRf/%2B/REUFKQes7Kywv79%2B%2BHs7KzTj6cnIiIiMGrUKAwYMACHDx/G0aNHcezYMRw9elR0NCFUKhWAsqu7Y2JikJGRAV9fX0yePBljx47FhAkTxAYk7VBK9Ix69uxZ%2BuDBgwqPpaWllfbq1esFJ5KPwYMHl167dq3CY2fPni11c3N7wYnkwcPDo/TMmTMVHjtx4kTpsGHDXnAi%2BejZs2dpdnZ2hcdSU1N1%2BvGUlZVVOmXKlFJHR8fSffv2iY4jG926dSsNDQ0tzczMlIynpqaW3rx5U1Aq0jbsINIzy8vLq3RvtgYNGiAnJ%2BcFJ5KP9PR0ODg4VHisY8eO5faN1BV3795Fly5dKjzWo0ePKm38q63y8vJgaWlZ4bGGDRvq9ONpyJAhSE9Px549e%2BDh4SE6jmzMmDEDx48fR58%2BfeDv74%2BrV68CKPt70eVdEuj5YoFIz8zGxqbSJ/Q7d%2B5U%2BmSnC0xMTJCXl1fhsSfvPayLnrxVWkVKSkokF67oGmtr60rP201OTtbpx5OrqysiIyPRvHlz0VFkxcvLC3v37sWWLVugp6eH0aNHY9SoUTh06JBOn%2BdMzxcLRHpm/fv3x8qVK9WbQD9RWlqKr776Sn0lpi7q1KkT9u/fX%2BGxAwcO4PXXX3/BieShXbt2lZ4vduTIEZ3ueri6umLVqlUVHlu9ejV69OjxghPJR0BAgM6%2BqKqKDh064Msvv1RvmL169Wr07dsX3377rehopAW4zQ09s9zcXAwfPhympqYYNGgQrK2tkZmZicOHD%2BPhw4fYvXu35D2Idcnly5cxfvx4TJ8%2BHW5ubuq5iYmJQWhoKNauXYtu3bqJjvnC/fLLL5g5cyYWLVqEfv36wcDAAEVFRTh27BgCAgKwYMECnX0HnpycHHh4eKBu3boYNGgQbGxskJmZidjYWGRlZWH37t2wsbERHZNeAg8ePMCXX36JAwcO4Nq1a6Lj0EuOBSJVS3Z2NkJCQnDixAkoFArY2NigT58%2B%2BPDDD1GvXj3R8YSKjY3FwoUL8fDhQ/WYpaUl5s2bh7fffltgMrHCw8MRHBwMQ0NDWFhY4MGDBygpKcH06dMxefJk0fGEUigUWL16NY4fP47s7Gz148nX11dnX2xR1Z0%2BfRo7d%2B7E0aNH0alTJ4wZM0bntwAizbFAJKoBhYWFOH/%2BvPrJvkOHDjAyMhIdS7iMjAz89NNPUCgUsLW1Rc%2BePVkAEVVDVlYW9u7di927dyMzMxNDhgzB2LFjdfp0DXq%2BWCASERG9RKZPn44TJ07Azs4Oo0ePxsiRI/k2nvTcGYoOQERERFWXn5%2BPsLAw9O7dG3p6eqLjkJZiB5GIiIiIJLjNDRGRDBw6dKjSvSKJiF40dhBJI7/%2B%2BivS09PVeyKqVCpcv34d8%2BfPF5xMrA8%2B%2BADr1q0rN/7OO%2B9g69atAhKR3HXt2hWnTp3ixUxEJAs8B5GqbfHixdixYwdq1aoFACguLkZeXh569uwpOJkYd%2B/eVW%2BS/csvvyAsLExyPDc3F9evXxcRTTZOnjyJxYsXIyUlpdxG67q%2Bb1ubNm1w%2BPBhuLm5iY5CRMQCkarv0KFD2Lp1K5RKJaKiorB06VIsW7YM%2Bfn5oqMJYWdnh8TERCgUChQXF%2BP06dOS4yYmJggICBCUTh4WLVqE/v37o3fv3tDX5xkuf5WXl4dZs2Zh/vz5sLGxkVx88OOPPwpMRkS6iAUiVZtSqUSHDh2QmZmJq1evQk9PD76%2Bvjr7jhj6%2BvpYs2YNAGD%2B/PlYvHix4ETy8%2BDBA8yaNUun33u5Mp6envD09BQdg4gIAAtE0kDDhg2RlZUFGxsbpKWlQaVSwdTUFLm5uaKjCbd48WIUFhZCoVCgpKREcszOzk5QKvH69OmDkydPwsXFRXQU2amsOCwuLn7BSYiIWCCSBnr37o0JEybghx9%2BQJcuXfDZZ5/BxMQEzZo1Ex1NuNjYWHz%2B%2BeeSYrm0tBR6eno6fa7duHHjMHr0aLRs2RJ169aVHNu8ebOgVPKQnJyMdevWlbvo69atWzh16pTgdESka1ggUrV98sknqF%2B/PoyMjLBgwQLMmzcPubm5CAwMFB1NuJCQEIwZMwbDhg2DoSEfZk8sWLAAjo6O6Ny5M5eZ/2bevHlQqVSoV68esrKy4ODggOjoaIwfP150NCLSQdzmhqgGODo64uzZsywO/8bR0RFnzpzhVi4VcHR0xIkTJ3Dv3j2EhIRg/fr1OHnyJDZs2MCtkYjoheNlhKSRnTt3wt3dHU5OTrh37x78/PyQl5cnOpZwbdq0wc2bN0XHkJ3XXnsNycnJomPIkpmZGSwtLfF///d/uHHjBgCgV69eSEpKEpyMiHQR2xtUbeHh4di%2BfTvef/99LF%2B%2BHLVq1UJ6ejqCgoJ0/grejh07YsKECRg4cCCsra0lx3x9fQWlEs/Z2Rnjxo3DwIEDYWlpKTmmy/MCAE2bNsXPP/%2BMnj17oqioCCkpKTA2NkZRUZHoaESkg1ggUrVt374dX3/9NVq0aIHg4GBYWFggNDQUw4YNEx1NuPj4eNjb2yMpKUnSAfrr3na66MyZM2jevHm5DcN1fV4AYOLEiZg2bRoOHjwILy8veHt7w9DQEH369BEdjYh0EM9BpGrr2rUrfv31V%2Bjr66NLly44e/YsiouL0a1bt3KbRBPR0927dw%2B2trYwNDREVFQUcnNzMXLkSBgbG4uORkQ6hucgUrU5ODggMjISwP86QDExMbC3txcZSzaSkpKwePFi%2BPr6Ijs7mxca/InzUjk7OzskJSXh2LFjGDRoEAYOHMjikIiEYIFI1ebv749Vq1bBx8cH%2Bfn5mDRpEhYtWoRPP/1UdDThTp06BU9PT2RnZ%2BM///kPCgoKsHbtWnz77beiownFeamcQqHAO%2B%2B8g%2BHDh2PWrFm4c%2BcOXF1dcenSJdHRiEgHsUCkamvTpg0OHjyIfv36wdPTE507d8aBAwfQvn170dGEW7VqFb766iusXLkSBgYGaNSoEb799lt1x1VXcV4qt3TpUjRr1gynT5%2BGoaEhWrRogXfffRfLly8XHY2IdBAvUqFqGz58ODZv3oyJEyeKjiI7t2/fRq9evQD8b/m9Xbt2ePjwochYwnFeKhcXF4cjR47A3NxcPTdTpkzBDz/8IDgZEekidhCp2jIyMkRHkC07OztcuHBBMnblyhU0atRIUCJ54LxUztDQEIWFhQCgfqu9/Px8mJubi4xFRDrKYOHChQtFh6CX0%2B3bt/HNN9/gwYMHSE5OxvXr15GQkICEhAQ4ODiIjidU3bp18emnnyI3Nxfx8fEwMDBAUFAQpk2bptNzw3mp3O3bt7Fv3z506NABO3fuhKenJwIDA9GyZUu4uLiIjkdEOobb3FC1VfaklZ2djfj4%2BBecRn5OnjyJiIgIpKSkoGHDhvDy8sKAAQNExxKO81Kx3Nxc%2BPv749ixYwDKluB79OiBlStXom7duoLTEZGuYYFIz82tW7cQHh6OqKgoXLx4UXQckqFDhw5h0KBB5cYjIyPh7e0tIJH8ZGRkqItnLr0TkSgsEElj586dw8aNG3Hy5Em0atUKnp6eGDNmjOhYQiUnJ2P9%2BvVISUlBSUmJ5NjmzZsFpRJDqVQiOzsbAODm5oaYmBj89Z%2BdnJwc%2BPj46GzXeerUqVixYgXq1KkjOgoRkRqvYqZqKSkpQWxsLDZt2oTExEQUFRXhm2%2B%2BQc%2BePUVHk4VPPvkERkZGePPNN6Gvr9vXguXm5sLNzQ0FBQUAyk5NKC0thZ6envpzv379BKcUR6FQwMPDAyEhIWjTpo3oOEREANhBpGr44YcfsHnzZpSUlGDUqFHw8vLCwIEDceDAATRo0EB0PFlwdHREXFwcTE1NRUeRhaysLCiVSri7u%2BNf//qX5JiJiQmsra0FJROvuLgYISEh2Lx5M/z9/eHj4yM6EhERO4j07IKCgjB69GjMmTOHbwNWCQcHB6SlpaFZs2aio8hC/fr1AQDnz5/X%2BY7q3xkYGODjjz9G9%2B7dMXfuXJw/fx4zZsyQzJOdnZ3AhESki9hBpGcWERGBbdu2QaFQwMvLC6NHj4aHhwf279/PDuKfrl69imnTpqF///7lrkD19fUVlEqcsLCwp95GF%2Bfl7xISEuDj44PHjx8DgHoJ/tq1a4KTEZGuYQeRntmYMWMwZswYxMXFYevWrXB1dUVxcTHi4uLg7u4OAwMD0RGFCw0NRX5%2BPq5evSrpBD15hwxdc/r06X88rqvz8lcREREIDg7GgAED4Ovry04rEQnFDiJpLCUlBdu2bcOePXugr6%2BPIUOGYM6cOaJjCeXo6IgjR47o9Ll1VDUKhQKfffYZzpw5gwULFsDDw0N0JCIiFoj0/BQWFiIqKgrbtm3D3r17RccRasCAAdi9eze3LqGn6tGjB2xsbLBq1So0b95cdBwiIgAsEIlqxM6dOxEdHY1x48bBwsJCsoTapUsXgclIbr744gvMnTuXF3wRkaywQCSqAZW9rzAvOCAiopcBC0QiIiIikuBlckQ1pLCwEEeOHEF4eDiUSiUSEhJERyIiIqoSbnNDVAPu3LmD9957DyqVCo8ePULv3r0xYsQIhIWFoU%2BfPqLjERER/SN2EIlqwJIlSzB8%2BHD8%2B9//hqGhIZo3b47FixcjJCREdDQiIqKnYoFIVAMuXryIiRMnQk9PT30F89ChQ5GcnCw4GRER0dOxQCSqAXXq1MH9%2B/clY5mZmbCwsBCUiIiIqOpYIBLVAHd3d/j6%2BuLUqVMoKSnB5cuXMWvWLLi5uYmORkRE9FTc5oaoBqhUKqxatQo7duyAUqmEiYkJRo4cCX9/f26ITEREsscCkaiGKRQKWFlZSd5NhYiISM64zQ3Rc7R///6n3sbDw%2BMFJCEiIqo%2BdhCJniMXF5d/PK6np4djx469oDRERETVwwKRiIiIiCR4FTPRc3T%2B/Pl/PL5x48YXlISIiKj6WCASPUeTJk2SfD106FDJ12vXrn2RcYiIiKqFBSLRc/T3Mzbu3bv3j8eJiIjkiAUi0XP0961snvY1ERGRHLFAJCIiIiIJFohEREREJMGNsomeo6KiIslm2SqVSvJ1cXGxiFhERETPhPsgEj1HT9soGwCOHz/%2BApIQERFVHwtEIiIiIpLgOYhEREREJMECkYiIiIgkWCASERERkQQLRCIiIiKSYIFIRERERBIsEImIiIhIggUiEREREUmwQCQiIiIiif8HQKoMloeyw/sAAAAASUVORK5CYII%3D\" class=\"center-img\">\n",
       "    <img src=\"data:image/png;base64,iVBORw0KGgoAAAANSUhEUgAAAogAAAI8CAYAAAByElrZAAAABHNCSVQICAgIfAhkiAAAAAlwSFlzAAAPYQAAD2EBqD%2BnaQAAADl0RVh0U29mdHdhcmUAbWF0cGxvdGxpYiB2ZXJzaW9uIDMuMC4yLCBodHRwOi8vbWF0cGxvdGxpYi5vcmcvOIA7rQAAIABJREFUeJzs3X18zfX/x/HH2YVdYRs2cxmxkeqbw1wklNF3iSHJcjFXoW9j6KdcfUnlixQp15LLiIkU0ldffQt9v9UIUVKuLRfbbIZdsJ3t/P7YdyefNqyOOafT8367nduc9%2BfqdV7GXnu9359zTFar1YqIiIiIyP%2B4OToAEREREXEuKhBFRERExEAFooiIiIgYqEAUEREREQMViCIiIiJioAJRRERERAxUIIqIiIiIgQpEERERETFQgSgiIiIiBh6ODkBE/pgOHTrEunXr%2BPLLL0lKSuLq1atUqFCB0NBQHnroIbp164a3t7ejwxQRkd/BpI/aE5HfatasWcyfP5/8/HzKli1LzZo18fT0JCUlhTNnzgBQpUoV5s6dy9133%2B3gaEVE5LdSgSgiv8n69esZN24cvr6%2BTJ06lYcffhh3d3fb9qNHjzJu3Dj27dtHYGAgW7ZsoUKFCg6MWEREfiutQRSR32TBggUAjBo1ikceecRQHALUqVOH%2BfPnU7FiRS5cuMCKFSscEaaIiNhBBaKIlNilS5c4deoUAPfdd99196tQoQLt2rUDYP/%2B/bclNhERuXV0k4qIlJiHxy//ZXz22Wc0aNDguvvGxcXRp08fKlasaBsbM2YMGzZsYOzYsbRq1YqZM2eya9cucnJyuOOOO3jsscd48skn8fLyKvacu3bt4p133mHPnj2kp6dTvnx5GjZsSExMDPfff3%2Bxx1y6dIk1a9awfft2jhw5QkZGBj4%2BPtSsWZM2bdrQp08f/P39DcfUq1cPgP/85z%2B88sorfPrpp7i5uXH33XezZMkSxo8fz4YNG/jHP/5BkyZNmD17Nl999RWXL1%2BmevXqPPHEE/Tr1w%2BTycQnn3zC8uXL%2BeGHH8jPz6d%2B/fo888wzPPjgg0VivXLlCuvXr2fbtm38%2BOOPXLp0iTJlylC1alVatmxJ//79qVy5suGYiIgITp8%2BzZYtW0hNTeXtt9/m22%2B/JSsri%2BrVq9O%2BfXueeuop/Pz8rvt3JSLya1qDKCK/SY8ePdizZw8mk4nOnTvTrVs3GjVqVGSquTiFBWLXrl3ZunUrWVlZhIaGYrFYOHbsGACNGzdm4cKFlCtXznDs9OnTWbRoEQD%2B/v5Ur16d5ORkUlJSABg4cCDPP/%2B84ZgTJ07Qr18/zp49i4eHBzVr1sTHx4fTp0%2BTnp4OQO3atVm/fr2hgCosEBs1asTevXsJCwsjLS2NZs2aMWPGDMPr%2BPjjj7FYLNSpU4fU1FRbPIMHD8ZkMrFw4ULKly9PjRo1OH78OFlZWZhMJt566y1at25tu2ZaWhp9%2B/blp59%2BwmQyUbNmTcqVK0dSUpLtnBUrVuT9998nJCTEdlxhgdi/f3%2BWLVtGmTJlqFWrFhcvXuTcuXMAmM1mVq1aVaK/IxERAKwiIr/B999/b23YsKE1LCzM9mjUqJF10KBB1oULF1r37dtnzcvLK/bY0aNH245p06aN9eDBg7Zte/bssbZo0cIaFhZmnTBhguG41atXW8PCwqzh4eHWDz/80Daen59v/eijj2zxrF271nBc7969rWFhYdbu3btbk5KSDMdt2LDBWr9%2BfWtYWJh15cqVhuMKY7znnnusCQkJVqvVas3Ly7NeuHChyOvo0aOHNTk52bbPmDFjrGFhYdb69etb69WrZ128eLEtH2lpadYuXbpYw8LCrL179y42Nw8//LD1%2BPHjhm07duyw3nfffdawsDDrK6%2B8YtjWpk0bWyxjxoyxXrp0yfYaV65cadv2r3/9q9i/ExGR4mgNooj8Jg0aNOC9996jcePGtrGMjAy2b9/OjBkz6N69Oy1btmTmzJlkZ2cXew43NzfmzZvHXXfdZRszm81MmzYNgPfee4%2BkpCQAcnJymD17NgBTpkyhU6dOtmNMJhOPPvqorXM4e/ZsLBYLAKmpqRw%2BfBiASZMmERwcbDiuS5cuNG3aFIAff/yx2Djbt29PkyZNbDEHBAQYtnt4ePD6668TFBRk22fw4MEA5Ofn07lzZwYMGICbW8F/tYGBgfTp0weAgwcP2s5jsVjYvXs3JpOJsWPHUqtWLcN1WrVqxaOPPgrATz/9VGys9evXZ8qUKbbOq8lkolevXrZu6DfffFPscSIixVGBKCK/Wd26dXn33Xf54IMPGDp0KGazGU9PT9v21NRUFixYQKdOnWzTnNdq3rw59evXLzLesmVLqlevTn5%2BPp999hkAe/fu5fz58/j5%2BdG2bdti4%2BnUqRNubm4kJSXZCq%2BKFSvy1Vdf8e233xIWFlbkmLy8PMqWLQsUrP0rzrVFcHHq1atnmO4FqFatmu3Pxa0zLCxUMzIybGMeHh5s27aNb7/9loceeqjIMVarFV9f3xvG%2BtBDD2EymYqM33nnnQBcvnz5hq9FRORauklFRH63u%2B66i7vuuou4uDiys7PZs2cPX3zxBR9%2B%2BCGpqamcOnWK4cOHEx8fbzjuL3/5y3XPWa9ePX7%2B%2BWdOnDgBYOsC5ubm0qtXr%2Bse5%2B7uTn5%2BPseOHTOc39vbm7Nnz/Ltt99y6tQpEhMTOXr0KD/88ANZWVlAQbevOIWdweupUqVKkbEyZcrY/hwYGFhk%2B7U3%2Bvyal5cXqamp7Nu3jxMnTvDzzz9z7NgxfvjhBy5evHjDWK/tkF6r8NNs8vLyrv9CRER%2BRQWiiNwSPj4%2BPPDAAzzwwAMMHz6ccePG8dFHH7Fv3z6%2B//57wyeq/Pqu4WsVdsouXboE/NL5ysnJYc%2BePTeNo/A4gGPHjvHqq6%2Byfft2Q2FVtmxZwsPDSU5O5tChQ9c9180%2BKtDHx%2BeG2wunlksiJSWFadOm8c9//pPc3FzDNe69917y8vJuOE18bWFaHKvuRxSR30AFooiU2AsvvMBXX33FY489xjPPPHPd/by9vXn55Zf55JNPyM3N5fjx44YCsbBzV5zCqdfCt8cpLMLuvvtu3n///RLHmpqaSu/evUlNTaVq1ap0796dBg0acOedd1K9enVMJhMjR468YYF4u1y9epW%2Bffty9OhRAgIC6NGjB/fccw916tShZs2auLu7M3PmTK0jFJHbRgWiiJTY1atXOXnyJNu2bbthgQgFXTo/Pz/S09OLfNRe4bRxcQoLtrp16wIFb0MDBW9ZY7FYip2itVqtfP3114SEhFC1alXKlCnD%2BvXrSU1NJSAggPXr1xf7cX%2BFN8I42rZt2zh69CgeHh7Ex8cXuUkFKHYtp4hIadFNKiJSYoV3EH/33Xc37eZ98cUXpKenExAQUORTV3bs2GF7b79rffbZZ5w9e5YyZcoQEREBQJMmTShXrhyZmZnXveamTZvo27cv7du3txVSP//8MwBVq1Yttjg8cuQI%2B/btAxy/Pq8wVj8/v2KLw/Pnz/P5558Djo9VRP4cVCCKSIk98MADREZGAjB%2B/HgmT55sK24KXb16lfXr1zNixAgAhg8fXuRTPLKysoiNjeXs2bO2sa%2B//pqxY8cCBW8yXfh2Lb6%2Bvra3jpk8eTLr1683rCfctm0bEydOBArelqZmzZrAL3fvHjp0iK1bt9r2t1qt7Nixg4EDB9rW%2Bl3v7Xhul8JYL168yPLlyw3rBfft20f//v1tb%2Bzt6FhF5M9BU8wi8ptMnz4dX19fPvjgA1asWMGKFSuoWrUqFStW5OrVq5w4cYKcnBw8PT0ZOXIkPXv2LHKOWrVq8cMPP9CuXTvCwsLIysqy3bXcsWNHnn76acP%2BgwYNIjExkbVr1zJu3Dhee%2B01qlevTlJSEsnJyUDBp5784x//sB3TrVs33n33XU6ePMmwYcOoVq0agYGBnD17ltTUVDw9PWnatCkJCQkOn2qOiIjAbDazd%2B9epkyZwqJFi6hcuTIpKSkkJSVhMplo0aIF//3vf0lOTsZqtRb7ljYiIreKCkQR%2BU3KlCnDK6%2B8Qq9evdiyZQtff/01SUlJHDp0CB8fH2rXrk3Lli3p1q2brTP2a/feey/Tp09n1qxZfPPNN3h4eNC0aVN69Ohhe0Poa5lMJiZNmkRkZCRr1qxh3759/PDDD3h5edGwYUM6duxIdHS04U7esmXLsm7dOhYtWsRnn33Gzz//zPnz5wkJCeGhhx6ib9%2B%2B%2BPr60q5dOw4dOsSZM2eoWrVqqeXtRtzd3Vm2bBnvvPMOH330EYmJifz0008EBQXx6KOP0qtXL%2B6%2B%2B26aNWtGeno6e/bsuel7NIqI2EOfxSwit03hZxhHRUUxffp0R4cjIiLXoTWIIiIiImKgAlFEREREDFQgioiIiIiBCkQRERGR2ygtLY2HH36Yr7/%2B%2Brr7bN%2B%2BnaioKBo2bEj79u357LPPDNsXLVpE69atadiwITExMRw7duyWxqgCUURum1deeYUff/xRN6iIyJ/WN998Q3R0NKdOnbruPidOnCAuLo7hw4eze/du4uLiGDFihO0tuTZs2MA777zD4sWL%2Bfrrr7n77rsZNmzYLf3MdRWIIiIiIrfBhg0beO6553j22Wdvul94eDjt2rXDw8ODRx99lCZNmhAfHw/A2rVr6dmzJ6GhoXh5eTFy5EjOnDlzw47kb6UCUURERKQEkpOT%2Bf777w2PwjfrL4mWLVvyr3/9q9j3e73WkSNHCAsLM4zVrVvX9ln1v97u6elJrVq1bNtvBb1Rtitwlk9UqF0bDh%2BG0FA4ftzR0ZCSfMnRIdi4uZmoUMGPtLRM8vMd/9ajQQHejg7hFx4eYLE4Oopf5OQ4OoICJhP4%2BEB2Nujtan/hhHmx%2BvrdfKc/KYf9eCqlC8fPmsWcOXMMY0OHDiUuLq5ExwcFBZVov8zMTHx8fAxj3t7eZGVllWj7raACUW6dgABwdy/4KgZubiZMJhNubianKBCdirP8guNsTKZfHk5SCDkF5eWGlJbSFR0dTUREhGGspEXfb%2BHj48OVK1cMY1euXLF9rv3Ntt8KKhBFRETEtbiVzgq64OBggoODS%2BXc1woLC%2BP77783jB05coR77rkHgNDQUA4fPkybNm0AyM3N5cSJE0Wmpe2hNYgiIiLiWtzcSudxm3Tq1ImEhAS2bNmCxWJhy5YtJCQk0LlzZwAef/xxVq5cyaFDh7h69SozZsygUqVKhIeH37IYVCCKiIiIOJjZbGbjxo0A1KlTh7lz57Jw4UKaNGnCvHnzmD17NrVr1wagW7du9OvXjyFDhtC8eXMOHjzIwoUL8fT0vGXxmKy38k1zxDGcZQ2X2Qx79kCjRrB3r6OjcaqbVDw83AgM9OPChUwslnxHh%2BNcN6l4ekJurqOj%2BIWz3KTi5vbLzRj5jv%2BecRpOmBdnuknF2dYgOuzHk5dX6Zz36tXSOa8TUgdRRERERAx0k4qIiIi4ltu4XtBVqUAUERER16IC0W7KoIiIiIgYqIMoIiIirkUdRLspgyIiIiJioA6iiIiIuBZ1EO2mAlFERERciwpEuymDIiIiImKgDqKIiIi4FnUQ7aYMioiIiIiBOogiIiLiWtRBtJsKRBEREXEtKhDtpgyKiIiIiIE6iCIiIuJa1EG0mzIoIiIiIgbqIIqIiIhrUQfRbioQRURExLWoQLSbMigiIiIiBuogioiIiGtRB9FuyqCIiIiIGKiDKCIiIq5FHUS7qUAUERER16IC0W7KoIiIiIgYqIMoIiIirkUdRLs5XQZXrVpFvXr1WLZs2W2/9uXLl5kxYwaRkZGYzWZatmzJc889x6lTp373Od9//30iIiJuYZQiIiIipcspC8QePXqwYsUKLBbLbbtuWloaXbt25eTJkyxYsIA9e/awadMm/P39iY6O5vTp07ctFhEREbGDm1vpPP5EnOrVfvnll6SmpjJmzBjy8/PZunWrbVtERAQvvPACDzzwAF26dCE/P5/vv/%2BemJgYmjRpwl//%2BleWLVuG1WoFICcnh2nTptG%2BfXvMZjP3338/kyZNsm3/tdmzZ%2BPt7c3MmTOpXbs2JpOJwMBAJkyYwEMPPcSPP/4IwJUrV3j11Vd58MEHadKkCTExMezfv992nqNHjxITE4PZbCYqKoqDBw8arnOjmEVEROQWUIFoN6dag/jOO%2B/QvXt3vL296dmzJ0uWLKFDhw627fv37%2Bfjjz8GICUlhb59%2B/Lss8%2ByZMkSTp48SWxsLN7e3jz55JMsX76cnTt3snz5coKDg9m7dy%2B9e/emXbt23H///UWu/e9//5vu3bvj7u5eZNvUqVNtf37xxRc5ePAgK1asoEqVKqxevZp%2B/fqxefNmgoKCePrpp2ndujVvv/02p06dYtCgQbj975sqKSnphjGXRHJyMikpKYaxoNq1CQ4IKNHxpap%2BfeNXB/PwcJ5/zO7uboav4sSc5YeAyfTLV2eJyRkoLyK3hdMUiKdPn2bnzp288MILAHTv3p25c%2BeSkJBA06ZNAYiMjKR8%2BfIAxMfHU6dOHXr16gVA3bp1eeqpp1i5ciVPPvkk3bt357HHHqNixYokJydz5coV/Pz8SEpKKvb6aWlpBAUF3TDGq1evsnnzZubOncsdd9wBQN%2B%2Bfdm0aRObN2%2BmYcOGnD17llGjRuHl5UVoaCj9%2B/dn%2BfLlAGzcuPGGMZdEfHw8c%2BbMMYwNHT6cuOHDS3T8bfHuu46OAIBARwdQjPLlfRwdgnPy9HR0BL9wplgAvL0dHYFzcqK8mBwdwK%2BYnCQgh06O6ZcHuzlNgfjuu%2B9isVjo3LmzbcxisbBkyRJbgRgcHGzbdvr0ab7//nvCw8NtY/n5%2BbYOYHZ2Ni%2B//DK7du0iJCSEBg0aYLVayc/PL/b6QUFBJCcnF7stLS0Nf39/Ll68SG5uLtWrVzdsr169Oj///DNVqlQhMDAQ72v%2B46pZs2aJYy6J6OjoIje9BEVFwf%2BKUIeqX7%2BgOOzZEw4dcnQ0XPh0p6NDsHF3d6N8eR8uXcomL6/478HbKbBsGUeH8AtPT8jNdXQUv7iNa59vyGQqKIKuXHHwT1on44R5sXo7zy9%2BJpPTpEX%2B4JyiQLx69Srr1q1j8uTJtGjRwjb%2B008/MXjwYI4ePQqA6Zpfi0JCQmjWrBmLFy%2B2jV24cIHMzEwAxo8fj7%2B/P1988QVeXl7k5%2BfTpEmT68YQERHBJ598wjPPPGMo2KxWKwMHDuSee%2B7hxRdfxMvLi8TEROrUqWPb59SpU0RERFClShXS0tLIzMzEz88PgHPnzpU45pIIDg42FMoAHD9e4uNvi0OHYO9eR0eBxeL4QuzX8vLynTIuucZ1fom87Qo7IFar88TkDJQXKQl1EO3mFBnctGkTJpOJqKgoQkJCbI/WrVsTFhZW7FveREVFsW/fPjZu3IjFYiE5OZm//e1vvPLKKwBkZGTg5eWFm5sbGRkZvPrqq2RkZJB7nU5FbGwsFy9e5P/%2B7/84efIkULBmcNy4cZw7d46BAwfi5ubG448/zuuvv87JkyfJyclh%2BfLlHDlyhA4dOmA2m6lduzb/%2BMc/yM7O5uTJkyxZsqTEMYuIiMgtoJtU7OYUr/bdd98lKioKz2LW/kRHR/Phhx%2BSmppqGK9WrRpvv/028fHxtGjRgs6dO3PnnXfaiq3x48dz6NAhmjZtyiOPPEJGRgatWrXip59%2BKjaGChUqsG7dOvz9/enXrx9ms5lu3bphsVhYvXq1bap41KhRtGzZkn79%2BtGsWTM%2B/vhjFi9eTO3atXF3d%2Bett94iOTmZFi1aMHDgQNq2bVvimEVEREScgcmq91j543OWFclmM%2BzZA40aOcUUc0ryJUeHYOPh4UZgoB8XLmQ6xRRzUIDzLPB3ujWIOTmOjqCAmxv4%2BEB2tqZSr%2BWEebH6%2Bjk6BBtnW4PosB9PZnPpnNcJfrbdLk7RQRQRERER5%2BEUN6mIiIiI3DJ/svWCpUEFooiIiLgWFYh2UwZFRERExEAdRBEREXEt6iDaTQWiiIiIuBYViHZTBkVERETEQB1EERERcS3qINpNBaKIiIjIbZCamsqECRNISEjA3d2dTp06MXr0aDw8jOXYwIED%2BeabbwxjWVlZREdH8/LLL3P%2B/HkeeOABfH19bdsDAwP597//fctiVYEoIiIirsVJO4gjRoygcuXK7Ny5k/Pnz/PMM8%2BwbNkyBg4caNjv7bffNjxft24dc%2BbMYejQoQAcOHCAatWq3dKC8NecM4MiIiIiv5ebW%2Bk87HDy5EkSEhJ4/vnn8fHxoUaNGsTGxrJq1aobHnfs2DEmTZrE9OnTCQ4OBgoKxHvuuceueG5GHUQRERGREkhOTiYlJcUwFhQUZCvcbuTw4cMEBARQuXJl21idOnU4c%2BYMly5donz58sUe99JLL9GlSxfCw8NtYwcOHODixYt07NiR8%2BfPc%2B%2B99zJ69Gjq1q37O19ZUSoQRURExLWU0hRzfHw8c%2BbMMYwNHTqUuLi4mx6bmZmJj4%2BPYazweVZWVrEF4u7du/n222%2BZPn26Ybx8%2BfLUrVuXQYMGUaZMGd5880369%2B/Pli1bKFeu3G99WcVSgSgiIiJSAtHR0URERBjGgoKCSnSsr68v2dnZhrHC535%2BfsUeEx8fT/v27YtcY8aMGYbnY8eOZf369ezevZs2bdqUKJ6bUYEoIiIirqWUOojBwcElmk4uTmhoKOnp6Zw/f55KlSoBcPToUUJCQort%2BlksFj799FPmzp1rGM/IyGDu3Ln07t2batWqAZCXl4fFYsHb2/t3xVYc3aQiIiIirsUJb1KpVasWjRs3ZsqUKWRkZJCYmMi8efPo1q1bsfv/%2BOOPXL16lUaNGhnGy5Yty3//%2B1%2BmTZvG5cuXyczMZNKkSVSvXt2wTtFeKhBFREREboNZs2ZhsVho27Yt3bt3p1WrVsTGxgJgNpvZuHGjbd/ExET8/f3x8vIqcp558%2BaRn59Pu3btaNWqFSkpKSxatAhPT89bFqvJarVab9nZxDFMJkdHUMBshj17oFEj2LvX0dGQknzJ0SHYeHi4ERjox4ULmVgs%2BY4Oh6CAWzcNYTdPT8jNdXQUv8jJcXQEBdzcwMcHsrMh3/HfM07DCfNi9S1%2B/ZgjmEzgTD/VHfbjKTKydM67dWvpnNcJqYMoIiIiIga6SUVERERci5N%2BksofiQpEERERcS0qEO2mDIqIiIiIgTqIIiIi4lrUQbSbMigiIiIiBuogioiIiGtRB9FuKhBFRETEtahAtJsyKCIiIiIG6iCKiIiIa1EH0W7KoIiIiIgYqIPoApzlM4c9PNwIBC58utMpPm9Yri8l/YqjQwAKP6PakwsZOfqe%2BRUPDwj0gQtX8pWbazhlXrIuOzoC4JfPfE9Pd5LPfA8q57iLq4NoNxWIIiIi4lpUINpNGRQRERERA3UQRURExLWog2g3ZVBEREREDNRBFBEREdeiDqLdVCCKiIiIa1GBaDdlUEREREQM1EEUERER16IOot2UQRERERExUAdRREREXIs6iHZTgSgiIiKuRQWi3ZRBERERETFQB1FERERcizqIdlMGRURERMRAHUQRERFxLeog2k0FooiIiLgWFYh2UwZFRERExEAdRBEREXEt6iDaTQWiiIiIuBYViHZTBkVERETEQB1EERERcS3qINpNGRQRERERA3UQRURExLWog2g3FYgiIiLiWlQg2k0ZFBEREREDdRBFRETEtaiDaDdlUEREREQM1EEUERER16IOot1UIIqIiIhrUYFoN2VQRERERAz%2BNB3EvLw8zpw5Q40aNRwdioiIiJQmdRDt9psyGBERwb333ovZbC7y2L17t22f999/v1SCtcezzz7LBx98cMN99u/fz7Bhw2jRogWNGjWiffv2LFy4EIvF8ruvGxMTw%2BzZs3/38SIiIuIaUlNTiY2NJTw8nGbNmjF58uTr1hgDBw4sUnPt2LEDKGh6TZs2jRYtWmA2m3nmmWdITk6%2BpbH%2B5g7iSy%2B9RNeuXW9pELfDhQsXbrj9n//8J2PGjGHkyJFMmTIFPz8/fvjhB0aNGsXBgwd58803b1OkIiIiYhcn7SCOGDGCypUrs3PnTs6fP88zzzzDsmXLGDhwYJF9v/vuOxYvXkzTpk2LbJs/fz7/%2Bc9/WL9%2BPeXKlWPChAmMHz%2Bet95665bFWqoZzMnJ4c0336Rt27Y0bdqUQYMGcfLkSdv2evXqER8fT2RkJPfddx9/%2B9vf%2BO6773jyyScxm808/vjjhv0/%2BugjoqKiaNy4MV27duWLL76wbYuJiWHGjBn06tULs9lM%2B/bt2bJlCwB///vf2b17NwsXLuRvf/tbkTivXr3KxIkTGTJkCDExMZQtWxaTyUSDBg2YPn06VquV9PR0AH788UcGDRpE06ZNad26NS%2B%2B%2BCKXL1%2B2neu9996jbdu2mM1mRo8eTXZ2tm2b1WplxYoVREZGEh4eTs%2BePfnuu%2B9uXcJFRESkoEAsjYcdTp48SUJCAs8//zw%2BPj7UqFGD2NhYVq1aVWTfxMRELl68SIMGDYo913vvvcegQYOoUqUKZcuW5e9//zs7duwgMTHRrhivVaprEGfOnMlXX33FsmXLCA4OZtGiRQwYMIAtW7bg5eUFwKZNm4iPjycnJ4cOHToQGxvL0qVLqVKlCk899RQLFixg6tSpbN%2B%2BnYkTJzJ//nwaNWrEjh07iIuLY%2B3atYSGhgKwdu1ali5dSt26dZk7dy4vvPACbdu2ZfLkyZw6dYqmTZsSFxdXJM49e/aQnp5Ox44di2yrX78%2Bs2bNAgq6kH369KFr167Mnj2by5cv89xzzzFq1Cjmz5/Pl19%2Bycsvv8xbb71FkyZNWLt2LR988AEPPvggAO%2B%2B%2By5Lly5l/vz51KlThw8//JD%2B/fvz8ccfU6lSpRLlNDk5mZSUFMOYh4cvwcHBJf%2BLKSXu7m6Gr/IL5aZ4ysv1KTfFU16uT7kpfcX9DA4KCirRz%2BDDhw8TEBBA5cqVbWN16tThzJkzXLp0ifLly9vGDxw4gJ%2BfH88%2B%2BywHDhygUqVK9OvXj27dunH58mXOnTtHWFiYbf9KlSrh7%2B/Pjz/%2BeMvutfhdU8xTpkwxjFWpUoVNmzZGr51EAAAgAElEQVQZxqxWK2vWrGHWrFm2YIcMGcLatWv5/PPPiYyMBKB3794EBAQAEBoaSoMGDahTpw4AzZs355tvvgFg5cqV9OjRgyZNmgDQpk0bIiIiWLNmDRMmTAAgMjLSVm0/9thjLFiwgNTUVKpWrXrD15SWlgZw0yLt008/xdPTk%2Beeew53d3e8vb2ZMGECHTp0ICUlhY0bN/LXv/6V%2B%2B%2B/H4CePXvy3nvv2Y5ftWoVTz/9NPXr1wegW7durFu3jo0bNzJgwIAbXrtQfHw8c%2BbMMYwNGTKEYcOGlej426F8eR9Hh%2BC0lJviKS/Xp9wUT3m5PuWGUptiLu5n8NChQ4ttPv1aZmYmPj7Gv5vC51lZWYYCMScnh4YNG/Lss88SGhrK119/TVxcHH5%2BfpjNZgB8fX0N5/L29iYzM/N3va7i/OYCceLEiSVag5iWlkZWVhbDhw/H7Zq/qNzcXE6fPm17XlgcAri7u%2BPv72977ubmhtVqBeD06dMkJCSwevVq2/a8vDyaN29uex4UFGT7s4dHwUvLz8%2B/aayFx6WkpBRbTKakpBAUFGQrNt3d3W3bqlevbosvKSmJu%2B%2B%2B23DstZX86dOnmTZtGtOnT7eNWSwW7rnnnpvGWCg6OpqIiAjDmIeHLxcu3Lpvit/L3d2N8uV9uHQpm7y8m%2Bf9z0S5KZ7ycn3KTfGUl%2BtzttwEBvo5OoRbrrifwdfWHjfi6%2BtrWHYG2J77%2BRlz1aVLF7p06WJ73rJlS7p06cLHH39MixYtDMcWunLlSpHz2KPUppgDAwPx8vJiyZIlNGzY0DZ%2B7NgxQ3vVZDKV6HwhISF06dKFwYMH28bOnDmDt7e33bE2bNiQgIAAtmzZUmSh6KFDh%2BjcuTNr1qyhWrVqnDlzhry8PFuReOrUKaDgGyQkJKTI/P%2B5c%2BdsU%2BAhISEMGzaMDh062LafOnXKUCTfTHBwcJFWdkrKZSwWx/9nUCgvL9%2Bp4nEmyk3xlJfrU26Kp7xcn3JDqXUQi/sZXFKhoaGkp6dz/vx524zl0aNHCQkJoVy5coZ9161bh5%2BfH%2B3bt7eN5eTk4OXlhb%2B/P5UrV%2BbIkSO2aeaUlBTS09MN0872KrWFCm5ubnTr1o0ZM2Zw7tw58vPz2bBhAx07djTceFJS3bt3Z8WKFezfvx8omJ/v2rUrmzdvLtHxZcqUMdxM8utt48ePZ86cOaxatYrMzEzy8vLYvXs3w4cPJzIyErPZbFtLOH36dK5cuUJKSgqTJ0%2BmefPmVKtWjccff5xt27bx2WefYbFY2LBhA99%2B%2B63hNcyfP5%2BjR48CsHPnTjp06MCuXbt%2Bcz5ERETkOpzwJpVatWrRuHFjpkyZQkZGBomJicybN49u3boV2TcjI4NJkyZx8OBB8vPz%2Bfzzz9m8eTPR0dEAdO3alfnz55OYmEhGRgZTpkyhadOm1KxZ064Yr/W7ppgnTZpUZDw2NpZBgwYZxkaPHs3s2bPp2bMn6enp1KhRg1mzZl33rpwbeeSRR8jKymLcuHGcOXOGgIAA%2BvXrR0xMTImO79KlCy%2B%2B%2BCLfffcd7777bpHtUVFRBAYGsmTJEmbPns3Vq1epUqUKjz/%2BOP379wegXLlyLF26lFdeecVWLLZt25ZRo0YB0LhxY1599VVeeeUVnn32WZo3b84DDzxgu0a/fv2wWq3ExsaSnJxM5cqVbTfSiIiIiGubNWsWL7/8Mm3btsXNzY0uXboQGxsLgNls5qWXXqJTp0707duXrKwshg4dSmpqKjVq1GDatGmEh4cDBfceWCwWevXqRWZmJs2aNeONN964pbGarIWL/OQPKyWl%2BM7o7ebh4UZgoB8XLmRqeuNXlJviKS/Xp9wUT3m5PmfLTVBQuZvvVFqmTi2d844dWzrndUK6F15EREREDP40n8UsIiIifxJO%2BkkqfyQqEEVERMS1qEC0mzIoIiIiIgbqIIqIiIhrUQfRbsqgiIiIiBiogygiIiKuRR1Eu6lAFBEREdeiAtFuyqCIiIiIGKiDKCIiIq5FHUS7KYMiIiIiYqAOooiIiLgWdRDtpgJRREREXIsKRLspgyIiIiJioA6iiIiIuBZ1EO2mDIqIiIiIgTqIIiIi4lrUQbSbCkQRERFxLSoQ7aYMioiIiIiBOogiIiLiWtRBtJsyKCIiIiIG6iCKiIiIa1EH0W4qEEVERMS1qEC0mzIoIiIiIgbqIIqIiIhrUQfRbioQRURExLWoQLSbMigiIiIiBuogioiIiGtRB9FuKhBdQFCAt6NDMAgsW8bRIQCQkn7F0SE4raDg8o4OoYDZDHv2ENi2Fezd6%2BhoALDmWx0dgkFAgJ%2BjQ3BKzpSXzZsdHUEBf39o3RoOHPDj4kVHR1MgKsrREcjvpQJRREREXIs6iHZTgSgiIiKuRQWi3ZRBERERETFQB1FERERcizqIdlMGRURERMRAHUQRERFxLeog2k0FooiIiLgWFYh2UwZFRERExEAdRBEREXEt6iDaTRkUEREREQN1EEVERMS1qINoNxWIIiIi4lpUINpNGRQRERERA3UQRURExLWog2g3FYgiIiIit0FqaioTJkwgISEBd3d3OnXqxOjRo/HwKFqOrV69mmXLlpGcnExwcDB9%2BvShV69eAOTn59O4cWOsVismk8l2zH/%2B8x98fX1vSawqEEVERMS1OGkHccSIEVSuXJmdO3dy/vx5nnnmGZYtW8bAgQMN%2B23bto3XX3%2BdRYsWcd9997Fv3z4GDx5MpUqViIyM5MiRI%2BTm5rJnzx7KlClTKrGqQBQRERHXUkoFYnJyMikpKYaxoKAggoODb3rsyZMnSUhIYMeOHfj4%2BFCjRg1iY2N57bXXihSISUlJDBo0iIYNGwJgNptp1qwZu3btIjIykgMHDlCvXr1SKw5BBaKIiIhIicTHxzNnzhzD2NChQ4mLi7vpsYcPHyYgIIDKlSvbxurUqcOZM2e4dOkS5cuXt40XTiUXSk1NZdeuXYwdOxaAAwcOcPXqVR5//HFOnz5NnTp1GDlyJI0aNbLn5RmoQBQRERHXUkodxOjoaCIiIgxjQUFBJTo2MzMTHx8fw1jh86ysLEOBeK2UlBSefvpp7rnnHjp27AiAt7c3f/nLXxg%2BfDj%2B/v6sWrWKp556io0bN1KjRo3f%2BrKKpQJRREREpASCg4NLNJ1cHF9fX7Kzsw1jhc/9/PyKPWbfvn0MHz6c8PBwpk6daruZZcyYMYb9nnrqKd5//322b99O7969f1d8v%2BacqzhFREREfi83t9J52CE0NJT09HTOnz9vGzt69CghISGUK1euyP7r1q2jX79%2B9O3blxkzZhjWG86cOZODBw8a9s/JycHLy8uuGK%2BlAlFERERcixMWiLVq1aJx48ZMmTKFjIwMEhMTmTdvHt26dSuy79atW3nxxReZPXs2AwYMKLL9p59%2BYvLkyaSkpJCTk8OcOXPIyMjg4YcftivGa6lAFBEREbkNZs2ahcVioW3btnTv3p1WrVoRGxsLFNypvHHjRgDmzJlDXl4ew4YNw2w22x4vvPACAFOnTqVmzZp07tyZZs2akZCQwNKlSwkICLhlsWoNooiIiLgWJ30fxEqVKjFr1qxit%2B3du9f2502bNt3wPAEBAUydOvWWxvZrzplBEREREXEYdRBFRETEtThpB/GPRAWiiIiIuBYViHZTBkVERETEQB1EERERcS3qINpNGRQRERERA6fuICYnJ1O2bFl8fX0dHYqIiIj8UaiDaDenymBMTAyzZ88G4Pz580RGRpKWlnbbrv/FF18waNAgmjdvTuPGjencuTNr1qyx65wRERG8//77tyhCERERuSkn/CSVPxqnfbVXrlwhKyvrtl1v2bJlPPvss3Tq1InPP/%2BcXbt28fe//525c%2Bfy6quv3rY4RERERBzNKQvEvLw8OnbsCEDHjh3ZsmULAB999BFRUVE0btyYrl278sUXX9iOiYmJYdasWfTo0YOGDRvSqVMn9u/fz8iRI2nUqBERERF8/vnnxV4vKSmJ1157jZdeeomoqCi8vb1xc3OjadOmTJ06ldTUVHJzcwHYvXs3vXr1Ijw8nIiICN544w1ycnIAsFqtLFiwgJYtWxIeHs60adPIy8uzXScnJ4c333yTtm3b0rRpUwYNGsTJkydLI4UiIiJ/Xuog2s0p1yC6u7uzefNm2rZty%2BbNm6levTrbt29n4sSJzJ8/n0aNGrFjxw7i4uJYu3YtoaGhAMTHx7N8%2BXJq1qzJgAED6NmzJ2%2B88QavvPIKr7/%2BOpMmTeKhhx4qcr0dO3bg7u5e7Idct2zZkpYtWwJw7Ngx%2Bvfvz3PPPcfSpUs5e/YscXFxZGRkMH78eNavX8/y5ct5%2B%2B23CQ0NZc6cOZw7d852rpkzZ/LVV1%2BxbNkygoODWbRoEQMGDGDLli14eXmVKDfJycmkpKQYxoICAwkOCippev80PDyc5x%2Bzu7ub4avDmc2OjqBA/frGryJ/QP7%2Bjo6gQNmyxq%2BOdvGioyMQezhlgViclStX0qNHD5o0aQJAmzZtiIiIYM2aNUyYMAGAyMhI6tatC0B4eDiXLl2iXbt2ALRu3ZqlS5cWe%2B4LFy7g7%2B%2BPp6fnDWPYtGkT9erVo2/fvgDccccdjBw5kmHDhjFu3Dg%2B/PBDunfvzt133w3A8OHDWbt2LVDQXVyzZg2zZs2iRo0aAAwZMoS1a9fy%2BeefExkZWaI8xMfHM2fOHMPY0CFDiBs2rETH3xY3yePtEhjoHHFcq3x5H0eHUGDPHkdHYPTuu46OwMbk6AB%2BxeRsATkJZ8pL69aOjsCoUSNHR1DgJh8nXLr%2BZN2%2B0vCHKRBPnz5NQkICq1evto3l5eXRvHlz2/OAgADbn93d3fG/5tc6Nzc3rFZrsecOCgoiPT2dnJwcypQpY9iWn59Peno6FSpUIDU11VbcFapevTpXrlwhNTWV5ORkqlSpYoihatWqAKSlpZGVlcXw4cNxu%2BYbNzc3l9OnT5c4D9HR0URERBjjDwyE/02BO5ynp9PEciEjx9Eh2Li7u1G%2BvA%2BXLmWTl5fv6HAIbNvK0SEUqF%2B/oDjs2RMOHXJ0NABYv3Ge4tlkguv8t/Wn5mx52bnT0REUKFu2oDjcswcyMhwdjYOpQLTbH6ZADAkJoUuXLgwePNg2dubMGby9vW3PTb/zV8pWrVphtVr59NNPad%2B%2BvWHbZ599RlxcHJ9%2B%2BinVqlXjk08%2BMWw/deoUZcqUwd/fn5CQEBITE23brFYrycnJAAQGBuLl5cWSJUto2LChbZ9jx45RuXLlEscaHBxMcHCwcdBJCjJnY7E4vhD7tby8fOeIa%2B9eR0dgdOiQ88UkUkLONpWakeF8Mckfj9OW2IVr8jL%2B92tQ9%2B7dWbFiBfv37wfgwIEDdO3alc2bN9t9rUqVKjFs2DBefPFFNm/ezNWrV8nNzeXzzz9n/Pjx9O3blypVqtChQweOHj3K8uXLycnJ4dSpU7z%2B%2ButERUVRpkwZnnjiCdauXcvevXvJzc1l/vz5tvWCbm5udOvWjRkzZnDu3Dny8/PZsGEDHTt21I0qIiIit5JuUrGb03YQK1WqxMMPP0x0dDRjxoyhR48eZGVlMW7cOM6cOUNAQAD9%2BvUjJibmllxv8ODBVK1alVWrVjFp0iRyc3O54447GDFiBNHR0UDBdPLbb7/N66%2B/zuzZs/H29qZjx46MGDECKLjj%2BsKFCzz77LNcvHiRRx55hHr16tmuMXr0aGbPnk3Pnj1JT0%2BnRo0azJo1iwYNGtyS1yAiIiL86Yq50mCyXm9hnvxxONMUsxOtQUxJv%2BLoEGw8PNwIDPTjwoVMp5hiDgou7%2BgQCpjNBQumGjVymilma77z/JfobGvtnIWz5eUWTGTdEv7%2BBTfM7NjhPFPMUVEOuvDhw6Vz3v%2B9a8qfgdN2EEVERER%2BF3UQ7aYMioiIiIiBOogiIiLiWtRBtJsKRBEREXEtKhDtpgyKiIiIiIE6iCIiIuJa1EG0mzIoIiIiIgbqIIqIiIhrUQfRbioQRURExLWoQLSbMigiIiIiBuogioiIiGtRB9FuyqCIiIiIGKiDKCIiIq5FHUS7qUAUERER16IC0W7KoIiIiIgYqIMoIiIirkUdRLspgyIiIiJioA6iiIiIuBZ1EO2mAlFERERciwpEuymDIiIiImKgDqKIiIi4FnUQ7aYMioiIiIiBOogiIiLiWtRBtJsKRBEREXEtKhDtpgyKiIiIiIE6iCIiIuJa1EG0mzIoIiIichukpqYSGxtLeHg4zZo1Y/LkyVgslmL33b59O1FRUTRs2JD27dvz2WefGbYvWrSI1q1b07BhQ2JiYjh27NgtjVUFooiIiLgWN7fSedhpxIgR%2BPr6snPnTtatW8eXX37JsmXLiux34sQJ4uLiGD58OLt37yYuLo4RI0aQlJQEwIYNG3jnnXdYvHgxX3/9NXfffTfDhg3DarXaHWMhFYgiIiLiWkqpQExOTub77783PJKTk0sU0smTJ0lISOD555/Hx8eHGjVqEBsby6pVq4rsu2HDBsLDw2nXrh0eHh48%2BuijNGnShPj4eADWrl1Lz549CQ0NxcvLi5EjR3LmzBm%2B/vrrW5ZCrUF0BTk5jo6ggJsbeHqCxQL5%2BY6ORm7Amn/rfsu0lwmwfrPH0WHYmNxMjg6hgNkMe/ZgatwI9u51dDTOwwnzErVtm6NDKOBdDmhKa%2B8EyL3s6Gj%2Bp62jA7il4uPjmTNnjmFs6NChxMXF3fTYw4cPExAQQOXKlW1jderU4cyZM1y6dIny5cvbxo8cOUJYWJjh%2BLp163Lo0CHb9kGDBtm2eXp6UqtWLQ4dOkTz5s1/12v7NRWIIiIi4lKslM4vetHR0URERBjGgoKCSnRsZmYmPj4%2BhrHC51lZWYYCsbh9vb29ycrKKtH2W0EFooiIiEgJBAcHExwc/LuO9fX1JTs72zBW%2BNzPz88w7uPjw5UrVwxjV65cse13s%2B23gtYgioiIiEvJzy%2Bdhz1CQ0NJT0/n/PnztrGjR48SEhJCuXLlDPuGhYVx%2BPBhw9iRI0cIDQ21neva7bm5uZw4caLItLQ9VCCKiIiIS3HGArFWrVo0btyYKVOmkJGRQWJiIvPmzaNbt25F9u3UqRMJCQls2bIFi8XCli1bSEhIoHPnzgA8/vjjrFy5kkOHDnH16lVmzJhBpUqVCA8Pty/Ia6hAFBEREbkNZs2ahcVioW3btnTv3p1WrVoRGxsLgNlsZuPGjUDBzStz585l4cKFNGnShHnz5jF79mxq164NQLdu3ejXrx9DhgyhefPmHDx4kIULF%2BLp6XnLYtUaRBEREXEpzvpGGpUqVWLWrFnFbtv7q7vyW7VqRatWrYrd12QyMWDAAAYMGHDLYyykDqKIiIiIGKiDKCIiIi7FWTuIfyQqEEVERMSlqEC0n6aYRURERMRAHUQRERFxKeog2k8FooiIiLgUFYj20xSziIiIiBiogygiIiIuRR1E%2B6mDKCIiIiIG6iCKiIiIS1EH0X4qEEVERMSlqEC0n6aYRURERMRAHUQRERFxKeog2k8dRBERERExUAdRREREXIo6iPZTgSgiIiIuRQWi/TTFLCIiIiIG6iCKiIiIS1EH0X7qIIqIiIiIgTqIIiIi4lLUQbSfCkQRERFxKSoQ7acpZhERERExUAdRREREXIo6iPZTB1FEREREDNRBFBEREZeiDqL9HN5BfPHFF3nggQdITU01jFssFrp3787TTz%2BN1Wq9LbFcunSJ1157jcjISMxmMy1btuT5558nMTHxd5/zvffe4%2BGHH76FUYqIiMiN5OeXzuPPxOEF4tixY6lUqRJjx441jM%2BePZvz588zbdo0TCZTqceRlpZGly5d%2BPnnn1m4cCF79uxh48aN%2BPn5ER0dzdmzZ0s9BhERERFn4PAC0cvLi5kzZ7Jr1y7eeecdABISEli2bBlvvPEGAQEBAGRkZPDiiy/SunVr7r//fkaOHGnoOm7bto3o6Gjuv/9%2B7rvvPmJiYjh16hRQ0MV74okn6NevH%2BHh4WzZsqVIHG%2B88QblypVj5syZ1KpVC5PJRIUKFZg4cSKtWrXip59%2BAiA7O5tp06bx4IMP0qRJE2JiYvjuu%2B9s5zly5Ai9e/fGbDbTqVMnfvjhB8N1Dhw4QExMDE2aNOGvf/0ry5cvv20dUhERkT8DdRDt5xRrEO%2B8805eeOEFXnrpJcLDwxkzZgyjRo3iL3/5i22f0aNHk5OTwwcffECZMmWYMmUKw4YNY9WqVZw%2BfZoRI0Ywd%2B5cHnzwQdLS0oiNjWX%2B/PlMnToVgP379/Paa6/x1ltvkV/M3/K///1vYmJicHMz1swmk4lp06bZnk%2BYMIEjR46wcuVKKleuzMqVK%2BnXrx%2BbN2%2BmQoUKDB48mIiICJYsWcLx48cZNGgQXl5eAJw7d46%2BffsyatQoli5dyrFjx4iNjcXX15cnnniiRLlKTk4mJSXFMBZUtizBwcElS3ZpKuz0mkzg5vDfPfBwiu/uAu7uboav4sTMZkdHUKB%2BfeNXKeCMeSlXztERFPD1NX51tMuXHR2B2MFpfoQ%2B9thjfPnllzz55JO0a9eOXr162bYlJSWxbds2/vWvf1GhQgUAxo0bR9OmTTl06BB33nknW7ZsoWbNmmRkZHDu3DkqVKhAUlKS7Rze3t5ERUVdd7o6LS2NSpUq3TDG7OxsPv74YxYuXEiNGjUAGDBgAJs2beKjjz6iQYMGpKSk8Pzzz1OmTBnq1atHv379WL16NQAffPAB9evX58knnwQgLCyM/v37s2rVqhIXiPHx8cyZM8cwNnTIEOKGDSvR8beFt7ejIwAg0MfRERRVvrwTBuUEbsMqkpLbs8fRERi9%2B66jI3BOysv13XOPoyMo8OmnDrv0n63bVxqcpkAEGDp0KB9%2B%2BCHDhw83jJ8%2BfRqArl27GsY9PDz4%2BeefqVevHhs3biQ%2BPh53d3fCwsK4dOkS3tcUKkFBQTdcyxgUFFSkM1coLS0Nf39/0tPTsVgstuKwUPXq1Tl9%2BjQVK1akQoUKto4hQM2aNQ2vY//%2B/YSHh9vG8vPzKVOmzHXj%2BrXo6GgiIiKMsZctC9nZJT5HqTGZCorDK1fACabNL1xxnv8h3N3dKF/eh0uXssnLc3xcAQF%2Bjg7BxmRyim8XG1PjRo4OoUD9%2BgVFUM%2BecOiQo6NxHs6YlwULHB1BAV/fguLwu%2B8gK8vR0TiUCkT7OVWBWDi9%2B%2Btp3pCQEAA%2B%2BeQTWwfRarVy9OhRatasyaZNm1izZg2rV6%2B2FW8TJ07k5MmTtnPc7EaXNm3asHXrVgYPHmy4fn5%2BPv3796dRo0aMHz8eT09PTp06xR133GHb59SpUzRo0ICQkBBSU1PJzs7Gx6egU3Tu3DnbfpUrV%2BaBBx5g4cKFtrG0tDSyf0NxFxwcXHQ6OTPTOf41FObNanWKeCwWx8fwa3l5%2BU4Zl1xj715HR2B06JDzxeQMnCkvzjaVmpXlfDHJH84fYkFU1apVadmyJZMnTyY9PZ3c3Fzmzp3LE088weXLl7l8%2BTJubm54eXmRn5/P9u3b2bRpE7m5uSW%2BxtChQzl//jzPPfec7W1tzp07x5gxY0hNTeWpp57C3d2drl27MmPGDBITE8nJyWHJkiWcOHGCDh06EB4eTvXq1ZkyZQrZ2dkcP36cpUuX2q7RuXNndu3axUcffYTFYiEpKYmnn36aV1999ZbnTERE5M9KN6nY7w9RIALMmDEDHx8fOnXqRPPmzfnPf/7D4sWLqVixIt26daNp06Y8%2Buij3H///SxcuJA%2Bffpw7NixEheJlSpVYt26dfj5%2BdGnTx/MZrNtXeDq1aupXr06UPC2PPfffz99%2BvShWbNm/Otf/2Lx4sXUrFkTDw8PFi1axOnTp2nRogV/%2B9vfaNeune0aNWrUYNGiRaxatYoWLVrQpUsXQkNDmTx58q1PmIiIiMjvZLLqPVb%2B%2BDIzHR1BATc38PEpWA/pBL9qpWQ5PoZCHh5uBAb6ceFCplNMMVeq5CR3XeKEaxDdnOSOGbO54IaZRo2cZyrVGThjXrZtc3QEBcqVg6ZNISHBeaaY27Z1yGVL61vDWd7k4HZwqjWIIiIiIvZygh7FH94fZopZRERERG4PdRBFRETEpaiDaD91EEVERETEQB1EERERcSnqINpPBaKIiIi4FBWI9tMUs4iIiIgYqIMoIiIiLkUdRPupQBQRERFxsKysLCZNmsS///1vLBYLbdu2ZeLEifj5%2BRW7/9atW5k3bx6JiYkEBATQtWtXYmNjcXMrmBxu3749Z86csT0HWLduHXXq1ClRPCoQRURExKX8ETuIkyZN4uzZs2zdupW8vDxGjBjB9OnTmThxYpF9v/vuO0aNGsUbb7zBgw8%2ByPHjxxk0aBC%2Bvr4MGDCAjIwMjh8/zqeffkq1atV%2BVzxagygiIiIuJT%2B/dB7Jycl8//33hkdycrLd8WZnZ7Np0yaGDRtGQEAAFStW5LnnnuP9998nOzu7yP6nT5/mySefpE2bNri5uVGnTh0efvhhdu3aBRQUkAEBAb%2B7OAR1EEVERERKJD4%2Bnjlz5hjGhg4dSlxc3E2PvXLlCklJScVuy87OJjc3l7CwMNtYnTp1uHLlCidOnOCuu%2B4y7B8ZGUlkZKTh3J9//jlRUVEAHDhwAB8fH3r37s3hw4epVq0acXFxtGnTpsSvVQWiiIiIuJTSmmKOjo4mIiLCMBYUFFSiY7/99lv69OlT7Lbhw4cD4Ovraxvz8fEBIDMz84bnzcjIYPjw4Xh7e9OvXz8ATCYT9957L//3f/9H1apV%2Bec//0lcXBwrV66kYcOGJYpXBaKIiIhICQQHBxMcHPy7jm3WrBk//vhjsdsOHjzIm2%2B%2BSXZ2tu2mlMKp5bJly173nMeOHWPYsGFUrFiRFStW2PYdOHCgYb9OnTqxefNmtm7dWuICUWsQRURExKWU1hrE0lK7dm08PT05cuSIbcRqBcEAACAASURBVOzo0aN4enpSq1atYo/Zvn07TzzxBK1atWLx4sX4%2B/vbti1evJgvv/zSsH9OTg5eXl4ljkkFooiIiLiUP1qB6OPjQ/v27Zk%2BfTppaWmkpaUxffp0OnbsiLe3d5H99%2B3bx5AhQxg7diyjR4/Gw8M4IXz27FleeuklEhMTsVgsrFu3jr179/LYY4%2BVOCYViCIiIiIONnHiRGrVqkVUVBSPPPII1atX54UXXrBt79ChAwsWLABgwYIFWCwWJk%2BejNlstj0Kp5ZHjRpF69at6dmzJ//f3r3H5Xz3fwB/dT44VFRouJmhDSOHmvNETi1y6IA5bHPaJNuYGJMJDTEqY8w0hJzV5BRu29yRQw63ySH3SDqp0OFKV3X9/miu376rJl3y%2Bbqu1/Px6NH6fK%2BuXn3W5Xpf78/3%2B7k6duyI7du3Y926dfjXv/5V6Tx6KpVK9WJ/RXrpnnEC60ujrw%2BYmQEKhSw2ocrIF5/hKUNDfVhZ1UB2dh6KisTnsrauJTqCmp4eIKd/hfT09URHKOXgAFy4ALRvD8THi04jH3Kcl5gY0QlK1aoFODoCcXFATo7oNKV69xbyYw8frp77/cuFw1qPF6kQERGRVpFBj%2BKVxyVmIiIiIpJgB5GIiIi0CjuImmMHkYiIiIgk2EEkIiIircIOouZYIBIREZFWYYGoOS4xExEREZEEO4hERESkVdhB1Bw7iEREREQkwQ4iERERaRV2EDXHApGIiIi0CgtEzXGJmYiIiIgk2EEkIiIircIOoubYQSQiIiIiCXYQiYiISKuwg6g5FohERESkVVggao5LzEREREQkwQ4iERERaRV2EDXHDiIRERERSbCDSERERFqFHUTNsUAkIiIircICUXNcYiYiIiIiCXYQiYiISKuwg6g5dhCJiIiISIIdRCIiItIq7CBqjgUiERERaRUWiJrjEjMRERERSbCDSERERFqFHUTNsYNIRERERBLsIBIREZFWYQdRcywQiYiISKuwQNQcl5iJiIiISIIdRCIiItIq7CBqjh1EIiIiIpJgB5GIiIi0CjuImmOBSERERFqFBaLmuMRMRERERBLsIBIREZFWYQdRc%2BwgEhEREZEEO4hERESkVdhB1BwLRCIiItIqLBA1xyVmIiIiIpJggViO%2BfPno2vXrsjMzJSMFxUVwdPTE5MmTYJKpRKUjoiIiP5JSUn1fFSn/Px8zJ49G05OTujQoQNmzpyJvLy8Cm/v7%2B%2BP1q1bw8HBQf0RERGhPr5%2B/Xr06NED7dq1w%2BjRo3H79u3nysMCsRyzZ8%2BGtbU1Zs%2BeLRkPCQnBgwcPsGTJEujp6QlKR0RERP/kVSwQAwICkJKSgsOHD%2BPIkSNISUlBUFBQhbe/cuUKAgICEB8fr/7w8vICAOzduxebN2/Ghg0bcObMGbRq1Qq%2Bvr7P1dxigVgOExMTfPvttzh79iw2b94MAIiLi0NYWBhWrlwJS0tL5ObmYv78%2BejRowc6d%2B6M6dOnSzqOMTEx8PLyQufOndG2bVuMHj0ad%2B/eBQDs3LkTHh4eGDduHDp27Ijo6GghvycRERGJp1AoEBUVBV9fX1haWqJu3bqYMWMG9uzZA4VCUeb2hYWFuHHjBlq3bl3u/e3YsQMjR45E8%2BbNYWJigunTp%2BP%2B/fs4c%2BZMpTPxIpUKvP7665g3bx6%2B/vprdOzYEbNmzcLMmTPx9ttvAwD8/PxQWFiIffv2wdjYGIsXL4avry/Cw8ORnJyMTz/9FKtXr0bPnj2RlZWFTz75BGvWrEFgYCAA4PLly1i2bBnWrVuHkud4WZKeno6MjAzJmE3NmrC1tX1xv3xVPe2q6ukB%2BuJfexjK6K/bwEBf8plkzMFBdIJS9vbSz1RKjvNSq5boBKXMzaWfRcvJEfajq6vbV%2B5zsI1NpZ6DCwoKkJaWVu4xhUIBpVKJFi1aqMeaNWuGgoIC/PHHH3jzzTclt09ISEBRURGCg4Nx/vx51KpVC8OGDcP48eOhr6%2BPW7duYcKECerbGxkZoUmTJkhISMA777xTqd9VRk%2Bh8jNkyBDExsbC29sbffr0wahRowAAaWlpiImJwdGjR1GnTh0AwJdffglHR0ckJCTg9ddfR3R0NBo3bozc3FykpqaiTp06kj8MU1NTuLm5PfdSdUREBEJDQyVjPlOmYKqvr4a/7Qtkaio6AQDAykx0grJq15ZhKBmQ1RkbFy6ITiC1davoBPLEealYBV2ll%2B7YMdEJXrhyn4N9fDB16tRnfu%2BlS5cwZsyYco9NmzYNAGD%2Bl%2BLezKz0%2BaK88xBzcnLg6OiI0aNHY8WKFbh27RqmTJkCfX19jB8/Hnl5eervf8rU1BT5%2BfnPzPkUC8Rn8PHxwf79%2B9X/8wAgOTkZADB06FDJbQ0NDXHv3j20bNkSkZGRiIiIgIGBAVq0aIHHjx/D9C%2BFk42NTZXOY/Ty8oKzs7NkzKZmTaCcFvRLp6dXWhwWFAAyuIgnu0A%2B%2BxwYGOijdm0zPH6sQHGx%2BFyWljVER1DT05PFn4uaXof2oiOUsrcvLYJGjgQSEkSnkQ85zsvataITlDI3Ly0O//tf4DkKAW1UXR3Ecp%2BDbWwq9b1OTk64fv16ucd%2B//13rFq1CgqFAjVqlP77/HRpuWbNmmVu37VrV3Tt2lX99dtvv42xY8ciOjoa48ePh5mZGQoKCiTfU1BQoL7vymCB%2BAz6fy6V6v9lybR%2B/foAgCNHjqg7iCqVComJiWjcuDGioqKwfft2bNu2DY0aNQJQerXRnTt31PdR1YtcbG1ty7ay8/LksenT0zlSqWSRp6hIfIa/Ky4ukWUu%2Bov4eNEJpBIS5JdJDuQ0LwKXUsuVny%2B/TC9ZdT0Flfsc/AI0bdoURkZGuHXrFtq2bQsASExMVC8N/11MTAwePHgAb29v9VhhYaG6EdW8eXPcvHkTvXr1AgAolUr88ccfkiXsZ%2BEJUVVgZ2eHbt26YdGiRXj48CGUSiVWr14NDw8P5OTkICcnB/r6%2BjAxMUFJSQlOnjyJqKgoKJVK0dGJiIhIZszMzDBgwAAEBQUhKysLWVlZCAoKwnvvvSdZfXxKpVIhMDAQsbGxUKlUiI%2BPx6ZNm9RXMQ8bNgxbtmxBQkICnjx5guXLl8Pa2hodO3asdCZ2EKto%2BfLlCAoKwqBBg5CXl4cWLVpgw4YNqFu3LoYPH474%2BHgMHDgQBgYGaNasGcaMGYOIiAgWiURERNVMBotYz83f3x9LliyBm5sblEolevfuja%2B%2B%2Bkp93NXVFW5ubpg8eTJcXFwwe/ZszJ8/H2lpabC2tsbUqVMxePBgAMDw4cORk5ODKVOmICsrC23atMH3338PIyOjSufRU3HH51ffP2yk%2BVLp6wNmZqXnQ8rg0ZmRLz7DU4aG%2BrCyqoHs7DxZLDFbW8vkqkvI8BxEfZlcMePgUHrBTPv28llKlQM5zktMjOgEpWrVAhwdgbg4%2BSwx9%2B4t5MfOmVM997toUfXcrxyxg0hERERaRQY9ilceC0QiIiLSKiwQNceLVIiIiIhIgh1EIiIi0irsIGqOHUQiIiIikmAHkYiIiLQKO4iaY4FIREREWoUFoua4xExEREREEuwgEhERkVZhB1Fz7CASERERkQQ7iERERKRV2EHUHAtEIiIi0iosEDXHJWYiIiIikmAHkYiIiLQKO4iaYweRiIiIiCTYQSQiIiKtwg6i5lggEhERkVZhgag5LjETERERkQQ7iERERKRV2EHUHDuIRERERCTBDiIRERFpFXYQNccCkYiIiLQKC0TNcYmZiIiIiCTYQSQiIiKtwg6i5thBJCIiIiIJdhCJiIhIq7CDqDkWiERERKRVWCBqjkvMRERERCTBDiIRERFpFXYQNccCUQuozGuIjqCmB0BlaiY6Rqn8HNEJZOvnn0UnKGVhAfToAfz6K/Dokeg0pdxiYkRHKFWrVunntWuBHP4tq8lxXvr0EZ2glIMDcOECMHkyEB8vOk0plUp0AqoiFohERESkVdhB1BwLRCIiItIqLBA1x4tUiIiIiEiCHUQiIiLSKuwgao4FIhEREWkVFoia4xIzEREREUmwg0hERERahR1EzbGDSEREREQS7CASERGRVmEHUXMsEImIiEirsEDUHJeYiYiIiEiCHUQiIiLSKuwgao4dRCIiIiKSYAeRiIiItMqr2EHMz89HQEAAjh8/jqKiIvTu3Rv%2B/v6oUaNGmdvOmzcPUVFRkrGCggJ06dIFGzZsQElJCTp06ACVSgU9PT31bU6dOgVzc/NK5WGBSERERFrlVSwQAwICkJKSgsOHD6O4uBiffvopgoKC4O/vX%2Ba2CxYswIIFC9Rf//bbb5g%2BfTpmzZoFALh16xaUSiUuXLgAY2PjKuXhEjMRERGRQAqFAlFRUfD19YWlpSXq1q2LGTNmYM%2BePVAoFP/4vVlZWZgxYwbmzJmD5s2bAwCuXLmCli1bVrk4BNhBJCIiIi1TXR3E9PR0ZGRkSMZsbGxga2v7zO8tKChAWlpauccUCgWUSiVatGihHmvWrBkKCgrwxx9/4M0336zwfoOCgtC6dWsMGjRIPXblyhU8efIEw4YNQ3JyMpo1a4bp06ejffv2z8z5FAtEIiIiokqIiIhAaGioZMzHxwdTp0595vdeunQJY8aMKffYtGnTAEByfqCZmRkAIC8vr8L7TEpKQmRkJHbu3CkZNzU1xdtvv41p06bBwsIC4eHh%2BOijjxAZGYlGjRo9MyvAApGIiIi0THV1EL28vODs7CwZs7GxqdT3Ojk54fr16%2BUe%2B/3337Fq1SooFAr1RSlPl5Zr1qxZ4X3u3r0bDg4OZTqMT89FfOqjjz7Cnj17cPLkSbz//vuVyssCkYiIiLRKdRWItra2lVpOfl5NmzaFkZERbt26hbZt2wIAEhMTYWRkhCZNmlT4fUeOHMGHH35YZvzbb79Fv3798NZbb6nHCgsLYWJiUulMvEiFiIiISCAzMzMMGDAAQUFByMrKQlZWFoKCgvDee%2B/B1NS03O/Jzs5GYmIiOnXqVObYjRs3sGjRImRkZKCwsBChoaHIzc2Fi4tLpTOxQCQiIiKtUlJSPR/Vyd/fH02aNIGbmxv69%2B%2BPhg0bYt68eerjrq6uWLt2rfrre/fuAQDq1atX5r4CAwPRuHFjDB48GE5OToiLi8PGjRthaWlZ6TxcYiYiIiISrGbNmggICEBAQEC5xw8cOCD5uk2bNhWe02hpaYnAwECN8rBAJCIiIq3yKm6ULTcsEImIiEirsEDUHM9BJCIiIiIJdhCJiIhIq7CDqDl2EImIiIhIgh1EIiIi0irsIGqOBSIRERFpFRaImuMSMxERERFJ6HSB%2BOGHH8LHx6fcYzt27ECXLl1QWFhY4fffuXMHLVu2RGpqanVFJCIiouf0Kr6TitzodIE4evRonDhxAhkZGWWObdu2Dd7e3jA2NhaQjIiIiEgcnS4Qe/bsCTs7O%2Bzdu1cyfvHiRdy8eRPe3t64efMmJk6ciJ49e%2BLtt9%2BGq6srTp48Wea%2BioqK0LJlS5w7d049tnPnTskbY1%2B5cgWjR49Gp06d0LdvX/z0009QqVTV9wsSERHpIHYQNafTF6no6%2Btj5MiR2Lp1KyZMmAA9PT0Apd3D/v37w9bWFqNHj0b//v3x3XffoaSkBEuXLsXXX3%2BN48ePP9fPSk1NxdixYzFz5kxs3LgRt2/fxieffAJzc3N4eHhU%2Bn7S09PLdDytrW1ga2v7XHl0gaGhfF7/GBjoSz6LZmEhOkGpmjWln2XBtJboBKXMzaWfqZQc58XBQXSCUvb20s%2BixccL%2B9G6VsxVB50uEAFg%2BPDhCA4OxunTp9G5c2c8fPgQBw8exJYtWwAAP/zwA%2BrVq4eSkhIkJyejdu3aSE9Pf%2B6fs2/fPtjb28Pb2xsA0KJFC3zwwQcIDw9/rgIxIiICoaGhkrEpU3zg6zv1uTNVlz/rbOGsrGqIjlBG7dpmoiMAAHr0EJ1Aqn170Qn%2BylF0AKnWrUUnkCc5zcuFC6ITSG3dKjpBKbk8GVCV6HyBWKtWLQwaNAg7d%2B5E586dsXv3brz11lt4%2B%2B23AQC///47Pv74Yzx48ADNmjWDlZUVSqrw0iQ5ORmXL19Gx44d1WMlJSXPfY6jl5cXnJ2dJWPW1jaQy0q1nh5kk%2BXhwzzREdQMDPRRu7YZHj9WoLhY/EvbK1fkUTzXrFlaHF64AOTmik5TqodpnOgIpczNS4ug//4XyM8XnUY%2B5DgvkyeLTlDK3r60OBw5EkhIEJ1GKHYQNafzBSJQerHKkCFDkJ2djR07dsDX1xcAkJKSgk8//RRr165Fz549AQDR0dHlLi8bGBgAAJRKpXosOztb/d/16tVD165d8f3336vHsrKyoFAoniurra1tmeVkuRRkclNUJL9/IYqLS2SR69Ej0QmkcnNllEmZIzqBVH4%2BkCOzTHIgp3kRuJRaroQE%2BWWiV448TogS7I033kCHDh3wzTffQKFQoG/fvgCAvLw8lJSUwPzPc11u3ryJNWvWoLi4uEwXUU9PD02bNsWhQ4dQVFSEP/74A7t371YfHzx4MM6ePYsDBw6gqKgIaWlpmDRpEpYuXfryflEiIiIdwItUNMcC8U/vv/8%2B9u3bhxEjRsDIyAhAaeE4ffp0fPbZZ%2BjQoQM%2B/fRTDB8%2BHAYGBrhx40aZ%2B/j6669x5coVdOrUCdOnT8fw4cPVxxo1aoT169cjPDwcXbp0gbu7O5o3b45Fixa9tN%2BRiIhIF7BA1JyeivusvPLk9H9QTucgPnggk%2BUnlF5RbWVVA9nZebJYYj59Wh5X6lpYlF4w88sv8llidjM/JjpCqVq1AEdHIC5OPkupciDHeenTR3SCUg4OpSf0tm8vnyVmQU8IzZtXz/3evFk99ytHPAeRiIiItIqudfuqA5eYiYiIiEiCHUQiIiLSKuwgao4FIhEREWkVFoia4xIzEREREUmwg0hERERahR1EzbGDSEREREQS7CASERGRVmEHUXMsEImIiEirsEDUHJeYiYiIiEiCHUQiIiLSKuwgao4FIhEREWkVFoia4xIzEREREUmwg0hERERahR1EzbGDSEREREQS7CASERGRVmEHUXMsEImIiEirsEDUHJeYiYiIiEiCHUQiIiLSKuwgao4dRCIiIiKSYAeRiIiItAo7iJpjgUhERERahQWi5rjETEREREQS7CASERGRVmEHUXPsIBIRERGRBAtEIiIi0iolJdXz8TIoFAp4eXlhz549/3i7S5cuwcPDAw4ODnB2dsbOnTslx/fu3QsXFxe0a9cOQ4cORXx8/HPlYIFIREREWuVVLRBv3ryJUaNG4eLFi/94u0ePHmHixIlwd3fH2bNnsWjRIgQGBuLy5csAgDNnziAgIADffPMNzp49i0GDBuHjjz%2BGQqGodBYWiERERESCxcbGYuzYsRgyZAjs7Oz%2B8bZHjhyBpaUlRo0aBUNDQ3Tu3Blubm4IDw8HAOzcuROurq7o0KEDjIyMMG7cOFhZWSE6OrrSeXiRChEREWmV6ur2paenIyMjQzJmY2MDW1vbZ35vQUEB0tLSyj1mY2MDe3t7nDhxAiYmJti4ceM/3tfNmzfRokULydgbb7yBXbt2AQBu3bqFYcOGlTmekJDwzJxPsUDUAnp6ohOUSk9PR0REBLy8vCr1YKluNja1REdQS09PR0jIj7KZGzc30QlKlc6LfP5mSvUWHQDAn4%2BnkBCZzY14spwXlUp0AgB/mZtDh%2BQzN4JU1/%2BSkJAIhIaGSsZ8fHwwderUZ37vpUuXMGbMmHKPrV69Gn369Kl0jry8PJiZmUnGTE1NkZ%2BfX6njlcECkV6YjIwMhIaGwtnZWef/cfo7zk35OC8V49yUj/NSMc5N9fPy8oKzs7NkzMbGplLf6%2BTkhOvXr7%2BQHGZmZsjJyZGMFRQUoEaNGurjBQUFZY5bWVlV%2BmewQCQiIiKqBFtbW1kU3y1atMCpU6ckY7du3ULz5s0BAM2bN8fNmzfLHO/Ro0elfwYvUiEiIiJ6hbi4uODBgwcICwuDUqnE6dOnERUVpT7vcPjw4YiKisLp06ehVCoRFhaGzMxMuLi4VPpnsEAkIiIikjlXV1esXbsWAGBlZYUff/wRhw4dgpOTE%2BbOnYu5c%2BfinXfeAQB07twZ/v7%2BmD9/PhwdHXHgwAGsX78elpaWlf55eiqVTM6upVee3C5SkRPOTfk4LxXj3JSP81Ixzg29SCwQiYiIiEiCS8xEREREJMECkYiIiIgkWCASERERkQQLRCIiIiKSYIFIRERERBIsEImIiIhIggUiEREREUmwQCQiIiIiCRaIRERERCTBApGIiIiIJFggkkZ27NgBNzc3ODk54f79%2B/D19UVeXp7oWLKQlZWFsLAwLFq0CLm5uThx4oToSLJQWFiIo0ePIiwsDAqFAgkJCaIjycbu3bsxZMgQdO3aFSkpKfjss8%2BQn58vOpZwBw8eRGFhoegYRDqFBSJVWVhYGDZs2IDRo0ejuLgYNWrUQHp6OgIDA0VHE%2B7q1avo378/Dh06hF27diE7OxvTpk3D7t27RUcT6u7duxg4cCAWLlyIVatWITU1FcOGDWPxDGDTpk34/vvv4eHhgSdPnsDMzAzJycl8PAHw9/eHnp6e6BiyxBcVVF1YIFKVbdu2Dd999x08PT2hr68PCwsLBAcH88keQGBgIGbNmoXt27fD0NAQjRo1wurVq7FhwwbR0YRatGgRhg4din//%2B98wNDRE06ZNsXDhQgQHB4uOJlx4eDi%2B%2B%2B47jBw5Evr6%2BrC0tERISAiOHz8uOppwrVq1wpEjR0THkB2%2BqKDqxAKRqiw7OxtNmzYFAKhUKgBA3bp1UVRUJDKWLNy4cQODBw8GAHXno3v37khLSxMZS7iLFy9i/Pjx0NPTU8/L4MGDkZSUJDiZeNnZ2WjWrBmA/388WVtb8/EEIC8vDzNmzICDgwP69u2Lfv36qT90GV9UUHUyFB2AXl329vaIiIjAiBEj1E/20dHRaN68ueBk4tWpUwe3b9%2BWzMXt27dhbW0tMJV4tWrVwoMHD2BnZ6cey8jIgIWFhcBU8tCyZUvs2rULHh4e6sfT4cOH8cYbbwhOJp6Hhwc8PDxEx5Advqig6sQCkarMz88P48aNw/79%2B5Gfn48JEybg4sWL%2BOGHH0RHE27kyJGYNGkSJk%2BejKKiIkRHR2PNmjXw8vISHU0oNzc3%2BPj4YPr06SgpKcHly5exbNkyuLq6io4m3MyZMyWPp8mTJ%2BPcuXNYv3696GjCVVQcFhcXv%2BQk8sIXFVSd9FRPX3YQVUFaWhoiIyNx//591K9fH25ubpLukC4LDw/H1q1bkZycjHr16sHLywvjxo2Dvr7untmhVCqxYsUKbN%2B%2BHQqFAiYmJhg%2BfDj8/PxgbGwsOp5wqamp2LdvH%2B7fv4969eph0KBBaNSokehYwiUlJWHNmjVIS0tTd8qUSiVu376NU6dOCU4nzpUrVzBu3Di8%2BeabuHjxIrp166Z%2BUeHg4CA6Hr3iWCASkRBZWVmwsrLi1an0TGPGjIFSqUSdOnWQmZkJe3t7REVFYezYsfD19RUdTyi%2BqKDqwgKRnpuzs/Mzn9SPHTv2ktLIS2ho6DNv4%2BPj8xKSyMu%2BffueeRt3d/eXkER%2B%2Bvbt%2B8zH0%2BHDh19SGnlycHDAiRMncP/%2BfQQHB2Pt2rU4efIk1q9fjy1btoiOR6SVeA4iPbepU6cCKN3r79ixY/jggw/QuHFjpKSkYOPGjejdu7fghOKcOXMGAFBQUIArV67grbfeQsOGDZGWloZLly6ha9eughOK8XQbm5KSEqSlpcHS0hJ2dnZIT09HRkYG7O3tdbZAnDBhAgAgISEBMTExGDduHBo1aoTU1FSEhYXBxcVFcELxzMzMYGlpCSMjI9y4cQMA0KNHD8yaNUtwMrH%2B6cWFrr%2BoIM2xQKTnNmTIEADAxo0b8cMPP6ivogOALl26YOLEifDz8xMVT6jNmzcDAGbNmoWhQ4dixIgR6mN79%2B7V2b3cnm67sWTJEhgbG2PatGnqczG/%2B%2B473Lt3T2Q8oZ5egOHu7o4ffvhBcuV7165d8fHHH%2Bvs4%2Bmpxo0b49dff0X37t1RVFSE5ORkGBsb6/zVuk9fXDyVnZ2N3bt3w9PTU1Ai0iZcYqYqc3BwQFxcHIyMjNRjBQUF6Ny5M%2BLj4wUmE699%2B/Y4d%2B6c5IKU4uJidOzYUafnxtHREadOnZL8zRQVFcHJyQnnz58XmEw8BwcHnD17FoaG//%2B6nY%2BnUjExMfj8889x4MAB7N%2B/X70BvaOjI5YuXSo6nqz88ccf%2BOKLL7Bz507RUegVp7uXU5LGWrdujSVLlqjfI1WhUCAgIAAdOnQQnEy8OnXq4OzZs5Kx3377Dba2toISyYOJiQkSExMlY//9739Ru3ZtQYnko3Xr1li2bJn68fTkyRMsXrwY7du3F5xMvD59%2BuDQoUNo0KABfHx8MHPmTEycOBELFy4UHU12GjVqhNu3b4uOQVqAHUSqstu3b2PSpElISUmBlZWV%2Bp1V1q1bhwYNGoiOJ9TOnTsREBCAfv36wc7ODklJSYiJicGSJUswYMAA0fGEWbt2LTZv3gwPDw/1vOzYsQO%2Bvr4YNWqU6HhCJSYmYuLEiXjw4AHq1KmDBw8eoFGjRli/fj1ee%2B010fFk4fr167h37x569OiBnJwc1KlTR3QkoS5cuCD5WqlU4tChQ7h8%2BbLOv%2B87aY4FImmkqKgI8fHxSEtLQ/369dG%2BfXud3ufvr2JjYxEZGYn09HTUr18fw4YNYzcIwK5duxAZGYm0tDQ0aNAAHh4e3Cj7T0qlEufOnVPPTceOHWFgYCA6lnBZWVnw9fVFfHw8jI2NsWvXLnh6euLHH39E27ZtRccTxt7evsxY06ZNsWDBAnTq1ElAItImLBBJI6mpqYiKikJycjJsbGzg5uaGxo0bi44lG5mZmeq50fWu6t9lZmbCaGw50wAAFQxJREFUwsJCcs6drktLS0N0dLT6b8bV1RUNGzYUHUu4GTNmwNTUFLNmzUKvXr1w9uxZhIaGIjY2FuHh4aLjCfP3d5Lhiwl6kVggUpU93cX/9ddfR8OGDXH37l0kJiZiw4YNOn8eYm5uLvz8/NRX7wJA586dsXLlSp0%2B366wsBBBQUHYuXMnCgoKYGxsjEGDBuGrr77S%2BXdSuXr1qnqLm6ePpzt37uDHH3/U%2BXfF6Nq1K44ePQpzc3M4OjoiLi4OSqUSXbp0KXOury5IS0t75m3q1av3EpKQNuNLd6qyZcuWYdq0aRgzZox67KeffkJQUBC2bdsmMJl4y5cvR15eHn7%2B%2BWc0bNgQd%2B7cweLFi7Fs2TIEBASIjifMmjVrcObMGaxcuVJdBH377bdYuXIlZs6cKTqeUEuXLsUnn3yCDz74QD32448/IigoSKe7ZABgaGiIwsJCmJubq99qLz8/H%2Bbm5oKTidGzZ88K9z9UqVTQ09PDtWvXXnIq0jbsIFKVOTk54dSpU5IlQqVSiXfeeUfntyx59913sXv3btStW1c9lpGRgUGDBiE2NlZgMrH69OmDjRs3St4K7O7duxg1ahR%2B/fVXgcnE4%2BOpYvPnz0dKSgrmzp2LYcOG4ciRIwgICIC5ublOvuC6e/fuM2/DU31IU7yagKrMzMwMKSkpkrGUlBRYWFgISiQfCoUCtWrVkozVrl0bJSUlghLJw6NHj8qci9mgQQMUFBQISiQfZmZmZZYOU1NT%2BXhC6TmIhoaGcHFxwePHj9G5c2c8fvwYX3zxhehoQjRu3PgfPxQKheiIpAVYIFKVDRw4EFOnTsWvv/6K//3vfzh58iR8fX0xcOBA0dGEa9u2LVatWqVeDlOpVFi1ahXatGkjOJlYLVu2xPbt2yVj27dvR4sWLQQlko8BAwZg6tSpiI2NRVJSEk6dOoVp06ahf//%2BoqMJM3nyZOTk5KBmzZpYvXo1fvnlF2zbtg3Hjx/H%2BvXrdfp8XgD45Zdf0KdPH7Rp0watW7dG69at8eabb2LYsGGio5EW4BIzVdmTJ0/g7%2B%2BPAwcOQKlUwsTEBMOGDYOfnx9MTExExxPq%2BvXrGDNmDIyNjfHaa68hOTkZenp62Lhxo%2BStCXXNuXPn8OGHH8Le3h6NGjXC3bt3cevWLWzYsEHntwAqKCjA3LlzcejQIRQVFcHIyAhDhgzBnDlzdPbx5OnpiczMTAQHB6NVq1ai48iOm5sbnJycYGFhgRs3bmDAgAFYs2YNPD09MXr0aNHx6BXHApE0VlhYiEePHsHa2rrCE6d10cOHD3Hs2DFkZmbitddeQ8%2BePVGzZk3RsYT73//%2Bh6ioKDx48AANGzaEq6srN4L%2Bi4KCAjx8%2BBC2trY6v6docXExgoODsWnTJvj5%2BcHb21t0JFlp27Ytzp07h%2BTkZHz11VfYvHkzbt68ic8//xxRUVGi49ErjgUiVUlKSgquX7%2BOd999FwBQUlKCr7/%2BGhMmTOC%2BbQAeP34sWf66dOmSTm/o%2B1RxcbFkr7a0tDRux4HSebh%2B/Tp69OgBoPTxtGjRIowfP577ZwKIi4vD7Nmz0b59e0ybNk1SONvZ2QlMJta7776LEydOQKlU4t1338V//vMfAECnTp10cvsferF0%2B%2BUpVUlSUpL6SsKnHj16hCtXrsDb2xtJSUkC04lVXFyMzz77DF999ZV67MGDB/Dy8sKnn35aZmNbXRIUFIS5c%2Beqv87KyoKzszOWLVsmMJV4SUlJGDp0KA4ePKgee/ToEc6dOwdPT0/cu3dPYDp5cHR0xOrVq3H06FG4uLigd%2B/ecHZ2Ru/evUVHE6ply5YICQkBANStWxe//fYbzp07p7OnJNCLxQKRnltISAgGDhyIxYsXq8esrKywZ88edO/eHaGhoQLTibVhwwbcunULU6ZMUY9ZW1tj3759uHbtGsLCwsSFEygiIgKRkZFwc3NTj1lZWSE4OBh79%2B7Fzp07BaYTKyQkBH379kVgYKB6zMrKCvv27UPnzp11%2BvH0VHh4OEaMGIF%2B/frhyJEjiImJwbFjxxATEyM6mhBKpRJA6dXd0dHRSE9Ph4%2BPDyZOnIjRo0dj3LhxYgOSdlARPafu3burHj58WO6x1NRUVY8ePV5yIvkYOHCg6tq1a%2BUeO3v2rMrV1fUlJ5IHd3d3VVxcXLnHTpw4oRoyZMhLTiQf3bt3V2VnZ5d7LCUlRacfT5mZmapJkyapHBwcVHv37hUdRza6dOmiCgkJUWVkZEjGU1JSVLdu3RKUirQNO4j03PLy8ircm61evXrIycl5yYnkIy0tDfb29uUea9%2B%2BfZl9I3XFvXv30KlTp3KPdevWrVIb/2qrvLw8WFpalnusfv36Ov14GjRoENLS0rB79264u7uLjiMb06ZNw/Hjx9GrVy/4%2Bfnh6tWrAEr/XnR5lwR6sVgg0nOzsbGp8An97t27FT7Z6QITExPk5eWVe%2Bzpew/roqdvlVaekpISyYUrusba2rrC83aTkpJ0%2BvHk4uKCiIgING3aVHQUWfH09MSePXuwefNm6OnpYeTIkRgxYgQOHjyo0%2Bc504vFApGeW9%2B%2BfbF8%2BXL1JtBPqVQqfPvtt%2BorMXVRhw4dsG/fvnKP7d%2B/H2%2B99dZLTiQPbdq0qfB8saNHj%2Bp018PFxQUrVqwo99jKlSvRrVu3l5xIPvz9/XX2RVVltGvXDt988416w%2ByVK1eid%2B/eWLdunehopAW4zQ09t9zcXAwdOhSmpqYYMGAArK2tkZGRgSNHjuDRo0fYtWuX5D2Idcnly5cxduxYTJ06Fa6uruq5iY6ORkhICFavXo0uXbqIjvnS/fbbb5g%2BfToWLFiAPn36wMDAAEVFRTh27Bj8/f0xb948nX0HnpycHLi7u6N27doYMGAAbGxskJGRgUOHDiEzMxO7du2CjY2N6Jj0Cnj48CG%2B%2BeYb7N%2B/H9euXRMdh15xLBCpSrKzsxEcHIwTJ04gKysLNjY26NWrFz755BPUqVNHdDyhDh06hPnz5%2BPRo0fqMUtLS8yZMwfvvfeewGRihYWFISgoCIaGhrCwsMDDhw9RUlKCqVOnYuLEiaLjCZWVlYWVK1fi%2BPHjyM7OVj%2BefHx8dPbFFlXemTNnsGPHDsTExKBDhw4YNWqUzm8BRJpjgUhUDQoLC3H%2B/Hn1k327du1gZGQkOpZw6enp%2BOWXX5CVlQVbW1t0796dBRBRFWRmZmLPnj3YtWsXMjIyMGjQIIwePVqnT9egF4sFIhER0Stk6tSpOHHiBOzs7DBy5EgMHz6cb%2BNJL5yh6ABERERUefn5%2BQgNDUXPnj2hp6cnOg5pKXYQiYiIiEiC29wQEcnAwYMHK9wrkojoZWMHkTRy%2BvRppKWlqfdEVCqVuH79OubOnSs4mVgff/wx1qxZU2b8/fffx5YtWwQkIrlzdHTEqVOneDETEckCz0GkKlu4cCG2b9%2BOGjVqAACKi4uRl5eH7t27C04mxr1799SbZP/2228IDQ2VHM/NzcX169dFRJONkydPYuHChUhOTi6z0bqu79vWqlUrHDlyBK6urqKjEBGxQKSqO3jwILZs2QKFQoHIyEgsXrwYS5YsQX5%2BvuhoQtjZ2eHmzZvIyspCcXExzpw5IzluYmICf39/QenkYcGCBejbty969uwJfX2e4fJXeXl5mDFjBubOnQsbGxvJxQeHDx8WmIyIdBELRKoyhUKBdu3aISMjA1evXoWenh58fHx09h0x9PX1sWrVKgDA3LlzsXDhQsGJ5Ofhw4eYMWOGTr/3ckU8PDzg4eEhOgYREQAWiKSB%2BvXrIzMzEzY2NkhNTYVSqYSpqSlyc3NFRxNu4cKFKCwsRFZWFkpKSiTH7OzsBKUSr1evXjh58iScnZ1FR5GdiorD4uLil5yEiIgFImmgZ8%2BeGDduHH766Sd06tQJX375JUxMTNCkSRPR0YQ7dOgQvvrqK0mxrFKpoKenp9Pn2o0ZMwYjR47EG2%2B8gdq1a0uObdq0SVAqeUhKSsKaNWvKXPR1%2B/ZtnDp1SnA6ItI1LBCpyj7//HPUrVsXRkZGmDdvHubMmYPc3FwEBASIjiZccHAwRo0ahSFDhsDQkA%2Bzp%2BbNmwcHBwd07NiRy8x/M2fOHCiVStSpUweZmZmwt7dHVFQUxo4dKzoaEekgbnNDVA0cHBxw9uxZFod/4%2BDggLi4OG7lUg4HBwecOHEC9%2B/fR3BwMNauXYuTJ09i/fr13BqJiF46XkZIGtmxYwfc3Nzg5OSE%2B/fvw9fXF3l5eaJjCdeqVSvcunVLdAzZefPNN5GUlCQ6hiyZmZnB0tIS//rXv3Djxg0AQI8ePZCYmCg4GRHpIrY3qMrCwsKwbds2fPTRR1i6dClq1KiBtLQ0BAYG6vwVvO3bt8e4cePQv39/WFtbS475%2BPgISiVe586dMWbMGPTv3x%2BWlpaSY7o8LwDQuHFj/Prrr%2BjevTuKioqQnJwMY2NjFBUViY5GRDqIBSJV2bZt2/Ddd9%2BhWbNmCAoKgoWFBUJCQjBkyBDR0YSLj49H8%2BbNkZiYKOkA/XVvO10UFxeHpk2bltkwXNfnBQDGjx%2BPKVOm4MCBA/D09ISXlxcMDQ3Rq1cv0dGISAfxHESqMkdHR5w%2BfRr6%2Bvro1KkTzp49i%2BLiYnTp0qXMJtFE9Gz379%2BHra0tDA0NERkZidzcXAwfPhzGxsaioxGRjuE5iFRl9vb2iIiIAPD/HaDo6Gg0b95cZCzZSExMxMKFC%2BHj44Ps7GxeaPAnzkvF7OzskJiYiGPHjmHAgAHo378/i0MiEoIFIlWZn58fVqxYAW9vb%2BTn52PChAlYsGABvvjiC9HRhDt16hQ8PDyQnZ2N//znPygoKMDq1auxbt060dGE4rxULCsrC%2B%2B//z6GDh2KGTNm4O7du3BxccGlS5dERyMiHcQCkaqsVatWOHDgAPr06QMPDw907NgR%2B/fvR9u2bUVHE27FihX49ttvsXz5chgYGKBBgwZYt26duuOqqzgvFVu8eDGaNGmCM2fOwNDQEM2aNcMHH3yApUuXio5GRDqIF6lQlQ0dOhSbNm3C%2BPHjRUeRnTt37qBHjx4A/n/5vU2bNnj06JHIWMJxXioWGxuLo0ePwtzcXD03kyZNwk8//SQ4GRHpInYQqcrS09NFR5AtOzs7XLhwQTJ25coVNGjQQFAieeC8VMzQ0BCFhYUAoH6rvfz8fJibm4uMRUQ6ymD%2B/PnzRYegV9OdO3fw/fff4%2BHDh0hKSsL169eRkJCAhIQE2Nvbi44nVO3atfHFF18gNzcX8fHxMDAwQGBgIKZMmaLTc8N5qdidO3ewd%2B9etGvXDjt27ICHhwcCAgLwxhtvwNnZWXQ8ItIx3OaGqqyiJ63s7GzEx8e/5DTyc/LkSYSHhyM5ORn169eHp6cn%2BvXrJzqWcJyX8uXm5sLPzw/Hjh0DULoE361bNyxfvhy1a9cWnI6IdA0LRHphbt%2B%2BjbCwMERGRuLixYui45AMHTx4EAMGDCgzHhERAS8vLwGJ5Cc9PV1dPHPpnYhEYYFIGjt37hw2bNiAkydPokWLFvDw8MCoUaNExxIqKSkJa9euRXJyMkpKSiTHNm3aJCiVGAqFAtnZ2QAAV1dXREdH46//7OTk5MDb21tnu86TJ0/GsmXLUKtWLdFRiIjUeBUzVUlJSQkOHTqEjRs34ubNmygqKsL333%2BP7t27i44mC59//jmMjIzwzjvvQF9ft68Fy83NhaurKwoKCgCUnpqgUqmgp6en/tynTx/BKcXJysqCu7s7goOD0apVK9FxiIgAsINIVfDTTz9h06ZNKCkpwYgRI%2BDp6Yn%2B/ftj//79qFevnuh4suDg4IDY2FiYmpqKjiILmZmZUCgUcHNzw88//yw5ZmJiAmtra0HJxCsuLkZwcDA2bdoEPz8/eHt7i45ERMQOIj2/wMBAjBw5ErNmzeLbgFXA3t4eqampaNKkiegoslC3bl0AwPnz53W%2Bo/p3BgYG%2BOyzz9C1a1fMnj0b58%2Bfx7Rp0yTzZGdnJzAhEekidhDpuYWHh2Pr1q3IysqCp6cnRo4cCXd3d%2Bzbt48dxD9dvXoVU6ZMQd%2B%2Bfctcgerj4yMolTihoaHPvI0uzsvfJSQkwNvbG0%2BePAEA9RL8tWvXBCcjIl3DDiI9t1GjRmHUqFGIjY3Fli1b4OLiguLiYsTGxsLNzQ0GBgaiIwoXEhKC/Px8XL16VdIJevoOGbrmzJkz/3hcV%2Bflr8LDwxEUFIR%2B/frBx8eHnVYiEoodRNJYcnIytm7dit27d0NfXx%2BDBg3CrFmzRMcSysHBAUePHtXpc%2BuocrKysvDll18iLi4O8%2BbNg7u7u%2BhIREQsEOnFKSwsRGRkJLZu3Yo9e/aIjiNUv379sGvXLm5dQs/UrVs32NjYYMWKFWjatKnoOEREAFggElWLHTt2ICoqCmPGjIGFhYVkCbVTp04Ck5HcfP3115g9ezYv%2BCIiWWGBSFQNKnpfYV5wQERErwIWiEREREQkwcvkiKpJYWEhjh49irCwMCgUCiQkJIiOREREVCnc5oaoGty9excffvghlEolHj9%2BjJ49e2LYsGEIDQ1Fr169RMcjIiL6R%2BwgElWDRYsWYejQofj3v/8NQ0NDNG3aFAsXLkRwcLDoaERERM/EApGoGly8eBHjx4%2BHnp6e%2BgrmwYMHIykpSXAyIiKiZ2OBSFQNatWqhQcPHkjGMjIyYGFhISgRERFR5bFAJKoGbm5u8PHxwalTp1BSUoLLly9jxowZcHV1FR2NiIjombjNDVE1UCqVWLFiBbZv3w6FQgETExMMHz4cfn5%2B3BCZiIhkjwUiUTXLysqClZWV5N1UiIiI5Izb3BC9QPv27Xvmbdzd3V9CEiIioqpjB5HoBXJ2dv7H43p6ejh27NhLSkNERFQ1LBCJiIiISIJXMRO9QOfPn//H4xs2bHhJSYiIiKqOBSLRCzRhwgTJ14MHD5Z8vXr16pcZh4iIqEpYIBK9QH8/Y%2BP%2B/fv/eJyIiEiOWCASvUB/38rmWV8TERHJEQtEIiIiIpJggUhEREREEtwom%2BgFKioqkmyWrVQqJV8XFxeLiEVERPRcuA8i0Qv0rI2yAeD48eMvIQkREVHVsUAkIiIiIgmeg0hEREREEiwQiYiIiEiCBSIRERERSbBAJCIiIiIJFohEREREJMECkYiIiIgkWCASERERkQQLRCIiIiKS%2BD/1br/1brGE2AAAAABJRU5ErkJggg%3D%3D\" class=\"center-img\">\n",
       "</div>\n",
       "    <div class=\"row headerrow highlight\">\n",
       "        <h1>Sample</h1>\n",
       "    </div>\n",
       "    <div class=\"row variablerow\">\n",
       "    <div class=\"col-md-12\" style=\"overflow:scroll; width: 100%%; overflow-y: hidden;\">\n",
       "        <table border=\"1\" class=\"dataframe sample\">\n",
       "  <thead>\n",
       "    <tr style=\"text-align: right;\">\n",
       "      <th></th>\n",
       "      <th>Domain Code</th>\n",
       "      <th>Domain</th>\n",
       "      <th>Area Code</th>\n",
       "      <th>Area</th>\n",
       "      <th>Element Code</th>\n",
       "      <th>Element</th>\n",
       "      <th>Item Code</th>\n",
       "      <th>Item</th>\n",
       "      <th>Year Code</th>\n",
       "      <th>Year</th>\n",
       "      <th>Unit</th>\n",
       "      <th>Value</th>\n",
       "      <th>Flag</th>\n",
       "      <th>Flag Description</th>\n",
       "    </tr>\n",
       "  </thead>\n",
       "  <tbody>\n",
       "    <tr>\n",
       "      <th>0</th>\n",
       "      <td>QC</td>\n",
       "      <td>Crops</td>\n",
       "      <td>2</td>\n",
       "      <td>Afghanistan</td>\n",
       "      <td>5419</td>\n",
       "      <td>Yield</td>\n",
       "      <td>44</td>\n",
       "      <td>Barley</td>\n",
       "      <td>1961</td>\n",
       "      <td>1961</td>\n",
       "      <td>hg/ha</td>\n",
       "      <td>10800.0</td>\n",
       "      <td>Fc</td>\n",
       "      <td>Calculated data</td>\n",
       "    </tr>\n",
       "    <tr>\n",
       "      <th>1</th>\n",
       "      <td>QC</td>\n",
       "      <td>Crops</td>\n",
       "      <td>2</td>\n",
       "      <td>Afghanistan</td>\n",
       "      <td>5419</td>\n",
       "      <td>Yield</td>\n",
       "      <td>44</td>\n",
       "      <td>Barley</td>\n",
       "      <td>1962</td>\n",
       "      <td>1962</td>\n",
       "      <td>hg/ha</td>\n",
       "      <td>10800.0</td>\n",
       "      <td>Fc</td>\n",
       "      <td>Calculated data</td>\n",
       "    </tr>\n",
       "    <tr>\n",
       "      <th>2</th>\n",
       "      <td>QC</td>\n",
       "      <td>Crops</td>\n",
       "      <td>2</td>\n",
       "      <td>Afghanistan</td>\n",
       "      <td>5419</td>\n",
       "      <td>Yield</td>\n",
       "      <td>44</td>\n",
       "      <td>Barley</td>\n",
       "      <td>1963</td>\n",
       "      <td>1963</td>\n",
       "      <td>hg/ha</td>\n",
       "      <td>10800.0</td>\n",
       "      <td>Fc</td>\n",
       "      <td>Calculated data</td>\n",
       "    </tr>\n",
       "    <tr>\n",
       "      <th>3</th>\n",
       "      <td>QC</td>\n",
       "      <td>Crops</td>\n",
       "      <td>2</td>\n",
       "      <td>Afghanistan</td>\n",
       "      <td>5419</td>\n",
       "      <td>Yield</td>\n",
       "      <td>44</td>\n",
       "      <td>Barley</td>\n",
       "      <td>1964</td>\n",
       "      <td>1964</td>\n",
       "      <td>hg/ha</td>\n",
       "      <td>10857.0</td>\n",
       "      <td>Fc</td>\n",
       "      <td>Calculated data</td>\n",
       "    </tr>\n",
       "    <tr>\n",
       "      <th>4</th>\n",
       "      <td>QC</td>\n",
       "      <td>Crops</td>\n",
       "      <td>2</td>\n",
       "      <td>Afghanistan</td>\n",
       "      <td>5419</td>\n",
       "      <td>Yield</td>\n",
       "      <td>44</td>\n",
       "      <td>Barley</td>\n",
       "      <td>1965</td>\n",
       "      <td>1965</td>\n",
       "      <td>hg/ha</td>\n",
       "      <td>10857.0</td>\n",
       "      <td>Fc</td>\n",
       "      <td>Calculated data</td>\n",
       "    </tr>\n",
       "  </tbody>\n",
       "</table>\n",
       "    </div>\n",
       "</div>\n",
       "</div>"
      ],
      "text/plain": [
       "<pandas_profiling.ProfileReport at 0x23bf75c0ba8>"
      ]
     },
     "execution_count": 6,
     "metadata": {},
     "output_type": "execute_result"
    }
   ],
   "source": [
    "from pandas_profiling import ProfileReport\n",
    "crop_profile = ProfileReport(df_crop)\n",
    "crop_profile"
   ]
  },
  {
   "cell_type": "code",
   "execution_count": 7,
   "metadata": {},
   "outputs": [],
   "source": [
    "df_crop= df_crop.dropna()"
   ]
  },
  {
   "cell_type": "code",
   "execution_count": 8,
   "metadata": {},
   "outputs": [
    {
     "data": {
      "text/plain": [
       "Index(['Domain Code', 'Domain', 'Area Code', 'Area', 'Element Code', 'Element',\n",
       "       'Item Code', 'Item', 'Year Code', 'Year', 'Unit', 'Value', 'Flag',\n",
       "       'Flag Description'],\n",
       "      dtype='object')"
      ]
     },
     "execution_count": 8,
     "metadata": {},
     "output_type": "execute_result"
    }
   ],
   "source": [
    "df_crop.columns"
   ]
  },
  {
   "cell_type": "code",
   "execution_count": 9,
   "metadata": {},
   "outputs": [],
   "source": [
    "#change the column name\n",
    "df_crop.rename(columns={'Value':'yield'}, inplace=True)"
   ]
  },
  {
   "cell_type": "code",
   "execution_count": 10,
   "metadata": {},
   "outputs": [
    {
     "data": {
      "text/plain": [
       "Index(['Domain Code', 'Domain', 'Area Code', 'Area', 'Element Code', 'Element',\n",
       "       'Item Code', 'Item', 'Year Code', 'Year', 'Unit', 'yield', 'Flag',\n",
       "       'Flag Description'],\n",
       "      dtype='object')"
      ]
     },
     "execution_count": 10,
     "metadata": {},
     "output_type": "execute_result"
    }
   ],
   "source": [
    "df_crop.columns"
   ]
  },
  {
   "cell_type": "markdown",
   "metadata": {},
   "source": [
    "We only need the following features from the data. the rest are either constant or irrelevant <br>\n",
    "[ 'Area Code', 'Area','Item Code', 'Item', 'Year', 'Value']\n",
    "       "
   ]
  },
  {
   "cell_type": "code",
   "execution_count": 11,
   "metadata": {},
   "outputs": [
    {
     "data": {
      "text/html": [
       "<div>\n",
       "<style scoped>\n",
       "    .dataframe tbody tr th:only-of-type {\n",
       "        vertical-align: middle;\n",
       "    }\n",
       "\n",
       "    .dataframe tbody tr th {\n",
       "        vertical-align: top;\n",
       "    }\n",
       "\n",
       "    .dataframe thead th {\n",
       "        text-align: right;\n",
       "    }\n",
       "</style>\n",
       "<table border=\"1\" class=\"dataframe\">\n",
       "  <thead>\n",
       "    <tr style=\"text-align: right;\">\n",
       "      <th></th>\n",
       "      <th>Area Code</th>\n",
       "      <th>Area</th>\n",
       "      <th>Item Code</th>\n",
       "      <th>Item</th>\n",
       "      <th>Year</th>\n",
       "      <th>yield</th>\n",
       "    </tr>\n",
       "  </thead>\n",
       "  <tbody>\n",
       "    <tr>\n",
       "      <th>37317</th>\n",
       "      <td>181</td>\n",
       "      <td>Zimbabwe</td>\n",
       "      <td>15</td>\n",
       "      <td>Wheat</td>\n",
       "      <td>2014</td>\n",
       "      <td>22094.0</td>\n",
       "    </tr>\n",
       "    <tr>\n",
       "      <th>37318</th>\n",
       "      <td>181</td>\n",
       "      <td>Zimbabwe</td>\n",
       "      <td>15</td>\n",
       "      <td>Wheat</td>\n",
       "      <td>2015</td>\n",
       "      <td>20486.0</td>\n",
       "    </tr>\n",
       "    <tr>\n",
       "      <th>37319</th>\n",
       "      <td>181</td>\n",
       "      <td>Zimbabwe</td>\n",
       "      <td>15</td>\n",
       "      <td>Wheat</td>\n",
       "      <td>2016</td>\n",
       "      <td>19013.0</td>\n",
       "    </tr>\n",
       "    <tr>\n",
       "      <th>37320</th>\n",
       "      <td>181</td>\n",
       "      <td>Zimbabwe</td>\n",
       "      <td>15</td>\n",
       "      <td>Wheat</td>\n",
       "      <td>2017</td>\n",
       "      <td>17542.0</td>\n",
       "    </tr>\n",
       "    <tr>\n",
       "      <th>37321</th>\n",
       "      <td>181</td>\n",
       "      <td>Zimbabwe</td>\n",
       "      <td>15</td>\n",
       "      <td>Wheat</td>\n",
       "      <td>2018</td>\n",
       "      <td>20010.0</td>\n",
       "    </tr>\n",
       "  </tbody>\n",
       "</table>\n",
       "</div>"
      ],
      "text/plain": [
       "       Area Code      Area  Item Code   Item  Year    yield\n",
       "37317        181  Zimbabwe         15  Wheat  2014  22094.0\n",
       "37318        181  Zimbabwe         15  Wheat  2015  20486.0\n",
       "37319        181  Zimbabwe         15  Wheat  2016  19013.0\n",
       "37320        181  Zimbabwe         15  Wheat  2017  17542.0\n",
       "37321        181  Zimbabwe         15  Wheat  2018  20010.0"
      ]
     },
     "execution_count": 11,
     "metadata": {},
     "output_type": "execute_result"
    }
   ],
   "source": [
    "df_crop = df_crop[['Area Code', 'Area','Item Code', 'Item', 'Year', 'yield']]\n",
    "df_crop.tail()"
   ]
  },
  {
   "cell_type": "code",
   "execution_count": 12,
   "metadata": {},
   "outputs": [],
   "source": [
    "# def getFiltered(df,col):\n",
    "#     df_sub=df.query(\"Item = {}\".format(col))\n",
    "#     df_sub_max = df_sub.groupby(['Year'], as_index = False)['Value'].max()\n",
    "#     return df_sub_max  "
   ]
  },
  {
   "cell_type": "code",
   "execution_count": 13,
   "metadata": {},
   "outputs": [
    {
     "data": {
      "text/plain": [
       "array(['Barley', 'Maize', 'Millet', 'Rice, paddy', 'Wheat', 'Sorghum'],\n",
       "      dtype=object)"
      ]
     },
     "execution_count": 13,
     "metadata": {},
     "output_type": "execute_result"
    }
   ],
   "source": [
    "df_crop['Item'].unique()"
   ]
  },
  {
   "cell_type": "code",
   "execution_count": 14,
   "metadata": {},
   "outputs": [],
   "source": [
    "df_crop['Item'] = df_crop['Item'].str.replace('Rice, paddy', 'Rice')"
   ]
  },
  {
   "cell_type": "code",
   "execution_count": 15,
   "metadata": {},
   "outputs": [
    {
     "data": {
      "text/plain": [
       "array(['Barley', 'Maize', 'Millet', 'Rice', 'Wheat', 'Sorghum'],\n",
       "      dtype=object)"
      ]
     },
     "execution_count": 15,
     "metadata": {},
     "output_type": "execute_result"
    }
   ],
   "source": [
    "df_crop['Item'].unique()"
   ]
  },
  {
   "cell_type": "markdown",
   "metadata": {},
   "source": [
    "# Compare the yields in 2010-2014 & 2015-2019"
   ]
  },
  {
   "cell_type": "code",
   "execution_count": 19,
   "metadata": {},
   "outputs": [
    {
     "data": {
      "text/html": [
       "<div>\n",
       "<style scoped>\n",
       "    .dataframe tbody tr th:only-of-type {\n",
       "        vertical-align: middle;\n",
       "    }\n",
       "\n",
       "    .dataframe tbody tr th {\n",
       "        vertical-align: top;\n",
       "    }\n",
       "\n",
       "    .dataframe thead th {\n",
       "        text-align: right;\n",
       "    }\n",
       "</style>\n",
       "<table border=\"1\" class=\"dataframe\">\n",
       "  <thead>\n",
       "    <tr style=\"text-align: right;\">\n",
       "      <th></th>\n",
       "      <th>Area Code</th>\n",
       "      <th>Area</th>\n",
       "      <th>Item Code</th>\n",
       "      <th>Item</th>\n",
       "      <th>Year</th>\n",
       "      <th>yield</th>\n",
       "    </tr>\n",
       "  </thead>\n",
       "  <tbody>\n",
       "    <tr>\n",
       "      <th>0</th>\n",
       "      <td>2</td>\n",
       "      <td>Afghanistan</td>\n",
       "      <td>44</td>\n",
       "      <td>Barley</td>\n",
       "      <td>1961</td>\n",
       "      <td>10800.0</td>\n",
       "    </tr>\n",
       "    <tr>\n",
       "      <th>1</th>\n",
       "      <td>2</td>\n",
       "      <td>Afghanistan</td>\n",
       "      <td>44</td>\n",
       "      <td>Barley</td>\n",
       "      <td>1962</td>\n",
       "      <td>10800.0</td>\n",
       "    </tr>\n",
       "    <tr>\n",
       "      <th>2</th>\n",
       "      <td>2</td>\n",
       "      <td>Afghanistan</td>\n",
       "      <td>44</td>\n",
       "      <td>Barley</td>\n",
       "      <td>1963</td>\n",
       "      <td>10800.0</td>\n",
       "    </tr>\n",
       "    <tr>\n",
       "      <th>3</th>\n",
       "      <td>2</td>\n",
       "      <td>Afghanistan</td>\n",
       "      <td>44</td>\n",
       "      <td>Barley</td>\n",
       "      <td>1964</td>\n",
       "      <td>10857.0</td>\n",
       "    </tr>\n",
       "    <tr>\n",
       "      <th>4</th>\n",
       "      <td>2</td>\n",
       "      <td>Afghanistan</td>\n",
       "      <td>44</td>\n",
       "      <td>Barley</td>\n",
       "      <td>1965</td>\n",
       "      <td>10857.0</td>\n",
       "    </tr>\n",
       "  </tbody>\n",
       "</table>\n",
       "</div>"
      ],
      "text/plain": [
       "   Area Code         Area  Item Code    Item  Year    yield\n",
       "0          2  Afghanistan         44  Barley  1961  10800.0\n",
       "1          2  Afghanistan         44  Barley  1962  10800.0\n",
       "2          2  Afghanistan         44  Barley  1963  10800.0\n",
       "3          2  Afghanistan         44  Barley  1964  10857.0\n",
       "4          2  Afghanistan         44  Barley  1965  10857.0"
      ]
     },
     "execution_count": 19,
     "metadata": {},
     "output_type": "execute_result"
    }
   ],
   "source": [
    "df_crop.head()"
   ]
  },
  {
   "cell_type": "code",
   "execution_count": 229,
   "metadata": {},
   "outputs": [],
   "source": [
    "#split the data into two groups by year\n",
    "df_crop_early = df_crop.query(\"Year in [2010,2011,2012,2013,2014]\")\n",
    "df_crop_late = df_crop.query(\"Year in [2015,2016,2017,2018,2019]\")"
   ]
  },
  {
   "cell_type": "code",
   "execution_count": 230,
   "metadata": {},
   "outputs": [
    {
     "data": {
      "text/html": [
       "<div>\n",
       "<style scoped>\n",
       "    .dataframe tbody tr th:only-of-type {\n",
       "        vertical-align: middle;\n",
       "    }\n",
       "\n",
       "    .dataframe tbody tr th {\n",
       "        vertical-align: top;\n",
       "    }\n",
       "\n",
       "    .dataframe thead th {\n",
       "        text-align: right;\n",
       "    }\n",
       "</style>\n",
       "<table border=\"1\" class=\"dataframe\">\n",
       "  <thead>\n",
       "    <tr style=\"text-align: right;\">\n",
       "      <th></th>\n",
       "      <th>Item</th>\n",
       "      <th>yield</th>\n",
       "    </tr>\n",
       "  </thead>\n",
       "  <tbody>\n",
       "    <tr>\n",
       "      <th>0</th>\n",
       "      <td>Barley</td>\n",
       "      <td>14945528.0</td>\n",
       "    </tr>\n",
       "    <tr>\n",
       "      <th>1</th>\n",
       "      <td>Maize</td>\n",
       "      <td>39375813.0</td>\n",
       "    </tr>\n",
       "    <tr>\n",
       "      <th>2</th>\n",
       "      <td>Millet</td>\n",
       "      <td>5575682.0</td>\n",
       "    </tr>\n",
       "    <tr>\n",
       "      <th>3</th>\n",
       "      <td>Rice</td>\n",
       "      <td>23271127.0</td>\n",
       "    </tr>\n",
       "    <tr>\n",
       "      <th>4</th>\n",
       "      <td>Sorghum</td>\n",
       "      <td>13287493.0</td>\n",
       "    </tr>\n",
       "  </tbody>\n",
       "</table>\n",
       "</div>"
      ],
      "text/plain": [
       "      Item       yield\n",
       "0   Barley  14945528.0\n",
       "1    Maize  39375813.0\n",
       "2   Millet   5575682.0\n",
       "3     Rice  23271127.0\n",
       "4  Sorghum  13287493.0"
      ]
     },
     "execution_count": 230,
     "metadata": {},
     "output_type": "execute_result"
    }
   ],
   "source": [
    "# group by crop type to see the difference by crop\n",
    "df_crop_early_item = df_crop_early.groupby(['Item'], as_index =False)['yield'].sum()\n",
    "df_crop_late_item = df_crop_late.groupby(['Item'], as_index =False)['yield'].sum()\n",
    "df_crop_early_item.head()"
   ]
  },
  {
   "cell_type": "code",
   "execution_count": 231,
   "metadata": {},
   "outputs": [
    {
     "data": {
      "text/html": [
       "<div>\n",
       "<style scoped>\n",
       "    .dataframe tbody tr th:only-of-type {\n",
       "        vertical-align: middle;\n",
       "    }\n",
       "\n",
       "    .dataframe tbody tr th {\n",
       "        vertical-align: top;\n",
       "    }\n",
       "\n",
       "    .dataframe thead th {\n",
       "        text-align: right;\n",
       "    }\n",
       "</style>\n",
       "<table border=\"1\" class=\"dataframe\">\n",
       "  <thead>\n",
       "    <tr style=\"text-align: right;\">\n",
       "      <th></th>\n",
       "      <th>Item</th>\n",
       "      <th>yield_early</th>\n",
       "      <th>yield_late</th>\n",
       "    </tr>\n",
       "  </thead>\n",
       "  <tbody>\n",
       "    <tr>\n",
       "      <th>0</th>\n",
       "      <td>Barley</td>\n",
       "      <td>14945528.0</td>\n",
       "      <td>13097659.0</td>\n",
       "    </tr>\n",
       "    <tr>\n",
       "      <th>1</th>\n",
       "      <td>Maize</td>\n",
       "      <td>39375813.0</td>\n",
       "      <td>32767738.0</td>\n",
       "    </tr>\n",
       "    <tr>\n",
       "      <th>2</th>\n",
       "      <td>Millet</td>\n",
       "      <td>5575682.0</td>\n",
       "      <td>5883755.0</td>\n",
       "    </tr>\n",
       "    <tr>\n",
       "      <th>3</th>\n",
       "      <td>Rice</td>\n",
       "      <td>23271127.0</td>\n",
       "      <td>18957323.0</td>\n",
       "    </tr>\n",
       "    <tr>\n",
       "      <th>4</th>\n",
       "      <td>Sorghum</td>\n",
       "      <td>13287493.0</td>\n",
       "      <td>11776531.0</td>\n",
       "    </tr>\n",
       "  </tbody>\n",
       "</table>\n",
       "</div>"
      ],
      "text/plain": [
       "      Item  yield_early  yield_late\n",
       "0   Barley   14945528.0  13097659.0\n",
       "1    Maize   39375813.0  32767738.0\n",
       "2   Millet    5575682.0   5883755.0\n",
       "3     Rice   23271127.0  18957323.0\n",
       "4  Sorghum   13287493.0  11776531.0"
      ]
     },
     "execution_count": 231,
     "metadata": {},
     "output_type": "execute_result"
    }
   ],
   "source": [
    "#merge the two groups\n",
    "df_crop_early_late_item = pd.merge(df_crop_early_item, df_crop_late_item , on='Item',suffixes=('_early', '_late'))\n",
    "df_crop_early_late_item.head()"
   ]
  },
  {
   "cell_type": "code",
   "execution_count": 224,
   "metadata": {},
   "outputs": [
    {
     "data": {
      "text/plain": [
       "<matplotlib.axes._subplots.AxesSubplot at 0x23b8770cac8>"
      ]
     },
     "execution_count": 224,
     "metadata": {},
     "output_type": "execute_result"
    },
    {
     "data": {
      "text/plain": [
       "Text(0, 0.5, 'Yield in tonnes')"
      ]
     },
     "execution_count": 224,
     "metadata": {},
     "output_type": "execute_result"
    },
    {
     "data": {
      "text/plain": [
       "Text(0.5, 0, 'Crop Type')"
      ]
     },
     "execution_count": 224,
     "metadata": {},
     "output_type": "execute_result"
    },
    {
     "data": {
      "text/plain": [
       "Text(0.5, 1.0, 'Yield (2011-2014) vs (2015-2019)')"
      ]
     },
     "execution_count": 224,
     "metadata": {},
     "output_type": "execute_result"
    },
    {
     "data": {
      "image/png": "[encoded data removed]",
      "text/plain": [
       "<Figure size 432x288 with 1 Axes>"
      ]
     },
     "metadata": {
      "needs_background": "light"
     },
     "output_type": "display_data"
    }
   ],
   "source": [
    "#plot the two grops\n",
    "df_crop_early_late_item.set_index('Item', inplace=True)\n",
    "df_crop_early_late_item.plot.bar()\n",
    "plt.ylabel('Yield in tonnes')\n",
    "plt.xlabel('Crop Type')\n",
    "plt.title('Yield (2011-2014) vs (2015-2019)')\n",
    "\n",
    "plt.show()"
   ]
  },
  {
   "cell_type": "code",
   "execution_count": 235,
   "metadata": {},
   "outputs": [
    {
     "data": {
      "text/html": [
       "<div>\n",
       "<style scoped>\n",
       "    .dataframe tbody tr th:only-of-type {\n",
       "        vertical-align: middle;\n",
       "    }\n",
       "\n",
       "    .dataframe tbody tr th {\n",
       "        vertical-align: top;\n",
       "    }\n",
       "\n",
       "    .dataframe thead th {\n",
       "        text-align: right;\n",
       "    }\n",
       "</style>\n",
       "<table border=\"1\" class=\"dataframe\">\n",
       "  <thead>\n",
       "    <tr style=\"text-align: right;\">\n",
       "      <th></th>\n",
       "      <th>Item</th>\n",
       "      <th>yield_early</th>\n",
       "      <th>yield_late</th>\n",
       "      <th>roi</th>\n",
       "    </tr>\n",
       "  </thead>\n",
       "  <tbody>\n",
       "    <tr>\n",
       "      <th>0</th>\n",
       "      <td>Barley</td>\n",
       "      <td>14945528.0</td>\n",
       "      <td>13097659.0</td>\n",
       "      <td>-14.108391</td>\n",
       "    </tr>\n",
       "    <tr>\n",
       "      <th>1</th>\n",
       "      <td>Maize</td>\n",
       "      <td>39375813.0</td>\n",
       "      <td>32767738.0</td>\n",
       "      <td>-20.166406</td>\n",
       "    </tr>\n",
       "    <tr>\n",
       "      <th>2</th>\n",
       "      <td>Millet</td>\n",
       "      <td>5575682.0</td>\n",
       "      <td>5883755.0</td>\n",
       "      <td>5.235993</td>\n",
       "    </tr>\n",
       "    <tr>\n",
       "      <th>3</th>\n",
       "      <td>Rice</td>\n",
       "      <td>23271127.0</td>\n",
       "      <td>18957323.0</td>\n",
       "      <td>-22.755344</td>\n",
       "    </tr>\n",
       "    <tr>\n",
       "      <th>4</th>\n",
       "      <td>Sorghum</td>\n",
       "      <td>13287493.0</td>\n",
       "      <td>11776531.0</td>\n",
       "      <td>-12.830281</td>\n",
       "    </tr>\n",
       "  </tbody>\n",
       "</table>\n",
       "</div>"
      ],
      "text/plain": [
       "      Item  yield_early  yield_late        roi\n",
       "0   Barley   14945528.0  13097659.0 -14.108391\n",
       "1    Maize   39375813.0  32767738.0 -20.166406\n",
       "2   Millet    5575682.0   5883755.0   5.235993\n",
       "3     Rice   23271127.0  18957323.0 -22.755344\n",
       "4  Sorghum   13287493.0  11776531.0 -12.830281"
      ]
     },
     "execution_count": 235,
     "metadata": {},
     "output_type": "execute_result"
    }
   ],
   "source": [
    "#calculate the rate of decrease\n",
    "df_crop_early_late_item['roi'] = (df_crop_early_late_item['yield_late']-df_crop_early_late_item['yield_early'])/(df_crop_early_late_item['yield_late'])\n",
    "df_crop_early_late_item['roi'] =df_crop_early_late_item['roi']*100\n",
    "df_crop_early_late_item.head()"
   ]
  },
  {
   "cell_type": "code",
   "execution_count": 236,
   "metadata": {},
   "outputs": [
    {
     "data": {
      "application/vnd.plotly.v1+json": {
       "config": {
        "plotlyServerURL": "https://plot.ly"
       },
       "data": [
        {
         "alignmentgroup": "True",
         "hoverlabel": {
          "namelength": 0
         },
         "hovertemplate": "Item=%{x}<br>roi=%{y}",
         "legendgroup": "",
         "marker": {
          "color": "#636efa"
         },
         "name": "",
         "offsetgroup": "",
         "orientation": "v",
         "showlegend": false,
         "textposition": "auto",
         "type": "bar",
         "x": [
          "Barley",
          "Maize",
          "Millet",
          "Rice",
          "Sorghum",
          "Wheat"
         ],
         "xaxis": "x",
         "y": [
          -14.108391430865622,
          -20.166405749460033,
          5.235993001068195,
          -22.7553436737877,
          -12.830280835672237,
          -19.95848890866734
         ],
         "yaxis": "y"
        }
       ],
       "layout": {
        "barmode": "relative",
        "legend": {
         "tracegroupgap": 0
        },
        "margin": {
         "t": 60
        },
        "template": {
         "data": {
          "bar": [
           {
            "error_x": {
             "color": "#2a3f5f"
            },
            "error_y": {
             "color": "#2a3f5f"
            },
            "marker": {
             "line": {
              "color": "#E5ECF6",
              "width": 0.5
             }
            },
            "type": "bar"
           }
          ],
          "barpolar": [
           {
            "marker": {
             "line": {
              "color": "#E5ECF6",
              "width": 0.5
             }
            },
            "type": "barpolar"
           }
          ],
          "carpet": [
           {
            "aaxis": {
             "endlinecolor": "#2a3f5f",
             "gridcolor": "white",
             "linecolor": "white",
             "minorgridcolor": "white",
             "startlinecolor": "#2a3f5f"
            },
            "baxis": {
             "endlinecolor": "#2a3f5f",
             "gridcolor": "white",
             "linecolor": "white",
             "minorgridcolor": "white",
             "startlinecolor": "#2a3f5f"
            },
            "type": "carpet"
           }
          ],
          "choropleth": [
           {
            "colorbar": {
             "outlinewidth": 0,
             "ticks": ""
            },
            "type": "choropleth"
           }
          ],
          "contour": [
           {
            "colorbar": {
             "outlinewidth": 0,
             "ticks": ""
            },
            "colorscale": [
             [
              0,
              "#0d0887"
             ],
             [
              0.1111111111111111,
              "#46039f"
             ],
             [
              0.2222222222222222,
              "#7201a8"
             ],
             [
              0.3333333333333333,
              "#9c179e"
             ],
             [
              0.4444444444444444,
              "#bd3786"
             ],
             [
              0.5555555555555556,
              "#d8576b"
             ],
             [
              0.6666666666666666,
              "#ed7953"
             ],
             [
              0.7777777777777778,
              "#fb9f3a"
             ],
             [
              0.8888888888888888,
              "#fdca26"
             ],
             [
              1,
              "#f0f921"
             ]
            ],
            "type": "contour"
           }
          ],
          "contourcarpet": [
           {
            "colorbar": {
             "outlinewidth": 0,
             "ticks": ""
            },
            "type": "contourcarpet"
           }
          ],
          "heatmap": [
           {
            "colorbar": {
             "outlinewidth": 0,
             "ticks": ""
            },
            "colorscale": [
             [
              0,
              "#0d0887"
             ],
             [
              0.1111111111111111,
              "#46039f"
             ],
             [
              0.2222222222222222,
              "#7201a8"
             ],
             [
              0.3333333333333333,
              "#9c179e"
             ],
             [
              0.4444444444444444,
              "#bd3786"
             ],
             [
              0.5555555555555556,
              "#d8576b"
             ],
             [
              0.6666666666666666,
              "#ed7953"
             ],
             [
              0.7777777777777778,
              "#fb9f3a"
             ],
             [
              0.8888888888888888,
              "#fdca26"
             ],
             [
              1,
              "#f0f921"
             ]
            ],
            "type": "heatmap"
           }
          ],
          "heatmapgl": [
           {
            "colorbar": {
             "outlinewidth": 0,
             "ticks": ""
            },
            "colorscale": [
             [
              0,
              "#0d0887"
             ],
             [
              0.1111111111111111,
              "#46039f"
             ],
             [
              0.2222222222222222,
              "#7201a8"
             ],
             [
              0.3333333333333333,
              "#9c179e"
             ],
             [
              0.4444444444444444,
              "#bd3786"
             ],
             [
              0.5555555555555556,
              "#d8576b"
             ],
             [
              0.6666666666666666,
              "#ed7953"
             ],
             [
              0.7777777777777778,
              "#fb9f3a"
             ],
             [
              0.8888888888888888,
              "#fdca26"
             ],
             [
              1,
              "#f0f921"
             ]
            ],
            "type": "heatmapgl"
           }
          ],
          "histogram": [
           {
            "marker": {
             "colorbar": {
              "outlinewidth": 0,
              "ticks": ""
             }
            },
            "type": "histogram"
           }
          ],
          "histogram2d": [
           {
            "colorbar": {
             "outlinewidth": 0,
             "ticks": ""
            },
            "colorscale": [
             [
              0,
              "#0d0887"
             ],
             [
              0.1111111111111111,
              "#46039f"
             ],
             [
              0.2222222222222222,
              "#7201a8"
             ],
             [
              0.3333333333333333,
              "#9c179e"
             ],
             [
              0.4444444444444444,
              "#bd3786"
             ],
             [
              0.5555555555555556,
              "#d8576b"
             ],
             [
              0.6666666666666666,
              "#ed7953"
             ],
             [
              0.7777777777777778,
              "#fb9f3a"
             ],
             [
              0.8888888888888888,
              "#fdca26"
             ],
             [
              1,
              "#f0f921"
             ]
            ],
            "type": "histogram2d"
           }
          ],
          "histogram2dcontour": [
           {
            "colorbar": {
             "outlinewidth": 0,
             "ticks": ""
            },
            "colorscale": [
             [
              0,
              "#0d0887"
             ],
             [
              0.1111111111111111,
              "#46039f"
             ],
             [
              0.2222222222222222,
              "#7201a8"
             ],
             [
              0.3333333333333333,
              "#9c179e"
             ],
             [
              0.4444444444444444,
              "#bd3786"
             ],
             [
              0.5555555555555556,
              "#d8576b"
             ],
             [
              0.6666666666666666,
              "#ed7953"
             ],
             [
              0.7777777777777778,
              "#fb9f3a"
             ],
             [
              0.8888888888888888,
              "#fdca26"
             ],
             [
              1,
              "#f0f921"
             ]
            ],
            "type": "histogram2dcontour"
           }
          ],
          "mesh3d": [
           {
            "colorbar": {
             "outlinewidth": 0,
             "ticks": ""
            },
            "type": "mesh3d"
           }
          ],
          "parcoords": [
           {
            "line": {
             "colorbar": {
              "outlinewidth": 0,
              "ticks": ""
             }
            },
            "type": "parcoords"
           }
          ],
          "pie": [
           {
            "automargin": true,
            "type": "pie"
           }
          ],
          "scatter": [
           {
            "marker": {
             "colorbar": {
              "outlinewidth": 0,
              "ticks": ""
             }
            },
            "type": "scatter"
           }
          ],
          "scatter3d": [
           {
            "line": {
             "colorbar": {
              "outlinewidth": 0,
              "ticks": ""
             }
            },
            "marker": {
             "colorbar": {
              "outlinewidth": 0,
              "ticks": ""
             }
            },
            "type": "scatter3d"
           }
          ],
          "scattercarpet": [
           {
            "marker": {
             "colorbar": {
              "outlinewidth": 0,
              "ticks": ""
             }
            },
            "type": "scattercarpet"
           }
          ],
          "scattergeo": [
           {
            "marker": {
             "colorbar": {
              "outlinewidth": 0,
              "ticks": ""
             }
            },
            "type": "scattergeo"
           }
          ],
          "scattergl": [
           {
            "marker": {
             "colorbar": {
              "outlinewidth": 0,
              "ticks": ""
             }
            },
            "type": "scattergl"
           }
          ],
          "scattermapbox": [
           {
            "marker": {
             "colorbar": {
              "outlinewidth": 0,
              "ticks": ""
             }
            },
            "type": "scattermapbox"
           }
          ],
          "scatterpolar": [
           {
            "marker": {
             "colorbar": {
              "outlinewidth": 0,
              "ticks": ""
             }
            },
            "type": "scatterpolar"
           }
          ],
          "scatterpolargl": [
           {
            "marker": {
             "colorbar": {
              "outlinewidth": 0,
              "ticks": ""
             }
            },
            "type": "scatterpolargl"
           }
          ],
          "scatterternary": [
           {
            "marker": {
             "colorbar": {
              "outlinewidth": 0,
              "ticks": ""
             }
            },
            "type": "scatterternary"
           }
          ],
          "surface": [
           {
            "colorbar": {
             "outlinewidth": 0,
             "ticks": ""
            },
            "colorscale": [
             [
              0,
              "#0d0887"
             ],
             [
              0.1111111111111111,
              "#46039f"
             ],
             [
              0.2222222222222222,
              "#7201a8"
             ],
             [
              0.3333333333333333,
              "#9c179e"
             ],
             [
              0.4444444444444444,
              "#bd3786"
             ],
             [
              0.5555555555555556,
              "#d8576b"
             ],
             [
              0.6666666666666666,
              "#ed7953"
             ],
             [
              0.7777777777777778,
              "#fb9f3a"
             ],
             [
              0.8888888888888888,
              "#fdca26"
             ],
             [
              1,
              "#f0f921"
             ]
            ],
            "type": "surface"
           }
          ],
          "table": [
           {
            "cells": {
             "fill": {
              "color": "#EBF0F8"
             },
             "line": {
              "color": "white"
             }
            },
            "header": {
             "fill": {
              "color": "#C8D4E3"
             },
             "line": {
              "color": "white"
             }
            },
            "type": "table"
           }
          ]
         },
         "layout": {
          "annotationdefaults": {
           "arrowcolor": "#2a3f5f",
           "arrowhead": 0,
           "arrowwidth": 1
          },
          "coloraxis": {
           "colorbar": {
            "outlinewidth": 0,
            "ticks": ""
           }
          },
          "colorscale": {
           "diverging": [
            [
             0,
             "#8e0152"
            ],
            [
             0.1,
             "#c51b7d"
            ],
            [
             0.2,
             "#de77ae"
            ],
            [
             0.3,
             "#f1b6da"
            ],
            [
             0.4,
             "#fde0ef"
            ],
            [
             0.5,
             "#f7f7f7"
            ],
            [
             0.6,
             "#e6f5d0"
            ],
            [
             0.7,
             "#b8e186"
            ],
            [
             0.8,
             "#7fbc41"
            ],
            [
             0.9,
             "#4d9221"
            ],
            [
             1,
             "#276419"
            ]
           ],
           "sequential": [
            [
             0,
             "#0d0887"
            ],
            [
             0.1111111111111111,
             "#46039f"
            ],
            [
             0.2222222222222222,
             "#7201a8"
            ],
            [
             0.3333333333333333,
             "#9c179e"
            ],
            [
             0.4444444444444444,
             "#bd3786"
            ],
            [
             0.5555555555555556,
             "#d8576b"
            ],
            [
             0.6666666666666666,
             "#ed7953"
            ],
            [
             0.7777777777777778,
             "#fb9f3a"
            ],
            [
             0.8888888888888888,
             "#fdca26"
            ],
            [
             1,
             "#f0f921"
            ]
           ],
           "sequentialminus": [
            [
             0,
             "#0d0887"
            ],
            [
             0.1111111111111111,
             "#46039f"
            ],
            [
             0.2222222222222222,
             "#7201a8"
            ],
            [
             0.3333333333333333,
             "#9c179e"
            ],
            [
             0.4444444444444444,
             "#bd3786"
            ],
            [
             0.5555555555555556,
             "#d8576b"
            ],
            [
             0.6666666666666666,
             "#ed7953"
            ],
            [
             0.7777777777777778,
             "#fb9f3a"
            ],
            [
             0.8888888888888888,
             "#fdca26"
            ],
            [
             1,
             "#f0f921"
            ]
           ]
          },
          "colorway": [
           "#636efa",
           "#EF553B",
           "#00cc96",
           "#ab63fa",
           "#FFA15A",
           "#19d3f3",
           "#FF6692",
           "#B6E880",
           "#FF97FF",
           "#FECB52"
          ],
          "font": {
           "color": "#2a3f5f"
          },
          "geo": {
           "bgcolor": "white",
           "lakecolor": "white",
           "landcolor": "#E5ECF6",
           "showlakes": true,
           "showland": true,
           "subunitcolor": "white"
          },
          "hoverlabel": {
           "align": "left"
          },
          "hovermode": "closest",
          "mapbox": {
           "style": "light"
          },
          "paper_bgcolor": "white",
          "plot_bgcolor": "#E5ECF6",
          "polar": {
           "angularaxis": {
            "gridcolor": "white",
            "linecolor": "white",
            "ticks": ""
           },
           "bgcolor": "#E5ECF6",
           "radialaxis": {
            "gridcolor": "white",
            "linecolor": "white",
            "ticks": ""
           }
          },
          "scene": {
           "xaxis": {
            "backgroundcolor": "#E5ECF6",
            "gridcolor": "white",
            "gridwidth": 2,
            "linecolor": "white",
            "showbackground": true,
            "ticks": "",
            "zerolinecolor": "white"
           },
           "yaxis": {
            "backgroundcolor": "#E5ECF6",
            "gridcolor": "white",
            "gridwidth": 2,
            "linecolor": "white",
            "showbackground": true,
            "ticks": "",
            "zerolinecolor": "white"
           },
           "zaxis": {
            "backgroundcolor": "#E5ECF6",
            "gridcolor": "white",
            "gridwidth": 2,
            "linecolor": "white",
            "showbackground": true,
            "ticks": "",
            "zerolinecolor": "white"
           }
          },
          "shapedefaults": {
           "line": {
            "color": "#2a3f5f"
           }
          },
          "ternary": {
           "aaxis": {
            "gridcolor": "white",
            "linecolor": "white",
            "ticks": ""
           },
           "baxis": {
            "gridcolor": "white",
            "linecolor": "white",
            "ticks": ""
           },
           "bgcolor": "#E5ECF6",
           "caxis": {
            "gridcolor": "white",
            "linecolor": "white",
            "ticks": ""
           }
          },
          "title": {
           "x": 0.05
          },
          "xaxis": {
           "automargin": true,
           "gridcolor": "white",
           "linecolor": "white",
           "ticks": "",
           "title": {
            "standoff": 15
           },
           "zerolinecolor": "white",
           "zerolinewidth": 2
          },
          "yaxis": {
           "automargin": true,
           "gridcolor": "white",
           "linecolor": "white",
           "ticks": "",
           "title": {
            "standoff": 15
           },
           "zerolinecolor": "white",
           "zerolinewidth": 2
          }
         }
        },
        "title": {
         "text": "Rate of Yield decrease early(2011-2014 ) vs late(2015-2019) by Crop"
        },
        "xaxis": {
         "anchor": "y",
         "categoryorder": "max descending",
         "domain": [
          0,
          1
         ],
         "tickangle": 45,
         "title": {
          "text": "Item"
         }
        },
        "yaxis": {
         "anchor": "x",
         "domain": [
          0,
          1
         ],
         "title": {
          "text": "roi"
         }
        }
       }
      },
      "text/html": [
       "<div>\n",
       "        \n",
       "        \n",
       "            <div id=\"d08878d7-b6ea-4c14-9bd2-e0b63f54efe4\" class=\"plotly-graph-div\" style=\"height:525px; width:100%;\"></div>\n",
       "            <script type=\"text/javascript\">\n",
       "                require([\"plotly\"], function(Plotly) {\n",
       "                    window.PLOTLYENV=window.PLOTLYENV || {};\n",
       "                    \n",
       "                if (document.getElementById(\"d08878d7-b6ea-4c14-9bd2-e0b63f54efe4\")) {\n",
       "                    Plotly.newPlot(\n",
       "                        'd08878d7-b6ea-4c14-9bd2-e0b63f54efe4',\n",
       "                        [{\"alignmentgroup\": \"True\", \"hoverlabel\": {\"namelength\": 0}, \"hovertemplate\": \"Item=%{x}<br>roi=%{y}\", \"legendgroup\": \"\", \"marker\": {\"color\": \"#636efa\"}, \"name\": \"\", \"offsetgroup\": \"\", \"orientation\": \"v\", \"showlegend\": false, \"textposition\": \"auto\", \"type\": \"bar\", \"x\": [\"Barley\", \"Maize\", \"Millet\", \"Rice\", \"Sorghum\", \"Wheat\"], \"xaxis\": \"x\", \"y\": [-14.108391430865622, -20.166405749460033, 5.235993001068195, -22.7553436737877, -12.830280835672237, -19.95848890866734], \"yaxis\": \"y\"}],\n",
       "                        {\"barmode\": \"relative\", \"legend\": {\"tracegroupgap\": 0}, \"margin\": {\"t\": 60}, \"template\": {\"data\": {\"bar\": [{\"error_x\": {\"color\": \"#2a3f5f\"}, \"error_y\": {\"color\": \"#2a3f5f\"}, \"marker\": {\"line\": {\"color\": \"#E5ECF6\", \"width\": 0.5}}, \"type\": \"bar\"}], \"barpolar\": [{\"marker\": {\"line\": {\"color\": \"#E5ECF6\", \"width\": 0.5}}, \"type\": \"barpolar\"}], \"carpet\": [{\"aaxis\": {\"endlinecolor\": \"#2a3f5f\", \"gridcolor\": \"white\", \"linecolor\": \"white\", \"minorgridcolor\": \"white\", \"startlinecolor\": \"#2a3f5f\"}, \"baxis\": {\"endlinecolor\": \"#2a3f5f\", \"gridcolor\": \"white\", \"linecolor\": \"white\", \"minorgridcolor\": \"white\", \"startlinecolor\": \"#2a3f5f\"}, \"type\": \"carpet\"}], \"choropleth\": [{\"colorbar\": {\"outlinewidth\": 0, \"ticks\": \"\"}, \"type\": \"choropleth\"}], \"contour\": [{\"colorbar\": {\"outlinewidth\": 0, \"ticks\": \"\"}, \"colorscale\": [[0.0, \"#0d0887\"], [0.1111111111111111, \"#46039f\"], [0.2222222222222222, \"#7201a8\"], [0.3333333333333333, \"#9c179e\"], [0.4444444444444444, \"#bd3786\"], [0.5555555555555556, \"#d8576b\"], [0.6666666666666666, \"#ed7953\"], [0.7777777777777778, \"#fb9f3a\"], [0.8888888888888888, \"#fdca26\"], [1.0, \"#f0f921\"]], \"type\": \"contour\"}], \"contourcarpet\": [{\"colorbar\": {\"outlinewidth\": 0, \"ticks\": \"\"}, \"type\": \"contourcarpet\"}], \"heatmap\": [{\"colorbar\": {\"outlinewidth\": 0, \"ticks\": \"\"}, \"colorscale\": [[0.0, \"#0d0887\"], [0.1111111111111111, \"#46039f\"], [0.2222222222222222, \"#7201a8\"], [0.3333333333333333, \"#9c179e\"], [0.4444444444444444, \"#bd3786\"], [0.5555555555555556, \"#d8576b\"], [0.6666666666666666, \"#ed7953\"], [0.7777777777777778, \"#fb9f3a\"], [0.8888888888888888, \"#fdca26\"], [1.0, \"#f0f921\"]], \"type\": \"heatmap\"}], \"heatmapgl\": [{\"colorbar\": {\"outlinewidth\": 0, \"ticks\": \"\"}, \"colorscale\": [[0.0, \"#0d0887\"], [0.1111111111111111, \"#46039f\"], [0.2222222222222222, \"#7201a8\"], [0.3333333333333333, \"#9c179e\"], [0.4444444444444444, \"#bd3786\"], [0.5555555555555556, \"#d8576b\"], [0.6666666666666666, \"#ed7953\"], [0.7777777777777778, \"#fb9f3a\"], [0.8888888888888888, \"#fdca26\"], [1.0, \"#f0f921\"]], \"type\": \"heatmapgl\"}], \"histogram\": [{\"marker\": {\"colorbar\": {\"outlinewidth\": 0, \"ticks\": \"\"}}, \"type\": \"histogram\"}], \"histogram2d\": [{\"colorbar\": {\"outlinewidth\": 0, \"ticks\": \"\"}, \"colorscale\": [[0.0, \"#0d0887\"], [0.1111111111111111, \"#46039f\"], [0.2222222222222222, \"#7201a8\"], [0.3333333333333333, \"#9c179e\"], [0.4444444444444444, \"#bd3786\"], [0.5555555555555556, \"#d8576b\"], [0.6666666666666666, \"#ed7953\"], [0.7777777777777778, \"#fb9f3a\"], [0.8888888888888888, \"#fdca26\"], [1.0, \"#f0f921\"]], \"type\": \"histogram2d\"}], \"histogram2dcontour\": [{\"colorbar\": {\"outlinewidth\": 0, \"ticks\": \"\"}, \"colorscale\": [[0.0, \"#0d0887\"], [0.1111111111111111, \"#46039f\"], [0.2222222222222222, \"#7201a8\"], [0.3333333333333333, \"#9c179e\"], [0.4444444444444444, \"#bd3786\"], [0.5555555555555556, \"#d8576b\"], [0.6666666666666666, \"#ed7953\"], [0.7777777777777778, \"#fb9f3a\"], [0.8888888888888888, \"#fdca26\"], [1.0, \"#f0f921\"]], \"type\": \"histogram2dcontour\"}], \"mesh3d\": [{\"colorbar\": {\"outlinewidth\": 0, \"ticks\": \"\"}, \"type\": \"mesh3d\"}], \"parcoords\": [{\"line\": {\"colorbar\": {\"outlinewidth\": 0, \"ticks\": \"\"}}, \"type\": \"parcoords\"}], \"pie\": [{\"automargin\": true, \"type\": \"pie\"}], \"scatter\": [{\"marker\": {\"colorbar\": {\"outlinewidth\": 0, \"ticks\": \"\"}}, \"type\": \"scatter\"}], \"scatter3d\": [{\"line\": {\"colorbar\": {\"outlinewidth\": 0, \"ticks\": \"\"}}, \"marker\": {\"colorbar\": {\"outlinewidth\": 0, \"ticks\": \"\"}}, \"type\": \"scatter3d\"}], \"scattercarpet\": [{\"marker\": {\"colorbar\": {\"outlinewidth\": 0, \"ticks\": \"\"}}, \"type\": \"scattercarpet\"}], \"scattergeo\": [{\"marker\": {\"colorbar\": {\"outlinewidth\": 0, \"ticks\": \"\"}}, \"type\": \"scattergeo\"}], \"scattergl\": [{\"marker\": {\"colorbar\": {\"outlinewidth\": 0, \"ticks\": \"\"}}, \"type\": \"scattergl\"}], \"scattermapbox\": [{\"marker\": {\"colorbar\": {\"outlinewidth\": 0, \"ticks\": \"\"}}, \"type\": \"scattermapbox\"}], \"scatterpolar\": [{\"marker\": {\"colorbar\": {\"outlinewidth\": 0, \"ticks\": \"\"}}, \"type\": \"scatterpolar\"}], \"scatterpolargl\": [{\"marker\": {\"colorbar\": {\"outlinewidth\": 0, \"ticks\": \"\"}}, \"type\": \"scatterpolargl\"}], \"scatterternary\": [{\"marker\": {\"colorbar\": {\"outlinewidth\": 0, \"ticks\": \"\"}}, \"type\": \"scatterternary\"}], \"surface\": [{\"colorbar\": {\"outlinewidth\": 0, \"ticks\": \"\"}, \"colorscale\": [[0.0, \"#0d0887\"], [0.1111111111111111, \"#46039f\"], [0.2222222222222222, \"#7201a8\"], [0.3333333333333333, \"#9c179e\"], [0.4444444444444444, \"#bd3786\"], [0.5555555555555556, \"#d8576b\"], [0.6666666666666666, \"#ed7953\"], [0.7777777777777778, \"#fb9f3a\"], [0.8888888888888888, \"#fdca26\"], [1.0, \"#f0f921\"]], \"type\": \"surface\"}], \"table\": [{\"cells\": {\"fill\": {\"color\": \"#EBF0F8\"}, \"line\": {\"color\": \"white\"}}, \"header\": {\"fill\": {\"color\": \"#C8D4E3\"}, \"line\": {\"color\": \"white\"}}, \"type\": \"table\"}]}, \"layout\": {\"annotationdefaults\": {\"arrowcolor\": \"#2a3f5f\", \"arrowhead\": 0, \"arrowwidth\": 1}, \"coloraxis\": {\"colorbar\": {\"outlinewidth\": 0, \"ticks\": \"\"}}, \"colorscale\": {\"diverging\": [[0, \"#8e0152\"], [0.1, \"#c51b7d\"], [0.2, \"#de77ae\"], [0.3, \"#f1b6da\"], [0.4, \"#fde0ef\"], [0.5, \"#f7f7f7\"], [0.6, \"#e6f5d0\"], [0.7, \"#b8e186\"], [0.8, \"#7fbc41\"], [0.9, \"#4d9221\"], [1, \"#276419\"]], \"sequential\": [[0.0, \"#0d0887\"], [0.1111111111111111, \"#46039f\"], [0.2222222222222222, \"#7201a8\"], [0.3333333333333333, \"#9c179e\"], [0.4444444444444444, \"#bd3786\"], [0.5555555555555556, \"#d8576b\"], [0.6666666666666666, \"#ed7953\"], [0.7777777777777778, \"#fb9f3a\"], [0.8888888888888888, \"#fdca26\"], [1.0, \"#f0f921\"]], \"sequentialminus\": [[0.0, \"#0d0887\"], [0.1111111111111111, \"#46039f\"], [0.2222222222222222, \"#7201a8\"], [0.3333333333333333, \"#9c179e\"], [0.4444444444444444, \"#bd3786\"], [0.5555555555555556, \"#d8576b\"], [0.6666666666666666, \"#ed7953\"], [0.7777777777777778, \"#fb9f3a\"], [0.8888888888888888, \"#fdca26\"], [1.0, \"#f0f921\"]]}, \"colorway\": [\"#636efa\", \"#EF553B\", \"#00cc96\", \"#ab63fa\", \"#FFA15A\", \"#19d3f3\", \"#FF6692\", \"#B6E880\", \"#FF97FF\", \"#FECB52\"], \"font\": {\"color\": \"#2a3f5f\"}, \"geo\": {\"bgcolor\": \"white\", \"lakecolor\": \"white\", \"landcolor\": \"#E5ECF6\", \"showlakes\": true, \"showland\": true, \"subunitcolor\": \"white\"}, \"hoverlabel\": {\"align\": \"left\"}, \"hovermode\": \"closest\", \"mapbox\": {\"style\": \"light\"}, \"paper_bgcolor\": \"white\", \"plot_bgcolor\": \"#E5ECF6\", \"polar\": {\"angularaxis\": {\"gridcolor\": \"white\", \"linecolor\": \"white\", \"ticks\": \"\"}, \"bgcolor\": \"#E5ECF6\", \"radialaxis\": {\"gridcolor\": \"white\", \"linecolor\": \"white\", \"ticks\": \"\"}}, \"scene\": {\"xaxis\": {\"backgroundcolor\": \"#E5ECF6\", \"gridcolor\": \"white\", \"gridwidth\": 2, \"linecolor\": \"white\", \"showbackground\": true, \"ticks\": \"\", \"zerolinecolor\": \"white\"}, \"yaxis\": {\"backgroundcolor\": \"#E5ECF6\", \"gridcolor\": \"white\", \"gridwidth\": 2, \"linecolor\": \"white\", \"showbackground\": true, \"ticks\": \"\", \"zerolinecolor\": \"white\"}, \"zaxis\": {\"backgroundcolor\": \"#E5ECF6\", \"gridcolor\": \"white\", \"gridwidth\": 2, \"linecolor\": \"white\", \"showbackground\": true, \"ticks\": \"\", \"zerolinecolor\": \"white\"}}, \"shapedefaults\": {\"line\": {\"color\": \"#2a3f5f\"}}, \"ternary\": {\"aaxis\": {\"gridcolor\": \"white\", \"linecolor\": \"white\", \"ticks\": \"\"}, \"baxis\": {\"gridcolor\": \"white\", \"linecolor\": \"white\", \"ticks\": \"\"}, \"bgcolor\": \"#E5ECF6\", \"caxis\": {\"gridcolor\": \"white\", \"linecolor\": \"white\", \"ticks\": \"\"}}, \"title\": {\"x\": 0.05}, \"xaxis\": {\"automargin\": true, \"gridcolor\": \"white\", \"linecolor\": \"white\", \"ticks\": \"\", \"title\": {\"standoff\": 15}, \"zerolinecolor\": \"white\", \"zerolinewidth\": 2}, \"yaxis\": {\"automargin\": true, \"gridcolor\": \"white\", \"linecolor\": \"white\", \"ticks\": \"\", \"title\": {\"standoff\": 15}, \"zerolinecolor\": \"white\", \"zerolinewidth\": 2}}}, \"title\": {\"text\": \"Rate of Yield decrease early(2011-2014 ) vs late(2015-2019) by Crop\"}, \"xaxis\": {\"anchor\": \"y\", \"categoryorder\": \"max descending\", \"domain\": [0.0, 1.0], \"tickangle\": 45, \"title\": {\"text\": \"Item\"}}, \"yaxis\": {\"anchor\": \"x\", \"domain\": [0.0, 1.0], \"title\": {\"text\": \"roi\"}}},\n",
       "                        {\"responsive\": true}\n",
       "                    ).then(function(){\n",
       "                            \n",
       "var gd = document.getElementById('d08878d7-b6ea-4c14-9bd2-e0b63f54efe4');\n",
       "var x = new MutationObserver(function (mutations, observer) {{\n",
       "        var display = window.getComputedStyle(gd).display;\n",
       "        if (!display || display === 'none') {{\n",
       "            console.log([gd, 'removed!']);\n",
       "            Plotly.purge(gd);\n",
       "            observer.disconnect();\n",
       "        }}\n",
       "}});\n",
       "\n",
       "// Listen for the removal of the full notebook cells\n",
       "var notebookContainer = gd.closest('#notebook-container');\n",
       "if (notebookContainer) {{\n",
       "    x.observe(notebookContainer, {childList: true});\n",
       "}}\n",
       "\n",
       "// Listen for the clearing of the current output cell\n",
       "var outputEl = gd.closest('.output');\n",
       "if (outputEl) {{\n",
       "    x.observe(outputEl, {childList: true});\n",
       "}}\n",
       "\n",
       "                        })\n",
       "                };\n",
       "                });\n",
       "            </script>\n",
       "        </div>"
      ]
     },
     "metadata": {},
     "output_type": "display_data"
    },
    {
     "data": {
      "application/vnd.plotly.v1+json": {
       "config": {
        "plotlyServerURL": "https://plot.ly"
       },
       "data": [
        {
         "alignmentgroup": "True",
         "hoverlabel": {
          "namelength": 0
         },
         "hovertemplate": "Item=%{x}<br>roi=%{y}",
         "legendgroup": "",
         "marker": {
          "color": "#636efa"
         },
         "name": "",
         "offsetgroup": "",
         "orientation": "v",
         "showlegend": false,
         "textposition": "auto",
         "type": "bar",
         "x": [
          "Barley",
          "Maize",
          "Millet",
          "Rice",
          "Sorghum",
          "Wheat"
         ],
         "xaxis": "x",
         "y": [
          -14.108391430865622,
          -20.166405749460033,
          5.235993001068195,
          -22.7553436737877,
          -12.830280835672237,
          -19.95848890866734
         ],
         "yaxis": "y"
        }
       ],
       "layout": {
        "barmode": "relative",
        "legend": {
         "tracegroupgap": 0
        },
        "margin": {
         "t": 60
        },
        "template": {
         "data": {
          "bar": [
           {
            "error_x": {
             "color": "#2a3f5f"
            },
            "error_y": {
             "color": "#2a3f5f"
            },
            "marker": {
             "line": {
              "color": "#E5ECF6",
              "width": 0.5
             }
            },
            "type": "bar"
           }
          ],
          "barpolar": [
           {
            "marker": {
             "line": {
              "color": "#E5ECF6",
              "width": 0.5
             }
            },
            "type": "barpolar"
           }
          ],
          "carpet": [
           {
            "aaxis": {
             "endlinecolor": "#2a3f5f",
             "gridcolor": "white",
             "linecolor": "white",
             "minorgridcolor": "white",
             "startlinecolor": "#2a3f5f"
            },
            "baxis": {
             "endlinecolor": "#2a3f5f",
             "gridcolor": "white",
             "linecolor": "white",
             "minorgridcolor": "white",
             "startlinecolor": "#2a3f5f"
            },
            "type": "carpet"
           }
          ],
          "choropleth": [
           {
            "colorbar": {
             "outlinewidth": 0,
             "ticks": ""
            },
            "type": "choropleth"
           }
          ],
          "contour": [
           {
            "colorbar": {
             "outlinewidth": 0,
             "ticks": ""
            },
            "colorscale": [
             [
              0,
              "#0d0887"
             ],
             [
              0.1111111111111111,
              "#46039f"
             ],
             [
              0.2222222222222222,
              "#7201a8"
             ],
             [
              0.3333333333333333,
              "#9c179e"
             ],
             [
              0.4444444444444444,
              "#bd3786"
             ],
             [
              0.5555555555555556,
              "#d8576b"
             ],
             [
              0.6666666666666666,
              "#ed7953"
             ],
             [
              0.7777777777777778,
              "#fb9f3a"
             ],
             [
              0.8888888888888888,
              "#fdca26"
             ],
             [
              1,
              "#f0f921"
             ]
            ],
            "type": "contour"
           }
          ],
          "contourcarpet": [
           {
            "colorbar": {
             "outlinewidth": 0,
             "ticks": ""
            },
            "type": "contourcarpet"
           }
          ],
          "heatmap": [
           {
            "colorbar": {
             "outlinewidth": 0,
             "ticks": ""
            },
            "colorscale": [
             [
              0,
              "#0d0887"
             ],
             [
              0.1111111111111111,
              "#46039f"
             ],
             [
              0.2222222222222222,
              "#7201a8"
             ],
             [
              0.3333333333333333,
              "#9c179e"
             ],
             [
              0.4444444444444444,
              "#bd3786"
             ],
             [
              0.5555555555555556,
              "#d8576b"
             ],
             [
              0.6666666666666666,
              "#ed7953"
             ],
             [
              0.7777777777777778,
              "#fb9f3a"
             ],
             [
              0.8888888888888888,
              "#fdca26"
             ],
             [
              1,
              "#f0f921"
             ]
            ],
            "type": "heatmap"
           }
          ],
          "heatmapgl": [
           {
            "colorbar": {
             "outlinewidth": 0,
             "ticks": ""
            },
            "colorscale": [
             [
              0,
              "#0d0887"
             ],
             [
              0.1111111111111111,
              "#46039f"
             ],
             [
              0.2222222222222222,
              "#7201a8"
             ],
             [
              0.3333333333333333,
              "#9c179e"
             ],
             [
              0.4444444444444444,
              "#bd3786"
             ],
             [
              0.5555555555555556,
              "#d8576b"
             ],
             [
              0.6666666666666666,
              "#ed7953"
             ],
             [
              0.7777777777777778,
              "#fb9f3a"
             ],
             [
              0.8888888888888888,
              "#fdca26"
             ],
             [
              1,
              "#f0f921"
             ]
            ],
            "type": "heatmapgl"
           }
          ],
          "histogram": [
           {
            "marker": {
             "colorbar": {
              "outlinewidth": 0,
              "ticks": ""
             }
            },
            "type": "histogram"
           }
          ],
          "histogram2d": [
           {
            "colorbar": {
             "outlinewidth": 0,
             "ticks": ""
            },
            "colorscale": [
             [
              0,
              "#0d0887"
             ],
             [
              0.1111111111111111,
              "#46039f"
             ],
             [
              0.2222222222222222,
              "#7201a8"
             ],
             [
              0.3333333333333333,
              "#9c179e"
             ],
             [
              0.4444444444444444,
              "#bd3786"
             ],
             [
              0.5555555555555556,
              "#d8576b"
             ],
             [
              0.6666666666666666,
              "#ed7953"
             ],
             [
              0.7777777777777778,
              "#fb9f3a"
             ],
             [
              0.8888888888888888,
              "#fdca26"
             ],
             [
              1,
              "#f0f921"
             ]
            ],
            "type": "histogram2d"
           }
          ],
          "histogram2dcontour": [
           {
            "colorbar": {
             "outlinewidth": 0,
             "ticks": ""
            },
            "colorscale": [
             [
              0,
              "#0d0887"
             ],
             [
              0.1111111111111111,
              "#46039f"
             ],
             [
              0.2222222222222222,
              "#7201a8"
             ],
             [
              0.3333333333333333,
              "#9c179e"
             ],
             [
              0.4444444444444444,
              "#bd3786"
             ],
             [
              0.5555555555555556,
              "#d8576b"
             ],
             [
              0.6666666666666666,
              "#ed7953"
             ],
             [
              0.7777777777777778,
              "#fb9f3a"
             ],
             [
              0.8888888888888888,
              "#fdca26"
             ],
             [
              1,
              "#f0f921"
             ]
            ],
            "type": "histogram2dcontour"
           }
          ],
          "mesh3d": [
           {
            "colorbar": {
             "outlinewidth": 0,
             "ticks": ""
            },
            "type": "mesh3d"
           }
          ],
          "parcoords": [
           {
            "line": {
             "colorbar": {
              "outlinewidth": 0,
              "ticks": ""
             }
            },
            "type": "parcoords"
           }
          ],
          "pie": [
           {
            "automargin": true,
            "type": "pie"
           }
          ],
          "scatter": [
           {
            "marker": {
             "colorbar": {
              "outlinewidth": 0,
              "ticks": ""
             }
            },
            "type": "scatter"
           }
          ],
          "scatter3d": [
           {
            "line": {
             "colorbar": {
              "outlinewidth": 0,
              "ticks": ""
             }
            },
            "marker": {
             "colorbar": {
              "outlinewidth": 0,
              "ticks": ""
             }
            },
            "type": "scatter3d"
           }
          ],
          "scattercarpet": [
           {
            "marker": {
             "colorbar": {
              "outlinewidth": 0,
              "ticks": ""
             }
            },
            "type": "scattercarpet"
           }
          ],
          "scattergeo": [
           {
            "marker": {
             "colorbar": {
              "outlinewidth": 0,
              "ticks": ""
             }
            },
            "type": "scattergeo"
           }
          ],
          "scattergl": [
           {
            "marker": {
             "colorbar": {
              "outlinewidth": 0,
              "ticks": ""
             }
            },
            "type": "scattergl"
           }
          ],
          "scattermapbox": [
           {
            "marker": {
             "colorbar": {
              "outlinewidth": 0,
              "ticks": ""
             }
            },
            "type": "scattermapbox"
           }
          ],
          "scatterpolar": [
           {
            "marker": {
             "colorbar": {
              "outlinewidth": 0,
              "ticks": ""
             }
            },
            "type": "scatterpolar"
           }
          ],
          "scatterpolargl": [
           {
            "marker": {
             "colorbar": {
              "outlinewidth": 0,
              "ticks": ""
             }
            },
            "type": "scatterpolargl"
           }
          ],
          "scatterternary": [
           {
            "marker": {
             "colorbar": {
              "outlinewidth": 0,
              "ticks": ""
             }
            },
            "type": "scatterternary"
           }
          ],
          "surface": [
           {
            "colorbar": {
             "outlinewidth": 0,
             "ticks": ""
            },
            "colorscale": [
             [
              0,
              "#0d0887"
             ],
             [
              0.1111111111111111,
              "#46039f"
             ],
             [
              0.2222222222222222,
              "#7201a8"
             ],
             [
              0.3333333333333333,
              "#9c179e"
             ],
             [
              0.4444444444444444,
              "#bd3786"
             ],
             [
              0.5555555555555556,
              "#d8576b"
             ],
             [
              0.6666666666666666,
              "#ed7953"
             ],
             [
              0.7777777777777778,
              "#fb9f3a"
             ],
             [
              0.8888888888888888,
              "#fdca26"
             ],
             [
              1,
              "#f0f921"
             ]
            ],
            "type": "surface"
           }
          ],
          "table": [
           {
            "cells": {
             "fill": {
              "color": "#EBF0F8"
             },
             "line": {
              "color": "white"
             }
            },
            "header": {
             "fill": {
              "color": "#C8D4E3"
             },
             "line": {
              "color": "white"
             }
            },
            "type": "table"
           }
          ]
         },
         "layout": {
          "annotationdefaults": {
           "arrowcolor": "#2a3f5f",
           "arrowhead": 0,
           "arrowwidth": 1
          },
          "coloraxis": {
           "colorbar": {
            "outlinewidth": 0,
            "ticks": ""
           }
          },
          "colorscale": {
           "diverging": [
            [
             0,
             "#8e0152"
            ],
            [
             0.1,
             "#c51b7d"
            ],
            [
             0.2,
             "#de77ae"
            ],
            [
             0.3,
             "#f1b6da"
            ],
            [
             0.4,
             "#fde0ef"
            ],
            [
             0.5,
             "#f7f7f7"
            ],
            [
             0.6,
             "#e6f5d0"
            ],
            [
             0.7,
             "#b8e186"
            ],
            [
             0.8,
             "#7fbc41"
            ],
            [
             0.9,
             "#4d9221"
            ],
            [
             1,
             "#276419"
            ]
           ],
           "sequential": [
            [
             0,
             "#0d0887"
            ],
            [
             0.1111111111111111,
             "#46039f"
            ],
            [
             0.2222222222222222,
             "#7201a8"
            ],
            [
             0.3333333333333333,
             "#9c179e"
            ],
            [
             0.4444444444444444,
             "#bd3786"
            ],
            [
             0.5555555555555556,
             "#d8576b"
            ],
            [
             0.6666666666666666,
             "#ed7953"
            ],
            [
             0.7777777777777778,
             "#fb9f3a"
            ],
            [
             0.8888888888888888,
             "#fdca26"
            ],
            [
             1,
             "#f0f921"
            ]
           ],
           "sequentialminus": [
            [
             0,
             "#0d0887"
            ],
            [
             0.1111111111111111,
             "#46039f"
            ],
            [
             0.2222222222222222,
             "#7201a8"
            ],
            [
             0.3333333333333333,
             "#9c179e"
            ],
            [
             0.4444444444444444,
             "#bd3786"
            ],
            [
             0.5555555555555556,
             "#d8576b"
            ],
            [
             0.6666666666666666,
             "#ed7953"
            ],
            [
             0.7777777777777778,
             "#fb9f3a"
            ],
            [
             0.8888888888888888,
             "#fdca26"
            ],
            [
             1,
             "#f0f921"
            ]
           ]
          },
          "colorway": [
           "#636efa",
           "#EF553B",
           "#00cc96",
           "#ab63fa",
           "#FFA15A",
           "#19d3f3",
           "#FF6692",
           "#B6E880",
           "#FF97FF",
           "#FECB52"
          ],
          "font": {
           "color": "#2a3f5f"
          },
          "geo": {
           "bgcolor": "white",
           "lakecolor": "white",
           "landcolor": "#E5ECF6",
           "showlakes": true,
           "showland": true,
           "subunitcolor": "white"
          },
          "hoverlabel": {
           "align": "left"
          },
          "hovermode": "closest",
          "mapbox": {
           "style": "light"
          },
          "paper_bgcolor": "white",
          "plot_bgcolor": "#E5ECF6",
          "polar": {
           "angularaxis": {
            "gridcolor": "white",
            "linecolor": "white",
            "ticks": ""
           },
           "bgcolor": "#E5ECF6",
           "radialaxis": {
            "gridcolor": "white",
            "linecolor": "white",
            "ticks": ""
           }
          },
          "scene": {
           "xaxis": {
            "backgroundcolor": "#E5ECF6",
            "gridcolor": "white",
            "gridwidth": 2,
            "linecolor": "white",
            "showbackground": true,
            "ticks": "",
            "zerolinecolor": "white"
           },
           "yaxis": {
            "backgroundcolor": "#E5ECF6",
            "gridcolor": "white",
            "gridwidth": 2,
            "linecolor": "white",
            "showbackground": true,
            "ticks": "",
            "zerolinecolor": "white"
           },
           "zaxis": {
            "backgroundcolor": "#E5ECF6",
            "gridcolor": "white",
            "gridwidth": 2,
            "linecolor": "white",
            "showbackground": true,
            "ticks": "",
            "zerolinecolor": "white"
           }
          },
          "shapedefaults": {
           "line": {
            "color": "#2a3f5f"
           }
          },
          "ternary": {
           "aaxis": {
            "gridcolor": "white",
            "linecolor": "white",
            "ticks": ""
           },
           "baxis": {
            "gridcolor": "white",
            "linecolor": "white",
            "ticks": ""
           },
           "bgcolor": "#E5ECF6",
           "caxis": {
            "gridcolor": "white",
            "linecolor": "white",
            "ticks": ""
           }
          },
          "title": {
           "x": 0.05
          },
          "xaxis": {
           "automargin": true,
           "gridcolor": "white",
           "linecolor": "white",
           "ticks": "",
           "title": {
            "standoff": 15
           },
           "zerolinecolor": "white",
           "zerolinewidth": 2
          },
          "yaxis": {
           "automargin": true,
           "gridcolor": "white",
           "linecolor": "white",
           "ticks": "",
           "title": {
            "standoff": 15
           },
           "zerolinecolor": "white",
           "zerolinewidth": 2
          }
         }
        },
        "title": {
         "text": "Rate of Yield decrease early(2011-2014 ) vs late(2015-2019) by Crop"
        },
        "xaxis": {
         "anchor": "y",
         "categoryorder": "max descending",
         "domain": [
          0,
          1
         ],
         "tickangle": 45,
         "title": {
          "text": "Item"
         }
        },
        "yaxis": {
         "anchor": "x",
         "domain": [
          0,
          1
         ],
         "title": {
          "text": "roi"
         }
        }
       }
      },
      "text/html": [
       "<div>\n",
       "        \n",
       "        \n",
       "            <div id=\"bd6a37f1-300a-4ea9-b9a7-7b12e9f1ac58\" class=\"plotly-graph-div\" style=\"height:525px; width:100%;\"></div>\n",
       "            <script type=\"text/javascript\">\n",
       "                require([\"plotly\"], function(Plotly) {\n",
       "                    window.PLOTLYENV=window.PLOTLYENV || {};\n",
       "                    \n",
       "                if (document.getElementById(\"bd6a37f1-300a-4ea9-b9a7-7b12e9f1ac58\")) {\n",
       "                    Plotly.newPlot(\n",
       "                        'bd6a37f1-300a-4ea9-b9a7-7b12e9f1ac58',\n",
       "                        [{\"alignmentgroup\": \"True\", \"hoverlabel\": {\"namelength\": 0}, \"hovertemplate\": \"Item=%{x}<br>roi=%{y}\", \"legendgroup\": \"\", \"marker\": {\"color\": \"#636efa\"}, \"name\": \"\", \"offsetgroup\": \"\", \"orientation\": \"v\", \"showlegend\": false, \"textposition\": \"auto\", \"type\": \"bar\", \"x\": [\"Barley\", \"Maize\", \"Millet\", \"Rice\", \"Sorghum\", \"Wheat\"], \"xaxis\": \"x\", \"y\": [-14.108391430865622, -20.166405749460033, 5.235993001068195, -22.7553436737877, -12.830280835672237, -19.95848890866734], \"yaxis\": \"y\"}],\n",
       "                        {\"barmode\": \"relative\", \"legend\": {\"tracegroupgap\": 0}, \"margin\": {\"t\": 60}, \"template\": {\"data\": {\"bar\": [{\"error_x\": {\"color\": \"#2a3f5f\"}, \"error_y\": {\"color\": \"#2a3f5f\"}, \"marker\": {\"line\": {\"color\": \"#E5ECF6\", \"width\": 0.5}}, \"type\": \"bar\"}], \"barpolar\": [{\"marker\": {\"line\": {\"color\": \"#E5ECF6\", \"width\": 0.5}}, \"type\": \"barpolar\"}], \"carpet\": [{\"aaxis\": {\"endlinecolor\": \"#2a3f5f\", \"gridcolor\": \"white\", \"linecolor\": \"white\", \"minorgridcolor\": \"white\", \"startlinecolor\": \"#2a3f5f\"}, \"baxis\": {\"endlinecolor\": \"#2a3f5f\", \"gridcolor\": \"white\", \"linecolor\": \"white\", \"minorgridcolor\": \"white\", \"startlinecolor\": \"#2a3f5f\"}, \"type\": \"carpet\"}], \"choropleth\": [{\"colorbar\": {\"outlinewidth\": 0, \"ticks\": \"\"}, \"type\": \"choropleth\"}], \"contour\": [{\"colorbar\": {\"outlinewidth\": 0, \"ticks\": \"\"}, \"colorscale\": [[0.0, \"#0d0887\"], [0.1111111111111111, \"#46039f\"], [0.2222222222222222, \"#7201a8\"], [0.3333333333333333, \"#9c179e\"], [0.4444444444444444, \"#bd3786\"], [0.5555555555555556, \"#d8576b\"], [0.6666666666666666, \"#ed7953\"], [0.7777777777777778, \"#fb9f3a\"], [0.8888888888888888, \"#fdca26\"], [1.0, \"#f0f921\"]], \"type\": \"contour\"}], \"contourcarpet\": [{\"colorbar\": {\"outlinewidth\": 0, \"ticks\": \"\"}, \"type\": \"contourcarpet\"}], \"heatmap\": [{\"colorbar\": {\"outlinewidth\": 0, \"ticks\": \"\"}, \"colorscale\": [[0.0, \"#0d0887\"], [0.1111111111111111, \"#46039f\"], [0.2222222222222222, \"#7201a8\"], [0.3333333333333333, \"#9c179e\"], [0.4444444444444444, \"#bd3786\"], [0.5555555555555556, \"#d8576b\"], [0.6666666666666666, \"#ed7953\"], [0.7777777777777778, \"#fb9f3a\"], [0.8888888888888888, \"#fdca26\"], [1.0, \"#f0f921\"]], \"type\": \"heatmap\"}], \"heatmapgl\": [{\"colorbar\": {\"outlinewidth\": 0, \"ticks\": \"\"}, \"colorscale\": [[0.0, \"#0d0887\"], [0.1111111111111111, \"#46039f\"], [0.2222222222222222, \"#7201a8\"], [0.3333333333333333, \"#9c179e\"], [0.4444444444444444, \"#bd3786\"], [0.5555555555555556, \"#d8576b\"], [0.6666666666666666, \"#ed7953\"], [0.7777777777777778, \"#fb9f3a\"], [0.8888888888888888, \"#fdca26\"], [1.0, \"#f0f921\"]], \"type\": \"heatmapgl\"}], \"histogram\": [{\"marker\": {\"colorbar\": {\"outlinewidth\": 0, \"ticks\": \"\"}}, \"type\": \"histogram\"}], \"histogram2d\": [{\"colorbar\": {\"outlinewidth\": 0, \"ticks\": \"\"}, \"colorscale\": [[0.0, \"#0d0887\"], [0.1111111111111111, \"#46039f\"], [0.2222222222222222, \"#7201a8\"], [0.3333333333333333, \"#9c179e\"], [0.4444444444444444, \"#bd3786\"], [0.5555555555555556, \"#d8576b\"], [0.6666666666666666, \"#ed7953\"], [0.7777777777777778, \"#fb9f3a\"], [0.8888888888888888, \"#fdca26\"], [1.0, \"#f0f921\"]], \"type\": \"histogram2d\"}], \"histogram2dcontour\": [{\"colorbar\": {\"outlinewidth\": 0, \"ticks\": \"\"}, \"colorscale\": [[0.0, \"#0d0887\"], [0.1111111111111111, \"#46039f\"], [0.2222222222222222, \"#7201a8\"], [0.3333333333333333, \"#9c179e\"], [0.4444444444444444, \"#bd3786\"], [0.5555555555555556, \"#d8576b\"], [0.6666666666666666, \"#ed7953\"], [0.7777777777777778, \"#fb9f3a\"], [0.8888888888888888, \"#fdca26\"], [1.0, \"#f0f921\"]], \"type\": \"histogram2dcontour\"}], \"mesh3d\": [{\"colorbar\": {\"outlinewidth\": 0, \"ticks\": \"\"}, \"type\": \"mesh3d\"}], \"parcoords\": [{\"line\": {\"colorbar\": {\"outlinewidth\": 0, \"ticks\": \"\"}}, \"type\": \"parcoords\"}], \"pie\": [{\"automargin\": true, \"type\": \"pie\"}], \"scatter\": [{\"marker\": {\"colorbar\": {\"outlinewidth\": 0, \"ticks\": \"\"}}, \"type\": \"scatter\"}], \"scatter3d\": [{\"line\": {\"colorbar\": {\"outlinewidth\": 0, \"ticks\": \"\"}}, \"marker\": {\"colorbar\": {\"outlinewidth\": 0, \"ticks\": \"\"}}, \"type\": \"scatter3d\"}], \"scattercarpet\": [{\"marker\": {\"colorbar\": {\"outlinewidth\": 0, \"ticks\": \"\"}}, \"type\": \"scattercarpet\"}], \"scattergeo\": [{\"marker\": {\"colorbar\": {\"outlinewidth\": 0, \"ticks\": \"\"}}, \"type\": \"scattergeo\"}], \"scattergl\": [{\"marker\": {\"colorbar\": {\"outlinewidth\": 0, \"ticks\": \"\"}}, \"type\": \"scattergl\"}], \"scattermapbox\": [{\"marker\": {\"colorbar\": {\"outlinewidth\": 0, \"ticks\": \"\"}}, \"type\": \"scattermapbox\"}], \"scatterpolar\": [{\"marker\": {\"colorbar\": {\"outlinewidth\": 0, \"ticks\": \"\"}}, \"type\": \"scatterpolar\"}], \"scatterpolargl\": [{\"marker\": {\"colorbar\": {\"outlinewidth\": 0, \"ticks\": \"\"}}, \"type\": \"scatterpolargl\"}], \"scatterternary\": [{\"marker\": {\"colorbar\": {\"outlinewidth\": 0, \"ticks\": \"\"}}, \"type\": \"scatterternary\"}], \"surface\": [{\"colorbar\": {\"outlinewidth\": 0, \"ticks\": \"\"}, \"colorscale\": [[0.0, \"#0d0887\"], [0.1111111111111111, \"#46039f\"], [0.2222222222222222, \"#7201a8\"], [0.3333333333333333, \"#9c179e\"], [0.4444444444444444, \"#bd3786\"], [0.5555555555555556, \"#d8576b\"], [0.6666666666666666, \"#ed7953\"], [0.7777777777777778, \"#fb9f3a\"], [0.8888888888888888, \"#fdca26\"], [1.0, \"#f0f921\"]], \"type\": \"surface\"}], \"table\": [{\"cells\": {\"fill\": {\"color\": \"#EBF0F8\"}, \"line\": {\"color\": \"white\"}}, \"header\": {\"fill\": {\"color\": \"#C8D4E3\"}, \"line\": {\"color\": \"white\"}}, \"type\": \"table\"}]}, \"layout\": {\"annotationdefaults\": {\"arrowcolor\": \"#2a3f5f\", \"arrowhead\": 0, \"arrowwidth\": 1}, \"coloraxis\": {\"colorbar\": {\"outlinewidth\": 0, \"ticks\": \"\"}}, \"colorscale\": {\"diverging\": [[0, \"#8e0152\"], [0.1, \"#c51b7d\"], [0.2, \"#de77ae\"], [0.3, \"#f1b6da\"], [0.4, \"#fde0ef\"], [0.5, \"#f7f7f7\"], [0.6, \"#e6f5d0\"], [0.7, \"#b8e186\"], [0.8, \"#7fbc41\"], [0.9, \"#4d9221\"], [1, \"#276419\"]], \"sequential\": [[0.0, \"#0d0887\"], [0.1111111111111111, \"#46039f\"], [0.2222222222222222, \"#7201a8\"], [0.3333333333333333, \"#9c179e\"], [0.4444444444444444, \"#bd3786\"], [0.5555555555555556, \"#d8576b\"], [0.6666666666666666, \"#ed7953\"], [0.7777777777777778, \"#fb9f3a\"], [0.8888888888888888, \"#fdca26\"], [1.0, \"#f0f921\"]], \"sequentialminus\": [[0.0, \"#0d0887\"], [0.1111111111111111, \"#46039f\"], [0.2222222222222222, \"#7201a8\"], [0.3333333333333333, \"#9c179e\"], [0.4444444444444444, \"#bd3786\"], [0.5555555555555556, \"#d8576b\"], [0.6666666666666666, \"#ed7953\"], [0.7777777777777778, \"#fb9f3a\"], [0.8888888888888888, \"#fdca26\"], [1.0, \"#f0f921\"]]}, \"colorway\": [\"#636efa\", \"#EF553B\", \"#00cc96\", \"#ab63fa\", \"#FFA15A\", \"#19d3f3\", \"#FF6692\", \"#B6E880\", \"#FF97FF\", \"#FECB52\"], \"font\": {\"color\": \"#2a3f5f\"}, \"geo\": {\"bgcolor\": \"white\", \"lakecolor\": \"white\", \"landcolor\": \"#E5ECF6\", \"showlakes\": true, \"showland\": true, \"subunitcolor\": \"white\"}, \"hoverlabel\": {\"align\": \"left\"}, \"hovermode\": \"closest\", \"mapbox\": {\"style\": \"light\"}, \"paper_bgcolor\": \"white\", \"plot_bgcolor\": \"#E5ECF6\", \"polar\": {\"angularaxis\": {\"gridcolor\": \"white\", \"linecolor\": \"white\", \"ticks\": \"\"}, \"bgcolor\": \"#E5ECF6\", \"radialaxis\": {\"gridcolor\": \"white\", \"linecolor\": \"white\", \"ticks\": \"\"}}, \"scene\": {\"xaxis\": {\"backgroundcolor\": \"#E5ECF6\", \"gridcolor\": \"white\", \"gridwidth\": 2, \"linecolor\": \"white\", \"showbackground\": true, \"ticks\": \"\", \"zerolinecolor\": \"white\"}, \"yaxis\": {\"backgroundcolor\": \"#E5ECF6\", \"gridcolor\": \"white\", \"gridwidth\": 2, \"linecolor\": \"white\", \"showbackground\": true, \"ticks\": \"\", \"zerolinecolor\": \"white\"}, \"zaxis\": {\"backgroundcolor\": \"#E5ECF6\", \"gridcolor\": \"white\", \"gridwidth\": 2, \"linecolor\": \"white\", \"showbackground\": true, \"ticks\": \"\", \"zerolinecolor\": \"white\"}}, \"shapedefaults\": {\"line\": {\"color\": \"#2a3f5f\"}}, \"ternary\": {\"aaxis\": {\"gridcolor\": \"white\", \"linecolor\": \"white\", \"ticks\": \"\"}, \"baxis\": {\"gridcolor\": \"white\", \"linecolor\": \"white\", \"ticks\": \"\"}, \"bgcolor\": \"#E5ECF6\", \"caxis\": {\"gridcolor\": \"white\", \"linecolor\": \"white\", \"ticks\": \"\"}}, \"title\": {\"x\": 0.05}, \"xaxis\": {\"automargin\": true, \"gridcolor\": \"white\", \"linecolor\": \"white\", \"ticks\": \"\", \"title\": {\"standoff\": 15}, \"zerolinecolor\": \"white\", \"zerolinewidth\": 2}, \"yaxis\": {\"automargin\": true, \"gridcolor\": \"white\", \"linecolor\": \"white\", \"ticks\": \"\", \"title\": {\"standoff\": 15}, \"zerolinecolor\": \"white\", \"zerolinewidth\": 2}}}, \"title\": {\"text\": \"Rate of Yield decrease early(2011-2014 ) vs late(2015-2019) by Crop\"}, \"xaxis\": {\"anchor\": \"y\", \"categoryorder\": \"max descending\", \"domain\": [0.0, 1.0], \"tickangle\": 45, \"title\": {\"text\": \"Item\"}}, \"yaxis\": {\"anchor\": \"x\", \"domain\": [0.0, 1.0], \"title\": {\"text\": \"roi\"}}},\n",
       "                        {\"responsive\": true}\n",
       "                    ).then(function(){\n",
       "                            \n",
       "var gd = document.getElementById('bd6a37f1-300a-4ea9-b9a7-7b12e9f1ac58');\n",
       "var x = new MutationObserver(function (mutations, observer) {{\n",
       "        var display = window.getComputedStyle(gd).display;\n",
       "        if (!display || display === 'none') {{\n",
       "            console.log([gd, 'removed!']);\n",
       "            Plotly.purge(gd);\n",
       "            observer.disconnect();\n",
       "        }}\n",
       "}});\n",
       "\n",
       "// Listen for the removal of the full notebook cells\n",
       "var notebookContainer = gd.closest('#notebook-container');\n",
       "if (notebookContainer) {{\n",
       "    x.observe(notebookContainer, {childList: true});\n",
       "}}\n",
       "\n",
       "// Listen for the clearing of the current output cell\n",
       "var outputEl = gd.closest('.output');\n",
       "if (outputEl) {{\n",
       "    x.observe(outputEl, {childList: true});\n",
       "}}\n",
       "\n",
       "                        })\n",
       "                };\n",
       "                });\n",
       "            </script>\n",
       "        </div>"
      ]
     },
     "metadata": {},
     "output_type": "display_data"
    }
   ],
   "source": [
    "# plot the rate of change \n",
    "fig = px.bar(df_crop_early_late_item, x=\"Item\", y= \"roi\").update_xaxes(categoryorder=\"max descending\")\n",
    "fig.update_layout(xaxis_tickangle = 45, title = 'Rate of Yield decrease early(2011-2014 ) vs late(2015-2019) by Crop' )\n",
    "fig.show()"
   ]
  },
  {
   "cell_type": "markdown",
   "metadata": {},
   "source": [
    "# Crop & Region merged"
   ]
  },
  {
   "cell_type": "markdown",
   "metadata": {},
   "source": [
    "In order to make analysis by different regions we need the data with regions."
   ]
  },
  {
   "cell_type": "code",
   "execution_count": 16,
   "metadata": {},
   "outputs": [
    {
     "data": {
      "text/html": [
       "<div>\n",
       "<style scoped>\n",
       "    .dataframe tbody tr th:only-of-type {\n",
       "        vertical-align: middle;\n",
       "    }\n",
       "\n",
       "    .dataframe tbody tr th {\n",
       "        vertical-align: top;\n",
       "    }\n",
       "\n",
       "    .dataframe thead th {\n",
       "        text-align: right;\n",
       "    }\n",
       "</style>\n",
       "<table border=\"1\" class=\"dataframe\">\n",
       "  <thead>\n",
       "    <tr style=\"text-align: right;\">\n",
       "      <th></th>\n",
       "      <th>Country Group Code</th>\n",
       "      <th>Country Group</th>\n",
       "      <th>Country Code</th>\n",
       "      <th>Country</th>\n",
       "      <th>M49 Code</th>\n",
       "      <th>ISO2 Code</th>\n",
       "      <th>ISO3 Code</th>\n",
       "    </tr>\n",
       "  </thead>\n",
       "  <tbody>\n",
       "    <tr>\n",
       "      <th>0</th>\n",
       "      <td>5100</td>\n",
       "      <td>Africa</td>\n",
       "      <td>4</td>\n",
       "      <td>Algeria</td>\n",
       "      <td>12.0</td>\n",
       "      <td>DZ</td>\n",
       "      <td>DZA</td>\n",
       "    </tr>\n",
       "    <tr>\n",
       "      <th>1</th>\n",
       "      <td>5100</td>\n",
       "      <td>Africa</td>\n",
       "      <td>7</td>\n",
       "      <td>Angola</td>\n",
       "      <td>24.0</td>\n",
       "      <td>AO</td>\n",
       "      <td>AGO</td>\n",
       "    </tr>\n",
       "    <tr>\n",
       "      <th>2</th>\n",
       "      <td>5100</td>\n",
       "      <td>Africa</td>\n",
       "      <td>53</td>\n",
       "      <td>Benin</td>\n",
       "      <td>204.0</td>\n",
       "      <td>BJ</td>\n",
       "      <td>BEN</td>\n",
       "    </tr>\n",
       "    <tr>\n",
       "      <th>3</th>\n",
       "      <td>5100</td>\n",
       "      <td>Africa</td>\n",
       "      <td>20</td>\n",
       "      <td>Botswana</td>\n",
       "      <td>72.0</td>\n",
       "      <td>BW</td>\n",
       "      <td>BWA</td>\n",
       "    </tr>\n",
       "    <tr>\n",
       "      <th>4</th>\n",
       "      <td>5100</td>\n",
       "      <td>Africa</td>\n",
       "      <td>24</td>\n",
       "      <td>British Indian Ocean Territory</td>\n",
       "      <td>86.0</td>\n",
       "      <td>IO</td>\n",
       "      <td>IOT</td>\n",
       "    </tr>\n",
       "  </tbody>\n",
       "</table>\n",
       "</div>"
      ],
      "text/plain": [
       "   Country Group Code Country Group  Country Code  \\\n",
       "0                5100        Africa             4   \n",
       "1                5100        Africa             7   \n",
       "2                5100        Africa            53   \n",
       "3                5100        Africa            20   \n",
       "4                5100        Africa            24   \n",
       "\n",
       "                          Country  M49 Code ISO2 Code ISO3 Code  \n",
       "0                         Algeria      12.0        DZ       DZA  \n",
       "1                          Angola      24.0        AO       AGO  \n",
       "2                           Benin     204.0        BJ       BEN  \n",
       "3                        Botswana      72.0        BW       BWA  \n",
       "4  British Indian Ocean Territory      86.0        IO       IOT  "
      ]
     },
     "execution_count": 16,
     "metadata": {},
     "output_type": "execute_result"
    }
   ],
   "source": [
    "df_reg.head()"
   ]
  },
  {
   "cell_type": "code",
   "execution_count": 17,
   "metadata": {},
   "outputs": [
    {
     "data": {
      "text/html": [
       "<div>\n",
       "<style scoped>\n",
       "    .dataframe tbody tr th:only-of-type {\n",
       "        vertical-align: middle;\n",
       "    }\n",
       "\n",
       "    .dataframe tbody tr th {\n",
       "        vertical-align: top;\n",
       "    }\n",
       "\n",
       "    .dataframe thead th {\n",
       "        text-align: right;\n",
       "    }\n",
       "</style>\n",
       "<table border=\"1\" class=\"dataframe\">\n",
       "  <thead>\n",
       "    <tr style=\"text-align: right;\">\n",
       "      <th></th>\n",
       "      <th>Country Group</th>\n",
       "      <th>Country Code</th>\n",
       "    </tr>\n",
       "  </thead>\n",
       "  <tbody>\n",
       "    <tr>\n",
       "      <th>0</th>\n",
       "      <td>Africa</td>\n",
       "      <td>4</td>\n",
       "    </tr>\n",
       "    <tr>\n",
       "      <th>1</th>\n",
       "      <td>Africa</td>\n",
       "      <td>7</td>\n",
       "    </tr>\n",
       "    <tr>\n",
       "      <th>2</th>\n",
       "      <td>Africa</td>\n",
       "      <td>53</td>\n",
       "    </tr>\n",
       "    <tr>\n",
       "      <th>3</th>\n",
       "      <td>Africa</td>\n",
       "      <td>20</td>\n",
       "    </tr>\n",
       "    <tr>\n",
       "      <th>4</th>\n",
       "      <td>Africa</td>\n",
       "      <td>24</td>\n",
       "    </tr>\n",
       "  </tbody>\n",
       "</table>\n",
       "</div>"
      ],
      "text/plain": [
       "  Country Group  Country Code\n",
       "0        Africa             4\n",
       "1        Africa             7\n",
       "2        Africa            53\n",
       "3        Africa            20\n",
       "4        Africa            24"
      ]
     },
     "execution_count": 17,
     "metadata": {},
     "output_type": "execute_result"
    }
   ],
   "source": [
    "# we only need the country code and group\n",
    "df_region = df_reg[['Country Group','Country Code']]\n",
    "df_region.head()"
   ]
  },
  {
   "cell_type": "code",
   "execution_count": 20,
   "metadata": {
    "scrolled": true
   },
   "outputs": [
    {
     "data": {
      "text/html": [
       "<div>\n",
       "<style scoped>\n",
       "    .dataframe tbody tr th:only-of-type {\n",
       "        vertical-align: middle;\n",
       "    }\n",
       "\n",
       "    .dataframe tbody tr th {\n",
       "        vertical-align: top;\n",
       "    }\n",
       "\n",
       "    .dataframe thead th {\n",
       "        text-align: right;\n",
       "    }\n",
       "</style>\n",
       "<table border=\"1\" class=\"dataframe\">\n",
       "  <thead>\n",
       "    <tr style=\"text-align: right;\">\n",
       "      <th></th>\n",
       "      <th>Area Code</th>\n",
       "      <th>Area</th>\n",
       "      <th>Item Code</th>\n",
       "      <th>Item</th>\n",
       "      <th>Year</th>\n",
       "      <th>yield</th>\n",
       "      <th>Country Group</th>\n",
       "      <th>Country Code</th>\n",
       "    </tr>\n",
       "  </thead>\n",
       "  <tbody>\n",
       "    <tr>\n",
       "      <th>0</th>\n",
       "      <td>2</td>\n",
       "      <td>Afghanistan</td>\n",
       "      <td>44</td>\n",
       "      <td>Barley</td>\n",
       "      <td>1961</td>\n",
       "      <td>10800.0</td>\n",
       "      <td>Asia</td>\n",
       "      <td>2.0</td>\n",
       "    </tr>\n",
       "    <tr>\n",
       "      <th>1</th>\n",
       "      <td>2</td>\n",
       "      <td>Afghanistan</td>\n",
       "      <td>44</td>\n",
       "      <td>Barley</td>\n",
       "      <td>1961</td>\n",
       "      <td>10800.0</td>\n",
       "      <td>Central Asia and Southern Asia</td>\n",
       "      <td>2.0</td>\n",
       "    </tr>\n",
       "    <tr>\n",
       "      <th>2</th>\n",
       "      <td>2</td>\n",
       "      <td>Afghanistan</td>\n",
       "      <td>44</td>\n",
       "      <td>Barley</td>\n",
       "      <td>1961</td>\n",
       "      <td>10800.0</td>\n",
       "      <td>Land Locked Developing Countries</td>\n",
       "      <td>2.0</td>\n",
       "    </tr>\n",
       "    <tr>\n",
       "      <th>3</th>\n",
       "      <td>2</td>\n",
       "      <td>Afghanistan</td>\n",
       "      <td>44</td>\n",
       "      <td>Barley</td>\n",
       "      <td>1961</td>\n",
       "      <td>10800.0</td>\n",
       "      <td>Least Developed Countries</td>\n",
       "      <td>2.0</td>\n",
       "    </tr>\n",
       "    <tr>\n",
       "      <th>4</th>\n",
       "      <td>2</td>\n",
       "      <td>Afghanistan</td>\n",
       "      <td>44</td>\n",
       "      <td>Barley</td>\n",
       "      <td>1961</td>\n",
       "      <td>10800.0</td>\n",
       "      <td>Low income economies</td>\n",
       "      <td>2.0</td>\n",
       "    </tr>\n",
       "  </tbody>\n",
       "</table>\n",
       "</div>"
      ],
      "text/plain": [
       "   Area Code         Area  Item Code    Item  Year    yield  \\\n",
       "0          2  Afghanistan         44  Barley  1961  10800.0   \n",
       "1          2  Afghanistan         44  Barley  1961  10800.0   \n",
       "2          2  Afghanistan         44  Barley  1961  10800.0   \n",
       "3          2  Afghanistan         44  Barley  1961  10800.0   \n",
       "4          2  Afghanistan         44  Barley  1961  10800.0   \n",
       "\n",
       "                      Country Group  Country Code  \n",
       "0                              Asia           2.0  \n",
       "1    Central Asia and Southern Asia           2.0  \n",
       "2  Land Locked Developing Countries           2.0  \n",
       "3         Least Developed Countries           2.0  \n",
       "4              Low income economies           2.0  "
      ]
     },
     "execution_count": 20,
     "metadata": {},
     "output_type": "execute_result"
    }
   ],
   "source": [
    "df_crop_reg = pd.merge(df_crop, df_region, how='left', left_on=['Area Code'], right_on=['Country Code'])\n",
    "df_crop_reg.head()"
   ]
  },
  {
   "cell_type": "code",
   "execution_count": 21,
   "metadata": {
    "scrolled": false
   },
   "outputs": [],
   "source": [
    "# df_crop_reg_profile = ProfileReport(df_crop_reg)\n",
    "# df_crop_reg_profile"
   ]
  },
  {
   "cell_type": "code",
   "execution_count": 22,
   "metadata": {},
   "outputs": [],
   "source": [
    "df_reg= df_reg.dropna()"
   ]
  },
  {
   "cell_type": "code",
   "execution_count": 23,
   "metadata": {},
   "outputs": [],
   "source": [
    "df_crop_reg = df_crop_reg.dropna()"
   ]
  },
  {
   "cell_type": "code",
   "execution_count": 193,
   "metadata": {},
   "outputs": [
    {
     "data": {
      "text/plain": [
       "array(['Asia', 'Central Asia and Southern Asia',\n",
       "       'Land Locked Developing Countries', 'Least Developed Countries',\n",
       "       'Low income economies', 'Low Income Food Deficit Countries',\n",
       "       'Net Food Importing Developing Countries', 'Non-Annex I countries',\n",
       "       'South Asia (exc India)', 'Southern Asia', 'World', 'Europe',\n",
       "       'Northern America and Europe', 'Southern Europe',\n",
       "       'Upper-middle-income economies', 'Africa',\n",
       "       'North Africa (exc Sudan)', 'Northern Africa',\n",
       "       'Western Asia and Northern Africa',\n",
       "       'Lower-middle-income economies', 'Middle Africa',\n",
       "       'Sub-Saharan Africa', 'Sub-Saharan Africa (including Sudan)',\n",
       "       'Americas', 'Caribbean', 'High-income economies',\n",
       "       'Latin America and the Caribbean',\n",
       "       'Small Island Developing States', 'South America', 'Western Asia',\n",
       "       'Annex I countries', 'Australia and New Zealand', 'Oceania',\n",
       "       'OECD', 'European Union', 'Western Europe', 'Eastern Europe',\n",
       "       'Central America', 'Western Africa', 'Southern Africa',\n",
       "       'Eastern Asia and South-eastern Asia', 'South-Eastern Asia',\n",
       "       'Eastern Africa', 'Northern America', 'Eastern Asia',\n",
       "       'East Asia (exc China)', 'Northern Europe', 'Melanesia',\n",
       "       'Oceania excluding Australia and New Zealand', 'Micronesia',\n",
       "       'Central Asia'], dtype=object)"
      ]
     },
     "execution_count": 193,
     "metadata": {},
     "output_type": "execute_result"
    }
   ],
   "source": [
    "#rename the Country Group column\n",
    "df_crop_reg.rename(columns={\"Country Group\": \"region\"} , inplace = True)\n",
    "df_crop_reg['region'].unique()"
   ]
  },
  {
   "cell_type": "markdown",
   "metadata": {},
   "source": [
    "# Compare the yield between 2010-2014 and 2015-2019"
   ]
  },
  {
   "cell_type": "code",
   "execution_count": 203,
   "metadata": {},
   "outputs": [
    {
     "data": {
      "text/html": [
       "<div>\n",
       "<style scoped>\n",
       "    .dataframe tbody tr th:only-of-type {\n",
       "        vertical-align: middle;\n",
       "    }\n",
       "\n",
       "    .dataframe tbody tr th {\n",
       "        vertical-align: top;\n",
       "    }\n",
       "\n",
       "    .dataframe thead th {\n",
       "        text-align: right;\n",
       "    }\n",
       "</style>\n",
       "<table border=\"1\" class=\"dataframe\">\n",
       "  <thead>\n",
       "    <tr style=\"text-align: right;\">\n",
       "      <th></th>\n",
       "      <th>region</th>\n",
       "      <th>yield</th>\n",
       "    </tr>\n",
       "  </thead>\n",
       "  <tbody>\n",
       "    <tr>\n",
       "      <th>0</th>\n",
       "      <td>Africa</td>\n",
       "      <td>19369713.0</td>\n",
       "    </tr>\n",
       "    <tr>\n",
       "      <th>1</th>\n",
       "      <td>Americas</td>\n",
       "      <td>20367009.0</td>\n",
       "    </tr>\n",
       "    <tr>\n",
       "      <th>2</th>\n",
       "      <td>Annex I countries</td>\n",
       "      <td>39990228.0</td>\n",
       "    </tr>\n",
       "    <tr>\n",
       "      <th>3</th>\n",
       "      <td>Asia</td>\n",
       "      <td>36014087.0</td>\n",
       "    </tr>\n",
       "    <tr>\n",
       "      <th>4</th>\n",
       "      <td>Australia and New Zealand</td>\n",
       "      <td>2507117.0</td>\n",
       "    </tr>\n",
       "  </tbody>\n",
       "</table>\n",
       "</div>"
      ],
      "text/plain": [
       "                      region       yield\n",
       "0                     Africa  19369713.0\n",
       "1                   Americas  20367009.0\n",
       "2          Annex I countries  39990228.0\n",
       "3                       Asia  36014087.0\n",
       "4  Australia and New Zealand   2507117.0"
      ]
     },
     "execution_count": 203,
     "metadata": {},
     "output_type": "execute_result"
    },
    {
     "data": {
      "text/html": [
       "<div>\n",
       "<style scoped>\n",
       "    .dataframe tbody tr th:only-of-type {\n",
       "        vertical-align: middle;\n",
       "    }\n",
       "\n",
       "    .dataframe tbody tr th {\n",
       "        vertical-align: top;\n",
       "    }\n",
       "\n",
       "    .dataframe thead th {\n",
       "        text-align: right;\n",
       "    }\n",
       "</style>\n",
       "<table border=\"1\" class=\"dataframe\">\n",
       "  <thead>\n",
       "    <tr style=\"text-align: right;\">\n",
       "      <th></th>\n",
       "      <th>region</th>\n",
       "      <th>yield_early</th>\n",
       "      <th>yield_late</th>\n",
       "    </tr>\n",
       "  </thead>\n",
       "  <tbody>\n",
       "    <tr>\n",
       "      <th>0</th>\n",
       "      <td>Africa</td>\n",
       "      <td>19369713.0</td>\n",
       "      <td>15745788.0</td>\n",
       "    </tr>\n",
       "    <tr>\n",
       "      <th>1</th>\n",
       "      <td>Americas</td>\n",
       "      <td>20367009.0</td>\n",
       "      <td>17045670.0</td>\n",
       "    </tr>\n",
       "    <tr>\n",
       "      <th>2</th>\n",
       "      <td>Annex I countries</td>\n",
       "      <td>39990228.0</td>\n",
       "      <td>33843079.0</td>\n",
       "    </tr>\n",
       "    <tr>\n",
       "      <th>3</th>\n",
       "      <td>Asia</td>\n",
       "      <td>36014087.0</td>\n",
       "      <td>31583382.0</td>\n",
       "    </tr>\n",
       "    <tr>\n",
       "      <th>4</th>\n",
       "      <td>Australia and New Zealand</td>\n",
       "      <td>2507117.0</td>\n",
       "      <td>2123360.0</td>\n",
       "    </tr>\n",
       "  </tbody>\n",
       "</table>\n",
       "</div>"
      ],
      "text/plain": [
       "                      region  yield_early  yield_late\n",
       "0                     Africa   19369713.0  15745788.0\n",
       "1                   Americas   20367009.0  17045670.0\n",
       "2          Annex I countries   39990228.0  33843079.0\n",
       "3                       Asia   36014087.0  31583382.0\n",
       "4  Australia and New Zealand    2507117.0   2123360.0"
      ]
     },
     "execution_count": 203,
     "metadata": {},
     "output_type": "execute_result"
    }
   ],
   "source": [
    "df_crop_reg_early = df_crop_reg.query(\"Year in [2010,2011,2012,2013,2014]\")\n",
    "df_crop_reg_late = df_crop_reg.query(\"Year in [2015,2016,2017,2018,2019]\")\n",
    "df_crop_reg_early_r = df_crop_reg_early.groupby(['region'], as_index =False)['yield'].sum()\n",
    "df_crop_reg_late_r = df_crop_reg_late.groupby(['region'], as_index =False)['yield'].sum()\n",
    "df_crop_reg_early_r.head()\n",
    "df_crop_reg_early_late_r = pd.merge(df_crop_reg_early_r, df_crop_reg_late_r , on='region',suffixes=('_early', '_late'))\n",
    "#df_crop_reg_early_late_r.set_index('region', inplace=True)\n",
    "df_crop_reg_early_late_r.head()\n"
   ]
  },
  {
   "cell_type": "code",
   "execution_count": 226,
   "metadata": {},
   "outputs": [
    {
     "data": {
      "application/vnd.plotly.v1+json": {
       "config": {
        "plotlyServerURL": "https://plot.ly"
       },
       "data": [
        {
         "name": "early",
         "type": "bar",
         "x": [
          "Africa",
          "Americas",
          "Annex I countries",
          "Asia",
          "Australia and New Zealand",
          "Caribbean",
          "Central America",
          "Central Asia",
          "Central Asia and Southern Asia",
          "East Asia (exc China)",
          "Eastern Africa",
          "Eastern Asia",
          "Eastern Asia and South-eastern Asia",
          "Eastern Europe",
          "Europe",
          "European Union",
          "High-income economies",
          "Land Locked Developing Countries",
          "Latin America and the Caribbean",
          "Least Developed Countries",
          "Low Income Food Deficit Countries",
          "Low income economies",
          "Lower-middle-income economies",
          "Melanesia",
          "Micronesia",
          "Middle Africa",
          "Net Food Importing Developing Countries",
          "Non-Annex I countries",
          "North Africa (exc Sudan)",
          "Northern Africa",
          "Northern America",
          "Northern America and Europe",
          "Northern Europe",
          "OECD",
          "Oceania",
          "Oceania excluding Australia and New Zealand",
          "Small Island Developing States",
          "South America",
          "South Asia (exc India)",
          "South-Eastern Asia",
          "Southern Africa",
          "Southern Asia",
          "Southern Europe",
          "Sub-Saharan Africa",
          "Sub-Saharan Africa (including Sudan)",
          "Upper-middle-income economies",
          "Western Africa",
          "Western Asia",
          "Western Asia and Northern Africa",
          "Western Europe",
          "World"
         ],
         "y": [
          19369713,
          20367009,
          39990228,
          36014087,
          2507117,
          3816692,
          4226479,
          4894283,
          10307088,
          1873050,
          7262080,
          5135306,
          9592944,
          8693174,
          34587828,
          26550248,
          48059292,
          17159184,
          17149747,
          14939847,
          21015373,
          12772770,
          20930327,
          1429922,
          398137,
          1770831,
          28732497,
          74391179,
          3461637,
          3846947,
          2284215,
          36872043,
          5069206,
          36425842,
          4335176,
          1705145,
          8431222,
          10039623,
          4728734,
          4457638,
          1808043,
          5412805,
          11220860,
          14919247,
          15126312,
          31073699,
          4681812,
          16114055,
          19782757,
          9604588,
          114673813
         ]
        },
        {
         "name": "late",
         "type": "bar",
         "x": [
          "Africa",
          "Americas",
          "Annex I countries",
          "Asia",
          "Australia and New Zealand",
          "Caribbean",
          "Central America",
          "Central Asia",
          "Central Asia and Southern Asia",
          "East Asia (exc China)",
          "Eastern Africa",
          "Eastern Asia",
          "Eastern Asia and South-eastern Asia",
          "Eastern Europe",
          "Europe",
          "European Union",
          "High-income economies",
          "Land Locked Developing Countries",
          "Latin America and the Caribbean",
          "Least Developed Countries",
          "Low Income Food Deficit Countries",
          "Low income economies",
          "Lower-middle-income economies",
          "Melanesia",
          "Micronesia",
          "Middle Africa",
          "Net Food Importing Developing Countries",
          "Non-Annex I countries",
          "North Africa (exc Sudan)",
          "Northern Africa",
          "Northern America",
          "Northern America and Europe",
          "Northern Europe",
          "OECD",
          "Oceania",
          "Oceania excluding Australia and New Zealand",
          "Small Island Developing States",
          "South America",
          "South Asia (exc India)",
          "South-Eastern Asia",
          "Southern Africa",
          "Southern Asia",
          "Southern Europe",
          "Sub-Saharan Africa",
          "Sub-Saharan Africa (including Sudan)",
          "Upper-middle-income economies",
          "Western Africa",
          "Western Asia",
          "Western Asia and Northern Africa",
          "Western Europe",
          "World"
         ],
         "y": [
          15745788,
          17045670,
          33843079,
          31583382,
          2123360,
          3147925,
          3573975,
          4758287,
          9366201,
          1472181,
          5587399,
          4124649,
          7932068,
          8004663,
          29464741,
          22410938,
          40424591,
          15428735,
          14450166,
          12019649,
          17634324,
          10626851,
          17878061,
          1352055,
          335299,
          1393781,
          23434551,
          63569059,
          3152066,
          3529905,
          2038444,
          31503185,
          4397399,
          30414595,
          3810714,
          1581211,
          7022061,
          8285326,
          4035247,
          3807419,
          1448636,
          4607914,
          9527986,
          11710138,
          12067805,
          27531672,
          3786067,
          14285113,
          17794846,
          7534693,
          97650295
         ]
        }
       ],
       "layout": {
        "barmode": "group",
        "template": {
         "data": {
          "bar": [
           {
            "error_x": {
             "color": "#2a3f5f"
            },
            "error_y": {
             "color": "#2a3f5f"
            },
            "marker": {
             "line": {
              "color": "#E5ECF6",
              "width": 0.5
             }
            },
            "type": "bar"
           }
          ],
          "barpolar": [
           {
            "marker": {
             "line": {
              "color": "#E5ECF6",
              "width": 0.5
             }
            },
            "type": "barpolar"
           }
          ],
          "carpet": [
           {
            "aaxis": {
             "endlinecolor": "#2a3f5f",
             "gridcolor": "white",
             "linecolor": "white",
             "minorgridcolor": "white",
             "startlinecolor": "#2a3f5f"
            },
            "baxis": {
             "endlinecolor": "#2a3f5f",
             "gridcolor": "white",
             "linecolor": "white",
             "minorgridcolor": "white",
             "startlinecolor": "#2a3f5f"
            },
            "type": "carpet"
           }
          ],
          "choropleth": [
           {
            "colorbar": {
             "outlinewidth": 0,
             "ticks": ""
            },
            "type": "choropleth"
           }
          ],
          "contour": [
           {
            "colorbar": {
             "outlinewidth": 0,
             "ticks": ""
            },
            "colorscale": [
             [
              0,
              "#0d0887"
             ],
             [
              0.1111111111111111,
              "#46039f"
             ],
             [
              0.2222222222222222,
              "#7201a8"
             ],
             [
              0.3333333333333333,
              "#9c179e"
             ],
             [
              0.4444444444444444,
              "#bd3786"
             ],
             [
              0.5555555555555556,
              "#d8576b"
             ],
             [
              0.6666666666666666,
              "#ed7953"
             ],
             [
              0.7777777777777778,
              "#fb9f3a"
             ],
             [
              0.8888888888888888,
              "#fdca26"
             ],
             [
              1,
              "#f0f921"
             ]
            ],
            "type": "contour"
           }
          ],
          "contourcarpet": [
           {
            "colorbar": {
             "outlinewidth": 0,
             "ticks": ""
            },
            "type": "contourcarpet"
           }
          ],
          "heatmap": [
           {
            "colorbar": {
             "outlinewidth": 0,
             "ticks": ""
            },
            "colorscale": [
             [
              0,
              "#0d0887"
             ],
             [
              0.1111111111111111,
              "#46039f"
             ],
             [
              0.2222222222222222,
              "#7201a8"
             ],
             [
              0.3333333333333333,
              "#9c179e"
             ],
             [
              0.4444444444444444,
              "#bd3786"
             ],
             [
              0.5555555555555556,
              "#d8576b"
             ],
             [
              0.6666666666666666,
              "#ed7953"
             ],
             [
              0.7777777777777778,
              "#fb9f3a"
             ],
             [
              0.8888888888888888,
              "#fdca26"
             ],
             [
              1,
              "#f0f921"
             ]
            ],
            "type": "heatmap"
           }
          ],
          "heatmapgl": [
           {
            "colorbar": {
             "outlinewidth": 0,
             "ticks": ""
            },
            "colorscale": [
             [
              0,
              "#0d0887"
             ],
             [
              0.1111111111111111,
              "#46039f"
             ],
             [
              0.2222222222222222,
              "#7201a8"
             ],
             [
              0.3333333333333333,
              "#9c179e"
             ],
             [
              0.4444444444444444,
              "#bd3786"
             ],
             [
              0.5555555555555556,
              "#d8576b"
             ],
             [
              0.6666666666666666,
              "#ed7953"
             ],
             [
              0.7777777777777778,
              "#fb9f3a"
             ],
             [
              0.8888888888888888,
              "#fdca26"
             ],
             [
              1,
              "#f0f921"
             ]
            ],
            "type": "heatmapgl"
           }
          ],
          "histogram": [
           {
            "marker": {
             "colorbar": {
              "outlinewidth": 0,
              "ticks": ""
             }
            },
            "type": "histogram"
           }
          ],
          "histogram2d": [
           {
            "colorbar": {
             "outlinewidth": 0,
             "ticks": ""
            },
            "colorscale": [
             [
              0,
              "#0d0887"
             ],
             [
              0.1111111111111111,
              "#46039f"
             ],
             [
              0.2222222222222222,
              "#7201a8"
             ],
             [
              0.3333333333333333,
              "#9c179e"
             ],
             [
              0.4444444444444444,
              "#bd3786"
             ],
             [
              0.5555555555555556,
              "#d8576b"
             ],
             [
              0.6666666666666666,
              "#ed7953"
             ],
             [
              0.7777777777777778,
              "#fb9f3a"
             ],
             [
              0.8888888888888888,
              "#fdca26"
             ],
             [
              1,
              "#f0f921"
             ]
            ],
            "type": "histogram2d"
           }
          ],
          "histogram2dcontour": [
           {
            "colorbar": {
             "outlinewidth": 0,
             "ticks": ""
            },
            "colorscale": [
             [
              0,
              "#0d0887"
             ],
             [
              0.1111111111111111,
              "#46039f"
             ],
             [
              0.2222222222222222,
              "#7201a8"
             ],
             [
              0.3333333333333333,
              "#9c179e"
             ],
             [
              0.4444444444444444,
              "#bd3786"
             ],
             [
              0.5555555555555556,
              "#d8576b"
             ],
             [
              0.6666666666666666,
              "#ed7953"
             ],
             [
              0.7777777777777778,
              "#fb9f3a"
             ],
             [
              0.8888888888888888,
              "#fdca26"
             ],
             [
              1,
              "#f0f921"
             ]
            ],
            "type": "histogram2dcontour"
           }
          ],
          "mesh3d": [
           {
            "colorbar": {
             "outlinewidth": 0,
             "ticks": ""
            },
            "type": "mesh3d"
           }
          ],
          "parcoords": [
           {
            "line": {
             "colorbar": {
              "outlinewidth": 0,
              "ticks": ""
             }
            },
            "type": "parcoords"
           }
          ],
          "pie": [
           {
            "automargin": true,
            "type": "pie"
           }
          ],
          "scatter": [
           {
            "marker": {
             "colorbar": {
              "outlinewidth": 0,
              "ticks": ""
             }
            },
            "type": "scatter"
           }
          ],
          "scatter3d": [
           {
            "line": {
             "colorbar": {
              "outlinewidth": 0,
              "ticks": ""
             }
            },
            "marker": {
             "colorbar": {
              "outlinewidth": 0,
              "ticks": ""
             }
            },
            "type": "scatter3d"
           }
          ],
          "scattercarpet": [
           {
            "marker": {
             "colorbar": {
              "outlinewidth": 0,
              "ticks": ""
             }
            },
            "type": "scattercarpet"
           }
          ],
          "scattergeo": [
           {
            "marker": {
             "colorbar": {
              "outlinewidth": 0,
              "ticks": ""
             }
            },
            "type": "scattergeo"
           }
          ],
          "scattergl": [
           {
            "marker": {
             "colorbar": {
              "outlinewidth": 0,
              "ticks": ""
             }
            },
            "type": "scattergl"
           }
          ],
          "scattermapbox": [
           {
            "marker": {
             "colorbar": {
              "outlinewidth": 0,
              "ticks": ""
             }
            },
            "type": "scattermapbox"
           }
          ],
          "scatterpolar": [
           {
            "marker": {
             "colorbar": {
              "outlinewidth": 0,
              "ticks": ""
             }
            },
            "type": "scatterpolar"
           }
          ],
          "scatterpolargl": [
           {
            "marker": {
             "colorbar": {
              "outlinewidth": 0,
              "ticks": ""
             }
            },
            "type": "scatterpolargl"
           }
          ],
          "scatterternary": [
           {
            "marker": {
             "colorbar": {
              "outlinewidth": 0,
              "ticks": ""
             }
            },
            "type": "scatterternary"
           }
          ],
          "surface": [
           {
            "colorbar": {
             "outlinewidth": 0,
             "ticks": ""
            },
            "colorscale": [
             [
              0,
              "#0d0887"
             ],
             [
              0.1111111111111111,
              "#46039f"
             ],
             [
              0.2222222222222222,
              "#7201a8"
             ],
             [
              0.3333333333333333,
              "#9c179e"
             ],
             [
              0.4444444444444444,
              "#bd3786"
             ],
             [
              0.5555555555555556,
              "#d8576b"
             ],
             [
              0.6666666666666666,
              "#ed7953"
             ],
             [
              0.7777777777777778,
              "#fb9f3a"
             ],
             [
              0.8888888888888888,
              "#fdca26"
             ],
             [
              1,
              "#f0f921"
             ]
            ],
            "type": "surface"
           }
          ],
          "table": [
           {
            "cells": {
             "fill": {
              "color": "#EBF0F8"
             },
             "line": {
              "color": "white"
             }
            },
            "header": {
             "fill": {
              "color": "#C8D4E3"
             },
             "line": {
              "color": "white"
             }
            },
            "type": "table"
           }
          ]
         },
         "layout": {
          "annotationdefaults": {
           "arrowcolor": "#2a3f5f",
           "arrowhead": 0,
           "arrowwidth": 1
          },
          "coloraxis": {
           "colorbar": {
            "outlinewidth": 0,
            "ticks": ""
           }
          },
          "colorscale": {
           "diverging": [
            [
             0,
             "#8e0152"
            ],
            [
             0.1,
             "#c51b7d"
            ],
            [
             0.2,
             "#de77ae"
            ],
            [
             0.3,
             "#f1b6da"
            ],
            [
             0.4,
             "#fde0ef"
            ],
            [
             0.5,
             "#f7f7f7"
            ],
            [
             0.6,
             "#e6f5d0"
            ],
            [
             0.7,
             "#b8e186"
            ],
            [
             0.8,
             "#7fbc41"
            ],
            [
             0.9,
             "#4d9221"
            ],
            [
             1,
             "#276419"
            ]
           ],
           "sequential": [
            [
             0,
             "#0d0887"
            ],
            [
             0.1111111111111111,
             "#46039f"
            ],
            [
             0.2222222222222222,
             "#7201a8"
            ],
            [
             0.3333333333333333,
             "#9c179e"
            ],
            [
             0.4444444444444444,
             "#bd3786"
            ],
            [
             0.5555555555555556,
             "#d8576b"
            ],
            [
             0.6666666666666666,
             "#ed7953"
            ],
            [
             0.7777777777777778,
             "#fb9f3a"
            ],
            [
             0.8888888888888888,
             "#fdca26"
            ],
            [
             1,
             "#f0f921"
            ]
           ],
           "sequentialminus": [
            [
             0,
             "#0d0887"
            ],
            [
             0.1111111111111111,
             "#46039f"
            ],
            [
             0.2222222222222222,
             "#7201a8"
            ],
            [
             0.3333333333333333,
             "#9c179e"
            ],
            [
             0.4444444444444444,
             "#bd3786"
            ],
            [
             0.5555555555555556,
             "#d8576b"
            ],
            [
             0.6666666666666666,
             "#ed7953"
            ],
            [
             0.7777777777777778,
             "#fb9f3a"
            ],
            [
             0.8888888888888888,
             "#fdca26"
            ],
            [
             1,
             "#f0f921"
            ]
           ]
          },
          "colorway": [
           "#636efa",
           "#EF553B",
           "#00cc96",
           "#ab63fa",
           "#FFA15A",
           "#19d3f3",
           "#FF6692",
           "#B6E880",
           "#FF97FF",
           "#FECB52"
          ],
          "font": {
           "color": "#2a3f5f"
          },
          "geo": {
           "bgcolor": "white",
           "lakecolor": "white",
           "landcolor": "#E5ECF6",
           "showlakes": true,
           "showland": true,
           "subunitcolor": "white"
          },
          "hoverlabel": {
           "align": "left"
          },
          "hovermode": "closest",
          "mapbox": {
           "style": "light"
          },
          "paper_bgcolor": "white",
          "plot_bgcolor": "#E5ECF6",
          "polar": {
           "angularaxis": {
            "gridcolor": "white",
            "linecolor": "white",
            "ticks": ""
           },
           "bgcolor": "#E5ECF6",
           "radialaxis": {
            "gridcolor": "white",
            "linecolor": "white",
            "ticks": ""
           }
          },
          "scene": {
           "xaxis": {
            "backgroundcolor": "#E5ECF6",
            "gridcolor": "white",
            "gridwidth": 2,
            "linecolor": "white",
            "showbackground": true,
            "ticks": "",
            "zerolinecolor": "white"
           },
           "yaxis": {
            "backgroundcolor": "#E5ECF6",
            "gridcolor": "white",
            "gridwidth": 2,
            "linecolor": "white",
            "showbackground": true,
            "ticks": "",
            "zerolinecolor": "white"
           },
           "zaxis": {
            "backgroundcolor": "#E5ECF6",
            "gridcolor": "white",
            "gridwidth": 2,
            "linecolor": "white",
            "showbackground": true,
            "ticks": "",
            "zerolinecolor": "white"
           }
          },
          "shapedefaults": {
           "line": {
            "color": "#2a3f5f"
           }
          },
          "ternary": {
           "aaxis": {
            "gridcolor": "white",
            "linecolor": "white",
            "ticks": ""
           },
           "baxis": {
            "gridcolor": "white",
            "linecolor": "white",
            "ticks": ""
           },
           "bgcolor": "#E5ECF6",
           "caxis": {
            "gridcolor": "white",
            "linecolor": "white",
            "ticks": ""
           }
          },
          "title": {
           "x": 0.05
          },
          "xaxis": {
           "automargin": true,
           "gridcolor": "white",
           "linecolor": "white",
           "ticks": "",
           "title": {
            "standoff": 15
           },
           "zerolinecolor": "white",
           "zerolinewidth": 2
          },
          "yaxis": {
           "automargin": true,
           "gridcolor": "white",
           "linecolor": "white",
           "ticks": "",
           "title": {
            "standoff": 15
           },
           "zerolinecolor": "white",
           "zerolinewidth": 2
          }
         }
        },
        "title": {
         "text": "Yield  early(2011-2014 ) vs late(2015-2019)"
        },
        "xaxis": {
         "tickangle": 45
        }
       }
      },
      "text/html": [
       "<div>\n",
       "        \n",
       "        \n",
       "            <div id=\"afef6872-906d-41cb-ad6b-4f0918dcfe08\" class=\"plotly-graph-div\" style=\"height:525px; width:100%;\"></div>\n",
       "            <script type=\"text/javascript\">\n",
       "                require([\"plotly\"], function(Plotly) {\n",
       "                    window.PLOTLYENV=window.PLOTLYENV || {};\n",
       "                    \n",
       "                if (document.getElementById(\"afef6872-906d-41cb-ad6b-4f0918dcfe08\")) {\n",
       "                    Plotly.newPlot(\n",
       "                        'afef6872-906d-41cb-ad6b-4f0918dcfe08',\n",
       "                        [{\"name\": \"early\", \"type\": \"bar\", \"x\": [\"Africa\", \"Americas\", \"Annex I countries\", \"Asia\", \"Australia and New Zealand\", \"Caribbean\", \"Central America\", \"Central Asia\", \"Central Asia and Southern Asia\", \"East Asia (exc China)\", \"Eastern Africa\", \"Eastern Asia\", \"Eastern Asia and South-eastern Asia\", \"Eastern Europe\", \"Europe\", \"European Union\", \"High-income economies\", \"Land Locked Developing Countries\", \"Latin America and the Caribbean\", \"Least Developed Countries\", \"Low Income Food Deficit Countries\", \"Low income economies\", \"Lower-middle-income economies\", \"Melanesia\", \"Micronesia\", \"Middle Africa\", \"Net Food Importing Developing Countries\", \"Non-Annex I countries\", \"North Africa (exc Sudan)\", \"Northern Africa\", \"Northern America\", \"Northern America and Europe\", \"Northern Europe\", \"OECD\", \"Oceania\", \"Oceania excluding Australia and New Zealand\", \"Small Island Developing States\", \"South America\", \"South Asia (exc India)\", \"South-Eastern Asia\", \"Southern Africa\", \"Southern Asia\", \"Southern Europe\", \"Sub-Saharan Africa\", \"Sub-Saharan Africa (including Sudan)\", \"Upper-middle-income economies\", \"Western Africa\", \"Western Asia\", \"Western Asia and Northern Africa\", \"Western Europe\", \"World\"], \"y\": [19369713.0, 20367009.0, 39990228.0, 36014087.0, 2507117.0, 3816692.0, 4226479.0, 4894283.0, 10307088.0, 1873050.0, 7262080.0, 5135306.0, 9592944.0, 8693174.0, 34587828.0, 26550248.0, 48059292.0, 17159184.0, 17149747.0, 14939847.0, 21015373.0, 12772770.0, 20930327.0, 1429922.0, 398137.0, 1770831.0, 28732497.0, 74391179.0, 3461637.0, 3846947.0, 2284215.0, 36872043.0, 5069206.0, 36425842.0, 4335176.0, 1705145.0, 8431222.0, 10039623.0, 4728734.0, 4457638.0, 1808043.0, 5412805.0, 11220860.0, 14919247.0, 15126312.0, 31073699.0, 4681812.0, 16114055.0, 19782757.0, 9604588.0, 114673813.0]}, {\"name\": \"late\", \"type\": \"bar\", \"x\": [\"Africa\", \"Americas\", \"Annex I countries\", \"Asia\", \"Australia and New Zealand\", \"Caribbean\", \"Central America\", \"Central Asia\", \"Central Asia and Southern Asia\", \"East Asia (exc China)\", \"Eastern Africa\", \"Eastern Asia\", \"Eastern Asia and South-eastern Asia\", \"Eastern Europe\", \"Europe\", \"European Union\", \"High-income economies\", \"Land Locked Developing Countries\", \"Latin America and the Caribbean\", \"Least Developed Countries\", \"Low Income Food Deficit Countries\", \"Low income economies\", \"Lower-middle-income economies\", \"Melanesia\", \"Micronesia\", \"Middle Africa\", \"Net Food Importing Developing Countries\", \"Non-Annex I countries\", \"North Africa (exc Sudan)\", \"Northern Africa\", \"Northern America\", \"Northern America and Europe\", \"Northern Europe\", \"OECD\", \"Oceania\", \"Oceania excluding Australia and New Zealand\", \"Small Island Developing States\", \"South America\", \"South Asia (exc India)\", \"South-Eastern Asia\", \"Southern Africa\", \"Southern Asia\", \"Southern Europe\", \"Sub-Saharan Africa\", \"Sub-Saharan Africa (including Sudan)\", \"Upper-middle-income economies\", \"Western Africa\", \"Western Asia\", \"Western Asia and Northern Africa\", \"Western Europe\", \"World\"], \"y\": [15745788.0, 17045670.0, 33843079.0, 31583382.0, 2123360.0, 3147925.0, 3573975.0, 4758287.0, 9366201.0, 1472181.0, 5587399.0, 4124649.0, 7932068.0, 8004663.0, 29464741.0, 22410938.0, 40424591.0, 15428735.0, 14450166.0, 12019649.0, 17634324.0, 10626851.0, 17878061.0, 1352055.0, 335299.0, 1393781.0, 23434551.0, 63569059.0, 3152066.0, 3529905.0, 2038444.0, 31503185.0, 4397399.0, 30414595.0, 3810714.0, 1581211.0, 7022061.0, 8285326.0, 4035247.0, 3807419.0, 1448636.0, 4607914.0, 9527986.0, 11710138.0, 12067805.0, 27531672.0, 3786067.0, 14285113.0, 17794846.0, 7534693.0, 97650295.0]}],\n",
       "                        {\"barmode\": \"group\", \"template\": {\"data\": {\"bar\": [{\"error_x\": {\"color\": \"#2a3f5f\"}, \"error_y\": {\"color\": \"#2a3f5f\"}, \"marker\": {\"line\": {\"color\": \"#E5ECF6\", \"width\": 0.5}}, \"type\": \"bar\"}], \"barpolar\": [{\"marker\": {\"line\": {\"color\": \"#E5ECF6\", \"width\": 0.5}}, \"type\": \"barpolar\"}], \"carpet\": [{\"aaxis\": {\"endlinecolor\": \"#2a3f5f\", \"gridcolor\": \"white\", \"linecolor\": \"white\", \"minorgridcolor\": \"white\", \"startlinecolor\": \"#2a3f5f\"}, \"baxis\": {\"endlinecolor\": \"#2a3f5f\", \"gridcolor\": \"white\", \"linecolor\": \"white\", \"minorgridcolor\": \"white\", \"startlinecolor\": \"#2a3f5f\"}, \"type\": \"carpet\"}], \"choropleth\": [{\"colorbar\": {\"outlinewidth\": 0, \"ticks\": \"\"}, \"type\": \"choropleth\"}], \"contour\": [{\"colorbar\": {\"outlinewidth\": 0, \"ticks\": \"\"}, \"colorscale\": [[0.0, \"#0d0887\"], [0.1111111111111111, \"#46039f\"], [0.2222222222222222, \"#7201a8\"], [0.3333333333333333, \"#9c179e\"], [0.4444444444444444, \"#bd3786\"], [0.5555555555555556, \"#d8576b\"], [0.6666666666666666, \"#ed7953\"], [0.7777777777777778, \"#fb9f3a\"], [0.8888888888888888, \"#fdca26\"], [1.0, \"#f0f921\"]], \"type\": \"contour\"}], \"contourcarpet\": [{\"colorbar\": {\"outlinewidth\": 0, \"ticks\": \"\"}, \"type\": \"contourcarpet\"}], \"heatmap\": [{\"colorbar\": {\"outlinewidth\": 0, \"ticks\": \"\"}, \"colorscale\": [[0.0, \"#0d0887\"], [0.1111111111111111, \"#46039f\"], [0.2222222222222222, \"#7201a8\"], [0.3333333333333333, \"#9c179e\"], [0.4444444444444444, \"#bd3786\"], [0.5555555555555556, \"#d8576b\"], [0.6666666666666666, \"#ed7953\"], [0.7777777777777778, \"#fb9f3a\"], [0.8888888888888888, \"#fdca26\"], [1.0, \"#f0f921\"]], \"type\": \"heatmap\"}], \"heatmapgl\": [{\"colorbar\": {\"outlinewidth\": 0, \"ticks\": \"\"}, \"colorscale\": [[0.0, \"#0d0887\"], [0.1111111111111111, \"#46039f\"], [0.2222222222222222, \"#7201a8\"], [0.3333333333333333, \"#9c179e\"], [0.4444444444444444, \"#bd3786\"], [0.5555555555555556, \"#d8576b\"], [0.6666666666666666, \"#ed7953\"], [0.7777777777777778, \"#fb9f3a\"], [0.8888888888888888, \"#fdca26\"], [1.0, \"#f0f921\"]], \"type\": \"heatmapgl\"}], \"histogram\": [{\"marker\": {\"colorbar\": {\"outlinewidth\": 0, \"ticks\": \"\"}}, \"type\": \"histogram\"}], \"histogram2d\": [{\"colorbar\": {\"outlinewidth\": 0, \"ticks\": \"\"}, \"colorscale\": [[0.0, \"#0d0887\"], [0.1111111111111111, \"#46039f\"], [0.2222222222222222, \"#7201a8\"], [0.3333333333333333, \"#9c179e\"], [0.4444444444444444, \"#bd3786\"], [0.5555555555555556, \"#d8576b\"], [0.6666666666666666, \"#ed7953\"], [0.7777777777777778, \"#fb9f3a\"], [0.8888888888888888, \"#fdca26\"], [1.0, \"#f0f921\"]], \"type\": \"histogram2d\"}], \"histogram2dcontour\": [{\"colorbar\": {\"outlinewidth\": 0, \"ticks\": \"\"}, \"colorscale\": [[0.0, \"#0d0887\"], [0.1111111111111111, \"#46039f\"], [0.2222222222222222, \"#7201a8\"], [0.3333333333333333, \"#9c179e\"], [0.4444444444444444, \"#bd3786\"], [0.5555555555555556, \"#d8576b\"], [0.6666666666666666, \"#ed7953\"], [0.7777777777777778, \"#fb9f3a\"], [0.8888888888888888, \"#fdca26\"], [1.0, \"#f0f921\"]], \"type\": \"histogram2dcontour\"}], \"mesh3d\": [{\"colorbar\": {\"outlinewidth\": 0, \"ticks\": \"\"}, \"type\": \"mesh3d\"}], \"parcoords\": [{\"line\": {\"colorbar\": {\"outlinewidth\": 0, \"ticks\": \"\"}}, \"type\": \"parcoords\"}], \"pie\": [{\"automargin\": true, \"type\": \"pie\"}], \"scatter\": [{\"marker\": {\"colorbar\": {\"outlinewidth\": 0, \"ticks\": \"\"}}, \"type\": \"scatter\"}], \"scatter3d\": [{\"line\": {\"colorbar\": {\"outlinewidth\": 0, \"ticks\": \"\"}}, \"marker\": {\"colorbar\": {\"outlinewidth\": 0, \"ticks\": \"\"}}, \"type\": \"scatter3d\"}], \"scattercarpet\": [{\"marker\": {\"colorbar\": {\"outlinewidth\": 0, \"ticks\": \"\"}}, \"type\": \"scattercarpet\"}], \"scattergeo\": [{\"marker\": {\"colorbar\": {\"outlinewidth\": 0, \"ticks\": \"\"}}, \"type\": \"scattergeo\"}], \"scattergl\": [{\"marker\": {\"colorbar\": {\"outlinewidth\": 0, \"ticks\": \"\"}}, \"type\": \"scattergl\"}], \"scattermapbox\": [{\"marker\": {\"colorbar\": {\"outlinewidth\": 0, \"ticks\": \"\"}}, \"type\": \"scattermapbox\"}], \"scatterpolar\": [{\"marker\": {\"colorbar\": {\"outlinewidth\": 0, \"ticks\": \"\"}}, \"type\": \"scatterpolar\"}], \"scatterpolargl\": [{\"marker\": {\"colorbar\": {\"outlinewidth\": 0, \"ticks\": \"\"}}, \"type\": \"scatterpolargl\"}], \"scatterternary\": [{\"marker\": {\"colorbar\": {\"outlinewidth\": 0, \"ticks\": \"\"}}, \"type\": \"scatterternary\"}], \"surface\": [{\"colorbar\": {\"outlinewidth\": 0, \"ticks\": \"\"}, \"colorscale\": [[0.0, \"#0d0887\"], [0.1111111111111111, \"#46039f\"], [0.2222222222222222, \"#7201a8\"], [0.3333333333333333, \"#9c179e\"], [0.4444444444444444, \"#bd3786\"], [0.5555555555555556, \"#d8576b\"], [0.6666666666666666, \"#ed7953\"], [0.7777777777777778, \"#fb9f3a\"], [0.8888888888888888, \"#fdca26\"], [1.0, \"#f0f921\"]], \"type\": \"surface\"}], \"table\": [{\"cells\": {\"fill\": {\"color\": \"#EBF0F8\"}, \"line\": {\"color\": \"white\"}}, \"header\": {\"fill\": {\"color\": \"#C8D4E3\"}, \"line\": {\"color\": \"white\"}}, \"type\": \"table\"}]}, \"layout\": {\"annotationdefaults\": {\"arrowcolor\": \"#2a3f5f\", \"arrowhead\": 0, \"arrowwidth\": 1}, \"coloraxis\": {\"colorbar\": {\"outlinewidth\": 0, \"ticks\": \"\"}}, \"colorscale\": {\"diverging\": [[0, \"#8e0152\"], [0.1, \"#c51b7d\"], [0.2, \"#de77ae\"], [0.3, \"#f1b6da\"], [0.4, \"#fde0ef\"], [0.5, \"#f7f7f7\"], [0.6, \"#e6f5d0\"], [0.7, \"#b8e186\"], [0.8, \"#7fbc41\"], [0.9, \"#4d9221\"], [1, \"#276419\"]], \"sequential\": [[0.0, \"#0d0887\"], [0.1111111111111111, \"#46039f\"], [0.2222222222222222, \"#7201a8\"], [0.3333333333333333, \"#9c179e\"], [0.4444444444444444, \"#bd3786\"], [0.5555555555555556, \"#d8576b\"], [0.6666666666666666, \"#ed7953\"], [0.7777777777777778, \"#fb9f3a\"], [0.8888888888888888, \"#fdca26\"], [1.0, \"#f0f921\"]], \"sequentialminus\": [[0.0, \"#0d0887\"], [0.1111111111111111, \"#46039f\"], [0.2222222222222222, \"#7201a8\"], [0.3333333333333333, \"#9c179e\"], [0.4444444444444444, \"#bd3786\"], [0.5555555555555556, \"#d8576b\"], [0.6666666666666666, \"#ed7953\"], [0.7777777777777778, \"#fb9f3a\"], [0.8888888888888888, \"#fdca26\"], [1.0, \"#f0f921\"]]}, \"colorway\": [\"#636efa\", \"#EF553B\", \"#00cc96\", \"#ab63fa\", \"#FFA15A\", \"#19d3f3\", \"#FF6692\", \"#B6E880\", \"#FF97FF\", \"#FECB52\"], \"font\": {\"color\": \"#2a3f5f\"}, \"geo\": {\"bgcolor\": \"white\", \"lakecolor\": \"white\", \"landcolor\": \"#E5ECF6\", \"showlakes\": true, \"showland\": true, \"subunitcolor\": \"white\"}, \"hoverlabel\": {\"align\": \"left\"}, \"hovermode\": \"closest\", \"mapbox\": {\"style\": \"light\"}, \"paper_bgcolor\": \"white\", \"plot_bgcolor\": \"#E5ECF6\", \"polar\": {\"angularaxis\": {\"gridcolor\": \"white\", \"linecolor\": \"white\", \"ticks\": \"\"}, \"bgcolor\": \"#E5ECF6\", \"radialaxis\": {\"gridcolor\": \"white\", \"linecolor\": \"white\", \"ticks\": \"\"}}, \"scene\": {\"xaxis\": {\"backgroundcolor\": \"#E5ECF6\", \"gridcolor\": \"white\", \"gridwidth\": 2, \"linecolor\": \"white\", \"showbackground\": true, \"ticks\": \"\", \"zerolinecolor\": \"white\"}, \"yaxis\": {\"backgroundcolor\": \"#E5ECF6\", \"gridcolor\": \"white\", \"gridwidth\": 2, \"linecolor\": \"white\", \"showbackground\": true, \"ticks\": \"\", \"zerolinecolor\": \"white\"}, \"zaxis\": {\"backgroundcolor\": \"#E5ECF6\", \"gridcolor\": \"white\", \"gridwidth\": 2, \"linecolor\": \"white\", \"showbackground\": true, \"ticks\": \"\", \"zerolinecolor\": \"white\"}}, \"shapedefaults\": {\"line\": {\"color\": \"#2a3f5f\"}}, \"ternary\": {\"aaxis\": {\"gridcolor\": \"white\", \"linecolor\": \"white\", \"ticks\": \"\"}, \"baxis\": {\"gridcolor\": \"white\", \"linecolor\": \"white\", \"ticks\": \"\"}, \"bgcolor\": \"#E5ECF6\", \"caxis\": {\"gridcolor\": \"white\", \"linecolor\": \"white\", \"ticks\": \"\"}}, \"title\": {\"x\": 0.05}, \"xaxis\": {\"automargin\": true, \"gridcolor\": \"white\", \"linecolor\": \"white\", \"ticks\": \"\", \"title\": {\"standoff\": 15}, \"zerolinecolor\": \"white\", \"zerolinewidth\": 2}, \"yaxis\": {\"automargin\": true, \"gridcolor\": \"white\", \"linecolor\": \"white\", \"ticks\": \"\", \"title\": {\"standoff\": 15}, \"zerolinecolor\": \"white\", \"zerolinewidth\": 2}}}, \"title\": {\"text\": \"Yield  early(2011-2014 ) vs late(2015-2019)\"}, \"xaxis\": {\"tickangle\": 45}},\n",
       "                        {\"responsive\": true}\n",
       "                    ).then(function(){\n",
       "                            \n",
       "var gd = document.getElementById('afef6872-906d-41cb-ad6b-4f0918dcfe08');\n",
       "var x = new MutationObserver(function (mutations, observer) {{\n",
       "        var display = window.getComputedStyle(gd).display;\n",
       "        if (!display || display === 'none') {{\n",
       "            console.log([gd, 'removed!']);\n",
       "            Plotly.purge(gd);\n",
       "            observer.disconnect();\n",
       "        }}\n",
       "}});\n",
       "\n",
       "// Listen for the removal of the full notebook cells\n",
       "var notebookContainer = gd.closest('#notebook-container');\n",
       "if (notebookContainer) {{\n",
       "    x.observe(notebookContainer, {childList: true});\n",
       "}}\n",
       "\n",
       "// Listen for the clearing of the current output cell\n",
       "var outputEl = gd.closest('.output');\n",
       "if (outputEl) {{\n",
       "    x.observe(outputEl, {childList: true});\n",
       "}}\n",
       "\n",
       "                        })\n",
       "                };\n",
       "                });\n",
       "            </script>\n",
       "        </div>"
      ]
     },
     "metadata": {},
     "output_type": "display_data"
    },
    {
     "data": {
      "application/vnd.plotly.v1+json": {
       "config": {
        "plotlyServerURL": "https://plot.ly"
       },
       "data": [
        {
         "name": "early",
         "type": "bar",
         "x": [
          "Africa",
          "Americas",
          "Annex I countries",
          "Asia",
          "Australia and New Zealand",
          "Caribbean",
          "Central America",
          "Central Asia",
          "Central Asia and Southern Asia",
          "East Asia (exc China)",
          "Eastern Africa",
          "Eastern Asia",
          "Eastern Asia and South-eastern Asia",
          "Eastern Europe",
          "Europe",
          "European Union",
          "High-income economies",
          "Land Locked Developing Countries",
          "Latin America and the Caribbean",
          "Least Developed Countries",
          "Low Income Food Deficit Countries",
          "Low income economies",
          "Lower-middle-income economies",
          "Melanesia",
          "Micronesia",
          "Middle Africa",
          "Net Food Importing Developing Countries",
          "Non-Annex I countries",
          "North Africa (exc Sudan)",
          "Northern Africa",
          "Northern America",
          "Northern America and Europe",
          "Northern Europe",
          "OECD",
          "Oceania",
          "Oceania excluding Australia and New Zealand",
          "Small Island Developing States",
          "South America",
          "South Asia (exc India)",
          "South-Eastern Asia",
          "Southern Africa",
          "Southern Asia",
          "Southern Europe",
          "Sub-Saharan Africa",
          "Sub-Saharan Africa (including Sudan)",
          "Upper-middle-income economies",
          "Western Africa",
          "Western Asia",
          "Western Asia and Northern Africa",
          "Western Europe",
          "World"
         ],
         "y": [
          19369713,
          20367009,
          39990228,
          36014087,
          2507117,
          3816692,
          4226479,
          4894283,
          10307088,
          1873050,
          7262080,
          5135306,
          9592944,
          8693174,
          34587828,
          26550248,
          48059292,
          17159184,
          17149747,
          14939847,
          21015373,
          12772770,
          20930327,
          1429922,
          398137,
          1770831,
          28732497,
          74391179,
          3461637,
          3846947,
          2284215,
          36872043,
          5069206,
          36425842,
          4335176,
          1705145,
          8431222,
          10039623,
          4728734,
          4457638,
          1808043,
          5412805,
          11220860,
          14919247,
          15126312,
          31073699,
          4681812,
          16114055,
          19782757,
          9604588,
          114673813
         ]
        },
        {
         "name": "late",
         "type": "bar",
         "x": [
          "Africa",
          "Americas",
          "Annex I countries",
          "Asia",
          "Australia and New Zealand",
          "Caribbean",
          "Central America",
          "Central Asia",
          "Central Asia and Southern Asia",
          "East Asia (exc China)",
          "Eastern Africa",
          "Eastern Asia",
          "Eastern Asia and South-eastern Asia",
          "Eastern Europe",
          "Europe",
          "European Union",
          "High-income economies",
          "Land Locked Developing Countries",
          "Latin America and the Caribbean",
          "Least Developed Countries",
          "Low Income Food Deficit Countries",
          "Low income economies",
          "Lower-middle-income economies",
          "Melanesia",
          "Micronesia",
          "Middle Africa",
          "Net Food Importing Developing Countries",
          "Non-Annex I countries",
          "North Africa (exc Sudan)",
          "Northern Africa",
          "Northern America",
          "Northern America and Europe",
          "Northern Europe",
          "OECD",
          "Oceania",
          "Oceania excluding Australia and New Zealand",
          "Small Island Developing States",
          "South America",
          "South Asia (exc India)",
          "South-Eastern Asia",
          "Southern Africa",
          "Southern Asia",
          "Southern Europe",
          "Sub-Saharan Africa",
          "Sub-Saharan Africa (including Sudan)",
          "Upper-middle-income economies",
          "Western Africa",
          "Western Asia",
          "Western Asia and Northern Africa",
          "Western Europe",
          "World"
         ],
         "y": [
          15745788,
          17045670,
          33843079,
          31583382,
          2123360,
          3147925,
          3573975,
          4758287,
          9366201,
          1472181,
          5587399,
          4124649,
          7932068,
          8004663,
          29464741,
          22410938,
          40424591,
          15428735,
          14450166,
          12019649,
          17634324,
          10626851,
          17878061,
          1352055,
          335299,
          1393781,
          23434551,
          63569059,
          3152066,
          3529905,
          2038444,
          31503185,
          4397399,
          30414595,
          3810714,
          1581211,
          7022061,
          8285326,
          4035247,
          3807419,
          1448636,
          4607914,
          9527986,
          11710138,
          12067805,
          27531672,
          3786067,
          14285113,
          17794846,
          7534693,
          97650295
         ]
        }
       ],
       "layout": {
        "barmode": "group",
        "template": {
         "data": {
          "bar": [
           {
            "error_x": {
             "color": "#2a3f5f"
            },
            "error_y": {
             "color": "#2a3f5f"
            },
            "marker": {
             "line": {
              "color": "#E5ECF6",
              "width": 0.5
             }
            },
            "type": "bar"
           }
          ],
          "barpolar": [
           {
            "marker": {
             "line": {
              "color": "#E5ECF6",
              "width": 0.5
             }
            },
            "type": "barpolar"
           }
          ],
          "carpet": [
           {
            "aaxis": {
             "endlinecolor": "#2a3f5f",
             "gridcolor": "white",
             "linecolor": "white",
             "minorgridcolor": "white",
             "startlinecolor": "#2a3f5f"
            },
            "baxis": {
             "endlinecolor": "#2a3f5f",
             "gridcolor": "white",
             "linecolor": "white",
             "minorgridcolor": "white",
             "startlinecolor": "#2a3f5f"
            },
            "type": "carpet"
           }
          ],
          "choropleth": [
           {
            "colorbar": {
             "outlinewidth": 0,
             "ticks": ""
            },
            "type": "choropleth"
           }
          ],
          "contour": [
           {
            "colorbar": {
             "outlinewidth": 0,
             "ticks": ""
            },
            "colorscale": [
             [
              0,
              "#0d0887"
             ],
             [
              0.1111111111111111,
              "#46039f"
             ],
             [
              0.2222222222222222,
              "#7201a8"
             ],
             [
              0.3333333333333333,
              "#9c179e"
             ],
             [
              0.4444444444444444,
              "#bd3786"
             ],
             [
              0.5555555555555556,
              "#d8576b"
             ],
             [
              0.6666666666666666,
              "#ed7953"
             ],
             [
              0.7777777777777778,
              "#fb9f3a"
             ],
             [
              0.8888888888888888,
              "#fdca26"
             ],
             [
              1,
              "#f0f921"
             ]
            ],
            "type": "contour"
           }
          ],
          "contourcarpet": [
           {
            "colorbar": {
             "outlinewidth": 0,
             "ticks": ""
            },
            "type": "contourcarpet"
           }
          ],
          "heatmap": [
           {
            "colorbar": {
             "outlinewidth": 0,
             "ticks": ""
            },
            "colorscale": [
             [
              0,
              "#0d0887"
             ],
             [
              0.1111111111111111,
              "#46039f"
             ],
             [
              0.2222222222222222,
              "#7201a8"
             ],
             [
              0.3333333333333333,
              "#9c179e"
             ],
             [
              0.4444444444444444,
              "#bd3786"
             ],
             [
              0.5555555555555556,
              "#d8576b"
             ],
             [
              0.6666666666666666,
              "#ed7953"
             ],
             [
              0.7777777777777778,
              "#fb9f3a"
             ],
             [
              0.8888888888888888,
              "#fdca26"
             ],
             [
              1,
              "#f0f921"
             ]
            ],
            "type": "heatmap"
           }
          ],
          "heatmapgl": [
           {
            "colorbar": {
             "outlinewidth": 0,
             "ticks": ""
            },
            "colorscale": [
             [
              0,
              "#0d0887"
             ],
             [
              0.1111111111111111,
              "#46039f"
             ],
             [
              0.2222222222222222,
              "#7201a8"
             ],
             [
              0.3333333333333333,
              "#9c179e"
             ],
             [
              0.4444444444444444,
              "#bd3786"
             ],
             [
              0.5555555555555556,
              "#d8576b"
             ],
             [
              0.6666666666666666,
              "#ed7953"
             ],
             [
              0.7777777777777778,
              "#fb9f3a"
             ],
             [
              0.8888888888888888,
              "#fdca26"
             ],
             [
              1,
              "#f0f921"
             ]
            ],
            "type": "heatmapgl"
           }
          ],
          "histogram": [
           {
            "marker": {
             "colorbar": {
              "outlinewidth": 0,
              "ticks": ""
             }
            },
            "type": "histogram"
           }
          ],
          "histogram2d": [
           {
            "colorbar": {
             "outlinewidth": 0,
             "ticks": ""
            },
            "colorscale": [
             [
              0,
              "#0d0887"
             ],
             [
              0.1111111111111111,
              "#46039f"
             ],
             [
              0.2222222222222222,
              "#7201a8"
             ],
             [
              0.3333333333333333,
              "#9c179e"
             ],
             [
              0.4444444444444444,
              "#bd3786"
             ],
             [
              0.5555555555555556,
              "#d8576b"
             ],
             [
              0.6666666666666666,
              "#ed7953"
             ],
             [
              0.7777777777777778,
              "#fb9f3a"
             ],
             [
              0.8888888888888888,
              "#fdca26"
             ],
             [
              1,
              "#f0f921"
             ]
            ],
            "type": "histogram2d"
           }
          ],
          "histogram2dcontour": [
           {
            "colorbar": {
             "outlinewidth": 0,
             "ticks": ""
            },
            "colorscale": [
             [
              0,
              "#0d0887"
             ],
             [
              0.1111111111111111,
              "#46039f"
             ],
             [
              0.2222222222222222,
              "#7201a8"
             ],
             [
              0.3333333333333333,
              "#9c179e"
             ],
             [
              0.4444444444444444,
              "#bd3786"
             ],
             [
              0.5555555555555556,
              "#d8576b"
             ],
             [
              0.6666666666666666,
              "#ed7953"
             ],
             [
              0.7777777777777778,
              "#fb9f3a"
             ],
             [
              0.8888888888888888,
              "#fdca26"
             ],
             [
              1,
              "#f0f921"
             ]
            ],
            "type": "histogram2dcontour"
           }
          ],
          "mesh3d": [
           {
            "colorbar": {
             "outlinewidth": 0,
             "ticks": ""
            },
            "type": "mesh3d"
           }
          ],
          "parcoords": [
           {
            "line": {
             "colorbar": {
              "outlinewidth": 0,
              "ticks": ""
             }
            },
            "type": "parcoords"
           }
          ],
          "pie": [
           {
            "automargin": true,
            "type": "pie"
           }
          ],
          "scatter": [
           {
            "marker": {
             "colorbar": {
              "outlinewidth": 0,
              "ticks": ""
             }
            },
            "type": "scatter"
           }
          ],
          "scatter3d": [
           {
            "line": {
             "colorbar": {
              "outlinewidth": 0,
              "ticks": ""
             }
            },
            "marker": {
             "colorbar": {
              "outlinewidth": 0,
              "ticks": ""
             }
            },
            "type": "scatter3d"
           }
          ],
          "scattercarpet": [
           {
            "marker": {
             "colorbar": {
              "outlinewidth": 0,
              "ticks": ""
             }
            },
            "type": "scattercarpet"
           }
          ],
          "scattergeo": [
           {
            "marker": {
             "colorbar": {
              "outlinewidth": 0,
              "ticks": ""
             }
            },
            "type": "scattergeo"
           }
          ],
          "scattergl": [
           {
            "marker": {
             "colorbar": {
              "outlinewidth": 0,
              "ticks": ""
             }
            },
            "type": "scattergl"
           }
          ],
          "scattermapbox": [
           {
            "marker": {
             "colorbar": {
              "outlinewidth": 0,
              "ticks": ""
             }
            },
            "type": "scattermapbox"
           }
          ],
          "scatterpolar": [
           {
            "marker": {
             "colorbar": {
              "outlinewidth": 0,
              "ticks": ""
             }
            },
            "type": "scatterpolar"
           }
          ],
          "scatterpolargl": [
           {
            "marker": {
             "colorbar": {
              "outlinewidth": 0,
              "ticks": ""
             }
            },
            "type": "scatterpolargl"
           }
          ],
          "scatterternary": [
           {
            "marker": {
             "colorbar": {
              "outlinewidth": 0,
              "ticks": ""
             }
            },
            "type": "scatterternary"
           }
          ],
          "surface": [
           {
            "colorbar": {
             "outlinewidth": 0,
             "ticks": ""
            },
            "colorscale": [
             [
              0,
              "#0d0887"
             ],
             [
              0.1111111111111111,
              "#46039f"
             ],
             [
              0.2222222222222222,
              "#7201a8"
             ],
             [
              0.3333333333333333,
              "#9c179e"
             ],
             [
              0.4444444444444444,
              "#bd3786"
             ],
             [
              0.5555555555555556,
              "#d8576b"
             ],
             [
              0.6666666666666666,
              "#ed7953"
             ],
             [
              0.7777777777777778,
              "#fb9f3a"
             ],
             [
              0.8888888888888888,
              "#fdca26"
             ],
             [
              1,
              "#f0f921"
             ]
            ],
            "type": "surface"
           }
          ],
          "table": [
           {
            "cells": {
             "fill": {
              "color": "#EBF0F8"
             },
             "line": {
              "color": "white"
             }
            },
            "header": {
             "fill": {
              "color": "#C8D4E3"
             },
             "line": {
              "color": "white"
             }
            },
            "type": "table"
           }
          ]
         },
         "layout": {
          "annotationdefaults": {
           "arrowcolor": "#2a3f5f",
           "arrowhead": 0,
           "arrowwidth": 1
          },
          "coloraxis": {
           "colorbar": {
            "outlinewidth": 0,
            "ticks": ""
           }
          },
          "colorscale": {
           "diverging": [
            [
             0,
             "#8e0152"
            ],
            [
             0.1,
             "#c51b7d"
            ],
            [
             0.2,
             "#de77ae"
            ],
            [
             0.3,
             "#f1b6da"
            ],
            [
             0.4,
             "#fde0ef"
            ],
            [
             0.5,
             "#f7f7f7"
            ],
            [
             0.6,
             "#e6f5d0"
            ],
            [
             0.7,
             "#b8e186"
            ],
            [
             0.8,
             "#7fbc41"
            ],
            [
             0.9,
             "#4d9221"
            ],
            [
             1,
             "#276419"
            ]
           ],
           "sequential": [
            [
             0,
             "#0d0887"
            ],
            [
             0.1111111111111111,
             "#46039f"
            ],
            [
             0.2222222222222222,
             "#7201a8"
            ],
            [
             0.3333333333333333,
             "#9c179e"
            ],
            [
             0.4444444444444444,
             "#bd3786"
            ],
            [
             0.5555555555555556,
             "#d8576b"
            ],
            [
             0.6666666666666666,
             "#ed7953"
            ],
            [
             0.7777777777777778,
             "#fb9f3a"
            ],
            [
             0.8888888888888888,
             "#fdca26"
            ],
            [
             1,
             "#f0f921"
            ]
           ],
           "sequentialminus": [
            [
             0,
             "#0d0887"
            ],
            [
             0.1111111111111111,
             "#46039f"
            ],
            [
             0.2222222222222222,
             "#7201a8"
            ],
            [
             0.3333333333333333,
             "#9c179e"
            ],
            [
             0.4444444444444444,
             "#bd3786"
            ],
            [
             0.5555555555555556,
             "#d8576b"
            ],
            [
             0.6666666666666666,
             "#ed7953"
            ],
            [
             0.7777777777777778,
             "#fb9f3a"
            ],
            [
             0.8888888888888888,
             "#fdca26"
            ],
            [
             1,
             "#f0f921"
            ]
           ]
          },
          "colorway": [
           "#636efa",
           "#EF553B",
           "#00cc96",
           "#ab63fa",
           "#FFA15A",
           "#19d3f3",
           "#FF6692",
           "#B6E880",
           "#FF97FF",
           "#FECB52"
          ],
          "font": {
           "color": "#2a3f5f"
          },
          "geo": {
           "bgcolor": "white",
           "lakecolor": "white",
           "landcolor": "#E5ECF6",
           "showlakes": true,
           "showland": true,
           "subunitcolor": "white"
          },
          "hoverlabel": {
           "align": "left"
          },
          "hovermode": "closest",
          "mapbox": {
           "style": "light"
          },
          "paper_bgcolor": "white",
          "plot_bgcolor": "#E5ECF6",
          "polar": {
           "angularaxis": {
            "gridcolor": "white",
            "linecolor": "white",
            "ticks": ""
           },
           "bgcolor": "#E5ECF6",
           "radialaxis": {
            "gridcolor": "white",
            "linecolor": "white",
            "ticks": ""
           }
          },
          "scene": {
           "xaxis": {
            "backgroundcolor": "#E5ECF6",
            "gridcolor": "white",
            "gridwidth": 2,
            "linecolor": "white",
            "showbackground": true,
            "ticks": "",
            "zerolinecolor": "white"
           },
           "yaxis": {
            "backgroundcolor": "#E5ECF6",
            "gridcolor": "white",
            "gridwidth": 2,
            "linecolor": "white",
            "showbackground": true,
            "ticks": "",
            "zerolinecolor": "white"
           },
           "zaxis": {
            "backgroundcolor": "#E5ECF6",
            "gridcolor": "white",
            "gridwidth": 2,
            "linecolor": "white",
            "showbackground": true,
            "ticks": "",
            "zerolinecolor": "white"
           }
          },
          "shapedefaults": {
           "line": {
            "color": "#2a3f5f"
           }
          },
          "ternary": {
           "aaxis": {
            "gridcolor": "white",
            "linecolor": "white",
            "ticks": ""
           },
           "baxis": {
            "gridcolor": "white",
            "linecolor": "white",
            "ticks": ""
           },
           "bgcolor": "#E5ECF6",
           "caxis": {
            "gridcolor": "white",
            "linecolor": "white",
            "ticks": ""
           }
          },
          "title": {
           "x": 0.05
          },
          "xaxis": {
           "automargin": true,
           "gridcolor": "white",
           "linecolor": "white",
           "ticks": "",
           "title": {
            "standoff": 15
           },
           "zerolinecolor": "white",
           "zerolinewidth": 2
          },
          "yaxis": {
           "automargin": true,
           "gridcolor": "white",
           "linecolor": "white",
           "ticks": "",
           "title": {
            "standoff": 15
           },
           "zerolinecolor": "white",
           "zerolinewidth": 2
          }
         }
        },
        "title": {
         "text": "Yield  early(2011-2014 ) vs late(2015-2019)"
        },
        "xaxis": {
         "tickangle": 45
        }
       }
      },
      "text/html": [
       "<div>\n",
       "        \n",
       "        \n",
       "            <div id=\"7ac7a048-fde3-4c34-8580-6e0052d25684\" class=\"plotly-graph-div\" style=\"height:525px; width:100%;\"></div>\n",
       "            <script type=\"text/javascript\">\n",
       "                require([\"plotly\"], function(Plotly) {\n",
       "                    window.PLOTLYENV=window.PLOTLYENV || {};\n",
       "                    \n",
       "                if (document.getElementById(\"7ac7a048-fde3-4c34-8580-6e0052d25684\")) {\n",
       "                    Plotly.newPlot(\n",
       "                        '7ac7a048-fde3-4c34-8580-6e0052d25684',\n",
       "                        [{\"name\": \"early\", \"type\": \"bar\", \"x\": [\"Africa\", \"Americas\", \"Annex I countries\", \"Asia\", \"Australia and New Zealand\", \"Caribbean\", \"Central America\", \"Central Asia\", \"Central Asia and Southern Asia\", \"East Asia (exc China)\", \"Eastern Africa\", \"Eastern Asia\", \"Eastern Asia and South-eastern Asia\", \"Eastern Europe\", \"Europe\", \"European Union\", \"High-income economies\", \"Land Locked Developing Countries\", \"Latin America and the Caribbean\", \"Least Developed Countries\", \"Low Income Food Deficit Countries\", \"Low income economies\", \"Lower-middle-income economies\", \"Melanesia\", \"Micronesia\", \"Middle Africa\", \"Net Food Importing Developing Countries\", \"Non-Annex I countries\", \"North Africa (exc Sudan)\", \"Northern Africa\", \"Northern America\", \"Northern America and Europe\", \"Northern Europe\", \"OECD\", \"Oceania\", \"Oceania excluding Australia and New Zealand\", \"Small Island Developing States\", \"South America\", \"South Asia (exc India)\", \"South-Eastern Asia\", \"Southern Africa\", \"Southern Asia\", \"Southern Europe\", \"Sub-Saharan Africa\", \"Sub-Saharan Africa (including Sudan)\", \"Upper-middle-income economies\", \"Western Africa\", \"Western Asia\", \"Western Asia and Northern Africa\", \"Western Europe\", \"World\"], \"y\": [19369713.0, 20367009.0, 39990228.0, 36014087.0, 2507117.0, 3816692.0, 4226479.0, 4894283.0, 10307088.0, 1873050.0, 7262080.0, 5135306.0, 9592944.0, 8693174.0, 34587828.0, 26550248.0, 48059292.0, 17159184.0, 17149747.0, 14939847.0, 21015373.0, 12772770.0, 20930327.0, 1429922.0, 398137.0, 1770831.0, 28732497.0, 74391179.0, 3461637.0, 3846947.0, 2284215.0, 36872043.0, 5069206.0, 36425842.0, 4335176.0, 1705145.0, 8431222.0, 10039623.0, 4728734.0, 4457638.0, 1808043.0, 5412805.0, 11220860.0, 14919247.0, 15126312.0, 31073699.0, 4681812.0, 16114055.0, 19782757.0, 9604588.0, 114673813.0]}, {\"name\": \"late\", \"type\": \"bar\", \"x\": [\"Africa\", \"Americas\", \"Annex I countries\", \"Asia\", \"Australia and New Zealand\", \"Caribbean\", \"Central America\", \"Central Asia\", \"Central Asia and Southern Asia\", \"East Asia (exc China)\", \"Eastern Africa\", \"Eastern Asia\", \"Eastern Asia and South-eastern Asia\", \"Eastern Europe\", \"Europe\", \"European Union\", \"High-income economies\", \"Land Locked Developing Countries\", \"Latin America and the Caribbean\", \"Least Developed Countries\", \"Low Income Food Deficit Countries\", \"Low income economies\", \"Lower-middle-income economies\", \"Melanesia\", \"Micronesia\", \"Middle Africa\", \"Net Food Importing Developing Countries\", \"Non-Annex I countries\", \"North Africa (exc Sudan)\", \"Northern Africa\", \"Northern America\", \"Northern America and Europe\", \"Northern Europe\", \"OECD\", \"Oceania\", \"Oceania excluding Australia and New Zealand\", \"Small Island Developing States\", \"South America\", \"South Asia (exc India)\", \"South-Eastern Asia\", \"Southern Africa\", \"Southern Asia\", \"Southern Europe\", \"Sub-Saharan Africa\", \"Sub-Saharan Africa (including Sudan)\", \"Upper-middle-income economies\", \"Western Africa\", \"Western Asia\", \"Western Asia and Northern Africa\", \"Western Europe\", \"World\"], \"y\": [15745788.0, 17045670.0, 33843079.0, 31583382.0, 2123360.0, 3147925.0, 3573975.0, 4758287.0, 9366201.0, 1472181.0, 5587399.0, 4124649.0, 7932068.0, 8004663.0, 29464741.0, 22410938.0, 40424591.0, 15428735.0, 14450166.0, 12019649.0, 17634324.0, 10626851.0, 17878061.0, 1352055.0, 335299.0, 1393781.0, 23434551.0, 63569059.0, 3152066.0, 3529905.0, 2038444.0, 31503185.0, 4397399.0, 30414595.0, 3810714.0, 1581211.0, 7022061.0, 8285326.0, 4035247.0, 3807419.0, 1448636.0, 4607914.0, 9527986.0, 11710138.0, 12067805.0, 27531672.0, 3786067.0, 14285113.0, 17794846.0, 7534693.0, 97650295.0]}],\n",
       "                        {\"barmode\": \"group\", \"template\": {\"data\": {\"bar\": [{\"error_x\": {\"color\": \"#2a3f5f\"}, \"error_y\": {\"color\": \"#2a3f5f\"}, \"marker\": {\"line\": {\"color\": \"#E5ECF6\", \"width\": 0.5}}, \"type\": \"bar\"}], \"barpolar\": [{\"marker\": {\"line\": {\"color\": \"#E5ECF6\", \"width\": 0.5}}, \"type\": \"barpolar\"}], \"carpet\": [{\"aaxis\": {\"endlinecolor\": \"#2a3f5f\", \"gridcolor\": \"white\", \"linecolor\": \"white\", \"minorgridcolor\": \"white\", \"startlinecolor\": \"#2a3f5f\"}, \"baxis\": {\"endlinecolor\": \"#2a3f5f\", \"gridcolor\": \"white\", \"linecolor\": \"white\", \"minorgridcolor\": \"white\", \"startlinecolor\": \"#2a3f5f\"}, \"type\": \"carpet\"}], \"choropleth\": [{\"colorbar\": {\"outlinewidth\": 0, \"ticks\": \"\"}, \"type\": \"choropleth\"}], \"contour\": [{\"colorbar\": {\"outlinewidth\": 0, \"ticks\": \"\"}, \"colorscale\": [[0.0, \"#0d0887\"], [0.1111111111111111, \"#46039f\"], [0.2222222222222222, \"#7201a8\"], [0.3333333333333333, \"#9c179e\"], [0.4444444444444444, \"#bd3786\"], [0.5555555555555556, \"#d8576b\"], [0.6666666666666666, \"#ed7953\"], [0.7777777777777778, \"#fb9f3a\"], [0.8888888888888888, \"#fdca26\"], [1.0, \"#f0f921\"]], \"type\": \"contour\"}], \"contourcarpet\": [{\"colorbar\": {\"outlinewidth\": 0, \"ticks\": \"\"}, \"type\": \"contourcarpet\"}], \"heatmap\": [{\"colorbar\": {\"outlinewidth\": 0, \"ticks\": \"\"}, \"colorscale\": [[0.0, \"#0d0887\"], [0.1111111111111111, \"#46039f\"], [0.2222222222222222, \"#7201a8\"], [0.3333333333333333, \"#9c179e\"], [0.4444444444444444, \"#bd3786\"], [0.5555555555555556, \"#d8576b\"], [0.6666666666666666, \"#ed7953\"], [0.7777777777777778, \"#fb9f3a\"], [0.8888888888888888, \"#fdca26\"], [1.0, \"#f0f921\"]], \"type\": \"heatmap\"}], \"heatmapgl\": [{\"colorbar\": {\"outlinewidth\": 0, \"ticks\": \"\"}, \"colorscale\": [[0.0, \"#0d0887\"], [0.1111111111111111, \"#46039f\"], [0.2222222222222222, \"#7201a8\"], [0.3333333333333333, \"#9c179e\"], [0.4444444444444444, \"#bd3786\"], [0.5555555555555556, \"#d8576b\"], [0.6666666666666666, \"#ed7953\"], [0.7777777777777778, \"#fb9f3a\"], [0.8888888888888888, \"#fdca26\"], [1.0, \"#f0f921\"]], \"type\": \"heatmapgl\"}], \"histogram\": [{\"marker\": {\"colorbar\": {\"outlinewidth\": 0, \"ticks\": \"\"}}, \"type\": \"histogram\"}], \"histogram2d\": [{\"colorbar\": {\"outlinewidth\": 0, \"ticks\": \"\"}, \"colorscale\": [[0.0, \"#0d0887\"], [0.1111111111111111, \"#46039f\"], [0.2222222222222222, \"#7201a8\"], [0.3333333333333333, \"#9c179e\"], [0.4444444444444444, \"#bd3786\"], [0.5555555555555556, \"#d8576b\"], [0.6666666666666666, \"#ed7953\"], [0.7777777777777778, \"#fb9f3a\"], [0.8888888888888888, \"#fdca26\"], [1.0, \"#f0f921\"]], \"type\": \"histogram2d\"}], \"histogram2dcontour\": [{\"colorbar\": {\"outlinewidth\": 0, \"ticks\": \"\"}, \"colorscale\": [[0.0, \"#0d0887\"], [0.1111111111111111, \"#46039f\"], [0.2222222222222222, \"#7201a8\"], [0.3333333333333333, \"#9c179e\"], [0.4444444444444444, \"#bd3786\"], [0.5555555555555556, \"#d8576b\"], [0.6666666666666666, \"#ed7953\"], [0.7777777777777778, \"#fb9f3a\"], [0.8888888888888888, \"#fdca26\"], [1.0, \"#f0f921\"]], \"type\": \"histogram2dcontour\"}], \"mesh3d\": [{\"colorbar\": {\"outlinewidth\": 0, \"ticks\": \"\"}, \"type\": \"mesh3d\"}], \"parcoords\": [{\"line\": {\"colorbar\": {\"outlinewidth\": 0, \"ticks\": \"\"}}, \"type\": \"parcoords\"}], \"pie\": [{\"automargin\": true, \"type\": \"pie\"}], \"scatter\": [{\"marker\": {\"colorbar\": {\"outlinewidth\": 0, \"ticks\": \"\"}}, \"type\": \"scatter\"}], \"scatter3d\": [{\"line\": {\"colorbar\": {\"outlinewidth\": 0, \"ticks\": \"\"}}, \"marker\": {\"colorbar\": {\"outlinewidth\": 0, \"ticks\": \"\"}}, \"type\": \"scatter3d\"}], \"scattercarpet\": [{\"marker\": {\"colorbar\": {\"outlinewidth\": 0, \"ticks\": \"\"}}, \"type\": \"scattercarpet\"}], \"scattergeo\": [{\"marker\": {\"colorbar\": {\"outlinewidth\": 0, \"ticks\": \"\"}}, \"type\": \"scattergeo\"}], \"scattergl\": [{\"marker\": {\"colorbar\": {\"outlinewidth\": 0, \"ticks\": \"\"}}, \"type\": \"scattergl\"}], \"scattermapbox\": [{\"marker\": {\"colorbar\": {\"outlinewidth\": 0, \"ticks\": \"\"}}, \"type\": \"scattermapbox\"}], \"scatterpolar\": [{\"marker\": {\"colorbar\": {\"outlinewidth\": 0, \"ticks\": \"\"}}, \"type\": \"scatterpolar\"}], \"scatterpolargl\": [{\"marker\": {\"colorbar\": {\"outlinewidth\": 0, \"ticks\": \"\"}}, \"type\": \"scatterpolargl\"}], \"scatterternary\": [{\"marker\": {\"colorbar\": {\"outlinewidth\": 0, \"ticks\": \"\"}}, \"type\": \"scatterternary\"}], \"surface\": [{\"colorbar\": {\"outlinewidth\": 0, \"ticks\": \"\"}, \"colorscale\": [[0.0, \"#0d0887\"], [0.1111111111111111, \"#46039f\"], [0.2222222222222222, \"#7201a8\"], [0.3333333333333333, \"#9c179e\"], [0.4444444444444444, \"#bd3786\"], [0.5555555555555556, \"#d8576b\"], [0.6666666666666666, \"#ed7953\"], [0.7777777777777778, \"#fb9f3a\"], [0.8888888888888888, \"#fdca26\"], [1.0, \"#f0f921\"]], \"type\": \"surface\"}], \"table\": [{\"cells\": {\"fill\": {\"color\": \"#EBF0F8\"}, \"line\": {\"color\": \"white\"}}, \"header\": {\"fill\": {\"color\": \"#C8D4E3\"}, \"line\": {\"color\": \"white\"}}, \"type\": \"table\"}]}, \"layout\": {\"annotationdefaults\": {\"arrowcolor\": \"#2a3f5f\", \"arrowhead\": 0, \"arrowwidth\": 1}, \"coloraxis\": {\"colorbar\": {\"outlinewidth\": 0, \"ticks\": \"\"}}, \"colorscale\": {\"diverging\": [[0, \"#8e0152\"], [0.1, \"#c51b7d\"], [0.2, \"#de77ae\"], [0.3, \"#f1b6da\"], [0.4, \"#fde0ef\"], [0.5, \"#f7f7f7\"], [0.6, \"#e6f5d0\"], [0.7, \"#b8e186\"], [0.8, \"#7fbc41\"], [0.9, \"#4d9221\"], [1, \"#276419\"]], \"sequential\": [[0.0, \"#0d0887\"], [0.1111111111111111, \"#46039f\"], [0.2222222222222222, \"#7201a8\"], [0.3333333333333333, \"#9c179e\"], [0.4444444444444444, \"#bd3786\"], [0.5555555555555556, \"#d8576b\"], [0.6666666666666666, \"#ed7953\"], [0.7777777777777778, \"#fb9f3a\"], [0.8888888888888888, \"#fdca26\"], [1.0, \"#f0f921\"]], \"sequentialminus\": [[0.0, \"#0d0887\"], [0.1111111111111111, \"#46039f\"], [0.2222222222222222, \"#7201a8\"], [0.3333333333333333, \"#9c179e\"], [0.4444444444444444, \"#bd3786\"], [0.5555555555555556, \"#d8576b\"], [0.6666666666666666, \"#ed7953\"], [0.7777777777777778, \"#fb9f3a\"], [0.8888888888888888, \"#fdca26\"], [1.0, \"#f0f921\"]]}, \"colorway\": [\"#636efa\", \"#EF553B\", \"#00cc96\", \"#ab63fa\", \"#FFA15A\", \"#19d3f3\", \"#FF6692\", \"#B6E880\", \"#FF97FF\", \"#FECB52\"], \"font\": {\"color\": \"#2a3f5f\"}, \"geo\": {\"bgcolor\": \"white\", \"lakecolor\": \"white\", \"landcolor\": \"#E5ECF6\", \"showlakes\": true, \"showland\": true, \"subunitcolor\": \"white\"}, \"hoverlabel\": {\"align\": \"left\"}, \"hovermode\": \"closest\", \"mapbox\": {\"style\": \"light\"}, \"paper_bgcolor\": \"white\", \"plot_bgcolor\": \"#E5ECF6\", \"polar\": {\"angularaxis\": {\"gridcolor\": \"white\", \"linecolor\": \"white\", \"ticks\": \"\"}, \"bgcolor\": \"#E5ECF6\", \"radialaxis\": {\"gridcolor\": \"white\", \"linecolor\": \"white\", \"ticks\": \"\"}}, \"scene\": {\"xaxis\": {\"backgroundcolor\": \"#E5ECF6\", \"gridcolor\": \"white\", \"gridwidth\": 2, \"linecolor\": \"white\", \"showbackground\": true, \"ticks\": \"\", \"zerolinecolor\": \"white\"}, \"yaxis\": {\"backgroundcolor\": \"#E5ECF6\", \"gridcolor\": \"white\", \"gridwidth\": 2, \"linecolor\": \"white\", \"showbackground\": true, \"ticks\": \"\", \"zerolinecolor\": \"white\"}, \"zaxis\": {\"backgroundcolor\": \"#E5ECF6\", \"gridcolor\": \"white\", \"gridwidth\": 2, \"linecolor\": \"white\", \"showbackground\": true, \"ticks\": \"\", \"zerolinecolor\": \"white\"}}, \"shapedefaults\": {\"line\": {\"color\": \"#2a3f5f\"}}, \"ternary\": {\"aaxis\": {\"gridcolor\": \"white\", \"linecolor\": \"white\", \"ticks\": \"\"}, \"baxis\": {\"gridcolor\": \"white\", \"linecolor\": \"white\", \"ticks\": \"\"}, \"bgcolor\": \"#E5ECF6\", \"caxis\": {\"gridcolor\": \"white\", \"linecolor\": \"white\", \"ticks\": \"\"}}, \"title\": {\"x\": 0.05}, \"xaxis\": {\"automargin\": true, \"gridcolor\": \"white\", \"linecolor\": \"white\", \"ticks\": \"\", \"title\": {\"standoff\": 15}, \"zerolinecolor\": \"white\", \"zerolinewidth\": 2}, \"yaxis\": {\"automargin\": true, \"gridcolor\": \"white\", \"linecolor\": \"white\", \"ticks\": \"\", \"title\": {\"standoff\": 15}, \"zerolinecolor\": \"white\", \"zerolinewidth\": 2}}}, \"title\": {\"text\": \"Yield  early(2011-2014 ) vs late(2015-2019)\"}, \"xaxis\": {\"tickangle\": 45}},\n",
       "                        {\"responsive\": true}\n",
       "                    ).then(function(){\n",
       "                            \n",
       "var gd = document.getElementById('7ac7a048-fde3-4c34-8580-6e0052d25684');\n",
       "var x = new MutationObserver(function (mutations, observer) {{\n",
       "        var display = window.getComputedStyle(gd).display;\n",
       "        if (!display || display === 'none') {{\n",
       "            console.log([gd, 'removed!']);\n",
       "            Plotly.purge(gd);\n",
       "            observer.disconnect();\n",
       "        }}\n",
       "}});\n",
       "\n",
       "// Listen for the removal of the full notebook cells\n",
       "var notebookContainer = gd.closest('#notebook-container');\n",
       "if (notebookContainer) {{\n",
       "    x.observe(notebookContainer, {childList: true});\n",
       "}}\n",
       "\n",
       "// Listen for the clearing of the current output cell\n",
       "var outputEl = gd.closest('.output');\n",
       "if (outputEl) {{\n",
       "    x.observe(outputEl, {childList: true});\n",
       "}}\n",
       "\n",
       "                        })\n",
       "                };\n",
       "                });\n",
       "            </script>\n",
       "        </div>"
      ]
     },
     "metadata": {},
     "output_type": "display_data"
    }
   ],
   "source": [
    "import plotly.graph_objects as go\n",
    "regions=df_crop_reg_early_late_r['region']\n",
    "early = df_crop_reg_early_late_r['yield_early']\n",
    "late =df_crop_reg_early_late_r['yield_late']\n",
    "fig = go.Figure(data=[\n",
    "    go.Bar(name='early', x=regions, y=early),\n",
    "    go.Bar(name='late', x=regions, y=late)\n",
    "])\n",
    "# Change the bar mode\n",
    "fig.update_layout(barmode='group', xaxis_tickangle = 45, title = 'Yield  early(2011-2014 ) vs late(2015-2019)' )\n",
    "fig.show()"
   ]
  },
  {
   "cell_type": "code",
   "execution_count": 237,
   "metadata": {},
   "outputs": [
    {
     "data": {
      "text/html": [
       "<div>\n",
       "<style scoped>\n",
       "    .dataframe tbody tr th:only-of-type {\n",
       "        vertical-align: middle;\n",
       "    }\n",
       "\n",
       "    .dataframe tbody tr th {\n",
       "        vertical-align: top;\n",
       "    }\n",
       "\n",
       "    .dataframe thead th {\n",
       "        text-align: right;\n",
       "    }\n",
       "</style>\n",
       "<table border=\"1\" class=\"dataframe\">\n",
       "  <thead>\n",
       "    <tr style=\"text-align: right;\">\n",
       "      <th></th>\n",
       "      <th>region</th>\n",
       "      <th>yield_early</th>\n",
       "      <th>yield_late</th>\n",
       "      <th>roi</th>\n",
       "    </tr>\n",
       "  </thead>\n",
       "  <tbody>\n",
       "    <tr>\n",
       "      <th>0</th>\n",
       "      <td>Africa</td>\n",
       "      <td>19369713.0</td>\n",
       "      <td>15745788.0</td>\n",
       "      <td>-23.015203</td>\n",
       "    </tr>\n",
       "    <tr>\n",
       "      <th>1</th>\n",
       "      <td>Americas</td>\n",
       "      <td>20367009.0</td>\n",
       "      <td>17045670.0</td>\n",
       "      <td>-19.484943</td>\n",
       "    </tr>\n",
       "    <tr>\n",
       "      <th>2</th>\n",
       "      <td>Annex I countries</td>\n",
       "      <td>39990228.0</td>\n",
       "      <td>33843079.0</td>\n",
       "      <td>-18.163681</td>\n",
       "    </tr>\n",
       "    <tr>\n",
       "      <th>3</th>\n",
       "      <td>Asia</td>\n",
       "      <td>36014087.0</td>\n",
       "      <td>31583382.0</td>\n",
       "      <td>-14.028596</td>\n",
       "    </tr>\n",
       "    <tr>\n",
       "      <th>4</th>\n",
       "      <td>Australia and New Zealand</td>\n",
       "      <td>2507117.0</td>\n",
       "      <td>2123360.0</td>\n",
       "      <td>-18.073101</td>\n",
       "    </tr>\n",
       "  </tbody>\n",
       "</table>\n",
       "</div>"
      ],
      "text/plain": [
       "                      region  yield_early  yield_late        roi\n",
       "0                     Africa   19369713.0  15745788.0 -23.015203\n",
       "1                   Americas   20367009.0  17045670.0 -19.484943\n",
       "2          Annex I countries   39990228.0  33843079.0 -18.163681\n",
       "3                       Asia   36014087.0  31583382.0 -14.028596\n",
       "4  Australia and New Zealand    2507117.0   2123360.0 -18.073101"
      ]
     },
     "execution_count": 237,
     "metadata": {},
     "output_type": "execute_result"
    }
   ],
   "source": [
    "# calculate the rate of decrease\n",
    "df_crop_reg_early_late_r['roi'] = (df_crop_reg_early_late_r['yield_late']-df_crop_reg_early_late_r['yield_early'])/(df_crop_reg_early_late_r['yield_late'])\n",
    "df_crop_reg_early_late_r['roi'] =df_crop_reg_early_late_r['roi']*100\n",
    "df_crop_reg_early_late_r.head()"
   ]
  },
  {
   "cell_type": "code",
   "execution_count": 222,
   "metadata": {},
   "outputs": [
    {
     "data": {
      "text/html": [
       "<div>\n",
       "<style scoped>\n",
       "    .dataframe tbody tr th:only-of-type {\n",
       "        vertical-align: middle;\n",
       "    }\n",
       "\n",
       "    .dataframe tbody tr th {\n",
       "        vertical-align: top;\n",
       "    }\n",
       "\n",
       "    .dataframe thead th {\n",
       "        text-align: right;\n",
       "    }\n",
       "</style>\n",
       "<table border=\"1\" class=\"dataframe\">\n",
       "  <thead>\n",
       "    <tr style=\"text-align: right;\">\n",
       "      <th></th>\n",
       "      <th>region</th>\n",
       "      <th>yield_early</th>\n",
       "      <th>yield_late</th>\n",
       "      <th>roi</th>\n",
       "    </tr>\n",
       "  </thead>\n",
       "  <tbody>\n",
       "    <tr>\n",
       "      <th>10</th>\n",
       "      <td>Eastern Africa</td>\n",
       "      <td>7262080.0</td>\n",
       "      <td>5587399.0</td>\n",
       "      <td>23.060625</td>\n",
       "    </tr>\n",
       "    <tr>\n",
       "      <th>49</th>\n",
       "      <td>Western Europe</td>\n",
       "      <td>9604588.0</td>\n",
       "      <td>7534693.0</td>\n",
       "      <td>21.551107</td>\n",
       "    </tr>\n",
       "    <tr>\n",
       "      <th>43</th>\n",
       "      <td>Sub-Saharan Africa</td>\n",
       "      <td>14919247.0</td>\n",
       "      <td>11710138.0</td>\n",
       "      <td>21.509859</td>\n",
       "    </tr>\n",
       "    <tr>\n",
       "      <th>9</th>\n",
       "      <td>East Asia (exc China)</td>\n",
       "      <td>1873050.0</td>\n",
       "      <td>1472181.0</td>\n",
       "      <td>21.401938</td>\n",
       "    </tr>\n",
       "    <tr>\n",
       "      <th>25</th>\n",
       "      <td>Middle Africa</td>\n",
       "      <td>1770831.0</td>\n",
       "      <td>1393781.0</td>\n",
       "      <td>21.292263</td>\n",
       "    </tr>\n",
       "    <tr>\n",
       "      <th>44</th>\n",
       "      <td>Sub-Saharan Africa (including Sudan)</td>\n",
       "      <td>15126312.0</td>\n",
       "      <td>12067805.0</td>\n",
       "      <td>20.219780</td>\n",
       "    </tr>\n",
       "    <tr>\n",
       "      <th>40</th>\n",
       "      <td>Southern Africa</td>\n",
       "      <td>1808043.0</td>\n",
       "      <td>1448636.0</td>\n",
       "      <td>19.878233</td>\n",
       "    </tr>\n",
       "    <tr>\n",
       "      <th>11</th>\n",
       "      <td>Eastern Asia</td>\n",
       "      <td>5135306.0</td>\n",
       "      <td>4124649.0</td>\n",
       "      <td>19.680560</td>\n",
       "    </tr>\n",
       "    <tr>\n",
       "      <th>19</th>\n",
       "      <td>Least Developed Countries</td>\n",
       "      <td>14939847.0</td>\n",
       "      <td>12019649.0</td>\n",
       "      <td>19.546372</td>\n",
       "    </tr>\n",
       "    <tr>\n",
       "      <th>46</th>\n",
       "      <td>Western Africa</td>\n",
       "      <td>4681812.0</td>\n",
       "      <td>3786067.0</td>\n",
       "      <td>19.132443</td>\n",
       "    </tr>\n",
       "  </tbody>\n",
       "</table>\n",
       "</div>"
      ],
      "text/plain": [
       "                                  region  yield_early  yield_late        roi\n",
       "10                        Eastern Africa    7262080.0   5587399.0  23.060625\n",
       "49                        Western Europe    9604588.0   7534693.0  21.551107\n",
       "43                    Sub-Saharan Africa   14919247.0  11710138.0  21.509859\n",
       "9                  East Asia (exc China)    1873050.0   1472181.0  21.401938\n",
       "25                         Middle Africa    1770831.0   1393781.0  21.292263\n",
       "44  Sub-Saharan Africa (including Sudan)   15126312.0  12067805.0  20.219780\n",
       "40                       Southern Africa    1808043.0   1448636.0  19.878233\n",
       "11                          Eastern Asia    5135306.0   4124649.0  19.680560\n",
       "19             Least Developed Countries   14939847.0  12019649.0  19.546372\n",
       "46                        Western Africa    4681812.0   3786067.0  19.132443"
      ]
     },
     "execution_count": 222,
     "metadata": {},
     "output_type": "execute_result"
    }
   ],
   "source": [
    "df_crop_reg_early_late_r.nlargest(10,['roi'])"
   ]
  },
  {
   "cell_type": "code",
   "execution_count": 256,
   "metadata": {},
   "outputs": [
    {
     "data": {
      "application/vnd.plotly.v1+json": {
       "config": {
        "plotlyServerURL": "https://plot.ly"
       },
       "data": [
        {
         "alignmentgroup": "True",
         "hoverlabel": {
          "namelength": 0
         },
         "hovertemplate": "region=%{x}<br>roi=%{y}",
         "legendgroup": "",
         "marker": {
          "color": "#636efa"
         },
         "name": "",
         "offsetgroup": "",
         "orientation": "v",
         "showlegend": false,
         "textposition": "auto",
         "type": "bar",
         "x": [
          "Africa",
          "Americas",
          "Annex I countries",
          "Asia",
          "Australia and New Zealand",
          "Caribbean",
          "Central America",
          "Central Asia",
          "Central Asia and Southern Asia",
          "East Asia (exc China)",
          "Eastern Africa",
          "Eastern Asia",
          "Eastern Asia and South-eastern Asia",
          "Eastern Europe",
          "Europe",
          "European Union",
          "High-income economies",
          "Land Locked Developing Countries",
          "Latin America and the Caribbean",
          "Least Developed Countries",
          "Low Income Food Deficit Countries",
          "Low income economies",
          "Lower-middle-income economies",
          "Melanesia",
          "Micronesia",
          "Middle Africa",
          "Net Food Importing Developing Countries",
          "Non-Annex I countries",
          "North Africa (exc Sudan)",
          "Northern Africa",
          "Northern America",
          "Northern America and Europe",
          "Northern Europe",
          "OECD",
          "Oceania",
          "Oceania excluding Australia and New Zealand",
          "Small Island Developing States",
          "South America",
          "South Asia (exc India)",
          "South-Eastern Asia",
          "Southern Africa",
          "Southern Asia",
          "Southern Europe",
          "Sub-Saharan Africa",
          "Sub-Saharan Africa (including Sudan)",
          "Upper-middle-income economies",
          "Western Africa",
          "Western Asia",
          "Western Asia and Northern Africa",
          "Western Europe",
          "World"
         ],
         "xaxis": "x",
         "y": [
          -23.015202541784507,
          -19.48494251032667,
          -18.163681265525515,
          -14.028595797625472,
          -18.07310112274885,
          -21.24469293264611,
          -18.25709469148497,
          -2.858087374721197,
          -10.045556357374778,
          -27.229600164653668,
          -29.97246124717422,
          -24.502860728270452,
          -20.938751407577445,
          -8.60137397414482,
          -17.387178119094955,
          -18.470043511788752,
          -18.88627889890092,
          -11.215754240383285,
          -18.682006836461255,
          -24.295201964716274,
          -19.173113752475,
          -20.19336678381959,
          -17.07269037732895,
          -5.759159205801539,
          -18.74088500114823,
          -27.052313096533815,
          -22.607414155278676,
          -17.02419411305113,
          -9.821209327469665,
          -8.981601487858738,
          -12.056794299966054,
          -17.042270487888764,
          -15.27737191917313,
          -19.76434997737106,
          -13.762827648571896,
          -7.837916634781822,
          -20.06762686909157,
          -21.173542235996507,
          -17.18573856817191,
          -17.077684384093267,
          -24.810028192037198,
          -17.467578604982645,
          -17.76738546845052,
          -27.404536137832018,
          -25.34435218335066,
          -12.865281120594494,
          -23.658984376134917,
          -12.803132883863084,
          -11.17127397449801,
          -27.471524055459195,
          -17.43314549126554
         ],
         "yaxis": "y"
        }
       ],
       "layout": {
        "barmode": "group",
        "legend": {
         "tracegroupgap": 0
        },
        "margin": {
         "t": 60
        },
        "template": {
         "data": {
          "bar": [
           {
            "error_x": {
             "color": "#2a3f5f"
            },
            "error_y": {
             "color": "#2a3f5f"
            },
            "marker": {
             "line": {
              "color": "#E5ECF6",
              "width": 0.5
             }
            },
            "type": "bar"
           }
          ],
          "barpolar": [
           {
            "marker": {
             "line": {
              "color": "#E5ECF6",
              "width": 0.5
             }
            },
            "type": "barpolar"
           }
          ],
          "carpet": [
           {
            "aaxis": {
             "endlinecolor": "#2a3f5f",
             "gridcolor": "white",
             "linecolor": "white",
             "minorgridcolor": "white",
             "startlinecolor": "#2a3f5f"
            },
            "baxis": {
             "endlinecolor": "#2a3f5f",
             "gridcolor": "white",
             "linecolor": "white",
             "minorgridcolor": "white",
             "startlinecolor": "#2a3f5f"
            },
            "type": "carpet"
           }
          ],
          "choropleth": [
           {
            "colorbar": {
             "outlinewidth": 0,
             "ticks": ""
            },
            "type": "choropleth"
           }
          ],
          "contour": [
           {
            "colorbar": {
             "outlinewidth": 0,
             "ticks": ""
            },
            "colorscale": [
             [
              0,
              "#0d0887"
             ],
             [
              0.1111111111111111,
              "#46039f"
             ],
             [
              0.2222222222222222,
              "#7201a8"
             ],
             [
              0.3333333333333333,
              "#9c179e"
             ],
             [
              0.4444444444444444,
              "#bd3786"
             ],
             [
              0.5555555555555556,
              "#d8576b"
             ],
             [
              0.6666666666666666,
              "#ed7953"
             ],
             [
              0.7777777777777778,
              "#fb9f3a"
             ],
             [
              0.8888888888888888,
              "#fdca26"
             ],
             [
              1,
              "#f0f921"
             ]
            ],
            "type": "contour"
           }
          ],
          "contourcarpet": [
           {
            "colorbar": {
             "outlinewidth": 0,
             "ticks": ""
            },
            "type": "contourcarpet"
           }
          ],
          "heatmap": [
           {
            "colorbar": {
             "outlinewidth": 0,
             "ticks": ""
            },
            "colorscale": [
             [
              0,
              "#0d0887"
             ],
             [
              0.1111111111111111,
              "#46039f"
             ],
             [
              0.2222222222222222,
              "#7201a8"
             ],
             [
              0.3333333333333333,
              "#9c179e"
             ],
             [
              0.4444444444444444,
              "#bd3786"
             ],
             [
              0.5555555555555556,
              "#d8576b"
             ],
             [
              0.6666666666666666,
              "#ed7953"
             ],
             [
              0.7777777777777778,
              "#fb9f3a"
             ],
             [
              0.8888888888888888,
              "#fdca26"
             ],
             [
              1,
              "#f0f921"
             ]
            ],
            "type": "heatmap"
           }
          ],
          "heatmapgl": [
           {
            "colorbar": {
             "outlinewidth": 0,
             "ticks": ""
            },
            "colorscale": [
             [
              0,
              "#0d0887"
             ],
             [
              0.1111111111111111,
              "#46039f"
             ],
             [
              0.2222222222222222,
              "#7201a8"
             ],
             [
              0.3333333333333333,
              "#9c179e"
             ],
             [
              0.4444444444444444,
              "#bd3786"
             ],
             [
              0.5555555555555556,
              "#d8576b"
             ],
             [
              0.6666666666666666,
              "#ed7953"
             ],
             [
              0.7777777777777778,
              "#fb9f3a"
             ],
             [
              0.8888888888888888,
              "#fdca26"
             ],
             [
              1,
              "#f0f921"
             ]
            ],
            "type": "heatmapgl"
           }
          ],
          "histogram": [
           {
            "marker": {
             "colorbar": {
              "outlinewidth": 0,
              "ticks": ""
             }
            },
            "type": "histogram"
           }
          ],
          "histogram2d": [
           {
            "colorbar": {
             "outlinewidth": 0,
             "ticks": ""
            },
            "colorscale": [
             [
              0,
              "#0d0887"
             ],
             [
              0.1111111111111111,
              "#46039f"
             ],
             [
              0.2222222222222222,
              "#7201a8"
             ],
             [
              0.3333333333333333,
              "#9c179e"
             ],
             [
              0.4444444444444444,
              "#bd3786"
             ],
             [
              0.5555555555555556,
              "#d8576b"
             ],
             [
              0.6666666666666666,
              "#ed7953"
             ],
             [
              0.7777777777777778,
              "#fb9f3a"
             ],
             [
              0.8888888888888888,
              "#fdca26"
             ],
             [
              1,
              "#f0f921"
             ]
            ],
            "type": "histogram2d"
           }
          ],
          "histogram2dcontour": [
           {
            "colorbar": {
             "outlinewidth": 0,
             "ticks": ""
            },
            "colorscale": [
             [
              0,
              "#0d0887"
             ],
             [
              0.1111111111111111,
              "#46039f"
             ],
             [
              0.2222222222222222,
              "#7201a8"
             ],
             [
              0.3333333333333333,
              "#9c179e"
             ],
             [
              0.4444444444444444,
              "#bd3786"
             ],
             [
              0.5555555555555556,
              "#d8576b"
             ],
             [
              0.6666666666666666,
              "#ed7953"
             ],
             [
              0.7777777777777778,
              "#fb9f3a"
             ],
             [
              0.8888888888888888,
              "#fdca26"
             ],
             [
              1,
              "#f0f921"
             ]
            ],
            "type": "histogram2dcontour"
           }
          ],
          "mesh3d": [
           {
            "colorbar": {
             "outlinewidth": 0,
             "ticks": ""
            },
            "type": "mesh3d"
           }
          ],
          "parcoords": [
           {
            "line": {
             "colorbar": {
              "outlinewidth": 0,
              "ticks": ""
             }
            },
            "type": "parcoords"
           }
          ],
          "pie": [
           {
            "automargin": true,
            "type": "pie"
           }
          ],
          "scatter": [
           {
            "marker": {
             "colorbar": {
              "outlinewidth": 0,
              "ticks": ""
             }
            },
            "type": "scatter"
           }
          ],
          "scatter3d": [
           {
            "line": {
             "colorbar": {
              "outlinewidth": 0,
              "ticks": ""
             }
            },
            "marker": {
             "colorbar": {
              "outlinewidth": 0,
              "ticks": ""
             }
            },
            "type": "scatter3d"
           }
          ],
          "scattercarpet": [
           {
            "marker": {
             "colorbar": {
              "outlinewidth": 0,
              "ticks": ""
             }
            },
            "type": "scattercarpet"
           }
          ],
          "scattergeo": [
           {
            "marker": {
             "colorbar": {
              "outlinewidth": 0,
              "ticks": ""
             }
            },
            "type": "scattergeo"
           }
          ],
          "scattergl": [
           {
            "marker": {
             "colorbar": {
              "outlinewidth": 0,
              "ticks": ""
             }
            },
            "type": "scattergl"
           }
          ],
          "scattermapbox": [
           {
            "marker": {
             "colorbar": {
              "outlinewidth": 0,
              "ticks": ""
             }
            },
            "type": "scattermapbox"
           }
          ],
          "scatterpolar": [
           {
            "marker": {
             "colorbar": {
              "outlinewidth": 0,
              "ticks": ""
             }
            },
            "type": "scatterpolar"
           }
          ],
          "scatterpolargl": [
           {
            "marker": {
             "colorbar": {
              "outlinewidth": 0,
              "ticks": ""
             }
            },
            "type": "scatterpolargl"
           }
          ],
          "scatterternary": [
           {
            "marker": {
             "colorbar": {
              "outlinewidth": 0,
              "ticks": ""
             }
            },
            "type": "scatterternary"
           }
          ],
          "surface": [
           {
            "colorbar": {
             "outlinewidth": 0,
             "ticks": ""
            },
            "colorscale": [
             [
              0,
              "#0d0887"
             ],
             [
              0.1111111111111111,
              "#46039f"
             ],
             [
              0.2222222222222222,
              "#7201a8"
             ],
             [
              0.3333333333333333,
              "#9c179e"
             ],
             [
              0.4444444444444444,
              "#bd3786"
             ],
             [
              0.5555555555555556,
              "#d8576b"
             ],
             [
              0.6666666666666666,
              "#ed7953"
             ],
             [
              0.7777777777777778,
              "#fb9f3a"
             ],
             [
              0.8888888888888888,
              "#fdca26"
             ],
             [
              1,
              "#f0f921"
             ]
            ],
            "type": "surface"
           }
          ],
          "table": [
           {
            "cells": {
             "fill": {
              "color": "#EBF0F8"
             },
             "line": {
              "color": "white"
             }
            },
            "header": {
             "fill": {
              "color": "#C8D4E3"
             },
             "line": {
              "color": "white"
             }
            },
            "type": "table"
           }
          ]
         },
         "layout": {
          "annotationdefaults": {
           "arrowcolor": "#2a3f5f",
           "arrowhead": 0,
           "arrowwidth": 1
          },
          "coloraxis": {
           "colorbar": {
            "outlinewidth": 0,
            "ticks": ""
           }
          },
          "colorscale": {
           "diverging": [
            [
             0,
             "#8e0152"
            ],
            [
             0.1,
             "#c51b7d"
            ],
            [
             0.2,
             "#de77ae"
            ],
            [
             0.3,
             "#f1b6da"
            ],
            [
             0.4,
             "#fde0ef"
            ],
            [
             0.5,
             "#f7f7f7"
            ],
            [
             0.6,
             "#e6f5d0"
            ],
            [
             0.7,
             "#b8e186"
            ],
            [
             0.8,
             "#7fbc41"
            ],
            [
             0.9,
             "#4d9221"
            ],
            [
             1,
             "#276419"
            ]
           ],
           "sequential": [
            [
             0,
             "#0d0887"
            ],
            [
             0.1111111111111111,
             "#46039f"
            ],
            [
             0.2222222222222222,
             "#7201a8"
            ],
            [
             0.3333333333333333,
             "#9c179e"
            ],
            [
             0.4444444444444444,
             "#bd3786"
            ],
            [
             0.5555555555555556,
             "#d8576b"
            ],
            [
             0.6666666666666666,
             "#ed7953"
            ],
            [
             0.7777777777777778,
             "#fb9f3a"
            ],
            [
             0.8888888888888888,
             "#fdca26"
            ],
            [
             1,
             "#f0f921"
            ]
           ],
           "sequentialminus": [
            [
             0,
             "#0d0887"
            ],
            [
             0.1111111111111111,
             "#46039f"
            ],
            [
             0.2222222222222222,
             "#7201a8"
            ],
            [
             0.3333333333333333,
             "#9c179e"
            ],
            [
             0.4444444444444444,
             "#bd3786"
            ],
            [
             0.5555555555555556,
             "#d8576b"
            ],
            [
             0.6666666666666666,
             "#ed7953"
            ],
            [
             0.7777777777777778,
             "#fb9f3a"
            ],
            [
             0.8888888888888888,
             "#fdca26"
            ],
            [
             1,
             "#f0f921"
            ]
           ]
          },
          "colorway": [
           "#636efa",
           "#EF553B",
           "#00cc96",
           "#ab63fa",
           "#FFA15A",
           "#19d3f3",
           "#FF6692",
           "#B6E880",
           "#FF97FF",
           "#FECB52"
          ],
          "font": {
           "color": "#2a3f5f"
          },
          "geo": {
           "bgcolor": "white",
           "lakecolor": "white",
           "landcolor": "#E5ECF6",
           "showlakes": true,
           "showland": true,
           "subunitcolor": "white"
          },
          "hoverlabel": {
           "align": "left"
          },
          "hovermode": "closest",
          "mapbox": {
           "style": "light"
          },
          "paper_bgcolor": "white",
          "plot_bgcolor": "#E5ECF6",
          "polar": {
           "angularaxis": {
            "gridcolor": "white",
            "linecolor": "white",
            "ticks": ""
           },
           "bgcolor": "#E5ECF6",
           "radialaxis": {
            "gridcolor": "white",
            "linecolor": "white",
            "ticks": ""
           }
          },
          "scene": {
           "xaxis": {
            "backgroundcolor": "#E5ECF6",
            "gridcolor": "white",
            "gridwidth": 2,
            "linecolor": "white",
            "showbackground": true,
            "ticks": "",
            "zerolinecolor": "white"
           },
           "yaxis": {
            "backgroundcolor": "#E5ECF6",
            "gridcolor": "white",
            "gridwidth": 2,
            "linecolor": "white",
            "showbackground": true,
            "ticks": "",
            "zerolinecolor": "white"
           },
           "zaxis": {
            "backgroundcolor": "#E5ECF6",
            "gridcolor": "white",
            "gridwidth": 2,
            "linecolor": "white",
            "showbackground": true,
            "ticks": "",
            "zerolinecolor": "white"
           }
          },
          "shapedefaults": {
           "line": {
            "color": "#2a3f5f"
           }
          },
          "ternary": {
           "aaxis": {
            "gridcolor": "white",
            "linecolor": "white",
            "ticks": ""
           },
           "baxis": {
            "gridcolor": "white",
            "linecolor": "white",
            "ticks": ""
           },
           "bgcolor": "#E5ECF6",
           "caxis": {
            "gridcolor": "white",
            "linecolor": "white",
            "ticks": ""
           }
          },
          "title": {
           "x": 0.05
          },
          "xaxis": {
           "automargin": true,
           "gridcolor": "white",
           "linecolor": "white",
           "ticks": "",
           "title": {
            "standoff": 15
           },
           "zerolinecolor": "white",
           "zerolinewidth": 2
          },
          "yaxis": {
           "automargin": true,
           "gridcolor": "white",
           "linecolor": "white",
           "ticks": "",
           "title": {
            "standoff": 15
           },
           "zerolinecolor": "white",
           "zerolinewidth": 2
          }
         }
        },
        "title": {
         "text": "Rate of Yield decrease early(2011-2014 ) vs late(2015-2019)"
        },
        "xaxis": {
         "anchor": "y",
         "categoryorder": "max descending",
         "domain": [
          0,
          1
         ],
         "tickangle": 45,
         "title": {
          "text": "region"
         }
        },
        "yaxis": {
         "anchor": "x",
         "domain": [
          0,
          1
         ],
         "title": {
          "text": "Percentage Rate of Increase"
         }
        }
       }
      },
      "text/html": [
       "<div>\n",
       "        \n",
       "        \n",
       "            <div id=\"8a4c13d7-1718-406c-b470-9aa48f592285\" class=\"plotly-graph-div\" style=\"height:525px; width:100%;\"></div>\n",
       "            <script type=\"text/javascript\">\n",
       "                require([\"plotly\"], function(Plotly) {\n",
       "                    window.PLOTLYENV=window.PLOTLYENV || {};\n",
       "                    \n",
       "                if (document.getElementById(\"8a4c13d7-1718-406c-b470-9aa48f592285\")) {\n",
       "                    Plotly.newPlot(\n",
       "                        '8a4c13d7-1718-406c-b470-9aa48f592285',\n",
       "                        [{\"alignmentgroup\": \"True\", \"hoverlabel\": {\"namelength\": 0}, \"hovertemplate\": \"region=%{x}<br>roi=%{y}\", \"legendgroup\": \"\", \"marker\": {\"color\": \"#636efa\"}, \"name\": \"\", \"offsetgroup\": \"\", \"orientation\": \"v\", \"showlegend\": false, \"textposition\": \"auto\", \"type\": \"bar\", \"x\": [\"Africa\", \"Americas\", \"Annex I countries\", \"Asia\", \"Australia and New Zealand\", \"Caribbean\", \"Central America\", \"Central Asia\", \"Central Asia and Southern Asia\", \"East Asia (exc China)\", \"Eastern Africa\", \"Eastern Asia\", \"Eastern Asia and South-eastern Asia\", \"Eastern Europe\", \"Europe\", \"European Union\", \"High-income economies\", \"Land Locked Developing Countries\", \"Latin America and the Caribbean\", \"Least Developed Countries\", \"Low Income Food Deficit Countries\", \"Low income economies\", \"Lower-middle-income economies\", \"Melanesia\", \"Micronesia\", \"Middle Africa\", \"Net Food Importing Developing Countries\", \"Non-Annex I countries\", \"North Africa (exc Sudan)\", \"Northern Africa\", \"Northern America\", \"Northern America and Europe\", \"Northern Europe\", \"OECD\", \"Oceania\", \"Oceania excluding Australia and New Zealand\", \"Small Island Developing States\", \"South America\", \"South Asia (exc India)\", \"South-Eastern Asia\", \"Southern Africa\", \"Southern Asia\", \"Southern Europe\", \"Sub-Saharan Africa\", \"Sub-Saharan Africa (including Sudan)\", \"Upper-middle-income economies\", \"Western Africa\", \"Western Asia\", \"Western Asia and Northern Africa\", \"Western Europe\", \"World\"], \"xaxis\": \"x\", \"y\": [-23.015202541784507, -19.48494251032667, -18.163681265525515, -14.028595797625472, -18.07310112274885, -21.24469293264611, -18.25709469148497, -2.858087374721197, -10.045556357374778, -27.229600164653668, -29.97246124717422, -24.502860728270452, -20.938751407577445, -8.60137397414482, -17.387178119094955, -18.470043511788752, -18.88627889890092, -11.215754240383285, -18.682006836461255, -24.295201964716274, -19.173113752475, -20.19336678381959, -17.07269037732895, -5.759159205801539, -18.74088500114823, -27.052313096533815, -22.607414155278676, -17.02419411305113, -9.821209327469665, -8.981601487858738, -12.056794299966054, -17.042270487888764, -15.27737191917313, -19.76434997737106, -13.762827648571896, -7.837916634781822, -20.06762686909157, -21.173542235996507, -17.18573856817191, -17.077684384093267, -24.810028192037198, -17.467578604982645, -17.76738546845052, -27.404536137832018, -25.34435218335066, -12.865281120594494, -23.658984376134917, -12.803132883863084, -11.17127397449801, -27.471524055459195, -17.43314549126554], \"yaxis\": \"y\"}],\n",
       "                        {\"barmode\": \"group\", \"legend\": {\"tracegroupgap\": 0}, \"margin\": {\"t\": 60}, \"template\": {\"data\": {\"bar\": [{\"error_x\": {\"color\": \"#2a3f5f\"}, \"error_y\": {\"color\": \"#2a3f5f\"}, \"marker\": {\"line\": {\"color\": \"#E5ECF6\", \"width\": 0.5}}, \"type\": \"bar\"}], \"barpolar\": [{\"marker\": {\"line\": {\"color\": \"#E5ECF6\", \"width\": 0.5}}, \"type\": \"barpolar\"}], \"carpet\": [{\"aaxis\": {\"endlinecolor\": \"#2a3f5f\", \"gridcolor\": \"white\", \"linecolor\": \"white\", \"minorgridcolor\": \"white\", \"startlinecolor\": \"#2a3f5f\"}, \"baxis\": {\"endlinecolor\": \"#2a3f5f\", \"gridcolor\": \"white\", \"linecolor\": \"white\", \"minorgridcolor\": \"white\", \"startlinecolor\": \"#2a3f5f\"}, \"type\": \"carpet\"}], \"choropleth\": [{\"colorbar\": {\"outlinewidth\": 0, \"ticks\": \"\"}, \"type\": \"choropleth\"}], \"contour\": [{\"colorbar\": {\"outlinewidth\": 0, \"ticks\": \"\"}, \"colorscale\": [[0.0, \"#0d0887\"], [0.1111111111111111, \"#46039f\"], [0.2222222222222222, \"#7201a8\"], [0.3333333333333333, \"#9c179e\"], [0.4444444444444444, \"#bd3786\"], [0.5555555555555556, \"#d8576b\"], [0.6666666666666666, \"#ed7953\"], [0.7777777777777778, \"#fb9f3a\"], [0.8888888888888888, \"#fdca26\"], [1.0, \"#f0f921\"]], \"type\": \"contour\"}], \"contourcarpet\": [{\"colorbar\": {\"outlinewidth\": 0, \"ticks\": \"\"}, \"type\": \"contourcarpet\"}], \"heatmap\": [{\"colorbar\": {\"outlinewidth\": 0, \"ticks\": \"\"}, \"colorscale\": [[0.0, \"#0d0887\"], [0.1111111111111111, \"#46039f\"], [0.2222222222222222, \"#7201a8\"], [0.3333333333333333, \"#9c179e\"], [0.4444444444444444, \"#bd3786\"], [0.5555555555555556, \"#d8576b\"], [0.6666666666666666, \"#ed7953\"], [0.7777777777777778, \"#fb9f3a\"], [0.8888888888888888, \"#fdca26\"], [1.0, \"#f0f921\"]], \"type\": \"heatmap\"}], \"heatmapgl\": [{\"colorbar\": {\"outlinewidth\": 0, \"ticks\": \"\"}, \"colorscale\": [[0.0, \"#0d0887\"], [0.1111111111111111, \"#46039f\"], [0.2222222222222222, \"#7201a8\"], [0.3333333333333333, \"#9c179e\"], [0.4444444444444444, \"#bd3786\"], [0.5555555555555556, \"#d8576b\"], [0.6666666666666666, \"#ed7953\"], [0.7777777777777778, \"#fb9f3a\"], [0.8888888888888888, \"#fdca26\"], [1.0, \"#f0f921\"]], \"type\": \"heatmapgl\"}], \"histogram\": [{\"marker\": {\"colorbar\": {\"outlinewidth\": 0, \"ticks\": \"\"}}, \"type\": \"histogram\"}], \"histogram2d\": [{\"colorbar\": {\"outlinewidth\": 0, \"ticks\": \"\"}, \"colorscale\": [[0.0, \"#0d0887\"], [0.1111111111111111, \"#46039f\"], [0.2222222222222222, \"#7201a8\"], [0.3333333333333333, \"#9c179e\"], [0.4444444444444444, \"#bd3786\"], [0.5555555555555556, \"#d8576b\"], [0.6666666666666666, \"#ed7953\"], [0.7777777777777778, \"#fb9f3a\"], [0.8888888888888888, \"#fdca26\"], [1.0, \"#f0f921\"]], \"type\": \"histogram2d\"}], \"histogram2dcontour\": [{\"colorbar\": {\"outlinewidth\": 0, \"ticks\": \"\"}, \"colorscale\": [[0.0, \"#0d0887\"], [0.1111111111111111, \"#46039f\"], [0.2222222222222222, \"#7201a8\"], [0.3333333333333333, \"#9c179e\"], [0.4444444444444444, \"#bd3786\"], [0.5555555555555556, \"#d8576b\"], [0.6666666666666666, \"#ed7953\"], [0.7777777777777778, \"#fb9f3a\"], [0.8888888888888888, \"#fdca26\"], [1.0, \"#f0f921\"]], \"type\": \"histogram2dcontour\"}], \"mesh3d\": [{\"colorbar\": {\"outlinewidth\": 0, \"ticks\": \"\"}, \"type\": \"mesh3d\"}], \"parcoords\": [{\"line\": {\"colorbar\": {\"outlinewidth\": 0, \"ticks\": \"\"}}, \"type\": \"parcoords\"}], \"pie\": [{\"automargin\": true, \"type\": \"pie\"}], \"scatter\": [{\"marker\": {\"colorbar\": {\"outlinewidth\": 0, \"ticks\": \"\"}}, \"type\": \"scatter\"}], \"scatter3d\": [{\"line\": {\"colorbar\": {\"outlinewidth\": 0, \"ticks\": \"\"}}, \"marker\": {\"colorbar\": {\"outlinewidth\": 0, \"ticks\": \"\"}}, \"type\": \"scatter3d\"}], \"scattercarpet\": [{\"marker\": {\"colorbar\": {\"outlinewidth\": 0, \"ticks\": \"\"}}, \"type\": \"scattercarpet\"}], \"scattergeo\": [{\"marker\": {\"colorbar\": {\"outlinewidth\": 0, \"ticks\": \"\"}}, \"type\": \"scattergeo\"}], \"scattergl\": [{\"marker\": {\"colorbar\": {\"outlinewidth\": 0, \"ticks\": \"\"}}, \"type\": \"scattergl\"}], \"scattermapbox\": [{\"marker\": {\"colorbar\": {\"outlinewidth\": 0, \"ticks\": \"\"}}, \"type\": \"scattermapbox\"}], \"scatterpolar\": [{\"marker\": {\"colorbar\": {\"outlinewidth\": 0, \"ticks\": \"\"}}, \"type\": \"scatterpolar\"}], \"scatterpolargl\": [{\"marker\": {\"colorbar\": {\"outlinewidth\": 0, \"ticks\": \"\"}}, \"type\": \"scatterpolargl\"}], \"scatterternary\": [{\"marker\": {\"colorbar\": {\"outlinewidth\": 0, \"ticks\": \"\"}}, \"type\": \"scatterternary\"}], \"surface\": [{\"colorbar\": {\"outlinewidth\": 0, \"ticks\": \"\"}, \"colorscale\": [[0.0, \"#0d0887\"], [0.1111111111111111, \"#46039f\"], [0.2222222222222222, \"#7201a8\"], [0.3333333333333333, \"#9c179e\"], [0.4444444444444444, \"#bd3786\"], [0.5555555555555556, \"#d8576b\"], [0.6666666666666666, \"#ed7953\"], [0.7777777777777778, \"#fb9f3a\"], [0.8888888888888888, \"#fdca26\"], [1.0, \"#f0f921\"]], \"type\": \"surface\"}], \"table\": [{\"cells\": {\"fill\": {\"color\": \"#EBF0F8\"}, \"line\": {\"color\": \"white\"}}, \"header\": {\"fill\": {\"color\": \"#C8D4E3\"}, \"line\": {\"color\": \"white\"}}, \"type\": \"table\"}]}, \"layout\": {\"annotationdefaults\": {\"arrowcolor\": \"#2a3f5f\", \"arrowhead\": 0, \"arrowwidth\": 1}, \"coloraxis\": {\"colorbar\": {\"outlinewidth\": 0, \"ticks\": \"\"}}, \"colorscale\": {\"diverging\": [[0, \"#8e0152\"], [0.1, \"#c51b7d\"], [0.2, \"#de77ae\"], [0.3, \"#f1b6da\"], [0.4, \"#fde0ef\"], [0.5, \"#f7f7f7\"], [0.6, \"#e6f5d0\"], [0.7, \"#b8e186\"], [0.8, \"#7fbc41\"], [0.9, \"#4d9221\"], [1, \"#276419\"]], \"sequential\": [[0.0, \"#0d0887\"], [0.1111111111111111, \"#46039f\"], [0.2222222222222222, \"#7201a8\"], [0.3333333333333333, \"#9c179e\"], [0.4444444444444444, \"#bd3786\"], [0.5555555555555556, \"#d8576b\"], [0.6666666666666666, \"#ed7953\"], [0.7777777777777778, \"#fb9f3a\"], [0.8888888888888888, \"#fdca26\"], [1.0, \"#f0f921\"]], \"sequentialminus\": [[0.0, \"#0d0887\"], [0.1111111111111111, \"#46039f\"], [0.2222222222222222, \"#7201a8\"], [0.3333333333333333, \"#9c179e\"], [0.4444444444444444, \"#bd3786\"], [0.5555555555555556, \"#d8576b\"], [0.6666666666666666, \"#ed7953\"], [0.7777777777777778, \"#fb9f3a\"], [0.8888888888888888, \"#fdca26\"], [1.0, \"#f0f921\"]]}, \"colorway\": [\"#636efa\", \"#EF553B\", \"#00cc96\", \"#ab63fa\", \"#FFA15A\", \"#19d3f3\", \"#FF6692\", \"#B6E880\", \"#FF97FF\", \"#FECB52\"], \"font\": {\"color\": \"#2a3f5f\"}, \"geo\": {\"bgcolor\": \"white\", \"lakecolor\": \"white\", \"landcolor\": \"#E5ECF6\", \"showlakes\": true, \"showland\": true, \"subunitcolor\": \"white\"}, \"hoverlabel\": {\"align\": \"left\"}, \"hovermode\": \"closest\", \"mapbox\": {\"style\": \"light\"}, \"paper_bgcolor\": \"white\", \"plot_bgcolor\": \"#E5ECF6\", \"polar\": {\"angularaxis\": {\"gridcolor\": \"white\", \"linecolor\": \"white\", \"ticks\": \"\"}, \"bgcolor\": \"#E5ECF6\", \"radialaxis\": {\"gridcolor\": \"white\", \"linecolor\": \"white\", \"ticks\": \"\"}}, \"scene\": {\"xaxis\": {\"backgroundcolor\": \"#E5ECF6\", \"gridcolor\": \"white\", \"gridwidth\": 2, \"linecolor\": \"white\", \"showbackground\": true, \"ticks\": \"\", \"zerolinecolor\": \"white\"}, \"yaxis\": {\"backgroundcolor\": \"#E5ECF6\", \"gridcolor\": \"white\", \"gridwidth\": 2, \"linecolor\": \"white\", \"showbackground\": true, \"ticks\": \"\", \"zerolinecolor\": \"white\"}, \"zaxis\": {\"backgroundcolor\": \"#E5ECF6\", \"gridcolor\": \"white\", \"gridwidth\": 2, \"linecolor\": \"white\", \"showbackground\": true, \"ticks\": \"\", \"zerolinecolor\": \"white\"}}, \"shapedefaults\": {\"line\": {\"color\": \"#2a3f5f\"}}, \"ternary\": {\"aaxis\": {\"gridcolor\": \"white\", \"linecolor\": \"white\", \"ticks\": \"\"}, \"baxis\": {\"gridcolor\": \"white\", \"linecolor\": \"white\", \"ticks\": \"\"}, \"bgcolor\": \"#E5ECF6\", \"caxis\": {\"gridcolor\": \"white\", \"linecolor\": \"white\", \"ticks\": \"\"}}, \"title\": {\"x\": 0.05}, \"xaxis\": {\"automargin\": true, \"gridcolor\": \"white\", \"linecolor\": \"white\", \"ticks\": \"\", \"title\": {\"standoff\": 15}, \"zerolinecolor\": \"white\", \"zerolinewidth\": 2}, \"yaxis\": {\"automargin\": true, \"gridcolor\": \"white\", \"linecolor\": \"white\", \"ticks\": \"\", \"title\": {\"standoff\": 15}, \"zerolinecolor\": \"white\", \"zerolinewidth\": 2}}}, \"title\": {\"text\": \"Rate of Yield decrease early(2011-2014 ) vs late(2015-2019)\"}, \"xaxis\": {\"anchor\": \"y\", \"categoryorder\": \"max descending\", \"domain\": [0.0, 1.0], \"tickangle\": 45, \"title\": {\"text\": \"region\"}}, \"yaxis\": {\"anchor\": \"x\", \"domain\": [0.0, 1.0], \"title\": {\"text\": \"Percentage Rate of Increase\"}}},\n",
       "                        {\"responsive\": true}\n",
       "                    ).then(function(){\n",
       "                            \n",
       "var gd = document.getElementById('8a4c13d7-1718-406c-b470-9aa48f592285');\n",
       "var x = new MutationObserver(function (mutations, observer) {{\n",
       "        var display = window.getComputedStyle(gd).display;\n",
       "        if (!display || display === 'none') {{\n",
       "            console.log([gd, 'removed!']);\n",
       "            Plotly.purge(gd);\n",
       "            observer.disconnect();\n",
       "        }}\n",
       "}});\n",
       "\n",
       "// Listen for the removal of the full notebook cells\n",
       "var notebookContainer = gd.closest('#notebook-container');\n",
       "if (notebookContainer) {{\n",
       "    x.observe(notebookContainer, {childList: true});\n",
       "}}\n",
       "\n",
       "// Listen for the clearing of the current output cell\n",
       "var outputEl = gd.closest('.output');\n",
       "if (outputEl) {{\n",
       "    x.observe(outputEl, {childList: true});\n",
       "}}\n",
       "\n",
       "                        })\n",
       "                };\n",
       "                });\n",
       "            </script>\n",
       "        </div>"
      ]
     },
     "metadata": {},
     "output_type": "display_data"
    },
    {
     "data": {
      "application/vnd.plotly.v1+json": {
       "config": {
        "plotlyServerURL": "https://plot.ly"
       },
       "data": [
        {
         "alignmentgroup": "True",
         "hoverlabel": {
          "namelength": 0
         },
         "hovertemplate": "region=%{x}<br>roi=%{y}",
         "legendgroup": "",
         "marker": {
          "color": "#636efa"
         },
         "name": "",
         "offsetgroup": "",
         "orientation": "v",
         "showlegend": false,
         "textposition": "auto",
         "type": "bar",
         "x": [
          "Africa",
          "Americas",
          "Annex I countries",
          "Asia",
          "Australia and New Zealand",
          "Caribbean",
          "Central America",
          "Central Asia",
          "Central Asia and Southern Asia",
          "East Asia (exc China)",
          "Eastern Africa",
          "Eastern Asia",
          "Eastern Asia and South-eastern Asia",
          "Eastern Europe",
          "Europe",
          "European Union",
          "High-income economies",
          "Land Locked Developing Countries",
          "Latin America and the Caribbean",
          "Least Developed Countries",
          "Low Income Food Deficit Countries",
          "Low income economies",
          "Lower-middle-income economies",
          "Melanesia",
          "Micronesia",
          "Middle Africa",
          "Net Food Importing Developing Countries",
          "Non-Annex I countries",
          "North Africa (exc Sudan)",
          "Northern Africa",
          "Northern America",
          "Northern America and Europe",
          "Northern Europe",
          "OECD",
          "Oceania",
          "Oceania excluding Australia and New Zealand",
          "Small Island Developing States",
          "South America",
          "South Asia (exc India)",
          "South-Eastern Asia",
          "Southern Africa",
          "Southern Asia",
          "Southern Europe",
          "Sub-Saharan Africa",
          "Sub-Saharan Africa (including Sudan)",
          "Upper-middle-income economies",
          "Western Africa",
          "Western Asia",
          "Western Asia and Northern Africa",
          "Western Europe",
          "World"
         ],
         "xaxis": "x",
         "y": [
          -23.015202541784507,
          -19.48494251032667,
          -18.163681265525515,
          -14.028595797625472,
          -18.07310112274885,
          -21.24469293264611,
          -18.25709469148497,
          -2.858087374721197,
          -10.045556357374778,
          -27.229600164653668,
          -29.97246124717422,
          -24.502860728270452,
          -20.938751407577445,
          -8.60137397414482,
          -17.387178119094955,
          -18.470043511788752,
          -18.88627889890092,
          -11.215754240383285,
          -18.682006836461255,
          -24.295201964716274,
          -19.173113752475,
          -20.19336678381959,
          -17.07269037732895,
          -5.759159205801539,
          -18.74088500114823,
          -27.052313096533815,
          -22.607414155278676,
          -17.02419411305113,
          -9.821209327469665,
          -8.981601487858738,
          -12.056794299966054,
          -17.042270487888764,
          -15.27737191917313,
          -19.76434997737106,
          -13.762827648571896,
          -7.837916634781822,
          -20.06762686909157,
          -21.173542235996507,
          -17.18573856817191,
          -17.077684384093267,
          -24.810028192037198,
          -17.467578604982645,
          -17.76738546845052,
          -27.404536137832018,
          -25.34435218335066,
          -12.865281120594494,
          -23.658984376134917,
          -12.803132883863084,
          -11.17127397449801,
          -27.471524055459195,
          -17.43314549126554
         ],
         "yaxis": "y"
        }
       ],
       "layout": {
        "barmode": "group",
        "legend": {
         "tracegroupgap": 0
        },
        "margin": {
         "t": 60
        },
        "template": {
         "data": {
          "bar": [
           {
            "error_x": {
             "color": "#2a3f5f"
            },
            "error_y": {
             "color": "#2a3f5f"
            },
            "marker": {
             "line": {
              "color": "#E5ECF6",
              "width": 0.5
             }
            },
            "type": "bar"
           }
          ],
          "barpolar": [
           {
            "marker": {
             "line": {
              "color": "#E5ECF6",
              "width": 0.5
             }
            },
            "type": "barpolar"
           }
          ],
          "carpet": [
           {
            "aaxis": {
             "endlinecolor": "#2a3f5f",
             "gridcolor": "white",
             "linecolor": "white",
             "minorgridcolor": "white",
             "startlinecolor": "#2a3f5f"
            },
            "baxis": {
             "endlinecolor": "#2a3f5f",
             "gridcolor": "white",
             "linecolor": "white",
             "minorgridcolor": "white",
             "startlinecolor": "#2a3f5f"
            },
            "type": "carpet"
           }
          ],
          "choropleth": [
           {
            "colorbar": {
             "outlinewidth": 0,
             "ticks": ""
            },
            "type": "choropleth"
           }
          ],
          "contour": [
           {
            "colorbar": {
             "outlinewidth": 0,
             "ticks": ""
            },
            "colorscale": [
             [
              0,
              "#0d0887"
             ],
             [
              0.1111111111111111,
              "#46039f"
             ],
             [
              0.2222222222222222,
              "#7201a8"
             ],
             [
              0.3333333333333333,
              "#9c179e"
             ],
             [
              0.4444444444444444,
              "#bd3786"
             ],
             [
              0.5555555555555556,
              "#d8576b"
             ],
             [
              0.6666666666666666,
              "#ed7953"
             ],
             [
              0.7777777777777778,
              "#fb9f3a"
             ],
             [
              0.8888888888888888,
              "#fdca26"
             ],
             [
              1,
              "#f0f921"
             ]
            ],
            "type": "contour"
           }
          ],
          "contourcarpet": [
           {
            "colorbar": {
             "outlinewidth": 0,
             "ticks": ""
            },
            "type": "contourcarpet"
           }
          ],
          "heatmap": [
           {
            "colorbar": {
             "outlinewidth": 0,
             "ticks": ""
            },
            "colorscale": [
             [
              0,
              "#0d0887"
             ],
             [
              0.1111111111111111,
              "#46039f"
             ],
             [
              0.2222222222222222,
              "#7201a8"
             ],
             [
              0.3333333333333333,
              "#9c179e"
             ],
             [
              0.4444444444444444,
              "#bd3786"
             ],
             [
              0.5555555555555556,
              "#d8576b"
             ],
             [
              0.6666666666666666,
              "#ed7953"
             ],
             [
              0.7777777777777778,
              "#fb9f3a"
             ],
             [
              0.8888888888888888,
              "#fdca26"
             ],
             [
              1,
              "#f0f921"
             ]
            ],
            "type": "heatmap"
           }
          ],
          "heatmapgl": [
           {
            "colorbar": {
             "outlinewidth": 0,
             "ticks": ""
            },
            "colorscale": [
             [
              0,
              "#0d0887"
             ],
             [
              0.1111111111111111,
              "#46039f"
             ],
             [
              0.2222222222222222,
              "#7201a8"
             ],
             [
              0.3333333333333333,
              "#9c179e"
             ],
             [
              0.4444444444444444,
              "#bd3786"
             ],
             [
              0.5555555555555556,
              "#d8576b"
             ],
             [
              0.6666666666666666,
              "#ed7953"
             ],
             [
              0.7777777777777778,
              "#fb9f3a"
             ],
             [
              0.8888888888888888,
              "#fdca26"
             ],
             [
              1,
              "#f0f921"
             ]
            ],
            "type": "heatmapgl"
           }
          ],
          "histogram": [
           {
            "marker": {
             "colorbar": {
              "outlinewidth": 0,
              "ticks": ""
             }
            },
            "type": "histogram"
           }
          ],
          "histogram2d": [
           {
            "colorbar": {
             "outlinewidth": 0,
             "ticks": ""
            },
            "colorscale": [
             [
              0,
              "#0d0887"
             ],
             [
              0.1111111111111111,
              "#46039f"
             ],
             [
              0.2222222222222222,
              "#7201a8"
             ],
             [
              0.3333333333333333,
              "#9c179e"
             ],
             [
              0.4444444444444444,
              "#bd3786"
             ],
             [
              0.5555555555555556,
              "#d8576b"
             ],
             [
              0.6666666666666666,
              "#ed7953"
             ],
             [
              0.7777777777777778,
              "#fb9f3a"
             ],
             [
              0.8888888888888888,
              "#fdca26"
             ],
             [
              1,
              "#f0f921"
             ]
            ],
            "type": "histogram2d"
           }
          ],
          "histogram2dcontour": [
           {
            "colorbar": {
             "outlinewidth": 0,
             "ticks": ""
            },
            "colorscale": [
             [
              0,
              "#0d0887"
             ],
             [
              0.1111111111111111,
              "#46039f"
             ],
             [
              0.2222222222222222,
              "#7201a8"
             ],
             [
              0.3333333333333333,
              "#9c179e"
             ],
             [
              0.4444444444444444,
              "#bd3786"
             ],
             [
              0.5555555555555556,
              "#d8576b"
             ],
             [
              0.6666666666666666,
              "#ed7953"
             ],
             [
              0.7777777777777778,
              "#fb9f3a"
             ],
             [
              0.8888888888888888,
              "#fdca26"
             ],
             [
              1,
              "#f0f921"
             ]
            ],
            "type": "histogram2dcontour"
           }
          ],
          "mesh3d": [
           {
            "colorbar": {
             "outlinewidth": 0,
             "ticks": ""
            },
            "type": "mesh3d"
           }
          ],
          "parcoords": [
           {
            "line": {
             "colorbar": {
              "outlinewidth": 0,
              "ticks": ""
             }
            },
            "type": "parcoords"
           }
          ],
          "pie": [
           {
            "automargin": true,
            "type": "pie"
           }
          ],
          "scatter": [
           {
            "marker": {
             "colorbar": {
              "outlinewidth": 0,
              "ticks": ""
             }
            },
            "type": "scatter"
           }
          ],
          "scatter3d": [
           {
            "line": {
             "colorbar": {
              "outlinewidth": 0,
              "ticks": ""
             }
            },
            "marker": {
             "colorbar": {
              "outlinewidth": 0,
              "ticks": ""
             }
            },
            "type": "scatter3d"
           }
          ],
          "scattercarpet": [
           {
            "marker": {
             "colorbar": {
              "outlinewidth": 0,
              "ticks": ""
             }
            },
            "type": "scattercarpet"
           }
          ],
          "scattergeo": [
           {
            "marker": {
             "colorbar": {
              "outlinewidth": 0,
              "ticks": ""
             }
            },
            "type": "scattergeo"
           }
          ],
          "scattergl": [
           {
            "marker": {
             "colorbar": {
              "outlinewidth": 0,
              "ticks": ""
             }
            },
            "type": "scattergl"
           }
          ],
          "scattermapbox": [
           {
            "marker": {
             "colorbar": {
              "outlinewidth": 0,
              "ticks": ""
             }
            },
            "type": "scattermapbox"
           }
          ],
          "scatterpolar": [
           {
            "marker": {
             "colorbar": {
              "outlinewidth": 0,
              "ticks": ""
             }
            },
            "type": "scatterpolar"
           }
          ],
          "scatterpolargl": [
           {
            "marker": {
             "colorbar": {
              "outlinewidth": 0,
              "ticks": ""
             }
            },
            "type": "scatterpolargl"
           }
          ],
          "scatterternary": [
           {
            "marker": {
             "colorbar": {
              "outlinewidth": 0,
              "ticks": ""
             }
            },
            "type": "scatterternary"
           }
          ],
          "surface": [
           {
            "colorbar": {
             "outlinewidth": 0,
             "ticks": ""
            },
            "colorscale": [
             [
              0,
              "#0d0887"
             ],
             [
              0.1111111111111111,
              "#46039f"
             ],
             [
              0.2222222222222222,
              "#7201a8"
             ],
             [
              0.3333333333333333,
              "#9c179e"
             ],
             [
              0.4444444444444444,
              "#bd3786"
             ],
             [
              0.5555555555555556,
              "#d8576b"
             ],
             [
              0.6666666666666666,
              "#ed7953"
             ],
             [
              0.7777777777777778,
              "#fb9f3a"
             ],
             [
              0.8888888888888888,
              "#fdca26"
             ],
             [
              1,
              "#f0f921"
             ]
            ],
            "type": "surface"
           }
          ],
          "table": [
           {
            "cells": {
             "fill": {
              "color": "#EBF0F8"
             },
             "line": {
              "color": "white"
             }
            },
            "header": {
             "fill": {
              "color": "#C8D4E3"
             },
             "line": {
              "color": "white"
             }
            },
            "type": "table"
           }
          ]
         },
         "layout": {
          "annotationdefaults": {
           "arrowcolor": "#2a3f5f",
           "arrowhead": 0,
           "arrowwidth": 1
          },
          "coloraxis": {
           "colorbar": {
            "outlinewidth": 0,
            "ticks": ""
           }
          },
          "colorscale": {
           "diverging": [
            [
             0,
             "#8e0152"
            ],
            [
             0.1,
             "#c51b7d"
            ],
            [
             0.2,
             "#de77ae"
            ],
            [
             0.3,
             "#f1b6da"
            ],
            [
             0.4,
             "#fde0ef"
            ],
            [
             0.5,
             "#f7f7f7"
            ],
            [
             0.6,
             "#e6f5d0"
            ],
            [
             0.7,
             "#b8e186"
            ],
            [
             0.8,
             "#7fbc41"
            ],
            [
             0.9,
             "#4d9221"
            ],
            [
             1,
             "#276419"
            ]
           ],
           "sequential": [
            [
             0,
             "#0d0887"
            ],
            [
             0.1111111111111111,
             "#46039f"
            ],
            [
             0.2222222222222222,
             "#7201a8"
            ],
            [
             0.3333333333333333,
             "#9c179e"
            ],
            [
             0.4444444444444444,
             "#bd3786"
            ],
            [
             0.5555555555555556,
             "#d8576b"
            ],
            [
             0.6666666666666666,
             "#ed7953"
            ],
            [
             0.7777777777777778,
             "#fb9f3a"
            ],
            [
             0.8888888888888888,
             "#fdca26"
            ],
            [
             1,
             "#f0f921"
            ]
           ],
           "sequentialminus": [
            [
             0,
             "#0d0887"
            ],
            [
             0.1111111111111111,
             "#46039f"
            ],
            [
             0.2222222222222222,
             "#7201a8"
            ],
            [
             0.3333333333333333,
             "#9c179e"
            ],
            [
             0.4444444444444444,
             "#bd3786"
            ],
            [
             0.5555555555555556,
             "#d8576b"
            ],
            [
             0.6666666666666666,
             "#ed7953"
            ],
            [
             0.7777777777777778,
             "#fb9f3a"
            ],
            [
             0.8888888888888888,
             "#fdca26"
            ],
            [
             1,
             "#f0f921"
            ]
           ]
          },
          "colorway": [
           "#636efa",
           "#EF553B",
           "#00cc96",
           "#ab63fa",
           "#FFA15A",
           "#19d3f3",
           "#FF6692",
           "#B6E880",
           "#FF97FF",
           "#FECB52"
          ],
          "font": {
           "color": "#2a3f5f"
          },
          "geo": {
           "bgcolor": "white",
           "lakecolor": "white",
           "landcolor": "#E5ECF6",
           "showlakes": true,
           "showland": true,
           "subunitcolor": "white"
          },
          "hoverlabel": {
           "align": "left"
          },
          "hovermode": "closest",
          "mapbox": {
           "style": "light"
          },
          "paper_bgcolor": "white",
          "plot_bgcolor": "#E5ECF6",
          "polar": {
           "angularaxis": {
            "gridcolor": "white",
            "linecolor": "white",
            "ticks": ""
           },
           "bgcolor": "#E5ECF6",
           "radialaxis": {
            "gridcolor": "white",
            "linecolor": "white",
            "ticks": ""
           }
          },
          "scene": {
           "xaxis": {
            "backgroundcolor": "#E5ECF6",
            "gridcolor": "white",
            "gridwidth": 2,
            "linecolor": "white",
            "showbackground": true,
            "ticks": "",
            "zerolinecolor": "white"
           },
           "yaxis": {
            "backgroundcolor": "#E5ECF6",
            "gridcolor": "white",
            "gridwidth": 2,
            "linecolor": "white",
            "showbackground": true,
            "ticks": "",
            "zerolinecolor": "white"
           },
           "zaxis": {
            "backgroundcolor": "#E5ECF6",
            "gridcolor": "white",
            "gridwidth": 2,
            "linecolor": "white",
            "showbackground": true,
            "ticks": "",
            "zerolinecolor": "white"
           }
          },
          "shapedefaults": {
           "line": {
            "color": "#2a3f5f"
           }
          },
          "ternary": {
           "aaxis": {
            "gridcolor": "white",
            "linecolor": "white",
            "ticks": ""
           },
           "baxis": {
            "gridcolor": "white",
            "linecolor": "white",
            "ticks": ""
           },
           "bgcolor": "#E5ECF6",
           "caxis": {
            "gridcolor": "white",
            "linecolor": "white",
            "ticks": ""
           }
          },
          "title": {
           "x": 0.05
          },
          "xaxis": {
           "automargin": true,
           "gridcolor": "white",
           "linecolor": "white",
           "ticks": "",
           "title": {
            "standoff": 15
           },
           "zerolinecolor": "white",
           "zerolinewidth": 2
          },
          "yaxis": {
           "automargin": true,
           "gridcolor": "white",
           "linecolor": "white",
           "ticks": "",
           "title": {
            "standoff": 15
           },
           "zerolinecolor": "white",
           "zerolinewidth": 2
          }
         }
        },
        "title": {
         "text": "Rate of Yield decrease early(2011-2014 ) vs late(2015-2019)"
        },
        "xaxis": {
         "anchor": "y",
         "categoryorder": "max descending",
         "domain": [
          0,
          1
         ],
         "tickangle": 45,
         "title": {
          "text": "region"
         }
        },
        "yaxis": {
         "anchor": "x",
         "domain": [
          0,
          1
         ],
         "title": {
          "text": "Percentage Rate of Increase"
         }
        }
       }
      },
      "text/html": [
       "<div>\n",
       "        \n",
       "        \n",
       "            <div id=\"d2e68527-b5e0-4688-8de2-53e8a890c4e1\" class=\"plotly-graph-div\" style=\"height:525px; width:100%;\"></div>\n",
       "            <script type=\"text/javascript\">\n",
       "                require([\"plotly\"], function(Plotly) {\n",
       "                    window.PLOTLYENV=window.PLOTLYENV || {};\n",
       "                    \n",
       "                if (document.getElementById(\"d2e68527-b5e0-4688-8de2-53e8a890c4e1\")) {\n",
       "                    Plotly.newPlot(\n",
       "                        'd2e68527-b5e0-4688-8de2-53e8a890c4e1',\n",
       "                        [{\"alignmentgroup\": \"True\", \"hoverlabel\": {\"namelength\": 0}, \"hovertemplate\": \"region=%{x}<br>roi=%{y}\", \"legendgroup\": \"\", \"marker\": {\"color\": \"#636efa\"}, \"name\": \"\", \"offsetgroup\": \"\", \"orientation\": \"v\", \"showlegend\": false, \"textposition\": \"auto\", \"type\": \"bar\", \"x\": [\"Africa\", \"Americas\", \"Annex I countries\", \"Asia\", \"Australia and New Zealand\", \"Caribbean\", \"Central America\", \"Central Asia\", \"Central Asia and Southern Asia\", \"East Asia (exc China)\", \"Eastern Africa\", \"Eastern Asia\", \"Eastern Asia and South-eastern Asia\", \"Eastern Europe\", \"Europe\", \"European Union\", \"High-income economies\", \"Land Locked Developing Countries\", \"Latin America and the Caribbean\", \"Least Developed Countries\", \"Low Income Food Deficit Countries\", \"Low income economies\", \"Lower-middle-income economies\", \"Melanesia\", \"Micronesia\", \"Middle Africa\", \"Net Food Importing Developing Countries\", \"Non-Annex I countries\", \"North Africa (exc Sudan)\", \"Northern Africa\", \"Northern America\", \"Northern America and Europe\", \"Northern Europe\", \"OECD\", \"Oceania\", \"Oceania excluding Australia and New Zealand\", \"Small Island Developing States\", \"South America\", \"South Asia (exc India)\", \"South-Eastern Asia\", \"Southern Africa\", \"Southern Asia\", \"Southern Europe\", \"Sub-Saharan Africa\", \"Sub-Saharan Africa (including Sudan)\", \"Upper-middle-income economies\", \"Western Africa\", \"Western Asia\", \"Western Asia and Northern Africa\", \"Western Europe\", \"World\"], \"xaxis\": \"x\", \"y\": [-23.015202541784507, -19.48494251032667, -18.163681265525515, -14.028595797625472, -18.07310112274885, -21.24469293264611, -18.25709469148497, -2.858087374721197, -10.045556357374778, -27.229600164653668, -29.97246124717422, -24.502860728270452, -20.938751407577445, -8.60137397414482, -17.387178119094955, -18.470043511788752, -18.88627889890092, -11.215754240383285, -18.682006836461255, -24.295201964716274, -19.173113752475, -20.19336678381959, -17.07269037732895, -5.759159205801539, -18.74088500114823, -27.052313096533815, -22.607414155278676, -17.02419411305113, -9.821209327469665, -8.981601487858738, -12.056794299966054, -17.042270487888764, -15.27737191917313, -19.76434997737106, -13.762827648571896, -7.837916634781822, -20.06762686909157, -21.173542235996507, -17.18573856817191, -17.077684384093267, -24.810028192037198, -17.467578604982645, -17.76738546845052, -27.404536137832018, -25.34435218335066, -12.865281120594494, -23.658984376134917, -12.803132883863084, -11.17127397449801, -27.471524055459195, -17.43314549126554], \"yaxis\": \"y\"}],\n",
       "                        {\"barmode\": \"group\", \"legend\": {\"tracegroupgap\": 0}, \"margin\": {\"t\": 60}, \"template\": {\"data\": {\"bar\": [{\"error_x\": {\"color\": \"#2a3f5f\"}, \"error_y\": {\"color\": \"#2a3f5f\"}, \"marker\": {\"line\": {\"color\": \"#E5ECF6\", \"width\": 0.5}}, \"type\": \"bar\"}], \"barpolar\": [{\"marker\": {\"line\": {\"color\": \"#E5ECF6\", \"width\": 0.5}}, \"type\": \"barpolar\"}], \"carpet\": [{\"aaxis\": {\"endlinecolor\": \"#2a3f5f\", \"gridcolor\": \"white\", \"linecolor\": \"white\", \"minorgridcolor\": \"white\", \"startlinecolor\": \"#2a3f5f\"}, \"baxis\": {\"endlinecolor\": \"#2a3f5f\", \"gridcolor\": \"white\", \"linecolor\": \"white\", \"minorgridcolor\": \"white\", \"startlinecolor\": \"#2a3f5f\"}, \"type\": \"carpet\"}], \"choropleth\": [{\"colorbar\": {\"outlinewidth\": 0, \"ticks\": \"\"}, \"type\": \"choropleth\"}], \"contour\": [{\"colorbar\": {\"outlinewidth\": 0, \"ticks\": \"\"}, \"colorscale\": [[0.0, \"#0d0887\"], [0.1111111111111111, \"#46039f\"], [0.2222222222222222, \"#7201a8\"], [0.3333333333333333, \"#9c179e\"], [0.4444444444444444, \"#bd3786\"], [0.5555555555555556, \"#d8576b\"], [0.6666666666666666, \"#ed7953\"], [0.7777777777777778, \"#fb9f3a\"], [0.8888888888888888, \"#fdca26\"], [1.0, \"#f0f921\"]], \"type\": \"contour\"}], \"contourcarpet\": [{\"colorbar\": {\"outlinewidth\": 0, \"ticks\": \"\"}, \"type\": \"contourcarpet\"}], \"heatmap\": [{\"colorbar\": {\"outlinewidth\": 0, \"ticks\": \"\"}, \"colorscale\": [[0.0, \"#0d0887\"], [0.1111111111111111, \"#46039f\"], [0.2222222222222222, \"#7201a8\"], [0.3333333333333333, \"#9c179e\"], [0.4444444444444444, \"#bd3786\"], [0.5555555555555556, \"#d8576b\"], [0.6666666666666666, \"#ed7953\"], [0.7777777777777778, \"#fb9f3a\"], [0.8888888888888888, \"#fdca26\"], [1.0, \"#f0f921\"]], \"type\": \"heatmap\"}], \"heatmapgl\": [{\"colorbar\": {\"outlinewidth\": 0, \"ticks\": \"\"}, \"colorscale\": [[0.0, \"#0d0887\"], [0.1111111111111111, \"#46039f\"], [0.2222222222222222, \"#7201a8\"], [0.3333333333333333, \"#9c179e\"], [0.4444444444444444, \"#bd3786\"], [0.5555555555555556, \"#d8576b\"], [0.6666666666666666, \"#ed7953\"], [0.7777777777777778, \"#fb9f3a\"], [0.8888888888888888, \"#fdca26\"], [1.0, \"#f0f921\"]], \"type\": \"heatmapgl\"}], \"histogram\": [{\"marker\": {\"colorbar\": {\"outlinewidth\": 0, \"ticks\": \"\"}}, \"type\": \"histogram\"}], \"histogram2d\": [{\"colorbar\": {\"outlinewidth\": 0, \"ticks\": \"\"}, \"colorscale\": [[0.0, \"#0d0887\"], [0.1111111111111111, \"#46039f\"], [0.2222222222222222, \"#7201a8\"], [0.3333333333333333, \"#9c179e\"], [0.4444444444444444, \"#bd3786\"], [0.5555555555555556, \"#d8576b\"], [0.6666666666666666, \"#ed7953\"], [0.7777777777777778, \"#fb9f3a\"], [0.8888888888888888, \"#fdca26\"], [1.0, \"#f0f921\"]], \"type\": \"histogram2d\"}], \"histogram2dcontour\": [{\"colorbar\": {\"outlinewidth\": 0, \"ticks\": \"\"}, \"colorscale\": [[0.0, \"#0d0887\"], [0.1111111111111111, \"#46039f\"], [0.2222222222222222, \"#7201a8\"], [0.3333333333333333, \"#9c179e\"], [0.4444444444444444, \"#bd3786\"], [0.5555555555555556, \"#d8576b\"], [0.6666666666666666, \"#ed7953\"], [0.7777777777777778, \"#fb9f3a\"], [0.8888888888888888, \"#fdca26\"], [1.0, \"#f0f921\"]], \"type\": \"histogram2dcontour\"}], \"mesh3d\": [{\"colorbar\": {\"outlinewidth\": 0, \"ticks\": \"\"}, \"type\": \"mesh3d\"}], \"parcoords\": [{\"line\": {\"colorbar\": {\"outlinewidth\": 0, \"ticks\": \"\"}}, \"type\": \"parcoords\"}], \"pie\": [{\"automargin\": true, \"type\": \"pie\"}], \"scatter\": [{\"marker\": {\"colorbar\": {\"outlinewidth\": 0, \"ticks\": \"\"}}, \"type\": \"scatter\"}], \"scatter3d\": [{\"line\": {\"colorbar\": {\"outlinewidth\": 0, \"ticks\": \"\"}}, \"marker\": {\"colorbar\": {\"outlinewidth\": 0, \"ticks\": \"\"}}, \"type\": \"scatter3d\"}], \"scattercarpet\": [{\"marker\": {\"colorbar\": {\"outlinewidth\": 0, \"ticks\": \"\"}}, \"type\": \"scattercarpet\"}], \"scattergeo\": [{\"marker\": {\"colorbar\": {\"outlinewidth\": 0, \"ticks\": \"\"}}, \"type\": \"scattergeo\"}], \"scattergl\": [{\"marker\": {\"colorbar\": {\"outlinewidth\": 0, \"ticks\": \"\"}}, \"type\": \"scattergl\"}], \"scattermapbox\": [{\"marker\": {\"colorbar\": {\"outlinewidth\": 0, \"ticks\": \"\"}}, \"type\": \"scattermapbox\"}], \"scatterpolar\": [{\"marker\": {\"colorbar\": {\"outlinewidth\": 0, \"ticks\": \"\"}}, \"type\": \"scatterpolar\"}], \"scatterpolargl\": [{\"marker\": {\"colorbar\": {\"outlinewidth\": 0, \"ticks\": \"\"}}, \"type\": \"scatterpolargl\"}], \"scatterternary\": [{\"marker\": {\"colorbar\": {\"outlinewidth\": 0, \"ticks\": \"\"}}, \"type\": \"scatterternary\"}], \"surface\": [{\"colorbar\": {\"outlinewidth\": 0, \"ticks\": \"\"}, \"colorscale\": [[0.0, \"#0d0887\"], [0.1111111111111111, \"#46039f\"], [0.2222222222222222, \"#7201a8\"], [0.3333333333333333, \"#9c179e\"], [0.4444444444444444, \"#bd3786\"], [0.5555555555555556, \"#d8576b\"], [0.6666666666666666, \"#ed7953\"], [0.7777777777777778, \"#fb9f3a\"], [0.8888888888888888, \"#fdca26\"], [1.0, \"#f0f921\"]], \"type\": \"surface\"}], \"table\": [{\"cells\": {\"fill\": {\"color\": \"#EBF0F8\"}, \"line\": {\"color\": \"white\"}}, \"header\": {\"fill\": {\"color\": \"#C8D4E3\"}, \"line\": {\"color\": \"white\"}}, \"type\": \"table\"}]}, \"layout\": {\"annotationdefaults\": {\"arrowcolor\": \"#2a3f5f\", \"arrowhead\": 0, \"arrowwidth\": 1}, \"coloraxis\": {\"colorbar\": {\"outlinewidth\": 0, \"ticks\": \"\"}}, \"colorscale\": {\"diverging\": [[0, \"#8e0152\"], [0.1, \"#c51b7d\"], [0.2, \"#de77ae\"], [0.3, \"#f1b6da\"], [0.4, \"#fde0ef\"], [0.5, \"#f7f7f7\"], [0.6, \"#e6f5d0\"], [0.7, \"#b8e186\"], [0.8, \"#7fbc41\"], [0.9, \"#4d9221\"], [1, \"#276419\"]], \"sequential\": [[0.0, \"#0d0887\"], [0.1111111111111111, \"#46039f\"], [0.2222222222222222, \"#7201a8\"], [0.3333333333333333, \"#9c179e\"], [0.4444444444444444, \"#bd3786\"], [0.5555555555555556, \"#d8576b\"], [0.6666666666666666, \"#ed7953\"], [0.7777777777777778, \"#fb9f3a\"], [0.8888888888888888, \"#fdca26\"], [1.0, \"#f0f921\"]], \"sequentialminus\": [[0.0, \"#0d0887\"], [0.1111111111111111, \"#46039f\"], [0.2222222222222222, \"#7201a8\"], [0.3333333333333333, \"#9c179e\"], [0.4444444444444444, \"#bd3786\"], [0.5555555555555556, \"#d8576b\"], [0.6666666666666666, \"#ed7953\"], [0.7777777777777778, \"#fb9f3a\"], [0.8888888888888888, \"#fdca26\"], [1.0, \"#f0f921\"]]}, \"colorway\": [\"#636efa\", \"#EF553B\", \"#00cc96\", \"#ab63fa\", \"#FFA15A\", \"#19d3f3\", \"#FF6692\", \"#B6E880\", \"#FF97FF\", \"#FECB52\"], \"font\": {\"color\": \"#2a3f5f\"}, \"geo\": {\"bgcolor\": \"white\", \"lakecolor\": \"white\", \"landcolor\": \"#E5ECF6\", \"showlakes\": true, \"showland\": true, \"subunitcolor\": \"white\"}, \"hoverlabel\": {\"align\": \"left\"}, \"hovermode\": \"closest\", \"mapbox\": {\"style\": \"light\"}, \"paper_bgcolor\": \"white\", \"plot_bgcolor\": \"#E5ECF6\", \"polar\": {\"angularaxis\": {\"gridcolor\": \"white\", \"linecolor\": \"white\", \"ticks\": \"\"}, \"bgcolor\": \"#E5ECF6\", \"radialaxis\": {\"gridcolor\": \"white\", \"linecolor\": \"white\", \"ticks\": \"\"}}, \"scene\": {\"xaxis\": {\"backgroundcolor\": \"#E5ECF6\", \"gridcolor\": \"white\", \"gridwidth\": 2, \"linecolor\": \"white\", \"showbackground\": true, \"ticks\": \"\", \"zerolinecolor\": \"white\"}, \"yaxis\": {\"backgroundcolor\": \"#E5ECF6\", \"gridcolor\": \"white\", \"gridwidth\": 2, \"linecolor\": \"white\", \"showbackground\": true, \"ticks\": \"\", \"zerolinecolor\": \"white\"}, \"zaxis\": {\"backgroundcolor\": \"#E5ECF6\", \"gridcolor\": \"white\", \"gridwidth\": 2, \"linecolor\": \"white\", \"showbackground\": true, \"ticks\": \"\", \"zerolinecolor\": \"white\"}}, \"shapedefaults\": {\"line\": {\"color\": \"#2a3f5f\"}}, \"ternary\": {\"aaxis\": {\"gridcolor\": \"white\", \"linecolor\": \"white\", \"ticks\": \"\"}, \"baxis\": {\"gridcolor\": \"white\", \"linecolor\": \"white\", \"ticks\": \"\"}, \"bgcolor\": \"#E5ECF6\", \"caxis\": {\"gridcolor\": \"white\", \"linecolor\": \"white\", \"ticks\": \"\"}}, \"title\": {\"x\": 0.05}, \"xaxis\": {\"automargin\": true, \"gridcolor\": \"white\", \"linecolor\": \"white\", \"ticks\": \"\", \"title\": {\"standoff\": 15}, \"zerolinecolor\": \"white\", \"zerolinewidth\": 2}, \"yaxis\": {\"automargin\": true, \"gridcolor\": \"white\", \"linecolor\": \"white\", \"ticks\": \"\", \"title\": {\"standoff\": 15}, \"zerolinecolor\": \"white\", \"zerolinewidth\": 2}}}, \"title\": {\"text\": \"Rate of Yield decrease early(2011-2014 ) vs late(2015-2019)\"}, \"xaxis\": {\"anchor\": \"y\", \"categoryorder\": \"max descending\", \"domain\": [0.0, 1.0], \"tickangle\": 45, \"title\": {\"text\": \"region\"}}, \"yaxis\": {\"anchor\": \"x\", \"domain\": [0.0, 1.0], \"title\": {\"text\": \"Percentage Rate of Increase\"}}},\n",
       "                        {\"responsive\": true}\n",
       "                    ).then(function(){\n",
       "                            \n",
       "var gd = document.getElementById('d2e68527-b5e0-4688-8de2-53e8a890c4e1');\n",
       "var x = new MutationObserver(function (mutations, observer) {{\n",
       "        var display = window.getComputedStyle(gd).display;\n",
       "        if (!display || display === 'none') {{\n",
       "            console.log([gd, 'removed!']);\n",
       "            Plotly.purge(gd);\n",
       "            observer.disconnect();\n",
       "        }}\n",
       "}});\n",
       "\n",
       "// Listen for the removal of the full notebook cells\n",
       "var notebookContainer = gd.closest('#notebook-container');\n",
       "if (notebookContainer) {{\n",
       "    x.observe(notebookContainer, {childList: true});\n",
       "}}\n",
       "\n",
       "// Listen for the clearing of the current output cell\n",
       "var outputEl = gd.closest('.output');\n",
       "if (outputEl) {{\n",
       "    x.observe(outputEl, {childList: true});\n",
       "}}\n",
       "\n",
       "                        })\n",
       "                };\n",
       "                });\n",
       "            </script>\n",
       "        </div>"
      ]
     },
     "metadata": {},
     "output_type": "display_data"
    }
   ],
   "source": [
    "fig = px.bar(df_crop_reg_early_late_r, x=\"region\", y= \"roi\").update_xaxes(categoryorder=\"max descending\")\n",
    "fig.update_layout(barmode='group', xaxis_tickangle = 45, \n",
    "                  title = 'Rate of Yield decrease early(2011-2014 ) vs late(2015-2019)',\n",
    "yaxis_title=\"Percentage Rate of Increase\")                  \n",
    "fig.show()"
   ]
  },
  {
   "cell_type": "markdown",
   "metadata": {},
   "source": [
    "# Temprature"
   ]
  },
  {
   "cell_type": "code",
   "execution_count": 25,
   "metadata": {},
   "outputs": [
    {
     "data": {
      "text/html": [
       "<div>\n",
       "<style scoped>\n",
       "    .dataframe tbody tr th:only-of-type {\n",
       "        vertical-align: middle;\n",
       "    }\n",
       "\n",
       "    .dataframe tbody tr th {\n",
       "        vertical-align: top;\n",
       "    }\n",
       "\n",
       "    .dataframe thead th {\n",
       "        text-align: right;\n",
       "    }\n",
       "</style>\n",
       "<table border=\"1\" class=\"dataframe\">\n",
       "  <thead>\n",
       "    <tr style=\"text-align: right;\">\n",
       "      <th></th>\n",
       "      <th>Domain Code</th>\n",
       "      <th>Domain</th>\n",
       "      <th>Area Code</th>\n",
       "      <th>Area</th>\n",
       "      <th>Element Code</th>\n",
       "      <th>Element</th>\n",
       "      <th>Months Code</th>\n",
       "      <th>Months</th>\n",
       "      <th>Year Code</th>\n",
       "      <th>Year</th>\n",
       "      <th>Unit</th>\n",
       "      <th>Value</th>\n",
       "      <th>Flag</th>\n",
       "      <th>Flag Description</th>\n",
       "    </tr>\n",
       "  </thead>\n",
       "  <tbody>\n",
       "    <tr>\n",
       "      <th>0</th>\n",
       "      <td>ET</td>\n",
       "      <td>Temperature change</td>\n",
       "      <td>2</td>\n",
       "      <td>Afghanistan</td>\n",
       "      <td>7271</td>\n",
       "      <td>Temperature change</td>\n",
       "      <td>7001</td>\n",
       "      <td>January</td>\n",
       "      <td>1961</td>\n",
       "      <td>1961</td>\n",
       "      <td>°C</td>\n",
       "      <td>0.777</td>\n",
       "      <td>Fc</td>\n",
       "      <td>Calculated data</td>\n",
       "    </tr>\n",
       "    <tr>\n",
       "      <th>1</th>\n",
       "      <td>ET</td>\n",
       "      <td>Temperature change</td>\n",
       "      <td>2</td>\n",
       "      <td>Afghanistan</td>\n",
       "      <td>7271</td>\n",
       "      <td>Temperature change</td>\n",
       "      <td>7001</td>\n",
       "      <td>January</td>\n",
       "      <td>1962</td>\n",
       "      <td>1962</td>\n",
       "      <td>°C</td>\n",
       "      <td>0.062</td>\n",
       "      <td>Fc</td>\n",
       "      <td>Calculated data</td>\n",
       "    </tr>\n",
       "    <tr>\n",
       "      <th>2</th>\n",
       "      <td>ET</td>\n",
       "      <td>Temperature change</td>\n",
       "      <td>2</td>\n",
       "      <td>Afghanistan</td>\n",
       "      <td>7271</td>\n",
       "      <td>Temperature change</td>\n",
       "      <td>7001</td>\n",
       "      <td>January</td>\n",
       "      <td>1963</td>\n",
       "      <td>1963</td>\n",
       "      <td>°C</td>\n",
       "      <td>2.744</td>\n",
       "      <td>Fc</td>\n",
       "      <td>Calculated data</td>\n",
       "    </tr>\n",
       "    <tr>\n",
       "      <th>3</th>\n",
       "      <td>ET</td>\n",
       "      <td>Temperature change</td>\n",
       "      <td>2</td>\n",
       "      <td>Afghanistan</td>\n",
       "      <td>7271</td>\n",
       "      <td>Temperature change</td>\n",
       "      <td>7001</td>\n",
       "      <td>January</td>\n",
       "      <td>1964</td>\n",
       "      <td>1964</td>\n",
       "      <td>°C</td>\n",
       "      <td>-5.232</td>\n",
       "      <td>Fc</td>\n",
       "      <td>Calculated data</td>\n",
       "    </tr>\n",
       "    <tr>\n",
       "      <th>4</th>\n",
       "      <td>ET</td>\n",
       "      <td>Temperature change</td>\n",
       "      <td>2</td>\n",
       "      <td>Afghanistan</td>\n",
       "      <td>7271</td>\n",
       "      <td>Temperature change</td>\n",
       "      <td>7001</td>\n",
       "      <td>January</td>\n",
       "      <td>1965</td>\n",
       "      <td>1965</td>\n",
       "      <td>°C</td>\n",
       "      <td>1.868</td>\n",
       "      <td>Fc</td>\n",
       "      <td>Calculated data</td>\n",
       "    </tr>\n",
       "  </tbody>\n",
       "</table>\n",
       "</div>"
      ],
      "text/plain": [
       "  Domain Code              Domain  Area Code         Area  Element Code  \\\n",
       "0          ET  Temperature change          2  Afghanistan          7271   \n",
       "1          ET  Temperature change          2  Afghanistan          7271   \n",
       "2          ET  Temperature change          2  Afghanistan          7271   \n",
       "3          ET  Temperature change          2  Afghanistan          7271   \n",
       "4          ET  Temperature change          2  Afghanistan          7271   \n",
       "\n",
       "              Element  Months Code   Months  Year Code  Year Unit  Value Flag  \\\n",
       "0  Temperature change         7001  January       1961  1961   °C  0.777   Fc   \n",
       "1  Temperature change         7001  January       1962  1962   °C  0.062   Fc   \n",
       "2  Temperature change         7001  January       1963  1963   °C  2.744   Fc   \n",
       "3  Temperature change         7001  January       1964  1964   °C -5.232   Fc   \n",
       "4  Temperature change         7001  January       1965  1965   °C  1.868   Fc   \n",
       "\n",
       "  Flag Description  \n",
       "0  Calculated data  \n",
       "1  Calculated data  \n",
       "2  Calculated data  \n",
       "3  Calculated data  \n",
       "4  Calculated data  "
      ]
     },
     "execution_count": 25,
     "metadata": {},
     "output_type": "execute_result"
    }
   ],
   "source": [
    "df_temp.head()"
   ]
  },
  {
   "cell_type": "code",
   "execution_count": 26,
   "metadata": {},
   "outputs": [
    {
     "data": {
      "text/plain": [
       "Index(['Domain Code', 'Domain', 'Area Code', 'Area', 'Element Code', 'Element',\n",
       "       'Months Code', 'Months', 'Year Code', 'Year', 'Unit', 'Value', 'Flag',\n",
       "       'Flag Description'],\n",
       "      dtype='object')"
      ]
     },
     "execution_count": 26,
     "metadata": {},
     "output_type": "execute_result"
    }
   ],
   "source": [
    "df_temp.columns"
   ]
  },
  {
   "cell_type": "code",
   "execution_count": 27,
   "metadata": {},
   "outputs": [],
   "source": [
    "df_temp.rename(columns={'Value':'temperature'}, inplace =True)"
   ]
  },
  {
   "cell_type": "code",
   "execution_count": 28,
   "metadata": {},
   "outputs": [
    {
     "data": {
      "text/plain": [
       "Index(['Domain Code', 'Domain', 'Area Code', 'Area', 'Element Code', 'Element',\n",
       "       'Months Code', 'Months', 'Year Code', 'Year', 'Unit', 'temperature',\n",
       "       'Flag', 'Flag Description'],\n",
       "      dtype='object')"
      ]
     },
     "execution_count": 28,
     "metadata": {},
     "output_type": "execute_result"
    }
   ],
   "source": [
    "df_temp.columns"
   ]
  },
  {
   "cell_type": "markdown",
   "metadata": {},
   "source": [
    "We only need the following features from the data. the rest are either constant or irrelevant <br>\n",
    "[ 'Area Code', 'Area','Months Code', 'Months', 'Year', 'Value']"
   ]
  },
  {
   "cell_type": "code",
   "execution_count": 29,
   "metadata": {
    "scrolled": true
   },
   "outputs": [
    {
     "data": {
      "text/html": [
       "<div>\n",
       "<style scoped>\n",
       "    .dataframe tbody tr th:only-of-type {\n",
       "        vertical-align: middle;\n",
       "    }\n",
       "\n",
       "    .dataframe tbody tr th {\n",
       "        vertical-align: top;\n",
       "    }\n",
       "\n",
       "    .dataframe thead th {\n",
       "        text-align: right;\n",
       "    }\n",
       "</style>\n",
       "<table border=\"1\" class=\"dataframe\">\n",
       "  <thead>\n",
       "    <tr style=\"text-align: right;\">\n",
       "      <th></th>\n",
       "      <th>Area Code</th>\n",
       "      <th>Area</th>\n",
       "      <th>Months Code</th>\n",
       "      <th>Months</th>\n",
       "      <th>Year</th>\n",
       "      <th>temperature</th>\n",
       "    </tr>\n",
       "  </thead>\n",
       "  <tbody>\n",
       "    <tr>\n",
       "      <th>0</th>\n",
       "      <td>2</td>\n",
       "      <td>Afghanistan</td>\n",
       "      <td>7001</td>\n",
       "      <td>January</td>\n",
       "      <td>1961</td>\n",
       "      <td>0.777</td>\n",
       "    </tr>\n",
       "    <tr>\n",
       "      <th>1</th>\n",
       "      <td>2</td>\n",
       "      <td>Afghanistan</td>\n",
       "      <td>7001</td>\n",
       "      <td>January</td>\n",
       "      <td>1962</td>\n",
       "      <td>0.062</td>\n",
       "    </tr>\n",
       "    <tr>\n",
       "      <th>2</th>\n",
       "      <td>2</td>\n",
       "      <td>Afghanistan</td>\n",
       "      <td>7001</td>\n",
       "      <td>January</td>\n",
       "      <td>1963</td>\n",
       "      <td>2.744</td>\n",
       "    </tr>\n",
       "    <tr>\n",
       "      <th>3</th>\n",
       "      <td>2</td>\n",
       "      <td>Afghanistan</td>\n",
       "      <td>7001</td>\n",
       "      <td>January</td>\n",
       "      <td>1964</td>\n",
       "      <td>-5.232</td>\n",
       "    </tr>\n",
       "    <tr>\n",
       "      <th>4</th>\n",
       "      <td>2</td>\n",
       "      <td>Afghanistan</td>\n",
       "      <td>7001</td>\n",
       "      <td>January</td>\n",
       "      <td>1965</td>\n",
       "      <td>1.868</td>\n",
       "    </tr>\n",
       "  </tbody>\n",
       "</table>\n",
       "</div>"
      ],
      "text/plain": [
       "   Area Code         Area  Months Code   Months  Year  temperature\n",
       "0          2  Afghanistan         7001  January  1961        0.777\n",
       "1          2  Afghanistan         7001  January  1962        0.062\n",
       "2          2  Afghanistan         7001  January  1963        2.744\n",
       "3          2  Afghanistan         7001  January  1964       -5.232\n",
       "4          2  Afghanistan         7001  January  1965        1.868"
      ]
     },
     "execution_count": 29,
     "metadata": {},
     "output_type": "execute_result"
    }
   ],
   "source": [
    "df_temp = df_temp[[ 'Area Code', 'Area','Months Code', 'Months', 'Year', 'temperature']]\n",
    "df_temp.head()"
   ]
  },
  {
   "cell_type": "code",
   "execution_count": 30,
   "metadata": {},
   "outputs": [
    {
     "data": {
      "text/plain": [
       "Area Code         0\n",
       "Area              0\n",
       "Months Code       0\n",
       "Months            0\n",
       "Year              0\n",
       "temperature    7685\n",
       "dtype: int64"
      ]
     },
     "execution_count": 30,
     "metadata": {},
     "output_type": "execute_result"
    }
   ],
   "source": [
    "df_temp.isna().sum()"
   ]
  },
  {
   "cell_type": "code",
   "execution_count": 31,
   "metadata": {},
   "outputs": [],
   "source": [
    "df_temp=df_temp.dropna()"
   ]
  },
  {
   "cell_type": "code",
   "execution_count": 32,
   "metadata": {},
   "outputs": [
    {
     "data": {
      "text/html": [
       "<div>\n",
       "<style scoped>\n",
       "    .dataframe tbody tr th:only-of-type {\n",
       "        vertical-align: middle;\n",
       "    }\n",
       "\n",
       "    .dataframe tbody tr th {\n",
       "        vertical-align: top;\n",
       "    }\n",
       "\n",
       "    .dataframe thead th {\n",
       "        text-align: right;\n",
       "    }\n",
       "</style>\n",
       "<table border=\"1\" class=\"dataframe\">\n",
       "  <thead>\n",
       "    <tr style=\"text-align: right;\">\n",
       "      <th></th>\n",
       "      <th>Area Code</th>\n",
       "      <th>Area</th>\n",
       "      <th>Months Code</th>\n",
       "      <th>Months</th>\n",
       "      <th>Year</th>\n",
       "      <th>temperature</th>\n",
       "    </tr>\n",
       "  </thead>\n",
       "  <tbody>\n",
       "    <tr>\n",
       "      <th>944</th>\n",
       "      <td>2</td>\n",
       "      <td>Afghanistan</td>\n",
       "      <td>7020</td>\n",
       "      <td>Meteorological year</td>\n",
       "      <td>1961</td>\n",
       "      <td>-0.080</td>\n",
       "    </tr>\n",
       "    <tr>\n",
       "      <th>945</th>\n",
       "      <td>2</td>\n",
       "      <td>Afghanistan</td>\n",
       "      <td>7020</td>\n",
       "      <td>Meteorological year</td>\n",
       "      <td>1962</td>\n",
       "      <td>-0.120</td>\n",
       "    </tr>\n",
       "    <tr>\n",
       "      <th>946</th>\n",
       "      <td>2</td>\n",
       "      <td>Afghanistan</td>\n",
       "      <td>7020</td>\n",
       "      <td>Meteorological year</td>\n",
       "      <td>1963</td>\n",
       "      <td>0.882</td>\n",
       "    </tr>\n",
       "    <tr>\n",
       "      <th>947</th>\n",
       "      <td>2</td>\n",
       "      <td>Afghanistan</td>\n",
       "      <td>7020</td>\n",
       "      <td>Meteorological year</td>\n",
       "      <td>1964</td>\n",
       "      <td>-0.727</td>\n",
       "    </tr>\n",
       "    <tr>\n",
       "      <th>948</th>\n",
       "      <td>2</td>\n",
       "      <td>Afghanistan</td>\n",
       "      <td>7020</td>\n",
       "      <td>Meteorological year</td>\n",
       "      <td>1965</td>\n",
       "      <td>-0.200</td>\n",
       "    </tr>\n",
       "  </tbody>\n",
       "</table>\n",
       "</div>"
      ],
      "text/plain": [
       "     Area Code         Area  Months Code               Months  Year  \\\n",
       "944          2  Afghanistan         7020  Meteorological year  1961   \n",
       "945          2  Afghanistan         7020  Meteorological year  1962   \n",
       "946          2  Afghanistan         7020  Meteorological year  1963   \n",
       "947          2  Afghanistan         7020  Meteorological year  1964   \n",
       "948          2  Afghanistan         7020  Meteorological year  1965   \n",
       "\n",
       "     temperature  \n",
       "944       -0.080  \n",
       "945       -0.120  \n",
       "946        0.882  \n",
       "947       -0.727  \n",
       "948       -0.200  "
      ]
     },
     "execution_count": 32,
     "metadata": {},
     "output_type": "execute_result"
    }
   ],
   "source": [
    "df_temp_metro = df_temp.query(\"Months == 'Meteorological year'\") \n",
    "df_temp_metro.head()"
   ]
  },
  {
   "cell_type": "code",
   "execution_count": 33,
   "metadata": {},
   "outputs": [
    {
     "data": {
      "text/html": [
       "<div>\n",
       "<style scoped>\n",
       "    .dataframe tbody tr th:only-of-type {\n",
       "        vertical-align: middle;\n",
       "    }\n",
       "\n",
       "    .dataframe tbody tr th {\n",
       "        vertical-align: top;\n",
       "    }\n",
       "\n",
       "    .dataframe thead th {\n",
       "        text-align: right;\n",
       "    }\n",
       "</style>\n",
       "<table border=\"1\" class=\"dataframe\">\n",
       "  <thead>\n",
       "    <tr style=\"text-align: right;\">\n",
       "      <th></th>\n",
       "      <th>Area Code</th>\n",
       "      <th>Area</th>\n",
       "      <th>Months Code</th>\n",
       "      <th>Months</th>\n",
       "      <th>Year</th>\n",
       "      <th>temperature</th>\n",
       "    </tr>\n",
       "  </thead>\n",
       "  <tbody>\n",
       "    <tr>\n",
       "      <th>999</th>\n",
       "      <td>2</td>\n",
       "      <td>Afghanistan</td>\n",
       "      <td>7020</td>\n",
       "      <td>Meteorological year</td>\n",
       "      <td>2016</td>\n",
       "      <td>1.473</td>\n",
       "    </tr>\n",
       "    <tr>\n",
       "      <th>2002</th>\n",
       "      <td>3</td>\n",
       "      <td>Albania</td>\n",
       "      <td>7020</td>\n",
       "      <td>Meteorological year</td>\n",
       "      <td>2016</td>\n",
       "      <td>1.697</td>\n",
       "    </tr>\n",
       "    <tr>\n",
       "      <th>3005</th>\n",
       "      <td>4</td>\n",
       "      <td>Algeria</td>\n",
       "      <td>7020</td>\n",
       "      <td>Meteorological year</td>\n",
       "      <td>2016</td>\n",
       "      <td>1.866</td>\n",
       "    </tr>\n",
       "    <tr>\n",
       "      <th>4008</th>\n",
       "      <td>5</td>\n",
       "      <td>American Samoa</td>\n",
       "      <td>7020</td>\n",
       "      <td>Meteorological year</td>\n",
       "      <td>2016</td>\n",
       "      <td>1.648</td>\n",
       "    </tr>\n",
       "    <tr>\n",
       "      <th>5011</th>\n",
       "      <td>6</td>\n",
       "      <td>Andorra</td>\n",
       "      <td>7020</td>\n",
       "      <td>Meteorological year</td>\n",
       "      <td>2016</td>\n",
       "      <td>1.917</td>\n",
       "    </tr>\n",
       "  </tbody>\n",
       "</table>\n",
       "</div>"
      ],
      "text/plain": [
       "      Area Code            Area  Months Code               Months  Year  \\\n",
       "999           2     Afghanistan         7020  Meteorological year  2016   \n",
       "2002          3         Albania         7020  Meteorological year  2016   \n",
       "3005          4         Algeria         7020  Meteorological year  2016   \n",
       "4008          5  American Samoa         7020  Meteorological year  2016   \n",
       "5011          6         Andorra         7020  Meteorological year  2016   \n",
       "\n",
       "      temperature  \n",
       "999         1.473  \n",
       "2002        1.697  \n",
       "3005        1.866  \n",
       "4008        1.648  \n",
       "5011        1.917  "
      ]
     },
     "execution_count": 33,
     "metadata": {},
     "output_type": "execute_result"
    }
   ],
   "source": [
    "df_temp_metro_2016 =df_temp_metro.query(\"Year == '2016' \")\n",
    "df_temp_metro_2016.head()"
   ]
  },
  {
   "cell_type": "markdown",
   "metadata": {},
   "source": [
    "# Merging the Temperature  & crop data"
   ]
  },
  {
   "cell_type": "code",
   "execution_count": 35,
   "metadata": {},
   "outputs": [],
   "source": [
    "df_crop_reg_sorted=df_crop_reg.sort_values(by=['Year'])\n",
    "df_temp_sorted=df_temp.sort_values(by=['Year'])"
   ]
  },
  {
   "cell_type": "code",
   "execution_count": 36,
   "metadata": {
    "scrolled": false
   },
   "outputs": [
    {
     "data": {
      "text/html": [
       "<div>\n",
       "<style scoped>\n",
       "    .dataframe tbody tr th:only-of-type {\n",
       "        vertical-align: middle;\n",
       "    }\n",
       "\n",
       "    .dataframe tbody tr th {\n",
       "        vertical-align: top;\n",
       "    }\n",
       "\n",
       "    .dataframe thead th {\n",
       "        text-align: right;\n",
       "    }\n",
       "</style>\n",
       "<table border=\"1\" class=\"dataframe\">\n",
       "  <thead>\n",
       "    <tr style=\"text-align: right;\">\n",
       "      <th></th>\n",
       "      <th>Area Code_x</th>\n",
       "      <th>Area</th>\n",
       "      <th>Months Code</th>\n",
       "      <th>Months</th>\n",
       "      <th>Year</th>\n",
       "      <th>temperature</th>\n",
       "      <th>Area Code_y</th>\n",
       "      <th>Item Code</th>\n",
       "      <th>Item</th>\n",
       "      <th>yield</th>\n",
       "      <th>Country Group</th>\n",
       "      <th>Country Code</th>\n",
       "    </tr>\n",
       "  </thead>\n",
       "  <tbody>\n",
       "    <tr>\n",
       "      <th>0</th>\n",
       "      <td>2</td>\n",
       "      <td>Afghanistan</td>\n",
       "      <td>7001</td>\n",
       "      <td>January</td>\n",
       "      <td>1961</td>\n",
       "      <td>0.777</td>\n",
       "      <td>2.0</td>\n",
       "      <td>44.0</td>\n",
       "      <td>Barley</td>\n",
       "      <td>10800.0</td>\n",
       "      <td>Southern Asia</td>\n",
       "      <td>2.0</td>\n",
       "    </tr>\n",
       "    <tr>\n",
       "      <th>1</th>\n",
       "      <td>25</td>\n",
       "      <td>Solomon Islands</td>\n",
       "      <td>7005</td>\n",
       "      <td>May</td>\n",
       "      <td>1961</td>\n",
       "      <td>0.233</td>\n",
       "      <td>25.0</td>\n",
       "      <td>27.0</td>\n",
       "      <td>Rice</td>\n",
       "      <td>17391.0</td>\n",
       "      <td>World</td>\n",
       "      <td>25.0</td>\n",
       "    </tr>\n",
       "    <tr>\n",
       "      <th>2</th>\n",
       "      <td>259</td>\n",
       "      <td>Channel Islands</td>\n",
       "      <td>7005</td>\n",
       "      <td>May</td>\n",
       "      <td>1961</td>\n",
       "      <td>0.227</td>\n",
       "      <td>NaN</td>\n",
       "      <td>NaN</td>\n",
       "      <td>NaN</td>\n",
       "      <td>NaN</td>\n",
       "      <td>NaN</td>\n",
       "      <td>NaN</td>\n",
       "    </tr>\n",
       "    <tr>\n",
       "      <th>3</th>\n",
       "      <td>25</td>\n",
       "      <td>Solomon Islands</td>\n",
       "      <td>7006</td>\n",
       "      <td>June</td>\n",
       "      <td>1961</td>\n",
       "      <td>0.373</td>\n",
       "      <td>25.0</td>\n",
       "      <td>27.0</td>\n",
       "      <td>Rice</td>\n",
       "      <td>17391.0</td>\n",
       "      <td>World</td>\n",
       "      <td>25.0</td>\n",
       "    </tr>\n",
       "    <tr>\n",
       "      <th>4</th>\n",
       "      <td>259</td>\n",
       "      <td>Channel Islands</td>\n",
       "      <td>7004</td>\n",
       "      <td>April</td>\n",
       "      <td>1961</td>\n",
       "      <td>2.249</td>\n",
       "      <td>NaN</td>\n",
       "      <td>NaN</td>\n",
       "      <td>NaN</td>\n",
       "      <td>NaN</td>\n",
       "      <td>NaN</td>\n",
       "      <td>NaN</td>\n",
       "    </tr>\n",
       "  </tbody>\n",
       "</table>\n",
       "</div>"
      ],
      "text/plain": [
       "   Area Code_x             Area  Months Code   Months  Year  temperature  \\\n",
       "0            2      Afghanistan         7001  January  1961        0.777   \n",
       "1           25  Solomon Islands         7005      May  1961        0.233   \n",
       "2          259  Channel Islands         7005      May  1961        0.227   \n",
       "3           25  Solomon Islands         7006     June  1961        0.373   \n",
       "4          259  Channel Islands         7004    April  1961        2.249   \n",
       "\n",
       "   Area Code_y  Item Code    Item    yield  Country Group  Country Code  \n",
       "0          2.0       44.0  Barley  10800.0  Southern Asia           2.0  \n",
       "1         25.0       27.0    Rice  17391.0          World          25.0  \n",
       "2          NaN        NaN     NaN      NaN            NaN           NaN  \n",
       "3         25.0       27.0    Rice  17391.0          World          25.0  \n",
       "4          NaN        NaN     NaN      NaN            NaN           NaN  "
      ]
     },
     "execution_count": 36,
     "metadata": {},
     "output_type": "execute_result"
    }
   ],
   "source": [
    "df_crop_temp  = pd.merge_asof(df_temp_sorted, df_crop_reg_sorted,\n",
    "              on='Year',\n",
    "              by='Area')\n",
    "\n",
    "df_crop_temp.head()"
   ]
  },
  {
   "cell_type": "code",
   "execution_count": 37,
   "metadata": {},
   "outputs": [
    {
     "data": {
      "text/html": [
       "<div>\n",
       "<style scoped>\n",
       "    .dataframe tbody tr th:only-of-type {\n",
       "        vertical-align: middle;\n",
       "    }\n",
       "\n",
       "    .dataframe tbody tr th {\n",
       "        vertical-align: top;\n",
       "    }\n",
       "\n",
       "    .dataframe thead th {\n",
       "        text-align: right;\n",
       "    }\n",
       "</style>\n",
       "<table border=\"1\" class=\"dataframe\">\n",
       "  <thead>\n",
       "    <tr style=\"text-align: right;\">\n",
       "      <th></th>\n",
       "      <th>Area Code</th>\n",
       "      <th>Area</th>\n",
       "      <th>Item Code</th>\n",
       "      <th>Item</th>\n",
       "      <th>Year</th>\n",
       "      <th>yield</th>\n",
       "      <th>Country Group</th>\n",
       "      <th>Country Code</th>\n",
       "    </tr>\n",
       "  </thead>\n",
       "  <tbody>\n",
       "    <tr>\n",
       "      <th>0</th>\n",
       "      <td>2</td>\n",
       "      <td>Afghanistan</td>\n",
       "      <td>44</td>\n",
       "      <td>Barley</td>\n",
       "      <td>1961</td>\n",
       "      <td>10800.0</td>\n",
       "      <td>Asia</td>\n",
       "      <td>2.0</td>\n",
       "    </tr>\n",
       "    <tr>\n",
       "      <th>1</th>\n",
       "      <td>2</td>\n",
       "      <td>Afghanistan</td>\n",
       "      <td>44</td>\n",
       "      <td>Barley</td>\n",
       "      <td>1961</td>\n",
       "      <td>10800.0</td>\n",
       "      <td>Central Asia and Southern Asia</td>\n",
       "      <td>2.0</td>\n",
       "    </tr>\n",
       "    <tr>\n",
       "      <th>2</th>\n",
       "      <td>2</td>\n",
       "      <td>Afghanistan</td>\n",
       "      <td>44</td>\n",
       "      <td>Barley</td>\n",
       "      <td>1961</td>\n",
       "      <td>10800.0</td>\n",
       "      <td>Land Locked Developing Countries</td>\n",
       "      <td>2.0</td>\n",
       "    </tr>\n",
       "    <tr>\n",
       "      <th>3</th>\n",
       "      <td>2</td>\n",
       "      <td>Afghanistan</td>\n",
       "      <td>44</td>\n",
       "      <td>Barley</td>\n",
       "      <td>1961</td>\n",
       "      <td>10800.0</td>\n",
       "      <td>Least Developed Countries</td>\n",
       "      <td>2.0</td>\n",
       "    </tr>\n",
       "    <tr>\n",
       "      <th>4</th>\n",
       "      <td>2</td>\n",
       "      <td>Afghanistan</td>\n",
       "      <td>44</td>\n",
       "      <td>Barley</td>\n",
       "      <td>1961</td>\n",
       "      <td>10800.0</td>\n",
       "      <td>Low income economies</td>\n",
       "      <td>2.0</td>\n",
       "    </tr>\n",
       "  </tbody>\n",
       "</table>\n",
       "</div>"
      ],
      "text/plain": [
       "   Area Code         Area  Item Code    Item  Year    yield  \\\n",
       "0          2  Afghanistan         44  Barley  1961  10800.0   \n",
       "1          2  Afghanistan         44  Barley  1961  10800.0   \n",
       "2          2  Afghanistan         44  Barley  1961  10800.0   \n",
       "3          2  Afghanistan         44  Barley  1961  10800.0   \n",
       "4          2  Afghanistan         44  Barley  1961  10800.0   \n",
       "\n",
       "                      Country Group  Country Code  \n",
       "0                              Asia           2.0  \n",
       "1    Central Asia and Southern Asia           2.0  \n",
       "2  Land Locked Developing Countries           2.0  \n",
       "3         Least Developed Countries           2.0  \n",
       "4              Low income economies           2.0  "
      ]
     },
     "execution_count": 37,
     "metadata": {},
     "output_type": "execute_result"
    }
   ],
   "source": [
    "df_crop_reg.head()"
   ]
  },
  {
   "cell_type": "code",
   "execution_count": 38,
   "metadata": {},
   "outputs": [
    {
     "data": {
      "text/plain": [
       "Area Code_x          0\n",
       "Area                 0\n",
       "Months Code          0\n",
       "Months               0\n",
       "Year                 0\n",
       "temperature          0\n",
       "Area Code_y      48500\n",
       "Item Code        48500\n",
       "Item             48500\n",
       "yield            48500\n",
       "Country Group    48500\n",
       "Country Code     48500\n",
       "dtype: int64"
      ]
     },
     "execution_count": 38,
     "metadata": {},
     "output_type": "execute_result"
    }
   ],
   "source": [
    "df_crop_temp.isna().sum()"
   ]
  },
  {
   "cell_type": "code",
   "execution_count": 39,
   "metadata": {},
   "outputs": [],
   "source": [
    "df_crop_temp= df_crop_temp.dropna()"
   ]
  },
  {
   "cell_type": "code",
   "execution_count": 40,
   "metadata": {},
   "outputs": [
    {
     "data": {
      "text/plain": [
       "(169677, 12)"
      ]
     },
     "execution_count": 40,
     "metadata": {},
     "output_type": "execute_result"
    }
   ],
   "source": [
    "df_crop_temp.shape"
   ]
  },
  {
   "cell_type": "code",
   "execution_count": 41,
   "metadata": {},
   "outputs": [
    {
     "data": {
      "text/plain": [
       "Area Code_x      0\n",
       "Area             0\n",
       "Months Code      0\n",
       "Months           0\n",
       "Year             0\n",
       "temperature      0\n",
       "Area Code_y      0\n",
       "Item Code        0\n",
       "Item             0\n",
       "yield            0\n",
       "Country Group    0\n",
       "Country Code     0\n",
       "dtype: int64"
      ]
     },
     "execution_count": 41,
     "metadata": {},
     "output_type": "execute_result"
    }
   ],
   "source": [
    "df_crop_temp.isna().sum()"
   ]
  },
  {
   "cell_type": "code",
   "execution_count": 42,
   "metadata": {},
   "outputs": [],
   "source": [
    "# query by name of the crop\n",
    "product =df_crop_temp['Item'].unique()\n",
    "for prod in product:\n",
    "     globals()[prod] = df_crop_temp.loc[df_crop_temp['Item'] == prod]"
   ]
  },
  {
   "cell_type": "code",
   "execution_count": 45,
   "metadata": {},
   "outputs": [],
   "source": [
    "Maize_max =Maize.groupby(['Year'], as_index = False)['yield'].max()\n",
    "Wheat_max =Wheat.groupby(['Year'], as_index = False)['yield'].max()\n",
    "Rice_max =Rice.groupby(['Year'], as_index = False)['yield'].max()"
   ]
  },
  {
   "cell_type": "code",
   "execution_count": 46,
   "metadata": {},
   "outputs": [
    {
     "data": {
      "text/plain": [
       "array(['Southern Asia', 'World', 'Land Locked Developing Countries',\n",
       "       'Americas', 'Sub-Saharan Africa (including Sudan)',\n",
       "       'Net Food Importing Developing Countries', 'Sub-Saharan Africa',\n",
       "       'Non-Annex I countries', 'Africa', 'Least Developed Countries',\n",
       "       'Asia', 'Eastern Asia and South-eastern Asia',\n",
       "       'Low Income Food Deficit Countries', 'Eastern Africa',\n",
       "       'Latin America and the Caribbean', 'Annex I countries', 'OECD',\n",
       "       'High-income economies', 'Europe', 'Lower-middle-income economies',\n",
       "       'South America', 'Western Europe',\n",
       "       'Small Island Developing States', 'Western Africa',\n",
       "       'Northern America and Europe', 'Western Asia and Northern Africa',\n",
       "       'Upper-middle-income economies', 'Caribbean',\n",
       "       'Oceania excluding Australia and New Zealand', 'Northern Africa',\n",
       "       'Central America', 'Northern Europe', 'Oceania',\n",
       "       'Central Asia and Southern Asia', 'Western Asia',\n",
       "       'Southern Europe', 'Southern Africa', 'European Union',\n",
       "       'Eastern Asia', 'East Asia (exc China)', 'Middle Africa',\n",
       "       'South Asia (exc India)', 'North Africa (exc Sudan)',\n",
       "       'Low income economies', 'South-Eastern Asia', 'Melanesia',\n",
       "       'Eastern Europe', 'Micronesia', 'Australia and New Zealand',\n",
       "       'Northern America', 'Central Asia'], dtype=object)"
      ]
     },
     "execution_count": 46,
     "metadata": {},
     "output_type": "execute_result"
    }
   ],
   "source": [
    "# df_crop_temp.rename(columns={\"Country Group\": \"region\"} , inplace = True)\n",
    "# df_crop_temp['region'].unique()"
   ]
  },
  {
   "cell_type": "code",
   "execution_count": 47,
   "metadata": {},
   "outputs": [
    {
     "data": {
      "text/plain": [
       "array(['Southern_Asia', 'World', 'Land_Locked_Developing_Countries',\n",
       "       'Americas', 'Sub-Saharan_Africa_(including_Sudan)',\n",
       "       'Net_Food_Importing_Developing_Countries', 'Sub-Saharan_Africa',\n",
       "       'Non-Annex_I_countries', 'Africa', 'Least_Developed_Countries',\n",
       "       'Asia', 'Eastern_Asia_and_South-eastern_Asia',\n",
       "       'Low_Income_Food_Deficit_Countries', 'Eastern_Africa',\n",
       "       'Latin_America_and_the_Caribbean', 'Annex_I_countries', 'OECD',\n",
       "       'High-income_economies', 'Europe', 'Lower-middle-income_economies',\n",
       "       'South_America', 'Western_Europe',\n",
       "       'Small_Island_Developing_States', 'Western_Africa',\n",
       "       'Northern_America_and_Europe', 'Western_Asia_and_Northern_Africa',\n",
       "       'Upper-middle-income_economies', 'Caribbean',\n",
       "       'Oceania_excluding_Australia_and_New_Zealand', 'Northern_Africa',\n",
       "       'Central_America', 'Northern_Europe', 'Oceania',\n",
       "       'Central_Asia_and_Southern_Asia', 'Western_Asia',\n",
       "       'Southern_Europe', 'Southern_Africa', 'European_Union',\n",
       "       'Eastern_Asia', 'East_Asia_(exc_China)', 'Middle_Africa',\n",
       "       'South_Asia_(exc_India)', 'North_Africa_(exc_Sudan)',\n",
       "       'Low_income_economies', 'South-Eastern_Asia', 'Melanesia',\n",
       "       'Eastern_Europe', 'Micronesia', 'Australia_and_New_Zealand',\n",
       "       'Northern_America', 'Central_Asia'], dtype=object)"
      ]
     },
     "execution_count": 47,
     "metadata": {},
     "output_type": "execute_result"
    }
   ],
   "source": [
    "df_crop_temp['region'] = df_crop_temp['region'].str.replace(' ','_')\n",
    "df_crop_temp['region'].unique()"
   ]
  },
  {
   "cell_type": "code",
   "execution_count": 48,
   "metadata": {},
   "outputs": [
    {
     "data": {
      "text/plain": [
       "array(['Southern_Asia', 'World', 'Land_Locked_Developing_Countries',\n",
       "       'Americas', 'Sub_Saharan_Africa_(including_Sudan)',\n",
       "       'Net_Food_Importing_Developing_Countries', 'Sub_Saharan_Africa',\n",
       "       'Non_Annex_I_countries', 'Africa', 'Least_Developed_Countries',\n",
       "       'Asia', 'Eastern_Asia_and_South_eastern_Asia',\n",
       "       'Low_Income_Food_Deficit_Countries', 'Eastern_Africa',\n",
       "       'Latin_America_and_the_Caribbean', 'Annex_I_countries', 'OECD',\n",
       "       'High_income_economies', 'Europe', 'Lower_middle_income_economies',\n",
       "       'South_America', 'Western_Europe',\n",
       "       'Small_Island_Developing_States', 'Western_Africa',\n",
       "       'Northern_America_and_Europe', 'Western_Asia_and_Northern_Africa',\n",
       "       'Upper_middle_income_economies', 'Caribbean',\n",
       "       'Oceania_excluding_Australia_and_New_Zealand', 'Northern_Africa',\n",
       "       'Central_America', 'Northern_Europe', 'Oceania',\n",
       "       'Central_Asia_and_Southern_Asia', 'Western_Asia',\n",
       "       'Southern_Europe', 'Southern_Africa', 'European_Union',\n",
       "       'Eastern_Asia', 'East_Asia_(exc_China)', 'Middle_Africa',\n",
       "       'South_Asia_(exc_India)', 'North_Africa_(exc_Sudan)',\n",
       "       'Low_income_economies', 'South_Eastern_Asia', 'Melanesia',\n",
       "       'Eastern_Europe', 'Micronesia', 'Australia_and_New_Zealand',\n",
       "       'Northern_America', 'Central_Asia'], dtype=object)"
      ]
     },
     "execution_count": 48,
     "metadata": {},
     "output_type": "execute_result"
    }
   ],
   "source": [
    "df_crop_temp['region'] = df_crop_temp['region'].str.replace('-','_')\n",
    "df_crop_temp['region'].unique()"
   ]
  },
  {
   "cell_type": "code",
   "execution_count": 49,
   "metadata": {},
   "outputs": [],
   "source": [
    "regions =df_crop_temp['region'].unique()\n",
    "for reg in regions:\n",
    "     globals()[reg] = df_crop_temp.loc[df_crop_temp['region'] == reg]"
   ]
  },
  {
   "cell_type": "code",
   "execution_count": 50,
   "metadata": {},
   "outputs": [
    {
     "data": {
      "text/html": [
       "<div>\n",
       "<style scoped>\n",
       "    .dataframe tbody tr th:only-of-type {\n",
       "        vertical-align: middle;\n",
       "    }\n",
       "\n",
       "    .dataframe tbody tr th {\n",
       "        vertical-align: top;\n",
       "    }\n",
       "\n",
       "    .dataframe thead th {\n",
       "        text-align: right;\n",
       "    }\n",
       "</style>\n",
       "<table border=\"1\" class=\"dataframe\">\n",
       "  <thead>\n",
       "    <tr style=\"text-align: right;\">\n",
       "      <th></th>\n",
       "      <th>Area Code_x</th>\n",
       "      <th>Area</th>\n",
       "      <th>Months Code</th>\n",
       "      <th>Months</th>\n",
       "      <th>Year</th>\n",
       "      <th>temperature</th>\n",
       "      <th>Area Code_y</th>\n",
       "      <th>Item Code</th>\n",
       "      <th>Item</th>\n",
       "      <th>yield</th>\n",
       "      <th>region</th>\n",
       "      <th>Country Code</th>\n",
       "    </tr>\n",
       "  </thead>\n",
       "  <tbody>\n",
       "    <tr>\n",
       "      <th>215</th>\n",
       "      <td>35</td>\n",
       "      <td>Cabo Verde</td>\n",
       "      <td>7011</td>\n",
       "      <td>November</td>\n",
       "      <td>1961</td>\n",
       "      <td>-0.542</td>\n",
       "      <td>35.0</td>\n",
       "      <td>56.0</td>\n",
       "      <td>Maize</td>\n",
       "      <td>6500.0</td>\n",
       "      <td>Africa</td>\n",
       "      <td>35.0</td>\n",
       "    </tr>\n",
       "    <tr>\n",
       "      <th>217</th>\n",
       "      <td>35</td>\n",
       "      <td>Cabo Verde</td>\n",
       "      <td>7010</td>\n",
       "      <td>October</td>\n",
       "      <td>1961</td>\n",
       "      <td>-0.184</td>\n",
       "      <td>35.0</td>\n",
       "      <td>56.0</td>\n",
       "      <td>Maize</td>\n",
       "      <td>6500.0</td>\n",
       "      <td>Africa</td>\n",
       "      <td>35.0</td>\n",
       "    </tr>\n",
       "    <tr>\n",
       "      <th>219</th>\n",
       "      <td>35</td>\n",
       "      <td>Cabo Verde</td>\n",
       "      <td>7009</td>\n",
       "      <td>September</td>\n",
       "      <td>1961</td>\n",
       "      <td>-0.416</td>\n",
       "      <td>35.0</td>\n",
       "      <td>56.0</td>\n",
       "      <td>Maize</td>\n",
       "      <td>6500.0</td>\n",
       "      <td>Africa</td>\n",
       "      <td>35.0</td>\n",
       "    </tr>\n",
       "    <tr>\n",
       "      <th>221</th>\n",
       "      <td>35</td>\n",
       "      <td>Cabo Verde</td>\n",
       "      <td>7008</td>\n",
       "      <td>August</td>\n",
       "      <td>1961</td>\n",
       "      <td>0.117</td>\n",
       "      <td>35.0</td>\n",
       "      <td>56.0</td>\n",
       "      <td>Maize</td>\n",
       "      <td>6500.0</td>\n",
       "      <td>Africa</td>\n",
       "      <td>35.0</td>\n",
       "    </tr>\n",
       "    <tr>\n",
       "      <th>223</th>\n",
       "      <td>35</td>\n",
       "      <td>Cabo Verde</td>\n",
       "      <td>7007</td>\n",
       "      <td>July</td>\n",
       "      <td>1961</td>\n",
       "      <td>0.012</td>\n",
       "      <td>35.0</td>\n",
       "      <td>56.0</td>\n",
       "      <td>Maize</td>\n",
       "      <td>6500.0</td>\n",
       "      <td>Africa</td>\n",
       "      <td>35.0</td>\n",
       "    </tr>\n",
       "  </tbody>\n",
       "</table>\n",
       "</div>"
      ],
      "text/plain": [
       "     Area Code_x        Area  Months Code     Months  Year  temperature  \\\n",
       "215           35  Cabo Verde         7011   November  1961       -0.542   \n",
       "217           35  Cabo Verde         7010    October  1961       -0.184   \n",
       "219           35  Cabo Verde         7009  September  1961       -0.416   \n",
       "221           35  Cabo Verde         7008     August  1961        0.117   \n",
       "223           35  Cabo Verde         7007       July  1961        0.012   \n",
       "\n",
       "     Area Code_y  Item Code   Item   yield  region  Country Code  \n",
       "215         35.0       56.0  Maize  6500.0  Africa          35.0  \n",
       "217         35.0       56.0  Maize  6500.0  Africa          35.0  \n",
       "219         35.0       56.0  Maize  6500.0  Africa          35.0  \n",
       "221         35.0       56.0  Maize  6500.0  Africa          35.0  \n",
       "223         35.0       56.0  Maize  6500.0  Africa          35.0  "
      ]
     },
     "execution_count": 50,
     "metadata": {},
     "output_type": "execute_result"
    }
   ],
   "source": [
    "Africa.head()"
   ]
  },
  {
   "cell_type": "code",
   "execution_count": 52,
   "metadata": {},
   "outputs": [],
   "source": [
    "Africa_maize = Africa.query(\"Item=='Maize'\")\n",
    "Africa_maize_max = Africa_maize.groupby(['Year'], as_index=False)['yield'].max()\n",
    "Africa_rice = Africa.query(\"Item=='Rice'\")\n",
    "Africa_rice_max = Africa_rice.groupby(['Year'], as_index=False)['yield'].max()\n",
    "Africa_wheat = Africa.query(\"Item=='Wheat'\")\n",
    "Africa_wheat_max = Africa_wheat.groupby(['Year'], as_index=False)['yield'].max()"
   ]
  },
  {
   "cell_type": "code",
   "execution_count": 239,
   "metadata": {},
   "outputs": [
    {
     "data": {
      "text/html": [
       "<div>\n",
       "<style scoped>\n",
       "    .dataframe tbody tr th:only-of-type {\n",
       "        vertical-align: middle;\n",
       "    }\n",
       "\n",
       "    .dataframe tbody tr th {\n",
       "        vertical-align: top;\n",
       "    }\n",
       "\n",
       "    .dataframe thead th {\n",
       "        text-align: right;\n",
       "    }\n",
       "</style>\n",
       "<table border=\"1\" class=\"dataframe\">\n",
       "  <thead>\n",
       "    <tr style=\"text-align: right;\">\n",
       "      <th></th>\n",
       "      <th>Area Code_x</th>\n",
       "      <th>Area</th>\n",
       "      <th>Months Code</th>\n",
       "      <th>Months</th>\n",
       "      <th>Year</th>\n",
       "      <th>temperature</th>\n",
       "      <th>Area Code_y</th>\n",
       "      <th>Item Code</th>\n",
       "      <th>Item</th>\n",
       "      <th>yield</th>\n",
       "      <th>region</th>\n",
       "      <th>Country Code</th>\n",
       "      <th>temp</th>\n",
       "    </tr>\n",
       "  </thead>\n",
       "  <tbody>\n",
       "    <tr>\n",
       "      <th>0</th>\n",
       "      <td>2</td>\n",
       "      <td>Afghanistan</td>\n",
       "      <td>7001</td>\n",
       "      <td>January</td>\n",
       "      <td>1961</td>\n",
       "      <td>0.777</td>\n",
       "      <td>2.0</td>\n",
       "      <td>44.0</td>\n",
       "      <td>Barley</td>\n",
       "      <td>10800.0</td>\n",
       "      <td>Southern_Asia</td>\n",
       "      <td>2.0</td>\n",
       "      <td>low</td>\n",
       "    </tr>\n",
       "    <tr>\n",
       "      <th>1</th>\n",
       "      <td>25</td>\n",
       "      <td>Solomon Islands</td>\n",
       "      <td>7005</td>\n",
       "      <td>May</td>\n",
       "      <td>1961</td>\n",
       "      <td>0.233</td>\n",
       "      <td>25.0</td>\n",
       "      <td>27.0</td>\n",
       "      <td>Rice</td>\n",
       "      <td>17391.0</td>\n",
       "      <td>World</td>\n",
       "      <td>25.0</td>\n",
       "      <td>low</td>\n",
       "    </tr>\n",
       "    <tr>\n",
       "      <th>3</th>\n",
       "      <td>25</td>\n",
       "      <td>Solomon Islands</td>\n",
       "      <td>7006</td>\n",
       "      <td>June</td>\n",
       "      <td>1961</td>\n",
       "      <td>0.373</td>\n",
       "      <td>25.0</td>\n",
       "      <td>27.0</td>\n",
       "      <td>Rice</td>\n",
       "      <td>17391.0</td>\n",
       "      <td>World</td>\n",
       "      <td>25.0</td>\n",
       "      <td>low</td>\n",
       "    </tr>\n",
       "    <tr>\n",
       "      <th>5</th>\n",
       "      <td>25</td>\n",
       "      <td>Solomon Islands</td>\n",
       "      <td>7007</td>\n",
       "      <td>July</td>\n",
       "      <td>1961</td>\n",
       "      <td>0.462</td>\n",
       "      <td>25.0</td>\n",
       "      <td>27.0</td>\n",
       "      <td>Rice</td>\n",
       "      <td>17391.0</td>\n",
       "      <td>World</td>\n",
       "      <td>25.0</td>\n",
       "      <td>low</td>\n",
       "    </tr>\n",
       "    <tr>\n",
       "      <th>7</th>\n",
       "      <td>25</td>\n",
       "      <td>Solomon Islands</td>\n",
       "      <td>7008</td>\n",
       "      <td>August</td>\n",
       "      <td>1961</td>\n",
       "      <td>0.211</td>\n",
       "      <td>25.0</td>\n",
       "      <td>27.0</td>\n",
       "      <td>Rice</td>\n",
       "      <td>17391.0</td>\n",
       "      <td>World</td>\n",
       "      <td>25.0</td>\n",
       "      <td>low</td>\n",
       "    </tr>\n",
       "  </tbody>\n",
       "</table>\n",
       "</div>"
      ],
      "text/plain": [
       "   Area Code_x             Area  Months Code   Months  Year  temperature  \\\n",
       "0            2      Afghanistan         7001  January  1961        0.777   \n",
       "1           25  Solomon Islands         7005      May  1961        0.233   \n",
       "3           25  Solomon Islands         7006     June  1961        0.373   \n",
       "5           25  Solomon Islands         7007     July  1961        0.462   \n",
       "7           25  Solomon Islands         7008   August  1961        0.211   \n",
       "\n",
       "   Area Code_y  Item Code    Item    yield         region  Country Code temp  \n",
       "0          2.0       44.0  Barley  10800.0  Southern_Asia           2.0  low  \n",
       "1         25.0       27.0    Rice  17391.0          World          25.0  low  \n",
       "3         25.0       27.0    Rice  17391.0          World          25.0  low  \n",
       "5         25.0       27.0    Rice  17391.0          World          25.0  low  \n",
       "7         25.0       27.0    Rice  17391.0          World          25.0  low  "
      ]
     },
     "execution_count": 239,
     "metadata": {},
     "output_type": "execute_result"
    }
   ],
   "source": [
    "df_crop_temp['temp']= df_crop_temp.temperature.apply(lambda x : 'low' if (x>=0 and x<=2) else 'high')     \n",
    "df_crop_temp.head()"
   ]
  },
  {
   "cell_type": "code",
   "execution_count": 244,
   "metadata": {},
   "outputs": [
    {
     "data": {
      "text/html": [
       "<div>\n",
       "<style scoped>\n",
       "    .dataframe tbody tr th:only-of-type {\n",
       "        vertical-align: middle;\n",
       "    }\n",
       "\n",
       "    .dataframe tbody tr th {\n",
       "        vertical-align: top;\n",
       "    }\n",
       "\n",
       "    .dataframe thead th {\n",
       "        text-align: right;\n",
       "    }\n",
       "</style>\n",
       "<table border=\"1\" class=\"dataframe\">\n",
       "  <thead>\n",
       "    <tr style=\"text-align: right;\">\n",
       "      <th></th>\n",
       "      <th>Item</th>\n",
       "      <th>yield</th>\n",
       "    </tr>\n",
       "  </thead>\n",
       "  <tbody>\n",
       "    <tr>\n",
       "      <th>0</th>\n",
       "      <td>Barley</td>\n",
       "      <td>343775426.0</td>\n",
       "    </tr>\n",
       "    <tr>\n",
       "      <th>1</th>\n",
       "      <td>Maize</td>\n",
       "      <td>990381922.0</td>\n",
       "    </tr>\n",
       "    <tr>\n",
       "      <th>2</th>\n",
       "      <td>Millet</td>\n",
       "      <td>93654532.0</td>\n",
       "    </tr>\n",
       "    <tr>\n",
       "      <th>3</th>\n",
       "      <td>Rice</td>\n",
       "      <td>643629657.0</td>\n",
       "    </tr>\n",
       "    <tr>\n",
       "      <th>4</th>\n",
       "      <td>Sorghum</td>\n",
       "      <td>265219123.0</td>\n",
       "    </tr>\n",
       "  </tbody>\n",
       "</table>\n",
       "</div>"
      ],
      "text/plain": [
       "      Item        yield\n",
       "0   Barley  343775426.0\n",
       "1    Maize  990381922.0\n",
       "2   Millet   93654532.0\n",
       "3     Rice  643629657.0\n",
       "4  Sorghum  265219123.0"
      ]
     },
     "execution_count": 244,
     "metadata": {},
     "output_type": "execute_result"
    },
    {
     "data": {
      "text/html": [
       "<div>\n",
       "<style scoped>\n",
       "    .dataframe tbody tr th:only-of-type {\n",
       "        vertical-align: middle;\n",
       "    }\n",
       "\n",
       "    .dataframe tbody tr th {\n",
       "        vertical-align: top;\n",
       "    }\n",
       "\n",
       "    .dataframe thead th {\n",
       "        text-align: right;\n",
       "    }\n",
       "</style>\n",
       "<table border=\"1\" class=\"dataframe\">\n",
       "  <thead>\n",
       "    <tr style=\"text-align: right;\">\n",
       "      <th></th>\n",
       "      <th>Item</th>\n",
       "      <th>yield_high</th>\n",
       "      <th>yield_low</th>\n",
       "    </tr>\n",
       "  </thead>\n",
       "  <tbody>\n",
       "    <tr>\n",
       "      <th>0</th>\n",
       "      <td>Barley</td>\n",
       "      <td>264857495.0</td>\n",
       "      <td>343775426.0</td>\n",
       "    </tr>\n",
       "    <tr>\n",
       "      <th>1</th>\n",
       "      <td>Maize</td>\n",
       "      <td>450261303.0</td>\n",
       "      <td>990381922.0</td>\n",
       "    </tr>\n",
       "    <tr>\n",
       "      <th>2</th>\n",
       "      <td>Millet</td>\n",
       "      <td>55939892.0</td>\n",
       "      <td>93654532.0</td>\n",
       "    </tr>\n",
       "    <tr>\n",
       "      <th>3</th>\n",
       "      <td>Rice</td>\n",
       "      <td>264996551.0</td>\n",
       "      <td>643629657.0</td>\n",
       "    </tr>\n",
       "    <tr>\n",
       "      <th>4</th>\n",
       "      <td>Sorghum</td>\n",
       "      <td>113150759.0</td>\n",
       "      <td>265219123.0</td>\n",
       "    </tr>\n",
       "  </tbody>\n",
       "</table>\n",
       "</div>"
      ],
      "text/plain": [
       "      Item   yield_high    yield_low\n",
       "0   Barley  264857495.0  343775426.0\n",
       "1    Maize  450261303.0  990381922.0\n",
       "2   Millet   55939892.0   93654532.0\n",
       "3     Rice  264996551.0  643629657.0\n",
       "4  Sorghum  113150759.0  265219123.0"
      ]
     },
     "execution_count": 244,
     "metadata": {},
     "output_type": "execute_result"
    }
   ],
   "source": [
    "df_crop_temp_high = df_crop_temp.query(\"temp=='high'\")\n",
    "df_crop_temp_low = df_crop_temp.query(\"temp=='low'\")\n",
    "df_crop_temp_high_i = df_crop_temp_high.groupby(['Item'], as_index =False)['yield'].sum()\n",
    "df_crop_temp_low_i = df_crop_temp_low.groupby(['Item'], as_index =False)['yield'].sum()\n",
    "df_crop_temp_low_i.head()\n",
    "df_crop_temp_high_low_i = pd.merge(df_crop_temp_high_i, df_crop_temp_low_i , on='Item',suffixes=('_high', '_low'))\n",
    "#df_crop_reg_early_late_r.set_index('region', inplace=True)\n",
    "df_crop_temp_high_low_i.head()\n"
   ]
  },
  {
   "cell_type": "code",
   "execution_count": 251,
   "metadata": {},
   "outputs": [
    {
     "data": {
      "application/vnd.plotly.v1+json": {
       "config": {
        "plotlyServerURL": "https://plot.ly"
       },
       "data": [
        {
         "name": "high",
         "type": "bar",
         "x": [
          "Barley",
          "Maize",
          "Millet",
          "Rice",
          "Sorghum",
          "Wheat"
         ],
         "y": [
          264857495,
          450261303,
          55939892,
          264996551,
          113150759,
          328412749
         ]
        },
        {
         "name": "low",
         "type": "bar",
         "x": [
          "Barley",
          "Maize",
          "Millet",
          "Rice",
          "Sorghum",
          "Wheat"
         ],
         "y": [
          343775426,
          990381922,
          93654532,
          643629657,
          265219123,
          454985991
         ]
        }
       ],
       "layout": {
        "barmode": "group",
        "template": {
         "data": {
          "bar": [
           {
            "error_x": {
             "color": "#2a3f5f"
            },
            "error_y": {
             "color": "#2a3f5f"
            },
            "marker": {
             "line": {
              "color": "#E5ECF6",
              "width": 0.5
             }
            },
            "type": "bar"
           }
          ],
          "barpolar": [
           {
            "marker": {
             "line": {
              "color": "#E5ECF6",
              "width": 0.5
             }
            },
            "type": "barpolar"
           }
          ],
          "carpet": [
           {
            "aaxis": {
             "endlinecolor": "#2a3f5f",
             "gridcolor": "white",
             "linecolor": "white",
             "minorgridcolor": "white",
             "startlinecolor": "#2a3f5f"
            },
            "baxis": {
             "endlinecolor": "#2a3f5f",
             "gridcolor": "white",
             "linecolor": "white",
             "minorgridcolor": "white",
             "startlinecolor": "#2a3f5f"
            },
            "type": "carpet"
           }
          ],
          "choropleth": [
           {
            "colorbar": {
             "outlinewidth": 0,
             "ticks": ""
            },
            "type": "choropleth"
           }
          ],
          "contour": [
           {
            "colorbar": {
             "outlinewidth": 0,
             "ticks": ""
            },
            "colorscale": [
             [
              0,
              "#0d0887"
             ],
             [
              0.1111111111111111,
              "#46039f"
             ],
             [
              0.2222222222222222,
              "#7201a8"
             ],
             [
              0.3333333333333333,
              "#9c179e"
             ],
             [
              0.4444444444444444,
              "#bd3786"
             ],
             [
              0.5555555555555556,
              "#d8576b"
             ],
             [
              0.6666666666666666,
              "#ed7953"
             ],
             [
              0.7777777777777778,
              "#fb9f3a"
             ],
             [
              0.8888888888888888,
              "#fdca26"
             ],
             [
              1,
              "#f0f921"
             ]
            ],
            "type": "contour"
           }
          ],
          "contourcarpet": [
           {
            "colorbar": {
             "outlinewidth": 0,
             "ticks": ""
            },
            "type": "contourcarpet"
           }
          ],
          "heatmap": [
           {
            "colorbar": {
             "outlinewidth": 0,
             "ticks": ""
            },
            "colorscale": [
             [
              0,
              "#0d0887"
             ],
             [
              0.1111111111111111,
              "#46039f"
             ],
             [
              0.2222222222222222,
              "#7201a8"
             ],
             [
              0.3333333333333333,
              "#9c179e"
             ],
             [
              0.4444444444444444,
              "#bd3786"
             ],
             [
              0.5555555555555556,
              "#d8576b"
             ],
             [
              0.6666666666666666,
              "#ed7953"
             ],
             [
              0.7777777777777778,
              "#fb9f3a"
             ],
             [
              0.8888888888888888,
              "#fdca26"
             ],
             [
              1,
              "#f0f921"
             ]
            ],
            "type": "heatmap"
           }
          ],
          "heatmapgl": [
           {
            "colorbar": {
             "outlinewidth": 0,
             "ticks": ""
            },
            "colorscale": [
             [
              0,
              "#0d0887"
             ],
             [
              0.1111111111111111,
              "#46039f"
             ],
             [
              0.2222222222222222,
              "#7201a8"
             ],
             [
              0.3333333333333333,
              "#9c179e"
             ],
             [
              0.4444444444444444,
              "#bd3786"
             ],
             [
              0.5555555555555556,
              "#d8576b"
             ],
             [
              0.6666666666666666,
              "#ed7953"
             ],
             [
              0.7777777777777778,
              "#fb9f3a"
             ],
             [
              0.8888888888888888,
              "#fdca26"
             ],
             [
              1,
              "#f0f921"
             ]
            ],
            "type": "heatmapgl"
           }
          ],
          "histogram": [
           {
            "marker": {
             "colorbar": {
              "outlinewidth": 0,
              "ticks": ""
             }
            },
            "type": "histogram"
           }
          ],
          "histogram2d": [
           {
            "colorbar": {
             "outlinewidth": 0,
             "ticks": ""
            },
            "colorscale": [
             [
              0,
              "#0d0887"
             ],
             [
              0.1111111111111111,
              "#46039f"
             ],
             [
              0.2222222222222222,
              "#7201a8"
             ],
             [
              0.3333333333333333,
              "#9c179e"
             ],
             [
              0.4444444444444444,
              "#bd3786"
             ],
             [
              0.5555555555555556,
              "#d8576b"
             ],
             [
              0.6666666666666666,
              "#ed7953"
             ],
             [
              0.7777777777777778,
              "#fb9f3a"
             ],
             [
              0.8888888888888888,
              "#fdca26"
             ],
             [
              1,
              "#f0f921"
             ]
            ],
            "type": "histogram2d"
           }
          ],
          "histogram2dcontour": [
           {
            "colorbar": {
             "outlinewidth": 0,
             "ticks": ""
            },
            "colorscale": [
             [
              0,
              "#0d0887"
             ],
             [
              0.1111111111111111,
              "#46039f"
             ],
             [
              0.2222222222222222,
              "#7201a8"
             ],
             [
              0.3333333333333333,
              "#9c179e"
             ],
             [
              0.4444444444444444,
              "#bd3786"
             ],
             [
              0.5555555555555556,
              "#d8576b"
             ],
             [
              0.6666666666666666,
              "#ed7953"
             ],
             [
              0.7777777777777778,
              "#fb9f3a"
             ],
             [
              0.8888888888888888,
              "#fdca26"
             ],
             [
              1,
              "#f0f921"
             ]
            ],
            "type": "histogram2dcontour"
           }
          ],
          "mesh3d": [
           {
            "colorbar": {
             "outlinewidth": 0,
             "ticks": ""
            },
            "type": "mesh3d"
           }
          ],
          "parcoords": [
           {
            "line": {
             "colorbar": {
              "outlinewidth": 0,
              "ticks": ""
             }
            },
            "type": "parcoords"
           }
          ],
          "pie": [
           {
            "automargin": true,
            "type": "pie"
           }
          ],
          "scatter": [
           {
            "marker": {
             "colorbar": {
              "outlinewidth": 0,
              "ticks": ""
             }
            },
            "type": "scatter"
           }
          ],
          "scatter3d": [
           {
            "line": {
             "colorbar": {
              "outlinewidth": 0,
              "ticks": ""
             }
            },
            "marker": {
             "colorbar": {
              "outlinewidth": 0,
              "ticks": ""
             }
            },
            "type": "scatter3d"
           }
          ],
          "scattercarpet": [
           {
            "marker": {
             "colorbar": {
              "outlinewidth": 0,
              "ticks": ""
             }
            },
            "type": "scattercarpet"
           }
          ],
          "scattergeo": [
           {
            "marker": {
             "colorbar": {
              "outlinewidth": 0,
              "ticks": ""
             }
            },
            "type": "scattergeo"
           }
          ],
          "scattergl": [
           {
            "marker": {
             "colorbar": {
              "outlinewidth": 0,
              "ticks": ""
             }
            },
            "type": "scattergl"
           }
          ],
          "scattermapbox": [
           {
            "marker": {
             "colorbar": {
              "outlinewidth": 0,
              "ticks": ""
             }
            },
            "type": "scattermapbox"
           }
          ],
          "scatterpolar": [
           {
            "marker": {
             "colorbar": {
              "outlinewidth": 0,
              "ticks": ""
             }
            },
            "type": "scatterpolar"
           }
          ],
          "scatterpolargl": [
           {
            "marker": {
             "colorbar": {
              "outlinewidth": 0,
              "ticks": ""
             }
            },
            "type": "scatterpolargl"
           }
          ],
          "scatterternary": [
           {
            "marker": {
             "colorbar": {
              "outlinewidth": 0,
              "ticks": ""
             }
            },
            "type": "scatterternary"
           }
          ],
          "surface": [
           {
            "colorbar": {
             "outlinewidth": 0,
             "ticks": ""
            },
            "colorscale": [
             [
              0,
              "#0d0887"
             ],
             [
              0.1111111111111111,
              "#46039f"
             ],
             [
              0.2222222222222222,
              "#7201a8"
             ],
             [
              0.3333333333333333,
              "#9c179e"
             ],
             [
              0.4444444444444444,
              "#bd3786"
             ],
             [
              0.5555555555555556,
              "#d8576b"
             ],
             [
              0.6666666666666666,
              "#ed7953"
             ],
             [
              0.7777777777777778,
              "#fb9f3a"
             ],
             [
              0.8888888888888888,
              "#fdca26"
             ],
             [
              1,
              "#f0f921"
             ]
            ],
            "type": "surface"
           }
          ],
          "table": [
           {
            "cells": {
             "fill": {
              "color": "#EBF0F8"
             },
             "line": {
              "color": "white"
             }
            },
            "header": {
             "fill": {
              "color": "#C8D4E3"
             },
             "line": {
              "color": "white"
             }
            },
            "type": "table"
           }
          ]
         },
         "layout": {
          "annotationdefaults": {
           "arrowcolor": "#2a3f5f",
           "arrowhead": 0,
           "arrowwidth": 1
          },
          "coloraxis": {
           "colorbar": {
            "outlinewidth": 0,
            "ticks": ""
           }
          },
          "colorscale": {
           "diverging": [
            [
             0,
             "#8e0152"
            ],
            [
             0.1,
             "#c51b7d"
            ],
            [
             0.2,
             "#de77ae"
            ],
            [
             0.3,
             "#f1b6da"
            ],
            [
             0.4,
             "#fde0ef"
            ],
            [
             0.5,
             "#f7f7f7"
            ],
            [
             0.6,
             "#e6f5d0"
            ],
            [
             0.7,
             "#b8e186"
            ],
            [
             0.8,
             "#7fbc41"
            ],
            [
             0.9,
             "#4d9221"
            ],
            [
             1,
             "#276419"
            ]
           ],
           "sequential": [
            [
             0,
             "#0d0887"
            ],
            [
             0.1111111111111111,
             "#46039f"
            ],
            [
             0.2222222222222222,
             "#7201a8"
            ],
            [
             0.3333333333333333,
             "#9c179e"
            ],
            [
             0.4444444444444444,
             "#bd3786"
            ],
            [
             0.5555555555555556,
             "#d8576b"
            ],
            [
             0.6666666666666666,
             "#ed7953"
            ],
            [
             0.7777777777777778,
             "#fb9f3a"
            ],
            [
             0.8888888888888888,
             "#fdca26"
            ],
            [
             1,
             "#f0f921"
            ]
           ],
           "sequentialminus": [
            [
             0,
             "#0d0887"
            ],
            [
             0.1111111111111111,
             "#46039f"
            ],
            [
             0.2222222222222222,
             "#7201a8"
            ],
            [
             0.3333333333333333,
             "#9c179e"
            ],
            [
             0.4444444444444444,
             "#bd3786"
            ],
            [
             0.5555555555555556,
             "#d8576b"
            ],
            [
             0.6666666666666666,
             "#ed7953"
            ],
            [
             0.7777777777777778,
             "#fb9f3a"
            ],
            [
             0.8888888888888888,
             "#fdca26"
            ],
            [
             1,
             "#f0f921"
            ]
           ]
          },
          "colorway": [
           "#636efa",
           "#EF553B",
           "#00cc96",
           "#ab63fa",
           "#FFA15A",
           "#19d3f3",
           "#FF6692",
           "#B6E880",
           "#FF97FF",
           "#FECB52"
          ],
          "font": {
           "color": "#2a3f5f"
          },
          "geo": {
           "bgcolor": "white",
           "lakecolor": "white",
           "landcolor": "#E5ECF6",
           "showlakes": true,
           "showland": true,
           "subunitcolor": "white"
          },
          "hoverlabel": {
           "align": "left"
          },
          "hovermode": "closest",
          "mapbox": {
           "style": "light"
          },
          "paper_bgcolor": "white",
          "plot_bgcolor": "#E5ECF6",
          "polar": {
           "angularaxis": {
            "gridcolor": "white",
            "linecolor": "white",
            "ticks": ""
           },
           "bgcolor": "#E5ECF6",
           "radialaxis": {
            "gridcolor": "white",
            "linecolor": "white",
            "ticks": ""
           }
          },
          "scene": {
           "xaxis": {
            "backgroundcolor": "#E5ECF6",
            "gridcolor": "white",
            "gridwidth": 2,
            "linecolor": "white",
            "showbackground": true,
            "ticks": "",
            "zerolinecolor": "white"
           },
           "yaxis": {
            "backgroundcolor": "#E5ECF6",
            "gridcolor": "white",
            "gridwidth": 2,
            "linecolor": "white",
            "showbackground": true,
            "ticks": "",
            "zerolinecolor": "white"
           },
           "zaxis": {
            "backgroundcolor": "#E5ECF6",
            "gridcolor": "white",
            "gridwidth": 2,
            "linecolor": "white",
            "showbackground": true,
            "ticks": "",
            "zerolinecolor": "white"
           }
          },
          "shapedefaults": {
           "line": {
            "color": "#2a3f5f"
           }
          },
          "ternary": {
           "aaxis": {
            "gridcolor": "white",
            "linecolor": "white",
            "ticks": ""
           },
           "baxis": {
            "gridcolor": "white",
            "linecolor": "white",
            "ticks": ""
           },
           "bgcolor": "#E5ECF6",
           "caxis": {
            "gridcolor": "white",
            "linecolor": "white",
            "ticks": ""
           }
          },
          "title": {
           "x": 0.05
          },
          "xaxis": {
           "automargin": true,
           "gridcolor": "white",
           "linecolor": "white",
           "ticks": "",
           "title": {
            "standoff": 15
           },
           "zerolinecolor": "white",
           "zerolinewidth": 2
          },
          "yaxis": {
           "automargin": true,
           "gridcolor": "white",
           "linecolor": "white",
           "ticks": "",
           "title": {
            "standoff": 15
           },
           "zerolinecolor": "white",
           "zerolinewidth": 2
          }
         }
        },
        "title": {
         "text": "Yield in high vs low temperature Anomaly"
        },
        "xaxis": {
         "tickangle": 45,
         "title": {
          "text": "Crop Type"
         }
        },
        "yaxis": {
         "title": {
          "text": "Yield per Hectare"
         }
        }
       }
      },
      "text/html": [
       "<div>\n",
       "        \n",
       "        \n",
       "            <div id=\"ea36be35-77d4-4f0c-b94d-376d221ddab1\" class=\"plotly-graph-div\" style=\"height:525px; width:100%;\"></div>\n",
       "            <script type=\"text/javascript\">\n",
       "                require([\"plotly\"], function(Plotly) {\n",
       "                    window.PLOTLYENV=window.PLOTLYENV || {};\n",
       "                    \n",
       "                if (document.getElementById(\"ea36be35-77d4-4f0c-b94d-376d221ddab1\")) {\n",
       "                    Plotly.newPlot(\n",
       "                        'ea36be35-77d4-4f0c-b94d-376d221ddab1',\n",
       "                        [{\"name\": \"high\", \"type\": \"bar\", \"x\": [\"Barley\", \"Maize\", \"Millet\", \"Rice\", \"Sorghum\", \"Wheat\"], \"y\": [264857495.0, 450261303.0, 55939892.0, 264996551.0, 113150759.0, 328412749.0]}, {\"name\": \"low\", \"type\": \"bar\", \"x\": [\"Barley\", \"Maize\", \"Millet\", \"Rice\", \"Sorghum\", \"Wheat\"], \"y\": [343775426.0, 990381922.0, 93654532.0, 643629657.0, 265219123.0, 454985991.0]}],\n",
       "                        {\"barmode\": \"group\", \"template\": {\"data\": {\"bar\": [{\"error_x\": {\"color\": \"#2a3f5f\"}, \"error_y\": {\"color\": \"#2a3f5f\"}, \"marker\": {\"line\": {\"color\": \"#E5ECF6\", \"width\": 0.5}}, \"type\": \"bar\"}], \"barpolar\": [{\"marker\": {\"line\": {\"color\": \"#E5ECF6\", \"width\": 0.5}}, \"type\": \"barpolar\"}], \"carpet\": [{\"aaxis\": {\"endlinecolor\": \"#2a3f5f\", \"gridcolor\": \"white\", \"linecolor\": \"white\", \"minorgridcolor\": \"white\", \"startlinecolor\": \"#2a3f5f\"}, \"baxis\": {\"endlinecolor\": \"#2a3f5f\", \"gridcolor\": \"white\", \"linecolor\": \"white\", \"minorgridcolor\": \"white\", \"startlinecolor\": \"#2a3f5f\"}, \"type\": \"carpet\"}], \"choropleth\": [{\"colorbar\": {\"outlinewidth\": 0, \"ticks\": \"\"}, \"type\": \"choropleth\"}], \"contour\": [{\"colorbar\": {\"outlinewidth\": 0, \"ticks\": \"\"}, \"colorscale\": [[0.0, \"#0d0887\"], [0.1111111111111111, \"#46039f\"], [0.2222222222222222, \"#7201a8\"], [0.3333333333333333, \"#9c179e\"], [0.4444444444444444, \"#bd3786\"], [0.5555555555555556, \"#d8576b\"], [0.6666666666666666, \"#ed7953\"], [0.7777777777777778, \"#fb9f3a\"], [0.8888888888888888, \"#fdca26\"], [1.0, \"#f0f921\"]], \"type\": \"contour\"}], \"contourcarpet\": [{\"colorbar\": {\"outlinewidth\": 0, \"ticks\": \"\"}, \"type\": \"contourcarpet\"}], \"heatmap\": [{\"colorbar\": {\"outlinewidth\": 0, \"ticks\": \"\"}, \"colorscale\": [[0.0, \"#0d0887\"], [0.1111111111111111, \"#46039f\"], [0.2222222222222222, \"#7201a8\"], [0.3333333333333333, \"#9c179e\"], [0.4444444444444444, \"#bd3786\"], [0.5555555555555556, \"#d8576b\"], [0.6666666666666666, \"#ed7953\"], [0.7777777777777778, \"#fb9f3a\"], [0.8888888888888888, \"#fdca26\"], [1.0, \"#f0f921\"]], \"type\": \"heatmap\"}], \"heatmapgl\": [{\"colorbar\": {\"outlinewidth\": 0, \"ticks\": \"\"}, \"colorscale\": [[0.0, \"#0d0887\"], [0.1111111111111111, \"#46039f\"], [0.2222222222222222, \"#7201a8\"], [0.3333333333333333, \"#9c179e\"], [0.4444444444444444, \"#bd3786\"], [0.5555555555555556, \"#d8576b\"], [0.6666666666666666, \"#ed7953\"], [0.7777777777777778, \"#fb9f3a\"], [0.8888888888888888, \"#fdca26\"], [1.0, \"#f0f921\"]], \"type\": \"heatmapgl\"}], \"histogram\": [{\"marker\": {\"colorbar\": {\"outlinewidth\": 0, \"ticks\": \"\"}}, \"type\": \"histogram\"}], \"histogram2d\": [{\"colorbar\": {\"outlinewidth\": 0, \"ticks\": \"\"}, \"colorscale\": [[0.0, \"#0d0887\"], [0.1111111111111111, \"#46039f\"], [0.2222222222222222, \"#7201a8\"], [0.3333333333333333, \"#9c179e\"], [0.4444444444444444, \"#bd3786\"], [0.5555555555555556, \"#d8576b\"], [0.6666666666666666, \"#ed7953\"], [0.7777777777777778, \"#fb9f3a\"], [0.8888888888888888, \"#fdca26\"], [1.0, \"#f0f921\"]], \"type\": \"histogram2d\"}], \"histogram2dcontour\": [{\"colorbar\": {\"outlinewidth\": 0, \"ticks\": \"\"}, \"colorscale\": [[0.0, \"#0d0887\"], [0.1111111111111111, \"#46039f\"], [0.2222222222222222, \"#7201a8\"], [0.3333333333333333, \"#9c179e\"], [0.4444444444444444, \"#bd3786\"], [0.5555555555555556, \"#d8576b\"], [0.6666666666666666, \"#ed7953\"], [0.7777777777777778, \"#fb9f3a\"], [0.8888888888888888, \"#fdca26\"], [1.0, \"#f0f921\"]], \"type\": \"histogram2dcontour\"}], \"mesh3d\": [{\"colorbar\": {\"outlinewidth\": 0, \"ticks\": \"\"}, \"type\": \"mesh3d\"}], \"parcoords\": [{\"line\": {\"colorbar\": {\"outlinewidth\": 0, \"ticks\": \"\"}}, \"type\": \"parcoords\"}], \"pie\": [{\"automargin\": true, \"type\": \"pie\"}], \"scatter\": [{\"marker\": {\"colorbar\": {\"outlinewidth\": 0, \"ticks\": \"\"}}, \"type\": \"scatter\"}], \"scatter3d\": [{\"line\": {\"colorbar\": {\"outlinewidth\": 0, \"ticks\": \"\"}}, \"marker\": {\"colorbar\": {\"outlinewidth\": 0, \"ticks\": \"\"}}, \"type\": \"scatter3d\"}], \"scattercarpet\": [{\"marker\": {\"colorbar\": {\"outlinewidth\": 0, \"ticks\": \"\"}}, \"type\": \"scattercarpet\"}], \"scattergeo\": [{\"marker\": {\"colorbar\": {\"outlinewidth\": 0, \"ticks\": \"\"}}, \"type\": \"scattergeo\"}], \"scattergl\": [{\"marker\": {\"colorbar\": {\"outlinewidth\": 0, \"ticks\": \"\"}}, \"type\": \"scattergl\"}], \"scattermapbox\": [{\"marker\": {\"colorbar\": {\"outlinewidth\": 0, \"ticks\": \"\"}}, \"type\": \"scattermapbox\"}], \"scatterpolar\": [{\"marker\": {\"colorbar\": {\"outlinewidth\": 0, \"ticks\": \"\"}}, \"type\": \"scatterpolar\"}], \"scatterpolargl\": [{\"marker\": {\"colorbar\": {\"outlinewidth\": 0, \"ticks\": \"\"}}, \"type\": \"scatterpolargl\"}], \"scatterternary\": [{\"marker\": {\"colorbar\": {\"outlinewidth\": 0, \"ticks\": \"\"}}, \"type\": \"scatterternary\"}], \"surface\": [{\"colorbar\": {\"outlinewidth\": 0, \"ticks\": \"\"}, \"colorscale\": [[0.0, \"#0d0887\"], [0.1111111111111111, \"#46039f\"], [0.2222222222222222, \"#7201a8\"], [0.3333333333333333, \"#9c179e\"], [0.4444444444444444, \"#bd3786\"], [0.5555555555555556, \"#d8576b\"], [0.6666666666666666, \"#ed7953\"], [0.7777777777777778, \"#fb9f3a\"], [0.8888888888888888, \"#fdca26\"], [1.0, \"#f0f921\"]], \"type\": \"surface\"}], \"table\": [{\"cells\": {\"fill\": {\"color\": \"#EBF0F8\"}, \"line\": {\"color\": \"white\"}}, \"header\": {\"fill\": {\"color\": \"#C8D4E3\"}, \"line\": {\"color\": \"white\"}}, \"type\": \"table\"}]}, \"layout\": {\"annotationdefaults\": {\"arrowcolor\": \"#2a3f5f\", \"arrowhead\": 0, \"arrowwidth\": 1}, \"coloraxis\": {\"colorbar\": {\"outlinewidth\": 0, \"ticks\": \"\"}}, \"colorscale\": {\"diverging\": [[0, \"#8e0152\"], [0.1, \"#c51b7d\"], [0.2, \"#de77ae\"], [0.3, \"#f1b6da\"], [0.4, \"#fde0ef\"], [0.5, \"#f7f7f7\"], [0.6, \"#e6f5d0\"], [0.7, \"#b8e186\"], [0.8, \"#7fbc41\"], [0.9, \"#4d9221\"], [1, \"#276419\"]], \"sequential\": [[0.0, \"#0d0887\"], [0.1111111111111111, \"#46039f\"], [0.2222222222222222, \"#7201a8\"], [0.3333333333333333, \"#9c179e\"], [0.4444444444444444, \"#bd3786\"], [0.5555555555555556, \"#d8576b\"], [0.6666666666666666, \"#ed7953\"], [0.7777777777777778, \"#fb9f3a\"], [0.8888888888888888, \"#fdca26\"], [1.0, \"#f0f921\"]], \"sequentialminus\": [[0.0, \"#0d0887\"], [0.1111111111111111, \"#46039f\"], [0.2222222222222222, \"#7201a8\"], [0.3333333333333333, \"#9c179e\"], [0.4444444444444444, \"#bd3786\"], [0.5555555555555556, \"#d8576b\"], [0.6666666666666666, \"#ed7953\"], [0.7777777777777778, \"#fb9f3a\"], [0.8888888888888888, \"#fdca26\"], [1.0, \"#f0f921\"]]}, \"colorway\": [\"#636efa\", \"#EF553B\", \"#00cc96\", \"#ab63fa\", \"#FFA15A\", \"#19d3f3\", \"#FF6692\", \"#B6E880\", \"#FF97FF\", \"#FECB52\"], \"font\": {\"color\": \"#2a3f5f\"}, \"geo\": {\"bgcolor\": \"white\", \"lakecolor\": \"white\", \"landcolor\": \"#E5ECF6\", \"showlakes\": true, \"showland\": true, \"subunitcolor\": \"white\"}, \"hoverlabel\": {\"align\": \"left\"}, \"hovermode\": \"closest\", \"mapbox\": {\"style\": \"light\"}, \"paper_bgcolor\": \"white\", \"plot_bgcolor\": \"#E5ECF6\", \"polar\": {\"angularaxis\": {\"gridcolor\": \"white\", \"linecolor\": \"white\", \"ticks\": \"\"}, \"bgcolor\": \"#E5ECF6\", \"radialaxis\": {\"gridcolor\": \"white\", \"linecolor\": \"white\", \"ticks\": \"\"}}, \"scene\": {\"xaxis\": {\"backgroundcolor\": \"#E5ECF6\", \"gridcolor\": \"white\", \"gridwidth\": 2, \"linecolor\": \"white\", \"showbackground\": true, \"ticks\": \"\", \"zerolinecolor\": \"white\"}, \"yaxis\": {\"backgroundcolor\": \"#E5ECF6\", \"gridcolor\": \"white\", \"gridwidth\": 2, \"linecolor\": \"white\", \"showbackground\": true, \"ticks\": \"\", \"zerolinecolor\": \"white\"}, \"zaxis\": {\"backgroundcolor\": \"#E5ECF6\", \"gridcolor\": \"white\", \"gridwidth\": 2, \"linecolor\": \"white\", \"showbackground\": true, \"ticks\": \"\", \"zerolinecolor\": \"white\"}}, \"shapedefaults\": {\"line\": {\"color\": \"#2a3f5f\"}}, \"ternary\": {\"aaxis\": {\"gridcolor\": \"white\", \"linecolor\": \"white\", \"ticks\": \"\"}, \"baxis\": {\"gridcolor\": \"white\", \"linecolor\": \"white\", \"ticks\": \"\"}, \"bgcolor\": \"#E5ECF6\", \"caxis\": {\"gridcolor\": \"white\", \"linecolor\": \"white\", \"ticks\": \"\"}}, \"title\": {\"x\": 0.05}, \"xaxis\": {\"automargin\": true, \"gridcolor\": \"white\", \"linecolor\": \"white\", \"ticks\": \"\", \"title\": {\"standoff\": 15}, \"zerolinecolor\": \"white\", \"zerolinewidth\": 2}, \"yaxis\": {\"automargin\": true, \"gridcolor\": \"white\", \"linecolor\": \"white\", \"ticks\": \"\", \"title\": {\"standoff\": 15}, \"zerolinecolor\": \"white\", \"zerolinewidth\": 2}}}, \"title\": {\"text\": \"Yield in high vs low temperature Anomaly\"}, \"xaxis\": {\"tickangle\": 45, \"title\": {\"text\": \"Crop Type\"}}, \"yaxis\": {\"title\": {\"text\": \"Yield per Hectare\"}}},\n",
       "                        {\"responsive\": true}\n",
       "                    ).then(function(){\n",
       "                            \n",
       "var gd = document.getElementById('ea36be35-77d4-4f0c-b94d-376d221ddab1');\n",
       "var x = new MutationObserver(function (mutations, observer) {{\n",
       "        var display = window.getComputedStyle(gd).display;\n",
       "        if (!display || display === 'none') {{\n",
       "            console.log([gd, 'removed!']);\n",
       "            Plotly.purge(gd);\n",
       "            observer.disconnect();\n",
       "        }}\n",
       "}});\n",
       "\n",
       "// Listen for the removal of the full notebook cells\n",
       "var notebookContainer = gd.closest('#notebook-container');\n",
       "if (notebookContainer) {{\n",
       "    x.observe(notebookContainer, {childList: true});\n",
       "}}\n",
       "\n",
       "// Listen for the clearing of the current output cell\n",
       "var outputEl = gd.closest('.output');\n",
       "if (outputEl) {{\n",
       "    x.observe(outputEl, {childList: true});\n",
       "}}\n",
       "\n",
       "                        })\n",
       "                };\n",
       "                });\n",
       "            </script>\n",
       "        </div>"
      ]
     },
     "metadata": {},
     "output_type": "display_data"
    },
    {
     "data": {
      "application/vnd.plotly.v1+json": {
       "config": {
        "plotlyServerURL": "https://plot.ly"
       },
       "data": [
        {
         "name": "high",
         "type": "bar",
         "x": [
          "Barley",
          "Maize",
          "Millet",
          "Rice",
          "Sorghum",
          "Wheat"
         ],
         "y": [
          264857495,
          450261303,
          55939892,
          264996551,
          113150759,
          328412749
         ]
        },
        {
         "name": "low",
         "type": "bar",
         "x": [
          "Barley",
          "Maize",
          "Millet",
          "Rice",
          "Sorghum",
          "Wheat"
         ],
         "y": [
          343775426,
          990381922,
          93654532,
          643629657,
          265219123,
          454985991
         ]
        }
       ],
       "layout": {
        "barmode": "group",
        "template": {
         "data": {
          "bar": [
           {
            "error_x": {
             "color": "#2a3f5f"
            },
            "error_y": {
             "color": "#2a3f5f"
            },
            "marker": {
             "line": {
              "color": "#E5ECF6",
              "width": 0.5
             }
            },
            "type": "bar"
           }
          ],
          "barpolar": [
           {
            "marker": {
             "line": {
              "color": "#E5ECF6",
              "width": 0.5
             }
            },
            "type": "barpolar"
           }
          ],
          "carpet": [
           {
            "aaxis": {
             "endlinecolor": "#2a3f5f",
             "gridcolor": "white",
             "linecolor": "white",
             "minorgridcolor": "white",
             "startlinecolor": "#2a3f5f"
            },
            "baxis": {
             "endlinecolor": "#2a3f5f",
             "gridcolor": "white",
             "linecolor": "white",
             "minorgridcolor": "white",
             "startlinecolor": "#2a3f5f"
            },
            "type": "carpet"
           }
          ],
          "choropleth": [
           {
            "colorbar": {
             "outlinewidth": 0,
             "ticks": ""
            },
            "type": "choropleth"
           }
          ],
          "contour": [
           {
            "colorbar": {
             "outlinewidth": 0,
             "ticks": ""
            },
            "colorscale": [
             [
              0,
              "#0d0887"
             ],
             [
              0.1111111111111111,
              "#46039f"
             ],
             [
              0.2222222222222222,
              "#7201a8"
             ],
             [
              0.3333333333333333,
              "#9c179e"
             ],
             [
              0.4444444444444444,
              "#bd3786"
             ],
             [
              0.5555555555555556,
              "#d8576b"
             ],
             [
              0.6666666666666666,
              "#ed7953"
             ],
             [
              0.7777777777777778,
              "#fb9f3a"
             ],
             [
              0.8888888888888888,
              "#fdca26"
             ],
             [
              1,
              "#f0f921"
             ]
            ],
            "type": "contour"
           }
          ],
          "contourcarpet": [
           {
            "colorbar": {
             "outlinewidth": 0,
             "ticks": ""
            },
            "type": "contourcarpet"
           }
          ],
          "heatmap": [
           {
            "colorbar": {
             "outlinewidth": 0,
             "ticks": ""
            },
            "colorscale": [
             [
              0,
              "#0d0887"
             ],
             [
              0.1111111111111111,
              "#46039f"
             ],
             [
              0.2222222222222222,
              "#7201a8"
             ],
             [
              0.3333333333333333,
              "#9c179e"
             ],
             [
              0.4444444444444444,
              "#bd3786"
             ],
             [
              0.5555555555555556,
              "#d8576b"
             ],
             [
              0.6666666666666666,
              "#ed7953"
             ],
             [
              0.7777777777777778,
              "#fb9f3a"
             ],
             [
              0.8888888888888888,
              "#fdca26"
             ],
             [
              1,
              "#f0f921"
             ]
            ],
            "type": "heatmap"
           }
          ],
          "heatmapgl": [
           {
            "colorbar": {
             "outlinewidth": 0,
             "ticks": ""
            },
            "colorscale": [
             [
              0,
              "#0d0887"
             ],
             [
              0.1111111111111111,
              "#46039f"
             ],
             [
              0.2222222222222222,
              "#7201a8"
             ],
             [
              0.3333333333333333,
              "#9c179e"
             ],
             [
              0.4444444444444444,
              "#bd3786"
             ],
             [
              0.5555555555555556,
              "#d8576b"
             ],
             [
              0.6666666666666666,
              "#ed7953"
             ],
             [
              0.7777777777777778,
              "#fb9f3a"
             ],
             [
              0.8888888888888888,
              "#fdca26"
             ],
             [
              1,
              "#f0f921"
             ]
            ],
            "type": "heatmapgl"
           }
          ],
          "histogram": [
           {
            "marker": {
             "colorbar": {
              "outlinewidth": 0,
              "ticks": ""
             }
            },
            "type": "histogram"
           }
          ],
          "histogram2d": [
           {
            "colorbar": {
             "outlinewidth": 0,
             "ticks": ""
            },
            "colorscale": [
             [
              0,
              "#0d0887"
             ],
             [
              0.1111111111111111,
              "#46039f"
             ],
             [
              0.2222222222222222,
              "#7201a8"
             ],
             [
              0.3333333333333333,
              "#9c179e"
             ],
             [
              0.4444444444444444,
              "#bd3786"
             ],
             [
              0.5555555555555556,
              "#d8576b"
             ],
             [
              0.6666666666666666,
              "#ed7953"
             ],
             [
              0.7777777777777778,
              "#fb9f3a"
             ],
             [
              0.8888888888888888,
              "#fdca26"
             ],
             [
              1,
              "#f0f921"
             ]
            ],
            "type": "histogram2d"
           }
          ],
          "histogram2dcontour": [
           {
            "colorbar": {
             "outlinewidth": 0,
             "ticks": ""
            },
            "colorscale": [
             [
              0,
              "#0d0887"
             ],
             [
              0.1111111111111111,
              "#46039f"
             ],
             [
              0.2222222222222222,
              "#7201a8"
             ],
             [
              0.3333333333333333,
              "#9c179e"
             ],
             [
              0.4444444444444444,
              "#bd3786"
             ],
             [
              0.5555555555555556,
              "#d8576b"
             ],
             [
              0.6666666666666666,
              "#ed7953"
             ],
             [
              0.7777777777777778,
              "#fb9f3a"
             ],
             [
              0.8888888888888888,
              "#fdca26"
             ],
             [
              1,
              "#f0f921"
             ]
            ],
            "type": "histogram2dcontour"
           }
          ],
          "mesh3d": [
           {
            "colorbar": {
             "outlinewidth": 0,
             "ticks": ""
            },
            "type": "mesh3d"
           }
          ],
          "parcoords": [
           {
            "line": {
             "colorbar": {
              "outlinewidth": 0,
              "ticks": ""
             }
            },
            "type": "parcoords"
           }
          ],
          "pie": [
           {
            "automargin": true,
            "type": "pie"
           }
          ],
          "scatter": [
           {
            "marker": {
             "colorbar": {
              "outlinewidth": 0,
              "ticks": ""
             }
            },
            "type": "scatter"
           }
          ],
          "scatter3d": [
           {
            "line": {
             "colorbar": {
              "outlinewidth": 0,
              "ticks": ""
             }
            },
            "marker": {
             "colorbar": {
              "outlinewidth": 0,
              "ticks": ""
             }
            },
            "type": "scatter3d"
           }
          ],
          "scattercarpet": [
           {
            "marker": {
             "colorbar": {
              "outlinewidth": 0,
              "ticks": ""
             }
            },
            "type": "scattercarpet"
           }
          ],
          "scattergeo": [
           {
            "marker": {
             "colorbar": {
              "outlinewidth": 0,
              "ticks": ""
             }
            },
            "type": "scattergeo"
           }
          ],
          "scattergl": [
           {
            "marker": {
             "colorbar": {
              "outlinewidth": 0,
              "ticks": ""
             }
            },
            "type": "scattergl"
           }
          ],
          "scattermapbox": [
           {
            "marker": {
             "colorbar": {
              "outlinewidth": 0,
              "ticks": ""
             }
            },
            "type": "scattermapbox"
           }
          ],
          "scatterpolar": [
           {
            "marker": {
             "colorbar": {
              "outlinewidth": 0,
              "ticks": ""
             }
            },
            "type": "scatterpolar"
           }
          ],
          "scatterpolargl": [
           {
            "marker": {
             "colorbar": {
              "outlinewidth": 0,
              "ticks": ""
             }
            },
            "type": "scatterpolargl"
           }
          ],
          "scatterternary": [
           {
            "marker": {
             "colorbar": {
              "outlinewidth": 0,
              "ticks": ""
             }
            },
            "type": "scatterternary"
           }
          ],
          "surface": [
           {
            "colorbar": {
             "outlinewidth": 0,
             "ticks": ""
            },
            "colorscale": [
             [
              0,
              "#0d0887"
             ],
             [
              0.1111111111111111,
              "#46039f"
             ],
             [
              0.2222222222222222,
              "#7201a8"
             ],
             [
              0.3333333333333333,
              "#9c179e"
             ],
             [
              0.4444444444444444,
              "#bd3786"
             ],
             [
              0.5555555555555556,
              "#d8576b"
             ],
             [
              0.6666666666666666,
              "#ed7953"
             ],
             [
              0.7777777777777778,
              "#fb9f3a"
             ],
             [
              0.8888888888888888,
              "#fdca26"
             ],
             [
              1,
              "#f0f921"
             ]
            ],
            "type": "surface"
           }
          ],
          "table": [
           {
            "cells": {
             "fill": {
              "color": "#EBF0F8"
             },
             "line": {
              "color": "white"
             }
            },
            "header": {
             "fill": {
              "color": "#C8D4E3"
             },
             "line": {
              "color": "white"
             }
            },
            "type": "table"
           }
          ]
         },
         "layout": {
          "annotationdefaults": {
           "arrowcolor": "#2a3f5f",
           "arrowhead": 0,
           "arrowwidth": 1
          },
          "coloraxis": {
           "colorbar": {
            "outlinewidth": 0,
            "ticks": ""
           }
          },
          "colorscale": {
           "diverging": [
            [
             0,
             "#8e0152"
            ],
            [
             0.1,
             "#c51b7d"
            ],
            [
             0.2,
             "#de77ae"
            ],
            [
             0.3,
             "#f1b6da"
            ],
            [
             0.4,
             "#fde0ef"
            ],
            [
             0.5,
             "#f7f7f7"
            ],
            [
             0.6,
             "#e6f5d0"
            ],
            [
             0.7,
             "#b8e186"
            ],
            [
             0.8,
             "#7fbc41"
            ],
            [
             0.9,
             "#4d9221"
            ],
            [
             1,
             "#276419"
            ]
           ],
           "sequential": [
            [
             0,
             "#0d0887"
            ],
            [
             0.1111111111111111,
             "#46039f"
            ],
            [
             0.2222222222222222,
             "#7201a8"
            ],
            [
             0.3333333333333333,
             "#9c179e"
            ],
            [
             0.4444444444444444,
             "#bd3786"
            ],
            [
             0.5555555555555556,
             "#d8576b"
            ],
            [
             0.6666666666666666,
             "#ed7953"
            ],
            [
             0.7777777777777778,
             "#fb9f3a"
            ],
            [
             0.8888888888888888,
             "#fdca26"
            ],
            [
             1,
             "#f0f921"
            ]
           ],
           "sequentialminus": [
            [
             0,
             "#0d0887"
            ],
            [
             0.1111111111111111,
             "#46039f"
            ],
            [
             0.2222222222222222,
             "#7201a8"
            ],
            [
             0.3333333333333333,
             "#9c179e"
            ],
            [
             0.4444444444444444,
             "#bd3786"
            ],
            [
             0.5555555555555556,
             "#d8576b"
            ],
            [
             0.6666666666666666,
             "#ed7953"
            ],
            [
             0.7777777777777778,
             "#fb9f3a"
            ],
            [
             0.8888888888888888,
             "#fdca26"
            ],
            [
             1,
             "#f0f921"
            ]
           ]
          },
          "colorway": [
           "#636efa",
           "#EF553B",
           "#00cc96",
           "#ab63fa",
           "#FFA15A",
           "#19d3f3",
           "#FF6692",
           "#B6E880",
           "#FF97FF",
           "#FECB52"
          ],
          "font": {
           "color": "#2a3f5f"
          },
          "geo": {
           "bgcolor": "white",
           "lakecolor": "white",
           "landcolor": "#E5ECF6",
           "showlakes": true,
           "showland": true,
           "subunitcolor": "white"
          },
          "hoverlabel": {
           "align": "left"
          },
          "hovermode": "closest",
          "mapbox": {
           "style": "light"
          },
          "paper_bgcolor": "white",
          "plot_bgcolor": "#E5ECF6",
          "polar": {
           "angularaxis": {
            "gridcolor": "white",
            "linecolor": "white",
            "ticks": ""
           },
           "bgcolor": "#E5ECF6",
           "radialaxis": {
            "gridcolor": "white",
            "linecolor": "white",
            "ticks": ""
           }
          },
          "scene": {
           "xaxis": {
            "backgroundcolor": "#E5ECF6",
            "gridcolor": "white",
            "gridwidth": 2,
            "linecolor": "white",
            "showbackground": true,
            "ticks": "",
            "zerolinecolor": "white"
           },
           "yaxis": {
            "backgroundcolor": "#E5ECF6",
            "gridcolor": "white",
            "gridwidth": 2,
            "linecolor": "white",
            "showbackground": true,
            "ticks": "",
            "zerolinecolor": "white"
           },
           "zaxis": {
            "backgroundcolor": "#E5ECF6",
            "gridcolor": "white",
            "gridwidth": 2,
            "linecolor": "white",
            "showbackground": true,
            "ticks": "",
            "zerolinecolor": "white"
           }
          },
          "shapedefaults": {
           "line": {
            "color": "#2a3f5f"
           }
          },
          "ternary": {
           "aaxis": {
            "gridcolor": "white",
            "linecolor": "white",
            "ticks": ""
           },
           "baxis": {
            "gridcolor": "white",
            "linecolor": "white",
            "ticks": ""
           },
           "bgcolor": "#E5ECF6",
           "caxis": {
            "gridcolor": "white",
            "linecolor": "white",
            "ticks": ""
           }
          },
          "title": {
           "x": 0.05
          },
          "xaxis": {
           "automargin": true,
           "gridcolor": "white",
           "linecolor": "white",
           "ticks": "",
           "title": {
            "standoff": 15
           },
           "zerolinecolor": "white",
           "zerolinewidth": 2
          },
          "yaxis": {
           "automargin": true,
           "gridcolor": "white",
           "linecolor": "white",
           "ticks": "",
           "title": {
            "standoff": 15
           },
           "zerolinecolor": "white",
           "zerolinewidth": 2
          }
         }
        },
        "title": {
         "text": "Yield in high vs low temperature Anomaly"
        },
        "xaxis": {
         "tickangle": 45,
         "title": {
          "text": "Crop Type"
         }
        },
        "yaxis": {
         "title": {
          "text": "Yield per Hectare"
         }
        }
       }
      },
      "text/html": [
       "<div>\n",
       "        \n",
       "        \n",
       "            <div id=\"9fca2df4-675d-43d5-8f31-ff3b7fceb183\" class=\"plotly-graph-div\" style=\"height:525px; width:100%;\"></div>\n",
       "            <script type=\"text/javascript\">\n",
       "                require([\"plotly\"], function(Plotly) {\n",
       "                    window.PLOTLYENV=window.PLOTLYENV || {};\n",
       "                    \n",
       "                if (document.getElementById(\"9fca2df4-675d-43d5-8f31-ff3b7fceb183\")) {\n",
       "                    Plotly.newPlot(\n",
       "                        '9fca2df4-675d-43d5-8f31-ff3b7fceb183',\n",
       "                        [{\"name\": \"high\", \"type\": \"bar\", \"x\": [\"Barley\", \"Maize\", \"Millet\", \"Rice\", \"Sorghum\", \"Wheat\"], \"y\": [264857495.0, 450261303.0, 55939892.0, 264996551.0, 113150759.0, 328412749.0]}, {\"name\": \"low\", \"type\": \"bar\", \"x\": [\"Barley\", \"Maize\", \"Millet\", \"Rice\", \"Sorghum\", \"Wheat\"], \"y\": [343775426.0, 990381922.0, 93654532.0, 643629657.0, 265219123.0, 454985991.0]}],\n",
       "                        {\"barmode\": \"group\", \"template\": {\"data\": {\"bar\": [{\"error_x\": {\"color\": \"#2a3f5f\"}, \"error_y\": {\"color\": \"#2a3f5f\"}, \"marker\": {\"line\": {\"color\": \"#E5ECF6\", \"width\": 0.5}}, \"type\": \"bar\"}], \"barpolar\": [{\"marker\": {\"line\": {\"color\": \"#E5ECF6\", \"width\": 0.5}}, \"type\": \"barpolar\"}], \"carpet\": [{\"aaxis\": {\"endlinecolor\": \"#2a3f5f\", \"gridcolor\": \"white\", \"linecolor\": \"white\", \"minorgridcolor\": \"white\", \"startlinecolor\": \"#2a3f5f\"}, \"baxis\": {\"endlinecolor\": \"#2a3f5f\", \"gridcolor\": \"white\", \"linecolor\": \"white\", \"minorgridcolor\": \"white\", \"startlinecolor\": \"#2a3f5f\"}, \"type\": \"carpet\"}], \"choropleth\": [{\"colorbar\": {\"outlinewidth\": 0, \"ticks\": \"\"}, \"type\": \"choropleth\"}], \"contour\": [{\"colorbar\": {\"outlinewidth\": 0, \"ticks\": \"\"}, \"colorscale\": [[0.0, \"#0d0887\"], [0.1111111111111111, \"#46039f\"], [0.2222222222222222, \"#7201a8\"], [0.3333333333333333, \"#9c179e\"], [0.4444444444444444, \"#bd3786\"], [0.5555555555555556, \"#d8576b\"], [0.6666666666666666, \"#ed7953\"], [0.7777777777777778, \"#fb9f3a\"], [0.8888888888888888, \"#fdca26\"], [1.0, \"#f0f921\"]], \"type\": \"contour\"}], \"contourcarpet\": [{\"colorbar\": {\"outlinewidth\": 0, \"ticks\": \"\"}, \"type\": \"contourcarpet\"}], \"heatmap\": [{\"colorbar\": {\"outlinewidth\": 0, \"ticks\": \"\"}, \"colorscale\": [[0.0, \"#0d0887\"], [0.1111111111111111, \"#46039f\"], [0.2222222222222222, \"#7201a8\"], [0.3333333333333333, \"#9c179e\"], [0.4444444444444444, \"#bd3786\"], [0.5555555555555556, \"#d8576b\"], [0.6666666666666666, \"#ed7953\"], [0.7777777777777778, \"#fb9f3a\"], [0.8888888888888888, \"#fdca26\"], [1.0, \"#f0f921\"]], \"type\": \"heatmap\"}], \"heatmapgl\": [{\"colorbar\": {\"outlinewidth\": 0, \"ticks\": \"\"}, \"colorscale\": [[0.0, \"#0d0887\"], [0.1111111111111111, \"#46039f\"], [0.2222222222222222, \"#7201a8\"], [0.3333333333333333, \"#9c179e\"], [0.4444444444444444, \"#bd3786\"], [0.5555555555555556, \"#d8576b\"], [0.6666666666666666, \"#ed7953\"], [0.7777777777777778, \"#fb9f3a\"], [0.8888888888888888, \"#fdca26\"], [1.0, \"#f0f921\"]], \"type\": \"heatmapgl\"}], \"histogram\": [{\"marker\": {\"colorbar\": {\"outlinewidth\": 0, \"ticks\": \"\"}}, \"type\": \"histogram\"}], \"histogram2d\": [{\"colorbar\": {\"outlinewidth\": 0, \"ticks\": \"\"}, \"colorscale\": [[0.0, \"#0d0887\"], [0.1111111111111111, \"#46039f\"], [0.2222222222222222, \"#7201a8\"], [0.3333333333333333, \"#9c179e\"], [0.4444444444444444, \"#bd3786\"], [0.5555555555555556, \"#d8576b\"], [0.6666666666666666, \"#ed7953\"], [0.7777777777777778, \"#fb9f3a\"], [0.8888888888888888, \"#fdca26\"], [1.0, \"#f0f921\"]], \"type\": \"histogram2d\"}], \"histogram2dcontour\": [{\"colorbar\": {\"outlinewidth\": 0, \"ticks\": \"\"}, \"colorscale\": [[0.0, \"#0d0887\"], [0.1111111111111111, \"#46039f\"], [0.2222222222222222, \"#7201a8\"], [0.3333333333333333, \"#9c179e\"], [0.4444444444444444, \"#bd3786\"], [0.5555555555555556, \"#d8576b\"], [0.6666666666666666, \"#ed7953\"], [0.7777777777777778, \"#fb9f3a\"], [0.8888888888888888, \"#fdca26\"], [1.0, \"#f0f921\"]], \"type\": \"histogram2dcontour\"}], \"mesh3d\": [{\"colorbar\": {\"outlinewidth\": 0, \"ticks\": \"\"}, \"type\": \"mesh3d\"}], \"parcoords\": [{\"line\": {\"colorbar\": {\"outlinewidth\": 0, \"ticks\": \"\"}}, \"type\": \"parcoords\"}], \"pie\": [{\"automargin\": true, \"type\": \"pie\"}], \"scatter\": [{\"marker\": {\"colorbar\": {\"outlinewidth\": 0, \"ticks\": \"\"}}, \"type\": \"scatter\"}], \"scatter3d\": [{\"line\": {\"colorbar\": {\"outlinewidth\": 0, \"ticks\": \"\"}}, \"marker\": {\"colorbar\": {\"outlinewidth\": 0, \"ticks\": \"\"}}, \"type\": \"scatter3d\"}], \"scattercarpet\": [{\"marker\": {\"colorbar\": {\"outlinewidth\": 0, \"ticks\": \"\"}}, \"type\": \"scattercarpet\"}], \"scattergeo\": [{\"marker\": {\"colorbar\": {\"outlinewidth\": 0, \"ticks\": \"\"}}, \"type\": \"scattergeo\"}], \"scattergl\": [{\"marker\": {\"colorbar\": {\"outlinewidth\": 0, \"ticks\": \"\"}}, \"type\": \"scattergl\"}], \"scattermapbox\": [{\"marker\": {\"colorbar\": {\"outlinewidth\": 0, \"ticks\": \"\"}}, \"type\": \"scattermapbox\"}], \"scatterpolar\": [{\"marker\": {\"colorbar\": {\"outlinewidth\": 0, \"ticks\": \"\"}}, \"type\": \"scatterpolar\"}], \"scatterpolargl\": [{\"marker\": {\"colorbar\": {\"outlinewidth\": 0, \"ticks\": \"\"}}, \"type\": \"scatterpolargl\"}], \"scatterternary\": [{\"marker\": {\"colorbar\": {\"outlinewidth\": 0, \"ticks\": \"\"}}, \"type\": \"scatterternary\"}], \"surface\": [{\"colorbar\": {\"outlinewidth\": 0, \"ticks\": \"\"}, \"colorscale\": [[0.0, \"#0d0887\"], [0.1111111111111111, \"#46039f\"], [0.2222222222222222, \"#7201a8\"], [0.3333333333333333, \"#9c179e\"], [0.4444444444444444, \"#bd3786\"], [0.5555555555555556, \"#d8576b\"], [0.6666666666666666, \"#ed7953\"], [0.7777777777777778, \"#fb9f3a\"], [0.8888888888888888, \"#fdca26\"], [1.0, \"#f0f921\"]], \"type\": \"surface\"}], \"table\": [{\"cells\": {\"fill\": {\"color\": \"#EBF0F8\"}, \"line\": {\"color\": \"white\"}}, \"header\": {\"fill\": {\"color\": \"#C8D4E3\"}, \"line\": {\"color\": \"white\"}}, \"type\": \"table\"}]}, \"layout\": {\"annotationdefaults\": {\"arrowcolor\": \"#2a3f5f\", \"arrowhead\": 0, \"arrowwidth\": 1}, \"coloraxis\": {\"colorbar\": {\"outlinewidth\": 0, \"ticks\": \"\"}}, \"colorscale\": {\"diverging\": [[0, \"#8e0152\"], [0.1, \"#c51b7d\"], [0.2, \"#de77ae\"], [0.3, \"#f1b6da\"], [0.4, \"#fde0ef\"], [0.5, \"#f7f7f7\"], [0.6, \"#e6f5d0\"], [0.7, \"#b8e186\"], [0.8, \"#7fbc41\"], [0.9, \"#4d9221\"], [1, \"#276419\"]], \"sequential\": [[0.0, \"#0d0887\"], [0.1111111111111111, \"#46039f\"], [0.2222222222222222, \"#7201a8\"], [0.3333333333333333, \"#9c179e\"], [0.4444444444444444, \"#bd3786\"], [0.5555555555555556, \"#d8576b\"], [0.6666666666666666, \"#ed7953\"], [0.7777777777777778, \"#fb9f3a\"], [0.8888888888888888, \"#fdca26\"], [1.0, \"#f0f921\"]], \"sequentialminus\": [[0.0, \"#0d0887\"], [0.1111111111111111, \"#46039f\"], [0.2222222222222222, \"#7201a8\"], [0.3333333333333333, \"#9c179e\"], [0.4444444444444444, \"#bd3786\"], [0.5555555555555556, \"#d8576b\"], [0.6666666666666666, \"#ed7953\"], [0.7777777777777778, \"#fb9f3a\"], [0.8888888888888888, \"#fdca26\"], [1.0, \"#f0f921\"]]}, \"colorway\": [\"#636efa\", \"#EF553B\", \"#00cc96\", \"#ab63fa\", \"#FFA15A\", \"#19d3f3\", \"#FF6692\", \"#B6E880\", \"#FF97FF\", \"#FECB52\"], \"font\": {\"color\": \"#2a3f5f\"}, \"geo\": {\"bgcolor\": \"white\", \"lakecolor\": \"white\", \"landcolor\": \"#E5ECF6\", \"showlakes\": true, \"showland\": true, \"subunitcolor\": \"white\"}, \"hoverlabel\": {\"align\": \"left\"}, \"hovermode\": \"closest\", \"mapbox\": {\"style\": \"light\"}, \"paper_bgcolor\": \"white\", \"plot_bgcolor\": \"#E5ECF6\", \"polar\": {\"angularaxis\": {\"gridcolor\": \"white\", \"linecolor\": \"white\", \"ticks\": \"\"}, \"bgcolor\": \"#E5ECF6\", \"radialaxis\": {\"gridcolor\": \"white\", \"linecolor\": \"white\", \"ticks\": \"\"}}, \"scene\": {\"xaxis\": {\"backgroundcolor\": \"#E5ECF6\", \"gridcolor\": \"white\", \"gridwidth\": 2, \"linecolor\": \"white\", \"showbackground\": true, \"ticks\": \"\", \"zerolinecolor\": \"white\"}, \"yaxis\": {\"backgroundcolor\": \"#E5ECF6\", \"gridcolor\": \"white\", \"gridwidth\": 2, \"linecolor\": \"white\", \"showbackground\": true, \"ticks\": \"\", \"zerolinecolor\": \"white\"}, \"zaxis\": {\"backgroundcolor\": \"#E5ECF6\", \"gridcolor\": \"white\", \"gridwidth\": 2, \"linecolor\": \"white\", \"showbackground\": true, \"ticks\": \"\", \"zerolinecolor\": \"white\"}}, \"shapedefaults\": {\"line\": {\"color\": \"#2a3f5f\"}}, \"ternary\": {\"aaxis\": {\"gridcolor\": \"white\", \"linecolor\": \"white\", \"ticks\": \"\"}, \"baxis\": {\"gridcolor\": \"white\", \"linecolor\": \"white\", \"ticks\": \"\"}, \"bgcolor\": \"#E5ECF6\", \"caxis\": {\"gridcolor\": \"white\", \"linecolor\": \"white\", \"ticks\": \"\"}}, \"title\": {\"x\": 0.05}, \"xaxis\": {\"automargin\": true, \"gridcolor\": \"white\", \"linecolor\": \"white\", \"ticks\": \"\", \"title\": {\"standoff\": 15}, \"zerolinecolor\": \"white\", \"zerolinewidth\": 2}, \"yaxis\": {\"automargin\": true, \"gridcolor\": \"white\", \"linecolor\": \"white\", \"ticks\": \"\", \"title\": {\"standoff\": 15}, \"zerolinecolor\": \"white\", \"zerolinewidth\": 2}}}, \"title\": {\"text\": \"Yield in high vs low temperature Anomaly\"}, \"xaxis\": {\"tickangle\": 45, \"title\": {\"text\": \"Crop Type\"}}, \"yaxis\": {\"title\": {\"text\": \"Yield per Hectare\"}}},\n",
       "                        {\"responsive\": true}\n",
       "                    ).then(function(){\n",
       "                            \n",
       "var gd = document.getElementById('9fca2df4-675d-43d5-8f31-ff3b7fceb183');\n",
       "var x = new MutationObserver(function (mutations, observer) {{\n",
       "        var display = window.getComputedStyle(gd).display;\n",
       "        if (!display || display === 'none') {{\n",
       "            console.log([gd, 'removed!']);\n",
       "            Plotly.purge(gd);\n",
       "            observer.disconnect();\n",
       "        }}\n",
       "}});\n",
       "\n",
       "// Listen for the removal of the full notebook cells\n",
       "var notebookContainer = gd.closest('#notebook-container');\n",
       "if (notebookContainer) {{\n",
       "    x.observe(notebookContainer, {childList: true});\n",
       "}}\n",
       "\n",
       "// Listen for the clearing of the current output cell\n",
       "var outputEl = gd.closest('.output');\n",
       "if (outputEl) {{\n",
       "    x.observe(outputEl, {childList: true});\n",
       "}}\n",
       "\n",
       "                        })\n",
       "                };\n",
       "                });\n",
       "            </script>\n",
       "        </div>"
      ]
     },
     "metadata": {},
     "output_type": "display_data"
    }
   ],
   "source": [
    "import plotly.graph_objects as go\n",
    "regions=df_crop_temp_high_low_i['Item']\n",
    "high = df_crop_temp_high_low_i['yield_high']\n",
    "low =df_crop_temp_high_low_i['yield_low']\n",
    "fig = go.Figure(data=[\n",
    "    go.Bar(name='high', x=regions, y=high),\n",
    "    go.Bar(name='low', x=regions, y=low)\n",
    "])\n",
    "# Change the bar mode\n",
    "fig.update_layout(barmode='group', xaxis_tickangle = 45, title = 'Yield in high vs low temperature Anomaly', \n",
    "xaxis_title=\"Crop Type\",\n",
    "yaxis_title=\"Yield per Hectare\")                  \n",
    "\n",
    "fig.show()"
   ]
  },
  {
   "cell_type": "markdown",
   "metadata": {},
   "source": [
    "# Hypothesis testing"
   ]
  },
  {
   "cell_type": "code",
   "execution_count": 109,
   "metadata": {},
   "outputs": [],
   "source": [
    "import statsmodels.api as sm\n",
    "from statsmodels.formula.api import ols\n",
    "import seaborn as sns\n",
    "from scipy import stats"
   ]
  },
  {
   "cell_type": "code",
   "execution_count": 55,
   "metadata": {},
   "outputs": [],
   "source": [
    "# def GetByReg(df):\n",
    "#     product =df_crop['Item'].unique()\n",
    "#     for prod in product:\n",
    "#     globals()[prod] = df_crop.loc[df_crop['Item'] == prod]\n",
    "#     return globals()[prod] "
   ]
  },
  {
   "cell_type": "code",
   "execution_count": 56,
   "metadata": {},
   "outputs": [
    {
     "data": {
      "text/html": [
       "<div>\n",
       "<style scoped>\n",
       "    .dataframe tbody tr th:only-of-type {\n",
       "        vertical-align: middle;\n",
       "    }\n",
       "\n",
       "    .dataframe tbody tr th {\n",
       "        vertical-align: top;\n",
       "    }\n",
       "\n",
       "    .dataframe thead th {\n",
       "        text-align: right;\n",
       "    }\n",
       "</style>\n",
       "<table border=\"1\" class=\"dataframe\">\n",
       "  <thead>\n",
       "    <tr style=\"text-align: right;\">\n",
       "      <th></th>\n",
       "      <th>Area Code_x</th>\n",
       "      <th>Area</th>\n",
       "      <th>Months Code</th>\n",
       "      <th>Months</th>\n",
       "      <th>Year</th>\n",
       "      <th>temperature</th>\n",
       "      <th>Area Code_y</th>\n",
       "      <th>Item Code</th>\n",
       "      <th>Item</th>\n",
       "      <th>yield</th>\n",
       "      <th>region</th>\n",
       "      <th>Country Code</th>\n",
       "    </tr>\n",
       "  </thead>\n",
       "  <tbody>\n",
       "    <tr>\n",
       "      <th>0</th>\n",
       "      <td>2</td>\n",
       "      <td>Afghanistan</td>\n",
       "      <td>7001</td>\n",
       "      <td>January</td>\n",
       "      <td>1961</td>\n",
       "      <td>0.777</td>\n",
       "      <td>2.0</td>\n",
       "      <td>44.0</td>\n",
       "      <td>Barley</td>\n",
       "      <td>10800.0</td>\n",
       "      <td>Southern_Asia</td>\n",
       "      <td>2.0</td>\n",
       "    </tr>\n",
       "    <tr>\n",
       "      <th>1</th>\n",
       "      <td>25</td>\n",
       "      <td>Solomon Islands</td>\n",
       "      <td>7005</td>\n",
       "      <td>May</td>\n",
       "      <td>1961</td>\n",
       "      <td>0.233</td>\n",
       "      <td>25.0</td>\n",
       "      <td>27.0</td>\n",
       "      <td>Rice</td>\n",
       "      <td>17391.0</td>\n",
       "      <td>World</td>\n",
       "      <td>25.0</td>\n",
       "    </tr>\n",
       "    <tr>\n",
       "      <th>3</th>\n",
       "      <td>25</td>\n",
       "      <td>Solomon Islands</td>\n",
       "      <td>7006</td>\n",
       "      <td>June</td>\n",
       "      <td>1961</td>\n",
       "      <td>0.373</td>\n",
       "      <td>25.0</td>\n",
       "      <td>27.0</td>\n",
       "      <td>Rice</td>\n",
       "      <td>17391.0</td>\n",
       "      <td>World</td>\n",
       "      <td>25.0</td>\n",
       "    </tr>\n",
       "    <tr>\n",
       "      <th>5</th>\n",
       "      <td>25</td>\n",
       "      <td>Solomon Islands</td>\n",
       "      <td>7007</td>\n",
       "      <td>July</td>\n",
       "      <td>1961</td>\n",
       "      <td>0.462</td>\n",
       "      <td>25.0</td>\n",
       "      <td>27.0</td>\n",
       "      <td>Rice</td>\n",
       "      <td>17391.0</td>\n",
       "      <td>World</td>\n",
       "      <td>25.0</td>\n",
       "    </tr>\n",
       "    <tr>\n",
       "      <th>7</th>\n",
       "      <td>25</td>\n",
       "      <td>Solomon Islands</td>\n",
       "      <td>7008</td>\n",
       "      <td>August</td>\n",
       "      <td>1961</td>\n",
       "      <td>0.211</td>\n",
       "      <td>25.0</td>\n",
       "      <td>27.0</td>\n",
       "      <td>Rice</td>\n",
       "      <td>17391.0</td>\n",
       "      <td>World</td>\n",
       "      <td>25.0</td>\n",
       "    </tr>\n",
       "  </tbody>\n",
       "</table>\n",
       "</div>"
      ],
      "text/plain": [
       "   Area Code_x             Area  Months Code   Months  Year  temperature  \\\n",
       "0            2      Afghanistan         7001  January  1961        0.777   \n",
       "1           25  Solomon Islands         7005      May  1961        0.233   \n",
       "3           25  Solomon Islands         7006     June  1961        0.373   \n",
       "5           25  Solomon Islands         7007     July  1961        0.462   \n",
       "7           25  Solomon Islands         7008   August  1961        0.211   \n",
       "\n",
       "   Area Code_y  Item Code    Item    yield         region  Country Code  \n",
       "0          2.0       44.0  Barley  10800.0  Southern_Asia           2.0  \n",
       "1         25.0       27.0    Rice  17391.0          World          25.0  \n",
       "3         25.0       27.0    Rice  17391.0          World          25.0  \n",
       "5         25.0       27.0    Rice  17391.0          World          25.0  \n",
       "7         25.0       27.0    Rice  17391.0          World          25.0  "
      ]
     },
     "execution_count": 56,
     "metadata": {},
     "output_type": "execute_result"
    }
   ],
   "source": [
    "df_crop_temp.head()"
   ]
  },
  {
   "cell_type": "code",
   "execution_count": 58,
   "metadata": {},
   "outputs": [
    {
     "data": {
      "text/html": [
       "<div>\n",
       "<style scoped>\n",
       "    .dataframe tbody tr th:only-of-type {\n",
       "        vertical-align: middle;\n",
       "    }\n",
       "\n",
       "    .dataframe tbody tr th {\n",
       "        vertical-align: top;\n",
       "    }\n",
       "\n",
       "    .dataframe thead th {\n",
       "        text-align: right;\n",
       "    }\n",
       "</style>\n",
       "<table border=\"1\" class=\"dataframe\">\n",
       "  <thead>\n",
       "    <tr style=\"text-align: right;\">\n",
       "      <th></th>\n",
       "      <th>Area Code_x</th>\n",
       "      <th>Area</th>\n",
       "      <th>Months Code</th>\n",
       "      <th>Months</th>\n",
       "      <th>Year</th>\n",
       "      <th>temperature</th>\n",
       "      <th>Area Code_y</th>\n",
       "      <th>Item Code</th>\n",
       "      <th>Item</th>\n",
       "      <th>yield</th>\n",
       "      <th>region</th>\n",
       "      <th>Country Code</th>\n",
       "    </tr>\n",
       "  </thead>\n",
       "  <tbody>\n",
       "    <tr>\n",
       "      <th>23</th>\n",
       "      <td>39</td>\n",
       "      <td>Chad</td>\n",
       "      <td>7020</td>\n",
       "      <td>Meteorological year</td>\n",
       "      <td>1961</td>\n",
       "      <td>-0.426</td>\n",
       "      <td>39.0</td>\n",
       "      <td>56.0</td>\n",
       "      <td>Maize</td>\n",
       "      <td>10588.0</td>\n",
       "      <td>Land_Locked_Developing_Countries</td>\n",
       "      <td>39.0</td>\n",
       "    </tr>\n",
       "    <tr>\n",
       "      <th>52</th>\n",
       "      <td>25</td>\n",
       "      <td>Solomon Islands</td>\n",
       "      <td>7020</td>\n",
       "      <td>Meteorological year</td>\n",
       "      <td>1961</td>\n",
       "      <td>0.146</td>\n",
       "      <td>25.0</td>\n",
       "      <td>27.0</td>\n",
       "      <td>Rice</td>\n",
       "      <td>17391.0</td>\n",
       "      <td>World</td>\n",
       "      <td>25.0</td>\n",
       "    </tr>\n",
       "    <tr>\n",
       "      <th>59</th>\n",
       "      <td>201</td>\n",
       "      <td>Somalia</td>\n",
       "      <td>7020</td>\n",
       "      <td>Meteorological year</td>\n",
       "      <td>1961</td>\n",
       "      <td>0.305</td>\n",
       "      <td>201.0</td>\n",
       "      <td>56.0</td>\n",
       "      <td>Maize</td>\n",
       "      <td>8696.0</td>\n",
       "      <td>Net_Food_Importing_Developing_Countries</td>\n",
       "      <td>201.0</td>\n",
       "    </tr>\n",
       "    <tr>\n",
       "      <th>100</th>\n",
       "      <td>37</td>\n",
       "      <td>Central African Republic</td>\n",
       "      <td>7020</td>\n",
       "      <td>Meteorological year</td>\n",
       "      <td>1961</td>\n",
       "      <td>0.008</td>\n",
       "      <td>37.0</td>\n",
       "      <td>27.0</td>\n",
       "      <td>Rice</td>\n",
       "      <td>8571.0</td>\n",
       "      <td>Sub_Saharan_Africa_(including_Sudan)</td>\n",
       "      <td>37.0</td>\n",
       "    </tr>\n",
       "    <tr>\n",
       "      <th>133</th>\n",
       "      <td>195</td>\n",
       "      <td>Senegal</td>\n",
       "      <td>7020</td>\n",
       "      <td>Meteorological year</td>\n",
       "      <td>1961</td>\n",
       "      <td>-0.218</td>\n",
       "      <td>195.0</td>\n",
       "      <td>79.0</td>\n",
       "      <td>Millet</td>\n",
       "      <td>4529.0</td>\n",
       "      <td>Non_Annex_I_countries</td>\n",
       "      <td>195.0</td>\n",
       "    </tr>\n",
       "  </tbody>\n",
       "</table>\n",
       "</div>"
      ],
      "text/plain": [
       "     Area Code_x                      Area  Months Code               Months  \\\n",
       "23            39                      Chad         7020  Meteorological year   \n",
       "52            25           Solomon Islands         7020  Meteorological year   \n",
       "59           201                   Somalia         7020  Meteorological year   \n",
       "100           37  Central African Republic         7020  Meteorological year   \n",
       "133          195                   Senegal         7020  Meteorological year   \n",
       "\n",
       "     Year  temperature  Area Code_y  Item Code    Item    yield  \\\n",
       "23   1961       -0.426         39.0       56.0   Maize  10588.0   \n",
       "52   1961        0.146         25.0       27.0    Rice  17391.0   \n",
       "59   1961        0.305        201.0       56.0   Maize   8696.0   \n",
       "100  1961        0.008         37.0       27.0    Rice   8571.0   \n",
       "133  1961       -0.218        195.0       79.0  Millet   4529.0   \n",
       "\n",
       "                                      region  Country Code  \n",
       "23          Land_Locked_Developing_Countries          39.0  \n",
       "52                                     World          25.0  \n",
       "59   Net_Food_Importing_Developing_Countries         201.0  \n",
       "100     Sub_Saharan_Africa_(including_Sudan)          37.0  \n",
       "133                    Non_Annex_I_countries         195.0  "
      ]
     },
     "execution_count": 58,
     "metadata": {},
     "output_type": "execute_result"
    }
   ],
   "source": [
    "#query the yearly temperature anomaly only\n",
    "df_crop_temp_metro = df_crop_temp.query(\"Months == 'Meteorological year'\") \n",
    "df_crop_temp_metro.head()"
   ]
  },
  {
   "cell_type": "code",
   "execution_count": null,
   "metadata": {},
   "outputs": [],
   "source": [
    "test_df_g['temp']= test_df_g.temperature.apply(lambda x : 'low' if (x>=0 and x<=2) else 'high')     \n",
    "test_df_g.head()"
   ]
  },
  {
   "cell_type": "code",
   "execution_count": 140,
   "metadata": {},
   "outputs": [
    {
     "data": {
      "text/html": [
       "<div>\n",
       "<style scoped>\n",
       "    .dataframe tbody tr th:only-of-type {\n",
       "        vertical-align: middle;\n",
       "    }\n",
       "\n",
       "    .dataframe tbody tr th {\n",
       "        vertical-align: top;\n",
       "    }\n",
       "\n",
       "    .dataframe thead th {\n",
       "        text-align: right;\n",
       "    }\n",
       "</style>\n",
       "<table border=\"1\" class=\"dataframe\">\n",
       "  <thead>\n",
       "    <tr style=\"text-align: right;\">\n",
       "      <th></th>\n",
       "      <th>Area Code_x</th>\n",
       "      <th>Area</th>\n",
       "      <th>Months Code</th>\n",
       "      <th>Months</th>\n",
       "      <th>Year</th>\n",
       "      <th>temperature</th>\n",
       "      <th>Area Code_y</th>\n",
       "      <th>Item Code</th>\n",
       "      <th>Item</th>\n",
       "      <th>yield</th>\n",
       "      <th>region</th>\n",
       "      <th>Country Code</th>\n",
       "    </tr>\n",
       "  </thead>\n",
       "  <tbody>\n",
       "    <tr>\n",
       "      <th>52</th>\n",
       "      <td>25</td>\n",
       "      <td>Solomon Islands</td>\n",
       "      <td>7020</td>\n",
       "      <td>Meteorological year</td>\n",
       "      <td>1961</td>\n",
       "      <td>0.146</td>\n",
       "      <td>25.0</td>\n",
       "      <td>27.0</td>\n",
       "      <td>Rice</td>\n",
       "      <td>17391.0</td>\n",
       "      <td>World</td>\n",
       "      <td>25.0</td>\n",
       "    </tr>\n",
       "    <tr>\n",
       "      <th>59</th>\n",
       "      <td>201</td>\n",
       "      <td>Somalia</td>\n",
       "      <td>7020</td>\n",
       "      <td>Meteorological year</td>\n",
       "      <td>1961</td>\n",
       "      <td>0.305</td>\n",
       "      <td>201.0</td>\n",
       "      <td>56.0</td>\n",
       "      <td>Maize</td>\n",
       "      <td>8696.0</td>\n",
       "      <td>Net_Food_Importing_Developing_Countries</td>\n",
       "      <td>201.0</td>\n",
       "    </tr>\n",
       "    <tr>\n",
       "      <th>100</th>\n",
       "      <td>37</td>\n",
       "      <td>Central African Republic</td>\n",
       "      <td>7020</td>\n",
       "      <td>Meteorological year</td>\n",
       "      <td>1961</td>\n",
       "      <td>0.008</td>\n",
       "      <td>37.0</td>\n",
       "      <td>27.0</td>\n",
       "      <td>Rice</td>\n",
       "      <td>8571.0</td>\n",
       "      <td>Sub_Saharan_Africa_(including_Sudan)</td>\n",
       "      <td>37.0</td>\n",
       "    </tr>\n",
       "    <tr>\n",
       "      <th>142</th>\n",
       "      <td>96</td>\n",
       "      <td>China, Hong Kong SAR</td>\n",
       "      <td>7020</td>\n",
       "      <td>Meteorological year</td>\n",
       "      <td>1961</td>\n",
       "      <td>0.047</td>\n",
       "      <td>96.0</td>\n",
       "      <td>27.0</td>\n",
       "      <td>Rice</td>\n",
       "      <td>20168.0</td>\n",
       "      <td>Non_Annex_I_countries</td>\n",
       "      <td>96.0</td>\n",
       "    </tr>\n",
       "    <tr>\n",
       "      <th>236</th>\n",
       "      <td>29</td>\n",
       "      <td>Burundi</td>\n",
       "      <td>7020</td>\n",
       "      <td>Meteorological year</td>\n",
       "      <td>1961</td>\n",
       "      <td>0.068</td>\n",
       "      <td>29.0</td>\n",
       "      <td>56.0</td>\n",
       "      <td>Maize</td>\n",
       "      <td>9596.0</td>\n",
       "      <td>Africa</td>\n",
       "      <td>29.0</td>\n",
       "    </tr>\n",
       "  </tbody>\n",
       "</table>\n",
       "</div>"
      ],
      "text/plain": [
       "     Area Code_x                      Area  Months Code               Months  \\\n",
       "52            25           Solomon Islands         7020  Meteorological year   \n",
       "59           201                   Somalia         7020  Meteorological year   \n",
       "100           37  Central African Republic         7020  Meteorological year   \n",
       "142           96      China, Hong Kong SAR         7020  Meteorological year   \n",
       "236           29                   Burundi         7020  Meteorological year   \n",
       "\n",
       "     Year  temperature  Area Code_y  Item Code   Item    yield  \\\n",
       "52   1961        0.146         25.0       27.0   Rice  17391.0   \n",
       "59   1961        0.305        201.0       56.0  Maize   8696.0   \n",
       "100  1961        0.008         37.0       27.0   Rice   8571.0   \n",
       "142  1961        0.047         96.0       27.0   Rice  20168.0   \n",
       "236  1961        0.068         29.0       56.0  Maize   9596.0   \n",
       "\n",
       "                                      region  Country Code  \n",
       "52                                     World          25.0  \n",
       "59   Net_Food_Importing_Developing_Countries         201.0  \n",
       "100     Sub_Saharan_Africa_(including_Sudan)          37.0  \n",
       "142                    Non_Annex_I_countries          96.0  \n",
       "236                                   Africa          29.0  "
      ]
     },
     "execution_count": 140,
     "metadata": {},
     "output_type": "execute_result"
    }
   ],
   "source": [
    "df_high_temp = df_crop_temp_metro.query( \"temperature > 1\")\n",
    "df_low_temp =df_crop_temp_metro.query( \"temperature > 0 and temperature < = 1\")\n",
    "df_low_temp.head()"
   ]
  },
  {
   "cell_type": "code",
   "execution_count": 159,
   "metadata": {},
   "outputs": [
    {
     "data": {
      "text/html": [
       "<div>\n",
       "<style scoped>\n",
       "    .dataframe tbody tr th:only-of-type {\n",
       "        vertical-align: middle;\n",
       "    }\n",
       "\n",
       "    .dataframe tbody tr th {\n",
       "        vertical-align: top;\n",
       "    }\n",
       "\n",
       "    .dataframe thead th {\n",
       "        text-align: right;\n",
       "    }\n",
       "</style>\n",
       "<table border=\"1\" class=\"dataframe\">\n",
       "  <thead>\n",
       "    <tr style=\"text-align: right;\">\n",
       "      <th></th>\n",
       "      <th>temperature</th>\n",
       "      <th>region</th>\n",
       "      <th>yield</th>\n",
       "    </tr>\n",
       "  </thead>\n",
       "  <tbody>\n",
       "    <tr>\n",
       "      <th>0</th>\n",
       "      <td>0.001</td>\n",
       "      <td>Americas</td>\n",
       "      <td>25900.0</td>\n",
       "    </tr>\n",
       "    <tr>\n",
       "      <th>1</th>\n",
       "      <td>0.001</td>\n",
       "      <td>Latin_America_and_the_Caribbean</td>\n",
       "      <td>14428.0</td>\n",
       "    </tr>\n",
       "    <tr>\n",
       "      <th>2</th>\n",
       "      <td>0.001</td>\n",
       "      <td>Lower_middle_income_economies</td>\n",
       "      <td>7224.0</td>\n",
       "    </tr>\n",
       "    <tr>\n",
       "      <th>3</th>\n",
       "      <td>0.001</td>\n",
       "      <td>World</td>\n",
       "      <td>64444.0</td>\n",
       "    </tr>\n",
       "    <tr>\n",
       "      <th>4</th>\n",
       "      <td>0.002</td>\n",
       "      <td>Americas</td>\n",
       "      <td>17507.0</td>\n",
       "    </tr>\n",
       "  </tbody>\n",
       "</table>\n",
       "</div>"
      ],
      "text/plain": [
       "   temperature                           region    yield\n",
       "0        0.001                         Americas  25900.0\n",
       "1        0.001  Latin_America_and_the_Caribbean  14428.0\n",
       "2        0.001    Lower_middle_income_economies   7224.0\n",
       "3        0.001                            World  64444.0\n",
       "4        0.002                         Americas  17507.0"
      ]
     },
     "execution_count": 159,
     "metadata": {},
     "output_type": "execute_result"
    }
   ],
   "source": [
    "df_high_temp_ave = df_high_temp.groupby(['temperature','region'], as_index =False)['yield'].mean()\n",
    "df_low_temp_ave =df_low_temp.groupby(['temperature','region'], as_index =False)['yield'].mean()\n",
    "df_low_temp_ave.head()"
   ]
  },
  {
   "cell_type": "code",
   "execution_count": 148,
   "metadata": {
    "scrolled": false
   },
   "outputs": [
    {
     "data": {
      "application/vnd.plotly.v1+json": {
       "config": {
        "plotlyServerURL": "https://plot.ly"
       },
       "data": [
        {
         "mode": "lines+markers",
         "name": "high temp",
         "type": "scatter",
         "x": [
          1961,
          1962,
          1963,
          1966,
          1967,
          1973,
          1974,
          1975,
          1977,
          1979,
          1981,
          1982,
          1983,
          1987,
          1988,
          1989,
          1990,
          1991,
          1992,
          1993,
          1994,
          1995,
          1996,
          1997,
          1998,
          1999,
          2000,
          2001,
          2002,
          2003,
          2004,
          2005,
          2006,
          2007,
          2008,
          2009,
          2010,
          2011,
          2012,
          2013,
          2014,
          2015,
          2016,
          2017,
          2018,
          2019
         ],
         "y": [
          23194.444444444445,
          7961.5,
          8362,
          25387.666666666668,
          22124.5,
          26790.5,
          27307,
          36880,
          24836,
          28177,
          19959,
          11986,
          23069.533333333333,
          9790.42857142857,
          32752.2,
          46181.944444444445,
          35178.875,
          28632.666666666668,
          37671.17647058824,
          16264.666666666666,
          33152.485714285714,
          29593.16129032258,
          16889.333333333332,
          18741.19230769231,
          23767.816326530614,
          34153.882352941175,
          41015.958333333336,
          30749.69230769231,
          30744,
          31815.509433962263,
          31663.957446808512,
          28998.597222222223,
          32529.970588235294,
          38082.02898550725,
          32632.285714285714,
          34600.53164556962,
          28772.983193277312,
          40453.50847457627,
          33090.75362318841,
          33891.34482758621,
          32445.340206185567,
          33838.99315068493,
          35936.56804733728,
          38409.23809523809,
          41868.8487394958,
          37286.81761006289
         ]
        }
       ],
       "layout": {
        "template": {
         "data": {
          "bar": [
           {
            "error_x": {
             "color": "#2a3f5f"
            },
            "error_y": {
             "color": "#2a3f5f"
            },
            "marker": {
             "line": {
              "color": "#E5ECF6",
              "width": 0.5
             }
            },
            "type": "bar"
           }
          ],
          "barpolar": [
           {
            "marker": {
             "line": {
              "color": "#E5ECF6",
              "width": 0.5
             }
            },
            "type": "barpolar"
           }
          ],
          "carpet": [
           {
            "aaxis": {
             "endlinecolor": "#2a3f5f",
             "gridcolor": "white",
             "linecolor": "white",
             "minorgridcolor": "white",
             "startlinecolor": "#2a3f5f"
            },
            "baxis": {
             "endlinecolor": "#2a3f5f",
             "gridcolor": "white",
             "linecolor": "white",
             "minorgridcolor": "white",
             "startlinecolor": "#2a3f5f"
            },
            "type": "carpet"
           }
          ],
          "choropleth": [
           {
            "colorbar": {
             "outlinewidth": 0,
             "ticks": ""
            },
            "type": "choropleth"
           }
          ],
          "contour": [
           {
            "colorbar": {
             "outlinewidth": 0,
             "ticks": ""
            },
            "colorscale": [
             [
              0,
              "#0d0887"
             ],
             [
              0.1111111111111111,
              "#46039f"
             ],
             [
              0.2222222222222222,
              "#7201a8"
             ],
             [
              0.3333333333333333,
              "#9c179e"
             ],
             [
              0.4444444444444444,
              "#bd3786"
             ],
             [
              0.5555555555555556,
              "#d8576b"
             ],
             [
              0.6666666666666666,
              "#ed7953"
             ],
             [
              0.7777777777777778,
              "#fb9f3a"
             ],
             [
              0.8888888888888888,
              "#fdca26"
             ],
             [
              1,
              "#f0f921"
             ]
            ],
            "type": "contour"
           }
          ],
          "contourcarpet": [
           {
            "colorbar": {
             "outlinewidth": 0,
             "ticks": ""
            },
            "type": "contourcarpet"
           }
          ],
          "heatmap": [
           {
            "colorbar": {
             "outlinewidth": 0,
             "ticks": ""
            },
            "colorscale": [
             [
              0,
              "#0d0887"
             ],
             [
              0.1111111111111111,
              "#46039f"
             ],
             [
              0.2222222222222222,
              "#7201a8"
             ],
             [
              0.3333333333333333,
              "#9c179e"
             ],
             [
              0.4444444444444444,
              "#bd3786"
             ],
             [
              0.5555555555555556,
              "#d8576b"
             ],
             [
              0.6666666666666666,
              "#ed7953"
             ],
             [
              0.7777777777777778,
              "#fb9f3a"
             ],
             [
              0.8888888888888888,
              "#fdca26"
             ],
             [
              1,
              "#f0f921"
             ]
            ],
            "type": "heatmap"
           }
          ],
          "heatmapgl": [
           {
            "colorbar": {
             "outlinewidth": 0,
             "ticks": ""
            },
            "colorscale": [
             [
              0,
              "#0d0887"
             ],
             [
              0.1111111111111111,
              "#46039f"
             ],
             [
              0.2222222222222222,
              "#7201a8"
             ],
             [
              0.3333333333333333,
              "#9c179e"
             ],
             [
              0.4444444444444444,
              "#bd3786"
             ],
             [
              0.5555555555555556,
              "#d8576b"
             ],
             [
              0.6666666666666666,
              "#ed7953"
             ],
             [
              0.7777777777777778,
              "#fb9f3a"
             ],
             [
              0.8888888888888888,
              "#fdca26"
             ],
             [
              1,
              "#f0f921"
             ]
            ],
            "type": "heatmapgl"
           }
          ],
          "histogram": [
           {
            "marker": {
             "colorbar": {
              "outlinewidth": 0,
              "ticks": ""
             }
            },
            "type": "histogram"
           }
          ],
          "histogram2d": [
           {
            "colorbar": {
             "outlinewidth": 0,
             "ticks": ""
            },
            "colorscale": [
             [
              0,
              "#0d0887"
             ],
             [
              0.1111111111111111,
              "#46039f"
             ],
             [
              0.2222222222222222,
              "#7201a8"
             ],
             [
              0.3333333333333333,
              "#9c179e"
             ],
             [
              0.4444444444444444,
              "#bd3786"
             ],
             [
              0.5555555555555556,
              "#d8576b"
             ],
             [
              0.6666666666666666,
              "#ed7953"
             ],
             [
              0.7777777777777778,
              "#fb9f3a"
             ],
             [
              0.8888888888888888,
              "#fdca26"
             ],
             [
              1,
              "#f0f921"
             ]
            ],
            "type": "histogram2d"
           }
          ],
          "histogram2dcontour": [
           {
            "colorbar": {
             "outlinewidth": 0,
             "ticks": ""
            },
            "colorscale": [
             [
              0,
              "#0d0887"
             ],
             [
              0.1111111111111111,
              "#46039f"
             ],
             [
              0.2222222222222222,
              "#7201a8"
             ],
             [
              0.3333333333333333,
              "#9c179e"
             ],
             [
              0.4444444444444444,
              "#bd3786"
             ],
             [
              0.5555555555555556,
              "#d8576b"
             ],
             [
              0.6666666666666666,
              "#ed7953"
             ],
             [
              0.7777777777777778,
              "#fb9f3a"
             ],
             [
              0.8888888888888888,
              "#fdca26"
             ],
             [
              1,
              "#f0f921"
             ]
            ],
            "type": "histogram2dcontour"
           }
          ],
          "mesh3d": [
           {
            "colorbar": {
             "outlinewidth": 0,
             "ticks": ""
            },
            "type": "mesh3d"
           }
          ],
          "parcoords": [
           {
            "line": {
             "colorbar": {
              "outlinewidth": 0,
              "ticks": ""
             }
            },
            "type": "parcoords"
           }
          ],
          "pie": [
           {
            "automargin": true,
            "type": "pie"
           }
          ],
          "scatter": [
           {
            "marker": {
             "colorbar": {
              "outlinewidth": 0,
              "ticks": ""
             }
            },
            "type": "scatter"
           }
          ],
          "scatter3d": [
           {
            "line": {
             "colorbar": {
              "outlinewidth": 0,
              "ticks": ""
             }
            },
            "marker": {
             "colorbar": {
              "outlinewidth": 0,
              "ticks": ""
             }
            },
            "type": "scatter3d"
           }
          ],
          "scattercarpet": [
           {
            "marker": {
             "colorbar": {
              "outlinewidth": 0,
              "ticks": ""
             }
            },
            "type": "scattercarpet"
           }
          ],
          "scattergeo": [
           {
            "marker": {
             "colorbar": {
              "outlinewidth": 0,
              "ticks": ""
             }
            },
            "type": "scattergeo"
           }
          ],
          "scattergl": [
           {
            "marker": {
             "colorbar": {
              "outlinewidth": 0,
              "ticks": ""
             }
            },
            "type": "scattergl"
           }
          ],
          "scattermapbox": [
           {
            "marker": {
             "colorbar": {
              "outlinewidth": 0,
              "ticks": ""
             }
            },
            "type": "scattermapbox"
           }
          ],
          "scatterpolar": [
           {
            "marker": {
             "colorbar": {
              "outlinewidth": 0,
              "ticks": ""
             }
            },
            "type": "scatterpolar"
           }
          ],
          "scatterpolargl": [
           {
            "marker": {
             "colorbar": {
              "outlinewidth": 0,
              "ticks": ""
             }
            },
            "type": "scatterpolargl"
           }
          ],
          "scatterternary": [
           {
            "marker": {
             "colorbar": {
              "outlinewidth": 0,
              "ticks": ""
             }
            },
            "type": "scatterternary"
           }
          ],
          "surface": [
           {
            "colorbar": {
             "outlinewidth": 0,
             "ticks": ""
            },
            "colorscale": [
             [
              0,
              "#0d0887"
             ],
             [
              0.1111111111111111,
              "#46039f"
             ],
             [
              0.2222222222222222,
              "#7201a8"
             ],
             [
              0.3333333333333333,
              "#9c179e"
             ],
             [
              0.4444444444444444,
              "#bd3786"
             ],
             [
              0.5555555555555556,
              "#d8576b"
             ],
             [
              0.6666666666666666,
              "#ed7953"
             ],
             [
              0.7777777777777778,
              "#fb9f3a"
             ],
             [
              0.8888888888888888,
              "#fdca26"
             ],
             [
              1,
              "#f0f921"
             ]
            ],
            "type": "surface"
           }
          ],
          "table": [
           {
            "cells": {
             "fill": {
              "color": "#EBF0F8"
             },
             "line": {
              "color": "white"
             }
            },
            "header": {
             "fill": {
              "color": "#C8D4E3"
             },
             "line": {
              "color": "white"
             }
            },
            "type": "table"
           }
          ]
         },
         "layout": {
          "annotationdefaults": {
           "arrowcolor": "#2a3f5f",
           "arrowhead": 0,
           "arrowwidth": 1
          },
          "coloraxis": {
           "colorbar": {
            "outlinewidth": 0,
            "ticks": ""
           }
          },
          "colorscale": {
           "diverging": [
            [
             0,
             "#8e0152"
            ],
            [
             0.1,
             "#c51b7d"
            ],
            [
             0.2,
             "#de77ae"
            ],
            [
             0.3,
             "#f1b6da"
            ],
            [
             0.4,
             "#fde0ef"
            ],
            [
             0.5,
             "#f7f7f7"
            ],
            [
             0.6,
             "#e6f5d0"
            ],
            [
             0.7,
             "#b8e186"
            ],
            [
             0.8,
             "#7fbc41"
            ],
            [
             0.9,
             "#4d9221"
            ],
            [
             1,
             "#276419"
            ]
           ],
           "sequential": [
            [
             0,
             "#0d0887"
            ],
            [
             0.1111111111111111,
             "#46039f"
            ],
            [
             0.2222222222222222,
             "#7201a8"
            ],
            [
             0.3333333333333333,
             "#9c179e"
            ],
            [
             0.4444444444444444,
             "#bd3786"
            ],
            [
             0.5555555555555556,
             "#d8576b"
            ],
            [
             0.6666666666666666,
             "#ed7953"
            ],
            [
             0.7777777777777778,
             "#fb9f3a"
            ],
            [
             0.8888888888888888,
             "#fdca26"
            ],
            [
             1,
             "#f0f921"
            ]
           ],
           "sequentialminus": [
            [
             0,
             "#0d0887"
            ],
            [
             0.1111111111111111,
             "#46039f"
            ],
            [
             0.2222222222222222,
             "#7201a8"
            ],
            [
             0.3333333333333333,
             "#9c179e"
            ],
            [
             0.4444444444444444,
             "#bd3786"
            ],
            [
             0.5555555555555556,
             "#d8576b"
            ],
            [
             0.6666666666666666,
             "#ed7953"
            ],
            [
             0.7777777777777778,
             "#fb9f3a"
            ],
            [
             0.8888888888888888,
             "#fdca26"
            ],
            [
             1,
             "#f0f921"
            ]
           ]
          },
          "colorway": [
           "#636efa",
           "#EF553B",
           "#00cc96",
           "#ab63fa",
           "#FFA15A",
           "#19d3f3",
           "#FF6692",
           "#B6E880",
           "#FF97FF",
           "#FECB52"
          ],
          "font": {
           "color": "#2a3f5f"
          },
          "geo": {
           "bgcolor": "white",
           "lakecolor": "white",
           "landcolor": "#E5ECF6",
           "showlakes": true,
           "showland": true,
           "subunitcolor": "white"
          },
          "hoverlabel": {
           "align": "left"
          },
          "hovermode": "closest",
          "mapbox": {
           "style": "light"
          },
          "paper_bgcolor": "white",
          "plot_bgcolor": "#E5ECF6",
          "polar": {
           "angularaxis": {
            "gridcolor": "white",
            "linecolor": "white",
            "ticks": ""
           },
           "bgcolor": "#E5ECF6",
           "radialaxis": {
            "gridcolor": "white",
            "linecolor": "white",
            "ticks": ""
           }
          },
          "scene": {
           "xaxis": {
            "backgroundcolor": "#E5ECF6",
            "gridcolor": "white",
            "gridwidth": 2,
            "linecolor": "white",
            "showbackground": true,
            "ticks": "",
            "zerolinecolor": "white"
           },
           "yaxis": {
            "backgroundcolor": "#E5ECF6",
            "gridcolor": "white",
            "gridwidth": 2,
            "linecolor": "white",
            "showbackground": true,
            "ticks": "",
            "zerolinecolor": "white"
           },
           "zaxis": {
            "backgroundcolor": "#E5ECF6",
            "gridcolor": "white",
            "gridwidth": 2,
            "linecolor": "white",
            "showbackground": true,
            "ticks": "",
            "zerolinecolor": "white"
           }
          },
          "shapedefaults": {
           "line": {
            "color": "#2a3f5f"
           }
          },
          "ternary": {
           "aaxis": {
            "gridcolor": "white",
            "linecolor": "white",
            "ticks": ""
           },
           "baxis": {
            "gridcolor": "white",
            "linecolor": "white",
            "ticks": ""
           },
           "bgcolor": "#E5ECF6",
           "caxis": {
            "gridcolor": "white",
            "linecolor": "white",
            "ticks": ""
           }
          },
          "title": {
           "x": 0.05
          },
          "xaxis": {
           "automargin": true,
           "gridcolor": "white",
           "linecolor": "white",
           "ticks": "",
           "title": {
            "standoff": 15
           },
           "zerolinecolor": "white",
           "zerolinewidth": 2
          },
          "yaxis": {
           "automargin": true,
           "gridcolor": "white",
           "linecolor": "white",
           "ticks": "",
           "title": {
            "standoff": 15
           },
           "zerolinecolor": "white",
           "zerolinewidth": 2
          }
         }
        }
       }
      },
      "text/html": [
       "<div>\n",
       "        \n",
       "        \n",
       "            <div id=\"71ae2899-3e74-4d8d-96df-897882a463f7\" class=\"plotly-graph-div\" style=\"height:525px; width:100%;\"></div>\n",
       "            <script type=\"text/javascript\">\n",
       "                require([\"plotly\"], function(Plotly) {\n",
       "                    window.PLOTLYENV=window.PLOTLYENV || {};\n",
       "                    \n",
       "                if (document.getElementById(\"71ae2899-3e74-4d8d-96df-897882a463f7\")) {\n",
       "                    Plotly.newPlot(\n",
       "                        '71ae2899-3e74-4d8d-96df-897882a463f7',\n",
       "                        [{\"mode\": \"lines+markers\", \"name\": \"high temp\", \"type\": \"scatter\", \"x\": [1961, 1962, 1963, 1966, 1967, 1973, 1974, 1975, 1977, 1979, 1981, 1982, 1983, 1987, 1988, 1989, 1990, 1991, 1992, 1993, 1994, 1995, 1996, 1997, 1998, 1999, 2000, 2001, 2002, 2003, 2004, 2005, 2006, 2007, 2008, 2009, 2010, 2011, 2012, 2013, 2014, 2015, 2016, 2017, 2018, 2019], \"y\": [23194.444444444445, 7961.5, 8362.0, 25387.666666666668, 22124.5, 26790.5, 27307.0, 36880.0, 24836.0, 28177.0, 19959.0, 11986.0, 23069.533333333333, 9790.42857142857, 32752.2, 46181.944444444445, 35178.875, 28632.666666666668, 37671.17647058824, 16264.666666666666, 33152.485714285714, 29593.16129032258, 16889.333333333332, 18741.19230769231, 23767.816326530614, 34153.882352941175, 41015.958333333336, 30749.69230769231, 30744.0, 31815.509433962263, 31663.957446808512, 28998.597222222223, 32529.970588235294, 38082.02898550725, 32632.285714285714, 34600.53164556962, 28772.983193277312, 40453.50847457627, 33090.75362318841, 33891.34482758621, 32445.340206185567, 33838.99315068493, 35936.56804733728, 38409.23809523809, 41868.8487394958, 37286.81761006289]}],\n",
       "                        {\"template\": {\"data\": {\"bar\": [{\"error_x\": {\"color\": \"#2a3f5f\"}, \"error_y\": {\"color\": \"#2a3f5f\"}, \"marker\": {\"line\": {\"color\": \"#E5ECF6\", \"width\": 0.5}}, \"type\": \"bar\"}], \"barpolar\": [{\"marker\": {\"line\": {\"color\": \"#E5ECF6\", \"width\": 0.5}}, \"type\": \"barpolar\"}], \"carpet\": [{\"aaxis\": {\"endlinecolor\": \"#2a3f5f\", \"gridcolor\": \"white\", \"linecolor\": \"white\", \"minorgridcolor\": \"white\", \"startlinecolor\": \"#2a3f5f\"}, \"baxis\": {\"endlinecolor\": \"#2a3f5f\", \"gridcolor\": \"white\", \"linecolor\": \"white\", \"minorgridcolor\": \"white\", \"startlinecolor\": \"#2a3f5f\"}, \"type\": \"carpet\"}], \"choropleth\": [{\"colorbar\": {\"outlinewidth\": 0, \"ticks\": \"\"}, \"type\": \"choropleth\"}], \"contour\": [{\"colorbar\": {\"outlinewidth\": 0, \"ticks\": \"\"}, \"colorscale\": [[0.0, \"#0d0887\"], [0.1111111111111111, \"#46039f\"], [0.2222222222222222, \"#7201a8\"], [0.3333333333333333, \"#9c179e\"], [0.4444444444444444, \"#bd3786\"], [0.5555555555555556, \"#d8576b\"], [0.6666666666666666, \"#ed7953\"], [0.7777777777777778, \"#fb9f3a\"], [0.8888888888888888, \"#fdca26\"], [1.0, \"#f0f921\"]], \"type\": \"contour\"}], \"contourcarpet\": [{\"colorbar\": {\"outlinewidth\": 0, \"ticks\": \"\"}, \"type\": \"contourcarpet\"}], \"heatmap\": [{\"colorbar\": {\"outlinewidth\": 0, \"ticks\": \"\"}, \"colorscale\": [[0.0, \"#0d0887\"], [0.1111111111111111, \"#46039f\"], [0.2222222222222222, \"#7201a8\"], [0.3333333333333333, \"#9c179e\"], [0.4444444444444444, \"#bd3786\"], [0.5555555555555556, \"#d8576b\"], [0.6666666666666666, \"#ed7953\"], [0.7777777777777778, \"#fb9f3a\"], [0.8888888888888888, \"#fdca26\"], [1.0, \"#f0f921\"]], \"type\": \"heatmap\"}], \"heatmapgl\": [{\"colorbar\": {\"outlinewidth\": 0, \"ticks\": \"\"}, \"colorscale\": [[0.0, \"#0d0887\"], [0.1111111111111111, \"#46039f\"], [0.2222222222222222, \"#7201a8\"], [0.3333333333333333, \"#9c179e\"], [0.4444444444444444, \"#bd3786\"], [0.5555555555555556, \"#d8576b\"], [0.6666666666666666, \"#ed7953\"], [0.7777777777777778, \"#fb9f3a\"], [0.8888888888888888, \"#fdca26\"], [1.0, \"#f0f921\"]], \"type\": \"heatmapgl\"}], \"histogram\": [{\"marker\": {\"colorbar\": {\"outlinewidth\": 0, \"ticks\": \"\"}}, \"type\": \"histogram\"}], \"histogram2d\": [{\"colorbar\": {\"outlinewidth\": 0, \"ticks\": \"\"}, \"colorscale\": [[0.0, \"#0d0887\"], [0.1111111111111111, \"#46039f\"], [0.2222222222222222, \"#7201a8\"], [0.3333333333333333, \"#9c179e\"], [0.4444444444444444, \"#bd3786\"], [0.5555555555555556, \"#d8576b\"], [0.6666666666666666, \"#ed7953\"], [0.7777777777777778, \"#fb9f3a\"], [0.8888888888888888, \"#fdca26\"], [1.0, \"#f0f921\"]], \"type\": \"histogram2d\"}], \"histogram2dcontour\": [{\"colorbar\": {\"outlinewidth\": 0, \"ticks\": \"\"}, \"colorscale\": [[0.0, \"#0d0887\"], [0.1111111111111111, \"#46039f\"], [0.2222222222222222, \"#7201a8\"], [0.3333333333333333, \"#9c179e\"], [0.4444444444444444, \"#bd3786\"], [0.5555555555555556, \"#d8576b\"], [0.6666666666666666, \"#ed7953\"], [0.7777777777777778, \"#fb9f3a\"], [0.8888888888888888, \"#fdca26\"], [1.0, \"#f0f921\"]], \"type\": \"histogram2dcontour\"}], \"mesh3d\": [{\"colorbar\": {\"outlinewidth\": 0, \"ticks\": \"\"}, \"type\": \"mesh3d\"}], \"parcoords\": [{\"line\": {\"colorbar\": {\"outlinewidth\": 0, \"ticks\": \"\"}}, \"type\": \"parcoords\"}], \"pie\": [{\"automargin\": true, \"type\": \"pie\"}], \"scatter\": [{\"marker\": {\"colorbar\": {\"outlinewidth\": 0, \"ticks\": \"\"}}, \"type\": \"scatter\"}], \"scatter3d\": [{\"line\": {\"colorbar\": {\"outlinewidth\": 0, \"ticks\": \"\"}}, \"marker\": {\"colorbar\": {\"outlinewidth\": 0, \"ticks\": \"\"}}, \"type\": \"scatter3d\"}], \"scattercarpet\": [{\"marker\": {\"colorbar\": {\"outlinewidth\": 0, \"ticks\": \"\"}}, \"type\": \"scattercarpet\"}], \"scattergeo\": [{\"marker\": {\"colorbar\": {\"outlinewidth\": 0, \"ticks\": \"\"}}, \"type\": \"scattergeo\"}], \"scattergl\": [{\"marker\": {\"colorbar\": {\"outlinewidth\": 0, \"ticks\": \"\"}}, \"type\": \"scattergl\"}], \"scattermapbox\": [{\"marker\": {\"colorbar\": {\"outlinewidth\": 0, \"ticks\": \"\"}}, \"type\": \"scattermapbox\"}], \"scatterpolar\": [{\"marker\": {\"colorbar\": {\"outlinewidth\": 0, \"ticks\": \"\"}}, \"type\": \"scatterpolar\"}], \"scatterpolargl\": [{\"marker\": {\"colorbar\": {\"outlinewidth\": 0, \"ticks\": \"\"}}, \"type\": \"scatterpolargl\"}], \"scatterternary\": [{\"marker\": {\"colorbar\": {\"outlinewidth\": 0, \"ticks\": \"\"}}, \"type\": \"scatterternary\"}], \"surface\": [{\"colorbar\": {\"outlinewidth\": 0, \"ticks\": \"\"}, \"colorscale\": [[0.0, \"#0d0887\"], [0.1111111111111111, \"#46039f\"], [0.2222222222222222, \"#7201a8\"], [0.3333333333333333, \"#9c179e\"], [0.4444444444444444, \"#bd3786\"], [0.5555555555555556, \"#d8576b\"], [0.6666666666666666, \"#ed7953\"], [0.7777777777777778, \"#fb9f3a\"], [0.8888888888888888, \"#fdca26\"], [1.0, \"#f0f921\"]], \"type\": \"surface\"}], \"table\": [{\"cells\": {\"fill\": {\"color\": \"#EBF0F8\"}, \"line\": {\"color\": \"white\"}}, \"header\": {\"fill\": {\"color\": \"#C8D4E3\"}, \"line\": {\"color\": \"white\"}}, \"type\": \"table\"}]}, \"layout\": {\"annotationdefaults\": {\"arrowcolor\": \"#2a3f5f\", \"arrowhead\": 0, \"arrowwidth\": 1}, \"coloraxis\": {\"colorbar\": {\"outlinewidth\": 0, \"ticks\": \"\"}}, \"colorscale\": {\"diverging\": [[0, \"#8e0152\"], [0.1, \"#c51b7d\"], [0.2, \"#de77ae\"], [0.3, \"#f1b6da\"], [0.4, \"#fde0ef\"], [0.5, \"#f7f7f7\"], [0.6, \"#e6f5d0\"], [0.7, \"#b8e186\"], [0.8, \"#7fbc41\"], [0.9, \"#4d9221\"], [1, \"#276419\"]], \"sequential\": [[0.0, \"#0d0887\"], [0.1111111111111111, \"#46039f\"], [0.2222222222222222, \"#7201a8\"], [0.3333333333333333, \"#9c179e\"], [0.4444444444444444, \"#bd3786\"], [0.5555555555555556, \"#d8576b\"], [0.6666666666666666, \"#ed7953\"], [0.7777777777777778, \"#fb9f3a\"], [0.8888888888888888, \"#fdca26\"], [1.0, \"#f0f921\"]], \"sequentialminus\": [[0.0, \"#0d0887\"], [0.1111111111111111, \"#46039f\"], [0.2222222222222222, \"#7201a8\"], [0.3333333333333333, \"#9c179e\"], [0.4444444444444444, \"#bd3786\"], [0.5555555555555556, \"#d8576b\"], [0.6666666666666666, \"#ed7953\"], [0.7777777777777778, \"#fb9f3a\"], [0.8888888888888888, \"#fdca26\"], [1.0, \"#f0f921\"]]}, \"colorway\": [\"#636efa\", \"#EF553B\", \"#00cc96\", \"#ab63fa\", \"#FFA15A\", \"#19d3f3\", \"#FF6692\", \"#B6E880\", \"#FF97FF\", \"#FECB52\"], \"font\": {\"color\": \"#2a3f5f\"}, \"geo\": {\"bgcolor\": \"white\", \"lakecolor\": \"white\", \"landcolor\": \"#E5ECF6\", \"showlakes\": true, \"showland\": true, \"subunitcolor\": \"white\"}, \"hoverlabel\": {\"align\": \"left\"}, \"hovermode\": \"closest\", \"mapbox\": {\"style\": \"light\"}, \"paper_bgcolor\": \"white\", \"plot_bgcolor\": \"#E5ECF6\", \"polar\": {\"angularaxis\": {\"gridcolor\": \"white\", \"linecolor\": \"white\", \"ticks\": \"\"}, \"bgcolor\": \"#E5ECF6\", \"radialaxis\": {\"gridcolor\": \"white\", \"linecolor\": \"white\", \"ticks\": \"\"}}, \"scene\": {\"xaxis\": {\"backgroundcolor\": \"#E5ECF6\", \"gridcolor\": \"white\", \"gridwidth\": 2, \"linecolor\": \"white\", \"showbackground\": true, \"ticks\": \"\", \"zerolinecolor\": \"white\"}, \"yaxis\": {\"backgroundcolor\": \"#E5ECF6\", \"gridcolor\": \"white\", \"gridwidth\": 2, \"linecolor\": \"white\", \"showbackground\": true, \"ticks\": \"\", \"zerolinecolor\": \"white\"}, \"zaxis\": {\"backgroundcolor\": \"#E5ECF6\", \"gridcolor\": \"white\", \"gridwidth\": 2, \"linecolor\": \"white\", \"showbackground\": true, \"ticks\": \"\", \"zerolinecolor\": \"white\"}}, \"shapedefaults\": {\"line\": {\"color\": \"#2a3f5f\"}}, \"ternary\": {\"aaxis\": {\"gridcolor\": \"white\", \"linecolor\": \"white\", \"ticks\": \"\"}, \"baxis\": {\"gridcolor\": \"white\", \"linecolor\": \"white\", \"ticks\": \"\"}, \"bgcolor\": \"#E5ECF6\", \"caxis\": {\"gridcolor\": \"white\", \"linecolor\": \"white\", \"ticks\": \"\"}}, \"title\": {\"x\": 0.05}, \"xaxis\": {\"automargin\": true, \"gridcolor\": \"white\", \"linecolor\": \"white\", \"ticks\": \"\", \"title\": {\"standoff\": 15}, \"zerolinecolor\": \"white\", \"zerolinewidth\": 2}, \"yaxis\": {\"automargin\": true, \"gridcolor\": \"white\", \"linecolor\": \"white\", \"ticks\": \"\", \"title\": {\"standoff\": 15}, \"zerolinecolor\": \"white\", \"zerolinewidth\": 2}}}},\n",
       "                        {\"responsive\": true}\n",
       "                    ).then(function(){\n",
       "                            \n",
       "var gd = document.getElementById('71ae2899-3e74-4d8d-96df-897882a463f7');\n",
       "var x = new MutationObserver(function (mutations, observer) {{\n",
       "        var display = window.getComputedStyle(gd).display;\n",
       "        if (!display || display === 'none') {{\n",
       "            console.log([gd, 'removed!']);\n",
       "            Plotly.purge(gd);\n",
       "            observer.disconnect();\n",
       "        }}\n",
       "}});\n",
       "\n",
       "// Listen for the removal of the full notebook cells\n",
       "var notebookContainer = gd.closest('#notebook-container');\n",
       "if (notebookContainer) {{\n",
       "    x.observe(notebookContainer, {childList: true});\n",
       "}}\n",
       "\n",
       "// Listen for the clearing of the current output cell\n",
       "var outputEl = gd.closest('.output');\n",
       "if (outputEl) {{\n",
       "    x.observe(outputEl, {childList: true});\n",
       "}}\n",
       "\n",
       "                        })\n",
       "                };\n",
       "                });\n",
       "            </script>\n",
       "        </div>"
      ]
     },
     "metadata": {},
     "output_type": "display_data"
    },
    {
     "data": {
      "application/vnd.plotly.v1+json": {
       "config": {
        "plotlyServerURL": "https://plot.ly"
       },
       "data": [
        {
         "mode": "lines+markers",
         "name": "high temp",
         "type": "scatter",
         "x": [
          1961,
          1962,
          1963,
          1966,
          1967,
          1973,
          1974,
          1975,
          1977,
          1979,
          1981,
          1982,
          1983,
          1987,
          1988,
          1989,
          1990,
          1991,
          1992,
          1993,
          1994,
          1995,
          1996,
          1997,
          1998,
          1999,
          2000,
          2001,
          2002,
          2003,
          2004,
          2005,
          2006,
          2007,
          2008,
          2009,
          2010,
          2011,
          2012,
          2013,
          2014,
          2015,
          2016,
          2017,
          2018,
          2019
         ],
         "y": [
          23194.444444444445,
          7961.5,
          8362,
          25387.666666666668,
          22124.5,
          26790.5,
          27307,
          36880,
          24836,
          28177,
          19959,
          11986,
          23069.533333333333,
          9790.42857142857,
          32752.2,
          46181.944444444445,
          35178.875,
          28632.666666666668,
          37671.17647058824,
          16264.666666666666,
          33152.485714285714,
          29593.16129032258,
          16889.333333333332,
          18741.19230769231,
          23767.816326530614,
          34153.882352941175,
          41015.958333333336,
          30749.69230769231,
          30744,
          31815.509433962263,
          31663.957446808512,
          28998.597222222223,
          32529.970588235294,
          38082.02898550725,
          32632.285714285714,
          34600.53164556962,
          28772.983193277312,
          40453.50847457627,
          33090.75362318841,
          33891.34482758621,
          32445.340206185567,
          33838.99315068493,
          35936.56804733728,
          38409.23809523809,
          41868.8487394958,
          37286.81761006289
         ]
        },
        {
         "mode": "lines+markers",
         "name": "Low temp",
         "type": "scatter",
         "x": [
          1961,
          1962,
          1963,
          1964,
          1965,
          1966,
          1967,
          1968,
          1969,
          1970,
          1971,
          1972,
          1973,
          1974,
          1975,
          1976,
          1977,
          1978,
          1979,
          1980,
          1981,
          1982,
          1983,
          1984,
          1985,
          1986,
          1987,
          1988,
          1989,
          1990,
          1991,
          1992,
          1993,
          1994,
          1995,
          1996,
          1997,
          1998,
          1999,
          2000,
          2001,
          2002,
          2003,
          2004,
          2005,
          2006,
          2007,
          2008,
          2009,
          2010,
          2011,
          2012,
          2013,
          2014,
          2015,
          2016,
          2017,
          2018,
          2019
         ],
         "y": [
          16221.7625,
          15630.92,
          13796.10294117647,
          16217.04255319149,
          13691.8125,
          16328.137614678899,
          22975.975609756097,
          22291.11111111111,
          14814.75,
          15069.466666666667,
          24249.090909090908,
          16760.86075949367,
          18354.4435483871,
          26227.53125,
          21464.32608695652,
          25294.777777777777,
          17249.824427480915,
          16569.62393162393,
          16604.859259259258,
          16841.319327731093,
          22846.024590163935,
          20510.98275862069,
          21274.008403361346,
          19011.445652173912,
          18786.82,
          19990.664,
          19743.754385964912,
          24676.17006802721,
          22157.869565217392,
          20775.033333333333,
          24294.22857142857,
          23491.27027027027,
          22461.12408759124,
          21892.246376811596,
          23506.832116788322,
          21233.129032258064,
          25739.905511811023,
          26763.98795180723,
          22789.008,
          25417.266129032258,
          26681.369369369368,
          25466.293103448275,
          29254.48780487805,
          28400.607407407406,
          29071.527777777777,
          30612.918181818182,
          25126.17699115044,
          27880.79365079365,
          33212.37254901961,
          39710.245614035084,
          30844.532786885247,
          31131.53153153153,
          39680.40625,
          32151.183908045976,
          34820.23684210526,
          56027.5,
          30640.083333333332,
          32737.292307692307,
          47268.52
         ]
        }
       ],
       "layout": {
        "template": {
         "data": {
          "bar": [
           {
            "error_x": {
             "color": "#2a3f5f"
            },
            "error_y": {
             "color": "#2a3f5f"
            },
            "marker": {
             "line": {
              "color": "#E5ECF6",
              "width": 0.5
             }
            },
            "type": "bar"
           }
          ],
          "barpolar": [
           {
            "marker": {
             "line": {
              "color": "#E5ECF6",
              "width": 0.5
             }
            },
            "type": "barpolar"
           }
          ],
          "carpet": [
           {
            "aaxis": {
             "endlinecolor": "#2a3f5f",
             "gridcolor": "white",
             "linecolor": "white",
             "minorgridcolor": "white",
             "startlinecolor": "#2a3f5f"
            },
            "baxis": {
             "endlinecolor": "#2a3f5f",
             "gridcolor": "white",
             "linecolor": "white",
             "minorgridcolor": "white",
             "startlinecolor": "#2a3f5f"
            },
            "type": "carpet"
           }
          ],
          "choropleth": [
           {
            "colorbar": {
             "outlinewidth": 0,
             "ticks": ""
            },
            "type": "choropleth"
           }
          ],
          "contour": [
           {
            "colorbar": {
             "outlinewidth": 0,
             "ticks": ""
            },
            "colorscale": [
             [
              0,
              "#0d0887"
             ],
             [
              0.1111111111111111,
              "#46039f"
             ],
             [
              0.2222222222222222,
              "#7201a8"
             ],
             [
              0.3333333333333333,
              "#9c179e"
             ],
             [
              0.4444444444444444,
              "#bd3786"
             ],
             [
              0.5555555555555556,
              "#d8576b"
             ],
             [
              0.6666666666666666,
              "#ed7953"
             ],
             [
              0.7777777777777778,
              "#fb9f3a"
             ],
             [
              0.8888888888888888,
              "#fdca26"
             ],
             [
              1,
              "#f0f921"
             ]
            ],
            "type": "contour"
           }
          ],
          "contourcarpet": [
           {
            "colorbar": {
             "outlinewidth": 0,
             "ticks": ""
            },
            "type": "contourcarpet"
           }
          ],
          "heatmap": [
           {
            "colorbar": {
             "outlinewidth": 0,
             "ticks": ""
            },
            "colorscale": [
             [
              0,
              "#0d0887"
             ],
             [
              0.1111111111111111,
              "#46039f"
             ],
             [
              0.2222222222222222,
              "#7201a8"
             ],
             [
              0.3333333333333333,
              "#9c179e"
             ],
             [
              0.4444444444444444,
              "#bd3786"
             ],
             [
              0.5555555555555556,
              "#d8576b"
             ],
             [
              0.6666666666666666,
              "#ed7953"
             ],
             [
              0.7777777777777778,
              "#fb9f3a"
             ],
             [
              0.8888888888888888,
              "#fdca26"
             ],
             [
              1,
              "#f0f921"
             ]
            ],
            "type": "heatmap"
           }
          ],
          "heatmapgl": [
           {
            "colorbar": {
             "outlinewidth": 0,
             "ticks": ""
            },
            "colorscale": [
             [
              0,
              "#0d0887"
             ],
             [
              0.1111111111111111,
              "#46039f"
             ],
             [
              0.2222222222222222,
              "#7201a8"
             ],
             [
              0.3333333333333333,
              "#9c179e"
             ],
             [
              0.4444444444444444,
              "#bd3786"
             ],
             [
              0.5555555555555556,
              "#d8576b"
             ],
             [
              0.6666666666666666,
              "#ed7953"
             ],
             [
              0.7777777777777778,
              "#fb9f3a"
             ],
             [
              0.8888888888888888,
              "#fdca26"
             ],
             [
              1,
              "#f0f921"
             ]
            ],
            "type": "heatmapgl"
           }
          ],
          "histogram": [
           {
            "marker": {
             "colorbar": {
              "outlinewidth": 0,
              "ticks": ""
             }
            },
            "type": "histogram"
           }
          ],
          "histogram2d": [
           {
            "colorbar": {
             "outlinewidth": 0,
             "ticks": ""
            },
            "colorscale": [
             [
              0,
              "#0d0887"
             ],
             [
              0.1111111111111111,
              "#46039f"
             ],
             [
              0.2222222222222222,
              "#7201a8"
             ],
             [
              0.3333333333333333,
              "#9c179e"
             ],
             [
              0.4444444444444444,
              "#bd3786"
             ],
             [
              0.5555555555555556,
              "#d8576b"
             ],
             [
              0.6666666666666666,
              "#ed7953"
             ],
             [
              0.7777777777777778,
              "#fb9f3a"
             ],
             [
              0.8888888888888888,
              "#fdca26"
             ],
             [
              1,
              "#f0f921"
             ]
            ],
            "type": "histogram2d"
           }
          ],
          "histogram2dcontour": [
           {
            "colorbar": {
             "outlinewidth": 0,
             "ticks": ""
            },
            "colorscale": [
             [
              0,
              "#0d0887"
             ],
             [
              0.1111111111111111,
              "#46039f"
             ],
             [
              0.2222222222222222,
              "#7201a8"
             ],
             [
              0.3333333333333333,
              "#9c179e"
             ],
             [
              0.4444444444444444,
              "#bd3786"
             ],
             [
              0.5555555555555556,
              "#d8576b"
             ],
             [
              0.6666666666666666,
              "#ed7953"
             ],
             [
              0.7777777777777778,
              "#fb9f3a"
             ],
             [
              0.8888888888888888,
              "#fdca26"
             ],
             [
              1,
              "#f0f921"
             ]
            ],
            "type": "histogram2dcontour"
           }
          ],
          "mesh3d": [
           {
            "colorbar": {
             "outlinewidth": 0,
             "ticks": ""
            },
            "type": "mesh3d"
           }
          ],
          "parcoords": [
           {
            "line": {
             "colorbar": {
              "outlinewidth": 0,
              "ticks": ""
             }
            },
            "type": "parcoords"
           }
          ],
          "pie": [
           {
            "automargin": true,
            "type": "pie"
           }
          ],
          "scatter": [
           {
            "marker": {
             "colorbar": {
              "outlinewidth": 0,
              "ticks": ""
             }
            },
            "type": "scatter"
           }
          ],
          "scatter3d": [
           {
            "line": {
             "colorbar": {
              "outlinewidth": 0,
              "ticks": ""
             }
            },
            "marker": {
             "colorbar": {
              "outlinewidth": 0,
              "ticks": ""
             }
            },
            "type": "scatter3d"
           }
          ],
          "scattercarpet": [
           {
            "marker": {
             "colorbar": {
              "outlinewidth": 0,
              "ticks": ""
             }
            },
            "type": "scattercarpet"
           }
          ],
          "scattergeo": [
           {
            "marker": {
             "colorbar": {
              "outlinewidth": 0,
              "ticks": ""
             }
            },
            "type": "scattergeo"
           }
          ],
          "scattergl": [
           {
            "marker": {
             "colorbar": {
              "outlinewidth": 0,
              "ticks": ""
             }
            },
            "type": "scattergl"
           }
          ],
          "scattermapbox": [
           {
            "marker": {
             "colorbar": {
              "outlinewidth": 0,
              "ticks": ""
             }
            },
            "type": "scattermapbox"
           }
          ],
          "scatterpolar": [
           {
            "marker": {
             "colorbar": {
              "outlinewidth": 0,
              "ticks": ""
             }
            },
            "type": "scatterpolar"
           }
          ],
          "scatterpolargl": [
           {
            "marker": {
             "colorbar": {
              "outlinewidth": 0,
              "ticks": ""
             }
            },
            "type": "scatterpolargl"
           }
          ],
          "scatterternary": [
           {
            "marker": {
             "colorbar": {
              "outlinewidth": 0,
              "ticks": ""
             }
            },
            "type": "scatterternary"
           }
          ],
          "surface": [
           {
            "colorbar": {
             "outlinewidth": 0,
             "ticks": ""
            },
            "colorscale": [
             [
              0,
              "#0d0887"
             ],
             [
              0.1111111111111111,
              "#46039f"
             ],
             [
              0.2222222222222222,
              "#7201a8"
             ],
             [
              0.3333333333333333,
              "#9c179e"
             ],
             [
              0.4444444444444444,
              "#bd3786"
             ],
             [
              0.5555555555555556,
              "#d8576b"
             ],
             [
              0.6666666666666666,
              "#ed7953"
             ],
             [
              0.7777777777777778,
              "#fb9f3a"
             ],
             [
              0.8888888888888888,
              "#fdca26"
             ],
             [
              1,
              "#f0f921"
             ]
            ],
            "type": "surface"
           }
          ],
          "table": [
           {
            "cells": {
             "fill": {
              "color": "#EBF0F8"
             },
             "line": {
              "color": "white"
             }
            },
            "header": {
             "fill": {
              "color": "#C8D4E3"
             },
             "line": {
              "color": "white"
             }
            },
            "type": "table"
           }
          ]
         },
         "layout": {
          "annotationdefaults": {
           "arrowcolor": "#2a3f5f",
           "arrowhead": 0,
           "arrowwidth": 1
          },
          "coloraxis": {
           "colorbar": {
            "outlinewidth": 0,
            "ticks": ""
           }
          },
          "colorscale": {
           "diverging": [
            [
             0,
             "#8e0152"
            ],
            [
             0.1,
             "#c51b7d"
            ],
            [
             0.2,
             "#de77ae"
            ],
            [
             0.3,
             "#f1b6da"
            ],
            [
             0.4,
             "#fde0ef"
            ],
            [
             0.5,
             "#f7f7f7"
            ],
            [
             0.6,
             "#e6f5d0"
            ],
            [
             0.7,
             "#b8e186"
            ],
            [
             0.8,
             "#7fbc41"
            ],
            [
             0.9,
             "#4d9221"
            ],
            [
             1,
             "#276419"
            ]
           ],
           "sequential": [
            [
             0,
             "#0d0887"
            ],
            [
             0.1111111111111111,
             "#46039f"
            ],
            [
             0.2222222222222222,
             "#7201a8"
            ],
            [
             0.3333333333333333,
             "#9c179e"
            ],
            [
             0.4444444444444444,
             "#bd3786"
            ],
            [
             0.5555555555555556,
             "#d8576b"
            ],
            [
             0.6666666666666666,
             "#ed7953"
            ],
            [
             0.7777777777777778,
             "#fb9f3a"
            ],
            [
             0.8888888888888888,
             "#fdca26"
            ],
            [
             1,
             "#f0f921"
            ]
           ],
           "sequentialminus": [
            [
             0,
             "#0d0887"
            ],
            [
             0.1111111111111111,
             "#46039f"
            ],
            [
             0.2222222222222222,
             "#7201a8"
            ],
            [
             0.3333333333333333,
             "#9c179e"
            ],
            [
             0.4444444444444444,
             "#bd3786"
            ],
            [
             0.5555555555555556,
             "#d8576b"
            ],
            [
             0.6666666666666666,
             "#ed7953"
            ],
            [
             0.7777777777777778,
             "#fb9f3a"
            ],
            [
             0.8888888888888888,
             "#fdca26"
            ],
            [
             1,
             "#f0f921"
            ]
           ]
          },
          "colorway": [
           "#636efa",
           "#EF553B",
           "#00cc96",
           "#ab63fa",
           "#FFA15A",
           "#19d3f3",
           "#FF6692",
           "#B6E880",
           "#FF97FF",
           "#FECB52"
          ],
          "font": {
           "color": "#2a3f5f"
          },
          "geo": {
           "bgcolor": "white",
           "lakecolor": "white",
           "landcolor": "#E5ECF6",
           "showlakes": true,
           "showland": true,
           "subunitcolor": "white"
          },
          "hoverlabel": {
           "align": "left"
          },
          "hovermode": "closest",
          "mapbox": {
           "style": "light"
          },
          "paper_bgcolor": "white",
          "plot_bgcolor": "#E5ECF6",
          "polar": {
           "angularaxis": {
            "gridcolor": "white",
            "linecolor": "white",
            "ticks": ""
           },
           "bgcolor": "#E5ECF6",
           "radialaxis": {
            "gridcolor": "white",
            "linecolor": "white",
            "ticks": ""
           }
          },
          "scene": {
           "xaxis": {
            "backgroundcolor": "#E5ECF6",
            "gridcolor": "white",
            "gridwidth": 2,
            "linecolor": "white",
            "showbackground": true,
            "ticks": "",
            "zerolinecolor": "white"
           },
           "yaxis": {
            "backgroundcolor": "#E5ECF6",
            "gridcolor": "white",
            "gridwidth": 2,
            "linecolor": "white",
            "showbackground": true,
            "ticks": "",
            "zerolinecolor": "white"
           },
           "zaxis": {
            "backgroundcolor": "#E5ECF6",
            "gridcolor": "white",
            "gridwidth": 2,
            "linecolor": "white",
            "showbackground": true,
            "ticks": "",
            "zerolinecolor": "white"
           }
          },
          "shapedefaults": {
           "line": {
            "color": "#2a3f5f"
           }
          },
          "ternary": {
           "aaxis": {
            "gridcolor": "white",
            "linecolor": "white",
            "ticks": ""
           },
           "baxis": {
            "gridcolor": "white",
            "linecolor": "white",
            "ticks": ""
           },
           "bgcolor": "#E5ECF6",
           "caxis": {
            "gridcolor": "white",
            "linecolor": "white",
            "ticks": ""
           }
          },
          "title": {
           "x": 0.05
          },
          "xaxis": {
           "automargin": true,
           "gridcolor": "white",
           "linecolor": "white",
           "ticks": "",
           "title": {
            "standoff": 15
           },
           "zerolinecolor": "white",
           "zerolinewidth": 2
          },
          "yaxis": {
           "automargin": true,
           "gridcolor": "white",
           "linecolor": "white",
           "ticks": "",
           "title": {
            "standoff": 15
           },
           "zerolinecolor": "white",
           "zerolinewidth": 2
          }
         }
        }
       }
      },
      "text/html": [
       "<div>\n",
       "        \n",
       "        \n",
       "            <div id=\"c5857d37-cf05-4089-8213-50c2b9d1a206\" class=\"plotly-graph-div\" style=\"height:525px; width:100%;\"></div>\n",
       "            <script type=\"text/javascript\">\n",
       "                require([\"plotly\"], function(Plotly) {\n",
       "                    window.PLOTLYENV=window.PLOTLYENV || {};\n",
       "                    \n",
       "                if (document.getElementById(\"c5857d37-cf05-4089-8213-50c2b9d1a206\")) {\n",
       "                    Plotly.newPlot(\n",
       "                        'c5857d37-cf05-4089-8213-50c2b9d1a206',\n",
       "                        [{\"mode\": \"lines+markers\", \"name\": \"high temp\", \"type\": \"scatter\", \"x\": [1961, 1962, 1963, 1966, 1967, 1973, 1974, 1975, 1977, 1979, 1981, 1982, 1983, 1987, 1988, 1989, 1990, 1991, 1992, 1993, 1994, 1995, 1996, 1997, 1998, 1999, 2000, 2001, 2002, 2003, 2004, 2005, 2006, 2007, 2008, 2009, 2010, 2011, 2012, 2013, 2014, 2015, 2016, 2017, 2018, 2019], \"y\": [23194.444444444445, 7961.5, 8362.0, 25387.666666666668, 22124.5, 26790.5, 27307.0, 36880.0, 24836.0, 28177.0, 19959.0, 11986.0, 23069.533333333333, 9790.42857142857, 32752.2, 46181.944444444445, 35178.875, 28632.666666666668, 37671.17647058824, 16264.666666666666, 33152.485714285714, 29593.16129032258, 16889.333333333332, 18741.19230769231, 23767.816326530614, 34153.882352941175, 41015.958333333336, 30749.69230769231, 30744.0, 31815.509433962263, 31663.957446808512, 28998.597222222223, 32529.970588235294, 38082.02898550725, 32632.285714285714, 34600.53164556962, 28772.983193277312, 40453.50847457627, 33090.75362318841, 33891.34482758621, 32445.340206185567, 33838.99315068493, 35936.56804733728, 38409.23809523809, 41868.8487394958, 37286.81761006289]}, {\"mode\": \"lines+markers\", \"name\": \"Low temp\", \"type\": \"scatter\", \"x\": [1961, 1962, 1963, 1964, 1965, 1966, 1967, 1968, 1969, 1970, 1971, 1972, 1973, 1974, 1975, 1976, 1977, 1978, 1979, 1980, 1981, 1982, 1983, 1984, 1985, 1986, 1987, 1988, 1989, 1990, 1991, 1992, 1993, 1994, 1995, 1996, 1997, 1998, 1999, 2000, 2001, 2002, 2003, 2004, 2005, 2006, 2007, 2008, 2009, 2010, 2011, 2012, 2013, 2014, 2015, 2016, 2017, 2018, 2019], \"y\": [16221.7625, 15630.92, 13796.10294117647, 16217.04255319149, 13691.8125, 16328.137614678899, 22975.975609756097, 22291.11111111111, 14814.75, 15069.466666666667, 24249.090909090908, 16760.86075949367, 18354.4435483871, 26227.53125, 21464.32608695652, 25294.777777777777, 17249.824427480915, 16569.62393162393, 16604.859259259258, 16841.319327731093, 22846.024590163935, 20510.98275862069, 21274.008403361346, 19011.445652173912, 18786.82, 19990.664, 19743.754385964912, 24676.17006802721, 22157.869565217392, 20775.033333333333, 24294.22857142857, 23491.27027027027, 22461.12408759124, 21892.246376811596, 23506.832116788322, 21233.129032258064, 25739.905511811023, 26763.98795180723, 22789.008, 25417.266129032258, 26681.369369369368, 25466.293103448275, 29254.48780487805, 28400.607407407406, 29071.527777777777, 30612.918181818182, 25126.17699115044, 27880.79365079365, 33212.37254901961, 39710.245614035084, 30844.532786885247, 31131.53153153153, 39680.40625, 32151.183908045976, 34820.23684210526, 56027.5, 30640.083333333332, 32737.292307692307, 47268.52]}],\n",
       "                        {\"template\": {\"data\": {\"bar\": [{\"error_x\": {\"color\": \"#2a3f5f\"}, \"error_y\": {\"color\": \"#2a3f5f\"}, \"marker\": {\"line\": {\"color\": \"#E5ECF6\", \"width\": 0.5}}, \"type\": \"bar\"}], \"barpolar\": [{\"marker\": {\"line\": {\"color\": \"#E5ECF6\", \"width\": 0.5}}, \"type\": \"barpolar\"}], \"carpet\": [{\"aaxis\": {\"endlinecolor\": \"#2a3f5f\", \"gridcolor\": \"white\", \"linecolor\": \"white\", \"minorgridcolor\": \"white\", \"startlinecolor\": \"#2a3f5f\"}, \"baxis\": {\"endlinecolor\": \"#2a3f5f\", \"gridcolor\": \"white\", \"linecolor\": \"white\", \"minorgridcolor\": \"white\", \"startlinecolor\": \"#2a3f5f\"}, \"type\": \"carpet\"}], \"choropleth\": [{\"colorbar\": {\"outlinewidth\": 0, \"ticks\": \"\"}, \"type\": \"choropleth\"}], \"contour\": [{\"colorbar\": {\"outlinewidth\": 0, \"ticks\": \"\"}, \"colorscale\": [[0.0, \"#0d0887\"], [0.1111111111111111, \"#46039f\"], [0.2222222222222222, \"#7201a8\"], [0.3333333333333333, \"#9c179e\"], [0.4444444444444444, \"#bd3786\"], [0.5555555555555556, \"#d8576b\"], [0.6666666666666666, \"#ed7953\"], [0.7777777777777778, \"#fb9f3a\"], [0.8888888888888888, \"#fdca26\"], [1.0, \"#f0f921\"]], \"type\": \"contour\"}], \"contourcarpet\": [{\"colorbar\": {\"outlinewidth\": 0, \"ticks\": \"\"}, \"type\": \"contourcarpet\"}], \"heatmap\": [{\"colorbar\": {\"outlinewidth\": 0, \"ticks\": \"\"}, \"colorscale\": [[0.0, \"#0d0887\"], [0.1111111111111111, \"#46039f\"], [0.2222222222222222, \"#7201a8\"], [0.3333333333333333, \"#9c179e\"], [0.4444444444444444, \"#bd3786\"], [0.5555555555555556, \"#d8576b\"], [0.6666666666666666, \"#ed7953\"], [0.7777777777777778, \"#fb9f3a\"], [0.8888888888888888, \"#fdca26\"], [1.0, \"#f0f921\"]], \"type\": \"heatmap\"}], \"heatmapgl\": [{\"colorbar\": {\"outlinewidth\": 0, \"ticks\": \"\"}, \"colorscale\": [[0.0, \"#0d0887\"], [0.1111111111111111, \"#46039f\"], [0.2222222222222222, \"#7201a8\"], [0.3333333333333333, \"#9c179e\"], [0.4444444444444444, \"#bd3786\"], [0.5555555555555556, \"#d8576b\"], [0.6666666666666666, \"#ed7953\"], [0.7777777777777778, \"#fb9f3a\"], [0.8888888888888888, \"#fdca26\"], [1.0, \"#f0f921\"]], \"type\": \"heatmapgl\"}], \"histogram\": [{\"marker\": {\"colorbar\": {\"outlinewidth\": 0, \"ticks\": \"\"}}, \"type\": \"histogram\"}], \"histogram2d\": [{\"colorbar\": {\"outlinewidth\": 0, \"ticks\": \"\"}, \"colorscale\": [[0.0, \"#0d0887\"], [0.1111111111111111, \"#46039f\"], [0.2222222222222222, \"#7201a8\"], [0.3333333333333333, \"#9c179e\"], [0.4444444444444444, \"#bd3786\"], [0.5555555555555556, \"#d8576b\"], [0.6666666666666666, \"#ed7953\"], [0.7777777777777778, \"#fb9f3a\"], [0.8888888888888888, \"#fdca26\"], [1.0, \"#f0f921\"]], \"type\": \"histogram2d\"}], \"histogram2dcontour\": [{\"colorbar\": {\"outlinewidth\": 0, \"ticks\": \"\"}, \"colorscale\": [[0.0, \"#0d0887\"], [0.1111111111111111, \"#46039f\"], [0.2222222222222222, \"#7201a8\"], [0.3333333333333333, \"#9c179e\"], [0.4444444444444444, \"#bd3786\"], [0.5555555555555556, \"#d8576b\"], [0.6666666666666666, \"#ed7953\"], [0.7777777777777778, \"#fb9f3a\"], [0.8888888888888888, \"#fdca26\"], [1.0, \"#f0f921\"]], \"type\": \"histogram2dcontour\"}], \"mesh3d\": [{\"colorbar\": {\"outlinewidth\": 0, \"ticks\": \"\"}, \"type\": \"mesh3d\"}], \"parcoords\": [{\"line\": {\"colorbar\": {\"outlinewidth\": 0, \"ticks\": \"\"}}, \"type\": \"parcoords\"}], \"pie\": [{\"automargin\": true, \"type\": \"pie\"}], \"scatter\": [{\"marker\": {\"colorbar\": {\"outlinewidth\": 0, \"ticks\": \"\"}}, \"type\": \"scatter\"}], \"scatter3d\": [{\"line\": {\"colorbar\": {\"outlinewidth\": 0, \"ticks\": \"\"}}, \"marker\": {\"colorbar\": {\"outlinewidth\": 0, \"ticks\": \"\"}}, \"type\": \"scatter3d\"}], \"scattercarpet\": [{\"marker\": {\"colorbar\": {\"outlinewidth\": 0, \"ticks\": \"\"}}, \"type\": \"scattercarpet\"}], \"scattergeo\": [{\"marker\": {\"colorbar\": {\"outlinewidth\": 0, \"ticks\": \"\"}}, \"type\": \"scattergeo\"}], \"scattergl\": [{\"marker\": {\"colorbar\": {\"outlinewidth\": 0, \"ticks\": \"\"}}, \"type\": \"scattergl\"}], \"scattermapbox\": [{\"marker\": {\"colorbar\": {\"outlinewidth\": 0, \"ticks\": \"\"}}, \"type\": \"scattermapbox\"}], \"scatterpolar\": [{\"marker\": {\"colorbar\": {\"outlinewidth\": 0, \"ticks\": \"\"}}, \"type\": \"scatterpolar\"}], \"scatterpolargl\": [{\"marker\": {\"colorbar\": {\"outlinewidth\": 0, \"ticks\": \"\"}}, \"type\": \"scatterpolargl\"}], \"scatterternary\": [{\"marker\": {\"colorbar\": {\"outlinewidth\": 0, \"ticks\": \"\"}}, \"type\": \"scatterternary\"}], \"surface\": [{\"colorbar\": {\"outlinewidth\": 0, \"ticks\": \"\"}, \"colorscale\": [[0.0, \"#0d0887\"], [0.1111111111111111, \"#46039f\"], [0.2222222222222222, \"#7201a8\"], [0.3333333333333333, \"#9c179e\"], [0.4444444444444444, \"#bd3786\"], [0.5555555555555556, \"#d8576b\"], [0.6666666666666666, \"#ed7953\"], [0.7777777777777778, \"#fb9f3a\"], [0.8888888888888888, \"#fdca26\"], [1.0, \"#f0f921\"]], \"type\": \"surface\"}], \"table\": [{\"cells\": {\"fill\": {\"color\": \"#EBF0F8\"}, \"line\": {\"color\": \"white\"}}, \"header\": {\"fill\": {\"color\": \"#C8D4E3\"}, \"line\": {\"color\": \"white\"}}, \"type\": \"table\"}]}, \"layout\": {\"annotationdefaults\": {\"arrowcolor\": \"#2a3f5f\", \"arrowhead\": 0, \"arrowwidth\": 1}, \"coloraxis\": {\"colorbar\": {\"outlinewidth\": 0, \"ticks\": \"\"}}, \"colorscale\": {\"diverging\": [[0, \"#8e0152\"], [0.1, \"#c51b7d\"], [0.2, \"#de77ae\"], [0.3, \"#f1b6da\"], [0.4, \"#fde0ef\"], [0.5, \"#f7f7f7\"], [0.6, \"#e6f5d0\"], [0.7, \"#b8e186\"], [0.8, \"#7fbc41\"], [0.9, \"#4d9221\"], [1, \"#276419\"]], \"sequential\": [[0.0, \"#0d0887\"], [0.1111111111111111, \"#46039f\"], [0.2222222222222222, \"#7201a8\"], [0.3333333333333333, \"#9c179e\"], [0.4444444444444444, \"#bd3786\"], [0.5555555555555556, \"#d8576b\"], [0.6666666666666666, \"#ed7953\"], [0.7777777777777778, \"#fb9f3a\"], [0.8888888888888888, \"#fdca26\"], [1.0, \"#f0f921\"]], \"sequentialminus\": [[0.0, \"#0d0887\"], [0.1111111111111111, \"#46039f\"], [0.2222222222222222, \"#7201a8\"], [0.3333333333333333, \"#9c179e\"], [0.4444444444444444, \"#bd3786\"], [0.5555555555555556, \"#d8576b\"], [0.6666666666666666, \"#ed7953\"], [0.7777777777777778, \"#fb9f3a\"], [0.8888888888888888, \"#fdca26\"], [1.0, \"#f0f921\"]]}, \"colorway\": [\"#636efa\", \"#EF553B\", \"#00cc96\", \"#ab63fa\", \"#FFA15A\", \"#19d3f3\", \"#FF6692\", \"#B6E880\", \"#FF97FF\", \"#FECB52\"], \"font\": {\"color\": \"#2a3f5f\"}, \"geo\": {\"bgcolor\": \"white\", \"lakecolor\": \"white\", \"landcolor\": \"#E5ECF6\", \"showlakes\": true, \"showland\": true, \"subunitcolor\": \"white\"}, \"hoverlabel\": {\"align\": \"left\"}, \"hovermode\": \"closest\", \"mapbox\": {\"style\": \"light\"}, \"paper_bgcolor\": \"white\", \"plot_bgcolor\": \"#E5ECF6\", \"polar\": {\"angularaxis\": {\"gridcolor\": \"white\", \"linecolor\": \"white\", \"ticks\": \"\"}, \"bgcolor\": \"#E5ECF6\", \"radialaxis\": {\"gridcolor\": \"white\", \"linecolor\": \"white\", \"ticks\": \"\"}}, \"scene\": {\"xaxis\": {\"backgroundcolor\": \"#E5ECF6\", \"gridcolor\": \"white\", \"gridwidth\": 2, \"linecolor\": \"white\", \"showbackground\": true, \"ticks\": \"\", \"zerolinecolor\": \"white\"}, \"yaxis\": {\"backgroundcolor\": \"#E5ECF6\", \"gridcolor\": \"white\", \"gridwidth\": 2, \"linecolor\": \"white\", \"showbackground\": true, \"ticks\": \"\", \"zerolinecolor\": \"white\"}, \"zaxis\": {\"backgroundcolor\": \"#E5ECF6\", \"gridcolor\": \"white\", \"gridwidth\": 2, \"linecolor\": \"white\", \"showbackground\": true, \"ticks\": \"\", \"zerolinecolor\": \"white\"}}, \"shapedefaults\": {\"line\": {\"color\": \"#2a3f5f\"}}, \"ternary\": {\"aaxis\": {\"gridcolor\": \"white\", \"linecolor\": \"white\", \"ticks\": \"\"}, \"baxis\": {\"gridcolor\": \"white\", \"linecolor\": \"white\", \"ticks\": \"\"}, \"bgcolor\": \"#E5ECF6\", \"caxis\": {\"gridcolor\": \"white\", \"linecolor\": \"white\", \"ticks\": \"\"}}, \"title\": {\"x\": 0.05}, \"xaxis\": {\"automargin\": true, \"gridcolor\": \"white\", \"linecolor\": \"white\", \"ticks\": \"\", \"title\": {\"standoff\": 15}, \"zerolinecolor\": \"white\", \"zerolinewidth\": 2}, \"yaxis\": {\"automargin\": true, \"gridcolor\": \"white\", \"linecolor\": \"white\", \"ticks\": \"\", \"title\": {\"standoff\": 15}, \"zerolinecolor\": \"white\", \"zerolinewidth\": 2}}}},\n",
       "                        {\"responsive\": true}\n",
       "                    ).then(function(){\n",
       "                            \n",
       "var gd = document.getElementById('c5857d37-cf05-4089-8213-50c2b9d1a206');\n",
       "var x = new MutationObserver(function (mutations, observer) {{\n",
       "        var display = window.getComputedStyle(gd).display;\n",
       "        if (!display || display === 'none') {{\n",
       "            console.log([gd, 'removed!']);\n",
       "            Plotly.purge(gd);\n",
       "            observer.disconnect();\n",
       "        }}\n",
       "}});\n",
       "\n",
       "// Listen for the removal of the full notebook cells\n",
       "var notebookContainer = gd.closest('#notebook-container');\n",
       "if (notebookContainer) {{\n",
       "    x.observe(notebookContainer, {childList: true});\n",
       "}}\n",
       "\n",
       "// Listen for the clearing of the current output cell\n",
       "var outputEl = gd.closest('.output');\n",
       "if (outputEl) {{\n",
       "    x.observe(outputEl, {childList: true});\n",
       "}}\n",
       "\n",
       "                        })\n",
       "                };\n",
       "                });\n",
       "            </script>\n",
       "        </div>"
      ]
     },
     "metadata": {},
     "output_type": "display_data"
    },
    {
     "data": {
      "application/vnd.plotly.v1+json": {
       "config": {
        "plotlyServerURL": "https://plot.ly"
       },
       "data": [
        {
         "mode": "lines+markers",
         "name": "high temp",
         "type": "scatter",
         "x": [
          1961,
          1962,
          1963,
          1966,
          1967,
          1973,
          1974,
          1975,
          1977,
          1979,
          1981,
          1982,
          1983,
          1987,
          1988,
          1989,
          1990,
          1991,
          1992,
          1993,
          1994,
          1995,
          1996,
          1997,
          1998,
          1999,
          2000,
          2001,
          2002,
          2003,
          2004,
          2005,
          2006,
          2007,
          2008,
          2009,
          2010,
          2011,
          2012,
          2013,
          2014,
          2015,
          2016,
          2017,
          2018,
          2019
         ],
         "y": [
          23194.444444444445,
          7961.5,
          8362,
          25387.666666666668,
          22124.5,
          26790.5,
          27307,
          36880,
          24836,
          28177,
          19959,
          11986,
          23069.533333333333,
          9790.42857142857,
          32752.2,
          46181.944444444445,
          35178.875,
          28632.666666666668,
          37671.17647058824,
          16264.666666666666,
          33152.485714285714,
          29593.16129032258,
          16889.333333333332,
          18741.19230769231,
          23767.816326530614,
          34153.882352941175,
          41015.958333333336,
          30749.69230769231,
          30744,
          31815.509433962263,
          31663.957446808512,
          28998.597222222223,
          32529.970588235294,
          38082.02898550725,
          32632.285714285714,
          34600.53164556962,
          28772.983193277312,
          40453.50847457627,
          33090.75362318841,
          33891.34482758621,
          32445.340206185567,
          33838.99315068493,
          35936.56804733728,
          38409.23809523809,
          41868.8487394958,
          37286.81761006289
         ]
        },
        {
         "mode": "lines+markers",
         "name": "Low temp",
         "type": "scatter",
         "x": [
          1961,
          1962,
          1963,
          1964,
          1965,
          1966,
          1967,
          1968,
          1969,
          1970,
          1971,
          1972,
          1973,
          1974,
          1975,
          1976,
          1977,
          1978,
          1979,
          1980,
          1981,
          1982,
          1983,
          1984,
          1985,
          1986,
          1987,
          1988,
          1989,
          1990,
          1991,
          1992,
          1993,
          1994,
          1995,
          1996,
          1997,
          1998,
          1999,
          2000,
          2001,
          2002,
          2003,
          2004,
          2005,
          2006,
          2007,
          2008,
          2009,
          2010,
          2011,
          2012,
          2013,
          2014,
          2015,
          2016,
          2017,
          2018,
          2019
         ],
         "y": [
          16221.7625,
          15630.92,
          13796.10294117647,
          16217.04255319149,
          13691.8125,
          16328.137614678899,
          22975.975609756097,
          22291.11111111111,
          14814.75,
          15069.466666666667,
          24249.090909090908,
          16760.86075949367,
          18354.4435483871,
          26227.53125,
          21464.32608695652,
          25294.777777777777,
          17249.824427480915,
          16569.62393162393,
          16604.859259259258,
          16841.319327731093,
          22846.024590163935,
          20510.98275862069,
          21274.008403361346,
          19011.445652173912,
          18786.82,
          19990.664,
          19743.754385964912,
          24676.17006802721,
          22157.869565217392,
          20775.033333333333,
          24294.22857142857,
          23491.27027027027,
          22461.12408759124,
          21892.246376811596,
          23506.832116788322,
          21233.129032258064,
          25739.905511811023,
          26763.98795180723,
          22789.008,
          25417.266129032258,
          26681.369369369368,
          25466.293103448275,
          29254.48780487805,
          28400.607407407406,
          29071.527777777777,
          30612.918181818182,
          25126.17699115044,
          27880.79365079365,
          33212.37254901961,
          39710.245614035084,
          30844.532786885247,
          31131.53153153153,
          39680.40625,
          32151.183908045976,
          34820.23684210526,
          56027.5,
          30640.083333333332,
          32737.292307692307,
          47268.52
         ]
        }
       ],
       "layout": {
        "template": {
         "data": {
          "bar": [
           {
            "error_x": {
             "color": "#2a3f5f"
            },
            "error_y": {
             "color": "#2a3f5f"
            },
            "marker": {
             "line": {
              "color": "#E5ECF6",
              "width": 0.5
             }
            },
            "type": "bar"
           }
          ],
          "barpolar": [
           {
            "marker": {
             "line": {
              "color": "#E5ECF6",
              "width": 0.5
             }
            },
            "type": "barpolar"
           }
          ],
          "carpet": [
           {
            "aaxis": {
             "endlinecolor": "#2a3f5f",
             "gridcolor": "white",
             "linecolor": "white",
             "minorgridcolor": "white",
             "startlinecolor": "#2a3f5f"
            },
            "baxis": {
             "endlinecolor": "#2a3f5f",
             "gridcolor": "white",
             "linecolor": "white",
             "minorgridcolor": "white",
             "startlinecolor": "#2a3f5f"
            },
            "type": "carpet"
           }
          ],
          "choropleth": [
           {
            "colorbar": {
             "outlinewidth": 0,
             "ticks": ""
            },
            "type": "choropleth"
           }
          ],
          "contour": [
           {
            "colorbar": {
             "outlinewidth": 0,
             "ticks": ""
            },
            "colorscale": [
             [
              0,
              "#0d0887"
             ],
             [
              0.1111111111111111,
              "#46039f"
             ],
             [
              0.2222222222222222,
              "#7201a8"
             ],
             [
              0.3333333333333333,
              "#9c179e"
             ],
             [
              0.4444444444444444,
              "#bd3786"
             ],
             [
              0.5555555555555556,
              "#d8576b"
             ],
             [
              0.6666666666666666,
              "#ed7953"
             ],
             [
              0.7777777777777778,
              "#fb9f3a"
             ],
             [
              0.8888888888888888,
              "#fdca26"
             ],
             [
              1,
              "#f0f921"
             ]
            ],
            "type": "contour"
           }
          ],
          "contourcarpet": [
           {
            "colorbar": {
             "outlinewidth": 0,
             "ticks": ""
            },
            "type": "contourcarpet"
           }
          ],
          "heatmap": [
           {
            "colorbar": {
             "outlinewidth": 0,
             "ticks": ""
            },
            "colorscale": [
             [
              0,
              "#0d0887"
             ],
             [
              0.1111111111111111,
              "#46039f"
             ],
             [
              0.2222222222222222,
              "#7201a8"
             ],
             [
              0.3333333333333333,
              "#9c179e"
             ],
             [
              0.4444444444444444,
              "#bd3786"
             ],
             [
              0.5555555555555556,
              "#d8576b"
             ],
             [
              0.6666666666666666,
              "#ed7953"
             ],
             [
              0.7777777777777778,
              "#fb9f3a"
             ],
             [
              0.8888888888888888,
              "#fdca26"
             ],
             [
              1,
              "#f0f921"
             ]
            ],
            "type": "heatmap"
           }
          ],
          "heatmapgl": [
           {
            "colorbar": {
             "outlinewidth": 0,
             "ticks": ""
            },
            "colorscale": [
             [
              0,
              "#0d0887"
             ],
             [
              0.1111111111111111,
              "#46039f"
             ],
             [
              0.2222222222222222,
              "#7201a8"
             ],
             [
              0.3333333333333333,
              "#9c179e"
             ],
             [
              0.4444444444444444,
              "#bd3786"
             ],
             [
              0.5555555555555556,
              "#d8576b"
             ],
             [
              0.6666666666666666,
              "#ed7953"
             ],
             [
              0.7777777777777778,
              "#fb9f3a"
             ],
             [
              0.8888888888888888,
              "#fdca26"
             ],
             [
              1,
              "#f0f921"
             ]
            ],
            "type": "heatmapgl"
           }
          ],
          "histogram": [
           {
            "marker": {
             "colorbar": {
              "outlinewidth": 0,
              "ticks": ""
             }
            },
            "type": "histogram"
           }
          ],
          "histogram2d": [
           {
            "colorbar": {
             "outlinewidth": 0,
             "ticks": ""
            },
            "colorscale": [
             [
              0,
              "#0d0887"
             ],
             [
              0.1111111111111111,
              "#46039f"
             ],
             [
              0.2222222222222222,
              "#7201a8"
             ],
             [
              0.3333333333333333,
              "#9c179e"
             ],
             [
              0.4444444444444444,
              "#bd3786"
             ],
             [
              0.5555555555555556,
              "#d8576b"
             ],
             [
              0.6666666666666666,
              "#ed7953"
             ],
             [
              0.7777777777777778,
              "#fb9f3a"
             ],
             [
              0.8888888888888888,
              "#fdca26"
             ],
             [
              1,
              "#f0f921"
             ]
            ],
            "type": "histogram2d"
           }
          ],
          "histogram2dcontour": [
           {
            "colorbar": {
             "outlinewidth": 0,
             "ticks": ""
            },
            "colorscale": [
             [
              0,
              "#0d0887"
             ],
             [
              0.1111111111111111,
              "#46039f"
             ],
             [
              0.2222222222222222,
              "#7201a8"
             ],
             [
              0.3333333333333333,
              "#9c179e"
             ],
             [
              0.4444444444444444,
              "#bd3786"
             ],
             [
              0.5555555555555556,
              "#d8576b"
             ],
             [
              0.6666666666666666,
              "#ed7953"
             ],
             [
              0.7777777777777778,
              "#fb9f3a"
             ],
             [
              0.8888888888888888,
              "#fdca26"
             ],
             [
              1,
              "#f0f921"
             ]
            ],
            "type": "histogram2dcontour"
           }
          ],
          "mesh3d": [
           {
            "colorbar": {
             "outlinewidth": 0,
             "ticks": ""
            },
            "type": "mesh3d"
           }
          ],
          "parcoords": [
           {
            "line": {
             "colorbar": {
              "outlinewidth": 0,
              "ticks": ""
             }
            },
            "type": "parcoords"
           }
          ],
          "pie": [
           {
            "automargin": true,
            "type": "pie"
           }
          ],
          "scatter": [
           {
            "marker": {
             "colorbar": {
              "outlinewidth": 0,
              "ticks": ""
             }
            },
            "type": "scatter"
           }
          ],
          "scatter3d": [
           {
            "line": {
             "colorbar": {
              "outlinewidth": 0,
              "ticks": ""
             }
            },
            "marker": {
             "colorbar": {
              "outlinewidth": 0,
              "ticks": ""
             }
            },
            "type": "scatter3d"
           }
          ],
          "scattercarpet": [
           {
            "marker": {
             "colorbar": {
              "outlinewidth": 0,
              "ticks": ""
             }
            },
            "type": "scattercarpet"
           }
          ],
          "scattergeo": [
           {
            "marker": {
             "colorbar": {
              "outlinewidth": 0,
              "ticks": ""
             }
            },
            "type": "scattergeo"
           }
          ],
          "scattergl": [
           {
            "marker": {
             "colorbar": {
              "outlinewidth": 0,
              "ticks": ""
             }
            },
            "type": "scattergl"
           }
          ],
          "scattermapbox": [
           {
            "marker": {
             "colorbar": {
              "outlinewidth": 0,
              "ticks": ""
             }
            },
            "type": "scattermapbox"
           }
          ],
          "scatterpolar": [
           {
            "marker": {
             "colorbar": {
              "outlinewidth": 0,
              "ticks": ""
             }
            },
            "type": "scatterpolar"
           }
          ],
          "scatterpolargl": [
           {
            "marker": {
             "colorbar": {
              "outlinewidth": 0,
              "ticks": ""
             }
            },
            "type": "scatterpolargl"
           }
          ],
          "scatterternary": [
           {
            "marker": {
             "colorbar": {
              "outlinewidth": 0,
              "ticks": ""
             }
            },
            "type": "scatterternary"
           }
          ],
          "surface": [
           {
            "colorbar": {
             "outlinewidth": 0,
             "ticks": ""
            },
            "colorscale": [
             [
              0,
              "#0d0887"
             ],
             [
              0.1111111111111111,
              "#46039f"
             ],
             [
              0.2222222222222222,
              "#7201a8"
             ],
             [
              0.3333333333333333,
              "#9c179e"
             ],
             [
              0.4444444444444444,
              "#bd3786"
             ],
             [
              0.5555555555555556,
              "#d8576b"
             ],
             [
              0.6666666666666666,
              "#ed7953"
             ],
             [
              0.7777777777777778,
              "#fb9f3a"
             ],
             [
              0.8888888888888888,
              "#fdca26"
             ],
             [
              1,
              "#f0f921"
             ]
            ],
            "type": "surface"
           }
          ],
          "table": [
           {
            "cells": {
             "fill": {
              "color": "#EBF0F8"
             },
             "line": {
              "color": "white"
             }
            },
            "header": {
             "fill": {
              "color": "#C8D4E3"
             },
             "line": {
              "color": "white"
             }
            },
            "type": "table"
           }
          ]
         },
         "layout": {
          "annotationdefaults": {
           "arrowcolor": "#2a3f5f",
           "arrowhead": 0,
           "arrowwidth": 1
          },
          "coloraxis": {
           "colorbar": {
            "outlinewidth": 0,
            "ticks": ""
           }
          },
          "colorscale": {
           "diverging": [
            [
             0,
             "#8e0152"
            ],
            [
             0.1,
             "#c51b7d"
            ],
            [
             0.2,
             "#de77ae"
            ],
            [
             0.3,
             "#f1b6da"
            ],
            [
             0.4,
             "#fde0ef"
            ],
            [
             0.5,
             "#f7f7f7"
            ],
            [
             0.6,
             "#e6f5d0"
            ],
            [
             0.7,
             "#b8e186"
            ],
            [
             0.8,
             "#7fbc41"
            ],
            [
             0.9,
             "#4d9221"
            ],
            [
             1,
             "#276419"
            ]
           ],
           "sequential": [
            [
             0,
             "#0d0887"
            ],
            [
             0.1111111111111111,
             "#46039f"
            ],
            [
             0.2222222222222222,
             "#7201a8"
            ],
            [
             0.3333333333333333,
             "#9c179e"
            ],
            [
             0.4444444444444444,
             "#bd3786"
            ],
            [
             0.5555555555555556,
             "#d8576b"
            ],
            [
             0.6666666666666666,
             "#ed7953"
            ],
            [
             0.7777777777777778,
             "#fb9f3a"
            ],
            [
             0.8888888888888888,
             "#fdca26"
            ],
            [
             1,
             "#f0f921"
            ]
           ],
           "sequentialminus": [
            [
             0,
             "#0d0887"
            ],
            [
             0.1111111111111111,
             "#46039f"
            ],
            [
             0.2222222222222222,
             "#7201a8"
            ],
            [
             0.3333333333333333,
             "#9c179e"
            ],
            [
             0.4444444444444444,
             "#bd3786"
            ],
            [
             0.5555555555555556,
             "#d8576b"
            ],
            [
             0.6666666666666666,
             "#ed7953"
            ],
            [
             0.7777777777777778,
             "#fb9f3a"
            ],
            [
             0.8888888888888888,
             "#fdca26"
            ],
            [
             1,
             "#f0f921"
            ]
           ]
          },
          "colorway": [
           "#636efa",
           "#EF553B",
           "#00cc96",
           "#ab63fa",
           "#FFA15A",
           "#19d3f3",
           "#FF6692",
           "#B6E880",
           "#FF97FF",
           "#FECB52"
          ],
          "font": {
           "color": "#2a3f5f"
          },
          "geo": {
           "bgcolor": "white",
           "lakecolor": "white",
           "landcolor": "#E5ECF6",
           "showlakes": true,
           "showland": true,
           "subunitcolor": "white"
          },
          "hoverlabel": {
           "align": "left"
          },
          "hovermode": "closest",
          "mapbox": {
           "style": "light"
          },
          "paper_bgcolor": "white",
          "plot_bgcolor": "#E5ECF6",
          "polar": {
           "angularaxis": {
            "gridcolor": "white",
            "linecolor": "white",
            "ticks": ""
           },
           "bgcolor": "#E5ECF6",
           "radialaxis": {
            "gridcolor": "white",
            "linecolor": "white",
            "ticks": ""
           }
          },
          "scene": {
           "xaxis": {
            "backgroundcolor": "#E5ECF6",
            "gridcolor": "white",
            "gridwidth": 2,
            "linecolor": "white",
            "showbackground": true,
            "ticks": "",
            "zerolinecolor": "white"
           },
           "yaxis": {
            "backgroundcolor": "#E5ECF6",
            "gridcolor": "white",
            "gridwidth": 2,
            "linecolor": "white",
            "showbackground": true,
            "ticks": "",
            "zerolinecolor": "white"
           },
           "zaxis": {
            "backgroundcolor": "#E5ECF6",
            "gridcolor": "white",
            "gridwidth": 2,
            "linecolor": "white",
            "showbackground": true,
            "ticks": "",
            "zerolinecolor": "white"
           }
          },
          "shapedefaults": {
           "line": {
            "color": "#2a3f5f"
           }
          },
          "ternary": {
           "aaxis": {
            "gridcolor": "white",
            "linecolor": "white",
            "ticks": ""
           },
           "baxis": {
            "gridcolor": "white",
            "linecolor": "white",
            "ticks": ""
           },
           "bgcolor": "#E5ECF6",
           "caxis": {
            "gridcolor": "white",
            "linecolor": "white",
            "ticks": ""
           }
          },
          "title": {
           "x": 0.05
          },
          "xaxis": {
           "automargin": true,
           "gridcolor": "white",
           "linecolor": "white",
           "ticks": "",
           "title": {
            "standoff": 15
           },
           "zerolinecolor": "white",
           "zerolinewidth": 2
          },
          "yaxis": {
           "automargin": true,
           "gridcolor": "white",
           "linecolor": "white",
           "ticks": "",
           "title": {
            "standoff": 15
           },
           "zerolinecolor": "white",
           "zerolinewidth": 2
          }
         }
        },
        "title": {
         "text": "Global Average Yield in High & Low Temperature Anomaly",
         "x": 0.5,
         "xanchor": "center"
        },
        "xaxis": {
         "title": {
          "text": "Year"
         }
        },
        "yaxis": {
         "title": {
          "text": "Yield per Hectare"
         }
        }
       }
      },
      "text/html": [
       "<div>\n",
       "        \n",
       "        \n",
       "            <div id=\"8fe6bb22-e823-4412-b162-79afcf8fad19\" class=\"plotly-graph-div\" style=\"height:525px; width:100%;\"></div>\n",
       "            <script type=\"text/javascript\">\n",
       "                require([\"plotly\"], function(Plotly) {\n",
       "                    window.PLOTLYENV=window.PLOTLYENV || {};\n",
       "                    \n",
       "                if (document.getElementById(\"8fe6bb22-e823-4412-b162-79afcf8fad19\")) {\n",
       "                    Plotly.newPlot(\n",
       "                        '8fe6bb22-e823-4412-b162-79afcf8fad19',\n",
       "                        [{\"mode\": \"lines+markers\", \"name\": \"high temp\", \"type\": \"scatter\", \"x\": [1961, 1962, 1963, 1966, 1967, 1973, 1974, 1975, 1977, 1979, 1981, 1982, 1983, 1987, 1988, 1989, 1990, 1991, 1992, 1993, 1994, 1995, 1996, 1997, 1998, 1999, 2000, 2001, 2002, 2003, 2004, 2005, 2006, 2007, 2008, 2009, 2010, 2011, 2012, 2013, 2014, 2015, 2016, 2017, 2018, 2019], \"y\": [23194.444444444445, 7961.5, 8362.0, 25387.666666666668, 22124.5, 26790.5, 27307.0, 36880.0, 24836.0, 28177.0, 19959.0, 11986.0, 23069.533333333333, 9790.42857142857, 32752.2, 46181.944444444445, 35178.875, 28632.666666666668, 37671.17647058824, 16264.666666666666, 33152.485714285714, 29593.16129032258, 16889.333333333332, 18741.19230769231, 23767.816326530614, 34153.882352941175, 41015.958333333336, 30749.69230769231, 30744.0, 31815.509433962263, 31663.957446808512, 28998.597222222223, 32529.970588235294, 38082.02898550725, 32632.285714285714, 34600.53164556962, 28772.983193277312, 40453.50847457627, 33090.75362318841, 33891.34482758621, 32445.340206185567, 33838.99315068493, 35936.56804733728, 38409.23809523809, 41868.8487394958, 37286.81761006289]}, {\"mode\": \"lines+markers\", \"name\": \"Low temp\", \"type\": \"scatter\", \"x\": [1961, 1962, 1963, 1964, 1965, 1966, 1967, 1968, 1969, 1970, 1971, 1972, 1973, 1974, 1975, 1976, 1977, 1978, 1979, 1980, 1981, 1982, 1983, 1984, 1985, 1986, 1987, 1988, 1989, 1990, 1991, 1992, 1993, 1994, 1995, 1996, 1997, 1998, 1999, 2000, 2001, 2002, 2003, 2004, 2005, 2006, 2007, 2008, 2009, 2010, 2011, 2012, 2013, 2014, 2015, 2016, 2017, 2018, 2019], \"y\": [16221.7625, 15630.92, 13796.10294117647, 16217.04255319149, 13691.8125, 16328.137614678899, 22975.975609756097, 22291.11111111111, 14814.75, 15069.466666666667, 24249.090909090908, 16760.86075949367, 18354.4435483871, 26227.53125, 21464.32608695652, 25294.777777777777, 17249.824427480915, 16569.62393162393, 16604.859259259258, 16841.319327731093, 22846.024590163935, 20510.98275862069, 21274.008403361346, 19011.445652173912, 18786.82, 19990.664, 19743.754385964912, 24676.17006802721, 22157.869565217392, 20775.033333333333, 24294.22857142857, 23491.27027027027, 22461.12408759124, 21892.246376811596, 23506.832116788322, 21233.129032258064, 25739.905511811023, 26763.98795180723, 22789.008, 25417.266129032258, 26681.369369369368, 25466.293103448275, 29254.48780487805, 28400.607407407406, 29071.527777777777, 30612.918181818182, 25126.17699115044, 27880.79365079365, 33212.37254901961, 39710.245614035084, 30844.532786885247, 31131.53153153153, 39680.40625, 32151.183908045976, 34820.23684210526, 56027.5, 30640.083333333332, 32737.292307692307, 47268.52]}],\n",
       "                        {\"template\": {\"data\": {\"bar\": [{\"error_x\": {\"color\": \"#2a3f5f\"}, \"error_y\": {\"color\": \"#2a3f5f\"}, \"marker\": {\"line\": {\"color\": \"#E5ECF6\", \"width\": 0.5}}, \"type\": \"bar\"}], \"barpolar\": [{\"marker\": {\"line\": {\"color\": \"#E5ECF6\", \"width\": 0.5}}, \"type\": \"barpolar\"}], \"carpet\": [{\"aaxis\": {\"endlinecolor\": \"#2a3f5f\", \"gridcolor\": \"white\", \"linecolor\": \"white\", \"minorgridcolor\": \"white\", \"startlinecolor\": \"#2a3f5f\"}, \"baxis\": {\"endlinecolor\": \"#2a3f5f\", \"gridcolor\": \"white\", \"linecolor\": \"white\", \"minorgridcolor\": \"white\", \"startlinecolor\": \"#2a3f5f\"}, \"type\": \"carpet\"}], \"choropleth\": [{\"colorbar\": {\"outlinewidth\": 0, \"ticks\": \"\"}, \"type\": \"choropleth\"}], \"contour\": [{\"colorbar\": {\"outlinewidth\": 0, \"ticks\": \"\"}, \"colorscale\": [[0.0, \"#0d0887\"], [0.1111111111111111, \"#46039f\"], [0.2222222222222222, \"#7201a8\"], [0.3333333333333333, \"#9c179e\"], [0.4444444444444444, \"#bd3786\"], [0.5555555555555556, \"#d8576b\"], [0.6666666666666666, \"#ed7953\"], [0.7777777777777778, \"#fb9f3a\"], [0.8888888888888888, \"#fdca26\"], [1.0, \"#f0f921\"]], \"type\": \"contour\"}], \"contourcarpet\": [{\"colorbar\": {\"outlinewidth\": 0, \"ticks\": \"\"}, \"type\": \"contourcarpet\"}], \"heatmap\": [{\"colorbar\": {\"outlinewidth\": 0, \"ticks\": \"\"}, \"colorscale\": [[0.0, \"#0d0887\"], [0.1111111111111111, \"#46039f\"], [0.2222222222222222, \"#7201a8\"], [0.3333333333333333, \"#9c179e\"], [0.4444444444444444, \"#bd3786\"], [0.5555555555555556, \"#d8576b\"], [0.6666666666666666, \"#ed7953\"], [0.7777777777777778, \"#fb9f3a\"], [0.8888888888888888, \"#fdca26\"], [1.0, \"#f0f921\"]], \"type\": \"heatmap\"}], \"heatmapgl\": [{\"colorbar\": {\"outlinewidth\": 0, \"ticks\": \"\"}, \"colorscale\": [[0.0, \"#0d0887\"], [0.1111111111111111, \"#46039f\"], [0.2222222222222222, \"#7201a8\"], [0.3333333333333333, \"#9c179e\"], [0.4444444444444444, \"#bd3786\"], [0.5555555555555556, \"#d8576b\"], [0.6666666666666666, \"#ed7953\"], [0.7777777777777778, \"#fb9f3a\"], [0.8888888888888888, \"#fdca26\"], [1.0, \"#f0f921\"]], \"type\": \"heatmapgl\"}], \"histogram\": [{\"marker\": {\"colorbar\": {\"outlinewidth\": 0, \"ticks\": \"\"}}, \"type\": \"histogram\"}], \"histogram2d\": [{\"colorbar\": {\"outlinewidth\": 0, \"ticks\": \"\"}, \"colorscale\": [[0.0, \"#0d0887\"], [0.1111111111111111, \"#46039f\"], [0.2222222222222222, \"#7201a8\"], [0.3333333333333333, \"#9c179e\"], [0.4444444444444444, \"#bd3786\"], [0.5555555555555556, \"#d8576b\"], [0.6666666666666666, \"#ed7953\"], [0.7777777777777778, \"#fb9f3a\"], [0.8888888888888888, \"#fdca26\"], [1.0, \"#f0f921\"]], \"type\": \"histogram2d\"}], \"histogram2dcontour\": [{\"colorbar\": {\"outlinewidth\": 0, \"ticks\": \"\"}, \"colorscale\": [[0.0, \"#0d0887\"], [0.1111111111111111, \"#46039f\"], [0.2222222222222222, \"#7201a8\"], [0.3333333333333333, \"#9c179e\"], [0.4444444444444444, \"#bd3786\"], [0.5555555555555556, \"#d8576b\"], [0.6666666666666666, \"#ed7953\"], [0.7777777777777778, \"#fb9f3a\"], [0.8888888888888888, \"#fdca26\"], [1.0, \"#f0f921\"]], \"type\": \"histogram2dcontour\"}], \"mesh3d\": [{\"colorbar\": {\"outlinewidth\": 0, \"ticks\": \"\"}, \"type\": \"mesh3d\"}], \"parcoords\": [{\"line\": {\"colorbar\": {\"outlinewidth\": 0, \"ticks\": \"\"}}, \"type\": \"parcoords\"}], \"pie\": [{\"automargin\": true, \"type\": \"pie\"}], \"scatter\": [{\"marker\": {\"colorbar\": {\"outlinewidth\": 0, \"ticks\": \"\"}}, \"type\": \"scatter\"}], \"scatter3d\": [{\"line\": {\"colorbar\": {\"outlinewidth\": 0, \"ticks\": \"\"}}, \"marker\": {\"colorbar\": {\"outlinewidth\": 0, \"ticks\": \"\"}}, \"type\": \"scatter3d\"}], \"scattercarpet\": [{\"marker\": {\"colorbar\": {\"outlinewidth\": 0, \"ticks\": \"\"}}, \"type\": \"scattercarpet\"}], \"scattergeo\": [{\"marker\": {\"colorbar\": {\"outlinewidth\": 0, \"ticks\": \"\"}}, \"type\": \"scattergeo\"}], \"scattergl\": [{\"marker\": {\"colorbar\": {\"outlinewidth\": 0, \"ticks\": \"\"}}, \"type\": \"scattergl\"}], \"scattermapbox\": [{\"marker\": {\"colorbar\": {\"outlinewidth\": 0, \"ticks\": \"\"}}, \"type\": \"scattermapbox\"}], \"scatterpolar\": [{\"marker\": {\"colorbar\": {\"outlinewidth\": 0, \"ticks\": \"\"}}, \"type\": \"scatterpolar\"}], \"scatterpolargl\": [{\"marker\": {\"colorbar\": {\"outlinewidth\": 0, \"ticks\": \"\"}}, \"type\": \"scatterpolargl\"}], \"scatterternary\": [{\"marker\": {\"colorbar\": {\"outlinewidth\": 0, \"ticks\": \"\"}}, \"type\": \"scatterternary\"}], \"surface\": [{\"colorbar\": {\"outlinewidth\": 0, \"ticks\": \"\"}, \"colorscale\": [[0.0, \"#0d0887\"], [0.1111111111111111, \"#46039f\"], [0.2222222222222222, \"#7201a8\"], [0.3333333333333333, \"#9c179e\"], [0.4444444444444444, \"#bd3786\"], [0.5555555555555556, \"#d8576b\"], [0.6666666666666666, \"#ed7953\"], [0.7777777777777778, \"#fb9f3a\"], [0.8888888888888888, \"#fdca26\"], [1.0, \"#f0f921\"]], \"type\": \"surface\"}], \"table\": [{\"cells\": {\"fill\": {\"color\": \"#EBF0F8\"}, \"line\": {\"color\": \"white\"}}, \"header\": {\"fill\": {\"color\": \"#C8D4E3\"}, \"line\": {\"color\": \"white\"}}, \"type\": \"table\"}]}, \"layout\": {\"annotationdefaults\": {\"arrowcolor\": \"#2a3f5f\", \"arrowhead\": 0, \"arrowwidth\": 1}, \"coloraxis\": {\"colorbar\": {\"outlinewidth\": 0, \"ticks\": \"\"}}, \"colorscale\": {\"diverging\": [[0, \"#8e0152\"], [0.1, \"#c51b7d\"], [0.2, \"#de77ae\"], [0.3, \"#f1b6da\"], [0.4, \"#fde0ef\"], [0.5, \"#f7f7f7\"], [0.6, \"#e6f5d0\"], [0.7, \"#b8e186\"], [0.8, \"#7fbc41\"], [0.9, \"#4d9221\"], [1, \"#276419\"]], \"sequential\": [[0.0, \"#0d0887\"], [0.1111111111111111, \"#46039f\"], [0.2222222222222222, \"#7201a8\"], [0.3333333333333333, \"#9c179e\"], [0.4444444444444444, \"#bd3786\"], [0.5555555555555556, \"#d8576b\"], [0.6666666666666666, \"#ed7953\"], [0.7777777777777778, \"#fb9f3a\"], [0.8888888888888888, \"#fdca26\"], [1.0, \"#f0f921\"]], \"sequentialminus\": [[0.0, \"#0d0887\"], [0.1111111111111111, \"#46039f\"], [0.2222222222222222, \"#7201a8\"], [0.3333333333333333, \"#9c179e\"], [0.4444444444444444, \"#bd3786\"], [0.5555555555555556, \"#d8576b\"], [0.6666666666666666, \"#ed7953\"], [0.7777777777777778, \"#fb9f3a\"], [0.8888888888888888, \"#fdca26\"], [1.0, \"#f0f921\"]]}, \"colorway\": [\"#636efa\", \"#EF553B\", \"#00cc96\", \"#ab63fa\", \"#FFA15A\", \"#19d3f3\", \"#FF6692\", \"#B6E880\", \"#FF97FF\", \"#FECB52\"], \"font\": {\"color\": \"#2a3f5f\"}, \"geo\": {\"bgcolor\": \"white\", \"lakecolor\": \"white\", \"landcolor\": \"#E5ECF6\", \"showlakes\": true, \"showland\": true, \"subunitcolor\": \"white\"}, \"hoverlabel\": {\"align\": \"left\"}, \"hovermode\": \"closest\", \"mapbox\": {\"style\": \"light\"}, \"paper_bgcolor\": \"white\", \"plot_bgcolor\": \"#E5ECF6\", \"polar\": {\"angularaxis\": {\"gridcolor\": \"white\", \"linecolor\": \"white\", \"ticks\": \"\"}, \"bgcolor\": \"#E5ECF6\", \"radialaxis\": {\"gridcolor\": \"white\", \"linecolor\": \"white\", \"ticks\": \"\"}}, \"scene\": {\"xaxis\": {\"backgroundcolor\": \"#E5ECF6\", \"gridcolor\": \"white\", \"gridwidth\": 2, \"linecolor\": \"white\", \"showbackground\": true, \"ticks\": \"\", \"zerolinecolor\": \"white\"}, \"yaxis\": {\"backgroundcolor\": \"#E5ECF6\", \"gridcolor\": \"white\", \"gridwidth\": 2, \"linecolor\": \"white\", \"showbackground\": true, \"ticks\": \"\", \"zerolinecolor\": \"white\"}, \"zaxis\": {\"backgroundcolor\": \"#E5ECF6\", \"gridcolor\": \"white\", \"gridwidth\": 2, \"linecolor\": \"white\", \"showbackground\": true, \"ticks\": \"\", \"zerolinecolor\": \"white\"}}, \"shapedefaults\": {\"line\": {\"color\": \"#2a3f5f\"}}, \"ternary\": {\"aaxis\": {\"gridcolor\": \"white\", \"linecolor\": \"white\", \"ticks\": \"\"}, \"baxis\": {\"gridcolor\": \"white\", \"linecolor\": \"white\", \"ticks\": \"\"}, \"bgcolor\": \"#E5ECF6\", \"caxis\": {\"gridcolor\": \"white\", \"linecolor\": \"white\", \"ticks\": \"\"}}, \"title\": {\"x\": 0.05}, \"xaxis\": {\"automargin\": true, \"gridcolor\": \"white\", \"linecolor\": \"white\", \"ticks\": \"\", \"title\": {\"standoff\": 15}, \"zerolinecolor\": \"white\", \"zerolinewidth\": 2}, \"yaxis\": {\"automargin\": true, \"gridcolor\": \"white\", \"linecolor\": \"white\", \"ticks\": \"\", \"title\": {\"standoff\": 15}, \"zerolinecolor\": \"white\", \"zerolinewidth\": 2}}}, \"title\": {\"text\": \"Global Average Yield in High & Low Temperature Anomaly\", \"x\": 0.5, \"xanchor\": \"center\"}, \"xaxis\": {\"title\": {\"text\": \"Year\"}}, \"yaxis\": {\"title\": {\"text\": \"Yield per Hectare\"}}},\n",
       "                        {\"responsive\": true}\n",
       "                    ).then(function(){\n",
       "                            \n",
       "var gd = document.getElementById('8fe6bb22-e823-4412-b162-79afcf8fad19');\n",
       "var x = new MutationObserver(function (mutations, observer) {{\n",
       "        var display = window.getComputedStyle(gd).display;\n",
       "        if (!display || display === 'none') {{\n",
       "            console.log([gd, 'removed!']);\n",
       "            Plotly.purge(gd);\n",
       "            observer.disconnect();\n",
       "        }}\n",
       "}});\n",
       "\n",
       "// Listen for the removal of the full notebook cells\n",
       "var notebookContainer = gd.closest('#notebook-container');\n",
       "if (notebookContainer) {{\n",
       "    x.observe(notebookContainer, {childList: true});\n",
       "}}\n",
       "\n",
       "// Listen for the clearing of the current output cell\n",
       "var outputEl = gd.closest('.output');\n",
       "if (outputEl) {{\n",
       "    x.observe(outputEl, {childList: true});\n",
       "}}\n",
       "\n",
       "                        })\n",
       "                };\n",
       "                });\n",
       "            </script>\n",
       "        </div>"
      ]
     },
     "metadata": {},
     "output_type": "display_data"
    },
    {
     "data": {
      "application/vnd.plotly.v1+json": {
       "config": {
        "plotlyServerURL": "https://plot.ly"
       },
       "data": [
        {
         "mode": "lines+markers",
         "name": "high temp",
         "type": "scatter",
         "x": [
          1961,
          1962,
          1963,
          1966,
          1967,
          1973,
          1974,
          1975,
          1977,
          1979,
          1981,
          1982,
          1983,
          1987,
          1988,
          1989,
          1990,
          1991,
          1992,
          1993,
          1994,
          1995,
          1996,
          1997,
          1998,
          1999,
          2000,
          2001,
          2002,
          2003,
          2004,
          2005,
          2006,
          2007,
          2008,
          2009,
          2010,
          2011,
          2012,
          2013,
          2014,
          2015,
          2016,
          2017,
          2018,
          2019
         ],
         "y": [
          23194.444444444445,
          7961.5,
          8362,
          25387.666666666668,
          22124.5,
          26790.5,
          27307,
          36880,
          24836,
          28177,
          19959,
          11986,
          23069.533333333333,
          9790.42857142857,
          32752.2,
          46181.944444444445,
          35178.875,
          28632.666666666668,
          37671.17647058824,
          16264.666666666666,
          33152.485714285714,
          29593.16129032258,
          16889.333333333332,
          18741.19230769231,
          23767.816326530614,
          34153.882352941175,
          41015.958333333336,
          30749.69230769231,
          30744,
          31815.509433962263,
          31663.957446808512,
          28998.597222222223,
          32529.970588235294,
          38082.02898550725,
          32632.285714285714,
          34600.53164556962,
          28772.983193277312,
          40453.50847457627,
          33090.75362318841,
          33891.34482758621,
          32445.340206185567,
          33838.99315068493,
          35936.56804733728,
          38409.23809523809,
          41868.8487394958,
          37286.81761006289
         ]
        },
        {
         "mode": "lines+markers",
         "name": "Low temp",
         "type": "scatter",
         "x": [
          1961,
          1962,
          1963,
          1964,
          1965,
          1966,
          1967,
          1968,
          1969,
          1970,
          1971,
          1972,
          1973,
          1974,
          1975,
          1976,
          1977,
          1978,
          1979,
          1980,
          1981,
          1982,
          1983,
          1984,
          1985,
          1986,
          1987,
          1988,
          1989,
          1990,
          1991,
          1992,
          1993,
          1994,
          1995,
          1996,
          1997,
          1998,
          1999,
          2000,
          2001,
          2002,
          2003,
          2004,
          2005,
          2006,
          2007,
          2008,
          2009,
          2010,
          2011,
          2012,
          2013,
          2014,
          2015,
          2016,
          2017,
          2018,
          2019
         ],
         "y": [
          16221.7625,
          15630.92,
          13796.10294117647,
          16217.04255319149,
          13691.8125,
          16328.137614678899,
          22975.975609756097,
          22291.11111111111,
          14814.75,
          15069.466666666667,
          24249.090909090908,
          16760.86075949367,
          18354.4435483871,
          26227.53125,
          21464.32608695652,
          25294.777777777777,
          17249.824427480915,
          16569.62393162393,
          16604.859259259258,
          16841.319327731093,
          22846.024590163935,
          20510.98275862069,
          21274.008403361346,
          19011.445652173912,
          18786.82,
          19990.664,
          19743.754385964912,
          24676.17006802721,
          22157.869565217392,
          20775.033333333333,
          24294.22857142857,
          23491.27027027027,
          22461.12408759124,
          21892.246376811596,
          23506.832116788322,
          21233.129032258064,
          25739.905511811023,
          26763.98795180723,
          22789.008,
          25417.266129032258,
          26681.369369369368,
          25466.293103448275,
          29254.48780487805,
          28400.607407407406,
          29071.527777777777,
          30612.918181818182,
          25126.17699115044,
          27880.79365079365,
          33212.37254901961,
          39710.245614035084,
          30844.532786885247,
          31131.53153153153,
          39680.40625,
          32151.183908045976,
          34820.23684210526,
          56027.5,
          30640.083333333332,
          32737.292307692307,
          47268.52
         ]
        }
       ],
       "layout": {
        "template": {
         "data": {
          "bar": [
           {
            "error_x": {
             "color": "#2a3f5f"
            },
            "error_y": {
             "color": "#2a3f5f"
            },
            "marker": {
             "line": {
              "color": "#E5ECF6",
              "width": 0.5
             }
            },
            "type": "bar"
           }
          ],
          "barpolar": [
           {
            "marker": {
             "line": {
              "color": "#E5ECF6",
              "width": 0.5
             }
            },
            "type": "barpolar"
           }
          ],
          "carpet": [
           {
            "aaxis": {
             "endlinecolor": "#2a3f5f",
             "gridcolor": "white",
             "linecolor": "white",
             "minorgridcolor": "white",
             "startlinecolor": "#2a3f5f"
            },
            "baxis": {
             "endlinecolor": "#2a3f5f",
             "gridcolor": "white",
             "linecolor": "white",
             "minorgridcolor": "white",
             "startlinecolor": "#2a3f5f"
            },
            "type": "carpet"
           }
          ],
          "choropleth": [
           {
            "colorbar": {
             "outlinewidth": 0,
             "ticks": ""
            },
            "type": "choropleth"
           }
          ],
          "contour": [
           {
            "colorbar": {
             "outlinewidth": 0,
             "ticks": ""
            },
            "colorscale": [
             [
              0,
              "#0d0887"
             ],
             [
              0.1111111111111111,
              "#46039f"
             ],
             [
              0.2222222222222222,
              "#7201a8"
             ],
             [
              0.3333333333333333,
              "#9c179e"
             ],
             [
              0.4444444444444444,
              "#bd3786"
             ],
             [
              0.5555555555555556,
              "#d8576b"
             ],
             [
              0.6666666666666666,
              "#ed7953"
             ],
             [
              0.7777777777777778,
              "#fb9f3a"
             ],
             [
              0.8888888888888888,
              "#fdca26"
             ],
             [
              1,
              "#f0f921"
             ]
            ],
            "type": "contour"
           }
          ],
          "contourcarpet": [
           {
            "colorbar": {
             "outlinewidth": 0,
             "ticks": ""
            },
            "type": "contourcarpet"
           }
          ],
          "heatmap": [
           {
            "colorbar": {
             "outlinewidth": 0,
             "ticks": ""
            },
            "colorscale": [
             [
              0,
              "#0d0887"
             ],
             [
              0.1111111111111111,
              "#46039f"
             ],
             [
              0.2222222222222222,
              "#7201a8"
             ],
             [
              0.3333333333333333,
              "#9c179e"
             ],
             [
              0.4444444444444444,
              "#bd3786"
             ],
             [
              0.5555555555555556,
              "#d8576b"
             ],
             [
              0.6666666666666666,
              "#ed7953"
             ],
             [
              0.7777777777777778,
              "#fb9f3a"
             ],
             [
              0.8888888888888888,
              "#fdca26"
             ],
             [
              1,
              "#f0f921"
             ]
            ],
            "type": "heatmap"
           }
          ],
          "heatmapgl": [
           {
            "colorbar": {
             "outlinewidth": 0,
             "ticks": ""
            },
            "colorscale": [
             [
              0,
              "#0d0887"
             ],
             [
              0.1111111111111111,
              "#46039f"
             ],
             [
              0.2222222222222222,
              "#7201a8"
             ],
             [
              0.3333333333333333,
              "#9c179e"
             ],
             [
              0.4444444444444444,
              "#bd3786"
             ],
             [
              0.5555555555555556,
              "#d8576b"
             ],
             [
              0.6666666666666666,
              "#ed7953"
             ],
             [
              0.7777777777777778,
              "#fb9f3a"
             ],
             [
              0.8888888888888888,
              "#fdca26"
             ],
             [
              1,
              "#f0f921"
             ]
            ],
            "type": "heatmapgl"
           }
          ],
          "histogram": [
           {
            "marker": {
             "colorbar": {
              "outlinewidth": 0,
              "ticks": ""
             }
            },
            "type": "histogram"
           }
          ],
          "histogram2d": [
           {
            "colorbar": {
             "outlinewidth": 0,
             "ticks": ""
            },
            "colorscale": [
             [
              0,
              "#0d0887"
             ],
             [
              0.1111111111111111,
              "#46039f"
             ],
             [
              0.2222222222222222,
              "#7201a8"
             ],
             [
              0.3333333333333333,
              "#9c179e"
             ],
             [
              0.4444444444444444,
              "#bd3786"
             ],
             [
              0.5555555555555556,
              "#d8576b"
             ],
             [
              0.6666666666666666,
              "#ed7953"
             ],
             [
              0.7777777777777778,
              "#fb9f3a"
             ],
             [
              0.8888888888888888,
              "#fdca26"
             ],
             [
              1,
              "#f0f921"
             ]
            ],
            "type": "histogram2d"
           }
          ],
          "histogram2dcontour": [
           {
            "colorbar": {
             "outlinewidth": 0,
             "ticks": ""
            },
            "colorscale": [
             [
              0,
              "#0d0887"
             ],
             [
              0.1111111111111111,
              "#46039f"
             ],
             [
              0.2222222222222222,
              "#7201a8"
             ],
             [
              0.3333333333333333,
              "#9c179e"
             ],
             [
              0.4444444444444444,
              "#bd3786"
             ],
             [
              0.5555555555555556,
              "#d8576b"
             ],
             [
              0.6666666666666666,
              "#ed7953"
             ],
             [
              0.7777777777777778,
              "#fb9f3a"
             ],
             [
              0.8888888888888888,
              "#fdca26"
             ],
             [
              1,
              "#f0f921"
             ]
            ],
            "type": "histogram2dcontour"
           }
          ],
          "mesh3d": [
           {
            "colorbar": {
             "outlinewidth": 0,
             "ticks": ""
            },
            "type": "mesh3d"
           }
          ],
          "parcoords": [
           {
            "line": {
             "colorbar": {
              "outlinewidth": 0,
              "ticks": ""
             }
            },
            "type": "parcoords"
           }
          ],
          "pie": [
           {
            "automargin": true,
            "type": "pie"
           }
          ],
          "scatter": [
           {
            "marker": {
             "colorbar": {
              "outlinewidth": 0,
              "ticks": ""
             }
            },
            "type": "scatter"
           }
          ],
          "scatter3d": [
           {
            "line": {
             "colorbar": {
              "outlinewidth": 0,
              "ticks": ""
             }
            },
            "marker": {
             "colorbar": {
              "outlinewidth": 0,
              "ticks": ""
             }
            },
            "type": "scatter3d"
           }
          ],
          "scattercarpet": [
           {
            "marker": {
             "colorbar": {
              "outlinewidth": 0,
              "ticks": ""
             }
            },
            "type": "scattercarpet"
           }
          ],
          "scattergeo": [
           {
            "marker": {
             "colorbar": {
              "outlinewidth": 0,
              "ticks": ""
             }
            },
            "type": "scattergeo"
           }
          ],
          "scattergl": [
           {
            "marker": {
             "colorbar": {
              "outlinewidth": 0,
              "ticks": ""
             }
            },
            "type": "scattergl"
           }
          ],
          "scattermapbox": [
           {
            "marker": {
             "colorbar": {
              "outlinewidth": 0,
              "ticks": ""
             }
            },
            "type": "scattermapbox"
           }
          ],
          "scatterpolar": [
           {
            "marker": {
             "colorbar": {
              "outlinewidth": 0,
              "ticks": ""
             }
            },
            "type": "scatterpolar"
           }
          ],
          "scatterpolargl": [
           {
            "marker": {
             "colorbar": {
              "outlinewidth": 0,
              "ticks": ""
             }
            },
            "type": "scatterpolargl"
           }
          ],
          "scatterternary": [
           {
            "marker": {
             "colorbar": {
              "outlinewidth": 0,
              "ticks": ""
             }
            },
            "type": "scatterternary"
           }
          ],
          "surface": [
           {
            "colorbar": {
             "outlinewidth": 0,
             "ticks": ""
            },
            "colorscale": [
             [
              0,
              "#0d0887"
             ],
             [
              0.1111111111111111,
              "#46039f"
             ],
             [
              0.2222222222222222,
              "#7201a8"
             ],
             [
              0.3333333333333333,
              "#9c179e"
             ],
             [
              0.4444444444444444,
              "#bd3786"
             ],
             [
              0.5555555555555556,
              "#d8576b"
             ],
             [
              0.6666666666666666,
              "#ed7953"
             ],
             [
              0.7777777777777778,
              "#fb9f3a"
             ],
             [
              0.8888888888888888,
              "#fdca26"
             ],
             [
              1,
              "#f0f921"
             ]
            ],
            "type": "surface"
           }
          ],
          "table": [
           {
            "cells": {
             "fill": {
              "color": "#EBF0F8"
             },
             "line": {
              "color": "white"
             }
            },
            "header": {
             "fill": {
              "color": "#C8D4E3"
             },
             "line": {
              "color": "white"
             }
            },
            "type": "table"
           }
          ]
         },
         "layout": {
          "annotationdefaults": {
           "arrowcolor": "#2a3f5f",
           "arrowhead": 0,
           "arrowwidth": 1
          },
          "coloraxis": {
           "colorbar": {
            "outlinewidth": 0,
            "ticks": ""
           }
          },
          "colorscale": {
           "diverging": [
            [
             0,
             "#8e0152"
            ],
            [
             0.1,
             "#c51b7d"
            ],
            [
             0.2,
             "#de77ae"
            ],
            [
             0.3,
             "#f1b6da"
            ],
            [
             0.4,
             "#fde0ef"
            ],
            [
             0.5,
             "#f7f7f7"
            ],
            [
             0.6,
             "#e6f5d0"
            ],
            [
             0.7,
             "#b8e186"
            ],
            [
             0.8,
             "#7fbc41"
            ],
            [
             0.9,
             "#4d9221"
            ],
            [
             1,
             "#276419"
            ]
           ],
           "sequential": [
            [
             0,
             "#0d0887"
            ],
            [
             0.1111111111111111,
             "#46039f"
            ],
            [
             0.2222222222222222,
             "#7201a8"
            ],
            [
             0.3333333333333333,
             "#9c179e"
            ],
            [
             0.4444444444444444,
             "#bd3786"
            ],
            [
             0.5555555555555556,
             "#d8576b"
            ],
            [
             0.6666666666666666,
             "#ed7953"
            ],
            [
             0.7777777777777778,
             "#fb9f3a"
            ],
            [
             0.8888888888888888,
             "#fdca26"
            ],
            [
             1,
             "#f0f921"
            ]
           ],
           "sequentialminus": [
            [
             0,
             "#0d0887"
            ],
            [
             0.1111111111111111,
             "#46039f"
            ],
            [
             0.2222222222222222,
             "#7201a8"
            ],
            [
             0.3333333333333333,
             "#9c179e"
            ],
            [
             0.4444444444444444,
             "#bd3786"
            ],
            [
             0.5555555555555556,
             "#d8576b"
            ],
            [
             0.6666666666666666,
             "#ed7953"
            ],
            [
             0.7777777777777778,
             "#fb9f3a"
            ],
            [
             0.8888888888888888,
             "#fdca26"
            ],
            [
             1,
             "#f0f921"
            ]
           ]
          },
          "colorway": [
           "#636efa",
           "#EF553B",
           "#00cc96",
           "#ab63fa",
           "#FFA15A",
           "#19d3f3",
           "#FF6692",
           "#B6E880",
           "#FF97FF",
           "#FECB52"
          ],
          "font": {
           "color": "#2a3f5f"
          },
          "geo": {
           "bgcolor": "white",
           "lakecolor": "white",
           "landcolor": "#E5ECF6",
           "showlakes": true,
           "showland": true,
           "subunitcolor": "white"
          },
          "hoverlabel": {
           "align": "left"
          },
          "hovermode": "closest",
          "mapbox": {
           "style": "light"
          },
          "paper_bgcolor": "white",
          "plot_bgcolor": "#E5ECF6",
          "polar": {
           "angularaxis": {
            "gridcolor": "white",
            "linecolor": "white",
            "ticks": ""
           },
           "bgcolor": "#E5ECF6",
           "radialaxis": {
            "gridcolor": "white",
            "linecolor": "white",
            "ticks": ""
           }
          },
          "scene": {
           "xaxis": {
            "backgroundcolor": "#E5ECF6",
            "gridcolor": "white",
            "gridwidth": 2,
            "linecolor": "white",
            "showbackground": true,
            "ticks": "",
            "zerolinecolor": "white"
           },
           "yaxis": {
            "backgroundcolor": "#E5ECF6",
            "gridcolor": "white",
            "gridwidth": 2,
            "linecolor": "white",
            "showbackground": true,
            "ticks": "",
            "zerolinecolor": "white"
           },
           "zaxis": {
            "backgroundcolor": "#E5ECF6",
            "gridcolor": "white",
            "gridwidth": 2,
            "linecolor": "white",
            "showbackground": true,
            "ticks": "",
            "zerolinecolor": "white"
           }
          },
          "shapedefaults": {
           "line": {
            "color": "#2a3f5f"
           }
          },
          "ternary": {
           "aaxis": {
            "gridcolor": "white",
            "linecolor": "white",
            "ticks": ""
           },
           "baxis": {
            "gridcolor": "white",
            "linecolor": "white",
            "ticks": ""
           },
           "bgcolor": "#E5ECF6",
           "caxis": {
            "gridcolor": "white",
            "linecolor": "white",
            "ticks": ""
           }
          },
          "title": {
           "x": 0.05
          },
          "xaxis": {
           "automargin": true,
           "gridcolor": "white",
           "linecolor": "white",
           "ticks": "",
           "title": {
            "standoff": 15
           },
           "zerolinecolor": "white",
           "zerolinewidth": 2
          },
          "yaxis": {
           "automargin": true,
           "gridcolor": "white",
           "linecolor": "white",
           "ticks": "",
           "title": {
            "standoff": 15
           },
           "zerolinecolor": "white",
           "zerolinewidth": 2
          }
         }
        },
        "title": {
         "text": "Global Average Yield in High & Low Temperature Anomaly",
         "x": 0.5,
         "xanchor": "center"
        },
        "xaxis": {
         "title": {
          "text": "Year"
         }
        },
        "yaxis": {
         "title": {
          "text": "Yield per Hectare"
         }
        }
       }
      },
      "text/html": [
       "<div>\n",
       "        \n",
       "        \n",
       "            <div id=\"c9b9345d-d2fe-4b28-ae1f-3b2553adbbae\" class=\"plotly-graph-div\" style=\"height:525px; width:100%;\"></div>\n",
       "            <script type=\"text/javascript\">\n",
       "                require([\"plotly\"], function(Plotly) {\n",
       "                    window.PLOTLYENV=window.PLOTLYENV || {};\n",
       "                    \n",
       "                if (document.getElementById(\"c9b9345d-d2fe-4b28-ae1f-3b2553adbbae\")) {\n",
       "                    Plotly.newPlot(\n",
       "                        'c9b9345d-d2fe-4b28-ae1f-3b2553adbbae',\n",
       "                        [{\"mode\": \"lines+markers\", \"name\": \"high temp\", \"type\": \"scatter\", \"x\": [1961, 1962, 1963, 1966, 1967, 1973, 1974, 1975, 1977, 1979, 1981, 1982, 1983, 1987, 1988, 1989, 1990, 1991, 1992, 1993, 1994, 1995, 1996, 1997, 1998, 1999, 2000, 2001, 2002, 2003, 2004, 2005, 2006, 2007, 2008, 2009, 2010, 2011, 2012, 2013, 2014, 2015, 2016, 2017, 2018, 2019], \"y\": [23194.444444444445, 7961.5, 8362.0, 25387.666666666668, 22124.5, 26790.5, 27307.0, 36880.0, 24836.0, 28177.0, 19959.0, 11986.0, 23069.533333333333, 9790.42857142857, 32752.2, 46181.944444444445, 35178.875, 28632.666666666668, 37671.17647058824, 16264.666666666666, 33152.485714285714, 29593.16129032258, 16889.333333333332, 18741.19230769231, 23767.816326530614, 34153.882352941175, 41015.958333333336, 30749.69230769231, 30744.0, 31815.509433962263, 31663.957446808512, 28998.597222222223, 32529.970588235294, 38082.02898550725, 32632.285714285714, 34600.53164556962, 28772.983193277312, 40453.50847457627, 33090.75362318841, 33891.34482758621, 32445.340206185567, 33838.99315068493, 35936.56804733728, 38409.23809523809, 41868.8487394958, 37286.81761006289]}, {\"mode\": \"lines+markers\", \"name\": \"Low temp\", \"type\": \"scatter\", \"x\": [1961, 1962, 1963, 1964, 1965, 1966, 1967, 1968, 1969, 1970, 1971, 1972, 1973, 1974, 1975, 1976, 1977, 1978, 1979, 1980, 1981, 1982, 1983, 1984, 1985, 1986, 1987, 1988, 1989, 1990, 1991, 1992, 1993, 1994, 1995, 1996, 1997, 1998, 1999, 2000, 2001, 2002, 2003, 2004, 2005, 2006, 2007, 2008, 2009, 2010, 2011, 2012, 2013, 2014, 2015, 2016, 2017, 2018, 2019], \"y\": [16221.7625, 15630.92, 13796.10294117647, 16217.04255319149, 13691.8125, 16328.137614678899, 22975.975609756097, 22291.11111111111, 14814.75, 15069.466666666667, 24249.090909090908, 16760.86075949367, 18354.4435483871, 26227.53125, 21464.32608695652, 25294.777777777777, 17249.824427480915, 16569.62393162393, 16604.859259259258, 16841.319327731093, 22846.024590163935, 20510.98275862069, 21274.008403361346, 19011.445652173912, 18786.82, 19990.664, 19743.754385964912, 24676.17006802721, 22157.869565217392, 20775.033333333333, 24294.22857142857, 23491.27027027027, 22461.12408759124, 21892.246376811596, 23506.832116788322, 21233.129032258064, 25739.905511811023, 26763.98795180723, 22789.008, 25417.266129032258, 26681.369369369368, 25466.293103448275, 29254.48780487805, 28400.607407407406, 29071.527777777777, 30612.918181818182, 25126.17699115044, 27880.79365079365, 33212.37254901961, 39710.245614035084, 30844.532786885247, 31131.53153153153, 39680.40625, 32151.183908045976, 34820.23684210526, 56027.5, 30640.083333333332, 32737.292307692307, 47268.52]}],\n",
       "                        {\"template\": {\"data\": {\"bar\": [{\"error_x\": {\"color\": \"#2a3f5f\"}, \"error_y\": {\"color\": \"#2a3f5f\"}, \"marker\": {\"line\": {\"color\": \"#E5ECF6\", \"width\": 0.5}}, \"type\": \"bar\"}], \"barpolar\": [{\"marker\": {\"line\": {\"color\": \"#E5ECF6\", \"width\": 0.5}}, \"type\": \"barpolar\"}], \"carpet\": [{\"aaxis\": {\"endlinecolor\": \"#2a3f5f\", \"gridcolor\": \"white\", \"linecolor\": \"white\", \"minorgridcolor\": \"white\", \"startlinecolor\": \"#2a3f5f\"}, \"baxis\": {\"endlinecolor\": \"#2a3f5f\", \"gridcolor\": \"white\", \"linecolor\": \"white\", \"minorgridcolor\": \"white\", \"startlinecolor\": \"#2a3f5f\"}, \"type\": \"carpet\"}], \"choropleth\": [{\"colorbar\": {\"outlinewidth\": 0, \"ticks\": \"\"}, \"type\": \"choropleth\"}], \"contour\": [{\"colorbar\": {\"outlinewidth\": 0, \"ticks\": \"\"}, \"colorscale\": [[0.0, \"#0d0887\"], [0.1111111111111111, \"#46039f\"], [0.2222222222222222, \"#7201a8\"], [0.3333333333333333, \"#9c179e\"], [0.4444444444444444, \"#bd3786\"], [0.5555555555555556, \"#d8576b\"], [0.6666666666666666, \"#ed7953\"], [0.7777777777777778, \"#fb9f3a\"], [0.8888888888888888, \"#fdca26\"], [1.0, \"#f0f921\"]], \"type\": \"contour\"}], \"contourcarpet\": [{\"colorbar\": {\"outlinewidth\": 0, \"ticks\": \"\"}, \"type\": \"contourcarpet\"}], \"heatmap\": [{\"colorbar\": {\"outlinewidth\": 0, \"ticks\": \"\"}, \"colorscale\": [[0.0, \"#0d0887\"], [0.1111111111111111, \"#46039f\"], [0.2222222222222222, \"#7201a8\"], [0.3333333333333333, \"#9c179e\"], [0.4444444444444444, \"#bd3786\"], [0.5555555555555556, \"#d8576b\"], [0.6666666666666666, \"#ed7953\"], [0.7777777777777778, \"#fb9f3a\"], [0.8888888888888888, \"#fdca26\"], [1.0, \"#f0f921\"]], \"type\": \"heatmap\"}], \"heatmapgl\": [{\"colorbar\": {\"outlinewidth\": 0, \"ticks\": \"\"}, \"colorscale\": [[0.0, \"#0d0887\"], [0.1111111111111111, \"#46039f\"], [0.2222222222222222, \"#7201a8\"], [0.3333333333333333, \"#9c179e\"], [0.4444444444444444, \"#bd3786\"], [0.5555555555555556, \"#d8576b\"], [0.6666666666666666, \"#ed7953\"], [0.7777777777777778, \"#fb9f3a\"], [0.8888888888888888, \"#fdca26\"], [1.0, \"#f0f921\"]], \"type\": \"heatmapgl\"}], \"histogram\": [{\"marker\": {\"colorbar\": {\"outlinewidth\": 0, \"ticks\": \"\"}}, \"type\": \"histogram\"}], \"histogram2d\": [{\"colorbar\": {\"outlinewidth\": 0, \"ticks\": \"\"}, \"colorscale\": [[0.0, \"#0d0887\"], [0.1111111111111111, \"#46039f\"], [0.2222222222222222, \"#7201a8\"], [0.3333333333333333, \"#9c179e\"], [0.4444444444444444, \"#bd3786\"], [0.5555555555555556, \"#d8576b\"], [0.6666666666666666, \"#ed7953\"], [0.7777777777777778, \"#fb9f3a\"], [0.8888888888888888, \"#fdca26\"], [1.0, \"#f0f921\"]], \"type\": \"histogram2d\"}], \"histogram2dcontour\": [{\"colorbar\": {\"outlinewidth\": 0, \"ticks\": \"\"}, \"colorscale\": [[0.0, \"#0d0887\"], [0.1111111111111111, \"#46039f\"], [0.2222222222222222, \"#7201a8\"], [0.3333333333333333, \"#9c179e\"], [0.4444444444444444, \"#bd3786\"], [0.5555555555555556, \"#d8576b\"], [0.6666666666666666, \"#ed7953\"], [0.7777777777777778, \"#fb9f3a\"], [0.8888888888888888, \"#fdca26\"], [1.0, \"#f0f921\"]], \"type\": \"histogram2dcontour\"}], \"mesh3d\": [{\"colorbar\": {\"outlinewidth\": 0, \"ticks\": \"\"}, \"type\": \"mesh3d\"}], \"parcoords\": [{\"line\": {\"colorbar\": {\"outlinewidth\": 0, \"ticks\": \"\"}}, \"type\": \"parcoords\"}], \"pie\": [{\"automargin\": true, \"type\": \"pie\"}], \"scatter\": [{\"marker\": {\"colorbar\": {\"outlinewidth\": 0, \"ticks\": \"\"}}, \"type\": \"scatter\"}], \"scatter3d\": [{\"line\": {\"colorbar\": {\"outlinewidth\": 0, \"ticks\": \"\"}}, \"marker\": {\"colorbar\": {\"outlinewidth\": 0, \"ticks\": \"\"}}, \"type\": \"scatter3d\"}], \"scattercarpet\": [{\"marker\": {\"colorbar\": {\"outlinewidth\": 0, \"ticks\": \"\"}}, \"type\": \"scattercarpet\"}], \"scattergeo\": [{\"marker\": {\"colorbar\": {\"outlinewidth\": 0, \"ticks\": \"\"}}, \"type\": \"scattergeo\"}], \"scattergl\": [{\"marker\": {\"colorbar\": {\"outlinewidth\": 0, \"ticks\": \"\"}}, \"type\": \"scattergl\"}], \"scattermapbox\": [{\"marker\": {\"colorbar\": {\"outlinewidth\": 0, \"ticks\": \"\"}}, \"type\": \"scattermapbox\"}], \"scatterpolar\": [{\"marker\": {\"colorbar\": {\"outlinewidth\": 0, \"ticks\": \"\"}}, \"type\": \"scatterpolar\"}], \"scatterpolargl\": [{\"marker\": {\"colorbar\": {\"outlinewidth\": 0, \"ticks\": \"\"}}, \"type\": \"scatterpolargl\"}], \"scatterternary\": [{\"marker\": {\"colorbar\": {\"outlinewidth\": 0, \"ticks\": \"\"}}, \"type\": \"scatterternary\"}], \"surface\": [{\"colorbar\": {\"outlinewidth\": 0, \"ticks\": \"\"}, \"colorscale\": [[0.0, \"#0d0887\"], [0.1111111111111111, \"#46039f\"], [0.2222222222222222, \"#7201a8\"], [0.3333333333333333, \"#9c179e\"], [0.4444444444444444, \"#bd3786\"], [0.5555555555555556, \"#d8576b\"], [0.6666666666666666, \"#ed7953\"], [0.7777777777777778, \"#fb9f3a\"], [0.8888888888888888, \"#fdca26\"], [1.0, \"#f0f921\"]], \"type\": \"surface\"}], \"table\": [{\"cells\": {\"fill\": {\"color\": \"#EBF0F8\"}, \"line\": {\"color\": \"white\"}}, \"header\": {\"fill\": {\"color\": \"#C8D4E3\"}, \"line\": {\"color\": \"white\"}}, \"type\": \"table\"}]}, \"layout\": {\"annotationdefaults\": {\"arrowcolor\": \"#2a3f5f\", \"arrowhead\": 0, \"arrowwidth\": 1}, \"coloraxis\": {\"colorbar\": {\"outlinewidth\": 0, \"ticks\": \"\"}}, \"colorscale\": {\"diverging\": [[0, \"#8e0152\"], [0.1, \"#c51b7d\"], [0.2, \"#de77ae\"], [0.3, \"#f1b6da\"], [0.4, \"#fde0ef\"], [0.5, \"#f7f7f7\"], [0.6, \"#e6f5d0\"], [0.7, \"#b8e186\"], [0.8, \"#7fbc41\"], [0.9, \"#4d9221\"], [1, \"#276419\"]], \"sequential\": [[0.0, \"#0d0887\"], [0.1111111111111111, \"#46039f\"], [0.2222222222222222, \"#7201a8\"], [0.3333333333333333, \"#9c179e\"], [0.4444444444444444, \"#bd3786\"], [0.5555555555555556, \"#d8576b\"], [0.6666666666666666, \"#ed7953\"], [0.7777777777777778, \"#fb9f3a\"], [0.8888888888888888, \"#fdca26\"], [1.0, \"#f0f921\"]], \"sequentialminus\": [[0.0, \"#0d0887\"], [0.1111111111111111, \"#46039f\"], [0.2222222222222222, \"#7201a8\"], [0.3333333333333333, \"#9c179e\"], [0.4444444444444444, \"#bd3786\"], [0.5555555555555556, \"#d8576b\"], [0.6666666666666666, \"#ed7953\"], [0.7777777777777778, \"#fb9f3a\"], [0.8888888888888888, \"#fdca26\"], [1.0, \"#f0f921\"]]}, \"colorway\": [\"#636efa\", \"#EF553B\", \"#00cc96\", \"#ab63fa\", \"#FFA15A\", \"#19d3f3\", \"#FF6692\", \"#B6E880\", \"#FF97FF\", \"#FECB52\"], \"font\": {\"color\": \"#2a3f5f\"}, \"geo\": {\"bgcolor\": \"white\", \"lakecolor\": \"white\", \"landcolor\": \"#E5ECF6\", \"showlakes\": true, \"showland\": true, \"subunitcolor\": \"white\"}, \"hoverlabel\": {\"align\": \"left\"}, \"hovermode\": \"closest\", \"mapbox\": {\"style\": \"light\"}, \"paper_bgcolor\": \"white\", \"plot_bgcolor\": \"#E5ECF6\", \"polar\": {\"angularaxis\": {\"gridcolor\": \"white\", \"linecolor\": \"white\", \"ticks\": \"\"}, \"bgcolor\": \"#E5ECF6\", \"radialaxis\": {\"gridcolor\": \"white\", \"linecolor\": \"white\", \"ticks\": \"\"}}, \"scene\": {\"xaxis\": {\"backgroundcolor\": \"#E5ECF6\", \"gridcolor\": \"white\", \"gridwidth\": 2, \"linecolor\": \"white\", \"showbackground\": true, \"ticks\": \"\", \"zerolinecolor\": \"white\"}, \"yaxis\": {\"backgroundcolor\": \"#E5ECF6\", \"gridcolor\": \"white\", \"gridwidth\": 2, \"linecolor\": \"white\", \"showbackground\": true, \"ticks\": \"\", \"zerolinecolor\": \"white\"}, \"zaxis\": {\"backgroundcolor\": \"#E5ECF6\", \"gridcolor\": \"white\", \"gridwidth\": 2, \"linecolor\": \"white\", \"showbackground\": true, \"ticks\": \"\", \"zerolinecolor\": \"white\"}}, \"shapedefaults\": {\"line\": {\"color\": \"#2a3f5f\"}}, \"ternary\": {\"aaxis\": {\"gridcolor\": \"white\", \"linecolor\": \"white\", \"ticks\": \"\"}, \"baxis\": {\"gridcolor\": \"white\", \"linecolor\": \"white\", \"ticks\": \"\"}, \"bgcolor\": \"#E5ECF6\", \"caxis\": {\"gridcolor\": \"white\", \"linecolor\": \"white\", \"ticks\": \"\"}}, \"title\": {\"x\": 0.05}, \"xaxis\": {\"automargin\": true, \"gridcolor\": \"white\", \"linecolor\": \"white\", \"ticks\": \"\", \"title\": {\"standoff\": 15}, \"zerolinecolor\": \"white\", \"zerolinewidth\": 2}, \"yaxis\": {\"automargin\": true, \"gridcolor\": \"white\", \"linecolor\": \"white\", \"ticks\": \"\", \"title\": {\"standoff\": 15}, \"zerolinecolor\": \"white\", \"zerolinewidth\": 2}}}, \"title\": {\"text\": \"Global Average Yield in High & Low Temperature Anomaly\", \"x\": 0.5, \"xanchor\": \"center\"}, \"xaxis\": {\"title\": {\"text\": \"Year\"}}, \"yaxis\": {\"title\": {\"text\": \"Yield per Hectare\"}}},\n",
       "                        {\"responsive\": true}\n",
       "                    ).then(function(){\n",
       "                            \n",
       "var gd = document.getElementById('c9b9345d-d2fe-4b28-ae1f-3b2553adbbae');\n",
       "var x = new MutationObserver(function (mutations, observer) {{\n",
       "        var display = window.getComputedStyle(gd).display;\n",
       "        if (!display || display === 'none') {{\n",
       "            console.log([gd, 'removed!']);\n",
       "            Plotly.purge(gd);\n",
       "            observer.disconnect();\n",
       "        }}\n",
       "}});\n",
       "\n",
       "// Listen for the removal of the full notebook cells\n",
       "var notebookContainer = gd.closest('#notebook-container');\n",
       "if (notebookContainer) {{\n",
       "    x.observe(notebookContainer, {childList: true});\n",
       "}}\n",
       "\n",
       "// Listen for the clearing of the current output cell\n",
       "var outputEl = gd.closest('.output');\n",
       "if (outputEl) {{\n",
       "    x.observe(outputEl, {childList: true});\n",
       "}}\n",
       "\n",
       "                        })\n",
       "                };\n",
       "                });\n",
       "            </script>\n",
       "        </div>"
      ]
     },
     "metadata": {},
     "output_type": "display_data"
    }
   ],
   "source": [
    "import plotly.graph_objects as go\n",
    "fig = go.Figure()\n",
    "trace1 = go.Scatter(x=df_high_temp_ave[\"Year\"], y=df_high_temp_ave[\"yield\"], mode=\"lines+markers\", name=\"high temp\")\n",
    "fig.add_trace(trace1)\n",
    "trace2 = go.Scatter(x=df_low_temp_ave[\"Year\"], y=df_low_temp_ave[\"yield\"], mode=\"lines+markers\", name=\"Low temp\")\n",
    "fig.add_trace(trace2)\n",
    "fig.update_layout(\n",
    "    title={\n",
    "        \"text\": \"Global Average Yield in High & Low Temperature Anomaly\",\n",
    "        \"x\":0.5,\n",
    "        \"xanchor\": \"center\"\n",
    "        },\n",
    "    xaxis_title=\"Year\",\n",
    "    yaxis_title=\"Yield per Hectare\")\n",
    "fig.show()"
   ]
  },
  {
   "cell_type": "code",
   "execution_count": 63,
   "metadata": {},
   "outputs": [],
   "source": [
    "Rice_max =Rice.groupby(['Year'], as_index = False)['yield'].max()"
   ]
  },
  {
   "cell_type": "code",
   "execution_count": 64,
   "metadata": {},
   "outputs": [
    {
     "data": {
      "text/html": [
       "<div>\n",
       "<style scoped>\n",
       "    .dataframe tbody tr th:only-of-type {\n",
       "        vertical-align: middle;\n",
       "    }\n",
       "\n",
       "    .dataframe tbody tr th {\n",
       "        vertical-align: top;\n",
       "    }\n",
       "\n",
       "    .dataframe thead th {\n",
       "        text-align: right;\n",
       "    }\n",
       "</style>\n",
       "<table border=\"1\" class=\"dataframe\">\n",
       "  <thead>\n",
       "    <tr style=\"text-align: right;\">\n",
       "      <th></th>\n",
       "      <th>Area Code_x</th>\n",
       "      <th>Area</th>\n",
       "      <th>Months Code</th>\n",
       "      <th>Months</th>\n",
       "      <th>Year</th>\n",
       "      <th>temperature</th>\n",
       "      <th>Area Code_y</th>\n",
       "      <th>Item Code</th>\n",
       "      <th>Item</th>\n",
       "      <th>yield</th>\n",
       "      <th>region</th>\n",
       "      <th>Country Code</th>\n",
       "    </tr>\n",
       "  </thead>\n",
       "  <tbody>\n",
       "    <tr>\n",
       "      <th>0</th>\n",
       "      <td>2</td>\n",
       "      <td>Afghanistan</td>\n",
       "      <td>7001</td>\n",
       "      <td>January</td>\n",
       "      <td>1961</td>\n",
       "      <td>0.777</td>\n",
       "      <td>2.0</td>\n",
       "      <td>44.0</td>\n",
       "      <td>Barley</td>\n",
       "      <td>10800.0</td>\n",
       "      <td>Southern_Asia</td>\n",
       "      <td>2.0</td>\n",
       "    </tr>\n",
       "    <tr>\n",
       "      <th>1</th>\n",
       "      <td>25</td>\n",
       "      <td>Solomon Islands</td>\n",
       "      <td>7005</td>\n",
       "      <td>May</td>\n",
       "      <td>1961</td>\n",
       "      <td>0.233</td>\n",
       "      <td>25.0</td>\n",
       "      <td>27.0</td>\n",
       "      <td>Rice</td>\n",
       "      <td>17391.0</td>\n",
       "      <td>World</td>\n",
       "      <td>25.0</td>\n",
       "    </tr>\n",
       "    <tr>\n",
       "      <th>3</th>\n",
       "      <td>25</td>\n",
       "      <td>Solomon Islands</td>\n",
       "      <td>7006</td>\n",
       "      <td>June</td>\n",
       "      <td>1961</td>\n",
       "      <td>0.373</td>\n",
       "      <td>25.0</td>\n",
       "      <td>27.0</td>\n",
       "      <td>Rice</td>\n",
       "      <td>17391.0</td>\n",
       "      <td>World</td>\n",
       "      <td>25.0</td>\n",
       "    </tr>\n",
       "    <tr>\n",
       "      <th>5</th>\n",
       "      <td>25</td>\n",
       "      <td>Solomon Islands</td>\n",
       "      <td>7007</td>\n",
       "      <td>July</td>\n",
       "      <td>1961</td>\n",
       "      <td>0.462</td>\n",
       "      <td>25.0</td>\n",
       "      <td>27.0</td>\n",
       "      <td>Rice</td>\n",
       "      <td>17391.0</td>\n",
       "      <td>World</td>\n",
       "      <td>25.0</td>\n",
       "    </tr>\n",
       "    <tr>\n",
       "      <th>7</th>\n",
       "      <td>25</td>\n",
       "      <td>Solomon Islands</td>\n",
       "      <td>7008</td>\n",
       "      <td>August</td>\n",
       "      <td>1961</td>\n",
       "      <td>0.211</td>\n",
       "      <td>25.0</td>\n",
       "      <td>27.0</td>\n",
       "      <td>Rice</td>\n",
       "      <td>17391.0</td>\n",
       "      <td>World</td>\n",
       "      <td>25.0</td>\n",
       "    </tr>\n",
       "    <tr>\n",
       "      <th>9</th>\n",
       "      <td>25</td>\n",
       "      <td>Solomon Islands</td>\n",
       "      <td>7009</td>\n",
       "      <td>September</td>\n",
       "      <td>1961</td>\n",
       "      <td>0.296</td>\n",
       "      <td>25.0</td>\n",
       "      <td>27.0</td>\n",
       "      <td>Rice</td>\n",
       "      <td>17391.0</td>\n",
       "      <td>World</td>\n",
       "      <td>25.0</td>\n",
       "    </tr>\n",
       "    <tr>\n",
       "      <th>15</th>\n",
       "      <td>25</td>\n",
       "      <td>Solomon Islands</td>\n",
       "      <td>7012</td>\n",
       "      <td>December</td>\n",
       "      <td>1961</td>\n",
       "      <td>0.206</td>\n",
       "      <td>25.0</td>\n",
       "      <td>27.0</td>\n",
       "      <td>Rice</td>\n",
       "      <td>17391.0</td>\n",
       "      <td>World</td>\n",
       "      <td>25.0</td>\n",
       "    </tr>\n",
       "    <tr>\n",
       "      <th>17</th>\n",
       "      <td>25</td>\n",
       "      <td>Solomon Islands</td>\n",
       "      <td>7016</td>\n",
       "      <td>Dec–Jan–Feb</td>\n",
       "      <td>1961</td>\n",
       "      <td>0.078</td>\n",
       "      <td>25.0</td>\n",
       "      <td>27.0</td>\n",
       "      <td>Rice</td>\n",
       "      <td>17391.0</td>\n",
       "      <td>World</td>\n",
       "      <td>25.0</td>\n",
       "    </tr>\n",
       "    <tr>\n",
       "      <th>19</th>\n",
       "      <td>25</td>\n",
       "      <td>Solomon Islands</td>\n",
       "      <td>7017</td>\n",
       "      <td>Mar–Apr–May</td>\n",
       "      <td>1961</td>\n",
       "      <td>0.171</td>\n",
       "      <td>25.0</td>\n",
       "      <td>27.0</td>\n",
       "      <td>Rice</td>\n",
       "      <td>17391.0</td>\n",
       "      <td>World</td>\n",
       "      <td>25.0</td>\n",
       "    </tr>\n",
       "    <tr>\n",
       "      <th>20</th>\n",
       "      <td>39</td>\n",
       "      <td>Chad</td>\n",
       "      <td>7016</td>\n",
       "      <td>Dec–Jan–Feb</td>\n",
       "      <td>1961</td>\n",
       "      <td>0.440</td>\n",
       "      <td>39.0</td>\n",
       "      <td>56.0</td>\n",
       "      <td>Maize</td>\n",
       "      <td>10588.0</td>\n",
       "      <td>Land_Locked_Developing_Countries</td>\n",
       "      <td>39.0</td>\n",
       "    </tr>\n",
       "    <tr>\n",
       "      <th>21</th>\n",
       "      <td>25</td>\n",
       "      <td>Solomon Islands</td>\n",
       "      <td>7018</td>\n",
       "      <td>Jun–Jul–Aug</td>\n",
       "      <td>1961</td>\n",
       "      <td>0.349</td>\n",
       "      <td>25.0</td>\n",
       "      <td>27.0</td>\n",
       "      <td>Rice</td>\n",
       "      <td>17391.0</td>\n",
       "      <td>World</td>\n",
       "      <td>25.0</td>\n",
       "    </tr>\n",
       "    <tr>\n",
       "      <th>26</th>\n",
       "      <td>25</td>\n",
       "      <td>Solomon Islands</td>\n",
       "      <td>7003</td>\n",
       "      <td>March</td>\n",
       "      <td>1961</td>\n",
       "      <td>0.432</td>\n",
       "      <td>25.0</td>\n",
       "      <td>27.0</td>\n",
       "      <td>Rice</td>\n",
       "      <td>17391.0</td>\n",
       "      <td>World</td>\n",
       "      <td>25.0</td>\n",
       "    </tr>\n",
       "    <tr>\n",
       "      <th>46</th>\n",
       "      <td>25</td>\n",
       "      <td>Solomon Islands</td>\n",
       "      <td>7001</td>\n",
       "      <td>January</td>\n",
       "      <td>1961</td>\n",
       "      <td>0.084</td>\n",
       "      <td>25.0</td>\n",
       "      <td>27.0</td>\n",
       "      <td>Rice</td>\n",
       "      <td>17391.0</td>\n",
       "      <td>World</td>\n",
       "      <td>25.0</td>\n",
       "    </tr>\n",
       "    <tr>\n",
       "      <th>48</th>\n",
       "      <td>25</td>\n",
       "      <td>Solomon Islands</td>\n",
       "      <td>7002</td>\n",
       "      <td>February</td>\n",
       "      <td>1961</td>\n",
       "      <td>0.404</td>\n",
       "      <td>25.0</td>\n",
       "      <td>27.0</td>\n",
       "      <td>Rice</td>\n",
       "      <td>17391.0</td>\n",
       "      <td>World</td>\n",
       "      <td>25.0</td>\n",
       "    </tr>\n",
       "    <tr>\n",
       "      <th>52</th>\n",
       "      <td>25</td>\n",
       "      <td>Solomon Islands</td>\n",
       "      <td>7020</td>\n",
       "      <td>Meteorological year</td>\n",
       "      <td>1961</td>\n",
       "      <td>0.146</td>\n",
       "      <td>25.0</td>\n",
       "      <td>27.0</td>\n",
       "      <td>Rice</td>\n",
       "      <td>17391.0</td>\n",
       "      <td>World</td>\n",
       "      <td>25.0</td>\n",
       "    </tr>\n",
       "    <tr>\n",
       "      <th>54</th>\n",
       "      <td>37</td>\n",
       "      <td>Central African Republic</td>\n",
       "      <td>7016</td>\n",
       "      <td>Dec–Jan–Feb</td>\n",
       "      <td>1961</td>\n",
       "      <td>0.301</td>\n",
       "      <td>37.0</td>\n",
       "      <td>27.0</td>\n",
       "      <td>Rice</td>\n",
       "      <td>8571.0</td>\n",
       "      <td>Sub_Saharan_Africa_(including_Sudan)</td>\n",
       "      <td>37.0</td>\n",
       "    </tr>\n",
       "    <tr>\n",
       "      <th>55</th>\n",
       "      <td>201</td>\n",
       "      <td>Somalia</td>\n",
       "      <td>7018</td>\n",
       "      <td>Jun–Jul–Aug</td>\n",
       "      <td>1961</td>\n",
       "      <td>0.779</td>\n",
       "      <td>201.0</td>\n",
       "      <td>56.0</td>\n",
       "      <td>Maize</td>\n",
       "      <td>8696.0</td>\n",
       "      <td>Net_Food_Importing_Developing_Countries</td>\n",
       "      <td>201.0</td>\n",
       "    </tr>\n",
       "    <tr>\n",
       "      <th>59</th>\n",
       "      <td>201</td>\n",
       "      <td>Somalia</td>\n",
       "      <td>7020</td>\n",
       "      <td>Meteorological year</td>\n",
       "      <td>1961</td>\n",
       "      <td>0.305</td>\n",
       "      <td>201.0</td>\n",
       "      <td>56.0</td>\n",
       "      <td>Maize</td>\n",
       "      <td>8696.0</td>\n",
       "      <td>Net_Food_Importing_Developing_Countries</td>\n",
       "      <td>201.0</td>\n",
       "    </tr>\n",
       "    <tr>\n",
       "      <th>63</th>\n",
       "      <td>202</td>\n",
       "      <td>South Africa</td>\n",
       "      <td>7002</td>\n",
       "      <td>February</td>\n",
       "      <td>1961</td>\n",
       "      <td>0.357</td>\n",
       "      <td>202.0</td>\n",
       "      <td>56.0</td>\n",
       "      <td>Maize</td>\n",
       "      <td>12853.0</td>\n",
       "      <td>Sub_Saharan_Africa</td>\n",
       "      <td>202.0</td>\n",
       "    </tr>\n",
       "    <tr>\n",
       "      <th>65</th>\n",
       "      <td>202</td>\n",
       "      <td>South Africa</td>\n",
       "      <td>7003</td>\n",
       "      <td>March</td>\n",
       "      <td>1961</td>\n",
       "      <td>0.348</td>\n",
       "      <td>202.0</td>\n",
       "      <td>56.0</td>\n",
       "      <td>Maize</td>\n",
       "      <td>12853.0</td>\n",
       "      <td>Sub_Saharan_Africa</td>\n",
       "      <td>202.0</td>\n",
       "    </tr>\n",
       "    <tr>\n",
       "      <th>67</th>\n",
       "      <td>202</td>\n",
       "      <td>South Africa</td>\n",
       "      <td>7004</td>\n",
       "      <td>April</td>\n",
       "      <td>1961</td>\n",
       "      <td>0.537</td>\n",
       "      <td>202.0</td>\n",
       "      <td>56.0</td>\n",
       "      <td>Maize</td>\n",
       "      <td>12853.0</td>\n",
       "      <td>Sub_Saharan_Africa</td>\n",
       "      <td>202.0</td>\n",
       "    </tr>\n",
       "    <tr>\n",
       "      <th>68</th>\n",
       "      <td>37</td>\n",
       "      <td>Central African Republic</td>\n",
       "      <td>7006</td>\n",
       "      <td>June</td>\n",
       "      <td>1961</td>\n",
       "      <td>0.053</td>\n",
       "      <td>37.0</td>\n",
       "      <td>27.0</td>\n",
       "      <td>Rice</td>\n",
       "      <td>8571.0</td>\n",
       "      <td>Sub_Saharan_Africa_(including_Sudan)</td>\n",
       "      <td>37.0</td>\n",
       "    </tr>\n",
       "    <tr>\n",
       "      <th>70</th>\n",
       "      <td>37</td>\n",
       "      <td>Central African Republic</td>\n",
       "      <td>7005</td>\n",
       "      <td>May</td>\n",
       "      <td>1961</td>\n",
       "      <td>0.510</td>\n",
       "      <td>37.0</td>\n",
       "      <td>27.0</td>\n",
       "      <td>Rice</td>\n",
       "      <td>8571.0</td>\n",
       "      <td>Sub_Saharan_Africa_(including_Sudan)</td>\n",
       "      <td>37.0</td>\n",
       "    </tr>\n",
       "    <tr>\n",
       "      <th>71</th>\n",
       "      <td>202</td>\n",
       "      <td>South Africa</td>\n",
       "      <td>7006</td>\n",
       "      <td>June</td>\n",
       "      <td>1961</td>\n",
       "      <td>1.015</td>\n",
       "      <td>202.0</td>\n",
       "      <td>56.0</td>\n",
       "      <td>Maize</td>\n",
       "      <td>12853.0</td>\n",
       "      <td>Sub_Saharan_Africa</td>\n",
       "      <td>202.0</td>\n",
       "    </tr>\n",
       "    <tr>\n",
       "      <th>73</th>\n",
       "      <td>202</td>\n",
       "      <td>South Africa</td>\n",
       "      <td>7007</td>\n",
       "      <td>July</td>\n",
       "      <td>1961</td>\n",
       "      <td>1.188</td>\n",
       "      <td>202.0</td>\n",
       "      <td>56.0</td>\n",
       "      <td>Maize</td>\n",
       "      <td>12853.0</td>\n",
       "      <td>Sub_Saharan_Africa</td>\n",
       "      <td>202.0</td>\n",
       "    </tr>\n",
       "    <tr>\n",
       "      <th>74</th>\n",
       "      <td>37</td>\n",
       "      <td>Central African Republic</td>\n",
       "      <td>7003</td>\n",
       "      <td>March</td>\n",
       "      <td>1961</td>\n",
       "      <td>0.306</td>\n",
       "      <td>37.0</td>\n",
       "      <td>27.0</td>\n",
       "      <td>Rice</td>\n",
       "      <td>8571.0</td>\n",
       "      <td>Sub_Saharan_Africa_(including_Sudan)</td>\n",
       "      <td>37.0</td>\n",
       "    </tr>\n",
       "    <tr>\n",
       "      <th>77</th>\n",
       "      <td>201</td>\n",
       "      <td>Somalia</td>\n",
       "      <td>7017</td>\n",
       "      <td>Mar–Apr–May</td>\n",
       "      <td>1961</td>\n",
       "      <td>0.467</td>\n",
       "      <td>201.0</td>\n",
       "      <td>56.0</td>\n",
       "      <td>Maize</td>\n",
       "      <td>8696.0</td>\n",
       "      <td>Net_Food_Importing_Developing_Countries</td>\n",
       "      <td>201.0</td>\n",
       "    </tr>\n",
       "    <tr>\n",
       "      <th>79</th>\n",
       "      <td>37</td>\n",
       "      <td>Central African Republic</td>\n",
       "      <td>7017</td>\n",
       "      <td>Mar–Apr–May</td>\n",
       "      <td>1961</td>\n",
       "      <td>0.226</td>\n",
       "      <td>37.0</td>\n",
       "      <td>27.0</td>\n",
       "      <td>Rice</td>\n",
       "      <td>8571.0</td>\n",
       "      <td>Sub_Saharan_Africa_(including_Sudan)</td>\n",
       "      <td>37.0</td>\n",
       "    </tr>\n",
       "    <tr>\n",
       "      <th>83</th>\n",
       "      <td>201</td>\n",
       "      <td>Somalia</td>\n",
       "      <td>7002</td>\n",
       "      <td>February</td>\n",
       "      <td>1961</td>\n",
       "      <td>0.034</td>\n",
       "      <td>201.0</td>\n",
       "      <td>56.0</td>\n",
       "      <td>Maize</td>\n",
       "      <td>8696.0</td>\n",
       "      <td>Net_Food_Importing_Developing_Countries</td>\n",
       "      <td>201.0</td>\n",
       "    </tr>\n",
       "    <tr>\n",
       "      <th>85</th>\n",
       "      <td>201</td>\n",
       "      <td>Somalia</td>\n",
       "      <td>7003</td>\n",
       "      <td>March</td>\n",
       "      <td>1961</td>\n",
       "      <td>0.152</td>\n",
       "      <td>201.0</td>\n",
       "      <td>56.0</td>\n",
       "      <td>Maize</td>\n",
       "      <td>8696.0</td>\n",
       "      <td>Net_Food_Importing_Developing_Countries</td>\n",
       "      <td>201.0</td>\n",
       "    </tr>\n",
       "    <tr>\n",
       "      <th>...</th>\n",
       "      <td>...</td>\n",
       "      <td>...</td>\n",
       "      <td>...</td>\n",
       "      <td>...</td>\n",
       "      <td>...</td>\n",
       "      <td>...</td>\n",
       "      <td>...</td>\n",
       "      <td>...</td>\n",
       "      <td>...</td>\n",
       "      <td>...</td>\n",
       "      <td>...</td>\n",
       "      <td>...</td>\n",
       "    </tr>\n",
       "    <tr>\n",
       "      <th>218140</th>\n",
       "      <td>10</td>\n",
       "      <td>Australia</td>\n",
       "      <td>7004</td>\n",
       "      <td>April</td>\n",
       "      <td>2019</td>\n",
       "      <td>1.292</td>\n",
       "      <td>10.0</td>\n",
       "      <td>79.0</td>\n",
       "      <td>Millet</td>\n",
       "      <td>10216.0</td>\n",
       "      <td>Annex_I_countries</td>\n",
       "      <td>10.0</td>\n",
       "    </tr>\n",
       "    <tr>\n",
       "      <th>218142</th>\n",
       "      <td>158</td>\n",
       "      <td>Niger</td>\n",
       "      <td>7003</td>\n",
       "      <td>March</td>\n",
       "      <td>2019</td>\n",
       "      <td>1.592</td>\n",
       "      <td>158.0</td>\n",
       "      <td>15.0</td>\n",
       "      <td>Wheat</td>\n",
       "      <td>29615.0</td>\n",
       "      <td>Non_Annex_I_countries</td>\n",
       "      <td>158.0</td>\n",
       "    </tr>\n",
       "    <tr>\n",
       "      <th>218144</th>\n",
       "      <td>158</td>\n",
       "      <td>Niger</td>\n",
       "      <td>7004</td>\n",
       "      <td>April</td>\n",
       "      <td>2019</td>\n",
       "      <td>1.349</td>\n",
       "      <td>158.0</td>\n",
       "      <td>15.0</td>\n",
       "      <td>Wheat</td>\n",
       "      <td>29615.0</td>\n",
       "      <td>Non_Annex_I_countries</td>\n",
       "      <td>158.0</td>\n",
       "    </tr>\n",
       "    <tr>\n",
       "      <th>218145</th>\n",
       "      <td>68</td>\n",
       "      <td>France</td>\n",
       "      <td>7004</td>\n",
       "      <td>April</td>\n",
       "      <td>2019</td>\n",
       "      <td>1.421</td>\n",
       "      <td>68.0</td>\n",
       "      <td>27.0</td>\n",
       "      <td>Rice</td>\n",
       "      <td>54775.0</td>\n",
       "      <td>Annex_I_countries</td>\n",
       "      <td>68.0</td>\n",
       "    </tr>\n",
       "    <tr>\n",
       "      <th>218146</th>\n",
       "      <td>158</td>\n",
       "      <td>Niger</td>\n",
       "      <td>7005</td>\n",
       "      <td>May</td>\n",
       "      <td>2019</td>\n",
       "      <td>2.071</td>\n",
       "      <td>158.0</td>\n",
       "      <td>15.0</td>\n",
       "      <td>Wheat</td>\n",
       "      <td>29615.0</td>\n",
       "      <td>Non_Annex_I_countries</td>\n",
       "      <td>158.0</td>\n",
       "    </tr>\n",
       "    <tr>\n",
       "      <th>218147</th>\n",
       "      <td>68</td>\n",
       "      <td>France</td>\n",
       "      <td>7003</td>\n",
       "      <td>March</td>\n",
       "      <td>2019</td>\n",
       "      <td>2.440</td>\n",
       "      <td>68.0</td>\n",
       "      <td>27.0</td>\n",
       "      <td>Rice</td>\n",
       "      <td>54775.0</td>\n",
       "      <td>Annex_I_countries</td>\n",
       "      <td>68.0</td>\n",
       "    </tr>\n",
       "    <tr>\n",
       "      <th>218148</th>\n",
       "      <td>68</td>\n",
       "      <td>France</td>\n",
       "      <td>7007</td>\n",
       "      <td>July</td>\n",
       "      <td>2019</td>\n",
       "      <td>3.347</td>\n",
       "      <td>68.0</td>\n",
       "      <td>27.0</td>\n",
       "      <td>Rice</td>\n",
       "      <td>54775.0</td>\n",
       "      <td>Annex_I_countries</td>\n",
       "      <td>68.0</td>\n",
       "    </tr>\n",
       "    <tr>\n",
       "      <th>218149</th>\n",
       "      <td>157</td>\n",
       "      <td>Nicaragua</td>\n",
       "      <td>7016</td>\n",
       "      <td>Dec–Jan–Feb</td>\n",
       "      <td>2019</td>\n",
       "      <td>1.110</td>\n",
       "      <td>157.0</td>\n",
       "      <td>56.0</td>\n",
       "      <td>Maize</td>\n",
       "      <td>13996.0</td>\n",
       "      <td>Americas</td>\n",
       "      <td>157.0</td>\n",
       "    </tr>\n",
       "    <tr>\n",
       "      <th>218151</th>\n",
       "      <td>10</td>\n",
       "      <td>Australia</td>\n",
       "      <td>7002</td>\n",
       "      <td>February</td>\n",
       "      <td>2019</td>\n",
       "      <td>1.456</td>\n",
       "      <td>10.0</td>\n",
       "      <td>79.0</td>\n",
       "      <td>Millet</td>\n",
       "      <td>10216.0</td>\n",
       "      <td>Annex_I_countries</td>\n",
       "      <td>10.0</td>\n",
       "    </tr>\n",
       "    <tr>\n",
       "      <th>218152</th>\n",
       "      <td>69</td>\n",
       "      <td>French Guiana</td>\n",
       "      <td>7005</td>\n",
       "      <td>May</td>\n",
       "      <td>2019</td>\n",
       "      <td>1.498</td>\n",
       "      <td>69.0</td>\n",
       "      <td>56.0</td>\n",
       "      <td>Maize</td>\n",
       "      <td>50148.0</td>\n",
       "      <td>Annex_I_countries</td>\n",
       "      <td>69.0</td>\n",
       "    </tr>\n",
       "    <tr>\n",
       "      <th>218153</th>\n",
       "      <td>157</td>\n",
       "      <td>Nicaragua</td>\n",
       "      <td>7004</td>\n",
       "      <td>April</td>\n",
       "      <td>2019</td>\n",
       "      <td>1.127</td>\n",
       "      <td>157.0</td>\n",
       "      <td>56.0</td>\n",
       "      <td>Maize</td>\n",
       "      <td>13996.0</td>\n",
       "      <td>Americas</td>\n",
       "      <td>157.0</td>\n",
       "    </tr>\n",
       "    <tr>\n",
       "      <th>218154</th>\n",
       "      <td>69</td>\n",
       "      <td>French Guiana</td>\n",
       "      <td>7004</td>\n",
       "      <td>April</td>\n",
       "      <td>2019</td>\n",
       "      <td>1.415</td>\n",
       "      <td>69.0</td>\n",
       "      <td>56.0</td>\n",
       "      <td>Maize</td>\n",
       "      <td>50148.0</td>\n",
       "      <td>Annex_I_countries</td>\n",
       "      <td>69.0</td>\n",
       "    </tr>\n",
       "    <tr>\n",
       "      <th>218155</th>\n",
       "      <td>157</td>\n",
       "      <td>Nicaragua</td>\n",
       "      <td>7005</td>\n",
       "      <td>May</td>\n",
       "      <td>2019</td>\n",
       "      <td>1.173</td>\n",
       "      <td>157.0</td>\n",
       "      <td>56.0</td>\n",
       "      <td>Maize</td>\n",
       "      <td>13996.0</td>\n",
       "      <td>Americas</td>\n",
       "      <td>157.0</td>\n",
       "    </tr>\n",
       "    <tr>\n",
       "      <th>218156</th>\n",
       "      <td>69</td>\n",
       "      <td>French Guiana</td>\n",
       "      <td>7003</td>\n",
       "      <td>March</td>\n",
       "      <td>2019</td>\n",
       "      <td>1.537</td>\n",
       "      <td>69.0</td>\n",
       "      <td>56.0</td>\n",
       "      <td>Maize</td>\n",
       "      <td>50148.0</td>\n",
       "      <td>Annex_I_countries</td>\n",
       "      <td>69.0</td>\n",
       "    </tr>\n",
       "    <tr>\n",
       "      <th>218158</th>\n",
       "      <td>157</td>\n",
       "      <td>Nicaragua</td>\n",
       "      <td>7006</td>\n",
       "      <td>June</td>\n",
       "      <td>2019</td>\n",
       "      <td>1.874</td>\n",
       "      <td>157.0</td>\n",
       "      <td>56.0</td>\n",
       "      <td>Maize</td>\n",
       "      <td>13996.0</td>\n",
       "      <td>Americas</td>\n",
       "      <td>157.0</td>\n",
       "    </tr>\n",
       "    <tr>\n",
       "      <th>218159</th>\n",
       "      <td>69</td>\n",
       "      <td>French Guiana</td>\n",
       "      <td>7002</td>\n",
       "      <td>February</td>\n",
       "      <td>2019</td>\n",
       "      <td>1.415</td>\n",
       "      <td>69.0</td>\n",
       "      <td>56.0</td>\n",
       "      <td>Maize</td>\n",
       "      <td>50148.0</td>\n",
       "      <td>Annex_I_countries</td>\n",
       "      <td>69.0</td>\n",
       "    </tr>\n",
       "    <tr>\n",
       "      <th>218161</th>\n",
       "      <td>157</td>\n",
       "      <td>Nicaragua</td>\n",
       "      <td>7007</td>\n",
       "      <td>July</td>\n",
       "      <td>2019</td>\n",
       "      <td>1.385</td>\n",
       "      <td>157.0</td>\n",
       "      <td>56.0</td>\n",
       "      <td>Maize</td>\n",
       "      <td>13996.0</td>\n",
       "      <td>Americas</td>\n",
       "      <td>157.0</td>\n",
       "    </tr>\n",
       "    <tr>\n",
       "      <th>218162</th>\n",
       "      <td>69</td>\n",
       "      <td>French Guiana</td>\n",
       "      <td>7001</td>\n",
       "      <td>January</td>\n",
       "      <td>2019</td>\n",
       "      <td>1.277</td>\n",
       "      <td>69.0</td>\n",
       "      <td>56.0</td>\n",
       "      <td>Maize</td>\n",
       "      <td>50148.0</td>\n",
       "      <td>Annex_I_countries</td>\n",
       "      <td>69.0</td>\n",
       "    </tr>\n",
       "    <tr>\n",
       "      <th>218163</th>\n",
       "      <td>157</td>\n",
       "      <td>Nicaragua</td>\n",
       "      <td>7008</td>\n",
       "      <td>August</td>\n",
       "      <td>2019</td>\n",
       "      <td>1.579</td>\n",
       "      <td>157.0</td>\n",
       "      <td>56.0</td>\n",
       "      <td>Maize</td>\n",
       "      <td>13996.0</td>\n",
       "      <td>Americas</td>\n",
       "      <td>157.0</td>\n",
       "    </tr>\n",
       "    <tr>\n",
       "      <th>218164</th>\n",
       "      <td>68</td>\n",
       "      <td>France</td>\n",
       "      <td>7020</td>\n",
       "      <td>Meteorological year</td>\n",
       "      <td>2019</td>\n",
       "      <td>1.983</td>\n",
       "      <td>68.0</td>\n",
       "      <td>27.0</td>\n",
       "      <td>Rice</td>\n",
       "      <td>54775.0</td>\n",
       "      <td>Annex_I_countries</td>\n",
       "      <td>68.0</td>\n",
       "    </tr>\n",
       "    <tr>\n",
       "      <th>218165</th>\n",
       "      <td>157</td>\n",
       "      <td>Nicaragua</td>\n",
       "      <td>7009</td>\n",
       "      <td>September</td>\n",
       "      <td>2019</td>\n",
       "      <td>1.829</td>\n",
       "      <td>157.0</td>\n",
       "      <td>56.0</td>\n",
       "      <td>Maize</td>\n",
       "      <td>13996.0</td>\n",
       "      <td>Americas</td>\n",
       "      <td>157.0</td>\n",
       "    </tr>\n",
       "    <tr>\n",
       "      <th>218166</th>\n",
       "      <td>68</td>\n",
       "      <td>France</td>\n",
       "      <td>7019</td>\n",
       "      <td>Sep–Oct–Nov</td>\n",
       "      <td>2019</td>\n",
       "      <td>1.676</td>\n",
       "      <td>68.0</td>\n",
       "      <td>27.0</td>\n",
       "      <td>Rice</td>\n",
       "      <td>54775.0</td>\n",
       "      <td>Annex_I_countries</td>\n",
       "      <td>68.0</td>\n",
       "    </tr>\n",
       "    <tr>\n",
       "      <th>218167</th>\n",
       "      <td>10</td>\n",
       "      <td>Australia</td>\n",
       "      <td>7001</td>\n",
       "      <td>January</td>\n",
       "      <td>2019</td>\n",
       "      <td>2.727</td>\n",
       "      <td>10.0</td>\n",
       "      <td>79.0</td>\n",
       "      <td>Millet</td>\n",
       "      <td>10216.0</td>\n",
       "      <td>Annex_I_countries</td>\n",
       "      <td>10.0</td>\n",
       "    </tr>\n",
       "    <tr>\n",
       "      <th>218169</th>\n",
       "      <td>157</td>\n",
       "      <td>Nicaragua</td>\n",
       "      <td>7010</td>\n",
       "      <td>October</td>\n",
       "      <td>2019</td>\n",
       "      <td>1.106</td>\n",
       "      <td>157.0</td>\n",
       "      <td>56.0</td>\n",
       "      <td>Maize</td>\n",
       "      <td>13996.0</td>\n",
       "      <td>Americas</td>\n",
       "      <td>157.0</td>\n",
       "    </tr>\n",
       "    <tr>\n",
       "      <th>218170</th>\n",
       "      <td>68</td>\n",
       "      <td>France</td>\n",
       "      <td>7018</td>\n",
       "      <td>Jun–Jul–Aug</td>\n",
       "      <td>2019</td>\n",
       "      <td>3.004</td>\n",
       "      <td>68.0</td>\n",
       "      <td>27.0</td>\n",
       "      <td>Rice</td>\n",
       "      <td>54775.0</td>\n",
       "      <td>Annex_I_countries</td>\n",
       "      <td>68.0</td>\n",
       "    </tr>\n",
       "    <tr>\n",
       "      <th>218171</th>\n",
       "      <td>157</td>\n",
       "      <td>Nicaragua</td>\n",
       "      <td>7011</td>\n",
       "      <td>November</td>\n",
       "      <td>2019</td>\n",
       "      <td>1.010</td>\n",
       "      <td>157.0</td>\n",
       "      <td>56.0</td>\n",
       "      <td>Maize</td>\n",
       "      <td>13996.0</td>\n",
       "      <td>Americas</td>\n",
       "      <td>157.0</td>\n",
       "    </tr>\n",
       "    <tr>\n",
       "      <th>218172</th>\n",
       "      <td>68</td>\n",
       "      <td>France</td>\n",
       "      <td>7017</td>\n",
       "      <td>Mar–Apr–May</td>\n",
       "      <td>2019</td>\n",
       "      <td>1.244</td>\n",
       "      <td>68.0</td>\n",
       "      <td>27.0</td>\n",
       "      <td>Rice</td>\n",
       "      <td>54775.0</td>\n",
       "      <td>Annex_I_countries</td>\n",
       "      <td>68.0</td>\n",
       "    </tr>\n",
       "    <tr>\n",
       "      <th>218173</th>\n",
       "      <td>157</td>\n",
       "      <td>Nicaragua</td>\n",
       "      <td>7012</td>\n",
       "      <td>December</td>\n",
       "      <td>2019</td>\n",
       "      <td>1.128</td>\n",
       "      <td>157.0</td>\n",
       "      <td>56.0</td>\n",
       "      <td>Maize</td>\n",
       "      <td>13996.0</td>\n",
       "      <td>Americas</td>\n",
       "      <td>157.0</td>\n",
       "    </tr>\n",
       "    <tr>\n",
       "      <th>218174</th>\n",
       "      <td>68</td>\n",
       "      <td>France</td>\n",
       "      <td>7016</td>\n",
       "      <td>Dec–Jan–Feb</td>\n",
       "      <td>2019</td>\n",
       "      <td>2.010</td>\n",
       "      <td>68.0</td>\n",
       "      <td>27.0</td>\n",
       "      <td>Rice</td>\n",
       "      <td>54775.0</td>\n",
       "      <td>Annex_I_countries</td>\n",
       "      <td>68.0</td>\n",
       "    </tr>\n",
       "    <tr>\n",
       "      <th>218176</th>\n",
       "      <td>181</td>\n",
       "      <td>Zimbabwe</td>\n",
       "      <td>7020</td>\n",
       "      <td>Meteorological year</td>\n",
       "      <td>2019</td>\n",
       "      <td>1.157</td>\n",
       "      <td>181.0</td>\n",
       "      <td>15.0</td>\n",
       "      <td>Wheat</td>\n",
       "      <td>20010.0</td>\n",
       "      <td>World</td>\n",
       "      <td>181.0</td>\n",
       "    </tr>\n",
       "  </tbody>\n",
       "</table>\n",
       "<p>122449 rows × 12 columns</p>\n",
       "</div>"
      ],
      "text/plain": [
       "        Area Code_x                      Area  Months Code  \\\n",
       "0                 2               Afghanistan         7001   \n",
       "1                25           Solomon Islands         7005   \n",
       "3                25           Solomon Islands         7006   \n",
       "5                25           Solomon Islands         7007   \n",
       "7                25           Solomon Islands         7008   \n",
       "9                25           Solomon Islands         7009   \n",
       "15               25           Solomon Islands         7012   \n",
       "17               25           Solomon Islands         7016   \n",
       "19               25           Solomon Islands         7017   \n",
       "20               39                      Chad         7016   \n",
       "21               25           Solomon Islands         7018   \n",
       "26               25           Solomon Islands         7003   \n",
       "46               25           Solomon Islands         7001   \n",
       "48               25           Solomon Islands         7002   \n",
       "52               25           Solomon Islands         7020   \n",
       "54               37  Central African Republic         7016   \n",
       "55              201                   Somalia         7018   \n",
       "59              201                   Somalia         7020   \n",
       "63              202              South Africa         7002   \n",
       "65              202              South Africa         7003   \n",
       "67              202              South Africa         7004   \n",
       "68               37  Central African Republic         7006   \n",
       "70               37  Central African Republic         7005   \n",
       "71              202              South Africa         7006   \n",
       "73              202              South Africa         7007   \n",
       "74               37  Central African Republic         7003   \n",
       "77              201                   Somalia         7017   \n",
       "79               37  Central African Republic         7017   \n",
       "83              201                   Somalia         7002   \n",
       "85              201                   Somalia         7003   \n",
       "...             ...                       ...          ...   \n",
       "218140           10                 Australia         7004   \n",
       "218142          158                     Niger         7003   \n",
       "218144          158                     Niger         7004   \n",
       "218145           68                    France         7004   \n",
       "218146          158                     Niger         7005   \n",
       "218147           68                    France         7003   \n",
       "218148           68                    France         7007   \n",
       "218149          157                 Nicaragua         7016   \n",
       "218151           10                 Australia         7002   \n",
       "218152           69             French Guiana         7005   \n",
       "218153          157                 Nicaragua         7004   \n",
       "218154           69             French Guiana         7004   \n",
       "218155          157                 Nicaragua         7005   \n",
       "218156           69             French Guiana         7003   \n",
       "218158          157                 Nicaragua         7006   \n",
       "218159           69             French Guiana         7002   \n",
       "218161          157                 Nicaragua         7007   \n",
       "218162           69             French Guiana         7001   \n",
       "218163          157                 Nicaragua         7008   \n",
       "218164           68                    France         7020   \n",
       "218165          157                 Nicaragua         7009   \n",
       "218166           68                    France         7019   \n",
       "218167           10                 Australia         7001   \n",
       "218169          157                 Nicaragua         7010   \n",
       "218170           68                    France         7018   \n",
       "218171          157                 Nicaragua         7011   \n",
       "218172           68                    France         7017   \n",
       "218173          157                 Nicaragua         7012   \n",
       "218174           68                    France         7016   \n",
       "218176          181                  Zimbabwe         7020   \n",
       "\n",
       "                     Months  Year  temperature  Area Code_y  Item Code  \\\n",
       "0                   January  1961        0.777          2.0       44.0   \n",
       "1                       May  1961        0.233         25.0       27.0   \n",
       "3                      June  1961        0.373         25.0       27.0   \n",
       "5                      July  1961        0.462         25.0       27.0   \n",
       "7                    August  1961        0.211         25.0       27.0   \n",
       "9                 September  1961        0.296         25.0       27.0   \n",
       "15                 December  1961        0.206         25.0       27.0   \n",
       "17              Dec–Jan–Feb  1961        0.078         25.0       27.0   \n",
       "19              Mar–Apr–May  1961        0.171         25.0       27.0   \n",
       "20              Dec–Jan–Feb  1961        0.440         39.0       56.0   \n",
       "21              Jun–Jul–Aug  1961        0.349         25.0       27.0   \n",
       "26                    March  1961        0.432         25.0       27.0   \n",
       "46                  January  1961        0.084         25.0       27.0   \n",
       "48                 February  1961        0.404         25.0       27.0   \n",
       "52      Meteorological year  1961        0.146         25.0       27.0   \n",
       "54              Dec–Jan–Feb  1961        0.301         37.0       27.0   \n",
       "55              Jun–Jul–Aug  1961        0.779        201.0       56.0   \n",
       "59      Meteorological year  1961        0.305        201.0       56.0   \n",
       "63                 February  1961        0.357        202.0       56.0   \n",
       "65                    March  1961        0.348        202.0       56.0   \n",
       "67                    April  1961        0.537        202.0       56.0   \n",
       "68                     June  1961        0.053         37.0       27.0   \n",
       "70                      May  1961        0.510         37.0       27.0   \n",
       "71                     June  1961        1.015        202.0       56.0   \n",
       "73                     July  1961        1.188        202.0       56.0   \n",
       "74                    March  1961        0.306         37.0       27.0   \n",
       "77              Mar–Apr–May  1961        0.467        201.0       56.0   \n",
       "79              Mar–Apr–May  1961        0.226         37.0       27.0   \n",
       "83                 February  1961        0.034        201.0       56.0   \n",
       "85                    March  1961        0.152        201.0       56.0   \n",
       "...                     ...   ...          ...          ...        ...   \n",
       "218140                April  2019        1.292         10.0       79.0   \n",
       "218142                March  2019        1.592        158.0       15.0   \n",
       "218144                April  2019        1.349        158.0       15.0   \n",
       "218145                April  2019        1.421         68.0       27.0   \n",
       "218146                  May  2019        2.071        158.0       15.0   \n",
       "218147                March  2019        2.440         68.0       27.0   \n",
       "218148                 July  2019        3.347         68.0       27.0   \n",
       "218149          Dec–Jan–Feb  2019        1.110        157.0       56.0   \n",
       "218151             February  2019        1.456         10.0       79.0   \n",
       "218152                  May  2019        1.498         69.0       56.0   \n",
       "218153                April  2019        1.127        157.0       56.0   \n",
       "218154                April  2019        1.415         69.0       56.0   \n",
       "218155                  May  2019        1.173        157.0       56.0   \n",
       "218156                March  2019        1.537         69.0       56.0   \n",
       "218158                 June  2019        1.874        157.0       56.0   \n",
       "218159             February  2019        1.415         69.0       56.0   \n",
       "218161                 July  2019        1.385        157.0       56.0   \n",
       "218162              January  2019        1.277         69.0       56.0   \n",
       "218163               August  2019        1.579        157.0       56.0   \n",
       "218164  Meteorological year  2019        1.983         68.0       27.0   \n",
       "218165            September  2019        1.829        157.0       56.0   \n",
       "218166          Sep–Oct–Nov  2019        1.676         68.0       27.0   \n",
       "218167              January  2019        2.727         10.0       79.0   \n",
       "218169              October  2019        1.106        157.0       56.0   \n",
       "218170          Jun–Jul–Aug  2019        3.004         68.0       27.0   \n",
       "218171             November  2019        1.010        157.0       56.0   \n",
       "218172          Mar–Apr–May  2019        1.244         68.0       27.0   \n",
       "218173             December  2019        1.128        157.0       56.0   \n",
       "218174          Dec–Jan–Feb  2019        2.010         68.0       27.0   \n",
       "218176  Meteorological year  2019        1.157        181.0       15.0   \n",
       "\n",
       "          Item    yield                                   region  Country Code  \n",
       "0       Barley  10800.0                            Southern_Asia           2.0  \n",
       "1         Rice  17391.0                                    World          25.0  \n",
       "3         Rice  17391.0                                    World          25.0  \n",
       "5         Rice  17391.0                                    World          25.0  \n",
       "7         Rice  17391.0                                    World          25.0  \n",
       "9         Rice  17391.0                                    World          25.0  \n",
       "15        Rice  17391.0                                    World          25.0  \n",
       "17        Rice  17391.0                                    World          25.0  \n",
       "19        Rice  17391.0                                    World          25.0  \n",
       "20       Maize  10588.0         Land_Locked_Developing_Countries          39.0  \n",
       "21        Rice  17391.0                                    World          25.0  \n",
       "26        Rice  17391.0                                    World          25.0  \n",
       "46        Rice  17391.0                                    World          25.0  \n",
       "48        Rice  17391.0                                    World          25.0  \n",
       "52        Rice  17391.0                                    World          25.0  \n",
       "54        Rice   8571.0     Sub_Saharan_Africa_(including_Sudan)          37.0  \n",
       "55       Maize   8696.0  Net_Food_Importing_Developing_Countries         201.0  \n",
       "59       Maize   8696.0  Net_Food_Importing_Developing_Countries         201.0  \n",
       "63       Maize  12853.0                       Sub_Saharan_Africa         202.0  \n",
       "65       Maize  12853.0                       Sub_Saharan_Africa         202.0  \n",
       "67       Maize  12853.0                       Sub_Saharan_Africa         202.0  \n",
       "68        Rice   8571.0     Sub_Saharan_Africa_(including_Sudan)          37.0  \n",
       "70        Rice   8571.0     Sub_Saharan_Africa_(including_Sudan)          37.0  \n",
       "71       Maize  12853.0                       Sub_Saharan_Africa         202.0  \n",
       "73       Maize  12853.0                       Sub_Saharan_Africa         202.0  \n",
       "74        Rice   8571.0     Sub_Saharan_Africa_(including_Sudan)          37.0  \n",
       "77       Maize   8696.0  Net_Food_Importing_Developing_Countries         201.0  \n",
       "79        Rice   8571.0     Sub_Saharan_Africa_(including_Sudan)          37.0  \n",
       "83       Maize   8696.0  Net_Food_Importing_Developing_Countries         201.0  \n",
       "85       Maize   8696.0  Net_Food_Importing_Developing_Countries         201.0  \n",
       "...        ...      ...                                      ...           ...  \n",
       "218140  Millet  10216.0                        Annex_I_countries          10.0  \n",
       "218142   Wheat  29615.0                    Non_Annex_I_countries         158.0  \n",
       "218144   Wheat  29615.0                    Non_Annex_I_countries         158.0  \n",
       "218145    Rice  54775.0                        Annex_I_countries          68.0  \n",
       "218146   Wheat  29615.0                    Non_Annex_I_countries         158.0  \n",
       "218147    Rice  54775.0                        Annex_I_countries          68.0  \n",
       "218148    Rice  54775.0                        Annex_I_countries          68.0  \n",
       "218149   Maize  13996.0                                 Americas         157.0  \n",
       "218151  Millet  10216.0                        Annex_I_countries          10.0  \n",
       "218152   Maize  50148.0                        Annex_I_countries          69.0  \n",
       "218153   Maize  13996.0                                 Americas         157.0  \n",
       "218154   Maize  50148.0                        Annex_I_countries          69.0  \n",
       "218155   Maize  13996.0                                 Americas         157.0  \n",
       "218156   Maize  50148.0                        Annex_I_countries          69.0  \n",
       "218158   Maize  13996.0                                 Americas         157.0  \n",
       "218159   Maize  50148.0                        Annex_I_countries          69.0  \n",
       "218161   Maize  13996.0                                 Americas         157.0  \n",
       "218162   Maize  50148.0                        Annex_I_countries          69.0  \n",
       "218163   Maize  13996.0                                 Americas         157.0  \n",
       "218164    Rice  54775.0                        Annex_I_countries          68.0  \n",
       "218165   Maize  13996.0                                 Americas         157.0  \n",
       "218166    Rice  54775.0                        Annex_I_countries          68.0  \n",
       "218167  Millet  10216.0                        Annex_I_countries          10.0  \n",
       "218169   Maize  13996.0                                 Americas         157.0  \n",
       "218170    Rice  54775.0                        Annex_I_countries          68.0  \n",
       "218171   Maize  13996.0                                 Americas         157.0  \n",
       "218172    Rice  54775.0                        Annex_I_countries          68.0  \n",
       "218173   Maize  13996.0                                 Americas         157.0  \n",
       "218174    Rice  54775.0                        Annex_I_countries          68.0  \n",
       "218176   Wheat  20010.0                                    World         181.0  \n",
       "\n",
       "[122449 rows x 12 columns]"
      ]
     },
     "execution_count": 64,
     "metadata": {},
     "output_type": "execute_result"
    }
   ],
   "source": [
    "df_crop_temp.query(\"temperature > 0\")"
   ]
  },
  {
   "cell_type": "code",
   "execution_count": 65,
   "metadata": {},
   "outputs": [
    {
     "data": {
      "text/plain": [
       "array(['Southern_Asia', 'World', 'Land_Locked_Developing_Countries',\n",
       "       'Americas', 'Sub_Saharan_Africa_(including_Sudan)',\n",
       "       'Net_Food_Importing_Developing_Countries', 'Sub_Saharan_Africa',\n",
       "       'Non_Annex_I_countries', 'Africa', 'Least_Developed_Countries',\n",
       "       'Asia', 'Eastern_Asia_and_South_eastern_Asia',\n",
       "       'Low_Income_Food_Deficit_Countries', 'Eastern_Africa',\n",
       "       'Latin_America_and_the_Caribbean', 'Annex_I_countries', 'OECD',\n",
       "       'High_income_economies', 'Europe', 'Lower_middle_income_economies',\n",
       "       'South_America', 'Western_Europe',\n",
       "       'Small_Island_Developing_States', 'Western_Africa',\n",
       "       'Northern_America_and_Europe', 'Western_Asia_and_Northern_Africa',\n",
       "       'Upper_middle_income_economies', 'Caribbean',\n",
       "       'Oceania_excluding_Australia_and_New_Zealand', 'Northern_Africa',\n",
       "       'Central_America', 'Northern_Europe', 'Oceania',\n",
       "       'Central_Asia_and_Southern_Asia', 'Western_Asia',\n",
       "       'Southern_Europe', 'Southern_Africa', 'European_Union',\n",
       "       'Eastern_Asia', 'East_Asia_(exc_China)', 'Middle_Africa',\n",
       "       'South_Asia_(exc_India)', 'North_Africa_(exc_Sudan)',\n",
       "       'Low_income_economies', 'South_Eastern_Asia', 'Melanesia',\n",
       "       'Eastern_Europe', 'Micronesia', 'Australia_and_New_Zealand',\n",
       "       'Northern_America', 'Central_Asia'], dtype=object)"
      ]
     },
     "execution_count": 65,
     "metadata": {},
     "output_type": "execute_result"
    }
   ],
   "source": [
    "df_crop_temp['region'].unique()"
   ]
  },
  {
   "cell_type": "code",
   "execution_count": 66,
   "metadata": {},
   "outputs": [
    {
     "data": {
      "text/plain": [
       "array(['Barley', 'Rice', 'Maize', 'Millet', 'Sorghum', 'Wheat'],\n",
       "      dtype=object)"
      ]
     },
     "execution_count": 66,
     "metadata": {},
     "output_type": "execute_result"
    }
   ],
   "source": [
    "df_crop_temp['Item'].unique()"
   ]
  },
  {
   "cell_type": "markdown",
   "metadata": {},
   "source": [
    "## Normality check"
   ]
  },
  {
   "cell_type": "markdown",
   "metadata": {},
   "source": [
    "##### H0: Distribution is normal\n",
    "##### HA: Distribution is not normal"
   ]
  },
  {
   "cell_type": "code",
   "execution_count": 71,
   "metadata": {},
   "outputs": [],
   "source": [
    "# To check if the data is normally distributed using Shapiro test\n",
    "def NormalityCheck(df):\n",
    "    result = stats.shapiro(df) # to test if the discounted group distribution is normal\n",
    "    print('The test stattistics is: {}' .format(result))\n",
    "    if result[1] < 0.05:\n",
    "        print('The test statistic is less than .05 , the null hypothesis is rejected and the data is not normally distributed')\n",
    "    else:\n",
    "        print('The test statistic is greater than .05 , we fail to reject the null hypothesis and the data is normally distributed')\n",
    "    print('The size of the data is : {}'.format(len(df))) "
   ]
  },
  {
   "cell_type": "markdown",
   "metadata": {},
   "source": [
    "## Distribution plot"
   ]
  },
  {
   "cell_type": "code",
   "execution_count": 79,
   "metadata": {},
   "outputs": [],
   "source": [
    "def NormalityPlot(df,df1,df2):\n",
    "    plt.figure(figsize=(20, 10))\n",
    "    sns.distplot(df, label='population data')\n",
    "    sns.distplot(df1, label='high temp')\n",
    "    sns.distplot(df2, label='low temp')\n",
    "    plt.title('Distribution of temprature', fontsize=16)\n",
    "    plt.xlabel('temp', fontsize=16)\n",
    "    plt.legend(frameon=False, fontsize=16, loc='best')\n",
    "    plt.show()"
   ]
  },
  {
   "cell_type": "markdown",
   "metadata": {},
   "source": [
    "## Checking for equal variance"
   ]
  },
  {
   "cell_type": "markdown",
   "metadata": {},
   "source": [
    "##### H0: The two variances are the same.\n",
    "##### HA: The variances are not the same."
   ]
  },
  {
   "cell_type": "code",
   "execution_count": 84,
   "metadata": {},
   "outputs": [],
   "source": [
    "#Testing for equal variance between the two groups by using the levene's test\n",
    "def EqualVarianceCheck(df1,df2):\n",
    "    print ('Hypothesis Testing for Equal Variance' '\\n\\n' )\n",
    "    print('H0: The two variances are equal')\n",
    "    print('HA: The two variances are not equal' '\\n')\n",
    "    print ('The sizes of the data are {} and {}' '\\n' .format(len(df1), len(df2)))\n",
    "    result_l = stats.levene(df1, df2) # to test normality\n",
    "    print('{}' '\\n' .format(result_l))\n",
    "    if result_l[1] < 0.05:\n",
    "        print('The test statistic is less than .05 , the null hypothesis is rejected and the two variances are not the same')\n",
    "\n",
    "    else:\n",
    "        print('The test statistic is greater than .05 , we fail to reject the null hypothesis and the two variances are the same')\n",
    "       "
   ]
  },
  {
   "cell_type": "markdown",
   "metadata": {},
   "source": [
    "## Welch's test "
   ]
  },
  {
   "cell_type": "code",
   "execution_count": 86,
   "metadata": {},
   "outputs": [],
   "source": [
    "def WelchsTestVarTrue(df1,df2):\n",
    "    result_w = stats.ttest_ind(dfl, df2)\n",
    "    print('{}' '\\n' .format(result_w))\n",
    "    if result_w[1] < 0.05:\n",
    "         print('The test statistic is less than .05 , the null hypothesis is rejected and Temperature has an effect on the crop yield')\n",
    "    else:    \n",
    "        print('The test statistic is greater than .05 , we fail to reject the null hypothesis and temprature has an effect on crop yield')"
   ]
  },
  {
   "cell_type": "code",
   "execution_count": 88,
   "metadata": {},
   "outputs": [
    {
     "name": "stdout",
     "output_type": "stream",
     "text": [
      "Ttest_indResult(statistic=1.9980441974457954, pvalue=0.04837389563802079)\n",
      "\n",
      "The test statistic is less than .05 , the null hypothesis is rejected and Temperature has an effect on the crop yield\n"
     ]
    }
   ],
   "source": [
    "result_w = stats.ttest_ind(Low_income_economies_m_h['yield'],Low_income_economies_m_n['yield'], equal_var=True)\n",
    "print('{}' '\\n' .format(result_w))\n",
    "if result_w[1] < 0.05:\n",
    "     print('The test statistic is less than .05 , the null hypothesis is rejected and Temperature has an effect on the crop yield')\n",
    "else:    \n",
    "    print('The test statistic is greater than .05 , we fail to reject the null hypothesis and temprature has an effect on crop yield')"
   ]
  },
  {
   "cell_type": "markdown",
   "metadata": {},
   "source": [
    "## Cohen d "
   ]
  },
  {
   "cell_type": "code",
   "execution_count": 89,
   "metadata": {},
   "outputs": [],
   "source": [
    "def Cohen_d(group1, group2):\n",
    "    diff = group1.mean() - group2.mean()\n",
    "    n1, n2 = len(group1), len(group2)\n",
    "    var1 = group1.var()\n",
    "    var2 = group2.var()\n",
    "    pooled_var = (n1 * var1 + n2 * var2) / (n1 + n2)\n",
    "    # Calculate Cohen's d statistic\n",
    "    d = diff / np.sqrt(pooled_var)\n",
    "    return round(abs(d), 1)"
   ]
  },
  {
   "cell_type": "markdown",
   "metadata": {},
   "source": [
    "###### Split the date into high and low temperature"
   ]
  },
  {
   "cell_type": "code",
   "execution_count": 132,
   "metadata": {},
   "outputs": [
    {
     "data": {
      "text/html": [
       "<div>\n",
       "<style scoped>\n",
       "    .dataframe tbody tr th:only-of-type {\n",
       "        vertical-align: middle;\n",
       "    }\n",
       "\n",
       "    .dataframe tbody tr th {\n",
       "        vertical-align: top;\n",
       "    }\n",
       "\n",
       "    .dataframe thead th {\n",
       "        text-align: right;\n",
       "    }\n",
       "</style>\n",
       "<table border=\"1\" class=\"dataframe\">\n",
       "  <thead>\n",
       "    <tr style=\"text-align: right;\">\n",
       "      <th></th>\n",
       "      <th>Area Code_x</th>\n",
       "      <th>Months Code</th>\n",
       "      <th>Year</th>\n",
       "      <th>temperature</th>\n",
       "      <th>Area Code_y</th>\n",
       "      <th>Item Code</th>\n",
       "      <th>yield</th>\n",
       "      <th>Country Code</th>\n",
       "    </tr>\n",
       "    <tr>\n",
       "      <th>region</th>\n",
       "      <th></th>\n",
       "      <th></th>\n",
       "      <th></th>\n",
       "      <th></th>\n",
       "      <th></th>\n",
       "      <th></th>\n",
       "      <th></th>\n",
       "      <th></th>\n",
       "    </tr>\n",
       "  </thead>\n",
       "  <tbody>\n",
       "    <tr>\n",
       "      <th>Africa</th>\n",
       "      <td>118.975904</td>\n",
       "      <td>7020.0</td>\n",
       "      <td>1973.337349</td>\n",
       "      <td>-0.250096</td>\n",
       "      <td>118.975904</td>\n",
       "      <td>52.542169</td>\n",
       "      <td>13179.349398</td>\n",
       "      <td>118.975904</td>\n",
       "    </tr>\n",
       "    <tr>\n",
       "      <th>Americas</th>\n",
       "      <td>100.398734</td>\n",
       "      <td>7020.0</td>\n",
       "      <td>1971.835443</td>\n",
       "      <td>-0.228994</td>\n",
       "      <td>100.398734</td>\n",
       "      <td>49.088608</td>\n",
       "      <td>20996.170886</td>\n",
       "      <td>100.398734</td>\n",
       "    </tr>\n",
       "    <tr>\n",
       "      <th>Annex_I_countries</th>\n",
       "      <td>117.681250</td>\n",
       "      <td>7020.0</td>\n",
       "      <td>1976.268750</td>\n",
       "      <td>-0.433537</td>\n",
       "      <td>117.681250</td>\n",
       "      <td>41.025000</td>\n",
       "      <td>34026.837500</td>\n",
       "      <td>117.681250</td>\n",
       "    </tr>\n",
       "    <tr>\n",
       "      <th>Asia</th>\n",
       "      <td>129.045752</td>\n",
       "      <td>7020.0</td>\n",
       "      <td>1976.313725</td>\n",
       "      <td>-0.310320</td>\n",
       "      <td>129.045752</td>\n",
       "      <td>47.000000</td>\n",
       "      <td>18764.764706</td>\n",
       "      <td>129.045752</td>\n",
       "    </tr>\n",
       "    <tr>\n",
       "      <th>Australia_and_New_Zealand</th>\n",
       "      <td>156.000000</td>\n",
       "      <td>7020.0</td>\n",
       "      <td>1984.000000</td>\n",
       "      <td>-0.148667</td>\n",
       "      <td>156.000000</td>\n",
       "      <td>24.666667</td>\n",
       "      <td>43965.666667</td>\n",
       "      <td>156.000000</td>\n",
       "    </tr>\n",
       "  </tbody>\n",
       "</table>\n",
       "</div>"
      ],
      "text/plain": [
       "                           Area Code_x  Months Code         Year  temperature  \\\n",
       "region                                                                          \n",
       "Africa                      118.975904       7020.0  1973.337349    -0.250096   \n",
       "Americas                    100.398734       7020.0  1971.835443    -0.228994   \n",
       "Annex_I_countries           117.681250       7020.0  1976.268750    -0.433537   \n",
       "Asia                        129.045752       7020.0  1976.313725    -0.310320   \n",
       "Australia_and_New_Zealand   156.000000       7020.0  1984.000000    -0.148667   \n",
       "\n",
       "                           Area Code_y  Item Code         yield  Country Code  \n",
       "region                                                                         \n",
       "Africa                      118.975904  52.542169  13179.349398    118.975904  \n",
       "Americas                    100.398734  49.088608  20996.170886    100.398734  \n",
       "Annex_I_countries           117.681250  41.025000  34026.837500    117.681250  \n",
       "Asia                        129.045752  47.000000  18764.764706    129.045752  \n",
       "Australia_and_New_Zealand   156.000000  24.666667  43965.666667    156.000000  "
      ]
     },
     "execution_count": 132,
     "metadata": {},
     "output_type": "execute_result"
    }
   ],
   "source": [
    "df_crop_temp_m = df_crop_temp.query(\"Months == 'Meteorological year'\")\n",
    "df_crop_temp_m_h = df_crop_temp_m.query( \"temperature > 0\")\n",
    "df_crop_temp_m_l =  df_crop_temp_m.query( \"temperature <= 0\")\n",
    "df_crop_temp_m_h_reg =df_crop_temp_m_h.groupby('region').mean()\n",
    "df_crop_temp_m_l_reg =df_crop_temp_m_l.groupby('region').mean()\n",
    "df_crop_temp_m_l_reg.head()"
   ]
  },
  {
   "cell_type": "code",
   "execution_count": 106,
   "metadata": {},
   "outputs": [
    {
     "data": {
      "text/plain": [
       "(2214, 12)"
      ]
     },
     "execution_count": 106,
     "metadata": {},
     "output_type": "execute_result"
    },
    {
     "data": {
      "text/plain": [
       "(7762, 12)"
      ]
     },
     "execution_count": 106,
     "metadata": {},
     "output_type": "execute_result"
    },
    {
     "data": {
      "text/html": [
       "<div>\n",
       "<style scoped>\n",
       "    .dataframe tbody tr th:only-of-type {\n",
       "        vertical-align: middle;\n",
       "    }\n",
       "\n",
       "    .dataframe tbody tr th {\n",
       "        vertical-align: top;\n",
       "    }\n",
       "\n",
       "    .dataframe thead th {\n",
       "        text-align: right;\n",
       "    }\n",
       "</style>\n",
       "<table border=\"1\" class=\"dataframe\">\n",
       "  <thead>\n",
       "    <tr style=\"text-align: right;\">\n",
       "      <th></th>\n",
       "      <th>Area Code_x</th>\n",
       "      <th>Area</th>\n",
       "      <th>Months Code</th>\n",
       "      <th>Months</th>\n",
       "      <th>Year</th>\n",
       "      <th>temperature</th>\n",
       "      <th>Area Code_y</th>\n",
       "      <th>Item Code</th>\n",
       "      <th>Item</th>\n",
       "      <th>yield</th>\n",
       "      <th>region</th>\n",
       "      <th>Country Code</th>\n",
       "    </tr>\n",
       "  </thead>\n",
       "  <tbody>\n",
       "    <tr>\n",
       "      <th>52</th>\n",
       "      <td>25</td>\n",
       "      <td>Solomon Islands</td>\n",
       "      <td>7020</td>\n",
       "      <td>Meteorological year</td>\n",
       "      <td>1961</td>\n",
       "      <td>0.146</td>\n",
       "      <td>25.0</td>\n",
       "      <td>27.0</td>\n",
       "      <td>Rice</td>\n",
       "      <td>17391.0</td>\n",
       "      <td>World</td>\n",
       "      <td>25.0</td>\n",
       "    </tr>\n",
       "    <tr>\n",
       "      <th>59</th>\n",
       "      <td>201</td>\n",
       "      <td>Somalia</td>\n",
       "      <td>7020</td>\n",
       "      <td>Meteorological year</td>\n",
       "      <td>1961</td>\n",
       "      <td>0.305</td>\n",
       "      <td>201.0</td>\n",
       "      <td>56.0</td>\n",
       "      <td>Maize</td>\n",
       "      <td>8696.0</td>\n",
       "      <td>Net_Food_Importing_Developing_Countries</td>\n",
       "      <td>201.0</td>\n",
       "    </tr>\n",
       "    <tr>\n",
       "      <th>100</th>\n",
       "      <td>37</td>\n",
       "      <td>Central African Republic</td>\n",
       "      <td>7020</td>\n",
       "      <td>Meteorological year</td>\n",
       "      <td>1961</td>\n",
       "      <td>0.008</td>\n",
       "      <td>37.0</td>\n",
       "      <td>27.0</td>\n",
       "      <td>Rice</td>\n",
       "      <td>8571.0</td>\n",
       "      <td>Sub_Saharan_Africa_(including_Sudan)</td>\n",
       "      <td>37.0</td>\n",
       "    </tr>\n",
       "    <tr>\n",
       "      <th>142</th>\n",
       "      <td>96</td>\n",
       "      <td>China, Hong Kong SAR</td>\n",
       "      <td>7020</td>\n",
       "      <td>Meteorological year</td>\n",
       "      <td>1961</td>\n",
       "      <td>0.047</td>\n",
       "      <td>96.0</td>\n",
       "      <td>27.0</td>\n",
       "      <td>Rice</td>\n",
       "      <td>20168.0</td>\n",
       "      <td>Non_Annex_I_countries</td>\n",
       "      <td>96.0</td>\n",
       "    </tr>\n",
       "    <tr>\n",
       "      <th>236</th>\n",
       "      <td>29</td>\n",
       "      <td>Burundi</td>\n",
       "      <td>7020</td>\n",
       "      <td>Meteorological year</td>\n",
       "      <td>1961</td>\n",
       "      <td>0.068</td>\n",
       "      <td>29.0</td>\n",
       "      <td>56.0</td>\n",
       "      <td>Maize</td>\n",
       "      <td>9596.0</td>\n",
       "      <td>Africa</td>\n",
       "      <td>29.0</td>\n",
       "    </tr>\n",
       "  </tbody>\n",
       "</table>\n",
       "</div>"
      ],
      "text/plain": [
       "     Area Code_x                      Area  Months Code               Months  \\\n",
       "52            25           Solomon Islands         7020  Meteorological year   \n",
       "59           201                   Somalia         7020  Meteorological year   \n",
       "100           37  Central African Republic         7020  Meteorological year   \n",
       "142           96      China, Hong Kong SAR         7020  Meteorological year   \n",
       "236           29                   Burundi         7020  Meteorological year   \n",
       "\n",
       "     Year  temperature  Area Code_y  Item Code   Item    yield  \\\n",
       "52   1961        0.146         25.0       27.0   Rice  17391.0   \n",
       "59   1961        0.305        201.0       56.0  Maize   8696.0   \n",
       "100  1961        0.008         37.0       27.0   Rice   8571.0   \n",
       "142  1961        0.047         96.0       27.0   Rice  20168.0   \n",
       "236  1961        0.068         29.0       56.0  Maize   9596.0   \n",
       "\n",
       "                                      region  Country Code  \n",
       "52                                     World          25.0  \n",
       "59   Net_Food_Importing_Developing_Countries         201.0  \n",
       "100     Sub_Saharan_Africa_(including_Sudan)          37.0  \n",
       "142                    Non_Annex_I_countries          96.0  \n",
       "236                                   Africa          29.0  "
      ]
     },
     "execution_count": 106,
     "metadata": {},
     "output_type": "execute_result"
    }
   ],
   "source": [
    "df_crop_temp_m_l.shape\n",
    "df_crop_temp_m_h.shape\n",
    "df_crop_temp_m_h.head()\n"
   ]
  },
  {
   "cell_type": "code",
   "execution_count": 101,
   "metadata": {},
   "outputs": [
    {
     "name": "stdout",
     "output_type": "stream",
     "text": [
      "Hypothesis Testing for Equal Variance\n",
      "\n",
      "\n",
      "H0: The two variances are equal\n",
      "HA: The two variances are not equal\n",
      "\n",
      "The sizes of the data are 2214 and 7762\n",
      "\n",
      "LeveneResult(statistic=65.78076752696388, pvalue=5.632812188069084e-16)\n",
      "\n",
      "The test statistic is less than .05 , the null hypothesis is rejected and the two variances are not the same\n"
     ]
    }
   ],
   "source": [
    "EqualVarianceCheck(df_crop_temp_m_l['yield'],df_crop_temp_m_h['yield'])"
   ]
  },
  {
   "cell_type": "markdown",
   "metadata": {},
   "source": [
    "Since they don't have the same variance we need to use Welch's t test "
   ]
  },
  {
   "cell_type": "code",
   "execution_count": 102,
   "metadata": {},
   "outputs": [
    {
     "name": "stdout",
     "output_type": "stream",
     "text": [
      "Ttest_indResult(statistic=-11.613025689503306, pvalue=8.3143534719324e-31)\n",
      "\n",
      "The test statistic is less than .05 , the null hypothesis is rejected and Temperature has an effect on the crop yield\n"
     ]
    }
   ],
   "source": [
    "result_w = stats.ttest_ind(df_crop_temp_m_l['yield'],df_crop_temp_m_h['yield'], equal_var=False)\n",
    "print('{}' '\\n' .format(result_w))\n",
    "if result_w[1] < 0.05:\n",
    "     print('The test statistic is less than .05 , the null hypothesis is rejected and Temperature has an effect on the crop yield')\n",
    "else:    \n",
    "    print('The test statistic is greater than .05 , we fail to reject the null hypothesis and temprature has an effect on crop yield')"
   ]
  },
  {
   "cell_type": "code",
   "execution_count": 112,
   "metadata": {},
   "outputs": [
    {
     "data": {
      "text/html": [
       "<div>\n",
       "<style scoped>\n",
       "    .dataframe tbody tr th:only-of-type {\n",
       "        vertical-align: middle;\n",
       "    }\n",
       "\n",
       "    .dataframe tbody tr th {\n",
       "        vertical-align: top;\n",
       "    }\n",
       "\n",
       "    .dataframe thead th {\n",
       "        text-align: right;\n",
       "    }\n",
       "</style>\n",
       "<table border=\"1\" class=\"dataframe\">\n",
       "  <thead>\n",
       "    <tr style=\"text-align: right;\">\n",
       "      <th></th>\n",
       "      <th>Area Code_x</th>\n",
       "      <th>Months Code</th>\n",
       "      <th>Year</th>\n",
       "      <th>temperature</th>\n",
       "      <th>Area Code_y</th>\n",
       "      <th>Item Code</th>\n",
       "      <th>yield</th>\n",
       "      <th>Country Code</th>\n",
       "    </tr>\n",
       "    <tr>\n",
       "      <th>region</th>\n",
       "      <th></th>\n",
       "      <th></th>\n",
       "      <th></th>\n",
       "      <th></th>\n",
       "      <th></th>\n",
       "      <th></th>\n",
       "      <th></th>\n",
       "      <th></th>\n",
       "    </tr>\n",
       "  </thead>\n",
       "  <tbody>\n",
       "    <tr>\n",
       "      <th>Africa</th>\n",
       "      <td>137.439418</td>\n",
       "      <td>7020.0</td>\n",
       "      <td>1994.360258</td>\n",
       "      <td>0.698722</td>\n",
       "      <td>137.439418</td>\n",
       "      <td>52.334410</td>\n",
       "      <td>14940.324717</td>\n",
       "      <td>137.439418</td>\n",
       "    </tr>\n",
       "    <tr>\n",
       "      <th>Americas</th>\n",
       "      <td>106.450450</td>\n",
       "      <td>7020.0</td>\n",
       "      <td>1995.167568</td>\n",
       "      <td>0.578708</td>\n",
       "      <td>106.450450</td>\n",
       "      <td>48.122523</td>\n",
       "      <td>26937.383784</td>\n",
       "      <td>106.450450</td>\n",
       "    </tr>\n",
       "    <tr>\n",
       "      <th>Annex_I_countries</th>\n",
       "      <td>124.416309</td>\n",
       "      <td>7020.0</td>\n",
       "      <td>1997.663090</td>\n",
       "      <td>0.988815</td>\n",
       "      <td>124.416309</td>\n",
       "      <td>42.407725</td>\n",
       "      <td>41072.446352</td>\n",
       "      <td>124.416309</td>\n",
       "    </tr>\n",
       "    <tr>\n",
       "      <th>Asia</th>\n",
       "      <td>129.170874</td>\n",
       "      <td>7020.0</td>\n",
       "      <td>1997.427184</td>\n",
       "      <td>0.709633</td>\n",
       "      <td>129.170874</td>\n",
       "      <td>45.042718</td>\n",
       "      <td>28600.508738</td>\n",
       "      <td>129.170874</td>\n",
       "    </tr>\n",
       "    <tr>\n",
       "      <th>Australia_and_New_Zealand</th>\n",
       "      <td>97.600000</td>\n",
       "      <td>7020.0</td>\n",
       "      <td>2001.000000</td>\n",
       "      <td>0.529400</td>\n",
       "      <td>97.600000</td>\n",
       "      <td>51.000000</td>\n",
       "      <td>64225.700000</td>\n",
       "      <td>97.600000</td>\n",
       "    </tr>\n",
       "  </tbody>\n",
       "</table>\n",
       "</div>"
      ],
      "text/plain": [
       "                           Area Code_x  Months Code         Year  temperature  \\\n",
       "region                                                                          \n",
       "Africa                      137.439418       7020.0  1994.360258     0.698722   \n",
       "Americas                    106.450450       7020.0  1995.167568     0.578708   \n",
       "Annex_I_countries           124.416309       7020.0  1997.663090     0.988815   \n",
       "Asia                        129.170874       7020.0  1997.427184     0.709633   \n",
       "Australia_and_New_Zealand    97.600000       7020.0  2001.000000     0.529400   \n",
       "\n",
       "                           Area Code_y  Item Code         yield  Country Code  \n",
       "region                                                                         \n",
       "Africa                      137.439418  52.334410  14940.324717    137.439418  \n",
       "Americas                    106.450450  48.122523  26937.383784    106.450450  \n",
       "Annex_I_countries           124.416309  42.407725  41072.446352    124.416309  \n",
       "Asia                        129.170874  45.042718  28600.508738    129.170874  \n",
       "Australia_and_New_Zealand    97.600000  51.000000  64225.700000     97.600000  "
      ]
     },
     "execution_count": 112,
     "metadata": {},
     "output_type": "execute_result"
    },
    {
     "data": {
      "text/plain": [
       "(51, 8)"
      ]
     },
     "execution_count": 112,
     "metadata": {},
     "output_type": "execute_result"
    },
    {
     "data": {
      "text/plain": [
       "Area Code_x     0\n",
       "Months Code     0\n",
       "Year            0\n",
       "temperature     0\n",
       "Area Code_y     0\n",
       "Item Code       0\n",
       "yield           0\n",
       "Country Code    0\n",
       "dtype: int64"
      ]
     },
     "execution_count": 112,
     "metadata": {},
     "output_type": "execute_result"
    }
   ],
   "source": [
    "df_crop_temp_m_h_reg.head()\n",
    "df_crop_temp_m_h_reg.shape\n",
    "df_crop_temp_m_h_reg.isna().sum()"
   ]
  },
  {
   "cell_type": "code",
   "execution_count": 185,
   "metadata": {},
   "outputs": [],
   "source": [
    "# ANOVA test quantity vs regions \n",
    "formula = 'yield ~ C(region)'\n",
    "lm = ols(formula, discorder_reg).fit()\n",
    "table = sm.stats.anova_lm(lm, typ=2)\n",
    "print(table)"
   ]
  },
  {
   "cell_type": "code",
   "execution_count": 187,
   "metadata": {},
   "outputs": [
    {
     "data": {
      "text/html": [
       "<div>\n",
       "<style scoped>\n",
       "    .dataframe tbody tr th:only-of-type {\n",
       "        vertical-align: middle;\n",
       "    }\n",
       "\n",
       "    .dataframe tbody tr th {\n",
       "        vertical-align: top;\n",
       "    }\n",
       "\n",
       "    .dataframe thead th {\n",
       "        text-align: right;\n",
       "    }\n",
       "</style>\n",
       "<table border=\"1\" class=\"dataframe\">\n",
       "  <thead>\n",
       "    <tr style=\"text-align: right;\">\n",
       "      <th></th>\n",
       "      <th>Area Code_x</th>\n",
       "      <th>Area</th>\n",
       "      <th>Months Code</th>\n",
       "      <th>Months</th>\n",
       "      <th>Year</th>\n",
       "      <th>temperature</th>\n",
       "      <th>Area Code_y</th>\n",
       "      <th>Item Code</th>\n",
       "      <th>Item</th>\n",
       "      <th>yield</th>\n",
       "      <th>region</th>\n",
       "      <th>Country Code</th>\n",
       "    </tr>\n",
       "  </thead>\n",
       "  <tbody>\n",
       "    <tr>\n",
       "      <th>52</th>\n",
       "      <td>25</td>\n",
       "      <td>Solomon Islands</td>\n",
       "      <td>7020</td>\n",
       "      <td>Meteorological year</td>\n",
       "      <td>1961</td>\n",
       "      <td>0.146</td>\n",
       "      <td>25.0</td>\n",
       "      <td>27.0</td>\n",
       "      <td>Rice</td>\n",
       "      <td>17391.0</td>\n",
       "      <td>World</td>\n",
       "      <td>25.0</td>\n",
       "    </tr>\n",
       "    <tr>\n",
       "      <th>59</th>\n",
       "      <td>201</td>\n",
       "      <td>Somalia</td>\n",
       "      <td>7020</td>\n",
       "      <td>Meteorological year</td>\n",
       "      <td>1961</td>\n",
       "      <td>0.305</td>\n",
       "      <td>201.0</td>\n",
       "      <td>56.0</td>\n",
       "      <td>Maize</td>\n",
       "      <td>8696.0</td>\n",
       "      <td>Net_Food_Importing_Developing_Countries</td>\n",
       "      <td>201.0</td>\n",
       "    </tr>\n",
       "    <tr>\n",
       "      <th>100</th>\n",
       "      <td>37</td>\n",
       "      <td>Central African Republic</td>\n",
       "      <td>7020</td>\n",
       "      <td>Meteorological year</td>\n",
       "      <td>1961</td>\n",
       "      <td>0.008</td>\n",
       "      <td>37.0</td>\n",
       "      <td>27.0</td>\n",
       "      <td>Rice</td>\n",
       "      <td>8571.0</td>\n",
       "      <td>Sub_Saharan_Africa_(including_Sudan)</td>\n",
       "      <td>37.0</td>\n",
       "    </tr>\n",
       "    <tr>\n",
       "      <th>142</th>\n",
       "      <td>96</td>\n",
       "      <td>China, Hong Kong SAR</td>\n",
       "      <td>7020</td>\n",
       "      <td>Meteorological year</td>\n",
       "      <td>1961</td>\n",
       "      <td>0.047</td>\n",
       "      <td>96.0</td>\n",
       "      <td>27.0</td>\n",
       "      <td>Rice</td>\n",
       "      <td>20168.0</td>\n",
       "      <td>Non_Annex_I_countries</td>\n",
       "      <td>96.0</td>\n",
       "    </tr>\n",
       "    <tr>\n",
       "      <th>236</th>\n",
       "      <td>29</td>\n",
       "      <td>Burundi</td>\n",
       "      <td>7020</td>\n",
       "      <td>Meteorological year</td>\n",
       "      <td>1961</td>\n",
       "      <td>0.068</td>\n",
       "      <td>29.0</td>\n",
       "      <td>56.0</td>\n",
       "      <td>Maize</td>\n",
       "      <td>9596.0</td>\n",
       "      <td>Africa</td>\n",
       "      <td>29.0</td>\n",
       "    </tr>\n",
       "  </tbody>\n",
       "</table>\n",
       "</div>"
      ],
      "text/plain": [
       "     Area Code_x                      Area  Months Code               Months  \\\n",
       "52            25           Solomon Islands         7020  Meteorological year   \n",
       "59           201                   Somalia         7020  Meteorological year   \n",
       "100           37  Central African Republic         7020  Meteorological year   \n",
       "142           96      China, Hong Kong SAR         7020  Meteorological year   \n",
       "236           29                   Burundi         7020  Meteorological year   \n",
       "\n",
       "     Year  temperature  Area Code_y  Item Code   Item    yield  \\\n",
       "52   1961        0.146         25.0       27.0   Rice  17391.0   \n",
       "59   1961        0.305        201.0       56.0  Maize   8696.0   \n",
       "100  1961        0.008         37.0       27.0   Rice   8571.0   \n",
       "142  1961        0.047         96.0       27.0   Rice  20168.0   \n",
       "236  1961        0.068         29.0       56.0  Maize   9596.0   \n",
       "\n",
       "                                      region  Country Code  \n",
       "52                                     World          25.0  \n",
       "59   Net_Food_Importing_Developing_Countries         201.0  \n",
       "100     Sub_Saharan_Africa_(including_Sudan)          37.0  \n",
       "142                    Non_Annex_I_countries          96.0  \n",
       "236                                   Africa          29.0  "
      ]
     },
     "execution_count": 187,
     "metadata": {},
     "output_type": "execute_result"
    }
   ],
   "source": [
    "df_crop_temp_m_h.head()"
   ]
  },
  {
   "cell_type": "code",
   "execution_count": 191,
   "metadata": {},
   "outputs": [
    {
     "name": "stdout",
     "output_type": "stream",
     "text": [
      "\n"
     ]
    },
    {
     "ename": "PatsyError",
     "evalue": "Error evaluating factor: SyntaxError: unexpected EOF while parsing (<string>, line 1)\n    yield ~ C(region)\n    ^^^^^",
     "output_type": "error",
     "traceback": [
      "\u001b[1;31m---------------------------------------------------------------------------\u001b[0m",
      "\u001b[1;31mSyntaxError\u001b[0m                               Traceback (most recent call last)",
      "\u001b[1;32m~\\Anaconda3\\envs\\learn-env\\lib\\site-packages\\patsy\\compat.py\u001b[0m in \u001b[0;36mcall_and_wrap_exc\u001b[1;34m(msg, origin, f, *args, **kwargs)\u001b[0m\n\u001b[0;32m     35\u001b[0m     \u001b[1;32mtry\u001b[0m\u001b[1;33m:\u001b[0m\u001b[1;33m\u001b[0m\u001b[0m\n\u001b[1;32m---> 36\u001b[1;33m         \u001b[1;32mreturn\u001b[0m \u001b[0mf\u001b[0m\u001b[1;33m(\u001b[0m\u001b[1;33m*\u001b[0m\u001b[0margs\u001b[0m\u001b[1;33m,\u001b[0m \u001b[1;33m**\u001b[0m\u001b[0mkwargs\u001b[0m\u001b[1;33m)\u001b[0m\u001b[1;33m\u001b[0m\u001b[0m\n\u001b[0m\u001b[0;32m     37\u001b[0m     \u001b[1;32mexcept\u001b[0m \u001b[0mException\u001b[0m \u001b[1;32mas\u001b[0m \u001b[0me\u001b[0m\u001b[1;33m:\u001b[0m\u001b[1;33m\u001b[0m\u001b[0m\n",
      "\u001b[1;32m~\\Anaconda3\\envs\\learn-env\\lib\\site-packages\\patsy\\eval.py\u001b[0m in \u001b[0;36meval\u001b[1;34m(self, expr, source_name, inner_namespace)\u001b[0m\n\u001b[0;32m    163\u001b[0m         \"\"\"\n\u001b[1;32m--> 164\u001b[1;33m         \u001b[0mcode\u001b[0m \u001b[1;33m=\u001b[0m \u001b[0mcompile\u001b[0m\u001b[1;33m(\u001b[0m\u001b[0mexpr\u001b[0m\u001b[1;33m,\u001b[0m \u001b[0msource_name\u001b[0m\u001b[1;33m,\u001b[0m \u001b[1;34m\"eval\"\u001b[0m\u001b[1;33m,\u001b[0m \u001b[0mself\u001b[0m\u001b[1;33m.\u001b[0m\u001b[0mflags\u001b[0m\u001b[1;33m,\u001b[0m \u001b[1;32mFalse\u001b[0m\u001b[1;33m)\u001b[0m\u001b[1;33m\u001b[0m\u001b[0m\n\u001b[0m\u001b[0;32m    165\u001b[0m         return eval(code, {}, VarLookupDict([inner_namespace]\n",
      "\u001b[1;31mSyntaxError\u001b[0m: unexpected EOF while parsing (<string>, line 1)",
      "\nThe above exception was the direct cause of the following exception:\n",
      "\u001b[1;31mPatsyError\u001b[0m                                Traceback (most recent call last)",
      "\u001b[1;32m<ipython-input-191-27420f19d165>\u001b[0m in \u001b[0;36m<module>\u001b[1;34m()\u001b[0m\n\u001b[0;32m      3\u001b[0m \u001b[0mformula\u001b[0m \u001b[1;33m=\u001b[0m\u001b[1;34m'yield ~ C(region)'\u001b[0m\u001b[1;33m\u001b[0m\u001b[0m\n\u001b[0;32m      4\u001b[0m \u001b[0mprint\u001b[0m\u001b[1;33m(\u001b[0m\u001b[1;34m\"\"\"\"\"\"\u001b[0m\u001b[1;33m)\u001b[0m\u001b[1;33m\u001b[0m\u001b[0m\n\u001b[1;32m----> 5\u001b[1;33m \u001b[0mlm\u001b[0m \u001b[1;33m=\u001b[0m \u001b[0mols\u001b[0m\u001b[1;33m(\u001b[0m\u001b[0mformula\u001b[0m\u001b[1;33m,\u001b[0m \u001b[0mdf_crop_temp_m_h\u001b[0m\u001b[1;33m)\u001b[0m\u001b[1;33m.\u001b[0m\u001b[0mfit\u001b[0m\u001b[1;33m(\u001b[0m\u001b[1;33m)\u001b[0m\u001b[1;33m\u001b[0m\u001b[0m\n\u001b[0m\u001b[0;32m      6\u001b[0m \u001b[0mtable\u001b[0m \u001b[1;33m=\u001b[0m \u001b[0msm\u001b[0m\u001b[1;33m.\u001b[0m\u001b[0mstats\u001b[0m\u001b[1;33m.\u001b[0m\u001b[0manova_lm\u001b[0m\u001b[1;33m(\u001b[0m\u001b[0mlm\u001b[0m\u001b[1;33m,\u001b[0m \u001b[0mtyp\u001b[0m\u001b[1;33m=\u001b[0m\u001b[1;36m2\u001b[0m\u001b[1;33m)\u001b[0m\u001b[1;33m\u001b[0m\u001b[0m\n\u001b[0;32m      7\u001b[0m \u001b[0mprint\u001b[0m\u001b[1;33m(\u001b[0m\u001b[0mtable\u001b[0m\u001b[1;33m)\u001b[0m\u001b[1;33m\u001b[0m\u001b[0m\n",
      "\u001b[1;32m~\\Anaconda3\\envs\\learn-env\\lib\\site-packages\\statsmodels\\base\\model.py\u001b[0m in \u001b[0;36mfrom_formula\u001b[1;34m(cls, formula, data, subset, drop_cols, *args, **kwargs)\u001b[0m\n\u001b[0;32m    157\u001b[0m \u001b[1;33m\u001b[0m\u001b[0m\n\u001b[0;32m    158\u001b[0m         tmp = handle_formula_data(data, None, formula, depth=eval_env,\n\u001b[1;32m--> 159\u001b[1;33m                                   missing=missing)\n\u001b[0m\u001b[0;32m    160\u001b[0m         \u001b[1;33m(\u001b[0m\u001b[1;33m(\u001b[0m\u001b[0mendog\u001b[0m\u001b[1;33m,\u001b[0m \u001b[0mexog\u001b[0m\u001b[1;33m)\u001b[0m\u001b[1;33m,\u001b[0m \u001b[0mmissing_idx\u001b[0m\u001b[1;33m,\u001b[0m \u001b[0mdesign_info\u001b[0m\u001b[1;33m)\u001b[0m \u001b[1;33m=\u001b[0m \u001b[0mtmp\u001b[0m\u001b[1;33m\u001b[0m\u001b[0m\n\u001b[0;32m    161\u001b[0m \u001b[1;33m\u001b[0m\u001b[0m\n",
      "\u001b[1;32m~\\Anaconda3\\envs\\learn-env\\lib\\site-packages\\statsmodels\\formula\\formulatools.py\u001b[0m in \u001b[0;36mhandle_formula_data\u001b[1;34m(Y, X, formula, depth, missing)\u001b[0m\n\u001b[0;32m     63\u001b[0m         \u001b[1;32mif\u001b[0m \u001b[0mdata_util\u001b[0m\u001b[1;33m.\u001b[0m\u001b[0m_is_using_pandas\u001b[0m\u001b[1;33m(\u001b[0m\u001b[0mY\u001b[0m\u001b[1;33m,\u001b[0m \u001b[1;32mNone\u001b[0m\u001b[1;33m)\u001b[0m\u001b[1;33m:\u001b[0m\u001b[1;33m\u001b[0m\u001b[0m\n\u001b[0;32m     64\u001b[0m             result = dmatrices(formula, Y, depth, return_type='dataframe',\n\u001b[1;32m---> 65\u001b[1;33m                                NA_action=na_action)\n\u001b[0m\u001b[0;32m     66\u001b[0m         \u001b[1;32melse\u001b[0m\u001b[1;33m:\u001b[0m\u001b[1;33m\u001b[0m\u001b[0m\n\u001b[0;32m     67\u001b[0m             result = dmatrices(formula, Y, depth, return_type='dataframe',\n",
      "\u001b[1;32m~\\Anaconda3\\envs\\learn-env\\lib\\site-packages\\patsy\\highlevel.py\u001b[0m in \u001b[0;36mdmatrices\u001b[1;34m(formula_like, data, eval_env, NA_action, return_type)\u001b[0m\n\u001b[0;32m    308\u001b[0m     \u001b[0meval_env\u001b[0m \u001b[1;33m=\u001b[0m \u001b[0mEvalEnvironment\u001b[0m\u001b[1;33m.\u001b[0m\u001b[0mcapture\u001b[0m\u001b[1;33m(\u001b[0m\u001b[0meval_env\u001b[0m\u001b[1;33m,\u001b[0m \u001b[0mreference\u001b[0m\u001b[1;33m=\u001b[0m\u001b[1;36m1\u001b[0m\u001b[1;33m)\u001b[0m\u001b[1;33m\u001b[0m\u001b[0m\n\u001b[0;32m    309\u001b[0m     (lhs, rhs) = _do_highlevel_design(formula_like, data, eval_env,\n\u001b[1;32m--> 310\u001b[1;33m                                       NA_action, return_type)\n\u001b[0m\u001b[0;32m    311\u001b[0m     \u001b[1;32mif\u001b[0m \u001b[0mlhs\u001b[0m\u001b[1;33m.\u001b[0m\u001b[0mshape\u001b[0m\u001b[1;33m[\u001b[0m\u001b[1;36m1\u001b[0m\u001b[1;33m]\u001b[0m \u001b[1;33m==\u001b[0m \u001b[1;36m0\u001b[0m\u001b[1;33m:\u001b[0m\u001b[1;33m\u001b[0m\u001b[0m\n\u001b[0;32m    312\u001b[0m         \u001b[1;32mraise\u001b[0m \u001b[0mPatsyError\u001b[0m\u001b[1;33m(\u001b[0m\u001b[1;34m\"model is missing required outcome variables\"\u001b[0m\u001b[1;33m)\u001b[0m\u001b[1;33m\u001b[0m\u001b[0m\n",
      "\u001b[1;32m~\\Anaconda3\\envs\\learn-env\\lib\\site-packages\\patsy\\highlevel.py\u001b[0m in \u001b[0;36m_do_highlevel_design\u001b[1;34m(formula_like, data, eval_env, NA_action, return_type)\u001b[0m\n\u001b[0;32m    163\u001b[0m         \u001b[1;32mreturn\u001b[0m \u001b[0miter\u001b[0m\u001b[1;33m(\u001b[0m\u001b[1;33m[\u001b[0m\u001b[0mdata\u001b[0m\u001b[1;33m]\u001b[0m\u001b[1;33m)\u001b[0m\u001b[1;33m\u001b[0m\u001b[0m\n\u001b[0;32m    164\u001b[0m     design_infos = _try_incr_builders(formula_like, data_iter_maker, eval_env,\n\u001b[1;32m--> 165\u001b[1;33m                                       NA_action)\n\u001b[0m\u001b[0;32m    166\u001b[0m     \u001b[1;32mif\u001b[0m \u001b[0mdesign_infos\u001b[0m \u001b[1;32mis\u001b[0m \u001b[1;32mnot\u001b[0m \u001b[1;32mNone\u001b[0m\u001b[1;33m:\u001b[0m\u001b[1;33m\u001b[0m\u001b[0m\n\u001b[0;32m    167\u001b[0m         return build_design_matrices(design_infos, data,\n",
      "\u001b[1;32m~\\Anaconda3\\envs\\learn-env\\lib\\site-packages\\patsy\\highlevel.py\u001b[0m in \u001b[0;36m_try_incr_builders\u001b[1;34m(formula_like, data_iter_maker, eval_env, NA_action)\u001b[0m\n\u001b[0;32m     68\u001b[0m                                       \u001b[0mdata_iter_maker\u001b[0m\u001b[1;33m,\u001b[0m\u001b[1;33m\u001b[0m\u001b[0m\n\u001b[0;32m     69\u001b[0m                                       \u001b[0meval_env\u001b[0m\u001b[1;33m,\u001b[0m\u001b[1;33m\u001b[0m\u001b[0m\n\u001b[1;32m---> 70\u001b[1;33m                                       NA_action)\n\u001b[0m\u001b[0;32m     71\u001b[0m     \u001b[1;32melse\u001b[0m\u001b[1;33m:\u001b[0m\u001b[1;33m\u001b[0m\u001b[0m\n\u001b[0;32m     72\u001b[0m         \u001b[1;32mreturn\u001b[0m \u001b[1;32mNone\u001b[0m\u001b[1;33m\u001b[0m\u001b[0m\n",
      "\u001b[1;32m~\\Anaconda3\\envs\\learn-env\\lib\\site-packages\\patsy\\build.py\u001b[0m in \u001b[0;36mdesign_matrix_builders\u001b[1;34m(termlists, data_iter_maker, eval_env, NA_action)\u001b[0m\n\u001b[0;32m    694\u001b[0m                                                    \u001b[0mfactor_states\u001b[0m\u001b[1;33m,\u001b[0m\u001b[1;33m\u001b[0m\u001b[0m\n\u001b[0;32m    695\u001b[0m                                                    \u001b[0mdata_iter_maker\u001b[0m\u001b[1;33m,\u001b[0m\u001b[1;33m\u001b[0m\u001b[0m\n\u001b[1;32m--> 696\u001b[1;33m                                                    NA_action)\n\u001b[0m\u001b[0;32m    697\u001b[0m     \u001b[1;31m# Now we need the factor infos, which encapsulate the knowledge of\u001b[0m\u001b[1;33m\u001b[0m\u001b[1;33m\u001b[0m\u001b[0m\n\u001b[0;32m    698\u001b[0m     \u001b[1;31m# how to turn any given factor into a chunk of data:\u001b[0m\u001b[1;33m\u001b[0m\u001b[1;33m\u001b[0m\u001b[0m\n",
      "\u001b[1;32m~\\Anaconda3\\envs\\learn-env\\lib\\site-packages\\patsy\\build.py\u001b[0m in \u001b[0;36m_examine_factor_types\u001b[1;34m(factors, factor_states, data_iter_maker, NA_action)\u001b[0m\n\u001b[0;32m    441\u001b[0m     \u001b[1;32mfor\u001b[0m \u001b[0mdata\u001b[0m \u001b[1;32min\u001b[0m \u001b[0mdata_iter_maker\u001b[0m\u001b[1;33m(\u001b[0m\u001b[1;33m)\u001b[0m\u001b[1;33m:\u001b[0m\u001b[1;33m\u001b[0m\u001b[0m\n\u001b[0;32m    442\u001b[0m         \u001b[1;32mfor\u001b[0m \u001b[0mfactor\u001b[0m \u001b[1;32min\u001b[0m \u001b[0mlist\u001b[0m\u001b[1;33m(\u001b[0m\u001b[0mexamine_needed\u001b[0m\u001b[1;33m)\u001b[0m\u001b[1;33m:\u001b[0m\u001b[1;33m\u001b[0m\u001b[0m\n\u001b[1;32m--> 443\u001b[1;33m             \u001b[0mvalue\u001b[0m \u001b[1;33m=\u001b[0m \u001b[0mfactor\u001b[0m\u001b[1;33m.\u001b[0m\u001b[0meval\u001b[0m\u001b[1;33m(\u001b[0m\u001b[0mfactor_states\u001b[0m\u001b[1;33m[\u001b[0m\u001b[0mfactor\u001b[0m\u001b[1;33m]\u001b[0m\u001b[1;33m,\u001b[0m \u001b[0mdata\u001b[0m\u001b[1;33m)\u001b[0m\u001b[1;33m\u001b[0m\u001b[0m\n\u001b[0m\u001b[0;32m    444\u001b[0m             \u001b[1;32mif\u001b[0m \u001b[0mfactor\u001b[0m \u001b[1;32min\u001b[0m \u001b[0mcat_sniffers\u001b[0m \u001b[1;32mor\u001b[0m \u001b[0mguess_categorical\u001b[0m\u001b[1;33m(\u001b[0m\u001b[0mvalue\u001b[0m\u001b[1;33m)\u001b[0m\u001b[1;33m:\u001b[0m\u001b[1;33m\u001b[0m\u001b[0m\n\u001b[0;32m    445\u001b[0m                 \u001b[1;32mif\u001b[0m \u001b[0mfactor\u001b[0m \u001b[1;32mnot\u001b[0m \u001b[1;32min\u001b[0m \u001b[0mcat_sniffers\u001b[0m\u001b[1;33m:\u001b[0m\u001b[1;33m\u001b[0m\u001b[0m\n",
      "\u001b[1;32m~\\Anaconda3\\envs\\learn-env\\lib\\site-packages\\patsy\\eval.py\u001b[0m in \u001b[0;36meval\u001b[1;34m(self, memorize_state, data)\u001b[0m\n\u001b[0;32m    564\u001b[0m         return self._eval(memorize_state[\"eval_code\"],\n\u001b[0;32m    565\u001b[0m                           \u001b[0mmemorize_state\u001b[0m\u001b[1;33m,\u001b[0m\u001b[1;33m\u001b[0m\u001b[0m\n\u001b[1;32m--> 566\u001b[1;33m                           data)\n\u001b[0m\u001b[0;32m    567\u001b[0m \u001b[1;33m\u001b[0m\u001b[0m\n\u001b[0;32m    568\u001b[0m     \u001b[0m__getstate__\u001b[0m \u001b[1;33m=\u001b[0m \u001b[0mno_pickling\u001b[0m\u001b[1;33m\u001b[0m\u001b[0m\n",
      "\u001b[1;32m~\\Anaconda3\\envs\\learn-env\\lib\\site-packages\\patsy\\eval.py\u001b[0m in \u001b[0;36m_eval\u001b[1;34m(self, code, memorize_state, data)\u001b[0m\n\u001b[0;32m    549\u001b[0m                                  \u001b[0mmemorize_state\u001b[0m\u001b[1;33m[\u001b[0m\u001b[1;34m\"eval_env\"\u001b[0m\u001b[1;33m]\u001b[0m\u001b[1;33m.\u001b[0m\u001b[0meval\u001b[0m\u001b[1;33m,\u001b[0m\u001b[1;33m\u001b[0m\u001b[0m\n\u001b[0;32m    550\u001b[0m                                  \u001b[0mcode\u001b[0m\u001b[1;33m,\u001b[0m\u001b[1;33m\u001b[0m\u001b[0m\n\u001b[1;32m--> 551\u001b[1;33m                                  inner_namespace=inner_namespace)\n\u001b[0m\u001b[0;32m    552\u001b[0m \u001b[1;33m\u001b[0m\u001b[0m\n\u001b[0;32m    553\u001b[0m     \u001b[1;32mdef\u001b[0m \u001b[0mmemorize_chunk\u001b[0m\u001b[1;33m(\u001b[0m\u001b[0mself\u001b[0m\u001b[1;33m,\u001b[0m \u001b[0mstate\u001b[0m\u001b[1;33m,\u001b[0m \u001b[0mwhich_pass\u001b[0m\u001b[1;33m,\u001b[0m \u001b[0mdata\u001b[0m\u001b[1;33m)\u001b[0m\u001b[1;33m:\u001b[0m\u001b[1;33m\u001b[0m\u001b[0m\n",
      "\u001b[1;32m~\\Anaconda3\\envs\\learn-env\\lib\\site-packages\\patsy\\compat.py\u001b[0m in \u001b[0;36mcall_and_wrap_exc\u001b[1;34m(msg, origin, f, *args, **kwargs)\u001b[0m\n\u001b[0;32m     41\u001b[0m                                  origin)\n\u001b[0;32m     42\u001b[0m             \u001b[1;31m# Use 'exec' to hide this syntax from the Python 2 parser:\u001b[0m\u001b[1;33m\u001b[0m\u001b[1;33m\u001b[0m\u001b[0m\n\u001b[1;32m---> 43\u001b[1;33m             \u001b[0mexec\u001b[0m\u001b[1;33m(\u001b[0m\u001b[1;34m\"raise new_exc from e\"\u001b[0m\u001b[1;33m)\u001b[0m\u001b[1;33m\u001b[0m\u001b[0m\n\u001b[0m\u001b[0;32m     44\u001b[0m         \u001b[1;32melse\u001b[0m\u001b[1;33m:\u001b[0m\u001b[1;33m\u001b[0m\u001b[0m\n\u001b[0;32m     45\u001b[0m             \u001b[1;31m# In python 2, we just let the original exception escape -- better\u001b[0m\u001b[1;33m\u001b[0m\u001b[1;33m\u001b[0m\u001b[0m\n",
      "\u001b[1;32m~\\Anaconda3\\envs\\learn-env\\lib\\site-packages\\patsy\\compat.py\u001b[0m in \u001b[0;36m<module>\u001b[1;34m()\u001b[0m\n",
      "\u001b[1;31mPatsyError\u001b[0m: Error evaluating factor: SyntaxError: unexpected EOF while parsing (<string>, line 1)\n    yield ~ C(region)\n    ^^^^^"
     ]
    }
   ],
   "source": [
    "# ANOVA test production  vs country group \n",
    "from statsmodels.formula.api import ols\n",
    "formula ='yield ~ C(region)'\n",
    "lm = ols(formula, df_crop_temp_m_h).fit()\n",
    "table = sm.stats.anova_lm(lm, typ=2)\n",
    "print(table)"
   ]
  },
  {
   "cell_type": "markdown",
   "metadata": {},
   "source": [
    " The pr value is less than 0.05. we reject the null hypothesis.Temperature has different effect for different regions.\n",
    " what is the effect size?"
   ]
  },
  {
   "cell_type": "code",
   "execution_count": 117,
   "metadata": {},
   "outputs": [
    {
     "name": "stdout",
     "output_type": "stream",
     "text": [
      "effect size for Southern_Asia is 0.7\n",
      "effect size for World is 0.2\n",
      "effect size for Land_Locked_Developing_Countries is 0.5\n",
      "effect size for Americas is 0.3\n",
      "effect size for Sub_Saharan_Africa_(including_Sudan) is 0.1\n",
      "effect size for Net_Food_Importing_Developing_Countries is 0.1\n",
      "effect size for Sub_Saharan_Africa is 0.2\n",
      "effect size for Non_Annex_I_countries is 0.3\n",
      "effect size for Africa is 0.1\n",
      "effect size for Least_Developed_Countries is 0.1\n",
      "effect size for Asia is 0.3\n",
      "effect size for Eastern_Asia_and_South_eastern_Asia is 0.1\n",
      "effect size for Low_Income_Food_Deficit_Countries is 0.5\n",
      "effect size for Eastern_Africa is 0.4\n",
      "effect size for Latin_America_and_the_Caribbean is 0.6\n",
      "effect size for Annex_I_countries is 0.3\n",
      "effect size for OECD is 0.1\n",
      "effect size for High_income_economies is 0.2\n",
      "effect size for Europe is 0.4\n",
      "effect size for Lower_middle_income_economies is 0.5\n",
      "effect size for South_America is 0.5\n",
      "effect size for Western_Europe is 0.1\n",
      "effect size for Small_Island_Developing_States is 0.2\n",
      "effect size for Western_Africa is 0.7\n",
      "effect size for Northern_America_and_Europe is 0.4\n",
      "effect size for Western_Asia_and_Northern_Africa is 0.4\n",
      "effect size for Upper_middle_income_economies is 0.2\n",
      "effect size for Caribbean is 0.5\n",
      "effect size for Oceania_excluding_Australia_and_New_Zealand is 0.5\n",
      "effect size for Northern_Africa is 0.9\n",
      "effect size for Central_America is 0.8\n",
      "effect size for Northern_Europe is 0.2\n",
      "effect size for Oceania is 0.2\n",
      "effect size for Central_Asia_and_Southern_Asia is 0.5\n",
      "effect size for Western_Asia is 0.2\n",
      "effect size for Southern_Europe is 0.3\n",
      "effect size for Southern_Africa is 0.4\n",
      "effect size for European_Union is 0.6\n",
      "effect size for Eastern_Asia is 0.5\n",
      "effect size for East_Asia_(exc_China) is 0.4\n",
      "effect size for Middle_Africa is 0.6\n",
      "effect size for South_Asia_(exc_India) is 0.5\n",
      "effect size for North_Africa_(exc_Sudan) is 0.4\n",
      "effect size for Low_income_economies is 0.5\n",
      "effect size for South_Eastern_Asia is 0.6\n",
      "effect size for Melanesia is 0.1\n",
      "effect size for Eastern_Europe is 0.6\n",
      "effect size for Micronesia is 0.9\n",
      "effect size for Australia_and_New_Zealand is 0.6\n",
      "effect size for Northern_America is nan\n",
      "effect size for Central_Asia is nan\n"
     ]
    }
   ],
   "source": [
    "for i in regions:\n",
    "    d= Cohen_d(df_crop_temp_m_l[df_crop_temp_m_l['region'] ==i]['yield'], df_crop_temp_m_h[df_crop_temp_m_h['region'] == i]['yield'])\n",
    "    print (f'effect size for {i} is {d}' )"
   ]
  },
  {
   "cell_type": "code",
   "execution_count": null,
   "metadata": {},
   "outputs": [],
   "source": [
    "regions=['Low_Income_Food_Deficit_Countries', 'Eastern_Africa', 'High_income_economies','Northern_America','Northern_Africa','Central_Asia',' Australia_and_New_Zealand' ]\n",
    "d=[0.5,0.4,0.2,0,0.9,0,0.6]"
   ]
  },
  {
   "cell_type": "code",
   "execution_count": 257,
   "metadata": {},
   "outputs": [
    {
     "data": {
      "application/vnd.plotly.v1+json": {
       "config": {
        "plotlyServerURL": "https://plot.ly"
       },
       "data": [
        {
         "type": "bar",
         "x": [
          "Low_Income_Food_Deficit_Countries",
          "Eastern_Africa",
          "High_income_economies",
          "Northern_America",
          "Northern_Africa",
          "Central_Asia",
          " Australia_and_New_Zealand"
         ],
         "y": [
          0.5,
          0.4,
          0.2,
          0,
          0.9,
          0,
          0.6
         ]
        }
       ],
       "layout": {
        "barmode": "group",
        "template": {
         "data": {
          "bar": [
           {
            "error_x": {
             "color": "#2a3f5f"
            },
            "error_y": {
             "color": "#2a3f5f"
            },
            "marker": {
             "line": {
              "color": "#E5ECF6",
              "width": 0.5
             }
            },
            "type": "bar"
           }
          ],
          "barpolar": [
           {
            "marker": {
             "line": {
              "color": "#E5ECF6",
              "width": 0.5
             }
            },
            "type": "barpolar"
           }
          ],
          "carpet": [
           {
            "aaxis": {
             "endlinecolor": "#2a3f5f",
             "gridcolor": "white",
             "linecolor": "white",
             "minorgridcolor": "white",
             "startlinecolor": "#2a3f5f"
            },
            "baxis": {
             "endlinecolor": "#2a3f5f",
             "gridcolor": "white",
             "linecolor": "white",
             "minorgridcolor": "white",
             "startlinecolor": "#2a3f5f"
            },
            "type": "carpet"
           }
          ],
          "choropleth": [
           {
            "colorbar": {
             "outlinewidth": 0,
             "ticks": ""
            },
            "type": "choropleth"
           }
          ],
          "contour": [
           {
            "colorbar": {
             "outlinewidth": 0,
             "ticks": ""
            },
            "colorscale": [
             [
              0,
              "#0d0887"
             ],
             [
              0.1111111111111111,
              "#46039f"
             ],
             [
              0.2222222222222222,
              "#7201a8"
             ],
             [
              0.3333333333333333,
              "#9c179e"
             ],
             [
              0.4444444444444444,
              "#bd3786"
             ],
             [
              0.5555555555555556,
              "#d8576b"
             ],
             [
              0.6666666666666666,
              "#ed7953"
             ],
             [
              0.7777777777777778,
              "#fb9f3a"
             ],
             [
              0.8888888888888888,
              "#fdca26"
             ],
             [
              1,
              "#f0f921"
             ]
            ],
            "type": "contour"
           }
          ],
          "contourcarpet": [
           {
            "colorbar": {
             "outlinewidth": 0,
             "ticks": ""
            },
            "type": "contourcarpet"
           }
          ],
          "heatmap": [
           {
            "colorbar": {
             "outlinewidth": 0,
             "ticks": ""
            },
            "colorscale": [
             [
              0,
              "#0d0887"
             ],
             [
              0.1111111111111111,
              "#46039f"
             ],
             [
              0.2222222222222222,
              "#7201a8"
             ],
             [
              0.3333333333333333,
              "#9c179e"
             ],
             [
              0.4444444444444444,
              "#bd3786"
             ],
             [
              0.5555555555555556,
              "#d8576b"
             ],
             [
              0.6666666666666666,
              "#ed7953"
             ],
             [
              0.7777777777777778,
              "#fb9f3a"
             ],
             [
              0.8888888888888888,
              "#fdca26"
             ],
             [
              1,
              "#f0f921"
             ]
            ],
            "type": "heatmap"
           }
          ],
          "heatmapgl": [
           {
            "colorbar": {
             "outlinewidth": 0,
             "ticks": ""
            },
            "colorscale": [
             [
              0,
              "#0d0887"
             ],
             [
              0.1111111111111111,
              "#46039f"
             ],
             [
              0.2222222222222222,
              "#7201a8"
             ],
             [
              0.3333333333333333,
              "#9c179e"
             ],
             [
              0.4444444444444444,
              "#bd3786"
             ],
             [
              0.5555555555555556,
              "#d8576b"
             ],
             [
              0.6666666666666666,
              "#ed7953"
             ],
             [
              0.7777777777777778,
              "#fb9f3a"
             ],
             [
              0.8888888888888888,
              "#fdca26"
             ],
             [
              1,
              "#f0f921"
             ]
            ],
            "type": "heatmapgl"
           }
          ],
          "histogram": [
           {
            "marker": {
             "colorbar": {
              "outlinewidth": 0,
              "ticks": ""
             }
            },
            "type": "histogram"
           }
          ],
          "histogram2d": [
           {
            "colorbar": {
             "outlinewidth": 0,
             "ticks": ""
            },
            "colorscale": [
             [
              0,
              "#0d0887"
             ],
             [
              0.1111111111111111,
              "#46039f"
             ],
             [
              0.2222222222222222,
              "#7201a8"
             ],
             [
              0.3333333333333333,
              "#9c179e"
             ],
             [
              0.4444444444444444,
              "#bd3786"
             ],
             [
              0.5555555555555556,
              "#d8576b"
             ],
             [
              0.6666666666666666,
              "#ed7953"
             ],
             [
              0.7777777777777778,
              "#fb9f3a"
             ],
             [
              0.8888888888888888,
              "#fdca26"
             ],
             [
              1,
              "#f0f921"
             ]
            ],
            "type": "histogram2d"
           }
          ],
          "histogram2dcontour": [
           {
            "colorbar": {
             "outlinewidth": 0,
             "ticks": ""
            },
            "colorscale": [
             [
              0,
              "#0d0887"
             ],
             [
              0.1111111111111111,
              "#46039f"
             ],
             [
              0.2222222222222222,
              "#7201a8"
             ],
             [
              0.3333333333333333,
              "#9c179e"
             ],
             [
              0.4444444444444444,
              "#bd3786"
             ],
             [
              0.5555555555555556,
              "#d8576b"
             ],
             [
              0.6666666666666666,
              "#ed7953"
             ],
             [
              0.7777777777777778,
              "#fb9f3a"
             ],
             [
              0.8888888888888888,
              "#fdca26"
             ],
             [
              1,
              "#f0f921"
             ]
            ],
            "type": "histogram2dcontour"
           }
          ],
          "mesh3d": [
           {
            "colorbar": {
             "outlinewidth": 0,
             "ticks": ""
            },
            "type": "mesh3d"
           }
          ],
          "parcoords": [
           {
            "line": {
             "colorbar": {
              "outlinewidth": 0,
              "ticks": ""
             }
            },
            "type": "parcoords"
           }
          ],
          "pie": [
           {
            "automargin": true,
            "type": "pie"
           }
          ],
          "scatter": [
           {
            "marker": {
             "colorbar": {
              "outlinewidth": 0,
              "ticks": ""
             }
            },
            "type": "scatter"
           }
          ],
          "scatter3d": [
           {
            "line": {
             "colorbar": {
              "outlinewidth": 0,
              "ticks": ""
             }
            },
            "marker": {
             "colorbar": {
              "outlinewidth": 0,
              "ticks": ""
             }
            },
            "type": "scatter3d"
           }
          ],
          "scattercarpet": [
           {
            "marker": {
             "colorbar": {
              "outlinewidth": 0,
              "ticks": ""
             }
            },
            "type": "scattercarpet"
           }
          ],
          "scattergeo": [
           {
            "marker": {
             "colorbar": {
              "outlinewidth": 0,
              "ticks": ""
             }
            },
            "type": "scattergeo"
           }
          ],
          "scattergl": [
           {
            "marker": {
             "colorbar": {
              "outlinewidth": 0,
              "ticks": ""
             }
            },
            "type": "scattergl"
           }
          ],
          "scattermapbox": [
           {
            "marker": {
             "colorbar": {
              "outlinewidth": 0,
              "ticks": ""
             }
            },
            "type": "scattermapbox"
           }
          ],
          "scatterpolar": [
           {
            "marker": {
             "colorbar": {
              "outlinewidth": 0,
              "ticks": ""
             }
            },
            "type": "scatterpolar"
           }
          ],
          "scatterpolargl": [
           {
            "marker": {
             "colorbar": {
              "outlinewidth": 0,
              "ticks": ""
             }
            },
            "type": "scatterpolargl"
           }
          ],
          "scatterternary": [
           {
            "marker": {
             "colorbar": {
              "outlinewidth": 0,
              "ticks": ""
             }
            },
            "type": "scatterternary"
           }
          ],
          "surface": [
           {
            "colorbar": {
             "outlinewidth": 0,
             "ticks": ""
            },
            "colorscale": [
             [
              0,
              "#0d0887"
             ],
             [
              0.1111111111111111,
              "#46039f"
             ],
             [
              0.2222222222222222,
              "#7201a8"
             ],
             [
              0.3333333333333333,
              "#9c179e"
             ],
             [
              0.4444444444444444,
              "#bd3786"
             ],
             [
              0.5555555555555556,
              "#d8576b"
             ],
             [
              0.6666666666666666,
              "#ed7953"
             ],
             [
              0.7777777777777778,
              "#fb9f3a"
             ],
             [
              0.8888888888888888,
              "#fdca26"
             ],
             [
              1,
              "#f0f921"
             ]
            ],
            "type": "surface"
           }
          ],
          "table": [
           {
            "cells": {
             "fill": {
              "color": "#EBF0F8"
             },
             "line": {
              "color": "white"
             }
            },
            "header": {
             "fill": {
              "color": "#C8D4E3"
             },
             "line": {
              "color": "white"
             }
            },
            "type": "table"
           }
          ]
         },
         "layout": {
          "annotationdefaults": {
           "arrowcolor": "#2a3f5f",
           "arrowhead": 0,
           "arrowwidth": 1
          },
          "coloraxis": {
           "colorbar": {
            "outlinewidth": 0,
            "ticks": ""
           }
          },
          "colorscale": {
           "diverging": [
            [
             0,
             "#8e0152"
            ],
            [
             0.1,
             "#c51b7d"
            ],
            [
             0.2,
             "#de77ae"
            ],
            [
             0.3,
             "#f1b6da"
            ],
            [
             0.4,
             "#fde0ef"
            ],
            [
             0.5,
             "#f7f7f7"
            ],
            [
             0.6,
             "#e6f5d0"
            ],
            [
             0.7,
             "#b8e186"
            ],
            [
             0.8,
             "#7fbc41"
            ],
            [
             0.9,
             "#4d9221"
            ],
            [
             1,
             "#276419"
            ]
           ],
           "sequential": [
            [
             0,
             "#0d0887"
            ],
            [
             0.1111111111111111,
             "#46039f"
            ],
            [
             0.2222222222222222,
             "#7201a8"
            ],
            [
             0.3333333333333333,
             "#9c179e"
            ],
            [
             0.4444444444444444,
             "#bd3786"
            ],
            [
             0.5555555555555556,
             "#d8576b"
            ],
            [
             0.6666666666666666,
             "#ed7953"
            ],
            [
             0.7777777777777778,
             "#fb9f3a"
            ],
            [
             0.8888888888888888,
             "#fdca26"
            ],
            [
             1,
             "#f0f921"
            ]
           ],
           "sequentialminus": [
            [
             0,
             "#0d0887"
            ],
            [
             0.1111111111111111,
             "#46039f"
            ],
            [
             0.2222222222222222,
             "#7201a8"
            ],
            [
             0.3333333333333333,
             "#9c179e"
            ],
            [
             0.4444444444444444,
             "#bd3786"
            ],
            [
             0.5555555555555556,
             "#d8576b"
            ],
            [
             0.6666666666666666,
             "#ed7953"
            ],
            [
             0.7777777777777778,
             "#fb9f3a"
            ],
            [
             0.8888888888888888,
             "#fdca26"
            ],
            [
             1,
             "#f0f921"
            ]
           ]
          },
          "colorway": [
           "#636efa",
           "#EF553B",
           "#00cc96",
           "#ab63fa",
           "#FFA15A",
           "#19d3f3",
           "#FF6692",
           "#B6E880",
           "#FF97FF",
           "#FECB52"
          ],
          "font": {
           "color": "#2a3f5f"
          },
          "geo": {
           "bgcolor": "white",
           "lakecolor": "white",
           "landcolor": "#E5ECF6",
           "showlakes": true,
           "showland": true,
           "subunitcolor": "white"
          },
          "hoverlabel": {
           "align": "left"
          },
          "hovermode": "closest",
          "mapbox": {
           "style": "light"
          },
          "paper_bgcolor": "white",
          "plot_bgcolor": "#E5ECF6",
          "polar": {
           "angularaxis": {
            "gridcolor": "white",
            "linecolor": "white",
            "ticks": ""
           },
           "bgcolor": "#E5ECF6",
           "radialaxis": {
            "gridcolor": "white",
            "linecolor": "white",
            "ticks": ""
           }
          },
          "scene": {
           "xaxis": {
            "backgroundcolor": "#E5ECF6",
            "gridcolor": "white",
            "gridwidth": 2,
            "linecolor": "white",
            "showbackground": true,
            "ticks": "",
            "zerolinecolor": "white"
           },
           "yaxis": {
            "backgroundcolor": "#E5ECF6",
            "gridcolor": "white",
            "gridwidth": 2,
            "linecolor": "white",
            "showbackground": true,
            "ticks": "",
            "zerolinecolor": "white"
           },
           "zaxis": {
            "backgroundcolor": "#E5ECF6",
            "gridcolor": "white",
            "gridwidth": 2,
            "linecolor": "white",
            "showbackground": true,
            "ticks": "",
            "zerolinecolor": "white"
           }
          },
          "shapedefaults": {
           "line": {
            "color": "#2a3f5f"
           }
          },
          "ternary": {
           "aaxis": {
            "gridcolor": "white",
            "linecolor": "white",
            "ticks": ""
           },
           "baxis": {
            "gridcolor": "white",
            "linecolor": "white",
            "ticks": ""
           },
           "bgcolor": "#E5ECF6",
           "caxis": {
            "gridcolor": "white",
            "linecolor": "white",
            "ticks": ""
           }
          },
          "title": {
           "x": 0.05
          },
          "xaxis": {
           "automargin": true,
           "gridcolor": "white",
           "linecolor": "white",
           "ticks": "",
           "title": {
            "standoff": 15
           },
           "zerolinecolor": "white",
           "zerolinewidth": 2
          },
          "yaxis": {
           "automargin": true,
           "gridcolor": "white",
           "linecolor": "white",
           "ticks": "",
           "title": {
            "standoff": 15
           },
           "zerolinecolor": "white",
           "zerolinewidth": 2
          }
         }
        },
        "title": {
         "text": "Temperature Effect on Crop Yield by Region"
        },
        "xaxis": {
         "tickangle": 45
        },
        "yaxis": {
         "title": {
          "text": "Effect size"
         }
        }
       }
      },
      "text/html": [
       "<div>\n",
       "        \n",
       "        \n",
       "            <div id=\"272e426c-3fcb-41eb-8fdd-953459161fed\" class=\"plotly-graph-div\" style=\"height:525px; width:100%;\"></div>\n",
       "            <script type=\"text/javascript\">\n",
       "                require([\"plotly\"], function(Plotly) {\n",
       "                    window.PLOTLYENV=window.PLOTLYENV || {};\n",
       "                    \n",
       "                if (document.getElementById(\"272e426c-3fcb-41eb-8fdd-953459161fed\")) {\n",
       "                    Plotly.newPlot(\n",
       "                        '272e426c-3fcb-41eb-8fdd-953459161fed',\n",
       "                        [{\"type\": \"bar\", \"x\": [\"Low_Income_Food_Deficit_Countries\", \"Eastern_Africa\", \"High_income_economies\", \"Northern_America\", \"Northern_Africa\", \"Central_Asia\", \" Australia_and_New_Zealand\"], \"y\": [0.5, 0.4, 0.2, 0, 0.9, 0, 0.6]}],\n",
       "                        {\"barmode\": \"group\", \"template\": {\"data\": {\"bar\": [{\"error_x\": {\"color\": \"#2a3f5f\"}, \"error_y\": {\"color\": \"#2a3f5f\"}, \"marker\": {\"line\": {\"color\": \"#E5ECF6\", \"width\": 0.5}}, \"type\": \"bar\"}], \"barpolar\": [{\"marker\": {\"line\": {\"color\": \"#E5ECF6\", \"width\": 0.5}}, \"type\": \"barpolar\"}], \"carpet\": [{\"aaxis\": {\"endlinecolor\": \"#2a3f5f\", \"gridcolor\": \"white\", \"linecolor\": \"white\", \"minorgridcolor\": \"white\", \"startlinecolor\": \"#2a3f5f\"}, \"baxis\": {\"endlinecolor\": \"#2a3f5f\", \"gridcolor\": \"white\", \"linecolor\": \"white\", \"minorgridcolor\": \"white\", \"startlinecolor\": \"#2a3f5f\"}, \"type\": \"carpet\"}], \"choropleth\": [{\"colorbar\": {\"outlinewidth\": 0, \"ticks\": \"\"}, \"type\": \"choropleth\"}], \"contour\": [{\"colorbar\": {\"outlinewidth\": 0, \"ticks\": \"\"}, \"colorscale\": [[0.0, \"#0d0887\"], [0.1111111111111111, \"#46039f\"], [0.2222222222222222, \"#7201a8\"], [0.3333333333333333, \"#9c179e\"], [0.4444444444444444, \"#bd3786\"], [0.5555555555555556, \"#d8576b\"], [0.6666666666666666, \"#ed7953\"], [0.7777777777777778, \"#fb9f3a\"], [0.8888888888888888, \"#fdca26\"], [1.0, \"#f0f921\"]], \"type\": \"contour\"}], \"contourcarpet\": [{\"colorbar\": {\"outlinewidth\": 0, \"ticks\": \"\"}, \"type\": \"contourcarpet\"}], \"heatmap\": [{\"colorbar\": {\"outlinewidth\": 0, \"ticks\": \"\"}, \"colorscale\": [[0.0, \"#0d0887\"], [0.1111111111111111, \"#46039f\"], [0.2222222222222222, \"#7201a8\"], [0.3333333333333333, \"#9c179e\"], [0.4444444444444444, \"#bd3786\"], [0.5555555555555556, \"#d8576b\"], [0.6666666666666666, \"#ed7953\"], [0.7777777777777778, \"#fb9f3a\"], [0.8888888888888888, \"#fdca26\"], [1.0, \"#f0f921\"]], \"type\": \"heatmap\"}], \"heatmapgl\": [{\"colorbar\": {\"outlinewidth\": 0, \"ticks\": \"\"}, \"colorscale\": [[0.0, \"#0d0887\"], [0.1111111111111111, \"#46039f\"], [0.2222222222222222, \"#7201a8\"], [0.3333333333333333, \"#9c179e\"], [0.4444444444444444, \"#bd3786\"], [0.5555555555555556, \"#d8576b\"], [0.6666666666666666, \"#ed7953\"], [0.7777777777777778, \"#fb9f3a\"], [0.8888888888888888, \"#fdca26\"], [1.0, \"#f0f921\"]], \"type\": \"heatmapgl\"}], \"histogram\": [{\"marker\": {\"colorbar\": {\"outlinewidth\": 0, \"ticks\": \"\"}}, \"type\": \"histogram\"}], \"histogram2d\": [{\"colorbar\": {\"outlinewidth\": 0, \"ticks\": \"\"}, \"colorscale\": [[0.0, \"#0d0887\"], [0.1111111111111111, \"#46039f\"], [0.2222222222222222, \"#7201a8\"], [0.3333333333333333, \"#9c179e\"], [0.4444444444444444, \"#bd3786\"], [0.5555555555555556, \"#d8576b\"], [0.6666666666666666, \"#ed7953\"], [0.7777777777777778, \"#fb9f3a\"], [0.8888888888888888, \"#fdca26\"], [1.0, \"#f0f921\"]], \"type\": \"histogram2d\"}], \"histogram2dcontour\": [{\"colorbar\": {\"outlinewidth\": 0, \"ticks\": \"\"}, \"colorscale\": [[0.0, \"#0d0887\"], [0.1111111111111111, \"#46039f\"], [0.2222222222222222, \"#7201a8\"], [0.3333333333333333, \"#9c179e\"], [0.4444444444444444, \"#bd3786\"], [0.5555555555555556, \"#d8576b\"], [0.6666666666666666, \"#ed7953\"], [0.7777777777777778, \"#fb9f3a\"], [0.8888888888888888, \"#fdca26\"], [1.0, \"#f0f921\"]], \"type\": \"histogram2dcontour\"}], \"mesh3d\": [{\"colorbar\": {\"outlinewidth\": 0, \"ticks\": \"\"}, \"type\": \"mesh3d\"}], \"parcoords\": [{\"line\": {\"colorbar\": {\"outlinewidth\": 0, \"ticks\": \"\"}}, \"type\": \"parcoords\"}], \"pie\": [{\"automargin\": true, \"type\": \"pie\"}], \"scatter\": [{\"marker\": {\"colorbar\": {\"outlinewidth\": 0, \"ticks\": \"\"}}, \"type\": \"scatter\"}], \"scatter3d\": [{\"line\": {\"colorbar\": {\"outlinewidth\": 0, \"ticks\": \"\"}}, \"marker\": {\"colorbar\": {\"outlinewidth\": 0, \"ticks\": \"\"}}, \"type\": \"scatter3d\"}], \"scattercarpet\": [{\"marker\": {\"colorbar\": {\"outlinewidth\": 0, \"ticks\": \"\"}}, \"type\": \"scattercarpet\"}], \"scattergeo\": [{\"marker\": {\"colorbar\": {\"outlinewidth\": 0, \"ticks\": \"\"}}, \"type\": \"scattergeo\"}], \"scattergl\": [{\"marker\": {\"colorbar\": {\"outlinewidth\": 0, \"ticks\": \"\"}}, \"type\": \"scattergl\"}], \"scattermapbox\": [{\"marker\": {\"colorbar\": {\"outlinewidth\": 0, \"ticks\": \"\"}}, \"type\": \"scattermapbox\"}], \"scatterpolar\": [{\"marker\": {\"colorbar\": {\"outlinewidth\": 0, \"ticks\": \"\"}}, \"type\": \"scatterpolar\"}], \"scatterpolargl\": [{\"marker\": {\"colorbar\": {\"outlinewidth\": 0, \"ticks\": \"\"}}, \"type\": \"scatterpolargl\"}], \"scatterternary\": [{\"marker\": {\"colorbar\": {\"outlinewidth\": 0, \"ticks\": \"\"}}, \"type\": \"scatterternary\"}], \"surface\": [{\"colorbar\": {\"outlinewidth\": 0, \"ticks\": \"\"}, \"colorscale\": [[0.0, \"#0d0887\"], [0.1111111111111111, \"#46039f\"], [0.2222222222222222, \"#7201a8\"], [0.3333333333333333, \"#9c179e\"], [0.4444444444444444, \"#bd3786\"], [0.5555555555555556, \"#d8576b\"], [0.6666666666666666, \"#ed7953\"], [0.7777777777777778, \"#fb9f3a\"], [0.8888888888888888, \"#fdca26\"], [1.0, \"#f0f921\"]], \"type\": \"surface\"}], \"table\": [{\"cells\": {\"fill\": {\"color\": \"#EBF0F8\"}, \"line\": {\"color\": \"white\"}}, \"header\": {\"fill\": {\"color\": \"#C8D4E3\"}, \"line\": {\"color\": \"white\"}}, \"type\": \"table\"}]}, \"layout\": {\"annotationdefaults\": {\"arrowcolor\": \"#2a3f5f\", \"arrowhead\": 0, \"arrowwidth\": 1}, \"coloraxis\": {\"colorbar\": {\"outlinewidth\": 0, \"ticks\": \"\"}}, \"colorscale\": {\"diverging\": [[0, \"#8e0152\"], [0.1, \"#c51b7d\"], [0.2, \"#de77ae\"], [0.3, \"#f1b6da\"], [0.4, \"#fde0ef\"], [0.5, \"#f7f7f7\"], [0.6, \"#e6f5d0\"], [0.7, \"#b8e186\"], [0.8, \"#7fbc41\"], [0.9, \"#4d9221\"], [1, \"#276419\"]], \"sequential\": [[0.0, \"#0d0887\"], [0.1111111111111111, \"#46039f\"], [0.2222222222222222, \"#7201a8\"], [0.3333333333333333, \"#9c179e\"], [0.4444444444444444, \"#bd3786\"], [0.5555555555555556, \"#d8576b\"], [0.6666666666666666, \"#ed7953\"], [0.7777777777777778, \"#fb9f3a\"], [0.8888888888888888, \"#fdca26\"], [1.0, \"#f0f921\"]], \"sequentialminus\": [[0.0, \"#0d0887\"], [0.1111111111111111, \"#46039f\"], [0.2222222222222222, \"#7201a8\"], [0.3333333333333333, \"#9c179e\"], [0.4444444444444444, \"#bd3786\"], [0.5555555555555556, \"#d8576b\"], [0.6666666666666666, \"#ed7953\"], [0.7777777777777778, \"#fb9f3a\"], [0.8888888888888888, \"#fdca26\"], [1.0, \"#f0f921\"]]}, \"colorway\": [\"#636efa\", \"#EF553B\", \"#00cc96\", \"#ab63fa\", \"#FFA15A\", \"#19d3f3\", \"#FF6692\", \"#B6E880\", \"#FF97FF\", \"#FECB52\"], \"font\": {\"color\": \"#2a3f5f\"}, \"geo\": {\"bgcolor\": \"white\", \"lakecolor\": \"white\", \"landcolor\": \"#E5ECF6\", \"showlakes\": true, \"showland\": true, \"subunitcolor\": \"white\"}, \"hoverlabel\": {\"align\": \"left\"}, \"hovermode\": \"closest\", \"mapbox\": {\"style\": \"light\"}, \"paper_bgcolor\": \"white\", \"plot_bgcolor\": \"#E5ECF6\", \"polar\": {\"angularaxis\": {\"gridcolor\": \"white\", \"linecolor\": \"white\", \"ticks\": \"\"}, \"bgcolor\": \"#E5ECF6\", \"radialaxis\": {\"gridcolor\": \"white\", \"linecolor\": \"white\", \"ticks\": \"\"}}, \"scene\": {\"xaxis\": {\"backgroundcolor\": \"#E5ECF6\", \"gridcolor\": \"white\", \"gridwidth\": 2, \"linecolor\": \"white\", \"showbackground\": true, \"ticks\": \"\", \"zerolinecolor\": \"white\"}, \"yaxis\": {\"backgroundcolor\": \"#E5ECF6\", \"gridcolor\": \"white\", \"gridwidth\": 2, \"linecolor\": \"white\", \"showbackground\": true, \"ticks\": \"\", \"zerolinecolor\": \"white\"}, \"zaxis\": {\"backgroundcolor\": \"#E5ECF6\", \"gridcolor\": \"white\", \"gridwidth\": 2, \"linecolor\": \"white\", \"showbackground\": true, \"ticks\": \"\", \"zerolinecolor\": \"white\"}}, \"shapedefaults\": {\"line\": {\"color\": \"#2a3f5f\"}}, \"ternary\": {\"aaxis\": {\"gridcolor\": \"white\", \"linecolor\": \"white\", \"ticks\": \"\"}, \"baxis\": {\"gridcolor\": \"white\", \"linecolor\": \"white\", \"ticks\": \"\"}, \"bgcolor\": \"#E5ECF6\", \"caxis\": {\"gridcolor\": \"white\", \"linecolor\": \"white\", \"ticks\": \"\"}}, \"title\": {\"x\": 0.05}, \"xaxis\": {\"automargin\": true, \"gridcolor\": \"white\", \"linecolor\": \"white\", \"ticks\": \"\", \"title\": {\"standoff\": 15}, \"zerolinecolor\": \"white\", \"zerolinewidth\": 2}, \"yaxis\": {\"automargin\": true, \"gridcolor\": \"white\", \"linecolor\": \"white\", \"ticks\": \"\", \"title\": {\"standoff\": 15}, \"zerolinecolor\": \"white\", \"zerolinewidth\": 2}}}, \"title\": {\"text\": \"Temperature Effect on Crop Yield by Region\"}, \"xaxis\": {\"tickangle\": 45}, \"yaxis\": {\"title\": {\"text\": \"Effect size\"}}},\n",
       "                        {\"responsive\": true}\n",
       "                    ).then(function(){\n",
       "                            \n",
       "var gd = document.getElementById('272e426c-3fcb-41eb-8fdd-953459161fed');\n",
       "var x = new MutationObserver(function (mutations, observer) {{\n",
       "        var display = window.getComputedStyle(gd).display;\n",
       "        if (!display || display === 'none') {{\n",
       "            console.log([gd, 'removed!']);\n",
       "            Plotly.purge(gd);\n",
       "            observer.disconnect();\n",
       "        }}\n",
       "}});\n",
       "\n",
       "// Listen for the removal of the full notebook cells\n",
       "var notebookContainer = gd.closest('#notebook-container');\n",
       "if (notebookContainer) {{\n",
       "    x.observe(notebookContainer, {childList: true});\n",
       "}}\n",
       "\n",
       "// Listen for the clearing of the current output cell\n",
       "var outputEl = gd.closest('.output');\n",
       "if (outputEl) {{\n",
       "    x.observe(outputEl, {childList: true});\n",
       "}}\n",
       "\n",
       "                        })\n",
       "                };\n",
       "                });\n",
       "            </script>\n",
       "        </div>"
      ]
     },
     "metadata": {},
     "output_type": "display_data"
    }
   ],
   "source": [
    "import plotly.graph_objects as go\n",
    "regions=['Low_Income_Food_Deficit_Countries', 'Eastern_Africa', 'High_income_economies','Northern_America','Northern_Africa','Central_Asia',' Australia_and_New_Zealand' ]\n",
    "d=[0.5,0.4,0.2,0,0.9,0,0.6]\n",
    "\n",
    "fig = go.Figure(data=[\n",
    "    go.Bar(x=regions, y=d),\n",
    "   \n",
    "]).update_layout(barmode='group', xaxis_tickangle = 45, title= 'Temperature Effect on Crop Yield by Region', yaxis_title = 'Effect size')\n",
    "fig.show()"
   ]
  },
  {
   "cell_type": "code",
   "execution_count": 122,
   "metadata": {},
   "outputs": [
    {
     "ename": "PatsyError",
     "evalue": "Error evaluating factor: SyntaxError: unexpected EOF while parsing (<string>, line 1)\n    yield ~ C(Item)\n    ^^^^^",
     "output_type": "error",
     "traceback": [
      "\u001b[1;31m---------------------------------------------------------------------------\u001b[0m",
      "\u001b[1;31mSyntaxError\u001b[0m                               Traceback (most recent call last)",
      "\u001b[1;32m~\\Anaconda3\\envs\\learn-env\\lib\\site-packages\\patsy\\compat.py\u001b[0m in \u001b[0;36mcall_and_wrap_exc\u001b[1;34m(msg, origin, f, *args, **kwargs)\u001b[0m\n\u001b[0;32m     35\u001b[0m     \u001b[1;32mtry\u001b[0m\u001b[1;33m:\u001b[0m\u001b[1;33m\u001b[0m\u001b[0m\n\u001b[1;32m---> 36\u001b[1;33m         \u001b[1;32mreturn\u001b[0m \u001b[0mf\u001b[0m\u001b[1;33m(\u001b[0m\u001b[1;33m*\u001b[0m\u001b[0margs\u001b[0m\u001b[1;33m,\u001b[0m \u001b[1;33m**\u001b[0m\u001b[0mkwargs\u001b[0m\u001b[1;33m)\u001b[0m\u001b[1;33m\u001b[0m\u001b[0m\n\u001b[0m\u001b[0;32m     37\u001b[0m     \u001b[1;32mexcept\u001b[0m \u001b[0mException\u001b[0m \u001b[1;32mas\u001b[0m \u001b[0me\u001b[0m\u001b[1;33m:\u001b[0m\u001b[1;33m\u001b[0m\u001b[0m\n",
      "\u001b[1;32m~\\Anaconda3\\envs\\learn-env\\lib\\site-packages\\patsy\\eval.py\u001b[0m in \u001b[0;36meval\u001b[1;34m(self, expr, source_name, inner_namespace)\u001b[0m\n\u001b[0;32m    163\u001b[0m         \"\"\"\n\u001b[1;32m--> 164\u001b[1;33m         \u001b[0mcode\u001b[0m \u001b[1;33m=\u001b[0m \u001b[0mcompile\u001b[0m\u001b[1;33m(\u001b[0m\u001b[0mexpr\u001b[0m\u001b[1;33m,\u001b[0m \u001b[0msource_name\u001b[0m\u001b[1;33m,\u001b[0m \u001b[1;34m\"eval\"\u001b[0m\u001b[1;33m,\u001b[0m \u001b[0mself\u001b[0m\u001b[1;33m.\u001b[0m\u001b[0mflags\u001b[0m\u001b[1;33m,\u001b[0m \u001b[1;32mFalse\u001b[0m\u001b[1;33m)\u001b[0m\u001b[1;33m\u001b[0m\u001b[0m\n\u001b[0m\u001b[0;32m    165\u001b[0m         return eval(code, {}, VarLookupDict([inner_namespace]\n",
      "\u001b[1;31mSyntaxError\u001b[0m: unexpected EOF while parsing (<string>, line 1)",
      "\nThe above exception was the direct cause of the following exception:\n",
      "\u001b[1;31mPatsyError\u001b[0m                                Traceback (most recent call last)",
      "\u001b[1;32m<ipython-input-122-cc89d5710c59>\u001b[0m in \u001b[0;36m<module>\u001b[1;34m()\u001b[0m\n\u001b[0;32m      1\u001b[0m \u001b[1;31m# ANOVA test production  vs country group\u001b[0m\u001b[1;33m\u001b[0m\u001b[1;33m\u001b[0m\u001b[0m\n\u001b[0;32m      2\u001b[0m \u001b[0mformula\u001b[0m \u001b[1;33m=\u001b[0m \u001b[1;34m'yield ~ C(Item)'\u001b[0m\u001b[1;33m\u001b[0m\u001b[0m\n\u001b[1;32m----> 3\u001b[1;33m \u001b[0mlm\u001b[0m \u001b[1;33m=\u001b[0m \u001b[0mols\u001b[0m\u001b[1;33m(\u001b[0m\u001b[0mformula\u001b[0m\u001b[1;33m,\u001b[0m \u001b[0mdf_crop_temp_m\u001b[0m\u001b[1;33m)\u001b[0m\u001b[1;33m.\u001b[0m\u001b[0mfit\u001b[0m\u001b[1;33m(\u001b[0m\u001b[1;33m)\u001b[0m\u001b[1;33m\u001b[0m\u001b[0m\n\u001b[0m\u001b[0;32m      4\u001b[0m \u001b[0mtable\u001b[0m \u001b[1;33m=\u001b[0m \u001b[0msm\u001b[0m\u001b[1;33m.\u001b[0m\u001b[0mstats\u001b[0m\u001b[1;33m.\u001b[0m\u001b[0manova_lm\u001b[0m\u001b[1;33m(\u001b[0m\u001b[0mlm\u001b[0m\u001b[1;33m,\u001b[0m \u001b[0mtyp\u001b[0m\u001b[1;33m=\u001b[0m\u001b[1;36m2\u001b[0m\u001b[1;33m)\u001b[0m\u001b[1;33m\u001b[0m\u001b[0m\n\u001b[0;32m      5\u001b[0m \u001b[0mprint\u001b[0m\u001b[1;33m(\u001b[0m\u001b[0mtable\u001b[0m\u001b[1;33m)\u001b[0m\u001b[1;33m\u001b[0m\u001b[0m\n",
      "\u001b[1;32m~\\Anaconda3\\envs\\learn-env\\lib\\site-packages\\statsmodels\\base\\model.py\u001b[0m in \u001b[0;36mfrom_formula\u001b[1;34m(cls, formula, data, subset, drop_cols, *args, **kwargs)\u001b[0m\n\u001b[0;32m    157\u001b[0m \u001b[1;33m\u001b[0m\u001b[0m\n\u001b[0;32m    158\u001b[0m         tmp = handle_formula_data(data, None, formula, depth=eval_env,\n\u001b[1;32m--> 159\u001b[1;33m                                   missing=missing)\n\u001b[0m\u001b[0;32m    160\u001b[0m         \u001b[1;33m(\u001b[0m\u001b[1;33m(\u001b[0m\u001b[0mendog\u001b[0m\u001b[1;33m,\u001b[0m \u001b[0mexog\u001b[0m\u001b[1;33m)\u001b[0m\u001b[1;33m,\u001b[0m \u001b[0mmissing_idx\u001b[0m\u001b[1;33m,\u001b[0m \u001b[0mdesign_info\u001b[0m\u001b[1;33m)\u001b[0m \u001b[1;33m=\u001b[0m \u001b[0mtmp\u001b[0m\u001b[1;33m\u001b[0m\u001b[0m\n\u001b[0;32m    161\u001b[0m \u001b[1;33m\u001b[0m\u001b[0m\n",
      "\u001b[1;32m~\\Anaconda3\\envs\\learn-env\\lib\\site-packages\\statsmodels\\formula\\formulatools.py\u001b[0m in \u001b[0;36mhandle_formula_data\u001b[1;34m(Y, X, formula, depth, missing)\u001b[0m\n\u001b[0;32m     63\u001b[0m         \u001b[1;32mif\u001b[0m \u001b[0mdata_util\u001b[0m\u001b[1;33m.\u001b[0m\u001b[0m_is_using_pandas\u001b[0m\u001b[1;33m(\u001b[0m\u001b[0mY\u001b[0m\u001b[1;33m,\u001b[0m \u001b[1;32mNone\u001b[0m\u001b[1;33m)\u001b[0m\u001b[1;33m:\u001b[0m\u001b[1;33m\u001b[0m\u001b[0m\n\u001b[0;32m     64\u001b[0m             result = dmatrices(formula, Y, depth, return_type='dataframe',\n\u001b[1;32m---> 65\u001b[1;33m                                NA_action=na_action)\n\u001b[0m\u001b[0;32m     66\u001b[0m         \u001b[1;32melse\u001b[0m\u001b[1;33m:\u001b[0m\u001b[1;33m\u001b[0m\u001b[0m\n\u001b[0;32m     67\u001b[0m             result = dmatrices(formula, Y, depth, return_type='dataframe',\n",
      "\u001b[1;32m~\\Anaconda3\\envs\\learn-env\\lib\\site-packages\\patsy\\highlevel.py\u001b[0m in \u001b[0;36mdmatrices\u001b[1;34m(formula_like, data, eval_env, NA_action, return_type)\u001b[0m\n\u001b[0;32m    308\u001b[0m     \u001b[0meval_env\u001b[0m \u001b[1;33m=\u001b[0m \u001b[0mEvalEnvironment\u001b[0m\u001b[1;33m.\u001b[0m\u001b[0mcapture\u001b[0m\u001b[1;33m(\u001b[0m\u001b[0meval_env\u001b[0m\u001b[1;33m,\u001b[0m \u001b[0mreference\u001b[0m\u001b[1;33m=\u001b[0m\u001b[1;36m1\u001b[0m\u001b[1;33m)\u001b[0m\u001b[1;33m\u001b[0m\u001b[0m\n\u001b[0;32m    309\u001b[0m     (lhs, rhs) = _do_highlevel_design(formula_like, data, eval_env,\n\u001b[1;32m--> 310\u001b[1;33m                                       NA_action, return_type)\n\u001b[0m\u001b[0;32m    311\u001b[0m     \u001b[1;32mif\u001b[0m \u001b[0mlhs\u001b[0m\u001b[1;33m.\u001b[0m\u001b[0mshape\u001b[0m\u001b[1;33m[\u001b[0m\u001b[1;36m1\u001b[0m\u001b[1;33m]\u001b[0m \u001b[1;33m==\u001b[0m \u001b[1;36m0\u001b[0m\u001b[1;33m:\u001b[0m\u001b[1;33m\u001b[0m\u001b[0m\n\u001b[0;32m    312\u001b[0m         \u001b[1;32mraise\u001b[0m \u001b[0mPatsyError\u001b[0m\u001b[1;33m(\u001b[0m\u001b[1;34m\"model is missing required outcome variables\"\u001b[0m\u001b[1;33m)\u001b[0m\u001b[1;33m\u001b[0m\u001b[0m\n",
      "\u001b[1;32m~\\Anaconda3\\envs\\learn-env\\lib\\site-packages\\patsy\\highlevel.py\u001b[0m in \u001b[0;36m_do_highlevel_design\u001b[1;34m(formula_like, data, eval_env, NA_action, return_type)\u001b[0m\n\u001b[0;32m    163\u001b[0m         \u001b[1;32mreturn\u001b[0m \u001b[0miter\u001b[0m\u001b[1;33m(\u001b[0m\u001b[1;33m[\u001b[0m\u001b[0mdata\u001b[0m\u001b[1;33m]\u001b[0m\u001b[1;33m)\u001b[0m\u001b[1;33m\u001b[0m\u001b[0m\n\u001b[0;32m    164\u001b[0m     design_infos = _try_incr_builders(formula_like, data_iter_maker, eval_env,\n\u001b[1;32m--> 165\u001b[1;33m                                       NA_action)\n\u001b[0m\u001b[0;32m    166\u001b[0m     \u001b[1;32mif\u001b[0m \u001b[0mdesign_infos\u001b[0m \u001b[1;32mis\u001b[0m \u001b[1;32mnot\u001b[0m \u001b[1;32mNone\u001b[0m\u001b[1;33m:\u001b[0m\u001b[1;33m\u001b[0m\u001b[0m\n\u001b[0;32m    167\u001b[0m         return build_design_matrices(design_infos, data,\n",
      "\u001b[1;32m~\\Anaconda3\\envs\\learn-env\\lib\\site-packages\\patsy\\highlevel.py\u001b[0m in \u001b[0;36m_try_incr_builders\u001b[1;34m(formula_like, data_iter_maker, eval_env, NA_action)\u001b[0m\n\u001b[0;32m     68\u001b[0m                                       \u001b[0mdata_iter_maker\u001b[0m\u001b[1;33m,\u001b[0m\u001b[1;33m\u001b[0m\u001b[0m\n\u001b[0;32m     69\u001b[0m                                       \u001b[0meval_env\u001b[0m\u001b[1;33m,\u001b[0m\u001b[1;33m\u001b[0m\u001b[0m\n\u001b[1;32m---> 70\u001b[1;33m                                       NA_action)\n\u001b[0m\u001b[0;32m     71\u001b[0m     \u001b[1;32melse\u001b[0m\u001b[1;33m:\u001b[0m\u001b[1;33m\u001b[0m\u001b[0m\n\u001b[0;32m     72\u001b[0m         \u001b[1;32mreturn\u001b[0m \u001b[1;32mNone\u001b[0m\u001b[1;33m\u001b[0m\u001b[0m\n",
      "\u001b[1;32m~\\Anaconda3\\envs\\learn-env\\lib\\site-packages\\patsy\\build.py\u001b[0m in \u001b[0;36mdesign_matrix_builders\u001b[1;34m(termlists, data_iter_maker, eval_env, NA_action)\u001b[0m\n\u001b[0;32m    694\u001b[0m                                                    \u001b[0mfactor_states\u001b[0m\u001b[1;33m,\u001b[0m\u001b[1;33m\u001b[0m\u001b[0m\n\u001b[0;32m    695\u001b[0m                                                    \u001b[0mdata_iter_maker\u001b[0m\u001b[1;33m,\u001b[0m\u001b[1;33m\u001b[0m\u001b[0m\n\u001b[1;32m--> 696\u001b[1;33m                                                    NA_action)\n\u001b[0m\u001b[0;32m    697\u001b[0m     \u001b[1;31m# Now we need the factor infos, which encapsulate the knowledge of\u001b[0m\u001b[1;33m\u001b[0m\u001b[1;33m\u001b[0m\u001b[0m\n\u001b[0;32m    698\u001b[0m     \u001b[1;31m# how to turn any given factor into a chunk of data:\u001b[0m\u001b[1;33m\u001b[0m\u001b[1;33m\u001b[0m\u001b[0m\n",
      "\u001b[1;32m~\\Anaconda3\\envs\\learn-env\\lib\\site-packages\\patsy\\build.py\u001b[0m in \u001b[0;36m_examine_factor_types\u001b[1;34m(factors, factor_states, data_iter_maker, NA_action)\u001b[0m\n\u001b[0;32m    441\u001b[0m     \u001b[1;32mfor\u001b[0m \u001b[0mdata\u001b[0m \u001b[1;32min\u001b[0m \u001b[0mdata_iter_maker\u001b[0m\u001b[1;33m(\u001b[0m\u001b[1;33m)\u001b[0m\u001b[1;33m:\u001b[0m\u001b[1;33m\u001b[0m\u001b[0m\n\u001b[0;32m    442\u001b[0m         \u001b[1;32mfor\u001b[0m \u001b[0mfactor\u001b[0m \u001b[1;32min\u001b[0m \u001b[0mlist\u001b[0m\u001b[1;33m(\u001b[0m\u001b[0mexamine_needed\u001b[0m\u001b[1;33m)\u001b[0m\u001b[1;33m:\u001b[0m\u001b[1;33m\u001b[0m\u001b[0m\n\u001b[1;32m--> 443\u001b[1;33m             \u001b[0mvalue\u001b[0m \u001b[1;33m=\u001b[0m \u001b[0mfactor\u001b[0m\u001b[1;33m.\u001b[0m\u001b[0meval\u001b[0m\u001b[1;33m(\u001b[0m\u001b[0mfactor_states\u001b[0m\u001b[1;33m[\u001b[0m\u001b[0mfactor\u001b[0m\u001b[1;33m]\u001b[0m\u001b[1;33m,\u001b[0m \u001b[0mdata\u001b[0m\u001b[1;33m)\u001b[0m\u001b[1;33m\u001b[0m\u001b[0m\n\u001b[0m\u001b[0;32m    444\u001b[0m             \u001b[1;32mif\u001b[0m \u001b[0mfactor\u001b[0m \u001b[1;32min\u001b[0m \u001b[0mcat_sniffers\u001b[0m \u001b[1;32mor\u001b[0m \u001b[0mguess_categorical\u001b[0m\u001b[1;33m(\u001b[0m\u001b[0mvalue\u001b[0m\u001b[1;33m)\u001b[0m\u001b[1;33m:\u001b[0m\u001b[1;33m\u001b[0m\u001b[0m\n\u001b[0;32m    445\u001b[0m                 \u001b[1;32mif\u001b[0m \u001b[0mfactor\u001b[0m \u001b[1;32mnot\u001b[0m \u001b[1;32min\u001b[0m \u001b[0mcat_sniffers\u001b[0m\u001b[1;33m:\u001b[0m\u001b[1;33m\u001b[0m\u001b[0m\n",
      "\u001b[1;32m~\\Anaconda3\\envs\\learn-env\\lib\\site-packages\\patsy\\eval.py\u001b[0m in \u001b[0;36meval\u001b[1;34m(self, memorize_state, data)\u001b[0m\n\u001b[0;32m    564\u001b[0m         return self._eval(memorize_state[\"eval_code\"],\n\u001b[0;32m    565\u001b[0m                           \u001b[0mmemorize_state\u001b[0m\u001b[1;33m,\u001b[0m\u001b[1;33m\u001b[0m\u001b[0m\n\u001b[1;32m--> 566\u001b[1;33m                           data)\n\u001b[0m\u001b[0;32m    567\u001b[0m \u001b[1;33m\u001b[0m\u001b[0m\n\u001b[0;32m    568\u001b[0m     \u001b[0m__getstate__\u001b[0m \u001b[1;33m=\u001b[0m \u001b[0mno_pickling\u001b[0m\u001b[1;33m\u001b[0m\u001b[0m\n",
      "\u001b[1;32m~\\Anaconda3\\envs\\learn-env\\lib\\site-packages\\patsy\\eval.py\u001b[0m in \u001b[0;36m_eval\u001b[1;34m(self, code, memorize_state, data)\u001b[0m\n\u001b[0;32m    549\u001b[0m                                  \u001b[0mmemorize_state\u001b[0m\u001b[1;33m[\u001b[0m\u001b[1;34m\"eval_env\"\u001b[0m\u001b[1;33m]\u001b[0m\u001b[1;33m.\u001b[0m\u001b[0meval\u001b[0m\u001b[1;33m,\u001b[0m\u001b[1;33m\u001b[0m\u001b[0m\n\u001b[0;32m    550\u001b[0m                                  \u001b[0mcode\u001b[0m\u001b[1;33m,\u001b[0m\u001b[1;33m\u001b[0m\u001b[0m\n\u001b[1;32m--> 551\u001b[1;33m                                  inner_namespace=inner_namespace)\n\u001b[0m\u001b[0;32m    552\u001b[0m \u001b[1;33m\u001b[0m\u001b[0m\n\u001b[0;32m    553\u001b[0m     \u001b[1;32mdef\u001b[0m \u001b[0mmemorize_chunk\u001b[0m\u001b[1;33m(\u001b[0m\u001b[0mself\u001b[0m\u001b[1;33m,\u001b[0m \u001b[0mstate\u001b[0m\u001b[1;33m,\u001b[0m \u001b[0mwhich_pass\u001b[0m\u001b[1;33m,\u001b[0m \u001b[0mdata\u001b[0m\u001b[1;33m)\u001b[0m\u001b[1;33m:\u001b[0m\u001b[1;33m\u001b[0m\u001b[0m\n",
      "\u001b[1;32m~\\Anaconda3\\envs\\learn-env\\lib\\site-packages\\patsy\\compat.py\u001b[0m in \u001b[0;36mcall_and_wrap_exc\u001b[1;34m(msg, origin, f, *args, **kwargs)\u001b[0m\n\u001b[0;32m     41\u001b[0m                                  origin)\n\u001b[0;32m     42\u001b[0m             \u001b[1;31m# Use 'exec' to hide this syntax from the Python 2 parser:\u001b[0m\u001b[1;33m\u001b[0m\u001b[1;33m\u001b[0m\u001b[0m\n\u001b[1;32m---> 43\u001b[1;33m             \u001b[0mexec\u001b[0m\u001b[1;33m(\u001b[0m\u001b[1;34m\"raise new_exc from e\"\u001b[0m\u001b[1;33m)\u001b[0m\u001b[1;33m\u001b[0m\u001b[0m\n\u001b[0m\u001b[0;32m     44\u001b[0m         \u001b[1;32melse\u001b[0m\u001b[1;33m:\u001b[0m\u001b[1;33m\u001b[0m\u001b[0m\n\u001b[0;32m     45\u001b[0m             \u001b[1;31m# In python 2, we just let the original exception escape -- better\u001b[0m\u001b[1;33m\u001b[0m\u001b[1;33m\u001b[0m\u001b[0m\n",
      "\u001b[1;32m~\\Anaconda3\\envs\\learn-env\\lib\\site-packages\\patsy\\compat.py\u001b[0m in \u001b[0;36m<module>\u001b[1;34m()\u001b[0m\n",
      "\u001b[1;31mPatsyError\u001b[0m: Error evaluating factor: SyntaxError: unexpected EOF while parsing (<string>, line 1)\n    yield ~ C(Item)\n    ^^^^^"
     ]
    }
   ],
   "source": [
    "# ANOVA test production  vs country group \n",
    "formula = 'yield ~ C(Item)'\n",
    "lm = ols(formula, df_crop_temp_m_h).fit()\n",
    "table = sm.stats.anova_lm(lm, typ=2)\n",
    "print(table)"
   ]
  },
  {
   "cell_type": "code",
   "execution_count": 120,
   "metadata": {},
   "outputs": [],
   "source": [
    "item_list = df_crop_temp_m_h.Item.unique()"
   ]
  },
  {
   "cell_type": "code",
   "execution_count": 121,
   "metadata": {},
   "outputs": [
    {
     "name": "stdout",
     "output_type": "stream",
     "text": [
      "effect size for Rice is 0.3\n",
      "effect size for Maize is 0.2\n",
      "effect size for Wheat is 0.3\n",
      "effect size for Barley is 0.2\n",
      "effect size for Millet is 0.1\n",
      "effect size for Sorghum is 0.2\n"
     ]
    }
   ],
   "source": [
    "for i in item_list:\n",
    "    d= Cohen_d(df_crop_temp_m_l[df_crop_temp_m_l['Item'] ==i]['yield'], df_crop_temp_m_h[df_crop_temp_m_h['Item'] == i]['yield'])\n",
    "    print (f'effect size for {i} is {d}' )"
   ]
  },
  {
   "cell_type": "code",
   "execution_count": 215,
   "metadata": {},
   "outputs": [
    {
     "data": {
      "application/vnd.plotly.v1+json": {
       "config": {
        "plotlyServerURL": "https://plot.ly"
       },
       "data": [
        {
         "type": "bar",
         "x": [
          "Rice",
          "Maize",
          "Wheat",
          "Barly",
          "Millet",
          "Sorghum"
         ],
         "y": [
          0.3,
          0.2,
          0.3,
          0.2,
          0.1,
          0.2
         ]
        }
       ],
       "layout": {
        "barmode": "group",
        "template": {
         "data": {
          "bar": [
           {
            "error_x": {
             "color": "#2a3f5f"
            },
            "error_y": {
             "color": "#2a3f5f"
            },
            "marker": {
             "line": {
              "color": "#E5ECF6",
              "width": 0.5
             }
            },
            "type": "bar"
           }
          ],
          "barpolar": [
           {
            "marker": {
             "line": {
              "color": "#E5ECF6",
              "width": 0.5
             }
            },
            "type": "barpolar"
           }
          ],
          "carpet": [
           {
            "aaxis": {
             "endlinecolor": "#2a3f5f",
             "gridcolor": "white",
             "linecolor": "white",
             "minorgridcolor": "white",
             "startlinecolor": "#2a3f5f"
            },
            "baxis": {
             "endlinecolor": "#2a3f5f",
             "gridcolor": "white",
             "linecolor": "white",
             "minorgridcolor": "white",
             "startlinecolor": "#2a3f5f"
            },
            "type": "carpet"
           }
          ],
          "choropleth": [
           {
            "colorbar": {
             "outlinewidth": 0,
             "ticks": ""
            },
            "type": "choropleth"
           }
          ],
          "contour": [
           {
            "colorbar": {
             "outlinewidth": 0,
             "ticks": ""
            },
            "colorscale": [
             [
              0,
              "#0d0887"
             ],
             [
              0.1111111111111111,
              "#46039f"
             ],
             [
              0.2222222222222222,
              "#7201a8"
             ],
             [
              0.3333333333333333,
              "#9c179e"
             ],
             [
              0.4444444444444444,
              "#bd3786"
             ],
             [
              0.5555555555555556,
              "#d8576b"
             ],
             [
              0.6666666666666666,
              "#ed7953"
             ],
             [
              0.7777777777777778,
              "#fb9f3a"
             ],
             [
              0.8888888888888888,
              "#fdca26"
             ],
             [
              1,
              "#f0f921"
             ]
            ],
            "type": "contour"
           }
          ],
          "contourcarpet": [
           {
            "colorbar": {
             "outlinewidth": 0,
             "ticks": ""
            },
            "type": "contourcarpet"
           }
          ],
          "heatmap": [
           {
            "colorbar": {
             "outlinewidth": 0,
             "ticks": ""
            },
            "colorscale": [
             [
              0,
              "#0d0887"
             ],
             [
              0.1111111111111111,
              "#46039f"
             ],
             [
              0.2222222222222222,
              "#7201a8"
             ],
             [
              0.3333333333333333,
              "#9c179e"
             ],
             [
              0.4444444444444444,
              "#bd3786"
             ],
             [
              0.5555555555555556,
              "#d8576b"
             ],
             [
              0.6666666666666666,
              "#ed7953"
             ],
             [
              0.7777777777777778,
              "#fb9f3a"
             ],
             [
              0.8888888888888888,
              "#fdca26"
             ],
             [
              1,
              "#f0f921"
             ]
            ],
            "type": "heatmap"
           }
          ],
          "heatmapgl": [
           {
            "colorbar": {
             "outlinewidth": 0,
             "ticks": ""
            },
            "colorscale": [
             [
              0,
              "#0d0887"
             ],
             [
              0.1111111111111111,
              "#46039f"
             ],
             [
              0.2222222222222222,
              "#7201a8"
             ],
             [
              0.3333333333333333,
              "#9c179e"
             ],
             [
              0.4444444444444444,
              "#bd3786"
             ],
             [
              0.5555555555555556,
              "#d8576b"
             ],
             [
              0.6666666666666666,
              "#ed7953"
             ],
             [
              0.7777777777777778,
              "#fb9f3a"
             ],
             [
              0.8888888888888888,
              "#fdca26"
             ],
             [
              1,
              "#f0f921"
             ]
            ],
            "type": "heatmapgl"
           }
          ],
          "histogram": [
           {
            "marker": {
             "colorbar": {
              "outlinewidth": 0,
              "ticks": ""
             }
            },
            "type": "histogram"
           }
          ],
          "histogram2d": [
           {
            "colorbar": {
             "outlinewidth": 0,
             "ticks": ""
            },
            "colorscale": [
             [
              0,
              "#0d0887"
             ],
             [
              0.1111111111111111,
              "#46039f"
             ],
             [
              0.2222222222222222,
              "#7201a8"
             ],
             [
              0.3333333333333333,
              "#9c179e"
             ],
             [
              0.4444444444444444,
              "#bd3786"
             ],
             [
              0.5555555555555556,
              "#d8576b"
             ],
             [
              0.6666666666666666,
              "#ed7953"
             ],
             [
              0.7777777777777778,
              "#fb9f3a"
             ],
             [
              0.8888888888888888,
              "#fdca26"
             ],
             [
              1,
              "#f0f921"
             ]
            ],
            "type": "histogram2d"
           }
          ],
          "histogram2dcontour": [
           {
            "colorbar": {
             "outlinewidth": 0,
             "ticks": ""
            },
            "colorscale": [
             [
              0,
              "#0d0887"
             ],
             [
              0.1111111111111111,
              "#46039f"
             ],
             [
              0.2222222222222222,
              "#7201a8"
             ],
             [
              0.3333333333333333,
              "#9c179e"
             ],
             [
              0.4444444444444444,
              "#bd3786"
             ],
             [
              0.5555555555555556,
              "#d8576b"
             ],
             [
              0.6666666666666666,
              "#ed7953"
             ],
             [
              0.7777777777777778,
              "#fb9f3a"
             ],
             [
              0.8888888888888888,
              "#fdca26"
             ],
             [
              1,
              "#f0f921"
             ]
            ],
            "type": "histogram2dcontour"
           }
          ],
          "mesh3d": [
           {
            "colorbar": {
             "outlinewidth": 0,
             "ticks": ""
            },
            "type": "mesh3d"
           }
          ],
          "parcoords": [
           {
            "line": {
             "colorbar": {
              "outlinewidth": 0,
              "ticks": ""
             }
            },
            "type": "parcoords"
           }
          ],
          "pie": [
           {
            "automargin": true,
            "type": "pie"
           }
          ],
          "scatter": [
           {
            "marker": {
             "colorbar": {
              "outlinewidth": 0,
              "ticks": ""
             }
            },
            "type": "scatter"
           }
          ],
          "scatter3d": [
           {
            "line": {
             "colorbar": {
              "outlinewidth": 0,
              "ticks": ""
             }
            },
            "marker": {
             "colorbar": {
              "outlinewidth": 0,
              "ticks": ""
             }
            },
            "type": "scatter3d"
           }
          ],
          "scattercarpet": [
           {
            "marker": {
             "colorbar": {
              "outlinewidth": 0,
              "ticks": ""
             }
            },
            "type": "scattercarpet"
           }
          ],
          "scattergeo": [
           {
            "marker": {
             "colorbar": {
              "outlinewidth": 0,
              "ticks": ""
             }
            },
            "type": "scattergeo"
           }
          ],
          "scattergl": [
           {
            "marker": {
             "colorbar": {
              "outlinewidth": 0,
              "ticks": ""
             }
            },
            "type": "scattergl"
           }
          ],
          "scattermapbox": [
           {
            "marker": {
             "colorbar": {
              "outlinewidth": 0,
              "ticks": ""
             }
            },
            "type": "scattermapbox"
           }
          ],
          "scatterpolar": [
           {
            "marker": {
             "colorbar": {
              "outlinewidth": 0,
              "ticks": ""
             }
            },
            "type": "scatterpolar"
           }
          ],
          "scatterpolargl": [
           {
            "marker": {
             "colorbar": {
              "outlinewidth": 0,
              "ticks": ""
             }
            },
            "type": "scatterpolargl"
           }
          ],
          "scatterternary": [
           {
            "marker": {
             "colorbar": {
              "outlinewidth": 0,
              "ticks": ""
             }
            },
            "type": "scatterternary"
           }
          ],
          "surface": [
           {
            "colorbar": {
             "outlinewidth": 0,
             "ticks": ""
            },
            "colorscale": [
             [
              0,
              "#0d0887"
             ],
             [
              0.1111111111111111,
              "#46039f"
             ],
             [
              0.2222222222222222,
              "#7201a8"
             ],
             [
              0.3333333333333333,
              "#9c179e"
             ],
             [
              0.4444444444444444,
              "#bd3786"
             ],
             [
              0.5555555555555556,
              "#d8576b"
             ],
             [
              0.6666666666666666,
              "#ed7953"
             ],
             [
              0.7777777777777778,
              "#fb9f3a"
             ],
             [
              0.8888888888888888,
              "#fdca26"
             ],
             [
              1,
              "#f0f921"
             ]
            ],
            "type": "surface"
           }
          ],
          "table": [
           {
            "cells": {
             "fill": {
              "color": "#EBF0F8"
             },
             "line": {
              "color": "white"
             }
            },
            "header": {
             "fill": {
              "color": "#C8D4E3"
             },
             "line": {
              "color": "white"
             }
            },
            "type": "table"
           }
          ]
         },
         "layout": {
          "annotationdefaults": {
           "arrowcolor": "#2a3f5f",
           "arrowhead": 0,
           "arrowwidth": 1
          },
          "coloraxis": {
           "colorbar": {
            "outlinewidth": 0,
            "ticks": ""
           }
          },
          "colorscale": {
           "diverging": [
            [
             0,
             "#8e0152"
            ],
            [
             0.1,
             "#c51b7d"
            ],
            [
             0.2,
             "#de77ae"
            ],
            [
             0.3,
             "#f1b6da"
            ],
            [
             0.4,
             "#fde0ef"
            ],
            [
             0.5,
             "#f7f7f7"
            ],
            [
             0.6,
             "#e6f5d0"
            ],
            [
             0.7,
             "#b8e186"
            ],
            [
             0.8,
             "#7fbc41"
            ],
            [
             0.9,
             "#4d9221"
            ],
            [
             1,
             "#276419"
            ]
           ],
           "sequential": [
            [
             0,
             "#0d0887"
            ],
            [
             0.1111111111111111,
             "#46039f"
            ],
            [
             0.2222222222222222,
             "#7201a8"
            ],
            [
             0.3333333333333333,
             "#9c179e"
            ],
            [
             0.4444444444444444,
             "#bd3786"
            ],
            [
             0.5555555555555556,
             "#d8576b"
            ],
            [
             0.6666666666666666,
             "#ed7953"
            ],
            [
             0.7777777777777778,
             "#fb9f3a"
            ],
            [
             0.8888888888888888,
             "#fdca26"
            ],
            [
             1,
             "#f0f921"
            ]
           ],
           "sequentialminus": [
            [
             0,
             "#0d0887"
            ],
            [
             0.1111111111111111,
             "#46039f"
            ],
            [
             0.2222222222222222,
             "#7201a8"
            ],
            [
             0.3333333333333333,
             "#9c179e"
            ],
            [
             0.4444444444444444,
             "#bd3786"
            ],
            [
             0.5555555555555556,
             "#d8576b"
            ],
            [
             0.6666666666666666,
             "#ed7953"
            ],
            [
             0.7777777777777778,
             "#fb9f3a"
            ],
            [
             0.8888888888888888,
             "#fdca26"
            ],
            [
             1,
             "#f0f921"
            ]
           ]
          },
          "colorway": [
           "#636efa",
           "#EF553B",
           "#00cc96",
           "#ab63fa",
           "#FFA15A",
           "#19d3f3",
           "#FF6692",
           "#B6E880",
           "#FF97FF",
           "#FECB52"
          ],
          "font": {
           "color": "#2a3f5f"
          },
          "geo": {
           "bgcolor": "white",
           "lakecolor": "white",
           "landcolor": "#E5ECF6",
           "showlakes": true,
           "showland": true,
           "subunitcolor": "white"
          },
          "hoverlabel": {
           "align": "left"
          },
          "hovermode": "closest",
          "mapbox": {
           "style": "light"
          },
          "paper_bgcolor": "white",
          "plot_bgcolor": "#E5ECF6",
          "polar": {
           "angularaxis": {
            "gridcolor": "white",
            "linecolor": "white",
            "ticks": ""
           },
           "bgcolor": "#E5ECF6",
           "radialaxis": {
            "gridcolor": "white",
            "linecolor": "white",
            "ticks": ""
           }
          },
          "scene": {
           "xaxis": {
            "backgroundcolor": "#E5ECF6",
            "gridcolor": "white",
            "gridwidth": 2,
            "linecolor": "white",
            "showbackground": true,
            "ticks": "",
            "zerolinecolor": "white"
           },
           "yaxis": {
            "backgroundcolor": "#E5ECF6",
            "gridcolor": "white",
            "gridwidth": 2,
            "linecolor": "white",
            "showbackground": true,
            "ticks": "",
            "zerolinecolor": "white"
           },
           "zaxis": {
            "backgroundcolor": "#E5ECF6",
            "gridcolor": "white",
            "gridwidth": 2,
            "linecolor": "white",
            "showbackground": true,
            "ticks": "",
            "zerolinecolor": "white"
           }
          },
          "shapedefaults": {
           "line": {
            "color": "#2a3f5f"
           }
          },
          "ternary": {
           "aaxis": {
            "gridcolor": "white",
            "linecolor": "white",
            "ticks": ""
           },
           "baxis": {
            "gridcolor": "white",
            "linecolor": "white",
            "ticks": ""
           },
           "bgcolor": "#E5ECF6",
           "caxis": {
            "gridcolor": "white",
            "linecolor": "white",
            "ticks": ""
           }
          },
          "title": {
           "x": 0.05
          },
          "xaxis": {
           "automargin": true,
           "gridcolor": "white",
           "linecolor": "white",
           "ticks": "",
           "title": {
            "standoff": 15
           },
           "zerolinecolor": "white",
           "zerolinewidth": 2
          },
          "yaxis": {
           "automargin": true,
           "gridcolor": "white",
           "linecolor": "white",
           "ticks": "",
           "title": {
            "standoff": 15
           },
           "zerolinecolor": "white",
           "zerolinewidth": 2
          }
         }
        },
        "title": {
         "text": "Temperature Effect on Crop Yield by Crop type"
        },
        "xaxis": {
         "tickangle": 45
        }
       }
      },
      "text/html": [
       "<div>\n",
       "        \n",
       "        \n",
       "            <div id=\"e8ffb300-bae9-4cd7-b443-81a331350be1\" class=\"plotly-graph-div\" style=\"height:525px; width:100%;\"></div>\n",
       "            <script type=\"text/javascript\">\n",
       "                require([\"plotly\"], function(Plotly) {\n",
       "                    window.PLOTLYENV=window.PLOTLYENV || {};\n",
       "                    \n",
       "                if (document.getElementById(\"e8ffb300-bae9-4cd7-b443-81a331350be1\")) {\n",
       "                    Plotly.newPlot(\n",
       "                        'e8ffb300-bae9-4cd7-b443-81a331350be1',\n",
       "                        [{\"type\": \"bar\", \"x\": [\"Rice\", \"Maize\", \"Wheat\", \"Barly\", \"Millet\", \"Sorghum\"], \"y\": [0.3, 0.2, 0.3, 0.2, 0.1, 0.2]}],\n",
       "                        {\"barmode\": \"group\", \"template\": {\"data\": {\"bar\": [{\"error_x\": {\"color\": \"#2a3f5f\"}, \"error_y\": {\"color\": \"#2a3f5f\"}, \"marker\": {\"line\": {\"color\": \"#E5ECF6\", \"width\": 0.5}}, \"type\": \"bar\"}], \"barpolar\": [{\"marker\": {\"line\": {\"color\": \"#E5ECF6\", \"width\": 0.5}}, \"type\": \"barpolar\"}], \"carpet\": [{\"aaxis\": {\"endlinecolor\": \"#2a3f5f\", \"gridcolor\": \"white\", \"linecolor\": \"white\", \"minorgridcolor\": \"white\", \"startlinecolor\": \"#2a3f5f\"}, \"baxis\": {\"endlinecolor\": \"#2a3f5f\", \"gridcolor\": \"white\", \"linecolor\": \"white\", \"minorgridcolor\": \"white\", \"startlinecolor\": \"#2a3f5f\"}, \"type\": \"carpet\"}], \"choropleth\": [{\"colorbar\": {\"outlinewidth\": 0, \"ticks\": \"\"}, \"type\": \"choropleth\"}], \"contour\": [{\"colorbar\": {\"outlinewidth\": 0, \"ticks\": \"\"}, \"colorscale\": [[0.0, \"#0d0887\"], [0.1111111111111111, \"#46039f\"], [0.2222222222222222, \"#7201a8\"], [0.3333333333333333, \"#9c179e\"], [0.4444444444444444, \"#bd3786\"], [0.5555555555555556, \"#d8576b\"], [0.6666666666666666, \"#ed7953\"], [0.7777777777777778, \"#fb9f3a\"], [0.8888888888888888, \"#fdca26\"], [1.0, \"#f0f921\"]], \"type\": \"contour\"}], \"contourcarpet\": [{\"colorbar\": {\"outlinewidth\": 0, \"ticks\": \"\"}, \"type\": \"contourcarpet\"}], \"heatmap\": [{\"colorbar\": {\"outlinewidth\": 0, \"ticks\": \"\"}, \"colorscale\": [[0.0, \"#0d0887\"], [0.1111111111111111, \"#46039f\"], [0.2222222222222222, \"#7201a8\"], [0.3333333333333333, \"#9c179e\"], [0.4444444444444444, \"#bd3786\"], [0.5555555555555556, \"#d8576b\"], [0.6666666666666666, \"#ed7953\"], [0.7777777777777778, \"#fb9f3a\"], [0.8888888888888888, \"#fdca26\"], [1.0, \"#f0f921\"]], \"type\": \"heatmap\"}], \"heatmapgl\": [{\"colorbar\": {\"outlinewidth\": 0, \"ticks\": \"\"}, \"colorscale\": [[0.0, \"#0d0887\"], [0.1111111111111111, \"#46039f\"], [0.2222222222222222, \"#7201a8\"], [0.3333333333333333, \"#9c179e\"], [0.4444444444444444, \"#bd3786\"], [0.5555555555555556, \"#d8576b\"], [0.6666666666666666, \"#ed7953\"], [0.7777777777777778, \"#fb9f3a\"], [0.8888888888888888, \"#fdca26\"], [1.0, \"#f0f921\"]], \"type\": \"heatmapgl\"}], \"histogram\": [{\"marker\": {\"colorbar\": {\"outlinewidth\": 0, \"ticks\": \"\"}}, \"type\": \"histogram\"}], \"histogram2d\": [{\"colorbar\": {\"outlinewidth\": 0, \"ticks\": \"\"}, \"colorscale\": [[0.0, \"#0d0887\"], [0.1111111111111111, \"#46039f\"], [0.2222222222222222, \"#7201a8\"], [0.3333333333333333, \"#9c179e\"], [0.4444444444444444, \"#bd3786\"], [0.5555555555555556, \"#d8576b\"], [0.6666666666666666, \"#ed7953\"], [0.7777777777777778, \"#fb9f3a\"], [0.8888888888888888, \"#fdca26\"], [1.0, \"#f0f921\"]], \"type\": \"histogram2d\"}], \"histogram2dcontour\": [{\"colorbar\": {\"outlinewidth\": 0, \"ticks\": \"\"}, \"colorscale\": [[0.0, \"#0d0887\"], [0.1111111111111111, \"#46039f\"], [0.2222222222222222, \"#7201a8\"], [0.3333333333333333, \"#9c179e\"], [0.4444444444444444, \"#bd3786\"], [0.5555555555555556, \"#d8576b\"], [0.6666666666666666, \"#ed7953\"], [0.7777777777777778, \"#fb9f3a\"], [0.8888888888888888, \"#fdca26\"], [1.0, \"#f0f921\"]], \"type\": \"histogram2dcontour\"}], \"mesh3d\": [{\"colorbar\": {\"outlinewidth\": 0, \"ticks\": \"\"}, \"type\": \"mesh3d\"}], \"parcoords\": [{\"line\": {\"colorbar\": {\"outlinewidth\": 0, \"ticks\": \"\"}}, \"type\": \"parcoords\"}], \"pie\": [{\"automargin\": true, \"type\": \"pie\"}], \"scatter\": [{\"marker\": {\"colorbar\": {\"outlinewidth\": 0, \"ticks\": \"\"}}, \"type\": \"scatter\"}], \"scatter3d\": [{\"line\": {\"colorbar\": {\"outlinewidth\": 0, \"ticks\": \"\"}}, \"marker\": {\"colorbar\": {\"outlinewidth\": 0, \"ticks\": \"\"}}, \"type\": \"scatter3d\"}], \"scattercarpet\": [{\"marker\": {\"colorbar\": {\"outlinewidth\": 0, \"ticks\": \"\"}}, \"type\": \"scattercarpet\"}], \"scattergeo\": [{\"marker\": {\"colorbar\": {\"outlinewidth\": 0, \"ticks\": \"\"}}, \"type\": \"scattergeo\"}], \"scattergl\": [{\"marker\": {\"colorbar\": {\"outlinewidth\": 0, \"ticks\": \"\"}}, \"type\": \"scattergl\"}], \"scattermapbox\": [{\"marker\": {\"colorbar\": {\"outlinewidth\": 0, \"ticks\": \"\"}}, \"type\": \"scattermapbox\"}], \"scatterpolar\": [{\"marker\": {\"colorbar\": {\"outlinewidth\": 0, \"ticks\": \"\"}}, \"type\": \"scatterpolar\"}], \"scatterpolargl\": [{\"marker\": {\"colorbar\": {\"outlinewidth\": 0, \"ticks\": \"\"}}, \"type\": \"scatterpolargl\"}], \"scatterternary\": [{\"marker\": {\"colorbar\": {\"outlinewidth\": 0, \"ticks\": \"\"}}, \"type\": \"scatterternary\"}], \"surface\": [{\"colorbar\": {\"outlinewidth\": 0, \"ticks\": \"\"}, \"colorscale\": [[0.0, \"#0d0887\"], [0.1111111111111111, \"#46039f\"], [0.2222222222222222, \"#7201a8\"], [0.3333333333333333, \"#9c179e\"], [0.4444444444444444, \"#bd3786\"], [0.5555555555555556, \"#d8576b\"], [0.6666666666666666, \"#ed7953\"], [0.7777777777777778, \"#fb9f3a\"], [0.8888888888888888, \"#fdca26\"], [1.0, \"#f0f921\"]], \"type\": \"surface\"}], \"table\": [{\"cells\": {\"fill\": {\"color\": \"#EBF0F8\"}, \"line\": {\"color\": \"white\"}}, \"header\": {\"fill\": {\"color\": \"#C8D4E3\"}, \"line\": {\"color\": \"white\"}}, \"type\": \"table\"}]}, \"layout\": {\"annotationdefaults\": {\"arrowcolor\": \"#2a3f5f\", \"arrowhead\": 0, \"arrowwidth\": 1}, \"coloraxis\": {\"colorbar\": {\"outlinewidth\": 0, \"ticks\": \"\"}}, \"colorscale\": {\"diverging\": [[0, \"#8e0152\"], [0.1, \"#c51b7d\"], [0.2, \"#de77ae\"], [0.3, \"#f1b6da\"], [0.4, \"#fde0ef\"], [0.5, \"#f7f7f7\"], [0.6, \"#e6f5d0\"], [0.7, \"#b8e186\"], [0.8, \"#7fbc41\"], [0.9, \"#4d9221\"], [1, \"#276419\"]], \"sequential\": [[0.0, \"#0d0887\"], [0.1111111111111111, \"#46039f\"], [0.2222222222222222, \"#7201a8\"], [0.3333333333333333, \"#9c179e\"], [0.4444444444444444, \"#bd3786\"], [0.5555555555555556, \"#d8576b\"], [0.6666666666666666, \"#ed7953\"], [0.7777777777777778, \"#fb9f3a\"], [0.8888888888888888, \"#fdca26\"], [1.0, \"#f0f921\"]], \"sequentialminus\": [[0.0, \"#0d0887\"], [0.1111111111111111, \"#46039f\"], [0.2222222222222222, \"#7201a8\"], [0.3333333333333333, \"#9c179e\"], [0.4444444444444444, \"#bd3786\"], [0.5555555555555556, \"#d8576b\"], [0.6666666666666666, \"#ed7953\"], [0.7777777777777778, \"#fb9f3a\"], [0.8888888888888888, \"#fdca26\"], [1.0, \"#f0f921\"]]}, \"colorway\": [\"#636efa\", \"#EF553B\", \"#00cc96\", \"#ab63fa\", \"#FFA15A\", \"#19d3f3\", \"#FF6692\", \"#B6E880\", \"#FF97FF\", \"#FECB52\"], \"font\": {\"color\": \"#2a3f5f\"}, \"geo\": {\"bgcolor\": \"white\", \"lakecolor\": \"white\", \"landcolor\": \"#E5ECF6\", \"showlakes\": true, \"showland\": true, \"subunitcolor\": \"white\"}, \"hoverlabel\": {\"align\": \"left\"}, \"hovermode\": \"closest\", \"mapbox\": {\"style\": \"light\"}, \"paper_bgcolor\": \"white\", \"plot_bgcolor\": \"#E5ECF6\", \"polar\": {\"angularaxis\": {\"gridcolor\": \"white\", \"linecolor\": \"white\", \"ticks\": \"\"}, \"bgcolor\": \"#E5ECF6\", \"radialaxis\": {\"gridcolor\": \"white\", \"linecolor\": \"white\", \"ticks\": \"\"}}, \"scene\": {\"xaxis\": {\"backgroundcolor\": \"#E5ECF6\", \"gridcolor\": \"white\", \"gridwidth\": 2, \"linecolor\": \"white\", \"showbackground\": true, \"ticks\": \"\", \"zerolinecolor\": \"white\"}, \"yaxis\": {\"backgroundcolor\": \"#E5ECF6\", \"gridcolor\": \"white\", \"gridwidth\": 2, \"linecolor\": \"white\", \"showbackground\": true, \"ticks\": \"\", \"zerolinecolor\": \"white\"}, \"zaxis\": {\"backgroundcolor\": \"#E5ECF6\", \"gridcolor\": \"white\", \"gridwidth\": 2, \"linecolor\": \"white\", \"showbackground\": true, \"ticks\": \"\", \"zerolinecolor\": \"white\"}}, \"shapedefaults\": {\"line\": {\"color\": \"#2a3f5f\"}}, \"ternary\": {\"aaxis\": {\"gridcolor\": \"white\", \"linecolor\": \"white\", \"ticks\": \"\"}, \"baxis\": {\"gridcolor\": \"white\", \"linecolor\": \"white\", \"ticks\": \"\"}, \"bgcolor\": \"#E5ECF6\", \"caxis\": {\"gridcolor\": \"white\", \"linecolor\": \"white\", \"ticks\": \"\"}}, \"title\": {\"x\": 0.05}, \"xaxis\": {\"automargin\": true, \"gridcolor\": \"white\", \"linecolor\": \"white\", \"ticks\": \"\", \"title\": {\"standoff\": 15}, \"zerolinecolor\": \"white\", \"zerolinewidth\": 2}, \"yaxis\": {\"automargin\": true, \"gridcolor\": \"white\", \"linecolor\": \"white\", \"ticks\": \"\", \"title\": {\"standoff\": 15}, \"zerolinecolor\": \"white\", \"zerolinewidth\": 2}}}, \"title\": {\"text\": \"Temperature Effect on Crop Yield by Crop type\"}, \"xaxis\": {\"tickangle\": 45}},\n",
       "                        {\"responsive\": true}\n",
       "                    ).then(function(){\n",
       "                            \n",
       "var gd = document.getElementById('e8ffb300-bae9-4cd7-b443-81a331350be1');\n",
       "var x = new MutationObserver(function (mutations, observer) {{\n",
       "        var display = window.getComputedStyle(gd).display;\n",
       "        if (!display || display === 'none') {{\n",
       "            console.log([gd, 'removed!']);\n",
       "            Plotly.purge(gd);\n",
       "            observer.disconnect();\n",
       "        }}\n",
       "}});\n",
       "\n",
       "// Listen for the removal of the full notebook cells\n",
       "var notebookContainer = gd.closest('#notebook-container');\n",
       "if (notebookContainer) {{\n",
       "    x.observe(notebookContainer, {childList: true});\n",
       "}}\n",
       "\n",
       "// Listen for the clearing of the current output cell\n",
       "var outputEl = gd.closest('.output');\n",
       "if (outputEl) {{\n",
       "    x.observe(outputEl, {childList: true});\n",
       "}}\n",
       "\n",
       "                        })\n",
       "                };\n",
       "                });\n",
       "            </script>\n",
       "        </div>"
      ]
     },
     "metadata": {},
     "output_type": "display_data"
    }
   ],
   "source": [
    "import plotly.graph_objects as go\n",
    "crops = ['Rice', 'Maize','Wheat','Barly','Millet','Sorghum']\n",
    "\n",
    "fig = go.Figure(data=[\n",
    "    go.Bar(x=crops, y=[0.3,0.2,0.3,0.2,0.1,0.2]),\n",
    "   \n",
    "]).update_layout(barmode='group', xaxis_tickangle = 45, title= 'Temperature Effect on Crop Yield by Crop type')\n",
    "fig.show()"
   ]
  },
  {
   "cell_type": "markdown",
   "metadata": {},
   "source": [
    "##### Conclusion : climate change has an effect on crop production.It has the most effect on Wheat and Rice. And by region it has the highest effect in northern Africa and very low effect in North America and central Asia.\n",
    "    "
   ]
  }
 ],
 "metadata": {
  "kernelspec": {
   "display_name": "Python [conda env:learn-env] *",
   "language": "python",
   "name": "conda-env-learn-env-py"
  },
  "language_info": {
   "codemirror_mode": {
    "name": "ipython",
    "version": 3
   },
   "file_extension": ".py",
   "mimetype": "text/x-python",
   "name": "python",
   "nbconvert_exporter": "python",
   "pygments_lexer": "ipython3",
   "version": "3.6.6"
  },
  "toc": {
   "base_numbering": 1,
   "nav_menu": {},
   "number_sections": true,
   "sideBar": true,
   "skip_h1_title": false,
   "title_cell": "Table of Contents",
   "title_sidebar": "Contents",
   "toc_cell": false,
   "toc_position": {
    "height": "calc(100% - 180px)",
    "left": "10px",
    "top": "150px",
    "width": "426.667px"
   },
   "toc_section_display": true,
   "toc_window_display": false
  }
 },
 "nbformat": 4,
 "nbformat_minor": 2
}
